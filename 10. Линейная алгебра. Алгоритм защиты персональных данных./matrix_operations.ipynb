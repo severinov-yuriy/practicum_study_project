{
 "cells": [
  {
   "cell_type": "markdown",
   "metadata": {
    "toc": true
   },
   "source": [
    "<h1>Содержание<span class=\"tocSkip\"></span></h1>\n",
    "<div class=\"toc\"><ul class=\"toc-item\"><li><ul class=\"toc-item\"><li><span><a href=\"#Подготовка-окружения\" data-toc-modified-id=\"Подготовка-окружения-0.1\"><span class=\"toc-item-num\">0.1&nbsp;&nbsp;</span>Подготовка окружения</a></span></li></ul></li><li><span><a href=\"#Загрузка-данных\" data-toc-modified-id=\"Загрузка-данных-1\"><span class=\"toc-item-num\">1&nbsp;&nbsp;</span>Загрузка данных</a></span></li><li><span><a href=\"#Умножение-матриц\" data-toc-modified-id=\"Умножение-матриц-2\"><span class=\"toc-item-num\">2&nbsp;&nbsp;</span>Умножение матриц</a></span><ul class=\"toc-item\"><li><span><a href=\"#Ответьте-на-вопрос-и-обоснуйте-решение\" data-toc-modified-id=\"Ответьте-на-вопрос-и-обоснуйте-решение-2.1\"><span class=\"toc-item-num\">2.1&nbsp;&nbsp;</span>Ответьте на вопрос и обоснуйте решение</a></span></li></ul></li><li><span><a href=\"#Алгоритм-преобразования\" data-toc-modified-id=\"Алгоритм-преобразования-3\"><span class=\"toc-item-num\">3&nbsp;&nbsp;</span>Алгоритм преобразования</a></span></li><li><span><a href=\"#Проверка-алгоритма\" data-toc-modified-id=\"Проверка-алгоритма-4\"><span class=\"toc-item-num\">4&nbsp;&nbsp;</span>Проверка алгоритма</a></span></li><li><span><a href=\"#Чек-лист-проверки\" data-toc-modified-id=\"Чек-лист-проверки-5\"><span class=\"toc-item-num\">5&nbsp;&nbsp;</span>Чек-лист проверки</a></span></li></ul></div>"
   ]
  },
  {
   "cell_type": "markdown",
   "metadata": {},
   "source": [
    "# Защита персональных данных клиентов"
   ]
  },
  {
   "cell_type": "markdown",
   "metadata": {},
   "source": [
    "Вам нужно защитить данные клиентов страховой компании «Хоть потоп». Разработайте такой метод преобразования данных, чтобы по ним было сложно восстановить персональную информацию. Обоснуйте корректность его работы.\n",
    "\n",
    "Нужно защитить данные, чтобы при преобразовании качество моделей машинного обучения не ухудшилось. Подбирать наилучшую модель не требуется.\n",
    "\n",
    "\n",
    "__Описание данных:__\n",
    "- Набор данных находится в файле /datasets/insurance.csv.\n",
    "- Признаки: пол, возраст и зарплата застрахованного, количество членов его семьи.\n",
    "- Целевой признак: количество страховых выплат клиенту за последние 5 лет."
   ]
  },
  {
   "cell_type": "markdown",
   "metadata": {},
   "source": [
    "### Подготовка окружения"
   ]
  },
  {
   "cell_type": "markdown",
   "metadata": {},
   "source": [
    "Загрузим все необходимые библиотеки."
   ]
  },
  {
   "cell_type": "code",
   "execution_count": 1,
   "metadata": {},
   "outputs": [],
   "source": [
    "import pandas as pd\n",
    "import matplotlib.pyplot as plt\n",
    "import numpy as np\n",
    "from random import randint\n",
    "from sklearn.linear_model import LinearRegression\n",
    "from sklearn.model_selection import train_test_split\n",
    "from sklearn.metrics import mean_squared_error\n",
    "from sklearn.metrics import r2_score"
   ]
  },
  {
   "cell_type": "markdown",
   "metadata": {},
   "source": [
    "## Загрузка данных"
   ]
  },
  {
   "cell_type": "markdown",
   "metadata": {},
   "source": [
    "Загрузим данные и отобразим их и обзорную и статистическую информацию по ним."
   ]
  },
  {
   "cell_type": "code",
   "execution_count": 2,
   "metadata": {},
   "outputs": [],
   "source": [
    "data = pd.read_csv('-') # Прямая ссылка на датасет удалена в связи с правилами публикации проектов"
   ]
  },
  {
   "cell_type": "markdown",
   "metadata": {},
   "source": [
    "Оотобразим первые и последние строки данных и обзорную информацию по ним."
   ]
  },
  {
   "cell_type": "code",
   "execution_count": 3,
   "metadata": {
    "scrolled": false
   },
   "outputs": [
    {
     "data": {
      "text/html": [
       "<div>\n",
       "<style scoped>\n",
       "    .dataframe tbody tr th:only-of-type {\n",
       "        vertical-align: middle;\n",
       "    }\n",
       "\n",
       "    .dataframe tbody tr th {\n",
       "        vertical-align: top;\n",
       "    }\n",
       "\n",
       "    .dataframe thead th {\n",
       "        text-align: right;\n",
       "    }\n",
       "</style>\n",
       "<table border=\"1\" class=\"dataframe\">\n",
       "  <thead>\n",
       "    <tr style=\"text-align: right;\">\n",
       "      <th></th>\n",
       "      <th>Пол</th>\n",
       "      <th>Возраст</th>\n",
       "      <th>Зарплата</th>\n",
       "      <th>Члены семьи</th>\n",
       "      <th>Страховые выплаты</th>\n",
       "    </tr>\n",
       "  </thead>\n",
       "  <tbody>\n",
       "    <tr>\n",
       "      <th>0</th>\n",
       "      <td>1</td>\n",
       "      <td>41.0</td>\n",
       "      <td>49600.0</td>\n",
       "      <td>1</td>\n",
       "      <td>0</td>\n",
       "    </tr>\n",
       "    <tr>\n",
       "      <th>1</th>\n",
       "      <td>0</td>\n",
       "      <td>46.0</td>\n",
       "      <td>38000.0</td>\n",
       "      <td>1</td>\n",
       "      <td>1</td>\n",
       "    </tr>\n",
       "    <tr>\n",
       "      <th>2</th>\n",
       "      <td>0</td>\n",
       "      <td>29.0</td>\n",
       "      <td>21000.0</td>\n",
       "      <td>0</td>\n",
       "      <td>0</td>\n",
       "    </tr>\n",
       "    <tr>\n",
       "      <th>3</th>\n",
       "      <td>0</td>\n",
       "      <td>21.0</td>\n",
       "      <td>41700.0</td>\n",
       "      <td>2</td>\n",
       "      <td>0</td>\n",
       "    </tr>\n",
       "    <tr>\n",
       "      <th>4</th>\n",
       "      <td>1</td>\n",
       "      <td>28.0</td>\n",
       "      <td>26100.0</td>\n",
       "      <td>0</td>\n",
       "      <td>0</td>\n",
       "    </tr>\n",
       "    <tr>\n",
       "      <th>...</th>\n",
       "      <td>...</td>\n",
       "      <td>...</td>\n",
       "      <td>...</td>\n",
       "      <td>...</td>\n",
       "      <td>...</td>\n",
       "    </tr>\n",
       "    <tr>\n",
       "      <th>4995</th>\n",
       "      <td>0</td>\n",
       "      <td>28.0</td>\n",
       "      <td>35700.0</td>\n",
       "      <td>2</td>\n",
       "      <td>0</td>\n",
       "    </tr>\n",
       "    <tr>\n",
       "      <th>4996</th>\n",
       "      <td>0</td>\n",
       "      <td>34.0</td>\n",
       "      <td>52400.0</td>\n",
       "      <td>1</td>\n",
       "      <td>0</td>\n",
       "    </tr>\n",
       "    <tr>\n",
       "      <th>4997</th>\n",
       "      <td>0</td>\n",
       "      <td>20.0</td>\n",
       "      <td>33900.0</td>\n",
       "      <td>2</td>\n",
       "      <td>0</td>\n",
       "    </tr>\n",
       "    <tr>\n",
       "      <th>4998</th>\n",
       "      <td>1</td>\n",
       "      <td>22.0</td>\n",
       "      <td>32700.0</td>\n",
       "      <td>3</td>\n",
       "      <td>0</td>\n",
       "    </tr>\n",
       "    <tr>\n",
       "      <th>4999</th>\n",
       "      <td>1</td>\n",
       "      <td>28.0</td>\n",
       "      <td>40600.0</td>\n",
       "      <td>1</td>\n",
       "      <td>0</td>\n",
       "    </tr>\n",
       "  </tbody>\n",
       "</table>\n",
       "<p>5000 rows × 5 columns</p>\n",
       "</div>"
      ],
      "text/plain": [
       "      Пол  Возраст  Зарплата  Члены семьи  Страховые выплаты\n",
       "0       1     41.0   49600.0            1                  0\n",
       "1       0     46.0   38000.0            1                  1\n",
       "2       0     29.0   21000.0            0                  0\n",
       "3       0     21.0   41700.0            2                  0\n",
       "4       1     28.0   26100.0            0                  0\n",
       "...   ...      ...       ...          ...                ...\n",
       "4995    0     28.0   35700.0            2                  0\n",
       "4996    0     34.0   52400.0            1                  0\n",
       "4997    0     20.0   33900.0            2                  0\n",
       "4998    1     22.0   32700.0            3                  0\n",
       "4999    1     28.0   40600.0            1                  0\n",
       "\n",
       "[5000 rows x 5 columns]"
      ]
     },
     "execution_count": 3,
     "metadata": {},
     "output_type": "execute_result"
    }
   ],
   "source": [
    "data"
   ]
  },
  {
   "cell_type": "code",
   "execution_count": 4,
   "metadata": {},
   "outputs": [
    {
     "name": "stdout",
     "output_type": "stream",
     "text": [
      "<class 'pandas.core.frame.DataFrame'>\n",
      "RangeIndex: 5000 entries, 0 to 4999\n",
      "Data columns (total 5 columns):\n",
      " #   Column             Non-Null Count  Dtype  \n",
      "---  ------             --------------  -----  \n",
      " 0   Пол                5000 non-null   int64  \n",
      " 1   Возраст            5000 non-null   float64\n",
      " 2   Зарплата           5000 non-null   float64\n",
      " 3   Члены семьи        5000 non-null   int64  \n",
      " 4   Страховые выплаты  5000 non-null   int64  \n",
      "dtypes: float64(2), int64(3)\n",
      "memory usage: 195.4 KB\n"
     ]
    }
   ],
   "source": [
    "data.info()"
   ]
  },
  {
   "cell_type": "markdown",
   "metadata": {},
   "source": [
    "Отобразим статистическую информацию о данных."
   ]
  },
  {
   "cell_type": "code",
   "execution_count": 5,
   "metadata": {
    "scrolled": true
   },
   "outputs": [
    {
     "data": {
      "text/html": [
       "<div>\n",
       "<style scoped>\n",
       "    .dataframe tbody tr th:only-of-type {\n",
       "        vertical-align: middle;\n",
       "    }\n",
       "\n",
       "    .dataframe tbody tr th {\n",
       "        vertical-align: top;\n",
       "    }\n",
       "\n",
       "    .dataframe thead th {\n",
       "        text-align: right;\n",
       "    }\n",
       "</style>\n",
       "<table border=\"1\" class=\"dataframe\">\n",
       "  <thead>\n",
       "    <tr style=\"text-align: right;\">\n",
       "      <th></th>\n",
       "      <th>count</th>\n",
       "      <th>mean</th>\n",
       "      <th>std</th>\n",
       "      <th>min</th>\n",
       "      <th>25%</th>\n",
       "      <th>50%</th>\n",
       "      <th>75%</th>\n",
       "      <th>max</th>\n",
       "    </tr>\n",
       "  </thead>\n",
       "  <tbody>\n",
       "    <tr>\n",
       "      <th>Пол</th>\n",
       "      <td>5000.0</td>\n",
       "      <td>0.4990</td>\n",
       "      <td>0.500049</td>\n",
       "      <td>0.0</td>\n",
       "      <td>0.0</td>\n",
       "      <td>0.0</td>\n",
       "      <td>1.0</td>\n",
       "      <td>1.0</td>\n",
       "    </tr>\n",
       "    <tr>\n",
       "      <th>Возраст</th>\n",
       "      <td>5000.0</td>\n",
       "      <td>30.9528</td>\n",
       "      <td>8.440807</td>\n",
       "      <td>18.0</td>\n",
       "      <td>24.0</td>\n",
       "      <td>30.0</td>\n",
       "      <td>37.0</td>\n",
       "      <td>65.0</td>\n",
       "    </tr>\n",
       "    <tr>\n",
       "      <th>Зарплата</th>\n",
       "      <td>5000.0</td>\n",
       "      <td>39916.3600</td>\n",
       "      <td>9900.083569</td>\n",
       "      <td>5300.0</td>\n",
       "      <td>33300.0</td>\n",
       "      <td>40200.0</td>\n",
       "      <td>46600.0</td>\n",
       "      <td>79000.0</td>\n",
       "    </tr>\n",
       "    <tr>\n",
       "      <th>Члены семьи</th>\n",
       "      <td>5000.0</td>\n",
       "      <td>1.1942</td>\n",
       "      <td>1.091387</td>\n",
       "      <td>0.0</td>\n",
       "      <td>0.0</td>\n",
       "      <td>1.0</td>\n",
       "      <td>2.0</td>\n",
       "      <td>6.0</td>\n",
       "    </tr>\n",
       "    <tr>\n",
       "      <th>Страховые выплаты</th>\n",
       "      <td>5000.0</td>\n",
       "      <td>0.1480</td>\n",
       "      <td>0.463183</td>\n",
       "      <td>0.0</td>\n",
       "      <td>0.0</td>\n",
       "      <td>0.0</td>\n",
       "      <td>0.0</td>\n",
       "      <td>5.0</td>\n",
       "    </tr>\n",
       "  </tbody>\n",
       "</table>\n",
       "</div>"
      ],
      "text/plain": [
       "                    count        mean          std     min      25%      50%  \\\n",
       "Пол                5000.0      0.4990     0.500049     0.0      0.0      0.0   \n",
       "Возраст            5000.0     30.9528     8.440807    18.0     24.0     30.0   \n",
       "Зарплата           5000.0  39916.3600  9900.083569  5300.0  33300.0  40200.0   \n",
       "Члены семьи        5000.0      1.1942     1.091387     0.0      0.0      1.0   \n",
       "Страховые выплаты  5000.0      0.1480     0.463183     0.0      0.0      0.0   \n",
       "\n",
       "                       75%      max  \n",
       "Пол                    1.0      1.0  \n",
       "Возраст               37.0     65.0  \n",
       "Зарплата           46600.0  79000.0  \n",
       "Члены семьи            2.0      6.0  \n",
       "Страховые выплаты      0.0      5.0  "
      ]
     },
     "execution_count": 5,
     "metadata": {},
     "output_type": "execute_result"
    }
   ],
   "source": [
    "data.describe().T"
   ]
  },
  {
   "cell_type": "markdown",
   "metadata": {},
   "source": [
    "Проверим, есть и в данных дублирующиеся значения."
   ]
  },
  {
   "cell_type": "code",
   "execution_count": 6,
   "metadata": {},
   "outputs": [],
   "source": [
    "data = data.drop_duplicates().reset_index(drop=True)"
   ]
  },
  {
   "cell_type": "code",
   "execution_count": 7,
   "metadata": {
    "scrolled": true
   },
   "outputs": [
    {
     "data": {
      "text/html": [
       "<div>\n",
       "<style scoped>\n",
       "    .dataframe tbody tr th:only-of-type {\n",
       "        vertical-align: middle;\n",
       "    }\n",
       "\n",
       "    .dataframe tbody tr th {\n",
       "        vertical-align: top;\n",
       "    }\n",
       "\n",
       "    .dataframe thead th {\n",
       "        text-align: right;\n",
       "    }\n",
       "</style>\n",
       "<table border=\"1\" class=\"dataframe\">\n",
       "  <thead>\n",
       "    <tr style=\"text-align: right;\">\n",
       "      <th></th>\n",
       "      <th>count</th>\n",
       "      <th>mean</th>\n",
       "      <th>std</th>\n",
       "      <th>min</th>\n",
       "      <th>25%</th>\n",
       "      <th>50%</th>\n",
       "      <th>75%</th>\n",
       "      <th>max</th>\n",
       "    </tr>\n",
       "  </thead>\n",
       "  <tbody>\n",
       "    <tr>\n",
       "      <th>Пол</th>\n",
       "      <td>4847.0</td>\n",
       "      <td>0.498453</td>\n",
       "      <td>0.500049</td>\n",
       "      <td>0.0</td>\n",
       "      <td>0.0</td>\n",
       "      <td>0.0</td>\n",
       "      <td>1.0</td>\n",
       "      <td>1.0</td>\n",
       "    </tr>\n",
       "    <tr>\n",
       "      <th>Возраст</th>\n",
       "      <td>4847.0</td>\n",
       "      <td>31.023932</td>\n",
       "      <td>8.487995</td>\n",
       "      <td>18.0</td>\n",
       "      <td>24.0</td>\n",
       "      <td>30.0</td>\n",
       "      <td>37.0</td>\n",
       "      <td>65.0</td>\n",
       "    </tr>\n",
       "    <tr>\n",
       "      <th>Зарплата</th>\n",
       "      <td>4847.0</td>\n",
       "      <td>39895.811842</td>\n",
       "      <td>9972.953985</td>\n",
       "      <td>5300.0</td>\n",
       "      <td>33200.0</td>\n",
       "      <td>40200.0</td>\n",
       "      <td>46600.0</td>\n",
       "      <td>79000.0</td>\n",
       "    </tr>\n",
       "    <tr>\n",
       "      <th>Члены семьи</th>\n",
       "      <td>4847.0</td>\n",
       "      <td>1.203425</td>\n",
       "      <td>1.098664</td>\n",
       "      <td>0.0</td>\n",
       "      <td>0.0</td>\n",
       "      <td>1.0</td>\n",
       "      <td>2.0</td>\n",
       "      <td>6.0</td>\n",
       "    </tr>\n",
       "    <tr>\n",
       "      <th>Страховые выплаты</th>\n",
       "      <td>4847.0</td>\n",
       "      <td>0.152259</td>\n",
       "      <td>0.468934</td>\n",
       "      <td>0.0</td>\n",
       "      <td>0.0</td>\n",
       "      <td>0.0</td>\n",
       "      <td>0.0</td>\n",
       "      <td>5.0</td>\n",
       "    </tr>\n",
       "  </tbody>\n",
       "</table>\n",
       "</div>"
      ],
      "text/plain": [
       "                    count          mean          std     min      25%  \\\n",
       "Пол                4847.0      0.498453     0.500049     0.0      0.0   \n",
       "Возраст            4847.0     31.023932     8.487995    18.0     24.0   \n",
       "Зарплата           4847.0  39895.811842  9972.953985  5300.0  33200.0   \n",
       "Члены семьи        4847.0      1.203425     1.098664     0.0      0.0   \n",
       "Страховые выплаты  4847.0      0.152259     0.468934     0.0      0.0   \n",
       "\n",
       "                       50%      75%      max  \n",
       "Пол                    0.0      1.0      1.0  \n",
       "Возраст               30.0     37.0     65.0  \n",
       "Зарплата           40200.0  46600.0  79000.0  \n",
       "Члены семьи            1.0      2.0      6.0  \n",
       "Страховые выплаты      0.0      0.0      5.0  "
      ]
     },
     "execution_count": 7,
     "metadata": {},
     "output_type": "execute_result"
    }
   ],
   "source": [
    "data.describe().T"
   ]
  },
  {
   "cell_type": "code",
   "execution_count": 8,
   "metadata": {},
   "outputs": [
    {
     "data": {
      "image/png": "[encoded data removed]",
      "text/plain": [
       "<Figure size 1080x504 with 6 Axes>"
      ]
     },
     "metadata": {
      "needs_background": "light"
     },
     "output_type": "display_data"
    }
   ],
   "source": [
    "data.hist(figsize=(15, 7), bins=24)\n",
    "plt.show()"
   ]
  },
  {
   "cell_type": "markdown",
   "metadata": {},
   "source": [
    "Все данные хранятся в числовом формате и не содержат пропусков. Однако в данных были дубликаты,удаление которых, однако, не слишком повлияло на статистические показатели. В данных значение пола сбалансировано, целевой признак, напротив, слишком тяготеет к нулю."
   ]
  },
  {
   "cell_type": "markdown",
   "metadata": {},
   "source": [
    "## Умножение матриц"
   ]
  },
  {
   "cell_type": "markdown",
   "metadata": {},
   "source": [
    "В этом задании вы можете записывать формулы в *Jupyter Notebook.*\n",
    "\n",
    "Чтобы записать формулу внутри текста, окружите её символами доллара \\\\$; если снаружи —  двойными символами \\\\$\\\\$. Эти формулы записываются на языке вёрстки *LaTeX.* \n",
    "\n",
    "Для примера мы записали формулы линейной регрессии. Можете их скопировать и отредактировать, чтобы решить задачу.\n",
    "\n",
    "Работать в *LaTeX* необязательно."
   ]
  },
  {
   "cell_type": "markdown",
   "metadata": {},
   "source": [
    "Обозначения:\n",
    "\n",
    "- $X$ — матрица признаков (нулевой столбец состоит из единиц)\n",
    "\n",
    "- $y$ — вектор целевого признака\n",
    "\n",
    "- $P$ — матрица, на которую умножаются признаки\n",
    "\n",
    "- $w$ — вектор весов линейной регрессии (нулевой элемент равен сдвигу)"
   ]
  },
  {
   "cell_type": "markdown",
   "metadata": {},
   "source": [
    "Предсказания:\n",
    "\n",
    "$$\n",
    "a = Xw\n",
    "$$\n",
    "\n",
    "Задача обучения:\n",
    "\n",
    "$$\n",
    "w = \\arg\\min_w MSE(Xw, y)\n",
    "$$\n",
    "\n",
    "Формула обучения:\n",
    "\n",
    "$$\n",
    "w = (X^T X)^{-1} X^T y\n",
    "$$"
   ]
  },
  {
   "cell_type": "markdown",
   "metadata": {},
   "source": [
    "### Ответьте на вопрос и обоснуйте решение"
   ]
  },
  {
   "cell_type": "markdown",
   "metadata": {},
   "source": [
    "__Признаки умножают на обратимую матрицу. Изменится ли качество линейной регрессии?__"
   ]
  },
  {
   "cell_type": "markdown",
   "metadata": {},
   "source": [
    "Качество линейной регрессии изменится, однако незначительно, так как признаки будут умножаться как тренировочные, так и тестовые, соответственно модель будет изначально обучаться на искаженных данных.\n",
    "\n",
    "Проверим это предположение. Сформируем случайную матрицу и обратную к ней для проверки того, что матрица действительно является обратимой."
   ]
  },
  {
   "cell_type": "code",
   "execution_count": 9,
   "metadata": {},
   "outputs": [
    {
     "name": "stdout",
     "output_type": "stream",
     "text": [
      "Исходная случайная матрица:\n",
      " [[55216 95513  3364 13254]\n",
      " [30243 47099 90285 37778]\n",
      " [70938 41509 10051  4337]\n",
      " [13544 10474 34289  2613]]\n",
      "\n",
      "Матрица, обратная к исходной:\n",
      " [[-9.52340061e-06  1.38170626e-06  2.27075571e-05 -9.35997802e-06]\n",
      " [ 1.77910110e-05 -5.77546304e-06 -1.47833004e-05  1.77950851e-05]\n",
      " [-6.88964432e-07 -1.54446547e-06 -5.46887098e-06  3.49012034e-05]\n",
      " [-1.29101452e-05  3.62558541e-05  1.33223313e-05 -9.81023888e-05]] \n",
      "\n",
      "Единичная матрица, получившаяся в результате перемножения исходной и обратной матриц:\n"
     ]
    },
    {
     "data": {
      "text/plain": [
       "array([[ 1.,  0., -0.,  0.],\n",
       "       [ 0.,  1.,  0., -0.],\n",
       "       [-0., -0.,  1., -0.],\n",
       "       [ 0.,  0.,  0.,  1.]])"
      ]
     },
     "execution_count": 9,
     "metadata": {},
     "output_type": "execute_result"
    }
   ],
   "source": [
    "matrix = np.array([[randint(100,100000) for i in range(4)] for i in range(4)])\n",
    "inverse_matrix = np.linalg.inv(matrix)\n",
    "print('Исходная случайная матрица:\\n', matrix)\n",
    "print('\\nМатрица, обратная к исходной:\\n', inverse_matrix, '\\n\\nЕдиничная матрица, получившаяся в результате перемножения исходной и обратной матриц:')\n",
    "inverse_matrix.dot(matrix).round(5)"
   ]
  },
  {
   "cell_type": "markdown",
   "metadata": {},
   "source": [
    "Сформируем набор признаков и целевой признак и умножим целевой признак на обратимую матрицу."
   ]
  },
  {
   "cell_type": "code",
   "execution_count": 10,
   "metadata": {},
   "outputs": [],
   "source": [
    "features = data.drop('Страховые выплаты', axis=1)\n",
    "target = data['Страховые выплаты']"
   ]
  },
  {
   "cell_type": "code",
   "execution_count": 11,
   "metadata": {},
   "outputs": [],
   "source": [
    "features_multiplied = features.dot(matrix)"
   ]
  },
  {
   "cell_type": "markdown",
   "metadata": {},
   "source": [
    "Сформируем обучающие и тестовые датасеты для обычного обучения и с признаками, умноженными на матрицу."
   ]
  },
  {
   "cell_type": "code",
   "execution_count": 12,
   "metadata": {},
   "outputs": [],
   "source": [
    "(features_train, features_test,\n",
    " target_train, target_test) = train_test_split(features,\n",
    "                                               target,\n",
    "                                               test_size=.25,\n",
    "                                               random_state=12345)\n",
    "(features_multiplied_train,\n",
    " features_multiplied_test) = (features_multiplied.loc[features_train.index],\n",
    "                              features_multiplied.loc[features_test.index])"
   ]
  },
  {
   "cell_type": "markdown",
   "metadata": {},
   "source": [
    "Обучим модель линейной регрессии на обычных и трансформированных данных."
   ]
  },
  {
   "cell_type": "code",
   "execution_count": 13,
   "metadata": {},
   "outputs": [],
   "source": [
    "model = LinearRegression()"
   ]
  },
  {
   "cell_type": "code",
   "execution_count": 14,
   "metadata": {
    "scrolled": true
   },
   "outputs": [
    {
     "name": "stdout",
     "output_type": "stream",
     "text": [
      "0.42307727492147584\n"
     ]
    },
    {
     "data": {
      "text/plain": [
       "0.11955009374099854"
      ]
     },
     "execution_count": 14,
     "metadata": {},
     "output_type": "execute_result"
    }
   ],
   "source": [
    "model.fit(features_train, target_train)\n",
    "predictions = model.predict(features_test)\n",
    "print(r2_score(target_test, predictions))\n",
    "mean_squared_error(target_test, predictions)"
   ]
  },
  {
   "cell_type": "code",
   "execution_count": 15,
   "metadata": {
    "scrolled": true
   },
   "outputs": [
    {
     "name": "stdout",
     "output_type": "stream",
     "text": [
      "0.4241846333130991\n"
     ]
    },
    {
     "data": {
      "text/plain": [
       "0.1193206266152142"
      ]
     },
     "execution_count": 15,
     "metadata": {},
     "output_type": "execute_result"
    }
   ],
   "source": [
    "model.fit(features_multiplied, target)\n",
    "predictions = model.predict(features_multiplied_test)\n",
    "print(r2_score(target_test, predictions))\n",
    "mean_squared_error(target_test, predictions)"
   ]
  },
  {
   "cell_type": "markdown",
   "metadata": {},
   "source": [
    "**Ответ:** Результаты обучения и работы модели изменились, но незначительно, на уровне сотых. Можно считать, что умножение на обратимую матрицу не влияет на результат работы модели.\n",
    "\n",
    "**Обоснование:** Согласно формулам ниже, умножение матрицы признаков на обратимую марицу не влияет на результат предсказания. За счет того, что обучающая выборка также умножается на эту матрицу, обратная матрица, оставшаяся в формуле обучения сокращается с матрицей из формулы предсказания."
   ]
  },
  {
   "cell_type": "markdown",
   "metadata": {},
   "source": [
    "Формула обучения:\n",
    "\n",
    "$$\n",
    "w = ((ZX)^T X Z)^{-1} (ZX)^T y =\n",
    "$$\n",
    "\n",
    "$$\n",
    "(X^T X Z Z^T)^{-1} X^T Z^T y =\n",
    "$$\n",
    "\n",
    "$$\n",
    "Z^{-1} (Z^T)^{-1} Z^T (X^T X)^{-1} X^T y = \n",
    "$$\n",
    "\n",
    "$$\n",
    "Z^{-1} E (X^T X)^{-1} X^T y = \n",
    "$$\n",
    "\n",
    "$$\n",
    "Z^{-1} (X^T X)^{-1} X^T y\n",
    "$$\n",
    "\n",
    "Предсказания:\n",
    "\n",
    "$$\n",
    "a = XZw\n",
    "$$\n",
    "\n",
    "$$\n",
    "= X Z Z^{-1} (X^T X)^{-1} X^T y\n",
    "$$\n",
    "\n",
    "$$\n",
    "= X (X^T X)^{-1} X^T y\n",
    "$$"
   ]
  },
  {
   "cell_type": "markdown",
   "metadata": {},
   "source": [
    "**Обоснование:**\n",
    "\n",
    "Используемые свойства:\n",
    "$$\n",
    "(AB)^T=B^T A^T\n",
    "$$\n",
    "$$\n",
    "(AB)^{-1} = B^{-1} A^{-1}\n",
    "$$\n",
    "$$\n",
    "A A^{-1} = A^{-1} A = E\n",
    "$$\n",
    "$$\n",
    "AE = EA = A\n",
    "$$\n",
    "Доказательство:\n",
    "$$\n",
    "a = Xw = XEw = XPP^{-1}w = (XP)P^{-1}w = (XP)w'\n",
    "$$\n",
    "\\\n",
    "$$\n",
    "w = (X^T X)^{-1} X^T y\n",
    "$$\n",
    "\\\n",
    "$$\n",
    "w' = P^{-1}w = P^{-1}(X^T X)^{-1} X^T y\n",
    "$$\n",
    "\\\n",
    "$$\n",
    "w' = P^{-1}((XE)^T XE)^{-1} (XE)^T y = \n",
    "$$\n",
    "$$\n",
    "= P^{-1}(E^T X^T X E)^{-1} (XE)^T y = \n",
    "$$\n",
    "$$\n",
    "= P^{-1}((P^{-1})^T P^T X^T X P P^{-1})^{-1} (XPP^{-1})^T y = \n",
    "$$\n",
    "$$\n",
    "= P^{-1}((P^{-1})^T (XP)^T (XP) P^{-1})^{-1} (XPP^{-1})^T y = \n",
    "$$\n",
    "$$\n",
    "= P^{-1} P ((XP)^T (XP))^{-1} ((P^{-1})^T)^{-1} (P^{-1})^T (XP)^T y =\n",
    "$$\n",
    "$$\n",
    "= P^{-1} P ((XP)^T(XP))^{-1} ((P^T)^{-1})^{-1} (P^T)^{-1} (XP)^T y =\n",
    "$$\n",
    "$$\n",
    "= P^{-1} P ((XP)^T(XP))^{-1} P^T (P^T)^{-1} (XP)^T y =\n",
    "$$\n",
    "$$\n",
    "= E ((XP)^T(XP))^{-1} E (XP)^T y =\n",
    "$$\n",
    "$$\n",
    "= ((XP)^T(XP))^{-1} (XP)^T y \n",
    "$$\n",
    "\n",
    "\\\n",
    "$$\n",
    "a = (XP)w'\n",
    "$$\n",
    "\\\n",
    "$$\n",
    "a = X P ((XP)^T(XP))^{-1} (XP)^T y \n",
    "$$\n",
    "$$\n",
    "= X P (P^T X^T X P)^{-1} P^T X^T y \n",
    "$$\n",
    "$$\n",
    "= X P P^{-1} (X^T X)^{-1} (P^T)^{-1} P^T X^T y \n",
    "$$\n",
    "$$\n",
    "= X E (X^T X)^{-1} E X^T y \n",
    "$$\n",
    "$$\n",
    "= X (X^T X)^{-1} X^T y \n",
    "$$\n",
    "$$\n",
    "= Xw\n",
    "$$\n",
    "\n",
    "\n",
    "Таким образом умножение признаковой матрицы на обратимую не приведет к изменению обученной модели."
   ]
  },
  {
   "cell_type": "markdown",
   "metadata": {},
   "source": [
    "**Обоснование:**\n",
    "\n",
    "Используемые свойства:\n",
    "$$\n",
    "(AB)^T=B^T A^T\n",
    "$$\n",
    "$$\n",
    "(AB)^{-1} = B^{-1} A^{-1}\n",
    "$$\n",
    "$$\n",
    "A A^{-1} = A^{-1} A = E\n",
    "$$\n",
    "$$\n",
    "AE = EA = A\n",
    "$$\n",
    "Доказательство:\n",
    "$$\n",
    "a = Xw = XEw = XPP^{-1}w = (XP)P^{-1}w = (XP)w'\n",
    "$$\n",
    "\\\n",
    "$$\n",
    "w = (X^T X)^{-1} X^T y\n",
    "$$\n",
    "\\\n",
    "$$\n",
    "w' = ((XP)^T XP)^{-1} (XP)^T y\n",
    "$$\n",
    "$$\n",
    "w' = (P^T (X^T X) P)^{-1} (XP)^T y\n",
    "$$\n",
    "$$\n",
    "w' = (P^T (X^T X) P)^{-1} P^T X^T y\n",
    "$$\n",
    "$$\n",
    "w' = P^{-1} (X^T X)^{-1} (P^T)^{-1} P^T X^T y\n",
    "$$\n",
    "$$\n",
    "w' = P^{-1} (X^T X)^{-1} E X^T y\n",
    "$$\n",
    "\\\n",
    "$$\n",
    "w' = P^{-1}w\n",
    "$$\n",
    "\n",
    "Что и требовалось доказать"
   ]
  },
  {
   "cell_type": "markdown",
   "metadata": {},
   "source": [
    "## Алгоритм преобразования"
   ]
  },
  {
   "cell_type": "markdown",
   "metadata": {},
   "source": [
    "**Алгоритм**\n",
    "\n",
    "Для шифрования используем 4х4 обратимую матрицу. Из примера выше следует, что такая матрица не должна повлиять на результаты обучения.\n",
    "\n",
    "Умножим исходную матрицу признаков на обратимую и получим матрицу признаков, по которой невозможно востановить иссходную без информации об обратимой матрице."
   ]
  },
  {
   "cell_type": "markdown",
   "metadata": {},
   "source": [
    "## Проверка алгоритма"
   ]
  },
  {
   "cell_type": "markdown",
   "metadata": {},
   "source": [
    "Для проверки алгоритма сформируем исходную матрицу и проверим ее обратимость."
   ]
  },
  {
   "cell_type": "code",
   "execution_count": 16,
   "metadata": {},
   "outputs": [
    {
     "name": "stdout",
     "output_type": "stream",
     "text": [
      "Исходная случайная матрица:\n",
      " [[33273 16260 56015 24605]\n",
      " [13573 70910 65842 47835]\n",
      " [62962 75795 98193 46054]\n",
      " [40131 51545 58242 91791]]\n",
      "\n",
      "Матрица, обратная к исходной:\n",
      " [[-2.19875132e-05 -3.21141055e-05  2.94049624e-05  7.87620637e-06]\n",
      " [-3.51932337e-05  3.08132431e-06  1.90303954e-05 -1.72011920e-06]\n",
      " [ 3.91319251e-05  1.77101742e-05 -1.75375000e-05 -1.09197544e-05]\n",
      " [ 4.54613788e-06  1.07274506e-06 -1.24146507e-05  1.53454243e-05]] \n",
      "\n",
      "Единичная матрица, получившаяся в результате перемножения исходной и обратной матриц:\n"
     ]
    },
    {
     "data": {
      "text/plain": [
       "array([[ 1., -0., -0., -0.],\n",
       "       [ 0.,  1.,  0.,  0.],\n",
       "       [-0.,  0.,  1.,  0.],\n",
       "       [-0., -0., -0.,  1.]])"
      ]
     },
     "execution_count": 16,
     "metadata": {},
     "output_type": "execute_result"
    }
   ],
   "source": [
    "matrix = np.array([[33273,16260,56015,24605],\n",
    "                   [13573,70910,65842,47835],\n",
    "                   [62962,75795,98193,46054],\n",
    "                   [40131,51545,58242,91791]])\n",
    "inverse_matrix = np.linalg.inv(matrix)\n",
    "print('Исходная случайная матрица:\\n', matrix)\n",
    "print('\\nМатрица, обратная к исходной:\\n', inverse_matrix, '\\n\\nЕдиничная матрица, получившаяся в результате перемножения исходной и обратной матриц:')\n",
    "inverse_matrix.dot(matrix).round(5)"
   ]
  },
  {
   "cell_type": "markdown",
   "metadata": {},
   "source": [
    "Умножим признаки на полученную матрицу."
   ]
  },
  {
   "cell_type": "code",
   "execution_count": 17,
   "metadata": {},
   "outputs": [],
   "source": [
    "features_multiplied =  features.dot(matrix)"
   ]
  },
  {
   "cell_type": "markdown",
   "metadata": {},
   "source": [
    "Проверим доступность персональной информации из новых данных."
   ]
  },
  {
   "cell_type": "code",
   "execution_count": 18,
   "metadata": {},
   "outputs": [
    {
     "data": {
      "text/html": [
       "<div>\n",
       "<style scoped>\n",
       "    .dataframe tbody tr th:only-of-type {\n",
       "        vertical-align: middle;\n",
       "    }\n",
       "\n",
       "    .dataframe tbody tr th {\n",
       "        vertical-align: top;\n",
       "    }\n",
       "\n",
       "    .dataframe thead th {\n",
       "        text-align: right;\n",
       "    }\n",
       "</style>\n",
       "<table border=\"1\" class=\"dataframe\">\n",
       "  <thead>\n",
       "    <tr style=\"text-align: right;\">\n",
       "      <th></th>\n",
       "      <th>0</th>\n",
       "      <th>1</th>\n",
       "      <th>2</th>\n",
       "      <th>3</th>\n",
       "    </tr>\n",
       "  </thead>\n",
       "  <tbody>\n",
       "    <tr>\n",
       "      <th>0</th>\n",
       "      <td>1.0</td>\n",
       "      <td>41.0</td>\n",
       "      <td>49600.0</td>\n",
       "      <td>1.0</td>\n",
       "    </tr>\n",
       "    <tr>\n",
       "      <th>1</th>\n",
       "      <td>-0.0</td>\n",
       "      <td>46.0</td>\n",
       "      <td>38000.0</td>\n",
       "      <td>1.0</td>\n",
       "    </tr>\n",
       "    <tr>\n",
       "      <th>2</th>\n",
       "      <td>-0.0</td>\n",
       "      <td>29.0</td>\n",
       "      <td>21000.0</td>\n",
       "      <td>0.0</td>\n",
       "    </tr>\n",
       "    <tr>\n",
       "      <th>3</th>\n",
       "      <td>-0.0</td>\n",
       "      <td>21.0</td>\n",
       "      <td>41700.0</td>\n",
       "      <td>2.0</td>\n",
       "    </tr>\n",
       "    <tr>\n",
       "      <th>4</th>\n",
       "      <td>1.0</td>\n",
       "      <td>28.0</td>\n",
       "      <td>26100.0</td>\n",
       "      <td>0.0</td>\n",
       "    </tr>\n",
       "    <tr>\n",
       "      <th>...</th>\n",
       "      <td>...</td>\n",
       "      <td>...</td>\n",
       "      <td>...</td>\n",
       "      <td>...</td>\n",
       "    </tr>\n",
       "    <tr>\n",
       "      <th>4842</th>\n",
       "      <td>-0.0</td>\n",
       "      <td>28.0</td>\n",
       "      <td>35700.0</td>\n",
       "      <td>2.0</td>\n",
       "    </tr>\n",
       "    <tr>\n",
       "      <th>4843</th>\n",
       "      <td>0.0</td>\n",
       "      <td>34.0</td>\n",
       "      <td>52400.0</td>\n",
       "      <td>1.0</td>\n",
       "    </tr>\n",
       "    <tr>\n",
       "      <th>4844</th>\n",
       "      <td>-0.0</td>\n",
       "      <td>20.0</td>\n",
       "      <td>33900.0</td>\n",
       "      <td>2.0</td>\n",
       "    </tr>\n",
       "    <tr>\n",
       "      <th>4845</th>\n",
       "      <td>1.0</td>\n",
       "      <td>22.0</td>\n",
       "      <td>32700.0</td>\n",
       "      <td>3.0</td>\n",
       "    </tr>\n",
       "    <tr>\n",
       "      <th>4846</th>\n",
       "      <td>1.0</td>\n",
       "      <td>28.0</td>\n",
       "      <td>40600.0</td>\n",
       "      <td>1.0</td>\n",
       "    </tr>\n",
       "  </tbody>\n",
       "</table>\n",
       "<p>4847 rows × 4 columns</p>\n",
       "</div>"
      ],
      "text/plain": [
       "        0     1        2    3\n",
       "0     1.0  41.0  49600.0  1.0\n",
       "1    -0.0  46.0  38000.0  1.0\n",
       "2    -0.0  29.0  21000.0  0.0\n",
       "3    -0.0  21.0  41700.0  2.0\n",
       "4     1.0  28.0  26100.0  0.0\n",
       "...   ...   ...      ...  ...\n",
       "4842 -0.0  28.0  35700.0  2.0\n",
       "4843  0.0  34.0  52400.0  1.0\n",
       "4844 -0.0  20.0  33900.0  2.0\n",
       "4845  1.0  22.0  32700.0  3.0\n",
       "4846  1.0  28.0  40600.0  1.0\n",
       "\n",
       "[4847 rows x 4 columns]"
      ]
     },
     "execution_count": 18,
     "metadata": {},
     "output_type": "execute_result"
    }
   ],
   "source": [
    "features_multiplied.dot(inverse_matrix).round(2)"
   ]
  },
  {
   "cell_type": "markdown",
   "metadata": {},
   "source": [
    "Сформируем обучающие и тестовые датасеты для обучения с признаками, умноженными на матрицу."
   ]
  },
  {
   "cell_type": "code",
   "execution_count": 19,
   "metadata": {},
   "outputs": [],
   "source": [
    "(features_multiplied_train,\n",
    " features_multiplied_test) = (features_multiplied.loc[features_train.index],\n",
    "                              features_multiplied.loc[features_test.index])"
   ]
  },
  {
   "cell_type": "markdown",
   "metadata": {},
   "source": [
    "Обучим модель линейной регрессии на обычных и трансформированных данных."
   ]
  },
  {
   "cell_type": "code",
   "execution_count": 20,
   "metadata": {},
   "outputs": [],
   "source": [
    "model = LinearRegression()"
   ]
  },
  {
   "cell_type": "code",
   "execution_count": 21,
   "metadata": {
    "scrolled": true
   },
   "outputs": [
    {
     "name": "stdout",
     "output_type": "stream",
     "text": [
      "0.42307727492147584\n"
     ]
    },
    {
     "data": {
      "text/plain": [
       "0.11955009374099854"
      ]
     },
     "execution_count": 21,
     "metadata": {},
     "output_type": "execute_result"
    }
   ],
   "source": [
    "model.fit(features_train, target_train)\n",
    "predictions = model.predict(features_test)\n",
    "print(r2_score(target_test, predictions))\n",
    "mean_squared_error(target_test, predictions)"
   ]
  },
  {
   "cell_type": "code",
   "execution_count": 22,
   "metadata": {
    "scrolled": false
   },
   "outputs": [
    {
     "name": "stdout",
     "output_type": "stream",
     "text": [
      "0.4241846333125554\n"
     ]
    },
    {
     "data": {
      "text/plain": [
       "0.11932062661532686"
      ]
     },
     "execution_count": 22,
     "metadata": {},
     "output_type": "execute_result"
    }
   ],
   "source": [
    "model.fit(features_multiplied, target)\n",
    "predictions = model.predict(features_multiplied_test)\n",
    "print(r2_score(target_test, predictions))\n",
    "mean_squared_error(target_test, predictions)"
   ]
  },
  {
   "cell_type": "markdown",
   "metadata": {},
   "source": [
    "__Вывод__: для защиты персональных данных возможно использование матриц. При этом восстановить исходную таблицу не составляет труда, а качество модели отличается незначительно."
   ]
  }
 ],
 "metadata": {
  "ExecuteTimeLog": [
   {
    "duration": 375,
    "start_time": "2022-04-07T10:54:13.989Z"
   },
   {
    "duration": 85,
    "start_time": "2022-04-07T10:54:25.861Z"
   },
   {
    "duration": 98,
    "start_time": "2022-04-07T10:54:33.734Z"
   },
   {
    "duration": 33,
    "start_time": "2022-04-07T10:54:39.035Z"
   },
   {
    "duration": 31,
    "start_time": "2022-04-07T10:54:44.175Z"
   },
   {
    "duration": 28,
    "start_time": "2022-04-07T10:54:50.453Z"
   },
   {
    "duration": 12,
    "start_time": "2022-04-07T10:54:55.079Z"
   },
   {
    "duration": 10,
    "start_time": "2022-04-07T10:56:03.089Z"
   },
   {
    "duration": 22,
    "start_time": "2022-04-07T10:56:13.755Z"
   },
   {
    "duration": 24,
    "start_time": "2022-04-07T10:56:19.655Z"
   },
   {
    "duration": 762,
    "start_time": "2022-04-07T10:56:48.934Z"
   },
   {
    "duration": 480,
    "start_time": "2022-04-07T10:57:40.301Z"
   },
   {
    "duration": 565,
    "start_time": "2022-04-07T10:57:46.328Z"
   },
   {
    "duration": 469,
    "start_time": "2022-04-07T10:57:55.020Z"
   },
   {
    "duration": 500,
    "start_time": "2022-04-07T10:58:00.516Z"
   },
   {
    "duration": 3,
    "start_time": "2022-04-07T10:58:20.571Z"
   },
   {
    "duration": 428,
    "start_time": "2022-04-07T10:58:23.307Z"
   },
   {
    "duration": 963,
    "start_time": "2022-04-07T10:58:38.127Z"
   },
   {
    "duration": 642,
    "start_time": "2022-04-07T10:58:42.644Z"
   },
   {
    "duration": 839,
    "start_time": "2022-04-07T10:58:47.076Z"
   },
   {
    "duration": 632,
    "start_time": "2022-04-07T10:58:51.225Z"
   },
   {
    "duration": 513,
    "start_time": "2022-04-07T10:58:55.375Z"
   },
   {
    "duration": 574,
    "start_time": "2022-04-07T10:58:59.644Z"
   },
   {
    "duration": 492,
    "start_time": "2022-04-07T10:59:02.931Z"
   },
   {
    "duration": 436,
    "start_time": "2022-04-07T10:59:11.928Z"
   },
   {
    "duration": 626,
    "start_time": "2022-04-07T10:59:18.652Z"
   },
   {
    "duration": 13,
    "start_time": "2022-04-07T11:00:28.900Z"
   },
   {
    "duration": 14,
    "start_time": "2022-04-07T11:00:44.483Z"
   },
   {
    "duration": 17,
    "start_time": "2022-04-07T11:01:03.478Z"
   },
   {
    "duration": 12,
    "start_time": "2022-04-07T11:01:03.681Z"
   },
   {
    "duration": 9,
    "start_time": "2022-04-07T11:01:04.158Z"
   },
   {
    "duration": 5,
    "start_time": "2022-04-07T11:01:04.778Z"
   },
   {
    "duration": 25,
    "start_time": "2022-04-07T11:01:05.725Z"
   },
   {
    "duration": 551,
    "start_time": "2022-04-07T11:01:07.073Z"
   },
   {
    "duration": 17,
    "start_time": "2022-04-07T11:01:19.148Z"
   },
   {
    "duration": 14,
    "start_time": "2022-04-07T11:01:19.325Z"
   },
   {
    "duration": 14,
    "start_time": "2022-04-07T11:01:19.566Z"
   },
   {
    "duration": 7,
    "start_time": "2022-04-07T11:01:20.146Z"
   },
   {
    "duration": 24,
    "start_time": "2022-04-07T11:01:20.794Z"
   },
   {
    "duration": 784,
    "start_time": "2022-04-07T11:01:21.743Z"
   },
   {
    "duration": 12,
    "start_time": "2022-04-07T11:02:00.722Z"
   },
   {
    "duration": 10,
    "start_time": "2022-04-07T11:02:01.151Z"
   },
   {
    "duration": 11,
    "start_time": "2022-04-07T11:02:02.306Z"
   },
   {
    "duration": 11,
    "start_time": "2022-04-07T11:02:03.852Z"
   },
   {
    "duration": 28,
    "start_time": "2022-04-07T11:02:04.983Z"
   },
   {
    "duration": 6,
    "start_time": "2022-04-07T11:02:05.619Z"
   },
   {
    "duration": 31,
    "start_time": "2022-04-07T11:02:06.072Z"
   },
   {
    "duration": 21,
    "start_time": "2022-04-07T11:02:10.567Z"
   },
   {
    "duration": 12,
    "start_time": "2022-04-07T11:02:10.930Z"
   },
   {
    "duration": 10,
    "start_time": "2022-04-07T11:02:11.267Z"
   },
   {
    "duration": 28,
    "start_time": "2022-04-07T11:02:11.767Z"
   },
   {
    "duration": 5,
    "start_time": "2022-04-07T11:02:12.631Z"
   },
   {
    "duration": 23,
    "start_time": "2022-04-07T11:02:13.292Z"
   },
   {
    "duration": 162,
    "start_time": "2022-04-07T11:04:06.934Z"
   },
   {
    "duration": 154,
    "start_time": "2022-04-07T11:04:26.253Z"
   },
   {
    "duration": 672,
    "start_time": "2022-04-07T11:05:43.194Z"
   },
   {
    "duration": 561,
    "start_time": "2022-04-07T11:05:48.298Z"
   },
   {
    "duration": 558,
    "start_time": "2022-04-07T11:05:51.204Z"
   },
   {
    "duration": 945,
    "start_time": "2022-04-07T11:05:54.432Z"
   },
   {
    "duration": 557,
    "start_time": "2022-04-07T11:06:02.221Z"
   },
   {
    "duration": 553,
    "start_time": "2022-04-07T11:06:07.103Z"
   },
   {
    "duration": 162,
    "start_time": "2022-04-07T11:24:35.931Z"
   },
   {
    "duration": 7,
    "start_time": "2022-04-07T11:32:24.481Z"
   },
   {
    "duration": 190,
    "start_time": "2022-04-07T11:32:46.637Z"
   },
   {
    "duration": 7,
    "start_time": "2022-04-07T11:34:31.082Z"
   },
   {
    "duration": 8,
    "start_time": "2022-04-07T11:34:35.828Z"
   },
   {
    "duration": 4,
    "start_time": "2022-04-07T11:34:39.183Z"
   },
   {
    "duration": 8,
    "start_time": "2022-04-07T11:34:47.631Z"
   },
   {
    "duration": 5,
    "start_time": "2022-04-07T11:34:54.276Z"
   },
   {
    "duration": 4,
    "start_time": "2022-04-07T11:35:03.423Z"
   },
   {
    "duration": 4,
    "start_time": "2022-04-07T11:36:08.106Z"
   },
   {
    "duration": 9,
    "start_time": "2022-04-07T11:36:37.237Z"
   },
   {
    "duration": 3,
    "start_time": "2022-04-07T11:36:39.986Z"
   },
   {
    "duration": 2,
    "start_time": "2022-04-07T11:37:11.283Z"
   },
   {
    "duration": 5,
    "start_time": "2022-04-07T11:37:16.754Z"
   },
   {
    "duration": 3,
    "start_time": "2022-04-07T11:37:36.542Z"
   },
   {
    "duration": 4,
    "start_time": "2022-04-07T11:37:36.846Z"
   },
   {
    "duration": 11,
    "start_time": "2022-04-07T11:38:12.437Z"
   },
   {
    "duration": 5,
    "start_time": "2022-04-07T11:38:23.872Z"
   },
   {
    "duration": 6,
    "start_time": "2022-04-07T11:38:36.418Z"
   },
   {
    "duration": 2,
    "start_time": "2022-04-07T11:38:50.658Z"
   },
   {
    "duration": 3,
    "start_time": "2022-04-07T11:39:03.112Z"
   },
   {
    "duration": 5,
    "start_time": "2022-04-07T11:39:03.895Z"
   },
   {
    "duration": 4,
    "start_time": "2022-04-07T11:39:10.729Z"
   },
   {
    "duration": 5,
    "start_time": "2022-04-07T11:39:17.771Z"
   },
   {
    "duration": 6,
    "start_time": "2022-04-07T11:39:26.641Z"
   },
   {
    "duration": 5,
    "start_time": "2022-04-07T11:40:10.703Z"
   },
   {
    "duration": 4,
    "start_time": "2022-04-07T11:40:13.266Z"
   },
   {
    "duration": 4,
    "start_time": "2022-04-07T11:40:13.513Z"
   },
   {
    "duration": 5,
    "start_time": "2022-04-07T11:40:14.156Z"
   },
   {
    "duration": 6,
    "start_time": "2022-04-07T11:40:16.959Z"
   },
   {
    "duration": 5,
    "start_time": "2022-04-07T11:40:19.899Z"
   },
   {
    "duration": 6,
    "start_time": "2022-04-07T11:41:29.229Z"
   },
   {
    "duration": 5,
    "start_time": "2022-04-07T11:41:32.567Z"
   },
   {
    "duration": 11,
    "start_time": "2022-04-07T11:44:53.044Z"
   },
   {
    "duration": 6,
    "start_time": "2022-04-07T11:44:58.222Z"
   },
   {
    "duration": 5,
    "start_time": "2022-04-07T11:47:21.627Z"
   },
   {
    "duration": 5,
    "start_time": "2022-04-07T11:47:27.917Z"
   },
   {
    "duration": 3,
    "start_time": "2022-04-07T11:54:08.945Z"
   },
   {
    "duration": 6,
    "start_time": "2022-04-07T11:55:37.699Z"
   },
   {
    "duration": 5,
    "start_time": "2022-04-07T11:55:42.978Z"
   },
   {
    "duration": 4,
    "start_time": "2022-04-07T11:55:43.531Z"
   },
   {
    "duration": 5,
    "start_time": "2022-04-07T11:55:44.871Z"
   },
   {
    "duration": 5,
    "start_time": "2022-04-07T11:55:45.722Z"
   },
   {
    "duration": 5,
    "start_time": "2022-04-07T11:55:47.526Z"
   },
   {
    "duration": 15,
    "start_time": "2022-04-07T11:56:31.328Z"
   },
   {
    "duration": 3,
    "start_time": "2022-04-07T11:56:37.219Z"
   },
   {
    "duration": 4,
    "start_time": "2022-04-07T11:56:40.847Z"
   },
   {
    "duration": 4,
    "start_time": "2022-04-07T11:56:44.317Z"
   },
   {
    "duration": 4,
    "start_time": "2022-04-07T11:56:44.846Z"
   },
   {
    "duration": 3,
    "start_time": "2022-04-07T11:56:45.015Z"
   },
   {
    "duration": 4,
    "start_time": "2022-04-07T11:56:45.519Z"
   },
   {
    "duration": 3,
    "start_time": "2022-04-07T11:56:45.691Z"
   },
   {
    "duration": 4,
    "start_time": "2022-04-07T11:56:45.782Z"
   },
   {
    "duration": 4,
    "start_time": "2022-04-07T11:56:45.880Z"
   },
   {
    "duration": 3,
    "start_time": "2022-04-07T11:56:45.981Z"
   },
   {
    "duration": 4,
    "start_time": "2022-04-07T11:56:46.081Z"
   },
   {
    "duration": 9,
    "start_time": "2022-04-07T11:56:46.189Z"
   },
   {
    "duration": 4,
    "start_time": "2022-04-07T11:56:46.282Z"
   },
   {
    "duration": 3,
    "start_time": "2022-04-07T11:56:46.382Z"
   },
   {
    "duration": 3,
    "start_time": "2022-04-07T11:56:46.482Z"
   },
   {
    "duration": 53,
    "start_time": "2022-04-07T11:56:46.529Z"
   },
   {
    "duration": 3,
    "start_time": "2022-04-07T11:56:46.692Z"
   },
   {
    "duration": 6,
    "start_time": "2022-04-07T11:56:46.776Z"
   },
   {
    "duration": 3,
    "start_time": "2022-04-07T11:56:46.880Z"
   },
   {
    "duration": 4,
    "start_time": "2022-04-07T11:56:46.980Z"
   },
   {
    "duration": 4,
    "start_time": "2022-04-07T11:56:47.080Z"
   },
   {
    "duration": 3,
    "start_time": "2022-04-07T11:56:47.194Z"
   },
   {
    "duration": 5,
    "start_time": "2022-04-07T11:56:47.281Z"
   },
   {
    "duration": 20,
    "start_time": "2022-04-07T11:56:47.362Z"
   },
   {
    "duration": 3,
    "start_time": "2022-04-07T11:56:47.481Z"
   },
   {
    "duration": 0,
    "start_time": "2022-04-07T11:56:47.800Z"
   },
   {
    "duration": 3,
    "start_time": "2022-04-07T11:56:47.863Z"
   },
   {
    "duration": 5,
    "start_time": "2022-04-07T11:56:47.982Z"
   },
   {
    "duration": 4,
    "start_time": "2022-04-07T11:56:48.082Z"
   },
   {
    "duration": 12,
    "start_time": "2022-04-07T11:56:48.288Z"
   },
   {
    "duration": 3,
    "start_time": "2022-04-07T11:56:48.382Z"
   },
   {
    "duration": 4,
    "start_time": "2022-04-07T11:56:48.482Z"
   },
   {
    "duration": 4,
    "start_time": "2022-04-07T11:56:48.581Z"
   },
   {
    "duration": 4,
    "start_time": "2022-04-07T11:56:48.680Z"
   },
   {
    "duration": 4,
    "start_time": "2022-04-07T11:56:48.789Z"
   },
   {
    "duration": 5,
    "start_time": "2022-04-07T11:56:48.881Z"
   },
   {
    "duration": 4,
    "start_time": "2022-04-07T11:56:48.980Z"
   },
   {
    "duration": 4,
    "start_time": "2022-04-07T11:56:49.294Z"
   },
   {
    "duration": 4,
    "start_time": "2022-04-07T11:56:49.383Z"
   },
   {
    "duration": 5,
    "start_time": "2022-04-07T11:56:49.482Z"
   },
   {
    "duration": 4,
    "start_time": "2022-04-07T11:56:49.583Z"
   },
   {
    "duration": 4,
    "start_time": "2022-04-07T11:56:49.680Z"
   },
   {
    "duration": 4,
    "start_time": "2022-04-07T11:56:49.796Z"
   },
   {
    "duration": 4,
    "start_time": "2022-04-07T11:56:49.884Z"
   },
   {
    "duration": 4,
    "start_time": "2022-04-07T11:56:49.982Z"
   },
   {
    "duration": 5,
    "start_time": "2022-04-07T11:56:50.080Z"
   },
   {
    "duration": 4,
    "start_time": "2022-04-07T11:56:51.764Z"
   },
   {
    "duration": 7,
    "start_time": "2022-04-07T11:56:57.038Z"
   },
   {
    "duration": 4,
    "start_time": "2022-04-07T11:56:57.084Z"
   },
   {
    "duration": 4,
    "start_time": "2022-04-07T11:56:59.625Z"
   },
   {
    "duration": 5,
    "start_time": "2022-04-07T11:57:57.045Z"
   },
   {
    "duration": 4,
    "start_time": "2022-04-07T11:58:03.274Z"
   },
   {
    "duration": 5,
    "start_time": "2022-04-07T11:58:06.516Z"
   },
   {
    "duration": 5,
    "start_time": "2022-04-07T11:58:09.848Z"
   },
   {
    "duration": 4,
    "start_time": "2022-04-07T11:58:15.549Z"
   },
   {
    "duration": 1157,
    "start_time": "2022-04-07T11:58:49.387Z"
   },
   {
    "duration": 40,
    "start_time": "2022-04-07T11:58:56.702Z"
   },
   {
    "duration": 3,
    "start_time": "2022-04-07T11:59:04.739Z"
   },
   {
    "duration": 3,
    "start_time": "2022-04-07T11:59:26.023Z"
   },
   {
    "duration": 12,
    "start_time": "2022-04-07T11:59:33.564Z"
   },
   {
    "duration": 5,
    "start_time": "2022-04-07T11:59:54.999Z"
   },
   {
    "duration": 14,
    "start_time": "2022-04-07T11:59:59.423Z"
   },
   {
    "duration": 9,
    "start_time": "2022-04-07T12:00:01.576Z"
   },
   {
    "duration": 3,
    "start_time": "2022-04-07T12:00:12.281Z"
   },
   {
    "duration": 7,
    "start_time": "2022-04-07T12:00:16.577Z"
   },
   {
    "duration": 4,
    "start_time": "2022-04-07T12:00:41.424Z"
   },
   {
    "duration": 4,
    "start_time": "2022-04-07T12:00:42.755Z"
   },
   {
    "duration": 3,
    "start_time": "2022-04-07T12:00:43.050Z"
   },
   {
    "duration": 3,
    "start_time": "2022-04-07T12:00:43.378Z"
   },
   {
    "duration": 8,
    "start_time": "2022-04-07T12:00:43.742Z"
   },
   {
    "duration": 8,
    "start_time": "2022-04-07T12:00:44.974Z"
   },
   {
    "duration": 3,
    "start_time": "2022-04-07T12:00:48.757Z"
   },
   {
    "duration": 3,
    "start_time": "2022-04-07T12:00:49.025Z"
   },
   {
    "duration": 3,
    "start_time": "2022-04-07T12:00:49.262Z"
   },
   {
    "duration": 2,
    "start_time": "2022-04-07T12:00:49.491Z"
   },
   {
    "duration": 8,
    "start_time": "2022-04-07T12:00:49.754Z"
   },
   {
    "duration": 7,
    "start_time": "2022-04-07T12:00:51.016Z"
   },
   {
    "duration": 4,
    "start_time": "2022-04-07T12:01:49.404Z"
   },
   {
    "duration": 4,
    "start_time": "2022-04-07T12:01:49.818Z"
   },
   {
    "duration": 3,
    "start_time": "2022-04-07T12:01:50.118Z"
   },
   {
    "duration": 5,
    "start_time": "2022-04-07T12:01:50.437Z"
   },
   {
    "duration": 8,
    "start_time": "2022-04-07T12:01:50.734Z"
   },
   {
    "duration": 7,
    "start_time": "2022-04-07T12:01:51.542Z"
   },
   {
    "duration": 3,
    "start_time": "2022-04-07T12:01:53.085Z"
   },
   {
    "duration": 8,
    "start_time": "2022-04-07T12:01:53.798Z"
   },
   {
    "duration": 8,
    "start_time": "2022-04-07T12:02:17.874Z"
   },
   {
    "duration": 8,
    "start_time": "2022-04-07T12:02:18.882Z"
   },
   {
    "duration": 8,
    "start_time": "2022-04-07T12:02:19.703Z"
   },
   {
    "duration": 7,
    "start_time": "2022-04-07T12:02:20.417Z"
   },
   {
    "duration": 10,
    "start_time": "2022-04-07T12:02:21.179Z"
   },
   {
    "duration": 10,
    "start_time": "2022-04-07T12:02:21.866Z"
   },
   {
    "duration": 8,
    "start_time": "2022-04-07T12:02:22.461Z"
   },
   {
    "duration": 8,
    "start_time": "2022-04-07T12:02:24.241Z"
   },
   {
    "duration": 7,
    "start_time": "2022-04-07T12:02:24.418Z"
   },
   {
    "duration": 7,
    "start_time": "2022-04-07T12:02:24.574Z"
   },
   {
    "duration": 7,
    "start_time": "2022-04-07T12:02:24.734Z"
   },
   {
    "duration": 7,
    "start_time": "2022-04-07T12:02:24.886Z"
   },
   {
    "duration": 7,
    "start_time": "2022-04-07T12:02:25.394Z"
   },
   {
    "duration": 7,
    "start_time": "2022-04-07T12:02:25.470Z"
   },
   {
    "duration": 7,
    "start_time": "2022-04-07T12:02:25.554Z"
   },
   {
    "duration": 7,
    "start_time": "2022-04-07T12:02:25.636Z"
   },
   {
    "duration": 8,
    "start_time": "2022-04-07T12:02:25.722Z"
   },
   {
    "duration": 8,
    "start_time": "2022-04-07T12:02:25.803Z"
   },
   {
    "duration": 8,
    "start_time": "2022-04-07T12:02:25.890Z"
   },
   {
    "duration": 8,
    "start_time": "2022-04-07T12:02:25.972Z"
   },
   {
    "duration": 8,
    "start_time": "2022-04-07T12:02:26.057Z"
   },
   {
    "duration": 8,
    "start_time": "2022-04-07T12:02:26.141Z"
   },
   {
    "duration": 8,
    "start_time": "2022-04-07T12:02:27.324Z"
   },
   {
    "duration": 8,
    "start_time": "2022-04-07T12:02:27.817Z"
   },
   {
    "duration": 8,
    "start_time": "2022-04-07T12:02:27.904Z"
   },
   {
    "duration": 7,
    "start_time": "2022-04-07T12:02:27.989Z"
   },
   {
    "duration": 7,
    "start_time": "2022-04-07T12:02:28.069Z"
   },
   {
    "duration": 7,
    "start_time": "2022-04-07T12:02:28.151Z"
   },
   {
    "duration": 7,
    "start_time": "2022-04-07T12:02:28.239Z"
   },
   {
    "duration": 8,
    "start_time": "2022-04-07T12:02:28.322Z"
   },
   {
    "duration": 7,
    "start_time": "2022-04-07T12:02:28.406Z"
   },
   {
    "duration": 8,
    "start_time": "2022-04-07T12:02:29.883Z"
   },
   {
    "duration": 7,
    "start_time": "2022-04-07T12:02:30.527Z"
   },
   {
    "duration": 3,
    "start_time": "2022-04-07T12:02:32.861Z"
   },
   {
    "duration": 4,
    "start_time": "2022-04-07T12:02:33.041Z"
   },
   {
    "duration": 4,
    "start_time": "2022-04-07T12:02:33.194Z"
   },
   {
    "duration": 2,
    "start_time": "2022-04-07T12:02:33.338Z"
   },
   {
    "duration": 7,
    "start_time": "2022-04-07T12:02:33.499Z"
   },
   {
    "duration": 7,
    "start_time": "2022-04-07T12:02:33.649Z"
   },
   {
    "duration": 3,
    "start_time": "2022-04-07T12:02:34.046Z"
   },
   {
    "duration": 8,
    "start_time": "2022-04-07T12:02:34.501Z"
   },
   {
    "duration": 3,
    "start_time": "2022-04-07T12:04:46.464Z"
   },
   {
    "duration": 6,
    "start_time": "2022-04-07T12:07:01.993Z"
   },
   {
    "duration": 45,
    "start_time": "2022-04-07T12:07:44.426Z"
   },
   {
    "duration": 11,
    "start_time": "2022-04-07T12:09:36.949Z"
   },
   {
    "duration": 3,
    "start_time": "2022-04-07T12:09:40.599Z"
   },
   {
    "duration": 3,
    "start_time": "2022-04-07T12:10:02.517Z"
   },
   {
    "duration": 6,
    "start_time": "2022-04-07T12:10:29.533Z"
   },
   {
    "duration": 11,
    "start_time": "2022-04-07T12:10:45.681Z"
   },
   {
    "duration": 11,
    "start_time": "2022-04-07T12:12:33.181Z"
   },
   {
    "duration": 4,
    "start_time": "2022-04-07T12:12:42.208Z"
   },
   {
    "duration": 3,
    "start_time": "2022-04-07T12:12:42.491Z"
   },
   {
    "duration": 3,
    "start_time": "2022-04-07T12:12:42.815Z"
   },
   {
    "duration": 6,
    "start_time": "2022-04-07T12:12:43.105Z"
   },
   {
    "duration": 2,
    "start_time": "2022-04-07T12:12:43.437Z"
   },
   {
    "duration": 10,
    "start_time": "2022-04-07T12:12:43.859Z"
   },
   {
    "duration": 10,
    "start_time": "2022-04-07T12:12:44.404Z"
   },
   {
    "duration": 10,
    "start_time": "2022-04-07T12:13:05.894Z"
   },
   {
    "duration": 7,
    "start_time": "2022-04-07T12:18:04.571Z"
   },
   {
    "duration": 6,
    "start_time": "2022-04-07T12:18:24.558Z"
   },
   {
    "duration": 7,
    "start_time": "2022-04-07T12:18:32.691Z"
   },
   {
    "duration": 7,
    "start_time": "2022-04-07T12:18:36.331Z"
   },
   {
    "duration": 7,
    "start_time": "2022-04-07T12:18:38.190Z"
   },
   {
    "duration": 7,
    "start_time": "2022-04-07T12:18:41.542Z"
   },
   {
    "duration": 8,
    "start_time": "2022-04-07T12:19:32.642Z"
   },
   {
    "duration": 8,
    "start_time": "2022-04-07T12:20:03.462Z"
   },
   {
    "duration": 8,
    "start_time": "2022-04-07T12:20:23.628Z"
   },
   {
    "duration": 9,
    "start_time": "2022-04-07T12:20:29.908Z"
   },
   {
    "duration": 8,
    "start_time": "2022-04-07T12:20:35.115Z"
   },
   {
    "duration": 8,
    "start_time": "2022-04-07T12:20:37.769Z"
   },
   {
    "duration": 8,
    "start_time": "2022-04-07T12:20:43.871Z"
   },
   {
    "duration": 195,
    "start_time": "2022-04-07T12:22:18.388Z"
   },
   {
    "duration": 6,
    "start_time": "2022-04-07T12:22:23.562Z"
   },
   {
    "duration": 2,
    "start_time": "2022-04-07T12:22:24.173Z"
   },
   {
    "duration": 12,
    "start_time": "2022-04-07T12:22:24.767Z"
   },
   {
    "duration": 10,
    "start_time": "2022-04-07T12:22:26.125Z"
   },
   {
    "duration": 156,
    "start_time": "2022-04-07T12:23:03.115Z"
   },
   {
    "duration": 163,
    "start_time": "2022-04-07T12:38:14.607Z"
   },
   {
    "duration": 8,
    "start_time": "2022-04-07T13:18:14.523Z"
   },
   {
    "duration": 4,
    "start_time": "2022-04-07T13:18:19.543Z"
   },
   {
    "duration": 3,
    "start_time": "2022-04-07T13:18:19.920Z"
   },
   {
    "duration": 6,
    "start_time": "2022-04-07T13:18:20.653Z"
   },
   {
    "duration": 3,
    "start_time": "2022-04-07T13:18:21.435Z"
   },
   {
    "duration": 9,
    "start_time": "2022-04-07T13:18:22.000Z"
   },
   {
    "duration": 10,
    "start_time": "2022-04-07T13:18:22.549Z"
   },
   {
    "duration": 9,
    "start_time": "2022-04-07T13:18:32.320Z"
   },
   {
    "duration": 4,
    "start_time": "2022-04-07T13:18:32.961Z"
   },
   {
    "duration": 3,
    "start_time": "2022-04-07T13:18:33.376Z"
   },
   {
    "duration": 7,
    "start_time": "2022-04-07T13:18:33.971Z"
   },
   {
    "duration": 2,
    "start_time": "2022-04-07T13:18:34.562Z"
   },
   {
    "duration": 11,
    "start_time": "2022-04-07T13:18:34.940Z"
   },
   {
    "duration": 11,
    "start_time": "2022-04-07T13:18:35.465Z"
   },
   {
    "duration": 5,
    "start_time": "2022-04-07T13:28:19.606Z"
   },
   {
    "duration": 10,
    "start_time": "2022-04-07T13:29:03.555Z"
   },
   {
    "duration": 185,
    "start_time": "2022-04-07T13:29:03.632Z"
   },
   {
    "duration": 5,
    "start_time": "2022-04-07T13:29:07.536Z"
   },
   {
    "duration": 5,
    "start_time": "2022-04-07T13:29:10.200Z"
   },
   {
    "duration": 5,
    "start_time": "2022-04-07T13:29:12.501Z"
   },
   {
    "duration": 5,
    "start_time": "2022-04-07T13:29:16.853Z"
   },
   {
    "duration": 5,
    "start_time": "2022-04-07T13:29:22.587Z"
   },
   {
    "duration": 5,
    "start_time": "2022-04-07T13:29:25.387Z"
   },
   {
    "duration": 5,
    "start_time": "2022-04-07T13:29:30.235Z"
   },
   {
    "duration": 6,
    "start_time": "2022-04-07T13:29:35.853Z"
   },
   {
    "duration": 9,
    "start_time": "2022-04-07T13:30:10.508Z"
   },
   {
    "duration": 170,
    "start_time": "2022-04-07T13:31:10.712Z"
   },
   {
    "duration": 3,
    "start_time": "2022-04-07T13:31:13.221Z"
   },
   {
    "duration": 3,
    "start_time": "2022-04-07T13:31:15.364Z"
   },
   {
    "duration": 12,
    "start_time": "2022-04-07T13:31:16.185Z"
   },
   {
    "duration": 15,
    "start_time": "2022-04-07T13:31:57.806Z"
   },
   {
    "duration": 5,
    "start_time": "2022-04-07T13:32:08.722Z"
   },
   {
    "duration": 5,
    "start_time": "2022-04-07T13:32:11.099Z"
   },
   {
    "duration": 4,
    "start_time": "2022-04-07T13:32:15.089Z"
   },
   {
    "duration": 9,
    "start_time": "2022-04-07T13:32:18.487Z"
   },
   {
    "duration": 3,
    "start_time": "2022-04-07T13:32:19.926Z"
   },
   {
    "duration": 9,
    "start_time": "2022-04-07T13:32:20.173Z"
   },
   {
    "duration": 11,
    "start_time": "2022-04-07T13:32:20.835Z"
   },
   {
    "duration": 11,
    "start_time": "2022-04-07T13:32:48.473Z"
   },
   {
    "duration": 7,
    "start_time": "2022-04-07T13:36:03.300Z"
   },
   {
    "duration": 51,
    "start_time": "2022-04-07T14:23:49.213Z"
   },
   {
    "duration": 1590,
    "start_time": "2022-04-07T14:23:54.674Z"
   },
   {
    "duration": 19,
    "start_time": "2022-04-07T14:23:56.266Z"
   },
   {
    "duration": 21,
    "start_time": "2022-04-07T14:23:56.286Z"
   },
   {
    "duration": 14,
    "start_time": "2022-04-07T14:23:56.309Z"
   },
   {
    "duration": 34,
    "start_time": "2022-04-07T14:23:56.332Z"
   },
   {
    "duration": 7,
    "start_time": "2022-04-07T14:23:56.545Z"
   },
   {
    "duration": 28,
    "start_time": "2022-04-07T14:23:56.767Z"
   },
   {
    "duration": 676,
    "start_time": "2022-04-07T14:23:57.001Z"
   },
   {
    "duration": 109,
    "start_time": "2022-04-07T14:23:59.423Z"
   },
   {
    "duration": 5,
    "start_time": "2022-04-07T14:24:00.009Z"
   },
   {
    "duration": 3,
    "start_time": "2022-04-07T14:24:00.224Z"
   },
   {
    "duration": 7,
    "start_time": "2022-04-07T14:24:00.632Z"
   },
   {
    "duration": 2,
    "start_time": "2022-04-07T14:24:01.034Z"
   },
   {
    "duration": 13,
    "start_time": "2022-04-07T14:24:01.314Z"
   },
   {
    "duration": 14,
    "start_time": "2022-04-07T14:24:01.487Z"
   },
   {
    "duration": 24,
    "start_time": "2022-04-07T14:24:02.820Z"
   },
   {
    "duration": 6,
    "start_time": "2022-04-07T14:24:17.355Z"
   },
   {
    "duration": 5,
    "start_time": "2022-04-07T14:24:21.058Z"
   },
   {
    "duration": 5,
    "start_time": "2022-04-07T14:24:27.225Z"
   },
   {
    "duration": 89,
    "start_time": "2022-04-07T14:27:09.187Z"
   },
   {
    "duration": 259,
    "start_time": "2022-04-07T14:27:19.074Z"
   },
   {
    "duration": 7,
    "start_time": "2022-04-07T14:27:29.145Z"
   },
   {
    "duration": 6,
    "start_time": "2022-04-07T14:27:35.386Z"
   },
   {
    "duration": 6,
    "start_time": "2022-04-07T14:27:42.058Z"
   },
   {
    "duration": 167,
    "start_time": "2022-04-07T14:28:31.955Z"
   },
   {
    "duration": 287,
    "start_time": "2022-04-07T14:28:36.745Z"
   },
   {
    "duration": 484,
    "start_time": "2022-04-07T14:28:45.665Z"
   },
   {
    "duration": 539,
    "start_time": "2022-04-07T14:28:52.369Z"
   },
   {
    "duration": 6,
    "start_time": "2022-04-07T14:29:00.746Z"
   },
   {
    "duration": 5,
    "start_time": "2022-04-07T14:29:56.197Z"
   },
   {
    "duration": 10,
    "start_time": "2022-04-07T14:29:56.797Z"
   },
   {
    "duration": 6,
    "start_time": "2022-04-07T14:30:39.808Z"
   },
   {
    "duration": 160,
    "start_time": "2022-04-07T14:30:40.571Z"
   },
   {
    "duration": 6,
    "start_time": "2022-04-07T14:30:46.046Z"
   },
   {
    "duration": 149,
    "start_time": "2022-04-07T14:30:47.805Z"
   },
   {
    "duration": 11,
    "start_time": "2022-04-07T14:35:10.194Z"
   },
   {
    "duration": 9,
    "start_time": "2022-04-07T14:37:09.095Z"
   },
   {
    "duration": 4,
    "start_time": "2022-04-07T14:40:12.642Z"
   },
   {
    "duration": 30,
    "start_time": "2022-04-07T14:40:12.648Z"
   },
   {
    "duration": 13,
    "start_time": "2022-04-07T14:40:12.685Z"
   },
   {
    "duration": 13,
    "start_time": "2022-04-07T14:40:12.700Z"
   },
   {
    "duration": 33,
    "start_time": "2022-04-07T14:40:12.714Z"
   },
   {
    "duration": 5,
    "start_time": "2022-04-07T14:40:12.748Z"
   },
   {
    "duration": 28,
    "start_time": "2022-04-07T14:40:12.756Z"
   },
   {
    "duration": 798,
    "start_time": "2022-04-07T14:40:12.786Z"
   },
   {
    "duration": 47,
    "start_time": "2022-04-07T14:40:13.586Z"
   },
   {
    "duration": 6,
    "start_time": "2022-04-07T14:40:13.637Z"
   },
   {
    "duration": 87,
    "start_time": "2022-04-07T14:40:13.645Z"
   },
   {
    "duration": 9,
    "start_time": "2022-04-07T14:40:13.734Z"
   },
   {
    "duration": 10,
    "start_time": "2022-04-07T14:40:13.745Z"
   },
   {
    "duration": 20,
    "start_time": "2022-04-07T14:40:13.756Z"
   },
   {
    "duration": 15,
    "start_time": "2022-04-07T14:40:13.778Z"
   },
   {
    "duration": 46,
    "start_time": "2022-04-07T14:40:13.797Z"
   },
   {
    "duration": 87,
    "start_time": "2022-04-07T14:40:13.845Z"
   },
   {
    "duration": 7,
    "start_time": "2022-04-07T14:40:13.934Z"
   },
   {
    "duration": 9,
    "start_time": "2022-04-07T14:40:13.943Z"
   },
   {
    "duration": 6,
    "start_time": "2022-04-07T14:40:13.954Z"
   },
   {
    "duration": 14,
    "start_time": "2022-04-07T14:40:13.961Z"
   },
   {
    "duration": 11,
    "start_time": "2022-04-07T14:40:13.977Z"
   },
   {
    "duration": 14,
    "start_time": "2022-04-07T14:40:19.783Z"
   },
   {
    "duration": 11,
    "start_time": "2022-04-07T14:43:37.104Z"
   },
   {
    "duration": 11,
    "start_time": "2022-04-07T14:44:20.433Z"
   },
   {
    "duration": 13,
    "start_time": "2022-04-07T14:46:16.531Z"
   },
   {
    "duration": 5,
    "start_time": "2022-04-07T14:47:09.156Z"
   },
   {
    "duration": 12,
    "start_time": "2022-04-07T14:47:14.161Z"
   },
   {
    "duration": 5,
    "start_time": "2022-04-07T14:47:15.873Z"
   },
   {
    "duration": 13,
    "start_time": "2022-04-07T14:47:17.836Z"
   },
   {
    "duration": 16,
    "start_time": "2022-04-07T14:47:30.119Z"
   },
   {
    "duration": 15,
    "start_time": "2022-04-07T14:47:33.461Z"
   },
   {
    "duration": 12,
    "start_time": "2022-04-07T14:47:50.983Z"
   },
   {
    "duration": 4,
    "start_time": "2022-04-07T14:48:12.741Z"
   },
   {
    "duration": 14,
    "start_time": "2022-04-07T14:48:13.986Z"
   },
   {
    "duration": 13,
    "start_time": "2022-04-07T14:48:17.791Z"
   },
   {
    "duration": 16,
    "start_time": "2022-04-07T14:48:24.211Z"
   },
   {
    "duration": 14,
    "start_time": "2022-04-07T14:48:39.506Z"
   },
   {
    "duration": 16,
    "start_time": "2022-04-07T14:48:43.140Z"
   },
   {
    "duration": 17,
    "start_time": "2022-04-07T14:48:51.117Z"
   },
   {
    "duration": 5,
    "start_time": "2022-04-07T14:48:52.382Z"
   },
   {
    "duration": 2,
    "start_time": "2022-04-07T14:48:52.789Z"
   },
   {
    "duration": 11,
    "start_time": "2022-04-07T14:48:52.804Z"
   },
   {
    "duration": 12,
    "start_time": "2022-04-07T14:48:52.997Z"
   },
   {
    "duration": 4,
    "start_time": "2022-04-07T14:49:56.793Z"
   },
   {
    "duration": 678,
    "start_time": "2022-04-07T14:49:56.799Z"
   },
   {
    "duration": 13,
    "start_time": "2022-04-07T14:49:57.479Z"
   },
   {
    "duration": 41,
    "start_time": "2022-04-07T14:49:57.494Z"
   },
   {
    "duration": 31,
    "start_time": "2022-04-07T14:49:57.537Z"
   },
   {
    "duration": 8,
    "start_time": "2022-04-07T14:49:57.570Z"
   },
   {
    "duration": 40,
    "start_time": "2022-04-07T14:49:57.580Z"
   },
   {
    "duration": 665,
    "start_time": "2022-04-07T14:49:57.621Z"
   },
   {
    "duration": 47,
    "start_time": "2022-04-07T14:49:58.288Z"
   },
   {
    "duration": 7,
    "start_time": "2022-04-07T14:49:58.337Z"
   },
   {
    "duration": 108,
    "start_time": "2022-04-07T14:49:58.348Z"
   },
   {
    "duration": 29,
    "start_time": "2022-04-07T14:49:58.458Z"
   },
   {
    "duration": 15,
    "start_time": "2022-04-07T14:49:58.489Z"
   },
   {
    "duration": 42,
    "start_time": "2022-04-07T14:49:58.506Z"
   },
   {
    "duration": 38,
    "start_time": "2022-04-07T14:49:58.550Z"
   },
   {
    "duration": 17,
    "start_time": "2022-04-07T14:49:58.590Z"
   },
   {
    "duration": 30,
    "start_time": "2022-04-07T14:49:58.609Z"
   },
   {
    "duration": 107,
    "start_time": "2022-04-07T14:49:58.642Z"
   },
   {
    "duration": 5,
    "start_time": "2022-04-07T14:49:58.752Z"
   },
   {
    "duration": 25,
    "start_time": "2022-04-07T14:49:58.759Z"
   },
   {
    "duration": 22,
    "start_time": "2022-04-07T14:49:58.786Z"
   },
   {
    "duration": 14,
    "start_time": "2022-04-07T14:49:58.810Z"
   },
   {
    "duration": 1502,
    "start_time": "2022-04-07T14:50:05.210Z"
   },
   {
    "duration": 18,
    "start_time": "2022-04-07T14:50:06.714Z"
   },
   {
    "duration": 19,
    "start_time": "2022-04-07T14:50:06.734Z"
   },
   {
    "duration": 12,
    "start_time": "2022-04-07T14:50:06.755Z"
   },
   {
    "duration": 30,
    "start_time": "2022-04-07T14:50:06.770Z"
   },
   {
    "duration": 31,
    "start_time": "2022-04-07T14:50:06.801Z"
   },
   {
    "duration": 27,
    "start_time": "2022-04-07T14:50:06.834Z"
   },
   {
    "duration": 715,
    "start_time": "2022-04-07T14:50:06.863Z"
   },
   {
    "duration": 8,
    "start_time": "2022-04-07T14:50:07.580Z"
   },
   {
    "duration": 6,
    "start_time": "2022-04-07T14:50:07.633Z"
   },
   {
    "duration": 10,
    "start_time": "2022-04-07T14:50:07.641Z"
   },
   {
    "duration": 7,
    "start_time": "2022-04-07T14:50:07.732Z"
   },
   {
    "duration": 3,
    "start_time": "2022-04-07T14:50:07.741Z"
   },
   {
    "duration": 16,
    "start_time": "2022-04-07T14:50:07.747Z"
   },
   {
    "duration": 12,
    "start_time": "2022-04-07T14:50:07.765Z"
   },
   {
    "duration": 58,
    "start_time": "2022-04-07T14:50:07.779Z"
   },
   {
    "duration": 10,
    "start_time": "2022-04-07T14:50:07.839Z"
   },
   {
    "duration": 103,
    "start_time": "2022-04-07T14:50:07.851Z"
   },
   {
    "duration": 6,
    "start_time": "2022-04-07T14:50:07.956Z"
   },
   {
    "duration": 5,
    "start_time": "2022-04-07T14:50:07.963Z"
   },
   {
    "duration": 15,
    "start_time": "2022-04-07T14:50:07.969Z"
   },
   {
    "duration": 11,
    "start_time": "2022-04-07T14:50:07.986Z"
   }
  ],
  "kernelspec": {
   "display_name": "Python 3.9.13 64-bit",
   "language": "python",
   "name": "python3"
  },
  "language_info": {
   "codemirror_mode": {
    "name": "ipython",
    "version": 3
   },
   "file_extension": ".py",
   "mimetype": "text/x-python",
   "name": "python",
   "nbconvert_exporter": "python",
   "pygments_lexer": "ipython3",
   "version": "3.9.13"
  },
  "toc": {
   "base_numbering": 1,
   "nav_menu": {},
   "number_sections": true,
   "sideBar": true,
   "skip_h1_title": true,
   "title_cell": "Содержание",
   "title_sidebar": "Contents",
   "toc_cell": true,
   "toc_position": {},
   "toc_section_display": true,
   "toc_window_display": true
  },
  "vscode": {
   "interpreter": {
    "hash": "aee8b7b246df8f9039afb4144a1f6fd8d2ca17a180786b69acc140d282b71a49"
   }
  }
 },
 "nbformat": 4,
 "nbformat_minor": 2
}
