{
 "cells": [
  {
   "cell_type": "markdown",
   "metadata": {
    "toc": true
   },
   "source": [
    "<h1>Содержание<span class=\"tocSkip\"></span></h1>\n",
    "<div class=\"toc\"><ul class=\"toc-item\"><li><span><a href=\"#Описание-задачи\" data-toc-modified-id=\"Описание-задачи-1\"><span class=\"toc-item-num\">1&nbsp;&nbsp;</span>Описание задачи</a></span><ul class=\"toc-item\"><li><span><a href=\"#Подготовка-окружения\" data-toc-modified-id=\"Подготовка-окружения-1.1\"><span class=\"toc-item-num\">1.1&nbsp;&nbsp;</span>Подготовка окружения</a></span></li></ul></li><li><span><a href=\"#Подготовка-данных\" data-toc-modified-id=\"Подготовка-данных-2\"><span class=\"toc-item-num\">2&nbsp;&nbsp;</span>Подготовка данных</a></span></li><li><span><a href=\"#Анализ-данных\" data-toc-modified-id=\"Анализ-данных-3\"><span class=\"toc-item-num\">3&nbsp;&nbsp;</span>Анализ данных</a></span></li><li><span><a href=\"#Модель\" data-toc-modified-id=\"Модель-4\"><span class=\"toc-item-num\">4&nbsp;&nbsp;</span>Модель</a></span></li><li><span><a href=\"#Чек-лист-готовности-проекта\" data-toc-modified-id=\"Чек-лист-готовности-проекта-5\"><span class=\"toc-item-num\">5&nbsp;&nbsp;</span>Чек-лист готовности проекта</a></span></li></ul></div>"
   ]
  },
  {
   "cell_type": "markdown",
   "metadata": {},
   "source": [
    "# Восстановление золота из руды"
   ]
  },
  {
   "cell_type": "markdown",
   "metadata": {},
   "source": [
    "## Описание задачи"
   ]
  },
  {
   "cell_type": "markdown",
   "metadata": {},
   "source": [
    "__Необходимо подготовить прототип модели машинного обучения для компании «Цифра».__ Компания разрабатывает решения для эффективной работы промышленных предприятий.\n",
    "\n",
    "Модель должна предсказать коэффициент восстановления золота из золотосодержащей руды. Компания предоставила данные с параметрами добычи и очистки. Модель поможет оптимизировать производство, чтобы не запускать предприятие с убыточными характеристиками.\n",
    "\n",
    "__В рамках проекта необходимо:__\n",
    "\n",
    "1. Подготовить данные;\n",
    "2. Провести исследовательский анализ данных;\n",
    "3. Построить и обучить модель."
   ]
  },
  {
   "cell_type": "markdown",
   "metadata": {},
   "source": [
    "Краткое описание процесса добычи золота из руды:\n",
    "После добычи руды и обработки получается дробленая смесь. Ее отправляют на флотацию (обогащение) и двухэтапную очистку:\n",
    "1. Флотация\n",
    "        Во флотационную установку подаётся смесь золотосодержащей руды. После обогащения получается черновой концентрат и «отвальные хвосты», то есть остатки продукта с низкой концентрацией ценных металлов.\n",
    "        На стабильность этого процесса влияет непостоянное и неоптимальное физико-химическое состояние флотационной пульпы (смеси твёрдых частиц и жидкости).\n",
    "\n",
    "\n",
    "2. Очистка\n",
    "        Черновой концентрат проходит две очистки. На выходе получается финальный концентрат и новые отвальные хвосты.\n",
    "\n",
    "![](https://pictures.s3.yandex.net/resources/viruchka_1576238830.jpg)\n",
    "\n",
    "Эффективность обогащения руды рассчитывается по следующей формуле:\n",
    "\n",
    "![](https://pictures.s3.yandex.net/resources/Recovery_1576238822.jpg)\n",
    "\n",
    "где:\n",
    "- C — доля золота в концентрате после флотации/очистки;\n",
    "- F — доля золота в сырье/концентрате до флотации/очистки;\n",
    "- T — доля золота в отвальных хвостах после флотации/очистки.\n",
    "\n",
    "Для прогноза коэффициента нужно найти долю золота в концентратах и хвостах. Причём важен не только финальный продукт, но и черновой концентрат."
   ]
  },
  {
   "cell_type": "markdown",
   "metadata": {},
   "source": [
    "Качество модели оценивается с использованием метрики __sMAPE__ (англ. Symmetric Mean Absolute Percentage Error, «симметричное среднее абсолютное процентное отклонение»).\n",
    "\n",
    "Формула для вычисления sMAPE:\n",
    "![](https://pictures.s3.yandex.net/resources/smape_1576238825.jpg)\n",
    "где:\n",
    "- yi – значение целевого признака для объекта с порядковым номером i в выборке, на которой измеряется качество;\n",
    "- ^yi – (y с крышечкой) – значение предсказания для объекта с порядковым номером i, например, в тестовой выборке;\n",
    "- N – количество объектов в выборке."
   ]
  },
  {
   "cell_type": "markdown",
   "metadata": {},
   "source": [
    "\n",
    "Данные находятся в трёх файлах:\n",
    "- `gold_recovery_train_new.csv` — обучающая выборка;\n",
    "- `gold_recovery_test_new.csv` — тестовая выборка;\n",
    "- `gold_recovery_full_new.csv` — исходные данные.\n",
    "\n",
    "\n",
    "Данные индексируются датой и временем получения информации (признак date). Соседние по времени параметры часто похожи.\n",
    "Некоторые параметры недоступны, потому что замеряются и/или рассчитываются значительно позже. Из-за этого в тестовой выборке отсутствуют некоторые признаки, которые могут быть в обучающей. Также в тестовом наборе нет целевых признаков.\n",
    "Исходный датасет содержит обучающую и тестовую выборки со всеми признаками.\n",
    "\n",
    "Предоставленные данные являются сырыми и требуют проверки на корректность и предобработки.\n",
    "\n",
    "__Описание данных:__\n",
    "\n",
    "__Технологический процесс:__\n",
    "- `Rougher feed` — исходное сырье;\n",
    "- `Rougher additions (или reagent additions)` — флотационные реагенты: Xanthate, Sulphate, Depressant;\n",
    "- `Xanthate **`— ксантогенат (промотер, или активатор флотации);\n",
    "- `Sulphate` — сульфат (на данном производстве сульфид натрия);\n",
    "- `Depressant` — депрессант (силикат натрия);\n",
    "- `Rougher process` (англ. «грубый процесс») — флотация;\n",
    "- `Rougher tails` — отвальные хвосты;\n",
    "- `Float banks` — флотационная установка;\n",
    "- `Cleaner process` — очистка;\n",
    "- `Rougher Au` — черновой концентрат золота;\n",
    "- `Final Au` — финальный концентрат золота.\n",
    "\n",
    "__Параметры этапов:__\n",
    "- `air amount` — объём воздуха;\n",
    "- `fluid levels` — уровень жидкости;\n",
    "- `feed size` — размер гранул сырья;\n",
    "- `feed rate` — скорость подачи.\n",
    "\n",
    "__Наименование признаков:__\n",
    "\n",
    "1. Название признака имеет следующую структуру: `[этап].[тип_параметра].[название_параметра]`. Пример: `rougher.input.feed_ag`\n",
    "\n",
    "\n",
    "1. Возможные значения для блока `[этап]`:\n",
    "    - `rougher` — флотация;\n",
    "    - `primary_cleaner` — первичная очистка;\n",
    "    - `secondary_cleaner` — вторичная очистка;\n",
    "    - `final` — финальные характеристики.\n",
    "   \n",
    "   \n",
    "1. Возможные значения для блока `[тип_параметра]`:\n",
    "    - `input` — параметры сырья;\n",
    "    - `output` — параметры продукта;\n",
    "    - `state` — параметры, характеризующие текущее состояние этапа;\n",
    "    - `calculation` — расчётные характеристики.\n",
    "    "
   ]
  },
  {
   "cell_type": "markdown",
   "metadata": {},
   "source": [
    "Необходимо построить прогноз для двух величин:\n",
    "1. Эффективность обогащения чернового концентрата `rougher.output.recovery`.\n",
    "2. Эффективность обогащения финального концентрата `final.output.recovery`.\n",
    "\n",
    "Итоговая метрика складывается из значений метрики sMAPE для каждой из этих величин в соотношении, взвешенно, с весами 0.25 для эффективности обогащения чернового концентрата и 0.75 для эффективности обогащения финального концентрата."
   ]
  },
  {
   "cell_type": "markdown",
   "metadata": {},
   "source": [
    "### Подготовка окружения"
   ]
  },
  {
   "cell_type": "markdown",
   "metadata": {},
   "source": [
    "В рамках одной ячейкий загрузим все необходимые в проекте модули."
   ]
  },
  {
   "cell_type": "code",
   "execution_count": 1,
   "metadata": {},
   "outputs": [],
   "source": [
    "import pandas as pd\n",
    "import matplotlib.pyplot as plt\n",
    "from sklearn.metrics import mean_absolute_error\n",
    "from sklearn.preprocessing import StandardScaler\n",
    "import seaborn as sns\n",
    "from sklearn.linear_model import LinearRegression\n",
    "from sklearn.svm import LinearSVR\n",
    "from sklearn.tree import DecisionTreeRegressor\n",
    "from sklearn.dummy import DummyRegressor"
   ]
  },
  {
   "cell_type": "markdown",
   "metadata": {},
   "source": [
    "## Подготовка данных"
   ]
  },
  {
   "cell_type": "markdown",
   "metadata": {},
   "source": [
    "Загрузим данные и выведем на экран обзорную информацию для таблицы `gold_recovery_full_new.csv`."
   ]
  },
  {
   "cell_type": "code",
   "execution_count": 2,
   "metadata": {},
   "outputs": [],
   "source": [
    "train = pd.read_csv('-') # Прямая ссылка на датасет удалена в связи с правилами публикации проектов\n",
    "test = pd.read_csv('-') # Прямая ссылка на датасет удалена в связи с правилами публикации проектов\n",
    "full = pd.read_csv('-') # Прямая ссылка на датасет удалена в связи с правилами публикации проектов"
   ]
  },
  {
   "cell_type": "code",
   "execution_count": 3,
   "metadata": {},
   "outputs": [
    {
     "name": "stdout",
     "output_type": "stream",
     "text": [
      "(14149, 87)\n",
      "(5290, 53)\n",
      "<class 'pandas.core.frame.DataFrame'>\n",
      "RangeIndex: 19439 entries, 0 to 19438\n",
      "Data columns (total 87 columns):\n",
      " #   Column                                              Non-Null Count  Dtype  \n",
      "---  ------                                              --------------  -----  \n",
      " 0   date                                                19439 non-null  object \n",
      " 1   final.output.concentrate_ag                         19438 non-null  float64\n",
      " 2   final.output.concentrate_pb                         19438 non-null  float64\n",
      " 3   final.output.concentrate_sol                        19228 non-null  float64\n",
      " 4   final.output.concentrate_au                         19439 non-null  float64\n",
      " 5   final.output.recovery                               19439 non-null  float64\n",
      " 6   final.output.tail_ag                                19438 non-null  float64\n",
      " 7   final.output.tail_pb                                19338 non-null  float64\n",
      " 8   final.output.tail_sol                               19433 non-null  float64\n",
      " 9   final.output.tail_au                                19439 non-null  float64\n",
      " 10  primary_cleaner.input.sulfate                       19415 non-null  float64\n",
      " 11  primary_cleaner.input.depressant                    19402 non-null  float64\n",
      " 12  primary_cleaner.input.feed_size                     19439 non-null  float64\n",
      " 13  primary_cleaner.input.xanthate                      19335 non-null  float64\n",
      " 14  primary_cleaner.output.concentrate_ag               19439 non-null  float64\n",
      " 15  primary_cleaner.output.concentrate_pb               19323 non-null  float64\n",
      " 16  primary_cleaner.output.concentrate_sol              19069 non-null  float64\n",
      " 17  primary_cleaner.output.concentrate_au               19439 non-null  float64\n",
      " 18  primary_cleaner.output.tail_ag                      19435 non-null  float64\n",
      " 19  primary_cleaner.output.tail_pb                      19418 non-null  float64\n",
      " 20  primary_cleaner.output.tail_sol                     19377 non-null  float64\n",
      " 21  primary_cleaner.output.tail_au                      19439 non-null  float64\n",
      " 22  primary_cleaner.state.floatbank8_a_air              19435 non-null  float64\n",
      " 23  primary_cleaner.state.floatbank8_a_level            19438 non-null  float64\n",
      " 24  primary_cleaner.state.floatbank8_b_air              19435 non-null  float64\n",
      " 25  primary_cleaner.state.floatbank8_b_level            19438 non-null  float64\n",
      " 26  primary_cleaner.state.floatbank8_c_air              19437 non-null  float64\n",
      " 27  primary_cleaner.state.floatbank8_c_level            19438 non-null  float64\n",
      " 28  primary_cleaner.state.floatbank8_d_air              19436 non-null  float64\n",
      " 29  primary_cleaner.state.floatbank8_d_level            19438 non-null  float64\n",
      " 30  rougher.calculation.sulfate_to_au_concentrate       19437 non-null  float64\n",
      " 31  rougher.calculation.floatbank10_sulfate_to_au_feed  19437 non-null  float64\n",
      " 32  rougher.calculation.floatbank11_sulfate_to_au_feed  19437 non-null  float64\n",
      " 33  rougher.calculation.au_pb_ratio                     19439 non-null  float64\n",
      " 34  rougher.input.feed_ag                               19439 non-null  float64\n",
      " 35  rougher.input.feed_pb                               19339 non-null  float64\n",
      " 36  rougher.input.feed_rate                             19428 non-null  float64\n",
      " 37  rougher.input.feed_size                             19294 non-null  float64\n",
      " 38  rougher.input.feed_sol                              19340 non-null  float64\n",
      " 39  rougher.input.feed_au                               19439 non-null  float64\n",
      " 40  rougher.input.floatbank10_sulfate                   19405 non-null  float64\n",
      " 41  rougher.input.floatbank10_xanthate                  19431 non-null  float64\n",
      " 42  rougher.input.floatbank11_sulfate                   19395 non-null  float64\n",
      " 43  rougher.input.floatbank11_xanthate                  18986 non-null  float64\n",
      " 44  rougher.output.concentrate_ag                       19439 non-null  float64\n",
      " 45  rougher.output.concentrate_pb                       19439 non-null  float64\n",
      " 46  rougher.output.concentrate_sol                      19416 non-null  float64\n",
      " 47  rougher.output.concentrate_au                       19439 non-null  float64\n",
      " 48  rougher.output.recovery                             19439 non-null  float64\n",
      " 49  rougher.output.tail_ag                              19438 non-null  float64\n",
      " 50  rougher.output.tail_pb                              19439 non-null  float64\n",
      " 51  rougher.output.tail_sol                             19439 non-null  float64\n",
      " 52  rougher.output.tail_au                              19439 non-null  float64\n",
      " 53  rougher.state.floatbank10_a_air                     19438 non-null  float64\n",
      " 54  rougher.state.floatbank10_a_level                   19438 non-null  float64\n",
      " 55  rougher.state.floatbank10_b_air                     19438 non-null  float64\n",
      " 56  rougher.state.floatbank10_b_level                   19438 non-null  float64\n",
      " 57  rougher.state.floatbank10_c_air                     19438 non-null  float64\n",
      " 58  rougher.state.floatbank10_c_level                   19438 non-null  float64\n",
      " 59  rougher.state.floatbank10_d_air                     19439 non-null  float64\n",
      " 60  rougher.state.floatbank10_d_level                   19439 non-null  float64\n",
      " 61  rougher.state.floatbank10_e_air                     19003 non-null  float64\n",
      " 62  rougher.state.floatbank10_e_level                   19439 non-null  float64\n",
      " 63  rougher.state.floatbank10_f_air                     19439 non-null  float64\n",
      " 64  rougher.state.floatbank10_f_level                   19439 non-null  float64\n",
      " 65  secondary_cleaner.output.tail_ag                    19437 non-null  float64\n",
      " 66  secondary_cleaner.output.tail_pb                    19427 non-null  float64\n",
      " 67  secondary_cleaner.output.tail_sol                   17691 non-null  float64\n",
      " 68  secondary_cleaner.output.tail_au                    19439 non-null  float64\n",
      " 69  secondary_cleaner.state.floatbank2_a_air            19219 non-null  float64\n",
      " 70  secondary_cleaner.state.floatbank2_a_level          19438 non-null  float64\n",
      " 71  secondary_cleaner.state.floatbank2_b_air            19416 non-null  float64\n",
      " 72  secondary_cleaner.state.floatbank2_b_level          19438 non-null  float64\n",
      " 73  secondary_cleaner.state.floatbank3_a_air            19426 non-null  float64\n",
      " 74  secondary_cleaner.state.floatbank3_a_level          19438 non-null  float64\n",
      " 75  secondary_cleaner.state.floatbank3_b_air            19438 non-null  float64\n",
      " 76  secondary_cleaner.state.floatbank3_b_level          19438 non-null  float64\n",
      " 77  secondary_cleaner.state.floatbank4_a_air            19433 non-null  float64\n",
      " 78  secondary_cleaner.state.floatbank4_a_level          19438 non-null  float64\n",
      " 79  secondary_cleaner.state.floatbank4_b_air            19438 non-null  float64\n",
      " 80  secondary_cleaner.state.floatbank4_b_level          19438 non-null  float64\n",
      " 81  secondary_cleaner.state.floatbank5_a_air            19438 non-null  float64\n",
      " 82  secondary_cleaner.state.floatbank5_a_level          19438 non-null  float64\n",
      " 83  secondary_cleaner.state.floatbank5_b_air            19438 non-null  float64\n",
      " 84  secondary_cleaner.state.floatbank5_b_level          19438 non-null  float64\n",
      " 85  secondary_cleaner.state.floatbank6_a_air            19437 non-null  float64\n",
      " 86  secondary_cleaner.state.floatbank6_a_level          19438 non-null  float64\n",
      "dtypes: float64(86), object(1)\n",
      "memory usage: 12.9+ MB\n"
     ]
    }
   ],
   "source": [
    "print(train.shape)\n",
    "print(test.shape)\n",
    "full.info()"
   ]
  },
  {
   "cell_type": "markdown",
   "metadata": {},
   "source": [
    "В данных есть пропуски, однако их количество для большинства столбцов незначительное. Только в столбце `secondary_cleaner.output.tail_sol` значительное количество пропусков. В условиях от заказчика указано, что соседние наблюдения часто имеют схожие характеристики, соответственно мы можем заменить пропуски ближайшим числом.\n",
    "\n",
    "Проверим точность расчета эффективности обогащения чернового концентрата."
   ]
  },
  {
   "cell_type": "code",
   "execution_count": 4,
   "metadata": {},
   "outputs": [],
   "source": [
    "target = ((train['rougher.output.concentrate_au'] * (train['rougher.input.feed_au'] - train['rougher.output.tail_au']))/\n",
    "          (train['rougher.input.feed_au'] * (train['rougher.output.concentrate_au'] - train['rougher.output.tail_au']))) * 100"
   ]
  },
  {
   "cell_type": "code",
   "execution_count": 5,
   "metadata": {},
   "outputs": [
    {
     "name": "stdout",
     "output_type": "stream",
     "text": [
      "9.73512347450521e-15\n",
      "count    14149.000000\n",
      "mean        82.704502\n",
      "std         14.479156\n",
      "min          0.000000\n",
      "25%         79.993067\n",
      "50%         85.299462\n",
      "75%         90.165021\n",
      "max        100.000000\n",
      "Name: rougher.output.recovery, dtype: float64\n",
      "count    14149.000000\n",
      "mean        82.704502\n",
      "std         14.479156\n",
      "min         -0.000000\n",
      "25%         79.993067\n",
      "50%         85.299462\n",
      "75%         90.165021\n",
      "max        100.000000\n",
      "dtype: float64\n"
     ]
    }
   ],
   "source": [
    "print(mean_absolute_error(train['rougher.output.recovery'], target))\n",
    "print(train['rougher.output.recovery'].describe())\n",
    "print(target.describe())"
   ]
  },
  {
   "cell_type": "markdown",
   "metadata": {},
   "source": [
    "MAE принимает небольшое значение, статистические параметры нашего расчета практически точно повторяют параметры поллученных рассчетов. Это свидетельствует о том, что параметры рассчитаны верно. Соответственно мы можем использовать  эти параметры из полного датасета для того, что бы сформировать целевые признаки для тестового датасета.\n",
    "\n",
    "Проверим, какая информация из полного датасета отсутствует в тестовой выборке."
   ]
  },
  {
   "cell_type": "code",
   "execution_count": 6,
   "metadata": {
    "scrolled": false
   },
   "outputs": [
    {
     "name": "stdout",
     "output_type": "stream",
     "text": [
      "<class 'pandas.core.frame.DataFrame'>\n",
      "RangeIndex: 19439 entries, 0 to 19438\n",
      "Data columns (total 34 columns):\n",
      " #   Column                                              Non-Null Count  Dtype  \n",
      "---  ------                                              --------------  -----  \n",
      " 0   final.output.concentrate_ag                         19438 non-null  float64\n",
      " 1   final.output.concentrate_pb                         19438 non-null  float64\n",
      " 2   final.output.concentrate_sol                        19228 non-null  float64\n",
      " 3   final.output.concentrate_au                         19439 non-null  float64\n",
      " 4   final.output.recovery                               19439 non-null  float64\n",
      " 5   final.output.tail_ag                                19438 non-null  float64\n",
      " 6   final.output.tail_pb                                19338 non-null  float64\n",
      " 7   final.output.tail_sol                               19433 non-null  float64\n",
      " 8   final.output.tail_au                                19439 non-null  float64\n",
      " 9   primary_cleaner.output.concentrate_ag               19439 non-null  float64\n",
      " 10  primary_cleaner.output.concentrate_pb               19323 non-null  float64\n",
      " 11  primary_cleaner.output.concentrate_sol              19069 non-null  float64\n",
      " 12  primary_cleaner.output.concentrate_au               19439 non-null  float64\n",
      " 13  primary_cleaner.output.tail_ag                      19435 non-null  float64\n",
      " 14  primary_cleaner.output.tail_pb                      19418 non-null  float64\n",
      " 15  primary_cleaner.output.tail_sol                     19377 non-null  float64\n",
      " 16  primary_cleaner.output.tail_au                      19439 non-null  float64\n",
      " 17  rougher.calculation.sulfate_to_au_concentrate       19437 non-null  float64\n",
      " 18  rougher.calculation.floatbank10_sulfate_to_au_feed  19437 non-null  float64\n",
      " 19  rougher.calculation.floatbank11_sulfate_to_au_feed  19437 non-null  float64\n",
      " 20  rougher.calculation.au_pb_ratio                     19439 non-null  float64\n",
      " 21  rougher.output.concentrate_ag                       19439 non-null  float64\n",
      " 22  rougher.output.concentrate_pb                       19439 non-null  float64\n",
      " 23  rougher.output.concentrate_sol                      19416 non-null  float64\n",
      " 24  rougher.output.concentrate_au                       19439 non-null  float64\n",
      " 25  rougher.output.recovery                             19439 non-null  float64\n",
      " 26  rougher.output.tail_ag                              19438 non-null  float64\n",
      " 27  rougher.output.tail_pb                              19439 non-null  float64\n",
      " 28  rougher.output.tail_sol                             19439 non-null  float64\n",
      " 29  rougher.output.tail_au                              19439 non-null  float64\n",
      " 30  secondary_cleaner.output.tail_ag                    19437 non-null  float64\n",
      " 31  secondary_cleaner.output.tail_pb                    19427 non-null  float64\n",
      " 32  secondary_cleaner.output.tail_sol                   17691 non-null  float64\n",
      " 33  secondary_cleaner.output.tail_au                    19439 non-null  float64\n",
      "dtypes: float64(34)\n",
      "memory usage: 5.0 MB\n"
     ]
    }
   ],
   "source": [
    "full.loc[:, ~full.columns.isin(list(test.columns))].info()"
   ]
  },
  {
   "cell_type": "markdown",
   "metadata": {},
   "source": [
    "В тестовой выборке ожидаемо отсутствуют расчетные и фактические параметры полученного продукта для всех этапов очистки руды. Это закономерно, так как добавление таких параметров приведет к утечке данных и к тому, что модель будет опираться на рассчетные параметры, вместо собственной оценки. Кроме этого такие параметры будут недоступны при работе модели в реальных условиях, соответственно модель следует обучать только на имеющихся в распоряжении данных.\n",
    "\n",
    "По результатам изучения данных в рамках предобработки следует провести следующие преобразования:\n",
    "1. Заменить пропуски в данных.\n",
    "2. Масштабировать признаки в датасете.\n",
    "3. Сформировать датасеты для обучения и проверки моделей с учетом известной информации на момент предсказания.\n",
    "4. Отбросить данные времени, так как эта информация избыточна и не поможет обучению модели.\n",
    "\n",
    "Заменим пропуски в данных на ближайшее значение."
   ]
  },
  {
   "cell_type": "code",
   "execution_count": 7,
   "metadata": {},
   "outputs": [],
   "source": [
    "test.ffill(inplace=True)\n",
    "train.ffill(inplace=True)\n",
    "full.ffill(inplace=True)"
   ]
  },
  {
   "cell_type": "markdown",
   "metadata": {},
   "source": [
    "Масштабируем признаки в датасетах."
   ]
  },
  {
   "cell_type": "code",
   "execution_count": 8,
   "metadata": {},
   "outputs": [],
   "source": [
    "numeric = ['primary_cleaner.input.sulfate','primary_cleaner.input.depressant', 'primary_cleaner.input.feed_size','primary_cleaner.input.xanthate',\n",
    "       'primary_cleaner.state.floatbank8_a_air','primary_cleaner.state.floatbank8_a_level','primary_cleaner.state.floatbank8_b_air',\n",
    "       'primary_cleaner.state.floatbank8_b_level','primary_cleaner.state.floatbank8_c_air','primary_cleaner.state.floatbank8_c_level',\n",
    "       'primary_cleaner.state.floatbank8_d_air','primary_cleaner.state.floatbank8_d_level', 'rougher.input.feed_ag',\n",
    "       'rougher.input.feed_pb', 'rougher.input.feed_rate','rougher.input.feed_size', 'rougher.input.feed_sol',\n",
    "       'rougher.input.feed_au', 'rougher.input.floatbank10_sulfate','rougher.input.floatbank10_xanthate',\n",
    "       'rougher.input.floatbank11_sulfate','rougher.input.floatbank11_xanthate', 'rougher.state.floatbank10_a_air',\n",
    "       'rougher.state.floatbank10_a_level', 'rougher.state.floatbank10_b_air','rougher.state.floatbank10_f_level',\n",
    "       'rougher.state.floatbank10_b_level', 'rougher.state.floatbank10_c_air','rougher.state.floatbank10_c_level', 'rougher.state.floatbank10_d_air',\n",
    "       'rougher.state.floatbank10_d_level', 'rougher.state.floatbank10_e_air','rougher.state.floatbank10_e_level', 'rougher.state.floatbank10_f_air',\n",
    "       'secondary_cleaner.state.floatbank2_a_air','secondary_cleaner.state.floatbank2_a_level','secondary_cleaner.state.floatbank2_b_air',\n",
    "       'secondary_cleaner.state.floatbank2_b_level','secondary_cleaner.state.floatbank3_a_air','secondary_cleaner.state.floatbank3_a_level',\n",
    "       'secondary_cleaner.state.floatbank3_b_air','secondary_cleaner.state.floatbank3_b_level','secondary_cleaner.state.floatbank4_a_air',\n",
    "       'secondary_cleaner.state.floatbank4_a_level','secondary_cleaner.state.floatbank4_b_air','secondary_cleaner.state.floatbank4_b_level',\n",
    "       'secondary_cleaner.state.floatbank5_a_air','secondary_cleaner.state.floatbank5_a_level','secondary_cleaner.state.floatbank5_b_air',\n",
    "       'secondary_cleaner.state.floatbank5_b_level','secondary_cleaner.state.floatbank6_a_air','secondary_cleaner.state.floatbank6_a_level']\n",
    "scaler = StandardScaler()\n",
    "scaler.fit(train[numeric])\n",
    "test[numeric] = scaler.transform(test[numeric])\n",
    "train[numeric] = scaler.transform(train[numeric])"
   ]
  },
  {
   "cell_type": "markdown",
   "metadata": {},
   "source": [
    "## Анализ данных"
   ]
  },
  {
   "cell_type": "markdown",
   "metadata": {},
   "source": [
    "Исследуем концентрацию металлов на различных этапах очистки."
   ]
  },
  {
   "cell_type": "code",
   "execution_count": 9,
   "metadata": {},
   "outputs": [
    {
     "data": {
      "image/png": "[encoded data removed]",
      "text/plain": [
       "<Figure size 1440x576 with 1 Axes>"
      ]
     },
     "metadata": {
      "needs_background": "light"
     },
     "output_type": "display_data"
    }
   ],
   "source": [
    "sorter = ['rougher.input.feed_au', 'rougher.output.concentrate_au', 'primary_cleaner.output.concentrate_au', 'final.output.concentrate_au',  \n",
    "          'rougher.input.feed_ag', 'rougher.output.concentrate_ag', 'primary_cleaner.output.concentrate_ag','final.output.concentrate_ag',\n",
    "          'rougher.input.feed_pb', 'rougher.output.concentrate_pb', 'primary_cleaner.output.concentrate_pb', 'final.output.concentrate_pb',]\n",
    "full[['rougher.input.feed_ag',\n",
    "      'rougher.input.feed_pb',\n",
    "      'rougher.input.feed_au',\n",
    "      'final.output.concentrate_ag',\n",
    "      'final.output.concentrate_pb',       \n",
    "      'final.output.concentrate_au',       \n",
    "      'primary_cleaner.output.concentrate_ag',       \n",
    "      'primary_cleaner.output.concentrate_pb',       \n",
    "      'primary_cleaner.output.concentrate_au',       \n",
    "      'rougher.output.concentrate_ag',       \n",
    "      'rougher.output.concentrate_pb',       \n",
    "      'rougher.output.concentrate_au']].reindex(sorter, axis=1).plot(kind='box', figsize=(20,8), title='Metal\\'s concentration by stage')\n",
    "plt.ylabel('% of metal')\n",
    "plt.xlabel('metal and stage')\n",
    "plt.xticks(rotation=15)\n",
    "plt.show()"
   ]
  },
  {
   "cell_type": "markdown",
   "metadata": {},
   "source": [
    "На графике распределений концентрации металлов на разных стадиях очистки четко видно, как увеличивается доля золота в сырье с медианных 8 процентов до 46. Доля серебра, сперва равное доле золота, сперва увеличивается на этапе флотации, на последующих этапах уменьшается до 5 процентов. Доля свинца постепенно увеличивается и достигает пика в 9 процентах, после чего на этапе повторной очистки остается неизменной.\n",
    "\n",
    "Примечательно, что несмотря на серьезное увеличение медианного значения количества золота, от нуля за ним тянется длинный, жирный хвост из выбросов. Некоторые пробы, вероятно содержат в себе крайне малое количество золота, которое сложно выделить при очистке."
   ]
  },
  {
   "cell_type": "markdown",
   "metadata": {},
   "source": [
    "Сравним распределения гранул сырья на обучающей и тестовой выборках."
   ]
  },
  {
   "cell_type": "code",
   "execution_count": 10,
   "metadata": {
    "scrolled": false
   },
   "outputs": [
    {
     "data": {
      "image/png": "[encoded data removed]",
      "text/plain": [
       "<Figure size 1152x720 with 4 Axes>"
      ]
     },
     "metadata": {
      "needs_background": "light"
     },
     "output_type": "display_data"
    }
   ],
   "source": [
    "fig, axs = plt.subplots(2,2, figsize=(16,10))\n",
    "train['rougher.input.feed_size'].hist(ax=axs[0,0], bins=80)\n",
    "axs[0,0].title.set_text('Feed size on rougher stage in train')\n",
    "train['primary_cleaner.input.feed_size'].hist(ax=axs[0,1], bins=80)\n",
    "axs[0,1].title.set_text('Feed size on primary cleaner stage in train')\n",
    "test['rougher.input.feed_size'].hist(ax=axs[1,0], bins=80)\n",
    "axs[1,0].title.set_text('Feed size on rougher stage in test')\n",
    "test['primary_cleaner.input.feed_size'].hist(ax=axs[1,1], bins=80)\n",
    "axs[1,1].title.set_text('Feed size on primary cleaner stage in test')\n",
    "for ax in axs.flat:\n",
    "    ax.set(xlabel='size', ylabel='frequency of observations')"
   ]
  },
  {
   "cell_type": "code",
   "execution_count": 11,
   "metadata": {},
   "outputs": [
    {
     "data": {
      "text/html": [
       "<div>\n",
       "<style scoped>\n",
       "    .dataframe tbody tr th:only-of-type {\n",
       "        vertical-align: middle;\n",
       "    }\n",
       "\n",
       "    .dataframe tbody tr th {\n",
       "        vertical-align: top;\n",
       "    }\n",
       "\n",
       "    .dataframe thead th {\n",
       "        text-align: right;\n",
       "    }\n",
       "</style>\n",
       "<table border=\"1\" class=\"dataframe\">\n",
       "  <thead>\n",
       "    <tr style=\"text-align: right;\">\n",
       "      <th></th>\n",
       "      <th>date</th>\n",
       "      <th>final.output.concentrate_ag</th>\n",
       "      <th>final.output.concentrate_pb</th>\n",
       "      <th>final.output.concentrate_sol</th>\n",
       "      <th>final.output.concentrate_au</th>\n",
       "      <th>final.output.recovery</th>\n",
       "      <th>final.output.tail_ag</th>\n",
       "      <th>final.output.tail_pb</th>\n",
       "      <th>final.output.tail_sol</th>\n",
       "      <th>final.output.tail_au</th>\n",
       "      <th>...</th>\n",
       "      <th>secondary_cleaner.state.floatbank4_a_air</th>\n",
       "      <th>secondary_cleaner.state.floatbank4_a_level</th>\n",
       "      <th>secondary_cleaner.state.floatbank4_b_air</th>\n",
       "      <th>secondary_cleaner.state.floatbank4_b_level</th>\n",
       "      <th>secondary_cleaner.state.floatbank5_a_air</th>\n",
       "      <th>secondary_cleaner.state.floatbank5_a_level</th>\n",
       "      <th>secondary_cleaner.state.floatbank5_b_air</th>\n",
       "      <th>secondary_cleaner.state.floatbank5_b_level</th>\n",
       "      <th>secondary_cleaner.state.floatbank6_a_air</th>\n",
       "      <th>secondary_cleaner.state.floatbank6_a_level</th>\n",
       "    </tr>\n",
       "  </thead>\n",
       "  <tbody>\n",
       "    <tr>\n",
       "      <th>0</th>\n",
       "      <td>2016-01-15 00:00:00</td>\n",
       "      <td>6.055403</td>\n",
       "      <td>9.889648</td>\n",
       "      <td>5.507324</td>\n",
       "      <td>42.192020</td>\n",
       "      <td>70.541216</td>\n",
       "      <td>10.411962</td>\n",
       "      <td>0.895447</td>\n",
       "      <td>16.904297</td>\n",
       "      <td>2.143149</td>\n",
       "      <td>...</td>\n",
       "      <td>14.016835</td>\n",
       "      <td>-502.488007</td>\n",
       "      <td>12.099931</td>\n",
       "      <td>-504.715942</td>\n",
       "      <td>9.925633</td>\n",
       "      <td>-498.310211</td>\n",
       "      <td>8.079666</td>\n",
       "      <td>-500.470978</td>\n",
       "      <td>14.151341</td>\n",
       "      <td>-605.841980</td>\n",
       "    </tr>\n",
       "    <tr>\n",
       "      <th>1</th>\n",
       "      <td>2016-01-15 01:00:00</td>\n",
       "      <td>6.029369</td>\n",
       "      <td>9.968944</td>\n",
       "      <td>5.257781</td>\n",
       "      <td>42.701629</td>\n",
       "      <td>69.266198</td>\n",
       "      <td>10.462676</td>\n",
       "      <td>0.927452</td>\n",
       "      <td>16.634514</td>\n",
       "      <td>2.224930</td>\n",
       "      <td>...</td>\n",
       "      <td>13.992281</td>\n",
       "      <td>-505.503262</td>\n",
       "      <td>11.950531</td>\n",
       "      <td>-501.331529</td>\n",
       "      <td>10.039245</td>\n",
       "      <td>-500.169983</td>\n",
       "      <td>7.984757</td>\n",
       "      <td>-500.582168</td>\n",
       "      <td>13.998353</td>\n",
       "      <td>-599.787184</td>\n",
       "    </tr>\n",
       "    <tr>\n",
       "      <th>2</th>\n",
       "      <td>2016-01-15 02:00:00</td>\n",
       "      <td>6.055926</td>\n",
       "      <td>10.213995</td>\n",
       "      <td>5.383759</td>\n",
       "      <td>42.657501</td>\n",
       "      <td>68.116445</td>\n",
       "      <td>10.507046</td>\n",
       "      <td>0.953716</td>\n",
       "      <td>16.208849</td>\n",
       "      <td>2.257889</td>\n",
       "      <td>...</td>\n",
       "      <td>14.015015</td>\n",
       "      <td>-502.520901</td>\n",
       "      <td>11.912783</td>\n",
       "      <td>-501.133383</td>\n",
       "      <td>10.070913</td>\n",
       "      <td>-500.129135</td>\n",
       "      <td>8.013877</td>\n",
       "      <td>-500.517572</td>\n",
       "      <td>14.028663</td>\n",
       "      <td>-601.427363</td>\n",
       "    </tr>\n",
       "    <tr>\n",
       "      <th>3</th>\n",
       "      <td>2016-01-15 03:00:00</td>\n",
       "      <td>6.047977</td>\n",
       "      <td>9.977019</td>\n",
       "      <td>4.858634</td>\n",
       "      <td>42.689819</td>\n",
       "      <td>68.347543</td>\n",
       "      <td>10.422762</td>\n",
       "      <td>0.883763</td>\n",
       "      <td>16.532835</td>\n",
       "      <td>2.146849</td>\n",
       "      <td>...</td>\n",
       "      <td>14.036510</td>\n",
       "      <td>-500.857308</td>\n",
       "      <td>11.999550</td>\n",
       "      <td>-501.193686</td>\n",
       "      <td>9.970366</td>\n",
       "      <td>-499.201640</td>\n",
       "      <td>7.977324</td>\n",
       "      <td>-500.255908</td>\n",
       "      <td>14.005551</td>\n",
       "      <td>-599.996129</td>\n",
       "    </tr>\n",
       "    <tr>\n",
       "      <th>4</th>\n",
       "      <td>2016-01-15 04:00:00</td>\n",
       "      <td>6.148599</td>\n",
       "      <td>10.142511</td>\n",
       "      <td>4.939416</td>\n",
       "      <td>42.774141</td>\n",
       "      <td>66.927016</td>\n",
       "      <td>10.360302</td>\n",
       "      <td>0.792826</td>\n",
       "      <td>16.525686</td>\n",
       "      <td>2.055292</td>\n",
       "      <td>...</td>\n",
       "      <td>14.027298</td>\n",
       "      <td>-499.838632</td>\n",
       "      <td>11.953070</td>\n",
       "      <td>-501.053894</td>\n",
       "      <td>9.925709</td>\n",
       "      <td>-501.686727</td>\n",
       "      <td>7.894242</td>\n",
       "      <td>-500.356035</td>\n",
       "      <td>13.996647</td>\n",
       "      <td>-601.496691</td>\n",
       "    </tr>\n",
       "    <tr>\n",
       "      <th>...</th>\n",
       "      <td>...</td>\n",
       "      <td>...</td>\n",
       "      <td>...</td>\n",
       "      <td>...</td>\n",
       "      <td>...</td>\n",
       "      <td>...</td>\n",
       "      <td>...</td>\n",
       "      <td>...</td>\n",
       "      <td>...</td>\n",
       "      <td>...</td>\n",
       "      <td>...</td>\n",
       "      <td>...</td>\n",
       "      <td>...</td>\n",
       "      <td>...</td>\n",
       "      <td>...</td>\n",
       "      <td>...</td>\n",
       "      <td>...</td>\n",
       "      <td>...</td>\n",
       "      <td>...</td>\n",
       "      <td>...</td>\n",
       "      <td>...</td>\n",
       "    </tr>\n",
       "    <tr>\n",
       "      <th>19434</th>\n",
       "      <td>2018-08-18 06:59:59</td>\n",
       "      <td>3.224920</td>\n",
       "      <td>11.356233</td>\n",
       "      <td>6.803482</td>\n",
       "      <td>46.713954</td>\n",
       "      <td>73.755150</td>\n",
       "      <td>8.769645</td>\n",
       "      <td>3.141541</td>\n",
       "      <td>10.403181</td>\n",
       "      <td>1.529220</td>\n",
       "      <td>...</td>\n",
       "      <td>23.031497</td>\n",
       "      <td>-501.167942</td>\n",
       "      <td>20.007571</td>\n",
       "      <td>-499.740028</td>\n",
       "      <td>18.006038</td>\n",
       "      <td>-499.834374</td>\n",
       "      <td>13.001114</td>\n",
       "      <td>-500.155694</td>\n",
       "      <td>20.007840</td>\n",
       "      <td>-501.296428</td>\n",
       "    </tr>\n",
       "    <tr>\n",
       "      <th>19435</th>\n",
       "      <td>2018-08-18 07:59:59</td>\n",
       "      <td>3.195978</td>\n",
       "      <td>11.349355</td>\n",
       "      <td>6.862249</td>\n",
       "      <td>46.866780</td>\n",
       "      <td>69.049291</td>\n",
       "      <td>8.897321</td>\n",
       "      <td>3.130493</td>\n",
       "      <td>10.549470</td>\n",
       "      <td>1.612542</td>\n",
       "      <td>...</td>\n",
       "      <td>22.960095</td>\n",
       "      <td>-501.612783</td>\n",
       "      <td>20.035660</td>\n",
       "      <td>-500.251357</td>\n",
       "      <td>17.998535</td>\n",
       "      <td>-500.395178</td>\n",
       "      <td>12.954048</td>\n",
       "      <td>-499.895163</td>\n",
       "      <td>19.968498</td>\n",
       "      <td>-501.041608</td>\n",
       "    </tr>\n",
       "    <tr>\n",
       "      <th>19436</th>\n",
       "      <td>2018-08-18 08:59:59</td>\n",
       "      <td>3.109998</td>\n",
       "      <td>11.434366</td>\n",
       "      <td>6.886013</td>\n",
       "      <td>46.795691</td>\n",
       "      <td>67.002189</td>\n",
       "      <td>8.529606</td>\n",
       "      <td>2.911418</td>\n",
       "      <td>11.115147</td>\n",
       "      <td>1.596616</td>\n",
       "      <td>...</td>\n",
       "      <td>23.015718</td>\n",
       "      <td>-501.711599</td>\n",
       "      <td>19.951231</td>\n",
       "      <td>-499.857027</td>\n",
       "      <td>18.019543</td>\n",
       "      <td>-500.451156</td>\n",
       "      <td>13.023431</td>\n",
       "      <td>-499.914391</td>\n",
       "      <td>19.990885</td>\n",
       "      <td>-501.518452</td>\n",
       "    </tr>\n",
       "    <tr>\n",
       "      <th>19437</th>\n",
       "      <td>2018-08-18 09:59:59</td>\n",
       "      <td>3.367241</td>\n",
       "      <td>11.625587</td>\n",
       "      <td>6.799433</td>\n",
       "      <td>46.408188</td>\n",
       "      <td>65.523246</td>\n",
       "      <td>8.777171</td>\n",
       "      <td>2.819214</td>\n",
       "      <td>10.463847</td>\n",
       "      <td>1.602879</td>\n",
       "      <td>...</td>\n",
       "      <td>23.024963</td>\n",
       "      <td>-501.153409</td>\n",
       "      <td>20.054122</td>\n",
       "      <td>-500.314711</td>\n",
       "      <td>17.979515</td>\n",
       "      <td>-499.272871</td>\n",
       "      <td>12.992404</td>\n",
       "      <td>-499.976268</td>\n",
       "      <td>20.013986</td>\n",
       "      <td>-500.625471</td>\n",
       "    </tr>\n",
       "    <tr>\n",
       "      <th>19438</th>\n",
       "      <td>2018-08-18 10:59:59</td>\n",
       "      <td>3.598375</td>\n",
       "      <td>11.737832</td>\n",
       "      <td>6.717509</td>\n",
       "      <td>46.299438</td>\n",
       "      <td>70.281454</td>\n",
       "      <td>8.406690</td>\n",
       "      <td>2.517518</td>\n",
       "      <td>10.652193</td>\n",
       "      <td>1.389434</td>\n",
       "      <td>...</td>\n",
       "      <td>23.018622</td>\n",
       "      <td>-500.492702</td>\n",
       "      <td>20.020205</td>\n",
       "      <td>-500.220296</td>\n",
       "      <td>17.963512</td>\n",
       "      <td>-499.939490</td>\n",
       "      <td>12.990306</td>\n",
       "      <td>-500.080993</td>\n",
       "      <td>19.990336</td>\n",
       "      <td>-499.191575</td>\n",
       "    </tr>\n",
       "  </tbody>\n",
       "</table>\n",
       "<p>19439 rows × 87 columns</p>\n",
       "</div>"
      ],
      "text/plain": [
       "                      date  final.output.concentrate_ag  \\\n",
       "0      2016-01-15 00:00:00                     6.055403   \n",
       "1      2016-01-15 01:00:00                     6.029369   \n",
       "2      2016-01-15 02:00:00                     6.055926   \n",
       "3      2016-01-15 03:00:00                     6.047977   \n",
       "4      2016-01-15 04:00:00                     6.148599   \n",
       "...                    ...                          ...   \n",
       "19434  2018-08-18 06:59:59                     3.224920   \n",
       "19435  2018-08-18 07:59:59                     3.195978   \n",
       "19436  2018-08-18 08:59:59                     3.109998   \n",
       "19437  2018-08-18 09:59:59                     3.367241   \n",
       "19438  2018-08-18 10:59:59                     3.598375   \n",
       "\n",
       "       final.output.concentrate_pb  final.output.concentrate_sol  \\\n",
       "0                         9.889648                      5.507324   \n",
       "1                         9.968944                      5.257781   \n",
       "2                        10.213995                      5.383759   \n",
       "3                         9.977019                      4.858634   \n",
       "4                        10.142511                      4.939416   \n",
       "...                            ...                           ...   \n",
       "19434                    11.356233                      6.803482   \n",
       "19435                    11.349355                      6.862249   \n",
       "19436                    11.434366                      6.886013   \n",
       "19437                    11.625587                      6.799433   \n",
       "19438                    11.737832                      6.717509   \n",
       "\n",
       "       final.output.concentrate_au  final.output.recovery  \\\n",
       "0                        42.192020              70.541216   \n",
       "1                        42.701629              69.266198   \n",
       "2                        42.657501              68.116445   \n",
       "3                        42.689819              68.347543   \n",
       "4                        42.774141              66.927016   \n",
       "...                            ...                    ...   \n",
       "19434                    46.713954              73.755150   \n",
       "19435                    46.866780              69.049291   \n",
       "19436                    46.795691              67.002189   \n",
       "19437                    46.408188              65.523246   \n",
       "19438                    46.299438              70.281454   \n",
       "\n",
       "       final.output.tail_ag  final.output.tail_pb  final.output.tail_sol  \\\n",
       "0                 10.411962              0.895447              16.904297   \n",
       "1                 10.462676              0.927452              16.634514   \n",
       "2                 10.507046              0.953716              16.208849   \n",
       "3                 10.422762              0.883763              16.532835   \n",
       "4                 10.360302              0.792826              16.525686   \n",
       "...                     ...                   ...                    ...   \n",
       "19434              8.769645              3.141541              10.403181   \n",
       "19435              8.897321              3.130493              10.549470   \n",
       "19436              8.529606              2.911418              11.115147   \n",
       "19437              8.777171              2.819214              10.463847   \n",
       "19438              8.406690              2.517518              10.652193   \n",
       "\n",
       "       final.output.tail_au  ...  secondary_cleaner.state.floatbank4_a_air  \\\n",
       "0                  2.143149  ...                                 14.016835   \n",
       "1                  2.224930  ...                                 13.992281   \n",
       "2                  2.257889  ...                                 14.015015   \n",
       "3                  2.146849  ...                                 14.036510   \n",
       "4                  2.055292  ...                                 14.027298   \n",
       "...                     ...  ...                                       ...   \n",
       "19434              1.529220  ...                                 23.031497   \n",
       "19435              1.612542  ...                                 22.960095   \n",
       "19436              1.596616  ...                                 23.015718   \n",
       "19437              1.602879  ...                                 23.024963   \n",
       "19438              1.389434  ...                                 23.018622   \n",
       "\n",
       "       secondary_cleaner.state.floatbank4_a_level  \\\n",
       "0                                     -502.488007   \n",
       "1                                     -505.503262   \n",
       "2                                     -502.520901   \n",
       "3                                     -500.857308   \n",
       "4                                     -499.838632   \n",
       "...                                           ...   \n",
       "19434                                 -501.167942   \n",
       "19435                                 -501.612783   \n",
       "19436                                 -501.711599   \n",
       "19437                                 -501.153409   \n",
       "19438                                 -500.492702   \n",
       "\n",
       "       secondary_cleaner.state.floatbank4_b_air  \\\n",
       "0                                     12.099931   \n",
       "1                                     11.950531   \n",
       "2                                     11.912783   \n",
       "3                                     11.999550   \n",
       "4                                     11.953070   \n",
       "...                                         ...   \n",
       "19434                                 20.007571   \n",
       "19435                                 20.035660   \n",
       "19436                                 19.951231   \n",
       "19437                                 20.054122   \n",
       "19438                                 20.020205   \n",
       "\n",
       "       secondary_cleaner.state.floatbank4_b_level  \\\n",
       "0                                     -504.715942   \n",
       "1                                     -501.331529   \n",
       "2                                     -501.133383   \n",
       "3                                     -501.193686   \n",
       "4                                     -501.053894   \n",
       "...                                           ...   \n",
       "19434                                 -499.740028   \n",
       "19435                                 -500.251357   \n",
       "19436                                 -499.857027   \n",
       "19437                                 -500.314711   \n",
       "19438                                 -500.220296   \n",
       "\n",
       "       secondary_cleaner.state.floatbank5_a_air  \\\n",
       "0                                      9.925633   \n",
       "1                                     10.039245   \n",
       "2                                     10.070913   \n",
       "3                                      9.970366   \n",
       "4                                      9.925709   \n",
       "...                                         ...   \n",
       "19434                                 18.006038   \n",
       "19435                                 17.998535   \n",
       "19436                                 18.019543   \n",
       "19437                                 17.979515   \n",
       "19438                                 17.963512   \n",
       "\n",
       "       secondary_cleaner.state.floatbank5_a_level  \\\n",
       "0                                     -498.310211   \n",
       "1                                     -500.169983   \n",
       "2                                     -500.129135   \n",
       "3                                     -499.201640   \n",
       "4                                     -501.686727   \n",
       "...                                           ...   \n",
       "19434                                 -499.834374   \n",
       "19435                                 -500.395178   \n",
       "19436                                 -500.451156   \n",
       "19437                                 -499.272871   \n",
       "19438                                 -499.939490   \n",
       "\n",
       "       secondary_cleaner.state.floatbank5_b_air  \\\n",
       "0                                      8.079666   \n",
       "1                                      7.984757   \n",
       "2                                      8.013877   \n",
       "3                                      7.977324   \n",
       "4                                      7.894242   \n",
       "...                                         ...   \n",
       "19434                                 13.001114   \n",
       "19435                                 12.954048   \n",
       "19436                                 13.023431   \n",
       "19437                                 12.992404   \n",
       "19438                                 12.990306   \n",
       "\n",
       "       secondary_cleaner.state.floatbank5_b_level  \\\n",
       "0                                     -500.470978   \n",
       "1                                     -500.582168   \n",
       "2                                     -500.517572   \n",
       "3                                     -500.255908   \n",
       "4                                     -500.356035   \n",
       "...                                           ...   \n",
       "19434                                 -500.155694   \n",
       "19435                                 -499.895163   \n",
       "19436                                 -499.914391   \n",
       "19437                                 -499.976268   \n",
       "19438                                 -500.080993   \n",
       "\n",
       "       secondary_cleaner.state.floatbank6_a_air  \\\n",
       "0                                     14.151341   \n",
       "1                                     13.998353   \n",
       "2                                     14.028663   \n",
       "3                                     14.005551   \n",
       "4                                     13.996647   \n",
       "...                                         ...   \n",
       "19434                                 20.007840   \n",
       "19435                                 19.968498   \n",
       "19436                                 19.990885   \n",
       "19437                                 20.013986   \n",
       "19438                                 19.990336   \n",
       "\n",
       "       secondary_cleaner.state.floatbank6_a_level  \n",
       "0                                     -605.841980  \n",
       "1                                     -599.787184  \n",
       "2                                     -601.427363  \n",
       "3                                     -599.996129  \n",
       "4                                     -601.496691  \n",
       "...                                           ...  \n",
       "19434                                 -501.296428  \n",
       "19435                                 -501.041608  \n",
       "19436                                 -501.518452  \n",
       "19437                                 -500.625471  \n",
       "19438                                 -499.191575  \n",
       "\n",
       "[19439 rows x 87 columns]"
      ]
     },
     "execution_count": 11,
     "metadata": {},
     "output_type": "execute_result"
    }
   ],
   "source": [
    "full"
   ]
  },
  {
   "cell_type": "markdown",
   "metadata": {},
   "source": [
    "На тестовой и тренировочной выборкак форма распределения достаточно похожа. Размер гранул на этапе флотации тяготеет к 0, распределен нормально, но распределение скошено вправо. На этапе первичной очистки распределения также похожи, однако на тренировочной выборке есть незначительные выбросы в меньшую сторону, а на тестовой в большую сторону.\n",
    "\n",
    "В целом распределения достаточно похожи и можно на этих данных строить модель.\n",
    "\n",
    "Изучим суммарную концентрацию всех веществ на различных стадиях очистки."
   ]
  },
  {
   "cell_type": "code",
   "execution_count": 12,
   "metadata": {},
   "outputs": [
    {
     "name": "stdout",
     "output_type": "stream",
     "text": [
      "Суммарная концентрация входящего сырья: 20.646120463989536, сырья после флотации: 39.37303181255475, сырья после первичной очистки: 50.372125024905706, финального сырья: 59.22372129365595\n"
     ]
    }
   ],
   "source": [
    "rougher_input_concentration = (full['rougher.input.feed_ag'] + full['rougher.input.feed_pb'] + full['rougher.input.feed_au'])\n",
    "final_concentration = (full['final.output.concentrate_ag'] + full['final.output.concentrate_pb'] + full['final.output.concentrate_au'])\n",
    "primary_cleaner_concentration = (full['primary_cleaner.output.concentrate_ag']    + full['primary_cleaner.output.concentrate_au'] + full['primary_cleaner.output.concentrate_pb'])\n",
    "rougher_output_concentration = (full['rougher.output.concentrate_ag'] + full['rougher.output.concentrate_pb'] + full['rougher.output.concentrate_au'])\n",
    "\n",
    "print(f'Суммарная концентрация входящего сырья: {rougher_input_concentration.mean()}, сырья после флотации: {rougher_output_concentration.mean()}, сырья после первичной очистки: {primary_cleaner_concentration.mean()}, финального сырья: {final_concentration.mean()}')\n"
   ]
  },
  {
   "cell_type": "markdown",
   "metadata": {},
   "source": [
    "После всех преобразований, концентрация веществ в материале повыысилась с 20 до 59 процентов. При этом концентрация золота повысилась намного больше остальных, с 8 до 45 процентов. Изучим распределение суммарной концентрации на каждом из этапов."
   ]
  },
  {
   "cell_type": "code",
   "execution_count": 13,
   "metadata": {},
   "outputs": [
    {
     "data": {
      "image/png": "[encoded data removed]",
      "text/plain": [
       "<Figure size 1152x720 with 4 Axes>"
      ]
     },
     "metadata": {
      "needs_background": "light"
     },
     "output_type": "display_data"
    }
   ],
   "source": [
    "fig, axs = plt.subplots(2,2, figsize=(16,10), sharex=True, sharey=True)\n",
    "rougher_input_concentration.hist(ax=axs[0,0], bins=80)\n",
    "axs[0,0].title.set_text('Total concentration of metals in feed on rougher stage')\n",
    "rougher_output_concentration.hist(ax=axs[0,1], bins=80)\n",
    "axs[0,1].title.set_text('Total concentration of metals in output on rougher stage')\n",
    "primary_cleaner_concentration.hist(ax=axs[1,0], bins=80)\n",
    "axs[1,0].title.set_text('Total concentration of metals in output on primary cleaner stage')\n",
    "final_concentration.hist(ax=axs[1,1], bins=80)\n",
    "axs[1,1].title.set_text('Total concentration of metals in output on final stage')\n",
    "for ax in axs.flat:\n",
    "    ax.set(xlabel='percent', ylabel='frequency of observations')"
   ]
  },
  {
   "cell_type": "markdown",
   "metadata": {},
   "source": [
    "В распределении концентрации веществ на каждой стадии наблюдается закономерная зависимость. Сперва распределение концентрации очень размазано - сырье, подаваемое на флотацию имеет нестабильную концентрацию и скошено вправо. После флотации концентрация сырья повышается, процент концентрации в среднем достигает 40, распредееление все больше походит на нормальное. После первичной очистки средний процент повышается и все распределение смещается вправо. После финальной очистки среднее значение достигает 60 и распределение \"сжимается\" к среднему. На всем этом пути, распределение становится все уже и среднее значение все выраженнее. Это говорит о стабильном результате производства, отклонения незначительны и обусловлены по большей части низкокачественным сырьем.\n",
    "\n",
    "Однако на графике наблюдается определенное количество нулевых значений. Так как в построеннии графика использовалась концентрация нескольких металлов, а на графике сырья для первичной очистки отсутсвуют нулевые значения, практически невозможно получение такого результата в ходе очистки. Маловероятно, что в ходе очистки получаются партии пустой породы. Соответственно вероятнее всего это ошибка внесения или измерения. Удалим строки, имеющие нулевые значения суммарной концентрации из датасета."
   ]
  },
  {
   "cell_type": "code",
   "execution_count": 14,
   "metadata": {},
   "outputs": [],
   "source": [
    "to_remove_from_datasets = full[((rougher_input_concentration == 0) |\n",
    "                                (final_concentration == 0) |\n",
    "                                (primary_cleaner_concentration == 0) |\n",
    "                                (rougher_output_concentration == 0))].date.to_list()"
   ]
  },
  {
   "cell_type": "code",
   "execution_count": 15,
   "metadata": {},
   "outputs": [],
   "source": [
    "train = train[~train['date'].isin(to_remove_from_datasets)]\n",
    "test = test[~test['date'].isin(to_remove_from_datasets)]\n",
    "full = full[~full['date'].isin(to_remove_from_datasets)]"
   ]
  },
  {
   "cell_type": "markdown",
   "metadata": {},
   "source": [
    "Данные проанализированы, нулевые значения убраны. Можно обучать модель."
   ]
  },
  {
   "cell_type": "markdown",
   "metadata": {},
   "source": [
    "## Модель"
   ]
  },
  {
   "cell_type": "markdown",
   "metadata": {},
   "source": [
    "Сформируем датасеты для обучения и проверки. Для избежания утечки данных удалим из тренировочного датасета столбцы, которые отсутствуют в тестовом. В процессе работы модели в реальных условиях эти данные не будут нам доступны, соответственно обучать модель на них будет бессмысленно."
   ]
  },
  {
   "cell_type": "code",
   "execution_count": 16,
   "metadata": {},
   "outputs": [],
   "source": [
    "feature_train = train.loc[:, train.columns.isin(test.columns)].reset_index(drop=True)\n",
    "target_train_rougher = train.loc[:, 'rougher.output.recovery'].reset_index(drop=True)\n",
    "target_train_final = train.loc[:, 'final.output.recovery'].reset_index(drop=True)\n",
    "feature_test = test.copy().reset_index(drop=True)\n",
    "target_test_rougher = full.loc[full.date.isin(test.date), 'rougher.output.recovery'].reset_index(drop=True)\n",
    "target_test_final = full.loc[full.date.isin(test.date), 'final.output.recovery'].reset_index(drop=True)"
   ]
  },
  {
   "cell_type": "code",
   "execution_count": 17,
   "metadata": {},
   "outputs": [
    {
     "name": "stdout",
     "output_type": "stream",
     "text": [
      "(13725, 53)\n",
      "(13725,)\n",
      "(13725,)\n",
      "(5123, 53)\n",
      "(5123,)\n",
      "(5123,)\n"
     ]
    }
   ],
   "source": [
    "print(feature_train.shape)\n",
    "print(target_train_rougher.shape)\n",
    "print(target_train_final.shape)\n",
    "print(feature_test.shape)\n",
    "print(target_test_rougher.shape)\n",
    "print(target_test_final.shape)"
   ]
  },
  {
   "cell_type": "markdown",
   "metadata": {},
   "source": [
    "Датасеты сформированы, можно приступать к анализу даннных."
   ]
  },
  {
   "cell_type": "markdown",
   "metadata": {},
   "source": [
    "Отбросим значения даты."
   ]
  },
  {
   "cell_type": "code",
   "execution_count": 18,
   "metadata": {},
   "outputs": [],
   "source": [
    "feature_train = feature_train.drop('date', axis=1)\n",
    "feature_test = feature_test.drop('date', axis=1)"
   ]
  },
  {
   "cell_type": "code",
   "execution_count": 19,
   "metadata": {},
   "outputs": [
    {
     "data": {
      "text/plain": [
       "((5123, 52), (13725, 52))"
      ]
     },
     "execution_count": 19,
     "metadata": {},
     "output_type": "execute_result"
    }
   ],
   "source": [
    "feature_test.shape, feature_train.shape"
   ]
  },
  {
   "cell_type": "markdown",
   "metadata": {},
   "source": [
    "Напишем функцию для вычисления sMAPE."
   ]
  },
  {
   "cell_type": "code",
   "execution_count": 20,
   "metadata": {},
   "outputs": [],
   "source": [
    "def smape(target, predicted):\n",
    "    return (((target - predicted).apply(abs) /\n",
    "            ((target.apply(abs) + predicted.apply(abs)) / 2)) * 100).mean()"
   ]
  },
  {
   "cell_type": "code",
   "execution_count": 21,
   "metadata": {},
   "outputs": [],
   "source": [
    "def smape(y_true, y_pred):\n",
    "    error = abs(y_true - y_pred)\n",
    "    scale = (abs(y_true) + abs(y_pred)) / 2\n",
    "    result = (error / scale).mean()\n",
    "    return result"
   ]
  },
  {
   "cell_type": "markdown",
   "metadata": {},
   "source": [
    "Обучим модели и посчитаем метрику."
   ]
  },
  {
   "cell_type": "code",
   "execution_count": 22,
   "metadata": {},
   "outputs": [
    {
     "data": {
      "text/plain": [
       "0.048674530942613606"
      ]
     },
     "execution_count": 22,
     "metadata": {},
     "output_type": "execute_result"
    }
   ],
   "source": [
    "model = LinearRegression()\n",
    "model.fit(feature_train, target_train_rougher)\n",
    "smape(target_test_rougher, pd.Series(model.predict(feature_test)))"
   ]
  },
  {
   "cell_type": "code",
   "execution_count": 23,
   "metadata": {},
   "outputs": [
    {
     "data": {
      "text/plain": [
       "0.04938549295201719"
      ]
     },
     "execution_count": 23,
     "metadata": {},
     "output_type": "execute_result"
    }
   ],
   "source": [
    "model = LinearSVR(random_state=12345)\n",
    "model.fit(feature_train, target_train_rougher)\n",
    "smape(target_test_rougher, pd.Series(model.predict(feature_test)))"
   ]
  },
  {
   "cell_type": "code",
   "execution_count": 24,
   "metadata": {},
   "outputs": [
    {
     "data": {
      "text/plain": [
       "0.0670478870245472"
      ]
     },
     "execution_count": 24,
     "metadata": {},
     "output_type": "execute_result"
    }
   ],
   "source": [
    "model = DecisionTreeRegressor(random_state=12345)\n",
    "model.fit(feature_train, target_train_rougher)\n",
    "smape(target_test_rougher, pd.Series(model.predict(feature_test)))"
   ]
  },
  {
   "cell_type": "markdown",
   "metadata": {},
   "source": [
    "Лучшее значение показывает обычная линейная регрессия, дерево решений показало худшее значение."
   ]
  },
  {
   "cell_type": "markdown",
   "metadata": {},
   "source": [
    "Протестируем модели кросс-валидацией."
   ]
  },
  {
   "cell_type": "code",
   "execution_count": 158,
   "metadata": {},
   "outputs": [
    {
     "name": "stdout",
     "output_type": "stream",
     "text": [
      "Взвешеннное значение метрики sMAPE для LinearRegression: 0.22696298241232438.\n"
     ]
    },
    {
     "name": "stderr",
     "output_type": "stream",
     "text": [
      "/opt/conda/lib/python3.9/site-packages/sklearn/svm/_base.py:985: ConvergenceWarning: Liblinear failed to converge, increase the number of iterations.\n",
      "  warnings.warn(\"Liblinear failed to converge, increase \"\n"
     ]
    },
    {
     "name": "stdout",
     "output_type": "stream",
     "text": [
      "Взвешеннное значение метрики sMAPE для LinearSVR: 0.9372348754365385.\n",
      "Взвешеннное значение метрики sMAPE для DecisionTreeRegressor: 0.13235796247598303.\n"
     ]
    }
   ],
   "source": [
    "scores_rougher = [[],[],[]]\n",
    "scores_final = [[],[],[]]\n",
    "sample_size = int(len(feature_train)/3)\n",
    "counter = 0\n",
    "for model in (LinearRegression(), LinearSVR(random_state=12345), DecisionTreeRegressor(random_state=12345)):\n",
    "    for i in range(1,4):\n",
    "\n",
    "        valid_indexes = range(i, i*sample_size)\n",
    "        train_indexes = [x for x in range(0, len(feature_train)) if x not in valid_indexes]\n",
    "        features_valid = feature_train.loc[valid_indexes,]\n",
    "        features_train = feature_train.loc[train_indexes,]\n",
    "        target_rougher_train = target_train_rougher.loc[train_indexes,]\n",
    "        target_rougher_valid = target_train_rougher.loc[valid_indexes,]\n",
    "        target_final_train = target_train_final.loc[train_indexes,]\n",
    "        target_final_valid = target_train_final.loc[valid_indexes,]\n",
    "        \n",
    "        model.fit(features_train, target_rougher_train)\n",
    "        scores_rougher[counter].append(smape(target_rougher_valid, pd.Series(model.predict(features_valid))))\n",
    "        model.fit(features_train, target_final_train)\n",
    "        scores_final[counter].append(smape(target_final_valid, pd.Series(model.predict(features_valid))))\n",
    "        \n",
    "    weighted_smape = (sum(scores_rougher[counter]) / len(scores_rougher[counter])) * 0.25 + (sum(scores_final[counter]) / len(scores_final[counter])) * 0.75\n",
    "    print(f'Взвешеннное значение метрики sMAPE для {type(model).__name__}: {weighted_smape}.')\n",
    "    counter += 1"
   ]
  },
  {
   "cell_type": "markdown",
   "metadata": {},
   "source": [
    "Несмотря на то, что дерево решений на предварительной оценке показало худшее решение, в кросс-валидации, с учетом взвешенной метрики, оно показывает существенно лучший результат."
   ]
  },
  {
   "cell_type": "raw",
   "metadata": {},
   "source": [
    "# ДЛЯ ОЗНАКОМЛЕНИЯ ВАРИАНТА КРОСС-ВАЛИДАЦИИ СО СВОЕЙ ФУНКЦИЕЙ\n",
    "\n",
    "random_state = 123\n",
    "cv = 5\n",
    "models = [DecisionTreeRegressor(random_state = random_state), \n",
    "          RandomForestRegressor(random_state=random_state), \n",
    "          LinearRegression()]\n",
    "\n",
    "\n",
    "results_cross_val = []\n",
    "\n",
    "for model in models: \n",
    "    \n",
    "    scorer = make_scorer(smape, greater_is_better=False) \n",
    "    \n",
    "    cross_val_score_rougher = cross_val_score(model, \n",
    "                                              features_train, \n",
    "                                              target_rougher_train, \n",
    "                                              cv=cv, scoring=scorer).mean()\n",
    "    cross_val_score_final = cross_val_score(model, \n",
    "                                            features_train, \n",
    "                                            target_final_train, \n",
    "                                            cv=cv, scoring=scorer).mean()\n",
    "\n",
    "    results_cross_val.append({'model name': model.__class__.__name__, \n",
    "                              'cross_val_score_rougher': cross_val_score_rougher, \n",
    "                              'cross_val_score_final': cross_val_score_final}) \n",
    "              \n",
    "pd.DataFrame(results_cross_val)"
   ]
  },
  {
   "cell_type": "markdown",
   "metadata": {},
   "source": [
    "Проверим качество модели на тестовой выборке."
   ]
  },
  {
   "cell_type": "code",
   "execution_count": 31,
   "metadata": {},
   "outputs": [
    {
     "name": "stdout",
     "output_type": "stream",
     "text": [
      "Взвешеннное значение метрики sMAPE для дерева решений на тестовой выборке: 0.07316037194142454.\n"
     ]
    }
   ],
   "source": [
    "score_rougher = []\n",
    "score_final = []\n",
    "#model = DecisionTreeRegressor(random_state=12345)\n",
    "model = LinearRegression()\n",
    "\n",
    "model.fit(feature_train, target_train_rougher)\n",
    "score_rougher.append(smape(target_test_rougher, pd.Series(model.predict(feature_test))))\n",
    "\n",
    "model.fit(feature_train, target_train_final)\n",
    "score_final.append(smape(target_test_final, pd.Series(model.predict(feature_test))))\n",
    "\n",
    "weighted_smape = (sum(score_rougher) / len(score_rougher)) * 0.25 + (sum(score_final) / len(score_final)) * 0.75\n",
    "print(f'Взвешеннное значение метрики sMAPE для дерева решений на тестовой выборке: {weighted_smape}.')"
   ]
  },
  {
   "cell_type": "markdown",
   "metadata": {},
   "source": [
    "Дерево решений показывает достаточно высокий реультат, отклонение всего 11%. \n",
    "\n",
    "На тестовой выборке модель показала себя хуже, чем при обучении и тестировании для одного только признака, однако лучше, чем при кросс-валидации.\n",
    "\n",
    "Сравним этот результат с моделью, оценивающей каждую партию по медианному значению концентрации."
   ]
  },
  {
   "cell_type": "code",
   "execution_count": 172,
   "metadata": {},
   "outputs": [
    {
     "name": "stdout",
     "output_type": "stream",
     "text": [
      "Взвешеннное значение метрики sMAPE для дамми-модели на тестовой выборке: 0.0736916738583251.\n"
     ]
    }
   ],
   "source": [
    "score_rougher = []\n",
    "score_final = []\n",
    "score_rougher.append(smape(target_test_rougher, pd.Series(target_train_rougher.median(), target_test_rougher.index)))\n",
    "score_final.append(smape(target_test_final, pd.Series(target_train_final.median(), target_test_final.index)))\n",
    "\n",
    "weighted_smape = (sum(score_rougher) / len(score_rougher)) * 0.25 + (sum(score_final) / len(score_final)) * 0.75\n",
    "print(f'Взвешеннное значение метрики sMAPE для дамми-модели на тестовой выборке: {weighted_smape}.')"
   ]
  },
  {
   "cell_type": "markdown",
   "metadata": {},
   "source": [
    "Дамми модель показывает лучший результат, чем построенная модель дерева решений. С учетом времени на обучение дерева решений для такого количества данных, будет сложно подобрать подходящие гиперпараметры для достижения лучшего и стабильного результата. Соответственно для данной задачи нецелесообразно использовать модель машинного обучения для предсказания концентрации золота в готовом продукте."
   ]
  }
 ],
 "metadata": {
  "ExecuteTimeLog": [
   {
    "duration": 981,
    "start_time": "2022-03-24T16:10:30.647Z"
   },
   {
    "duration": 72,
    "start_time": "2022-03-24T16:48:59.132Z"
   },
   {
    "duration": 2,
    "start_time": "2022-03-24T16:49:01.632Z"
   },
   {
    "duration": 73,
    "start_time": "2022-03-24T16:49:02.214Z"
   },
   {
    "duration": 316,
    "start_time": "2022-03-24T16:49:25.707Z"
   },
   {
    "duration": 640,
    "start_time": "2022-03-24T16:49:32.100Z"
   },
   {
    "duration": 56,
    "start_time": "2022-03-24T16:49:33.356Z"
   },
   {
    "duration": 45,
    "start_time": "2022-03-24T16:50:22.877Z"
   },
   {
    "duration": 11,
    "start_time": "2022-03-24T18:35:12.446Z"
   },
   {
    "duration": 145,
    "start_time": "2022-03-24T18:35:31.426Z"
   },
   {
    "duration": 13,
    "start_time": "2022-03-24T18:35:36.160Z"
   },
   {
    "duration": 3,
    "start_time": "2022-03-24T18:35:42.338Z"
   },
   {
    "duration": 12360,
    "start_time": "2022-03-24T18:38:02.258Z"
   },
   {
    "duration": 3426,
    "start_time": "2022-03-24T18:38:46.884Z"
   },
   {
    "duration": 11,
    "start_time": "2022-03-24T18:38:55.454Z"
   },
   {
    "duration": 3,
    "start_time": "2022-03-24T18:38:57.323Z"
   },
   {
    "duration": 4,
    "start_time": "2022-03-24T18:38:58.499Z"
   },
   {
    "duration": 39,
    "start_time": "2022-03-24T18:39:50.598Z"
   },
   {
    "duration": 49,
    "start_time": "2022-03-24T18:40:05.504Z"
   },
   {
    "duration": 4,
    "start_time": "2022-03-24T18:41:17.388Z"
   },
   {
    "duration": 45,
    "start_time": "2022-03-24T18:41:25.264Z"
   },
   {
    "duration": 19,
    "start_time": "2022-03-24T18:42:27.151Z"
   },
   {
    "duration": 40,
    "start_time": "2022-03-24T18:42:34.568Z"
   },
   {
    "duration": 27,
    "start_time": "2022-03-24T18:42:50.970Z"
   },
   {
    "duration": 65,
    "start_time": "2022-03-24T18:42:56.694Z"
   },
   {
    "duration": 43,
    "start_time": "2022-03-24T18:43:36.495Z"
   },
   {
    "duration": 60,
    "start_time": "2022-03-24T18:43:49.212Z"
   },
   {
    "duration": 17,
    "start_time": "2022-03-24T18:44:20.487Z"
   },
   {
    "duration": 259,
    "start_time": "2022-03-24T18:45:59.323Z"
   },
   {
    "duration": 601,
    "start_time": "2022-03-24T18:46:30.065Z"
   },
   {
    "duration": 3480,
    "start_time": "2022-03-24T18:49:45.641Z"
   },
   {
    "duration": 3,
    "start_time": "2022-03-24T18:50:16.929Z"
   },
   {
    "duration": 72,
    "start_time": "2022-03-25T11:40:50.605Z"
   },
   {
    "duration": 1047,
    "start_time": "2022-03-25T11:40:54.428Z"
   },
   {
    "duration": 798,
    "start_time": "2022-03-25T11:40:55.479Z"
   },
   {
    "duration": 750,
    "start_time": "2022-03-25T11:40:56.534Z"
   },
   {
    "duration": 51,
    "start_time": "2022-03-27T12:33:43.134Z"
   },
   {
    "duration": 863,
    "start_time": "2022-03-27T12:33:46.538Z"
   },
   {
    "duration": 715,
    "start_time": "2022-03-27T12:33:47.404Z"
   },
   {
    "duration": 25,
    "start_time": "2022-03-27T12:33:48.121Z"
   },
   {
    "duration": 13,
    "start_time": "2022-03-27T12:35:37.677Z"
   },
   {
    "duration": 17,
    "start_time": "2022-03-27T12:35:55.930Z"
   },
   {
    "duration": 35,
    "start_time": "2022-03-27T12:36:25.334Z"
   },
   {
    "duration": 5,
    "start_time": "2022-03-27T12:36:52.357Z"
   },
   {
    "duration": 47,
    "start_time": "2022-03-27T12:37:31.756Z"
   },
   {
    "duration": 13,
    "start_time": "2022-03-27T12:37:49.657Z"
   },
   {
    "duration": 32,
    "start_time": "2022-03-27T12:37:57.061Z"
   },
   {
    "duration": 15,
    "start_time": "2022-03-27T12:38:13.924Z"
   },
   {
    "duration": 34,
    "start_time": "2022-03-27T12:38:16.836Z"
   },
   {
    "duration": 31,
    "start_time": "2022-03-27T12:38:41.745Z"
   },
   {
    "duration": 31,
    "start_time": "2022-03-27T12:38:54.177Z"
   },
   {
    "duration": 32,
    "start_time": "2022-03-27T12:39:09.437Z"
   },
   {
    "duration": 134,
    "start_time": "2022-03-27T12:39:09.589Z"
   },
   {
    "duration": 17,
    "start_time": "2022-03-27T12:39:55.842Z"
   },
   {
    "duration": 16,
    "start_time": "2022-03-27T12:39:58.991Z"
   },
   {
    "duration": 7,
    "start_time": "2022-03-27T12:40:48.927Z"
   },
   {
    "duration": 4,
    "start_time": "2022-03-27T12:40:52.388Z"
   },
   {
    "duration": 4,
    "start_time": "2022-03-27T12:41:04.997Z"
   },
   {
    "duration": 5,
    "start_time": "2022-03-27T12:41:14.432Z"
   },
   {
    "duration": 53,
    "start_time": "2022-03-27T12:41:50.465Z"
   },
   {
    "duration": 20,
    "start_time": "2022-03-27T12:42:03.791Z"
   },
   {
    "duration": 17,
    "start_time": "2022-03-27T12:42:07.405Z"
   },
   {
    "duration": 39,
    "start_time": "2022-03-27T12:42:33.644Z"
   },
   {
    "duration": 148,
    "start_time": "2022-03-27T12:42:33.880Z"
   },
   {
    "duration": 39,
    "start_time": "2022-03-27T12:42:40.443Z"
   },
   {
    "duration": 41,
    "start_time": "2022-03-27T12:42:43.694Z"
   },
   {
    "duration": 49,
    "start_time": "2022-03-27T12:42:52.096Z"
   },
   {
    "duration": 25,
    "start_time": "2022-03-27T12:42:56.572Z"
   },
   {
    "duration": 12,
    "start_time": "2022-03-27T12:43:02.252Z"
   },
   {
    "duration": 18,
    "start_time": "2022-03-27T12:43:15.821Z"
   },
   {
    "duration": 19,
    "start_time": "2022-03-27T12:43:29.124Z"
   },
   {
    "duration": 18,
    "start_time": "2022-03-27T12:44:09.573Z"
   },
   {
    "duration": 19,
    "start_time": "2022-03-27T12:44:23.061Z"
   },
   {
    "duration": 19,
    "start_time": "2022-03-27T12:44:29.448Z"
   },
   {
    "duration": 24,
    "start_time": "2022-03-27T12:44:44.125Z"
   },
   {
    "duration": 16,
    "start_time": "2022-03-27T12:45:28.700Z"
   },
   {
    "duration": 19,
    "start_time": "2022-03-27T12:48:31.864Z"
   },
   {
    "duration": 25,
    "start_time": "2022-03-27T12:48:34.208Z"
   },
   {
    "duration": 10,
    "start_time": "2022-03-27T12:49:01.648Z"
   },
   {
    "duration": 11,
    "start_time": "2022-03-27T12:49:05.351Z"
   },
   {
    "duration": 7,
    "start_time": "2022-03-27T12:49:11.620Z"
   },
   {
    "duration": 9,
    "start_time": "2022-03-27T12:49:43.385Z"
   },
   {
    "duration": 1048,
    "start_time": "2022-03-27T12:49:53.260Z"
   },
   {
    "duration": 0,
    "start_time": "2022-03-27T12:49:54.310Z"
   },
   {
    "duration": 34,
    "start_time": "2022-03-27T12:50:11.803Z"
   },
   {
    "duration": 30,
    "start_time": "2022-03-27T12:50:23.248Z"
   },
   {
    "duration": 9,
    "start_time": "2022-03-27T12:50:31.052Z"
   },
   {
    "duration": 4,
    "start_time": "2022-03-27T12:59:59.070Z"
   },
   {
    "duration": 4,
    "start_time": "2022-03-27T13:06:17.486Z"
   },
   {
    "duration": 5,
    "start_time": "2022-03-27T13:06:23.639Z"
   },
   {
    "duration": 6,
    "start_time": "2022-03-27T13:06:34.751Z"
   },
   {
    "duration": 42,
    "start_time": "2022-03-27T13:07:21.866Z"
   },
   {
    "duration": 3,
    "start_time": "2022-03-27T13:07:33.047Z"
   },
   {
    "duration": 132,
    "start_time": "2022-03-27T13:07:37.166Z"
   },
   {
    "duration": 5,
    "start_time": "2022-03-27T13:07:46.140Z"
   },
   {
    "duration": 5,
    "start_time": "2022-03-27T13:09:11.160Z"
   },
   {
    "duration": 5,
    "start_time": "2022-03-27T13:09:17.384Z"
   },
   {
    "duration": 12,
    "start_time": "2022-03-27T13:09:37.656Z"
   },
   {
    "duration": 11,
    "start_time": "2022-03-27T13:09:43.304Z"
   },
   {
    "duration": 12,
    "start_time": "2022-03-27T13:10:14.141Z"
   },
   {
    "duration": 130,
    "start_time": "2022-03-27T13:12:03.443Z"
   },
   {
    "duration": 5,
    "start_time": "2022-03-27T13:12:08.931Z"
   },
   {
    "duration": 14,
    "start_time": "2022-03-27T13:12:10.129Z"
   },
   {
    "duration": 7,
    "start_time": "2022-03-27T13:15:51.222Z"
   },
   {
    "duration": 13,
    "start_time": "2022-03-27T13:15:52.226Z"
   },
   {
    "duration": 6,
    "start_time": "2022-03-27T13:16:06.626Z"
   },
   {
    "duration": 15,
    "start_time": "2022-03-27T13:16:06.844Z"
   },
   {
    "duration": 141,
    "start_time": "2022-03-27T13:17:06.250Z"
   },
   {
    "duration": 19,
    "start_time": "2022-03-27T13:17:06.584Z"
   },
   {
    "duration": 7,
    "start_time": "2022-03-27T13:17:09.371Z"
   },
   {
    "duration": 19,
    "start_time": "2022-03-27T13:17:09.936Z"
   },
   {
    "duration": 6,
    "start_time": "2022-03-27T13:17:22.281Z"
   },
   {
    "duration": 17,
    "start_time": "2022-03-27T13:17:25.334Z"
   },
   {
    "duration": 17,
    "start_time": "2022-03-27T13:25:48.097Z"
   },
   {
    "duration": 23,
    "start_time": "2022-03-27T13:25:52.747Z"
   },
   {
    "duration": 65,
    "start_time": "2022-03-27T13:29:57.866Z"
   },
   {
    "duration": 3,
    "start_time": "2022-03-27T13:59:04.005Z"
   },
   {
    "duration": 722,
    "start_time": "2022-03-27T13:59:04.011Z"
   },
   {
    "duration": 21,
    "start_time": "2022-03-27T13:59:04.735Z"
   },
   {
    "duration": 7,
    "start_time": "2022-03-27T13:59:04.757Z"
   },
   {
    "duration": 16,
    "start_time": "2022-03-27T13:59:04.766Z"
   },
   {
    "duration": 16,
    "start_time": "2022-03-27T13:59:04.784Z"
   },
   {
    "duration": 32,
    "start_time": "2022-03-27T13:59:04.832Z"
   },
   {
    "duration": 4,
    "start_time": "2022-03-27T13:59:14.766Z"
   },
   {
    "duration": 14,
    "start_time": "2022-03-27T13:59:16.171Z"
   },
   {
    "duration": 10,
    "start_time": "2022-03-27T13:59:43.162Z"
   },
   {
    "duration": 24,
    "start_time": "2022-03-27T13:59:47.539Z"
   },
   {
    "duration": 21,
    "start_time": "2022-03-27T14:00:05.035Z"
   },
   {
    "duration": 16,
    "start_time": "2022-03-27T14:00:08.837Z"
   },
   {
    "duration": 27,
    "start_time": "2022-03-27T14:00:45.109Z"
   },
   {
    "duration": 10,
    "start_time": "2022-03-27T14:00:50.849Z"
   },
   {
    "duration": 7,
    "start_time": "2022-03-27T14:00:54.416Z"
   },
   {
    "duration": 136,
    "start_time": "2022-03-27T14:00:58.913Z"
   },
   {
    "duration": 9,
    "start_time": "2022-03-27T14:01:01.885Z"
   },
   {
    "duration": 11,
    "start_time": "2022-03-27T14:01:05.122Z"
   },
   {
    "duration": 6,
    "start_time": "2022-03-27T14:04:16.522Z"
   },
   {
    "duration": 30,
    "start_time": "2022-03-27T14:04:21.398Z"
   },
   {
    "duration": 13,
    "start_time": "2022-03-27T14:08:09.075Z"
   },
   {
    "duration": 4,
    "start_time": "2022-03-27T14:08:58.497Z"
   },
   {
    "duration": 5,
    "start_time": "2022-03-27T14:12:28.051Z"
   },
   {
    "duration": 17,
    "start_time": "2022-03-27T14:14:48.392Z"
   },
   {
    "duration": 20,
    "start_time": "2022-03-27T14:15:36.911Z"
   },
   {
    "duration": 269,
    "start_time": "2022-03-27T14:15:42.828Z"
   },
   {
    "duration": 343,
    "start_time": "2022-03-27T14:16:01.433Z"
   },
   {
    "duration": 278,
    "start_time": "2022-03-27T14:16:07.153Z"
   },
   {
    "duration": 317,
    "start_time": "2022-03-27T14:16:12.843Z"
   },
   {
    "duration": 324,
    "start_time": "2022-03-27T14:17:16.077Z"
   },
   {
    "duration": 316,
    "start_time": "2022-03-27T14:17:28.285Z"
   },
   {
    "duration": 13,
    "start_time": "2022-03-27T14:21:00.777Z"
   },
   {
    "duration": 13,
    "start_time": "2022-03-27T14:21:30.330Z"
   },
   {
    "duration": 13,
    "start_time": "2022-03-27T14:22:18.389Z"
   },
   {
    "duration": 14,
    "start_time": "2022-03-27T14:22:23.723Z"
   },
   {
    "duration": 17,
    "start_time": "2022-03-27T14:23:25.197Z"
   },
   {
    "duration": 314,
    "start_time": "2022-03-27T14:23:32.041Z"
   },
   {
    "duration": 460,
    "start_time": "2022-03-27T14:24:31.153Z"
   },
   {
    "duration": 71,
    "start_time": "2022-03-27T14:29:34.731Z"
   },
   {
    "duration": 2054,
    "start_time": "2022-03-27T14:30:52.772Z"
   },
   {
    "duration": 770,
    "start_time": "2022-03-27T14:30:54.829Z"
   },
   {
    "duration": 28,
    "start_time": "2022-03-27T14:30:55.601Z"
   },
   {
    "duration": 8,
    "start_time": "2022-03-27T14:30:55.632Z"
   },
   {
    "duration": 42,
    "start_time": "2022-03-27T14:30:55.642Z"
   },
   {
    "duration": 20,
    "start_time": "2022-03-27T14:30:55.686Z"
   },
   {
    "duration": 16,
    "start_time": "2022-03-27T14:30:55.709Z"
   },
   {
    "duration": 23,
    "start_time": "2022-03-27T14:30:55.727Z"
   },
   {
    "duration": 45,
    "start_time": "2022-03-27T14:30:55.752Z"
   },
   {
    "duration": 485,
    "start_time": "2022-03-27T14:30:55.800Z"
   },
   {
    "duration": 25,
    "start_time": "2022-03-27T14:30:56.287Z"
   },
   {
    "duration": 107,
    "start_time": "2022-03-27T14:30:56.314Z"
   },
   {
    "duration": 0,
    "start_time": "2022-03-27T14:30:56.423Z"
   },
   {
    "duration": 51,
    "start_time": "2022-03-27T14:41:56.984Z"
   },
   {
    "duration": 12,
    "start_time": "2022-03-27T14:42:49.312Z"
   },
   {
    "duration": 1692,
    "start_time": "2022-03-27T14:43:00.824Z"
   },
   {
    "duration": 707,
    "start_time": "2022-03-27T14:43:02.519Z"
   },
   {
    "duration": 25,
    "start_time": "2022-03-27T14:43:03.228Z"
   },
   {
    "duration": 7,
    "start_time": "2022-03-27T14:43:03.255Z"
   },
   {
    "duration": 34,
    "start_time": "2022-03-27T14:43:03.264Z"
   },
   {
    "duration": 21,
    "start_time": "2022-03-27T14:43:03.301Z"
   },
   {
    "duration": 13,
    "start_time": "2022-03-27T14:43:03.332Z"
   },
   {
    "duration": 30,
    "start_time": "2022-03-27T14:43:03.347Z"
   },
   {
    "duration": 15,
    "start_time": "2022-03-27T14:43:03.379Z"
   },
   {
    "duration": 140,
    "start_time": "2022-03-27T14:43:03.397Z"
   },
   {
    "duration": 0,
    "start_time": "2022-03-27T14:43:03.538Z"
   },
   {
    "duration": 0,
    "start_time": "2022-03-27T14:43:03.539Z"
   },
   {
    "duration": 21,
    "start_time": "2022-03-27T14:43:23.850Z"
   },
   {
    "duration": 363,
    "start_time": "2022-03-27T14:43:32.540Z"
   },
   {
    "duration": 343,
    "start_time": "2022-03-27T14:49:45.251Z"
   },
   {
    "duration": 429,
    "start_time": "2022-03-27T14:58:23.735Z"
   },
   {
    "duration": 13,
    "start_time": "2022-03-27T14:59:06.290Z"
   },
   {
    "duration": 9,
    "start_time": "2022-03-27T14:59:13.975Z"
   },
   {
    "duration": 269,
    "start_time": "2022-03-27T14:59:26.690Z"
   },
   {
    "duration": 358,
    "start_time": "2022-03-27T14:59:55.983Z"
   },
   {
    "duration": 319,
    "start_time": "2022-03-27T15:00:01.309Z"
   },
   {
    "duration": 370,
    "start_time": "2022-03-27T15:00:24.825Z"
   },
   {
    "duration": 138,
    "start_time": "2022-03-27T15:00:47.016Z"
   },
   {
    "duration": 0,
    "start_time": "2022-03-27T15:00:47.156Z"
   },
   {
    "duration": 428,
    "start_time": "2022-03-27T15:00:49.052Z"
   },
   {
    "duration": 556,
    "start_time": "2022-03-27T15:00:54.270Z"
   },
   {
    "duration": 513,
    "start_time": "2022-03-27T15:01:15.187Z"
   },
   {
    "duration": 710,
    "start_time": "2022-03-27T15:01:26.090Z"
   },
   {
    "duration": 879,
    "start_time": "2022-03-27T15:01:31.518Z"
   },
   {
    "duration": 792,
    "start_time": "2022-03-27T15:01:34.677Z"
   },
   {
    "duration": 449,
    "start_time": "2022-03-27T15:02:55.397Z"
   },
   {
    "duration": 604,
    "start_time": "2022-03-27T15:04:05.772Z"
   },
   {
    "duration": 603,
    "start_time": "2022-03-27T15:04:38.832Z"
   },
   {
    "duration": 805,
    "start_time": "2022-03-27T15:05:13.957Z"
   },
   {
    "duration": 140,
    "start_time": "2022-03-27T15:05:14.765Z"
   },
   {
    "duration": 993,
    "start_time": "2022-03-27T15:05:27.935Z"
   },
   {
    "duration": 866,
    "start_time": "2022-03-27T15:05:33.912Z"
   },
   {
    "duration": 1168,
    "start_time": "2022-03-27T15:08:58.036Z"
   },
   {
    "duration": 901,
    "start_time": "2022-03-27T15:09:04.484Z"
   },
   {
    "duration": 210,
    "start_time": "2022-03-27T15:16:05.664Z"
   },
   {
    "duration": 3,
    "start_time": "2022-03-27T15:36:06.153Z"
   },
   {
    "duration": 5,
    "start_time": "2022-03-27T15:36:42.622Z"
   },
   {
    "duration": 4,
    "start_time": "2022-03-27T15:39:54.447Z"
   },
   {
    "duration": 710,
    "start_time": "2022-03-27T15:39:54.454Z"
   },
   {
    "duration": 20,
    "start_time": "2022-03-27T15:39:55.167Z"
   },
   {
    "duration": 6,
    "start_time": "2022-03-27T15:39:55.189Z"
   },
   {
    "duration": 20,
    "start_time": "2022-03-27T15:39:55.197Z"
   },
   {
    "duration": 16,
    "start_time": "2022-03-27T15:39:55.233Z"
   },
   {
    "duration": 13,
    "start_time": "2022-03-27T15:39:55.251Z"
   },
   {
    "duration": 15,
    "start_time": "2022-03-27T15:39:55.266Z"
   },
   {
    "duration": 0,
    "start_time": "2022-03-27T15:39:55.283Z"
   },
   {
    "duration": 0,
    "start_time": "2022-03-27T15:39:55.284Z"
   },
   {
    "duration": 0,
    "start_time": "2022-03-27T15:39:55.285Z"
   },
   {
    "duration": 1,
    "start_time": "2022-03-27T15:39:55.286Z"
   },
   {
    "duration": 0,
    "start_time": "2022-03-27T15:39:55.288Z"
   },
   {
    "duration": 0,
    "start_time": "2022-03-27T15:39:55.289Z"
   },
   {
    "duration": 0,
    "start_time": "2022-03-27T15:39:55.289Z"
   },
   {
    "duration": 11,
    "start_time": "2022-03-27T15:42:25.052Z"
   },
   {
    "duration": 15,
    "start_time": "2022-03-27T15:43:02.245Z"
   },
   {
    "duration": 16,
    "start_time": "2022-03-27T15:43:14.413Z"
   },
   {
    "duration": 317,
    "start_time": "2022-03-27T15:44:33.809Z"
   },
   {
    "duration": 12,
    "start_time": "2022-03-27T15:44:41.596Z"
   },
   {
    "duration": 18,
    "start_time": "2022-03-27T15:44:41.611Z"
   },
   {
    "duration": 382,
    "start_time": "2022-03-27T15:44:41.631Z"
   },
   {
    "duration": 957,
    "start_time": "2022-03-27T15:44:42.015Z"
   },
   {
    "duration": 20,
    "start_time": "2022-03-27T15:44:42.974Z"
   },
   {
    "duration": 133,
    "start_time": "2022-03-27T15:44:42.996Z"
   },
   {
    "duration": 0,
    "start_time": "2022-03-27T15:44:43.131Z"
   },
   {
    "duration": 130,
    "start_time": "2022-03-27T15:59:07.616Z"
   },
   {
    "duration": 11,
    "start_time": "2022-03-27T16:00:02.096Z"
   },
   {
    "duration": 133,
    "start_time": "2022-03-27T16:01:46.457Z"
   },
   {
    "duration": 14,
    "start_time": "2022-03-27T16:01:48.775Z"
   },
   {
    "duration": 8,
    "start_time": "2022-03-27T16:02:29.834Z"
   },
   {
    "duration": 9,
    "start_time": "2022-03-27T16:03:06.682Z"
   },
   {
    "duration": 9,
    "start_time": "2022-03-27T16:03:23.945Z"
   },
   {
    "duration": 11,
    "start_time": "2022-03-27T16:03:26.392Z"
   },
   {
    "duration": 4,
    "start_time": "2022-03-27T16:03:30.040Z"
   },
   {
    "duration": 687,
    "start_time": "2022-03-27T16:03:30.047Z"
   },
   {
    "duration": 21,
    "start_time": "2022-03-27T16:03:30.736Z"
   },
   {
    "duration": 9,
    "start_time": "2022-03-27T16:03:30.759Z"
   },
   {
    "duration": 19,
    "start_time": "2022-03-27T16:03:30.771Z"
   },
   {
    "duration": 15,
    "start_time": "2022-03-27T16:03:30.792Z"
   },
   {
    "duration": 15,
    "start_time": "2022-03-27T16:03:30.832Z"
   },
   {
    "duration": 186,
    "start_time": "2022-03-27T16:03:30.849Z"
   },
   {
    "duration": 14,
    "start_time": "2022-03-27T16:03:31.037Z"
   },
   {
    "duration": 5,
    "start_time": "2022-03-27T16:03:31.053Z"
   },
   {
    "duration": 404,
    "start_time": "2022-03-27T16:03:31.060Z"
   },
   {
    "duration": 973,
    "start_time": "2022-03-27T16:03:31.466Z"
   },
   {
    "duration": 10,
    "start_time": "2022-03-27T16:03:32.441Z"
   },
   {
    "duration": 120,
    "start_time": "2022-03-27T16:43:30.582Z"
   },
   {
    "duration": 2656,
    "start_time": "2022-03-27T16:43:37.842Z"
   },
   {
    "duration": 852,
    "start_time": "2022-03-27T16:43:40.501Z"
   },
   {
    "duration": 43,
    "start_time": "2022-03-27T16:43:41.355Z"
   },
   {
    "duration": 8,
    "start_time": "2022-03-27T16:43:41.401Z"
   },
   {
    "duration": 20,
    "start_time": "2022-03-27T16:43:41.412Z"
   },
   {
    "duration": 58,
    "start_time": "2022-03-27T16:43:41.434Z"
   },
   {
    "duration": 15,
    "start_time": "2022-03-27T16:43:41.495Z"
   },
   {
    "duration": 256,
    "start_time": "2022-03-27T16:43:41.513Z"
   },
   {
    "duration": 24,
    "start_time": "2022-03-27T16:43:41.771Z"
   },
   {
    "duration": 7,
    "start_time": "2022-03-27T16:43:41.798Z"
   },
   {
    "duration": 787,
    "start_time": "2022-03-27T16:43:41.807Z"
   },
   {
    "duration": 1974,
    "start_time": "2022-03-27T16:43:42.596Z"
   },
   {
    "duration": 16,
    "start_time": "2022-03-27T16:43:44.573Z"
   },
   {
    "duration": 17,
    "start_time": "2022-03-27T16:43:44.592Z"
   },
   {
    "duration": 20,
    "start_time": "2022-03-27T16:43:50.015Z"
   },
   {
    "duration": 196,
    "start_time": "2022-03-27T16:44:01.659Z"
   },
   {
    "duration": 185,
    "start_time": "2022-03-27T16:44:04.169Z"
   },
   {
    "duration": 25,
    "start_time": "2022-03-27T16:44:20.529Z"
   },
   {
    "duration": 6,
    "start_time": "2022-03-27T16:44:29.011Z"
   },
   {
    "duration": 23,
    "start_time": "2022-03-27T16:51:54.458Z"
   },
   {
    "duration": 4,
    "start_time": "2022-03-27T16:51:59.359Z"
   },
   {
    "duration": 15,
    "start_time": "2022-03-27T16:54:33.519Z"
   },
   {
    "duration": 14,
    "start_time": "2022-03-27T16:54:40.108Z"
   },
   {
    "duration": 115,
    "start_time": "2022-03-27T16:54:57.574Z"
   },
   {
    "duration": 47,
    "start_time": "2022-03-27T16:57:48.050Z"
   },
   {
    "duration": 16,
    "start_time": "2022-03-27T16:59:17.447Z"
   },
   {
    "duration": 16,
    "start_time": "2022-03-27T16:59:26.944Z"
   },
   {
    "duration": 24,
    "start_time": "2022-03-27T17:03:24.019Z"
   },
   {
    "duration": 19,
    "start_time": "2022-03-27T17:03:46.674Z"
   },
   {
    "duration": 143,
    "start_time": "2022-03-27T17:03:52.952Z"
   },
   {
    "duration": 40,
    "start_time": "2022-03-27T17:04:11.326Z"
   },
   {
    "duration": 21,
    "start_time": "2022-03-27T17:04:19.872Z"
   },
   {
    "duration": 40,
    "start_time": "2022-03-27T17:04:22.535Z"
   },
   {
    "duration": 12,
    "start_time": "2022-03-27T17:06:04.753Z"
   },
   {
    "duration": 11,
    "start_time": "2022-03-27T17:06:08.962Z"
   },
   {
    "duration": 21,
    "start_time": "2022-03-27T17:06:17.845Z"
   },
   {
    "duration": 5,
    "start_time": "2022-03-27T17:06:30.243Z"
   },
   {
    "duration": 1033,
    "start_time": "2022-03-27T17:06:30.250Z"
   },
   {
    "duration": 34,
    "start_time": "2022-03-27T17:06:31.287Z"
   },
   {
    "duration": 9,
    "start_time": "2022-03-27T17:06:31.325Z"
   },
   {
    "duration": 53,
    "start_time": "2022-03-27T17:06:31.336Z"
   },
   {
    "duration": 27,
    "start_time": "2022-03-27T17:06:31.392Z"
   },
   {
    "duration": 17,
    "start_time": "2022-03-27T17:06:31.422Z"
   },
   {
    "duration": 302,
    "start_time": "2022-03-27T17:06:31.441Z"
   },
   {
    "duration": 37,
    "start_time": "2022-03-27T17:06:31.745Z"
   },
   {
    "duration": 9,
    "start_time": "2022-03-27T17:06:31.786Z"
   },
   {
    "duration": 16,
    "start_time": "2022-03-27T17:06:31.798Z"
   },
   {
    "duration": 634,
    "start_time": "2022-03-27T17:06:31.816Z"
   },
   {
    "duration": 1747,
    "start_time": "2022-03-27T17:06:32.452Z"
   },
   {
    "duration": 14,
    "start_time": "2022-03-27T17:06:34.203Z"
   },
   {
    "duration": 11,
    "start_time": "2022-03-27T17:06:34.219Z"
   },
   {
    "duration": 118,
    "start_time": "2022-03-27T17:06:34.232Z"
   },
   {
    "duration": 0,
    "start_time": "2022-03-27T17:06:34.353Z"
   },
   {
    "duration": 0,
    "start_time": "2022-03-27T17:06:34.355Z"
   },
   {
    "duration": 0,
    "start_time": "2022-03-27T17:06:34.357Z"
   },
   {
    "duration": 1985,
    "start_time": "2022-03-27T17:06:38.268Z"
   },
   {
    "duration": 52,
    "start_time": "2022-03-27T17:06:46.903Z"
   },
   {
    "duration": 22,
    "start_time": "2022-03-27T17:07:26.479Z"
   },
   {
    "duration": 6,
    "start_time": "2022-03-27T17:07:29.844Z"
   },
   {
    "duration": 926,
    "start_time": "2022-03-27T17:07:29.856Z"
   },
   {
    "duration": 26,
    "start_time": "2022-03-27T17:07:30.785Z"
   },
   {
    "duration": 6,
    "start_time": "2022-03-27T17:07:30.814Z"
   },
   {
    "duration": 39,
    "start_time": "2022-03-27T17:07:30.824Z"
   },
   {
    "duration": 32,
    "start_time": "2022-03-27T17:07:30.866Z"
   },
   {
    "duration": 16,
    "start_time": "2022-03-27T17:07:30.902Z"
   },
   {
    "duration": 283,
    "start_time": "2022-03-27T17:07:30.920Z"
   },
   {
    "duration": 17,
    "start_time": "2022-03-27T17:07:31.205Z"
   },
   {
    "duration": 37,
    "start_time": "2022-03-27T17:07:31.225Z"
   },
   {
    "duration": 38,
    "start_time": "2022-03-27T17:07:31.266Z"
   },
   {
    "duration": 794,
    "start_time": "2022-03-27T17:07:31.306Z"
   },
   {
    "duration": 1350,
    "start_time": "2022-03-27T17:07:32.102Z"
   },
   {
    "duration": 28,
    "start_time": "2022-03-27T17:07:33.454Z"
   },
   {
    "duration": 17,
    "start_time": "2022-03-27T17:07:33.485Z"
   },
   {
    "duration": 113,
    "start_time": "2022-03-27T17:07:33.504Z"
   },
   {
    "duration": 0,
    "start_time": "2022-03-27T17:07:33.619Z"
   },
   {
    "duration": 1,
    "start_time": "2022-03-27T17:07:33.620Z"
   },
   {
    "duration": 0,
    "start_time": "2022-03-27T17:07:33.622Z"
   },
   {
    "duration": 1323,
    "start_time": "2022-03-27T17:07:37.121Z"
   },
   {
    "duration": 23,
    "start_time": "2022-03-27T17:07:39.569Z"
   },
   {
    "duration": 20,
    "start_time": "2022-03-27T17:08:01.828Z"
   },
   {
    "duration": 31622,
    "start_time": "2022-03-27T17:08:14.525Z"
   },
   {
    "duration": 45,
    "start_time": "2022-03-27T17:08:49.443Z"
   },
   {
    "duration": 381,
    "start_time": "2022-03-27T17:10:14.907Z"
   },
   {
    "duration": 5,
    "start_time": "2022-03-27T17:15:39.544Z"
   },
   {
    "duration": 16,
    "start_time": "2022-03-27T17:21:27.313Z"
   },
   {
    "duration": 23,
    "start_time": "2022-03-27T17:21:31.282Z"
   },
   {
    "duration": 21964,
    "start_time": "2022-03-27T17:21:53.459Z"
   },
   {
    "duration": 12,
    "start_time": "2022-03-27T17:27:06.695Z"
   },
   {
    "duration": 11,
    "start_time": "2022-03-27T17:27:26.812Z"
   },
   {
    "duration": 7,
    "start_time": "2022-03-27T17:29:37.389Z"
   },
   {
    "duration": 24,
    "start_time": "2022-03-27T17:30:06.554Z"
   },
   {
    "duration": 130,
    "start_time": "2022-03-27T17:35:06.252Z"
   },
   {
    "duration": 262129,
    "start_time": "2022-03-27T17:35:17.972Z"
   },
   {
    "duration": 143925,
    "start_time": "2022-03-27T17:40:47.337Z"
   },
   {
    "duration": 5,
    "start_time": "2022-03-27T17:44:53.589Z"
   },
   {
    "duration": 119450,
    "start_time": "2022-03-27T17:48:13.376Z"
   },
   {
    "duration": 5,
    "start_time": "2022-03-27T17:50:34.781Z"
   },
   {
    "duration": 7,
    "start_time": "2022-03-27T17:51:30.756Z"
   },
   {
    "duration": 1036481,
    "start_time": "2022-03-27T17:51:40.761Z"
   },
   {
    "duration": 4109,
    "start_time": "2022-03-27T18:13:26.580Z"
   },
   {
    "duration": 6,
    "start_time": "2022-03-27T18:15:37.125Z"
   },
   {
    "duration": 17,
    "start_time": "2022-03-27T18:16:19.195Z"
   },
   {
    "duration": 5,
    "start_time": "2022-03-27T18:16:49.927Z"
   },
   {
    "duration": 911,
    "start_time": "2022-03-27T18:16:53.873Z"
   },
   {
    "duration": 2765,
    "start_time": "2022-03-27T18:17:13.236Z"
   },
   {
    "duration": 1828,
    "start_time": "2022-03-27T18:25:16.267Z"
   },
   {
    "duration": 805,
    "start_time": "2022-03-27T18:25:18.100Z"
   },
   {
    "duration": 21,
    "start_time": "2022-03-27T18:25:18.906Z"
   },
   {
    "duration": 7,
    "start_time": "2022-03-27T18:25:18.929Z"
   },
   {
    "duration": 11,
    "start_time": "2022-03-27T18:25:18.937Z"
   },
   {
    "duration": 13,
    "start_time": "2022-03-27T18:25:18.950Z"
   },
   {
    "duration": 36,
    "start_time": "2022-03-27T18:25:18.965Z"
   },
   {
    "duration": 177,
    "start_time": "2022-03-27T18:25:19.003Z"
   },
   {
    "duration": 12,
    "start_time": "2022-03-27T18:25:19.182Z"
   },
   {
    "duration": 8,
    "start_time": "2022-03-27T18:25:19.202Z"
   },
   {
    "duration": 19,
    "start_time": "2022-03-27T18:25:19.212Z"
   },
   {
    "duration": 50,
    "start_time": "2022-03-27T18:25:19.233Z"
   },
   {
    "duration": 325,
    "start_time": "2022-03-27T18:25:19.285Z"
   },
   {
    "duration": 807,
    "start_time": "2022-03-27T18:25:19.611Z"
   },
   {
    "duration": 9,
    "start_time": "2022-03-27T18:25:20.419Z"
   },
   {
    "duration": 169,
    "start_time": "2022-03-27T18:25:20.429Z"
   },
   {
    "duration": 0,
    "start_time": "2022-03-27T18:25:20.600Z"
   },
   {
    "duration": 0,
    "start_time": "2022-03-27T18:25:20.601Z"
   },
   {
    "duration": 0,
    "start_time": "2022-03-27T18:25:20.602Z"
   },
   {
    "duration": 0,
    "start_time": "2022-03-27T18:25:20.603Z"
   },
   {
    "duration": 171,
    "start_time": "2022-03-27T18:26:31.444Z"
   },
   {
    "duration": 16,
    "start_time": "2022-03-27T18:26:40.545Z"
   },
   {
    "duration": 112246,
    "start_time": "2022-03-27T18:26:49.161Z"
   },
   {
    "duration": 0,
    "start_time": "2022-03-27T18:28:41.409Z"
   },
   {
    "duration": 0,
    "start_time": "2022-03-27T18:28:41.410Z"
   },
   {
    "duration": 300,
    "start_time": "2022-03-27T18:29:03.512Z"
   },
   {
    "duration": 4,
    "start_time": "2022-03-27T18:29:07.025Z"
   },
   {
    "duration": 0,
    "start_time": "2022-03-27T18:30:31.616Z"
   },
   {
    "duration": 32131,
    "start_time": "2022-03-27T18:30:32.882Z"
   },
   {
    "duration": 247,
    "start_time": "2022-03-27T18:31:07.759Z"
   },
   {
    "duration": 913,
    "start_time": "2022-03-27T18:31:08.008Z"
   },
   {
    "duration": 2176,
    "start_time": "2022-03-27T18:31:09.001Z"
   },
   {
    "duration": 4,
    "start_time": "2022-03-27T18:48:17.808Z"
   },
   {
    "duration": 3,
    "start_time": "2022-03-27T18:48:20.052Z"
   },
   {
    "duration": 13,
    "start_time": "2022-03-27T18:52:25.374Z"
   },
   {
    "duration": 151,
    "start_time": "2022-03-27T18:52:50.040Z"
   },
   {
    "duration": 17,
    "start_time": "2022-03-27T18:52:53.357Z"
   },
   {
    "duration": 18,
    "start_time": "2022-03-27T18:53:00.552Z"
   },
   {
    "duration": 20,
    "start_time": "2022-03-27T18:53:34.422Z"
   },
   {
    "duration": 20,
    "start_time": "2022-03-27T18:54:02.744Z"
   },
   {
    "duration": 4,
    "start_time": "2022-03-27T18:54:38.223Z"
   },
   {
    "duration": 662,
    "start_time": "2022-03-27T18:54:38.229Z"
   },
   {
    "duration": 17,
    "start_time": "2022-03-27T18:54:38.893Z"
   },
   {
    "duration": 7,
    "start_time": "2022-03-27T18:54:38.911Z"
   },
   {
    "duration": 21,
    "start_time": "2022-03-27T18:54:38.920Z"
   },
   {
    "duration": 14,
    "start_time": "2022-03-27T18:54:38.942Z"
   },
   {
    "duration": 13,
    "start_time": "2022-03-27T18:54:38.958Z"
   },
   {
    "duration": 165,
    "start_time": "2022-03-27T18:54:38.972Z"
   },
   {
    "duration": 13,
    "start_time": "2022-03-27T18:54:39.138Z"
   },
   {
    "duration": 15,
    "start_time": "2022-03-27T18:54:39.153Z"
   },
   {
    "duration": 9,
    "start_time": "2022-03-27T18:54:39.170Z"
   },
   {
    "duration": 31,
    "start_time": "2022-03-27T18:54:39.180Z"
   },
   {
    "duration": 309,
    "start_time": "2022-03-27T18:54:39.213Z"
   },
   {
    "duration": 791,
    "start_time": "2022-03-27T18:54:39.525Z"
   },
   {
    "duration": 8,
    "start_time": "2022-03-27T18:54:40.318Z"
   },
   {
    "duration": 13,
    "start_time": "2022-03-27T18:54:40.328Z"
   },
   {
    "duration": 260,
    "start_time": "2022-03-27T18:54:40.343Z"
   },
   {
    "duration": 605,
    "start_time": "2022-03-27T18:54:40.605Z"
   },
   {
    "duration": 2053,
    "start_time": "2022-03-27T18:54:41.302Z"
   },
   {
    "duration": 647,
    "start_time": "2022-03-27T18:54:43.357Z"
   },
   {
    "duration": 1521,
    "start_time": "2022-03-27T18:55:53.592Z"
   },
   {
    "duration": 2006,
    "start_time": "2022-03-27T18:57:02.109Z"
   },
   {
    "duration": 1714,
    "start_time": "2022-03-27T18:57:14.305Z"
   },
   {
    "duration": 1601,
    "start_time": "2022-03-27T19:01:45.019Z"
   },
   {
    "duration": 1734,
    "start_time": "2022-03-27T19:02:10.269Z"
   },
   {
    "duration": 4,
    "start_time": "2022-03-27T19:03:07.680Z"
   },
   {
    "duration": 1808,
    "start_time": "2022-03-27T19:03:23.798Z"
   },
   {
    "duration": 1910,
    "start_time": "2022-03-27T19:05:16.805Z"
   },
   {
    "duration": 1241,
    "start_time": "2022-03-27T20:25:05.609Z"
   },
   {
    "duration": 15,
    "start_time": "2022-03-27T20:25:12.025Z"
   },
   {
    "duration": 6,
    "start_time": "2022-03-27T20:25:15.208Z"
   },
   {
    "duration": 20,
    "start_time": "2022-03-27T20:25:40.109Z"
   },
   {
    "duration": 6,
    "start_time": "2022-03-27T20:25:44.440Z"
   },
   {
    "duration": 844,
    "start_time": "2022-03-27T20:25:44.449Z"
   },
   {
    "duration": 31,
    "start_time": "2022-03-27T20:25:45.295Z"
   },
   {
    "duration": 11,
    "start_time": "2022-03-27T20:25:45.329Z"
   },
   {
    "duration": 47,
    "start_time": "2022-03-27T20:25:45.342Z"
   },
   {
    "duration": 20,
    "start_time": "2022-03-27T20:25:45.391Z"
   },
   {
    "duration": 17,
    "start_time": "2022-03-27T20:25:45.413Z"
   },
   {
    "duration": 265,
    "start_time": "2022-03-27T20:25:45.432Z"
   },
   {
    "duration": 18,
    "start_time": "2022-03-27T20:25:45.699Z"
   },
   {
    "duration": 10,
    "start_time": "2022-03-27T20:25:45.720Z"
   },
   {
    "duration": 11,
    "start_time": "2022-03-27T20:25:45.732Z"
   },
   {
    "duration": 81,
    "start_time": "2022-03-27T20:25:45.746Z"
   },
   {
    "duration": 599,
    "start_time": "2022-03-27T20:25:45.829Z"
   },
   {
    "duration": 1444,
    "start_time": "2022-03-27T20:25:46.431Z"
   },
   {
    "duration": 12,
    "start_time": "2022-03-27T20:25:47.884Z"
   },
   {
    "duration": 7,
    "start_time": "2022-03-27T20:25:47.898Z"
   },
   {
    "duration": 397,
    "start_time": "2022-03-27T20:25:47.907Z"
   },
   {
    "duration": 902,
    "start_time": "2022-03-27T20:25:48.384Z"
   },
   {
    "duration": 2724,
    "start_time": "2022-03-27T20:25:49.290Z"
   },
   {
    "duration": 15,
    "start_time": "2022-03-27T20:25:52.016Z"
   },
   {
    "duration": 0,
    "start_time": "2022-03-27T20:25:52.033Z"
   },
   {
    "duration": 2080,
    "start_time": "2022-03-27T20:26:00.115Z"
   },
   {
    "duration": 2075,
    "start_time": "2022-03-27T20:26:27.214Z"
   },
   {
    "duration": 2050,
    "start_time": "2022-03-27T20:29:13.174Z"
   },
   {
    "duration": 2169,
    "start_time": "2022-03-27T20:29:34.815Z"
   },
   {
    "duration": 2178,
    "start_time": "2022-03-27T20:30:22.115Z"
   },
   {
    "duration": 2369,
    "start_time": "2022-03-27T20:30:53.853Z"
   },
   {
    "duration": 1953,
    "start_time": "2022-03-27T20:31:25.143Z"
   },
   {
    "duration": 2047,
    "start_time": "2022-03-27T20:32:09.339Z"
   },
   {
    "duration": 281,
    "start_time": "2022-03-27T20:34:45.710Z"
   },
   {
    "duration": 411,
    "start_time": "2022-03-27T20:35:10.776Z"
   },
   {
    "duration": 11956,
    "start_time": "2022-03-27T20:35:18.458Z"
   },
   {
    "duration": 11332,
    "start_time": "2022-03-27T20:38:47.150Z"
   },
   {
    "duration": 6756,
    "start_time": "2022-03-27T20:39:12.568Z"
   },
   {
    "duration": 7246,
    "start_time": "2022-03-27T20:39:31.750Z"
   },
   {
    "duration": 6,
    "start_time": "2022-03-27T20:39:50.123Z"
   },
   {
    "duration": 1553,
    "start_time": "2022-03-27T20:40:29.622Z"
   },
   {
    "duration": 7111,
    "start_time": "2022-03-27T20:40:38.392Z"
   },
   {
    "duration": 750,
    "start_time": "2022-03-27T20:49:38.437Z"
   },
   {
    "duration": 3267,
    "start_time": "2022-03-28T14:44:27.850Z"
   },
   {
    "duration": 811,
    "start_time": "2022-03-28T14:44:31.120Z"
   },
   {
    "duration": 29,
    "start_time": "2022-03-28T14:45:31.631Z"
   },
   {
    "duration": 14,
    "start_time": "2022-03-28T14:47:10.920Z"
   },
   {
    "duration": 24,
    "start_time": "2022-03-28T14:47:11.580Z"
   },
   {
    "duration": 32,
    "start_time": "2022-03-28T14:47:13.006Z"
   },
   {
    "duration": 24,
    "start_time": "2022-03-28T14:47:15.160Z"
   },
   {
    "duration": 376,
    "start_time": "2022-03-28T14:47:16.202Z"
   },
   {
    "duration": 24,
    "start_time": "2022-03-28T14:47:17.281Z"
   },
   {
    "duration": 7,
    "start_time": "2022-03-28T14:47:17.989Z"
   },
   {
    "duration": 9,
    "start_time": "2022-03-28T14:47:19.483Z"
   },
   {
    "duration": 70,
    "start_time": "2022-03-28T14:47:20.059Z"
   },
   {
    "duration": 10,
    "start_time": "2022-03-28T14:48:12.406Z"
   },
   {
    "duration": 633,
    "start_time": "2022-03-28T14:56:00.735Z"
   },
   {
    "duration": 1654,
    "start_time": "2022-03-28T14:56:02.293Z"
   },
   {
    "duration": 12,
    "start_time": "2022-03-28T14:56:03.951Z"
   },
   {
    "duration": 4,
    "start_time": "2022-03-28T15:02:12.739Z"
   },
   {
    "duration": 5,
    "start_time": "2022-03-28T15:03:31.822Z"
   },
   {
    "duration": 384,
    "start_time": "2022-03-28T15:03:35.501Z"
   },
   {
    "duration": 7,
    "start_time": "2022-03-28T15:04:30.061Z"
   },
   {
    "duration": 4,
    "start_time": "2022-03-28T15:12:17.293Z"
   },
   {
    "duration": 372,
    "start_time": "2022-03-28T15:12:22.926Z"
   },
   {
    "duration": 38,
    "start_time": "2022-03-28T15:14:34.726Z"
   },
   {
    "duration": 19,
    "start_time": "2022-03-28T15:15:48.505Z"
   },
   {
    "duration": 8,
    "start_time": "2022-03-28T15:15:56.280Z"
   },
   {
    "duration": 248,
    "start_time": "2022-03-28T15:16:07.384Z"
   },
   {
    "duration": 9,
    "start_time": "2022-03-28T15:16:39.265Z"
   },
   {
    "duration": 6,
    "start_time": "2022-03-28T15:16:39.943Z"
   },
   {
    "duration": 44,
    "start_time": "2022-03-28T15:16:40.644Z"
   },
   {
    "duration": 354,
    "start_time": "2022-03-28T15:16:49.741Z"
   },
   {
    "duration": 15,
    "start_time": "2022-03-28T15:17:10.384Z"
   },
   {
    "duration": 9,
    "start_time": "2022-03-28T15:17:30.237Z"
   },
   {
    "duration": 51,
    "start_time": "2022-03-29T08:18:10.720Z"
   },
   {
    "duration": 2683,
    "start_time": "2022-03-29T08:18:15.755Z"
   },
   {
    "duration": 834,
    "start_time": "2022-03-29T08:18:18.441Z"
   },
   {
    "duration": 39,
    "start_time": "2022-03-29T08:18:19.277Z"
   },
   {
    "duration": 9,
    "start_time": "2022-03-29T08:18:19.318Z"
   },
   {
    "duration": 14,
    "start_time": "2022-03-29T08:18:19.330Z"
   },
   {
    "duration": 17,
    "start_time": "2022-03-29T08:18:19.346Z"
   },
   {
    "duration": 42,
    "start_time": "2022-03-29T08:18:19.366Z"
   },
   {
    "duration": 194,
    "start_time": "2022-03-29T08:18:19.410Z"
   },
   {
    "duration": 15,
    "start_time": "2022-03-29T08:18:22.489Z"
   },
   {
    "duration": 8,
    "start_time": "2022-03-29T08:18:24.012Z"
   },
   {
    "duration": 20,
    "start_time": "2022-03-29T08:18:32.382Z"
   },
   {
    "duration": 37,
    "start_time": "2022-03-29T08:18:41.177Z"
   },
   {
    "duration": 15,
    "start_time": "2022-03-29T08:19:03.836Z"
   },
   {
    "duration": 31,
    "start_time": "2022-03-29T08:19:05.117Z"
   },
   {
    "duration": 18,
    "start_time": "2022-03-29T08:19:22.360Z"
   },
   {
    "duration": 53,
    "start_time": "2022-03-29T08:19:22.775Z"
   },
   {
    "duration": 9,
    "start_time": "2022-03-29T08:20:30.155Z"
   },
   {
    "duration": 37,
    "start_time": "2022-03-29T08:20:42.942Z"
   },
   {
    "duration": 19,
    "start_time": "2022-03-29T08:20:51.564Z"
   },
   {
    "duration": 13,
    "start_time": "2022-03-29T08:22:00.579Z"
   },
   {
    "duration": 87,
    "start_time": "2022-03-29T08:22:12.451Z"
   },
   {
    "duration": 12,
    "start_time": "2022-03-29T08:22:21.931Z"
   },
   {
    "duration": 105,
    "start_time": "2022-03-29T08:22:58.038Z"
   },
   {
    "duration": 106,
    "start_time": "2022-03-29T08:23:13.155Z"
   },
   {
    "duration": 13,
    "start_time": "2022-03-29T08:23:20.477Z"
   },
   {
    "duration": 15,
    "start_time": "2022-03-29T08:24:16.885Z"
   },
   {
    "duration": 19,
    "start_time": "2022-03-29T08:25:14.010Z"
   },
   {
    "duration": 696,
    "start_time": "2022-03-29T08:26:06.569Z"
   },
   {
    "duration": 18,
    "start_time": "2022-03-29T08:26:07.788Z"
   },
   {
    "duration": 19,
    "start_time": "2022-03-29T08:27:05.202Z"
   },
   {
    "duration": 15,
    "start_time": "2022-03-29T08:27:15.461Z"
   },
   {
    "duration": 28,
    "start_time": "2022-03-29T08:27:40.330Z"
   },
   {
    "duration": 16,
    "start_time": "2022-03-29T08:27:57.824Z"
   },
   {
    "duration": 4,
    "start_time": "2022-03-29T08:28:24.393Z"
   },
   {
    "duration": 692,
    "start_time": "2022-03-29T08:28:24.399Z"
   },
   {
    "duration": 24,
    "start_time": "2022-03-29T08:28:25.093Z"
   },
   {
    "duration": 6,
    "start_time": "2022-03-29T08:28:25.119Z"
   },
   {
    "duration": 19,
    "start_time": "2022-03-29T08:28:25.127Z"
   },
   {
    "duration": 17,
    "start_time": "2022-03-29T08:28:25.148Z"
   },
   {
    "duration": 41,
    "start_time": "2022-03-29T08:28:25.167Z"
   },
   {
    "duration": 179,
    "start_time": "2022-03-29T08:28:25.210Z"
   },
   {
    "duration": 18,
    "start_time": "2022-03-29T08:28:25.392Z"
   },
   {
    "duration": 357,
    "start_time": "2022-03-29T08:40:24.475Z"
   },
   {
    "duration": 4,
    "start_time": "2022-03-29T08:40:30.676Z"
   },
   {
    "duration": 674,
    "start_time": "2022-03-29T08:40:30.683Z"
   },
   {
    "duration": 19,
    "start_time": "2022-03-29T08:40:31.359Z"
   },
   {
    "duration": 21,
    "start_time": "2022-03-29T08:40:31.380Z"
   },
   {
    "duration": 13,
    "start_time": "2022-03-29T08:40:31.404Z"
   },
   {
    "duration": 17,
    "start_time": "2022-03-29T08:40:31.418Z"
   },
   {
    "duration": 14,
    "start_time": "2022-03-29T08:40:31.438Z"
   },
   {
    "duration": 202,
    "start_time": "2022-03-29T08:40:31.454Z"
   },
   {
    "duration": 15,
    "start_time": "2022-03-29T08:40:31.658Z"
   },
   {
    "duration": 10,
    "start_time": "2022-03-29T08:40:31.675Z"
   },
   {
    "duration": 7,
    "start_time": "2022-03-29T08:40:31.702Z"
   },
   {
    "duration": 13,
    "start_time": "2022-03-29T08:40:31.711Z"
   },
   {
    "duration": 33,
    "start_time": "2022-03-29T08:40:31.726Z"
   },
   {
    "duration": 370,
    "start_time": "2022-03-29T08:40:31.762Z"
   },
   {
    "duration": 844,
    "start_time": "2022-03-29T08:40:32.134Z"
   },
   {
    "duration": 22,
    "start_time": "2022-03-29T08:40:32.981Z"
   },
   {
    "duration": 1129,
    "start_time": "2022-03-29T08:40:33.005Z"
   },
   {
    "duration": 821,
    "start_time": "2022-03-29T08:41:34.412Z"
   },
   {
    "duration": 1140,
    "start_time": "2022-03-29T08:41:52.792Z"
   },
   {
    "duration": 782,
    "start_time": "2022-03-29T08:44:07.891Z"
   },
   {
    "duration": 796,
    "start_time": "2022-03-29T08:46:10.470Z"
   },
   {
    "duration": 7,
    "start_time": "2022-03-29T08:54:08.837Z"
   },
   {
    "duration": 8,
    "start_time": "2022-03-29T08:54:58.911Z"
   },
   {
    "duration": 7,
    "start_time": "2022-03-29T08:55:03.015Z"
   },
   {
    "duration": 9,
    "start_time": "2022-03-29T08:55:06.262Z"
   },
   {
    "duration": 8,
    "start_time": "2022-03-29T08:55:20.716Z"
   },
   {
    "duration": 31,
    "start_time": "2022-03-29T08:55:45.277Z"
   },
   {
    "duration": 15,
    "start_time": "2022-03-29T08:55:54.038Z"
   },
   {
    "duration": 9,
    "start_time": "2022-03-29T08:55:56.928Z"
   },
   {
    "duration": 16,
    "start_time": "2022-03-29T08:56:01.126Z"
   },
   {
    "duration": 9,
    "start_time": "2022-03-29T08:56:06.607Z"
   },
   {
    "duration": 164,
    "start_time": "2022-03-29T08:56:44.214Z"
   },
   {
    "duration": 104,
    "start_time": "2022-03-29T08:57:06.351Z"
   },
   {
    "duration": 7,
    "start_time": "2022-03-29T08:57:11.112Z"
   },
   {
    "duration": 11,
    "start_time": "2022-03-29T08:57:16.189Z"
   },
   {
    "duration": 3,
    "start_time": "2022-03-29T09:01:41.908Z"
   },
   {
    "duration": 675,
    "start_time": "2022-03-29T09:01:41.914Z"
   },
   {
    "duration": 24,
    "start_time": "2022-03-29T09:01:42.591Z"
   },
   {
    "duration": 5,
    "start_time": "2022-03-29T09:01:42.618Z"
   },
   {
    "duration": 17,
    "start_time": "2022-03-29T09:01:42.624Z"
   },
   {
    "duration": 16,
    "start_time": "2022-03-29T09:01:42.643Z"
   },
   {
    "duration": 41,
    "start_time": "2022-03-29T09:01:42.661Z"
   },
   {
    "duration": 183,
    "start_time": "2022-03-29T09:01:42.705Z"
   },
   {
    "duration": 350,
    "start_time": "2022-03-29T09:01:42.891Z"
   },
   {
    "duration": 1180,
    "start_time": "2022-03-29T09:01:43.243Z"
   },
   {
    "duration": 9,
    "start_time": "2022-03-29T09:01:44.424Z"
   },
   {
    "duration": 809,
    "start_time": "2022-03-29T09:01:44.435Z"
   },
   {
    "duration": 7,
    "start_time": "2022-03-29T09:01:45.245Z"
   },
   {
    "duration": 62,
    "start_time": "2022-03-29T09:01:45.253Z"
   },
   {
    "duration": 13,
    "start_time": "2022-03-29T09:01:45.317Z"
   },
   {
    "duration": 5,
    "start_time": "2022-03-29T09:01:45.332Z"
   },
   {
    "duration": 13,
    "start_time": "2022-03-29T09:01:45.338Z"
   },
   {
    "duration": 6,
    "start_time": "2022-03-29T09:01:45.353Z"
   },
   {
    "duration": 17,
    "start_time": "2022-03-29T09:02:10.176Z"
   },
   {
    "duration": 14,
    "start_time": "2022-03-29T09:02:10.610Z"
   },
   {
    "duration": 5,
    "start_time": "2022-03-29T09:02:12.258Z"
   },
   {
    "duration": 7,
    "start_time": "2022-03-29T09:02:13.733Z"
   },
   {
    "duration": 5,
    "start_time": "2022-03-29T09:02:14.162Z"
   },
   {
    "duration": 121,
    "start_time": "2022-03-29T09:13:21.910Z"
   },
   {
    "duration": 126,
    "start_time": "2022-03-29T09:13:28.851Z"
   },
   {
    "duration": 13,
    "start_time": "2022-03-29T09:13:43.288Z"
   },
   {
    "duration": 12,
    "start_time": "2022-03-29T09:13:54.942Z"
   },
   {
    "duration": 4,
    "start_time": "2022-03-29T09:14:01.073Z"
   },
   {
    "duration": 683,
    "start_time": "2022-03-29T09:14:01.079Z"
   },
   {
    "duration": 20,
    "start_time": "2022-03-29T09:14:01.764Z"
   },
   {
    "duration": 19,
    "start_time": "2022-03-29T09:14:01.787Z"
   },
   {
    "duration": 16,
    "start_time": "2022-03-29T09:14:01.808Z"
   },
   {
    "duration": 16,
    "start_time": "2022-03-29T09:14:01.825Z"
   },
   {
    "duration": 14,
    "start_time": "2022-03-29T09:14:01.843Z"
   },
   {
    "duration": 208,
    "start_time": "2022-03-29T09:14:01.859Z"
   },
   {
    "duration": 347,
    "start_time": "2022-03-29T09:14:02.070Z"
   },
   {
    "duration": 1215,
    "start_time": "2022-03-29T09:14:02.420Z"
   },
   {
    "duration": 33,
    "start_time": "2022-03-29T09:14:03.637Z"
   },
   {
    "duration": 31,
    "start_time": "2022-03-29T09:14:03.672Z"
   },
   {
    "duration": 821,
    "start_time": "2022-03-29T09:14:03.705Z"
   },
   {
    "duration": 8,
    "start_time": "2022-03-29T09:14:04.528Z"
   },
   {
    "duration": 21,
    "start_time": "2022-03-29T09:14:04.537Z"
   },
   {
    "duration": 15,
    "start_time": "2022-03-29T09:14:04.560Z"
   },
   {
    "duration": 4,
    "start_time": "2022-03-29T09:14:04.602Z"
   },
   {
    "duration": 17,
    "start_time": "2022-03-29T09:14:04.608Z"
   },
   {
    "duration": 9,
    "start_time": "2022-03-29T09:14:04.627Z"
   },
   {
    "duration": 7,
    "start_time": "2022-03-29T09:14:04.637Z"
   },
   {
    "duration": 12,
    "start_time": "2022-03-29T09:14:04.646Z"
   },
   {
    "duration": 245,
    "start_time": "2022-03-29T09:14:04.660Z"
   },
   {
    "duration": 797,
    "start_time": "2022-03-29T09:14:04.909Z"
   },
   {
    "duration": 1227,
    "start_time": "2022-03-29T09:14:05.711Z"
   },
   {
    "duration": 26,
    "start_time": "2022-03-29T09:14:06.940Z"
   },
   {
    "duration": 0,
    "start_time": "2022-03-29T09:14:06.969Z"
   },
   {
    "duration": 0,
    "start_time": "2022-03-29T09:14:06.970Z"
   },
   {
    "duration": 28,
    "start_time": "2022-03-29T09:17:52.691Z"
   },
   {
    "duration": 32,
    "start_time": "2022-03-29T09:18:12.929Z"
   },
   {
    "duration": 4,
    "start_time": "2022-03-29T09:19:02.780Z"
   },
   {
    "duration": 689,
    "start_time": "2022-03-29T09:19:02.786Z"
   },
   {
    "duration": 30,
    "start_time": "2022-03-29T09:19:03.477Z"
   },
   {
    "duration": 5,
    "start_time": "2022-03-29T09:19:03.510Z"
   },
   {
    "duration": 47,
    "start_time": "2022-03-29T09:19:03.517Z"
   },
   {
    "duration": 16,
    "start_time": "2022-03-29T09:19:03.566Z"
   },
   {
    "duration": 14,
    "start_time": "2022-03-29T09:19:03.584Z"
   },
   {
    "duration": 179,
    "start_time": "2022-03-29T09:19:03.601Z"
   },
   {
    "duration": 356,
    "start_time": "2022-03-29T09:19:03.782Z"
   },
   {
    "duration": 1318,
    "start_time": "2022-03-29T09:19:04.141Z"
   },
   {
    "duration": 41,
    "start_time": "2022-03-29T09:19:05.461Z"
   },
   {
    "duration": 9,
    "start_time": "2022-03-29T09:19:05.504Z"
   },
   {
    "duration": 839,
    "start_time": "2022-03-29T09:19:05.516Z"
   },
   {
    "duration": 6,
    "start_time": "2022-03-29T09:19:06.357Z"
   },
   {
    "duration": 19,
    "start_time": "2022-03-29T09:19:06.365Z"
   },
   {
    "duration": 16,
    "start_time": "2022-03-29T09:19:06.401Z"
   },
   {
    "duration": 5,
    "start_time": "2022-03-29T09:19:06.419Z"
   },
   {
    "duration": 10,
    "start_time": "2022-03-29T09:19:06.426Z"
   },
   {
    "duration": 8,
    "start_time": "2022-03-29T09:19:06.438Z"
   },
   {
    "duration": 8,
    "start_time": "2022-03-29T09:19:06.448Z"
   },
   {
    "duration": 7,
    "start_time": "2022-03-29T09:19:06.457Z"
   },
   {
    "duration": 234,
    "start_time": "2022-03-29T09:19:06.466Z"
   },
   {
    "duration": 798,
    "start_time": "2022-03-29T09:19:06.704Z"
   },
   {
    "duration": 1125,
    "start_time": "2022-03-29T09:19:07.506Z"
   },
   {
    "duration": 5149,
    "start_time": "2022-03-29T09:19:08.632Z"
   },
   {
    "duration": 518,
    "start_time": "2022-03-29T09:19:13.783Z"
   },
   {
    "duration": 80,
    "start_time": "2022-03-29T09:19:14.303Z"
   },
   {
    "duration": 2202,
    "start_time": "2022-03-29T09:21:21.673Z"
   },
   {
    "duration": 420,
    "start_time": "2022-03-29T09:22:26.286Z"
   },
   {
    "duration": 74,
    "start_time": "2022-03-29T09:24:09.395Z"
   },
   {
    "duration": 3,
    "start_time": "2022-03-29T09:24:26.784Z"
   },
   {
    "duration": 4,
    "start_time": "2022-03-29T09:24:29.625Z"
   },
   {
    "duration": 5,
    "start_time": "2022-03-29T09:24:47.496Z"
   },
   {
    "duration": 4,
    "start_time": "2022-03-29T09:24:54.349Z"
   },
   {
    "duration": 7,
    "start_time": "2022-03-29T09:24:56.934Z"
   },
   {
    "duration": 4,
    "start_time": "2022-03-29T09:25:10.850Z"
   },
   {
    "duration": 7,
    "start_time": "2022-03-29T09:25:12.607Z"
   },
   {
    "duration": 7,
    "start_time": "2022-03-29T09:25:27.529Z"
   },
   {
    "duration": 11,
    "start_time": "2022-03-29T09:25:32.798Z"
   },
   {
    "duration": 113,
    "start_time": "2022-03-29T09:28:38.655Z"
   },
   {
    "duration": 13,
    "start_time": "2022-03-29T09:28:45.623Z"
   },
   {
    "duration": 5,
    "start_time": "2022-03-29T09:29:30.066Z"
   },
   {
    "duration": 10,
    "start_time": "2022-03-29T09:29:36.070Z"
   },
   {
    "duration": 8,
    "start_time": "2022-03-29T09:32:32.527Z"
   },
   {
    "duration": 66202,
    "start_time": "2022-03-29T10:42:49.354Z"
   },
   {
    "duration": 965,
    "start_time": "2022-03-29T10:43:55.559Z"
   },
   {
    "duration": 28,
    "start_time": "2022-03-29T10:43:56.526Z"
   },
   {
    "duration": 8,
    "start_time": "2022-03-29T10:43:56.557Z"
   },
   {
    "duration": 25,
    "start_time": "2022-03-29T10:43:56.567Z"
   },
   {
    "duration": 19,
    "start_time": "2022-03-29T10:43:56.594Z"
   },
   {
    "duration": 24,
    "start_time": "2022-03-29T10:43:56.615Z"
   },
   {
    "duration": 253,
    "start_time": "2022-03-29T10:43:56.641Z"
   },
   {
    "duration": 583,
    "start_time": "2022-03-29T10:51:26.994Z"
   },
   {
    "duration": 1508,
    "start_time": "2022-03-29T10:51:30.093Z"
   },
   {
    "duration": 45,
    "start_time": "2022-03-29T10:51:31.603Z"
   },
   {
    "duration": 37,
    "start_time": "2022-03-29T10:51:31.651Z"
   },
   {
    "duration": 1376,
    "start_time": "2022-03-29T10:51:31.717Z"
   },
   {
    "duration": 9,
    "start_time": "2022-03-29T10:51:33.095Z"
   },
   {
    "duration": 36,
    "start_time": "2022-03-29T10:51:33.107Z"
   },
   {
    "duration": 22,
    "start_time": "2022-03-29T10:51:34.082Z"
   },
   {
    "duration": 6,
    "start_time": "2022-03-29T10:51:34.741Z"
   },
   {
    "duration": 10,
    "start_time": "2022-03-29T10:51:35.208Z"
   },
   {
    "duration": 6,
    "start_time": "2022-03-29T10:51:35.377Z"
   },
   {
    "duration": 5,
    "start_time": "2022-03-29T10:51:36.265Z"
   },
   {
    "duration": 5,
    "start_time": "2022-03-29T10:51:37.166Z"
   },
   {
    "duration": 211,
    "start_time": "2022-03-29T10:51:37.281Z"
   },
   {
    "duration": 913,
    "start_time": "2022-03-29T10:51:37.584Z"
   },
   {
    "duration": 1338,
    "start_time": "2022-03-29T10:51:38.590Z"
   },
   {
    "duration": 2898,
    "start_time": "2022-03-29T10:57:00.153Z"
   },
   {
    "duration": 6,
    "start_time": "2022-03-29T10:57:33.269Z"
   },
   {
    "duration": 12,
    "start_time": "2022-03-29T10:58:13.725Z"
   },
   {
    "duration": 5,
    "start_time": "2022-03-29T10:58:14.506Z"
   },
   {
    "duration": 2763,
    "start_time": "2022-03-29T10:59:59.697Z"
   },
   {
    "duration": 1466,
    "start_time": "2022-03-29T11:04:20.948Z"
   },
   {
    "duration": 633,
    "start_time": "2022-03-29T11:09:26.251Z"
   }
  ],
  "kernelspec": {
   "display_name": "Python 3.9.13 64-bit",
   "language": "python",
   "name": "python3"
  },
  "language_info": {
   "codemirror_mode": {
    "name": "ipython",
    "version": 3
   },
   "file_extension": ".py",
   "mimetype": "text/x-python",
   "name": "python",
   "nbconvert_exporter": "python",
   "pygments_lexer": "ipython3",
   "version": "3.9.13"
  },
  "toc": {
   "base_numbering": 1,
   "nav_menu": {},
   "number_sections": true,
   "sideBar": true,
   "skip_h1_title": true,
   "title_cell": "Содержание",
   "title_sidebar": "Contents",
   "toc_cell": true,
   "toc_position": {
    "height": "563px",
    "left": "27px",
    "top": "111.141px",
    "width": "165px"
   },
   "toc_section_display": true,
   "toc_window_display": true
  },
  "vscode": {
   "interpreter": {
    "hash": "aee8b7b246df8f9039afb4144a1f6fd8d2ca17a180786b69acc140d282b71a49"
   }
  }
 },
 "nbformat": 4,
 "nbformat_minor": 2
}
