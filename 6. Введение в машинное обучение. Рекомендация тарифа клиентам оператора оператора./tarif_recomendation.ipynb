{
 "cells": [
  {
   "cell_type": "markdown",
   "metadata": {},
   "source": [
    "# Исследование поведения клиентов оператора\n",
    "\n",
    "Заказчик - федеральный оператор мобильной связи «Мегалайн». Клиентам предлагают два тарифных плана: «Смарт» и «Ультра». «Мегалайн» выяснил: многие клиенты пользуются архивными тарифами. Они хотят построить систему, способную проанализировать поведение клиентов и предложить пользователям новый тариф: «Смарт» или «Ультра».\n",
    "\n",
    "Даны данные о поведении клиентов, которые уже перешли на эти тарифы. Предобработка данных проведена на предыдущем этапе.\n",
    "\n",
    "Нужно построить модель для задачи классификации, которая выберет подходящий тариф для каждого из клиентов. Ключевая метрика качества работы модели - accuracy. Целевое значение accuracy - 0,75.\n",
    "\n",
    "__Описание данных:__\n",
    "\n",
    "\n",
    "- `сalls` — количество звонков;\n",
    "- `minutes` — суммарная длительность звонков в минутах;\n",
    "- `messages` — количество sms-сообщений;\n",
    "- `mb_used` — израсходованный интернет-трафик в Мб;\n",
    "- `is_ultra` — каким тарифом пользовался в течение месяца («Ультра» — 1, «Смарт» — 0)."
   ]
  },
  {
   "cell_type": "markdown",
   "metadata": {},
   "source": [
    "__Цель исследования:__ Построить модель для задачи классификации клиентов по тарифам, с наилучшим показателем точности.\n",
    "\n",
    "\n",
    "__Ход исследования:__\n",
    " 1. Обзор данных:\n",
    " 2. Подготовка данных к обучению моделей.\n",
    " 3. Обучение моделей.\n",
    " 4. Оценка качества моделей."
   ]
  },
  {
   "cell_type": "markdown",
   "metadata": {},
   "source": [
    "### Подготовка окружения\n",
    "Загрузим все библиотеки, требуемые для работы в ходе проекта в рамках одной ячейки."
   ]
  },
  {
   "cell_type": "code",
   "execution_count": 1,
   "metadata": {},
   "outputs": [],
   "source": [
    "import pandas as pd\n",
    "import matplotlib.pyplot as plt\n",
    "from sklearn.tree import DecisionTreeClassifier\n",
    "from sklearn.ensemble import RandomForestClassifier\n",
    "from sklearn.linear_model import LogisticRegression\n",
    "from sklearn.neighbors import KNeighborsClassifier\n",
    "from sklearn.dummy import DummyClassifier\n",
    "from sklearn.model_selection import train_test_split\n",
    "from sklearn.metrics import accuracy_score "
   ]
  },
  {
   "cell_type": "markdown",
   "metadata": {},
   "source": [
    "---"
   ]
  },
  {
   "cell_type": "markdown",
   "metadata": {},
   "source": [
    "## Открытие файла с данными и изучение информации о данных"
   ]
  },
  {
   "cell_type": "code",
   "execution_count": 2,
   "metadata": {},
   "outputs": [],
   "source": [
    "try:\n",
    "    users_behavior = pd.read_csv('/datasets/users_behavior.csv')\n",
    "except FileNotFoundError:\n",
    "    users_behavior = pd.read_csv('-') # Прямая ссылка на датасет удалена в связи с правилами публикации проектов"
   ]
  },
  {
   "cell_type": "markdown",
   "metadata": {},
   "source": [
    "Изучим информацию о данных. Выведем на экран первые пять строк таблицы, основную обзорную и статистическую информацию."
   ]
  },
  {
   "cell_type": "code",
   "execution_count": 3,
   "metadata": {},
   "outputs": [
    {
     "data": {
      "text/html": [
       "<div>\n",
       "<style scoped>\n",
       "    .dataframe tbody tr th:only-of-type {\n",
       "        vertical-align: middle;\n",
       "    }\n",
       "\n",
       "    .dataframe tbody tr th {\n",
       "        vertical-align: top;\n",
       "    }\n",
       "\n",
       "    .dataframe thead th {\n",
       "        text-align: right;\n",
       "    }\n",
       "</style>\n",
       "<table border=\"1\" class=\"dataframe\">\n",
       "  <thead>\n",
       "    <tr style=\"text-align: right;\">\n",
       "      <th></th>\n",
       "      <th>calls</th>\n",
       "      <th>minutes</th>\n",
       "      <th>messages</th>\n",
       "      <th>mb_used</th>\n",
       "      <th>is_ultra</th>\n",
       "    </tr>\n",
       "  </thead>\n",
       "  <tbody>\n",
       "    <tr>\n",
       "      <td>0</td>\n",
       "      <td>40.0</td>\n",
       "      <td>311.90</td>\n",
       "      <td>83.0</td>\n",
       "      <td>19915.42</td>\n",
       "      <td>0</td>\n",
       "    </tr>\n",
       "    <tr>\n",
       "      <td>1</td>\n",
       "      <td>85.0</td>\n",
       "      <td>516.75</td>\n",
       "      <td>56.0</td>\n",
       "      <td>22696.96</td>\n",
       "      <td>0</td>\n",
       "    </tr>\n",
       "    <tr>\n",
       "      <td>2</td>\n",
       "      <td>77.0</td>\n",
       "      <td>467.66</td>\n",
       "      <td>86.0</td>\n",
       "      <td>21060.45</td>\n",
       "      <td>0</td>\n",
       "    </tr>\n",
       "    <tr>\n",
       "      <td>3</td>\n",
       "      <td>106.0</td>\n",
       "      <td>745.53</td>\n",
       "      <td>81.0</td>\n",
       "      <td>8437.39</td>\n",
       "      <td>1</td>\n",
       "    </tr>\n",
       "    <tr>\n",
       "      <td>4</td>\n",
       "      <td>66.0</td>\n",
       "      <td>418.74</td>\n",
       "      <td>1.0</td>\n",
       "      <td>14502.75</td>\n",
       "      <td>0</td>\n",
       "    </tr>\n",
       "  </tbody>\n",
       "</table>\n",
       "</div>"
      ],
      "text/plain": [
       "   calls  minutes  messages   mb_used  is_ultra\n",
       "0   40.0   311.90      83.0  19915.42         0\n",
       "1   85.0   516.75      56.0  22696.96         0\n",
       "2   77.0   467.66      86.0  21060.45         0\n",
       "3  106.0   745.53      81.0   8437.39         1\n",
       "4   66.0   418.74       1.0  14502.75         0"
      ]
     },
     "metadata": {},
     "output_type": "display_data"
    },
    {
     "name": "stdout",
     "output_type": "stream",
     "text": [
      "<class 'pandas.core.frame.DataFrame'>\n",
      "RangeIndex: 3214 entries, 0 to 3213\n",
      "Data columns (total 5 columns):\n",
      "calls       3214 non-null float64\n",
      "minutes     3214 non-null float64\n",
      "messages    3214 non-null float64\n",
      "mb_used     3214 non-null float64\n",
      "is_ultra    3214 non-null int64\n",
      "dtypes: float64(4), int64(1)\n",
      "memory usage: 125.7 KB\n",
      "None\n"
     ]
    },
    {
     "data": {
      "text/html": [
       "<div>\n",
       "<style scoped>\n",
       "    .dataframe tbody tr th:only-of-type {\n",
       "        vertical-align: middle;\n",
       "    }\n",
       "\n",
       "    .dataframe tbody tr th {\n",
       "        vertical-align: top;\n",
       "    }\n",
       "\n",
       "    .dataframe thead th {\n",
       "        text-align: right;\n",
       "    }\n",
       "</style>\n",
       "<table border=\"1\" class=\"dataframe\">\n",
       "  <thead>\n",
       "    <tr style=\"text-align: right;\">\n",
       "      <th></th>\n",
       "      <th>calls</th>\n",
       "      <th>minutes</th>\n",
       "      <th>messages</th>\n",
       "      <th>mb_used</th>\n",
       "      <th>is_ultra</th>\n",
       "    </tr>\n",
       "  </thead>\n",
       "  <tbody>\n",
       "    <tr>\n",
       "      <td>count</td>\n",
       "      <td>3214.000000</td>\n",
       "      <td>3214.000000</td>\n",
       "      <td>3214.000000</td>\n",
       "      <td>3214.000000</td>\n",
       "      <td>3214.000000</td>\n",
       "    </tr>\n",
       "    <tr>\n",
       "      <td>mean</td>\n",
       "      <td>63.038892</td>\n",
       "      <td>438.208787</td>\n",
       "      <td>38.281269</td>\n",
       "      <td>17207.673836</td>\n",
       "      <td>0.306472</td>\n",
       "    </tr>\n",
       "    <tr>\n",
       "      <td>std</td>\n",
       "      <td>33.236368</td>\n",
       "      <td>234.569872</td>\n",
       "      <td>36.148326</td>\n",
       "      <td>7570.968246</td>\n",
       "      <td>0.461100</td>\n",
       "    </tr>\n",
       "    <tr>\n",
       "      <td>min</td>\n",
       "      <td>0.000000</td>\n",
       "      <td>0.000000</td>\n",
       "      <td>0.000000</td>\n",
       "      <td>0.000000</td>\n",
       "      <td>0.000000</td>\n",
       "    </tr>\n",
       "    <tr>\n",
       "      <td>25%</td>\n",
       "      <td>40.000000</td>\n",
       "      <td>274.575000</td>\n",
       "      <td>9.000000</td>\n",
       "      <td>12491.902500</td>\n",
       "      <td>0.000000</td>\n",
       "    </tr>\n",
       "    <tr>\n",
       "      <td>50%</td>\n",
       "      <td>62.000000</td>\n",
       "      <td>430.600000</td>\n",
       "      <td>30.000000</td>\n",
       "      <td>16943.235000</td>\n",
       "      <td>0.000000</td>\n",
       "    </tr>\n",
       "    <tr>\n",
       "      <td>75%</td>\n",
       "      <td>82.000000</td>\n",
       "      <td>571.927500</td>\n",
       "      <td>57.000000</td>\n",
       "      <td>21424.700000</td>\n",
       "      <td>1.000000</td>\n",
       "    </tr>\n",
       "    <tr>\n",
       "      <td>max</td>\n",
       "      <td>244.000000</td>\n",
       "      <td>1632.060000</td>\n",
       "      <td>224.000000</td>\n",
       "      <td>49745.730000</td>\n",
       "      <td>1.000000</td>\n",
       "    </tr>\n",
       "  </tbody>\n",
       "</table>\n",
       "</div>"
      ],
      "text/plain": [
       "             calls      minutes     messages       mb_used     is_ultra\n",
       "count  3214.000000  3214.000000  3214.000000   3214.000000  3214.000000\n",
       "mean     63.038892   438.208787    38.281269  17207.673836     0.306472\n",
       "std      33.236368   234.569872    36.148326   7570.968246     0.461100\n",
       "min       0.000000     0.000000     0.000000      0.000000     0.000000\n",
       "25%      40.000000   274.575000     9.000000  12491.902500     0.000000\n",
       "50%      62.000000   430.600000    30.000000  16943.235000     0.000000\n",
       "75%      82.000000   571.927500    57.000000  21424.700000     1.000000\n",
       "max     244.000000  1632.060000   224.000000  49745.730000     1.000000"
      ]
     },
     "execution_count": 3,
     "metadata": {},
     "output_type": "execute_result"
    }
   ],
   "source": [
    "display(users_behavior.head())\n",
    "print(users_behavior.info())\n",
    "users_behavior.describe()"
   ]
  },
  {
   "cell_type": "markdown",
   "metadata": {},
   "source": [
    "В датасете 3214 наблюдений и 4 переменных. Целевой признак - подходящий абоненту тариф. Как видно из среднего числа целевого признака - среди абонентов 30,7% - пользователи тарифа \"Ультра\", 69,3% - пользователи тарифа \"Смарт\"."
   ]
  },
  {
   "cell_type": "markdown",
   "metadata": {},
   "source": [
    "## Подготовка данных"
   ]
  },
  {
   "cell_type": "markdown",
   "metadata": {},
   "source": [
    "Разделим данные на обучающую, валидационную и тестовую выборку. Тестовую и валидационную выборки возьмем одинакового размера - по 20% от датасете, тренировочную - 60% от датасета."
   ]
  },
  {
   "cell_type": "code",
   "execution_count": 4,
   "metadata": {},
   "outputs": [],
   "source": [
    "features = users_behavior.drop('is_ultra', axis=1)\n",
    "target = users_behavior['is_ultra']"
   ]
  },
  {
   "cell_type": "code",
   "execution_count": 5,
   "metadata": {},
   "outputs": [],
   "source": [
    "features_train, features_test, target_train, target_test = train_test_split(\n",
    "    features, target, test_size=.2, random_state=12345)"
   ]
  },
  {
   "cell_type": "code",
   "execution_count": 6,
   "metadata": {},
   "outputs": [],
   "source": [
    "features_train, features_valid, target_train, target_valid = train_test_split(\n",
    "    features_train, target_train, test_size=.25, random_state=12345)"
   ]
  },
  {
   "cell_type": "code",
   "execution_count": 7,
   "metadata": {},
   "outputs": [
    {
     "name": "stdout",
     "output_type": "stream",
     "text": [
      "Тренировочная выборка, размерность признаков (1928, 4)\n",
      "Валидационная выборка, размерность признаков (643, 4)\n",
      "Тестовая выборка, размерность признаков (643, 4)\n"
     ]
    }
   ],
   "source": [
    "print('Тренировочная выборка, размерность признаков', features_train.shape)\n",
    "print('Валидационная выборка, размерность признаков', features_valid.shape)\n",
    "print('Тестовая выборка, размерность признаков', features_test.shape)"
   ]
  },
  {
   "cell_type": "markdown",
   "metadata": {},
   "source": [
    "После разделения можно приступить к построению моделей."
   ]
  },
  {
   "cell_type": "markdown",
   "metadata": {},
   "source": [
    "## Обучение моделей"
   ]
  },
  {
   "cell_type": "markdown",
   "metadata": {},
   "source": [
    "В рамках исследования построим четыре основных модели классификации и оптимизируем их гиперпараметры. Построим следующие модели:\n",
    "\n",
    "1. Логистическая регрессия.\n",
    "2. Дерево решений.\n",
    "3. Случайный лес.\n",
    "4. Метод ближайших соседей."
   ]
  },
  {
   "cell_type": "markdown",
   "metadata": {},
   "source": [
    "### Логистическая регрессия"
   ]
  },
  {
   "cell_type": "markdown",
   "metadata": {},
   "source": [
    "Обучим модель логистической регрессии на тренировочном датасете."
   ]
  },
  {
   "cell_type": "code",
   "execution_count": 8,
   "metadata": {},
   "outputs": [
    {
     "name": "stdout",
     "output_type": "stream",
     "text": [
      "Accuracy лучшей модели на тренировочной выборке составил 0.703838174273859 \n",
      "Accuracy лучшей модели на валидационной выборке составил 0.6967340590979783\n"
     ]
    },
    {
     "name": "stderr",
     "output_type": "stream",
     "text": [
      "/opt/conda/lib/python3.7/site-packages/sklearn/linear_model/logistic.py:432: FutureWarning: Default solver will be changed to 'lbfgs' in 0.22. Specify a solver to silence this warning.\n",
      "  FutureWarning)\n"
     ]
    }
   ],
   "source": [
    "logit = LogisticRegression(random_state=12345)\n",
    "logit.fit(features_train, target_train)\n",
    "\n",
    "predictions_train = logit.predict(features_train)\n",
    "accuracy_logit_train = accuracy_score(target_train, predictions_train)\n",
    "predictions_valid = logit.predict(features_valid)\n",
    "accuracy_logit_valid = accuracy_score(target_valid, predictions_valid)\n",
    "\n",
    "print('Accuracy лучшей модели на тренировочной выборке составил', accuracy_logit_train,\n",
    "     '\\nAccuracy лучшей модели на валидационной выборке составил', accuracy_logit_valid)"
   ]
  },
  {
   "cell_type": "markdown",
   "metadata": {},
   "source": [
    "Модель не склонна к переобучению, следовательно предсказания на тренировочной и валидационной выборке различаются не слишком сильно."
   ]
  },
  {
   "cell_type": "markdown",
   "metadata": {},
   "source": [
    "### Дерево решений"
   ]
  },
  {
   "cell_type": "markdown",
   "metadata": {},
   "source": [
    "Подберем оптимальные параметры для обучения модели дерева решений и выберем лучшую модель."
   ]
  },
  {
   "cell_type": "code",
   "execution_count": 9,
   "metadata": {
    "scrolled": false
   },
   "outputs": [
    {
     "name": "stdout",
     "output_type": "stream",
     "text": [
      "Accuracy модели на тренировочной выборке составил 0.9704356846473029 \n",
      "Accuracy модели на валидационной выборке составил 0.7356143079315708 \n",
      "Глубина дерева 7\n"
     ]
    }
   ],
   "source": [
    "best_tree_model = None\n",
    "best_result = 0\n",
    "best_tree_depth = 0\n",
    "for depth in range(1, 20):\n",
    "    tree = DecisionTreeClassifier(random_state=12345, max_depth=depth)\n",
    "    tree.fit(features_train, target_train)\n",
    "    predictions_valid = tree.predict(features_valid)\n",
    "    accuracy_tree_valid = accuracy_score(target_valid, predictions_valid)\n",
    "    if accuracy_tree_valid > best_result:\n",
    "        best_tree_model = tree\n",
    "        best_result = accuracy_tree_valid\n",
    "        best_tree_depth = depth\n",
    "predictions_train = tree.predict(features_train)\n",
    "accuracy_tree_train = accuracy_score(target_train, predictions_train)\n",
    "predictions_valid = tree.predict(features_valid)\n",
    "accuracy_tree_valid = accuracy_score(target_valid, predictions_valid)\n",
    "\n",
    "print('Accuracy модели на тренировочной выборке составил', accuracy_tree_train,\n",
    "     '\\nAccuracy модели на валидационной выборке составил', accuracy_tree_valid,\n",
    "     '\\nГлубина дерева', best_tree_depth)"
   ]
  },
  {
   "cell_type": "code",
   "execution_count": 10,
   "metadata": {},
   "outputs": [
    {
     "name": "stdout",
     "output_type": "stream",
     "text": [
      "Accuracy модели на тренировочной выборке составил 0.8506224066390041 \n",
      "Accuracy модели на валидационной выборке составил 0.7744945567651633 \n",
      "Глубина дерева 7\n"
     ]
    }
   ],
   "source": [
    "best_tree_model = None\n",
    "best_result = 0\n",
    "best_tree_depth = 0\n",
    "\n",
    "for depth in range(1, 20):\n",
    "    tree = DecisionTreeClassifier(random_state=12345, max_depth=depth)\n",
    "    tree.fit(features_train, target_train)\n",
    "    predictions_valid = tree.predict(features_valid)\n",
    "    accuracy_tree_valid = accuracy_score(target_valid, predictions_valid)\n",
    "    if accuracy_tree_valid > best_result:\n",
    "        best_tree_model = tree\n",
    "        best_result = accuracy_tree_valid\n",
    "        best_tree_depth = depth\n",
    "        \n",
    "predictions_train = best_tree_model.predict(features_train)\n",
    "accuracy_tree_train = accuracy_score(target_train, predictions_train)\n",
    "predictions_valid = best_tree_model.predict(features_valid)\n",
    "accuracy_tree_valid = accuracy_score(target_valid, predictions_valid)\n",
    "\n",
    "print('Accuracy модели на тренировочной выборке составил', accuracy_tree_train,\n",
    "     '\\nAccuracy модели на валидационной выборке составил', accuracy_tree_valid,\n",
    "     '\\nГлубина дерева', best_tree_depth)"
   ]
  },
  {
   "cell_type": "markdown",
   "metadata": {},
   "source": [
    "Модель склонна к переобучению, за счет чего показывает лучшие результаты на тренировочной выборке, чем на валидационной."
   ]
  },
  {
   "cell_type": "markdown",
   "metadata": {},
   "source": [
    "### Случайный лес"
   ]
  },
  {
   "cell_type": "markdown",
   "metadata": {},
   "source": [
    "Таким же образом обучим модель случайного леса и выберем лучшие параметры для модели."
   ]
  },
  {
   "cell_type": "code",
   "execution_count": 11,
   "metadata": {},
   "outputs": [
    {
     "name": "stdout",
     "output_type": "stream",
     "text": [
      "Accuracy модели на тренировочной выборке составил 0.9133817427385892 \n",
      "Accuracy модели на валидационной выборке составил 0.8009331259720062 \n",
      "Глубина деревьев 12 \n",
      "Количество деревьев 76\n"
     ]
    }
   ],
   "source": [
    "best_forest_model = None\n",
    "best_result = 0\n",
    "best_forest_depth = 0\n",
    "best_forest_est = 0\n",
    "\n",
    "for depth in range(1, 20):\n",
    "    for est in range(1, 101, 5):\n",
    "        forest = RandomForestClassifier(random_state=12345, max_depth=depth, n_estimators=est)\n",
    "        forest.fit(features_train, target_train)\n",
    "        predictions_valid = forest.predict(features_valid)\n",
    "        accuracy_forest_valid = accuracy_score(target_valid, predictions_valid)\n",
    "        if accuracy_forest_valid > best_result:\n",
    "            best_forest_model = forest\n",
    "            best_result = accuracy_forest_valid\n",
    "            best_forest_depth = depth\n",
    "            best_forest_est = est\n",
    "            \n",
    "predictions_train = best_forest_model.predict(features_train)\n",
    "accuracy_forest_train = accuracy_score(target_train, predictions_train)\n",
    "predictions_valid = best_forest_model.predict(features_valid)\n",
    "accuracy_forest_valid = accuracy_score(target_valid, predictions_valid)\n",
    "\n",
    "print('Accuracy модели на тренировочной выборке составил', accuracy_forest_train,\n",
    "     '\\nAccuracy модели на валидационной выборке составил', accuracy_forest_valid,\n",
    "     '\\nГлубина деревьев', best_forest_depth,\n",
    "     '\\nКоличество деревьев', best_forest_est)"
   ]
  },
  {
   "cell_type": "markdown",
   "metadata": {},
   "source": [
    "Модель еще более склонна к переобучению, но показывает лучший результат на валидационной выборке."
   ]
  },
  {
   "cell_type": "markdown",
   "metadata": {},
   "source": [
    "### Метод ближайших соседей"
   ]
  },
  {
   "cell_type": "code",
   "execution_count": 12,
   "metadata": {},
   "outputs": [
    {
     "name": "stdout",
     "output_type": "stream",
     "text": [
      "Accuracy модели на тренировочной выборке составил 0.9870331950207469 \n",
      "Accuracy модели на валидационной выборке составил 0.7853810264385692 \n",
      "Количество соседей 12\n"
     ]
    }
   ],
   "source": [
    "best_neighbors_model = None\n",
    "best_result = 0\n",
    "best_n_neighbors = 0\n",
    "\n",
    "for n_neighbors in range(1, 50):\n",
    "    neighbors = KNeighborsClassifier(n_neighbors=n_neighbors)\n",
    "    neighbors.fit(features_train, target_train)\n",
    "    predictions_valid = neighbors.predict(features_valid)\n",
    "    accuracy_neighbors_valid = accuracy_score(target_valid, predictions_valid)\n",
    "    if accuracy_neighbors_valid > best_result:\n",
    "        best_neighbors_model = forest\n",
    "        best_result = accuracy_neighbors_valid\n",
    "        best_n_neighbors = n_neighbors\n",
    "        \n",
    "predictions_train = best_neighbors_model.predict(features_train)\n",
    "accuracy_neighbors_train = accuracy_score(target_train, predictions_train)\n",
    "predictions_valid = best_neighbors_model.predict(features_valid)\n",
    "accuracy_neighbors_valid = accuracy_score(target_valid, predictions_valid)\n",
    "\n",
    "print('Accuracy модели на тренировочной выборке составил', accuracy_neighbors_train,\n",
    "     '\\nAccuracy модели на валидационной выборке составил', accuracy_neighbors_valid,\n",
    "     '\\nКоличество соседей', best_n_neighbors)"
   ]
  },
  {
   "cell_type": "markdown",
   "metadata": {},
   "source": [
    "Метод ближайших соседей еще более склонен к переобучению, чем все предыдущие модели."
   ]
  },
  {
   "cell_type": "markdown",
   "metadata": {},
   "source": [
    "## Оценка качества моделей"
   ]
  },
  {
   "cell_type": "markdown",
   "metadata": {},
   "source": [
    "Оценим качество моделей на тестовом датасете и  сравним все три показателя - точность предсказания на тренировочной, валидационной и тестовой выборке. Также добавим в сравнение результаты dummy модели. Так как у нас ~30% - абоненты тарифа \"Ультра\", остальные - абоненты тарифа \"Смарт\", это модель будет выбирать тариф \"Ультра\" для новых данных с вероятностью 0,3."
   ]
  },
  {
   "cell_type": "code",
   "execution_count": 13,
   "metadata": {},
   "outputs": [
    {
     "data": {
      "text/html": [
       "<div>\n",
       "<style scoped>\n",
       "    .dataframe tbody tr th:only-of-type {\n",
       "        vertical-align: middle;\n",
       "    }\n",
       "\n",
       "    .dataframe tbody tr th {\n",
       "        vertical-align: top;\n",
       "    }\n",
       "\n",
       "    .dataframe thead th {\n",
       "        text-align: right;\n",
       "    }\n",
       "</style>\n",
       "<table border=\"1\" class=\"dataframe\">\n",
       "  <thead>\n",
       "    <tr style=\"text-align: right;\">\n",
       "      <th></th>\n",
       "      <th>Train accuracy</th>\n",
       "      <th>Valid accuracy</th>\n",
       "      <th>Test accuracy</th>\n",
       "    </tr>\n",
       "  </thead>\n",
       "  <tbody>\n",
       "    <tr>\n",
       "      <td>Logistic regression</td>\n",
       "      <td>0.703838</td>\n",
       "      <td>0.696734</td>\n",
       "      <td>0.702955</td>\n",
       "    </tr>\n",
       "    <tr>\n",
       "      <td>Desision tree</td>\n",
       "      <td>0.850622</td>\n",
       "      <td>0.774495</td>\n",
       "      <td>0.788491</td>\n",
       "    </tr>\n",
       "    <tr>\n",
       "      <td>Random Forest</td>\n",
       "      <td>0.913382</td>\n",
       "      <td>0.800933</td>\n",
       "      <td>0.797823</td>\n",
       "    </tr>\n",
       "    <tr>\n",
       "      <td>K-neighbors</td>\n",
       "      <td>0.987033</td>\n",
       "      <td>0.785381</td>\n",
       "      <td>0.785381</td>\n",
       "    </tr>\n",
       "    <tr>\n",
       "      <td>Dummy</td>\n",
       "      <td>0.694502</td>\n",
       "      <td>0.688958</td>\n",
       "      <td>0.695179</td>\n",
       "    </tr>\n",
       "  </tbody>\n",
       "</table>\n",
       "</div>"
      ],
      "text/plain": [
       "                     Train accuracy  Valid accuracy  Test accuracy\n",
       "Logistic regression        0.703838        0.696734       0.702955\n",
       "Desision tree              0.850622        0.774495       0.788491\n",
       "Random Forest              0.913382        0.800933       0.797823\n",
       "K-neighbors                0.987033        0.785381       0.785381\n",
       "Dummy                      0.694502        0.688958       0.695179"
      ]
     },
     "execution_count": 13,
     "metadata": {},
     "output_type": "execute_result"
    }
   ],
   "source": [
    "dummy = DummyClassifier(random_state=12345, strategy='most_frequent')\n",
    "dummy.fit(features_train, target_train)\n",
    "\n",
    "models = (logit, best_tree_model, best_forest_model, best_neighbors_model, dummy)\n",
    "names_of_models = ('Logistic regression', 'Desision tree', 'Random Forest', 'K-neighbors', 'Dummy')\n",
    "comparison = {}\n",
    "\n",
    "for i in range(len(models)):\n",
    "    model = models[i]\n",
    "    train_accuracy = accuracy_score(target_train, model.predict(features_train))\n",
    "    valid_accuracy = accuracy_score(target_valid, model.predict(features_valid))\n",
    "    test_accuracy = accuracy_score(target_test, model.predict(features_test))\n",
    "    comparison[names_of_models[i]] = (train_accuracy, valid_accuracy, test_accuracy)\n",
    "\n",
    "comparison = pd.DataFrame.from_dict(comparison).T\n",
    "comparison.columns = ('Train accuracy', 'Valid accuracy', 'Test accuracy')\n",
    "\n",
    "comparison"
   ]
  },
  {
   "cell_type": "markdown",
   "metadata": {},
   "source": [
    "Все модели показали лучший результат, чем сравнительная модель Dummy. Она выбирала класс в соответствии с распределением исходных классов в тренировочной выборке. Этот результат чуть выше, чем у полностью случайного назначения, которое вероятнее всего показало бы результат близкий к 0,5.\n",
    "\n",
    "Лучший результат среди полноценных моделей на тестовой выборке показала модель случайного леса. Несмотря на явную тененцию к переобучению, модель работает наилучшим образом, за ней следуют с минимальным отрывом модели дерева решений и ближайших соседей, также показывающие значительно более высокие результаты на тренировочной выборке."
   ]
  },
  {
   "cell_type": "markdown",
   "metadata": {},
   "source": [
    "## Общий вывод"
   ]
  },
  {
   "cell_type": "markdown",
   "metadata": {},
   "source": [
    "Для компании «Мегалайн» целесообразнее всего использовать метод случайных деревьев. С вероятностью ~ 80% он позволяет предсказать, какой тариф оптимальнее всего подходит для клиента, в зависимости от его характера потребления трафика, сообщений и звонков.\n",
    "\n",
    "Количество деревьев в оптимальной модели - 76, глубина каждого дерева - 12.\n",
    "\n",
    "Дальнейшие исследования лучше сосредоточить именно на этой модели - глубже исследовать гиперпараметры и поведение модели на новых данных. Остальные модели также не стоит отбрасывать совсем -  при увеличении количества данных метод ближайших соседей модет начать работать все лучше и лучше, так как он наиболее оптимален на больших датасетах.\n",
    "\n",
    "Кроме этого компании следует обратить внимание на удовлетворенность качеством обслуживания клиентов. Не исключено, что при использовании того или иного тарифа клиент может быть недоволен им и он ему может не подходить. Таким образом предсказанный оптимальный тариф может также не подходить клиенту, переходящему со старого. Собранные данные удовлетворенности клиентов позволят предсказать не оптимальный тариф, а то, насколько конкретный клиент, переходящий на него, будет доволен сменой тарифа. Так будет возможно предлагать индивидуальные услуги и скидки клиентам, что бы оптимизировать выручку безболезненно для клиента."
   ]
  }
 ],
 "metadata": {
  "ExecuteTimeLog": [
   {
    "duration": 1592,
    "start_time": "2022-01-11T18:25:25.052Z"
   },
   {
    "duration": 70,
    "start_time": "2022-01-11T18:25:27.667Z"
   },
   {
    "duration": 16,
    "start_time": "2022-01-11T18:25:34.666Z"
   },
   {
    "duration": 77,
    "start_time": "2022-01-14T09:09:24.194Z"
   },
   {
    "duration": 266,
    "start_time": "2022-01-14T09:19:17.299Z"
   },
   {
    "duration": 205,
    "start_time": "2022-01-14T09:22:25.745Z"
   },
   {
    "duration": 1192,
    "start_time": "2022-01-14T09:22:43.810Z"
   },
   {
    "duration": 52,
    "start_time": "2022-01-14T09:22:45.004Z"
   },
   {
    "duration": 74,
    "start_time": "2022-01-14T09:22:45.058Z"
   },
   {
    "duration": 78,
    "start_time": "2022-01-14T09:22:45.134Z"
   },
   {
    "duration": 63,
    "start_time": "2022-01-14T09:22:45.214Z"
   },
   {
    "duration": 41,
    "start_time": "2022-01-14T09:22:45.280Z"
   },
   {
    "duration": 69,
    "start_time": "2022-01-14T09:22:45.324Z"
   },
   {
    "duration": 6,
    "start_time": "2022-01-14T09:22:45.396Z"
   },
   {
    "duration": 8,
    "start_time": "2022-01-14T09:22:45.404Z"
   },
   {
    "duration": 8,
    "start_time": "2022-01-14T09:22:45.414Z"
   },
   {
    "duration": 54,
    "start_time": "2022-01-14T09:22:45.423Z"
   },
   {
    "duration": 19,
    "start_time": "2022-01-14T09:22:45.479Z"
   },
   {
    "duration": 22,
    "start_time": "2022-01-14T09:22:45.500Z"
   },
   {
    "duration": 37,
    "start_time": "2022-01-14T09:22:45.524Z"
   },
   {
    "duration": 4,
    "start_time": "2022-01-14T09:22:45.563Z"
   },
   {
    "duration": 22,
    "start_time": "2022-01-14T09:22:45.569Z"
   },
   {
    "duration": 693,
    "start_time": "2022-01-14T09:22:45.593Z"
   },
   {
    "duration": 2,
    "start_time": "2022-01-14T09:22:46.288Z"
   },
   {
    "duration": 6,
    "start_time": "2022-01-14T09:22:46.292Z"
   },
   {
    "duration": 8737,
    "start_time": "2022-01-14T09:22:46.300Z"
   },
   {
    "duration": 46,
    "start_time": "2022-01-14T09:22:55.040Z"
   },
   {
    "duration": 4,
    "start_time": "2022-01-14T09:22:55.088Z"
   },
   {
    "duration": 318,
    "start_time": "2022-01-14T09:22:55.095Z"
   },
   {
    "duration": -527,
    "start_time": "2022-01-14T09:22:55.942Z"
   },
   {
    "duration": -538,
    "start_time": "2022-01-14T09:22:55.954Z"
   },
   {
    "duration": -550,
    "start_time": "2022-01-14T09:22:55.967Z"
   },
   {
    "duration": -557,
    "start_time": "2022-01-14T09:22:55.975Z"
   },
   {
    "duration": -564,
    "start_time": "2022-01-14T09:22:55.984Z"
   },
   {
    "duration": -569,
    "start_time": "2022-01-14T09:22:55.990Z"
   },
   {
    "duration": -574,
    "start_time": "2022-01-14T09:22:55.996Z"
   },
   {
    "duration": -582,
    "start_time": "2022-01-14T09:22:56.005Z"
   },
   {
    "duration": -602,
    "start_time": "2022-01-14T09:22:56.026Z"
   },
   {
    "duration": -617,
    "start_time": "2022-01-14T09:22:56.042Z"
   },
   {
    "duration": -624,
    "start_time": "2022-01-14T09:22:56.050Z"
   },
   {
    "duration": -630,
    "start_time": "2022-01-14T09:22:56.057Z"
   },
   {
    "duration": -634,
    "start_time": "2022-01-14T09:22:56.062Z"
   },
   {
    "duration": -639,
    "start_time": "2022-01-14T09:22:56.068Z"
   },
   {
    "duration": -644,
    "start_time": "2022-01-14T09:22:56.074Z"
   },
   {
    "duration": -649,
    "start_time": "2022-01-14T09:22:56.080Z"
   },
   {
    "duration": -653,
    "start_time": "2022-01-14T09:22:56.085Z"
   },
   {
    "duration": -657,
    "start_time": "2022-01-14T09:22:56.090Z"
   },
   {
    "duration": -660,
    "start_time": "2022-01-14T09:22:56.095Z"
   },
   {
    "duration": -669,
    "start_time": "2022-01-14T09:22:56.105Z"
   },
   {
    "duration": -675,
    "start_time": "2022-01-14T09:22:56.112Z"
   },
   {
    "duration": -686,
    "start_time": "2022-01-14T09:22:56.124Z"
   },
   {
    "duration": -692,
    "start_time": "2022-01-14T09:22:56.131Z"
   },
   {
    "duration": -700,
    "start_time": "2022-01-14T09:22:56.140Z"
   },
   {
    "duration": -706,
    "start_time": "2022-01-14T09:22:56.147Z"
   },
   {
    "duration": -766,
    "start_time": "2022-01-14T09:22:56.208Z"
   },
   {
    "duration": -772,
    "start_time": "2022-01-14T09:22:56.215Z"
   },
   {
    "duration": 5,
    "start_time": "2022-01-14T09:24:24.055Z"
   },
   {
    "duration": 32,
    "start_time": "2022-01-14T09:24:32.393Z"
   },
   {
    "duration": 4,
    "start_time": "2022-01-14T09:24:50.731Z"
   },
   {
    "duration": 10,
    "start_time": "2022-01-14T09:24:52.842Z"
   },
   {
    "duration": 461,
    "start_time": "2022-01-14T09:38:58.413Z"
   },
   {
    "duration": 222,
    "start_time": "2022-01-14T09:43:27.130Z"
   },
   {
    "duration": 1240,
    "start_time": "2022-01-14T09:47:59.663Z"
   },
   {
    "duration": 54,
    "start_time": "2022-01-14T09:48:00.906Z"
   },
   {
    "duration": 26,
    "start_time": "2022-01-14T09:48:00.963Z"
   },
   {
    "duration": 76,
    "start_time": "2022-01-14T09:48:00.992Z"
   },
   {
    "duration": 40,
    "start_time": "2022-01-14T09:48:01.071Z"
   },
   {
    "duration": 49,
    "start_time": "2022-01-14T09:48:01.113Z"
   },
   {
    "duration": 67,
    "start_time": "2022-01-14T09:48:01.164Z"
   },
   {
    "duration": 6,
    "start_time": "2022-01-14T09:48:01.235Z"
   },
   {
    "duration": 56,
    "start_time": "2022-01-14T09:48:01.243Z"
   },
   {
    "duration": 31,
    "start_time": "2022-01-14T09:48:01.301Z"
   },
   {
    "duration": 58,
    "start_time": "2022-01-14T09:48:01.334Z"
   },
   {
    "duration": 23,
    "start_time": "2022-01-14T09:48:01.394Z"
   },
   {
    "duration": 33,
    "start_time": "2022-01-14T09:48:01.419Z"
   },
   {
    "duration": 45,
    "start_time": "2022-01-14T09:48:01.454Z"
   },
   {
    "duration": 118,
    "start_time": "2022-01-14T09:48:01.501Z"
   },
   {
    "duration": 129,
    "start_time": "2022-01-14T09:48:01.621Z"
   },
   {
    "duration": 848,
    "start_time": "2022-01-14T09:48:01.753Z"
   },
   {
    "duration": 3,
    "start_time": "2022-01-14T09:48:02.604Z"
   },
   {
    "duration": 29,
    "start_time": "2022-01-14T09:48:02.610Z"
   },
   {
    "duration": 9405,
    "start_time": "2022-01-14T09:48:02.641Z"
   },
   {
    "duration": 43,
    "start_time": "2022-01-14T09:48:12.048Z"
   },
   {
    "duration": 3,
    "start_time": "2022-01-14T09:48:12.093Z"
   },
   {
    "duration": 8,
    "start_time": "2022-01-14T09:48:12.100Z"
   },
   {
    "duration": 10,
    "start_time": "2022-01-14T09:48:12.110Z"
   },
   {
    "duration": 39,
    "start_time": "2022-01-14T09:48:12.122Z"
   },
   {
    "duration": 19,
    "start_time": "2022-01-14T09:48:12.163Z"
   },
   {
    "duration": 7,
    "start_time": "2022-01-14T09:48:12.184Z"
   },
   {
    "duration": 13,
    "start_time": "2022-01-14T09:48:12.193Z"
   },
   {
    "duration": 138,
    "start_time": "2022-01-14T09:48:12.208Z"
   },
   {
    "duration": 5,
    "start_time": "2022-01-14T09:48:12.348Z"
   },
   {
    "duration": 9,
    "start_time": "2022-01-14T09:48:12.354Z"
   },
   {
    "duration": 16,
    "start_time": "2022-01-14T09:48:12.364Z"
   },
   {
    "duration": 11,
    "start_time": "2022-01-14T09:48:12.382Z"
   },
   {
    "duration": 88,
    "start_time": "2022-01-14T09:48:12.395Z"
   },
   {
    "duration": 43,
    "start_time": "2022-01-14T09:48:12.485Z"
   },
   {
    "duration": 34,
    "start_time": "2022-01-14T09:48:12.530Z"
   },
   {
    "duration": 20,
    "start_time": "2022-01-14T09:48:12.565Z"
   },
   {
    "duration": 17,
    "start_time": "2022-01-14T09:48:12.587Z"
   },
   {
    "duration": 3,
    "start_time": "2022-01-14T09:48:12.606Z"
   },
   {
    "duration": 13,
    "start_time": "2022-01-14T09:48:12.611Z"
   },
   {
    "duration": 35,
    "start_time": "2022-01-14T09:48:12.626Z"
   },
   {
    "duration": 10,
    "start_time": "2022-01-14T09:48:12.663Z"
   },
   {
    "duration": 7,
    "start_time": "2022-01-14T09:48:12.675Z"
   },
   {
    "duration": 398,
    "start_time": "2022-01-14T09:48:12.683Z"
   },
   {
    "duration": 40,
    "start_time": "2022-01-14T09:48:13.083Z"
   },
   {
    "duration": 434,
    "start_time": "2022-01-14T09:48:13.125Z"
   },
   {
    "duration": -67,
    "start_time": "2022-01-14T09:48:13.628Z"
   },
   {
    "duration": -70,
    "start_time": "2022-01-14T09:48:13.632Z"
   },
   {
    "duration": -72,
    "start_time": "2022-01-14T09:48:13.636Z"
   },
   {
    "duration": -77,
    "start_time": "2022-01-14T09:48:13.642Z"
   },
   {
    "duration": -82,
    "start_time": "2022-01-14T09:48:13.648Z"
   },
   {
    "duration": 1636,
    "start_time": "2022-02-22T06:31:50.918Z"
   },
   {
    "duration": 58,
    "start_time": "2022-02-22T06:31:52.557Z"
   },
   {
    "duration": 54,
    "start_time": "2022-02-22T06:31:52.619Z"
   },
   {
    "duration": 5,
    "start_time": "2022-02-22T06:31:52.676Z"
   },
   {
    "duration": 17,
    "start_time": "2022-02-22T06:31:52.683Z"
   },
   {
    "duration": 12,
    "start_time": "2022-02-22T06:31:52.702Z"
   },
   {
    "duration": 14,
    "start_time": "2022-02-22T06:31:52.717Z"
   },
   {
    "duration": 33,
    "start_time": "2022-02-22T06:31:52.735Z"
   },
   {
    "duration": 292,
    "start_time": "2022-02-22T06:31:52.770Z"
   },
   {
    "duration": 211,
    "start_time": "2022-02-22T06:31:53.065Z"
   },
   {
    "duration": 80305,
    "start_time": "2022-02-22T06:31:53.279Z"
   },
   {
    "duration": 1792,
    "start_time": "2022-02-22T06:33:13.595Z"
   },
   {
    "duration": 220,
    "start_time": "2022-02-22T06:33:15.394Z"
   }
  ],
  "kernelspec": {
   "display_name": "Python 3.9.13 64-bit",
   "language": "python",
   "name": "python3"
  },
  "language_info": {
   "codemirror_mode": {
    "name": "ipython",
    "version": 3
   },
   "file_extension": ".py",
   "mimetype": "text/x-python",
   "name": "python",
   "nbconvert_exporter": "python",
   "pygments_lexer": "ipython3",
   "version": "3.9.13"
  },
  "toc": {
   "base_numbering": 1,
   "nav_menu": {},
   "number_sections": true,
   "sideBar": true,
   "skip_h1_title": true,
   "title_cell": "Table of Contents",
   "title_sidebar": "Contents",
   "toc_cell": false,
   "toc_position": {
    "height": "calc(100% - 180px)",
    "left": "10px",
    "top": "150px",
    "width": "201px"
   },
   "toc_section_display": true,
   "toc_window_display": true
  },
  "vscode": {
   "interpreter": {
    "hash": "aee8b7b246df8f9039afb4144a1f6fd8d2ca17a180786b69acc140d282b71a49"
   }
  }
 },
 "nbformat": 4,
 "nbformat_minor": 2
}
