{
 "cells": [
  {
   "cell_type": "markdown",
   "metadata": {
    "toc": true
   },
   "source": [
    "<h1>Содержание<span class=\"tocSkip\"></span></h1>\n",
    "<div class=\"toc\"><ul class=\"toc-item\"><li><ul class=\"toc-item\"><li><span><a href=\"#Открытие-и-обзор-данных\" data-toc-modified-id=\"Открытие-и-обзор-данных-0.1\"><span class=\"toc-item-num\">0.1&nbsp;&nbsp;</span>Открытие и обзор данных</a></span></li></ul></li><li><span><a href=\"#Подготовка-данных\" data-toc-modified-id=\"Подготовка-данных-1\"><span class=\"toc-item-num\">1&nbsp;&nbsp;</span>Подготовка данных</a></span><ul class=\"toc-item\"><li><span><a href=\"#Постановка-задачи\" data-toc-modified-id=\"Постановка-задачи-1.1\"><span class=\"toc-item-num\">1.1&nbsp;&nbsp;</span>Постановка задачи</a></span></li><li><span><a href=\"#Изменение-названий-столбцов\" data-toc-modified-id=\"Изменение-названий-столбцов-1.2\"><span class=\"toc-item-num\">1.2&nbsp;&nbsp;</span>Изменение названий столбцов</a></span></li><li><span><a href=\"#Заполнение-пропусков\" data-toc-modified-id=\"Заполнение-пропусков-1.3\"><span class=\"toc-item-num\">1.3&nbsp;&nbsp;</span>Заполнение пропусков</a></span></li><li><span><a href=\"#Разделение-данных-на-выборки\" data-toc-modified-id=\"Разделение-данных-на-выборки-1.4\"><span class=\"toc-item-num\">1.4&nbsp;&nbsp;</span>Разделение данных на выборки</a></span></li><li><span><a href=\"#Подготовка-данные-к-обучению\" data-toc-modified-id=\"Подготовка-данные-к-обучению-1.5\"><span class=\"toc-item-num\">1.5&nbsp;&nbsp;</span>Подготовка данные к обучению</a></span></li></ul></li><li><span><a href=\"#Исследование-задачи\" data-toc-modified-id=\"Исследование-задачи-2\"><span class=\"toc-item-num\">2&nbsp;&nbsp;</span>Исследование задачи</a></span><ul class=\"toc-item\"><li><span><a href=\"#Постановка-задачи\" data-toc-modified-id=\"Постановка-задачи-2.1\"><span class=\"toc-item-num\">2.1&nbsp;&nbsp;</span>Постановка задачи</a></span></li><li><span><a href=\"#Исследование-дисбаланса-классов\" data-toc-modified-id=\"Исследование-дисбаланса-классов-2.2\"><span class=\"toc-item-num\">2.2&nbsp;&nbsp;</span>Исследование дисбаланса классов</a></span></li><li><span><a href=\"#Обучение-модели-без-учета-дисбаланса\" data-toc-modified-id=\"Обучение-модели-без-учета-дисбаланса-2.3\"><span class=\"toc-item-num\">2.3&nbsp;&nbsp;</span>Обучение модели без учета дисбаланса</a></span></li><li><span><a href=\"#Вывод\" data-toc-modified-id=\"Вывод-2.4\"><span class=\"toc-item-num\">2.4&nbsp;&nbsp;</span>Вывод</a></span></li></ul></li><li><span><a href=\"#Борьба-с-дисбалансом\" data-toc-modified-id=\"Борьба-с-дисбалансом-3\"><span class=\"toc-item-num\">3&nbsp;&nbsp;</span>Борьба с дисбалансом</a></span><ul class=\"toc-item\"><li><span><a href=\"#Постановка-задачи\" data-toc-modified-id=\"Постановка-задачи-3.1\"><span class=\"toc-item-num\">3.1&nbsp;&nbsp;</span>Постановка задачи</a></span></li><li><span><a href=\"#Снижение-порога-предсказания\" data-toc-modified-id=\"Снижение-порога-предсказания-3.2\"><span class=\"toc-item-num\">3.2&nbsp;&nbsp;</span>Снижение порога предсказания</a></span></li><li><span><a href=\"#Upsampling-и-downsampling\" data-toc-modified-id=\"Upsampling-и-downsampling-3.3\"><span class=\"toc-item-num\">3.3&nbsp;&nbsp;</span>Upsampling и downsampling</a></span></li><li><span><a href=\"#Оптимизация-модели-случайного-леса\" data-toc-modified-id=\"Оптимизация-модели-случайного-леса-3.4\"><span class=\"toc-item-num\">3.4&nbsp;&nbsp;</span>Оптимизация модели случайного леса</a></span></li><li><span><a href=\"#Вывод\" data-toc-modified-id=\"Вывод-3.5\"><span class=\"toc-item-num\">3.5&nbsp;&nbsp;</span>Вывод</a></span></li></ul></li><li><span><a href=\"#Тестирование-модели\" data-toc-modified-id=\"Тестирование-модели-4\"><span class=\"toc-item-num\">4&nbsp;&nbsp;</span>Тестирование модели</a></span></li><li><span><a href=\"#Вывод\" data-toc-modified-id=\"Вывод-5\"><span class=\"toc-item-num\">5&nbsp;&nbsp;</span>Вывод</a></span></li><li><span><a href=\"#Чек-лист-готовности-проекта\" data-toc-modified-id=\"Чек-лист-готовности-проекта-6\"><span class=\"toc-item-num\">6&nbsp;&nbsp;</span>Чек-лист готовности проекта</a></span></li></ul></div>"
   ]
  },
  {
   "cell_type": "markdown",
   "metadata": {},
   "source": [
    "# Отток клиентов"
   ]
  },
  {
   "cell_type": "markdown",
   "metadata": {},
   "source": [
    "Из «Бета-Банка» стали уходить клиенты. Каждый месяц. Немного, но заметно. Банковские маркетологи посчитали: сохранять текущих клиентов дешевле, чем привлекать новых.\n",
    "\n",
    "Нужно спрогнозировать, уйдёт клиент из банка в ближайшее время или нет. Вам предоставлены исторические данные о поведении клиентов и расторжении договоров с банком. \n",
    "\n",
    "Постройте модель с предельно большим значением *F1*-меры. Чтобы сдать проект успешно, нужно довести метрику до 0.59. Проверьте *F1*-меру на тестовой выборке самостоятельно.\n",
    "\n",
    "Дополнительно измеряйте *AUC-ROC*, сравнивайте её значение с *F1*-мерой.\n",
    "\n",
    "Источник данных: [https://www.kaggle.com/barelydedicated/bank-customer-churn-modeling](https://www.kaggle.com/barelydedicated/bank-customer-churn-modeling)"
   ]
  },
  {
   "cell_type": "markdown",
   "metadata": {},
   "source": [
    "__Признаки:__\n",
    "- `RowNumber` — индекс строки в данных\n",
    "- `CustomerId` — уникальный идентификатор клиента\n",
    "- `Surname` — фамилия\n",
    "- `CreditScore` — кредитный рейтинг\n",
    "- `Geography` — страна проживания\n",
    "- `Gender` — пол\n",
    "- `Age` — возраст\n",
    "- `Tenure` — сколько лет человек является клиентом банка\n",
    "- `Balance` — баланс на счёте\n",
    "- `NumOfProducts` — количество продуктов банка, используемых клиентом\n",
    "- `HasCrCard` — наличие кредитной карты\n",
    "- `IsActiveMember` — активность клиента\n",
    "- `EstimatedSalary` — предполагаемая зарплата\n",
    "\n",
    "\n",
    "__Целевой признак:__\n",
    "- `Exited` — факт ухода клиента"
   ]
  },
  {
   "cell_type": "markdown",
   "metadata": {},
   "source": [
    "### Открытие и обзор данных"
   ]
  },
  {
   "cell_type": "markdown",
   "metadata": {},
   "source": [
    "Сперва загрузим все необходимые модули для проведения исследовательского проекта."
   ]
  },
  {
   "cell_type": "code",
   "execution_count": 5,
   "metadata": {},
   "outputs": [],
   "source": [
    "import pandas as pd\n",
    "import matplotlib.pyplot as plt\n",
    "import re\n",
    "import random\n",
    "from sklearn.preprocessing import StandardScaler\n",
    "from sklearn.model_selection import train_test_split\n",
    "from sklearn.ensemble import RandomForestClassifier \n",
    "from sklearn.linear_model import LogisticRegression \n",
    "from sklearn.tree import DecisionTreeClassifier\n",
    "from sklearn.metrics import f1_score\n",
    "from sklearn.metrics import roc_curve\n",
    "from sklearn.utils import shuffle\n",
    "from sklearn.model_selection import RandomizedSearchCV\n",
    "from sklearn.metrics import roc_auc_score"
   ]
  },
  {
   "cell_type": "markdown",
   "metadata": {},
   "source": [
    "Загрузим и изучим полученные от заказчика данные. Изучим первые и последние строки датасета, обзорную и статистическую информацию о данных."
   ]
  },
  {
   "cell_type": "code",
   "execution_count": 7,
   "metadata": {},
   "outputs": [],
   "source": [
    "beta_data = pd.read_csv('-') # Прямая ссылка на датасет удалена в связи с правилами публикации проектов"
   ]
  },
  {
   "cell_type": "code",
   "execution_count": 8,
   "metadata": {
    "scrolled": false
   },
   "outputs": [
    {
     "data": {
      "text/html": [
       "<div>\n",
       "<style scoped>\n",
       "    .dataframe tbody tr th:only-of-type {\n",
       "        vertical-align: middle;\n",
       "    }\n",
       "\n",
       "    .dataframe tbody tr th {\n",
       "        vertical-align: top;\n",
       "    }\n",
       "\n",
       "    .dataframe thead th {\n",
       "        text-align: right;\n",
       "    }\n",
       "</style>\n",
       "<table border=\"1\" class=\"dataframe\">\n",
       "  <thead>\n",
       "    <tr style=\"text-align: right;\">\n",
       "      <th></th>\n",
       "      <th>RowNumber</th>\n",
       "      <th>CustomerId</th>\n",
       "      <th>Surname</th>\n",
       "      <th>CreditScore</th>\n",
       "      <th>Geography</th>\n",
       "      <th>Gender</th>\n",
       "      <th>Age</th>\n",
       "      <th>Tenure</th>\n",
       "      <th>Balance</th>\n",
       "      <th>NumOfProducts</th>\n",
       "      <th>HasCrCard</th>\n",
       "      <th>IsActiveMember</th>\n",
       "      <th>EstimatedSalary</th>\n",
       "      <th>Exited</th>\n",
       "    </tr>\n",
       "  </thead>\n",
       "  <tbody>\n",
       "    <tr>\n",
       "      <th>0</th>\n",
       "      <td>1</td>\n",
       "      <td>15634602</td>\n",
       "      <td>Hargrave</td>\n",
       "      <td>619</td>\n",
       "      <td>France</td>\n",
       "      <td>Female</td>\n",
       "      <td>42</td>\n",
       "      <td>2.0</td>\n",
       "      <td>0.00</td>\n",
       "      <td>1</td>\n",
       "      <td>1</td>\n",
       "      <td>1</td>\n",
       "      <td>101348.88</td>\n",
       "      <td>1</td>\n",
       "    </tr>\n",
       "    <tr>\n",
       "      <th>1</th>\n",
       "      <td>2</td>\n",
       "      <td>15647311</td>\n",
       "      <td>Hill</td>\n",
       "      <td>608</td>\n",
       "      <td>Spain</td>\n",
       "      <td>Female</td>\n",
       "      <td>41</td>\n",
       "      <td>1.0</td>\n",
       "      <td>83807.86</td>\n",
       "      <td>1</td>\n",
       "      <td>0</td>\n",
       "      <td>1</td>\n",
       "      <td>112542.58</td>\n",
       "      <td>0</td>\n",
       "    </tr>\n",
       "    <tr>\n",
       "      <th>2</th>\n",
       "      <td>3</td>\n",
       "      <td>15619304</td>\n",
       "      <td>Onio</td>\n",
       "      <td>502</td>\n",
       "      <td>France</td>\n",
       "      <td>Female</td>\n",
       "      <td>42</td>\n",
       "      <td>8.0</td>\n",
       "      <td>159660.80</td>\n",
       "      <td>3</td>\n",
       "      <td>1</td>\n",
       "      <td>0</td>\n",
       "      <td>113931.57</td>\n",
       "      <td>1</td>\n",
       "    </tr>\n",
       "    <tr>\n",
       "      <th>3</th>\n",
       "      <td>4</td>\n",
       "      <td>15701354</td>\n",
       "      <td>Boni</td>\n",
       "      <td>699</td>\n",
       "      <td>France</td>\n",
       "      <td>Female</td>\n",
       "      <td>39</td>\n",
       "      <td>1.0</td>\n",
       "      <td>0.00</td>\n",
       "      <td>2</td>\n",
       "      <td>0</td>\n",
       "      <td>0</td>\n",
       "      <td>93826.63</td>\n",
       "      <td>0</td>\n",
       "    </tr>\n",
       "    <tr>\n",
       "      <th>4</th>\n",
       "      <td>5</td>\n",
       "      <td>15737888</td>\n",
       "      <td>Mitchell</td>\n",
       "      <td>850</td>\n",
       "      <td>Spain</td>\n",
       "      <td>Female</td>\n",
       "      <td>43</td>\n",
       "      <td>2.0</td>\n",
       "      <td>125510.82</td>\n",
       "      <td>1</td>\n",
       "      <td>1</td>\n",
       "      <td>1</td>\n",
       "      <td>79084.10</td>\n",
       "      <td>0</td>\n",
       "    </tr>\n",
       "    <tr>\n",
       "      <th>...</th>\n",
       "      <td>...</td>\n",
       "      <td>...</td>\n",
       "      <td>...</td>\n",
       "      <td>...</td>\n",
       "      <td>...</td>\n",
       "      <td>...</td>\n",
       "      <td>...</td>\n",
       "      <td>...</td>\n",
       "      <td>...</td>\n",
       "      <td>...</td>\n",
       "      <td>...</td>\n",
       "      <td>...</td>\n",
       "      <td>...</td>\n",
       "      <td>...</td>\n",
       "    </tr>\n",
       "    <tr>\n",
       "      <th>9995</th>\n",
       "      <td>9996</td>\n",
       "      <td>15606229</td>\n",
       "      <td>Obijiaku</td>\n",
       "      <td>771</td>\n",
       "      <td>France</td>\n",
       "      <td>Male</td>\n",
       "      <td>39</td>\n",
       "      <td>5.0</td>\n",
       "      <td>0.00</td>\n",
       "      <td>2</td>\n",
       "      <td>1</td>\n",
       "      <td>0</td>\n",
       "      <td>96270.64</td>\n",
       "      <td>0</td>\n",
       "    </tr>\n",
       "    <tr>\n",
       "      <th>9996</th>\n",
       "      <td>9997</td>\n",
       "      <td>15569892</td>\n",
       "      <td>Johnstone</td>\n",
       "      <td>516</td>\n",
       "      <td>France</td>\n",
       "      <td>Male</td>\n",
       "      <td>35</td>\n",
       "      <td>10.0</td>\n",
       "      <td>57369.61</td>\n",
       "      <td>1</td>\n",
       "      <td>1</td>\n",
       "      <td>1</td>\n",
       "      <td>101699.77</td>\n",
       "      <td>0</td>\n",
       "    </tr>\n",
       "    <tr>\n",
       "      <th>9997</th>\n",
       "      <td>9998</td>\n",
       "      <td>15584532</td>\n",
       "      <td>Liu</td>\n",
       "      <td>709</td>\n",
       "      <td>France</td>\n",
       "      <td>Female</td>\n",
       "      <td>36</td>\n",
       "      <td>7.0</td>\n",
       "      <td>0.00</td>\n",
       "      <td>1</td>\n",
       "      <td>0</td>\n",
       "      <td>1</td>\n",
       "      <td>42085.58</td>\n",
       "      <td>1</td>\n",
       "    </tr>\n",
       "    <tr>\n",
       "      <th>9998</th>\n",
       "      <td>9999</td>\n",
       "      <td>15682355</td>\n",
       "      <td>Sabbatini</td>\n",
       "      <td>772</td>\n",
       "      <td>Germany</td>\n",
       "      <td>Male</td>\n",
       "      <td>42</td>\n",
       "      <td>3.0</td>\n",
       "      <td>75075.31</td>\n",
       "      <td>2</td>\n",
       "      <td>1</td>\n",
       "      <td>0</td>\n",
       "      <td>92888.52</td>\n",
       "      <td>1</td>\n",
       "    </tr>\n",
       "    <tr>\n",
       "      <th>9999</th>\n",
       "      <td>10000</td>\n",
       "      <td>15628319</td>\n",
       "      <td>Walker</td>\n",
       "      <td>792</td>\n",
       "      <td>France</td>\n",
       "      <td>Female</td>\n",
       "      <td>28</td>\n",
       "      <td>NaN</td>\n",
       "      <td>130142.79</td>\n",
       "      <td>1</td>\n",
       "      <td>1</td>\n",
       "      <td>0</td>\n",
       "      <td>38190.78</td>\n",
       "      <td>0</td>\n",
       "    </tr>\n",
       "  </tbody>\n",
       "</table>\n",
       "<p>10000 rows × 14 columns</p>\n",
       "</div>"
      ],
      "text/plain": [
       "      RowNumber  CustomerId    Surname  CreditScore Geography  Gender  Age  \\\n",
       "0             1    15634602   Hargrave          619    France  Female   42   \n",
       "1             2    15647311       Hill          608     Spain  Female   41   \n",
       "2             3    15619304       Onio          502    France  Female   42   \n",
       "3             4    15701354       Boni          699    France  Female   39   \n",
       "4             5    15737888   Mitchell          850     Spain  Female   43   \n",
       "...         ...         ...        ...          ...       ...     ...  ...   \n",
       "9995       9996    15606229   Obijiaku          771    France    Male   39   \n",
       "9996       9997    15569892  Johnstone          516    France    Male   35   \n",
       "9997       9998    15584532        Liu          709    France  Female   36   \n",
       "9998       9999    15682355  Sabbatini          772   Germany    Male   42   \n",
       "9999      10000    15628319     Walker          792    France  Female   28   \n",
       "\n",
       "      Tenure    Balance  NumOfProducts  HasCrCard  IsActiveMember  \\\n",
       "0        2.0       0.00              1          1               1   \n",
       "1        1.0   83807.86              1          0               1   \n",
       "2        8.0  159660.80              3          1               0   \n",
       "3        1.0       0.00              2          0               0   \n",
       "4        2.0  125510.82              1          1               1   \n",
       "...      ...        ...            ...        ...             ...   \n",
       "9995     5.0       0.00              2          1               0   \n",
       "9996    10.0   57369.61              1          1               1   \n",
       "9997     7.0       0.00              1          0               1   \n",
       "9998     3.0   75075.31              2          1               0   \n",
       "9999     NaN  130142.79              1          1               0   \n",
       "\n",
       "      EstimatedSalary  Exited  \n",
       "0           101348.88       1  \n",
       "1           112542.58       0  \n",
       "2           113931.57       1  \n",
       "3            93826.63       0  \n",
       "4            79084.10       0  \n",
       "...               ...     ...  \n",
       "9995         96270.64       0  \n",
       "9996        101699.77       0  \n",
       "9997         42085.58       1  \n",
       "9998         92888.52       1  \n",
       "9999         38190.78       0  \n",
       "\n",
       "[10000 rows x 14 columns]"
      ]
     },
     "metadata": {},
     "output_type": "display_data"
    },
    {
     "name": "stdout",
     "output_type": "stream",
     "text": [
      "<class 'pandas.core.frame.DataFrame'>\n",
      "RangeIndex: 10000 entries, 0 to 9999\n",
      "Data columns (total 14 columns):\n",
      " #   Column           Non-Null Count  Dtype  \n",
      "---  ------           --------------  -----  \n",
      " 0   RowNumber        10000 non-null  int64  \n",
      " 1   CustomerId       10000 non-null  int64  \n",
      " 2   Surname          10000 non-null  object \n",
      " 3   CreditScore      10000 non-null  int64  \n",
      " 4   Geography        10000 non-null  object \n",
      " 5   Gender           10000 non-null  object \n",
      " 6   Age              10000 non-null  int64  \n",
      " 7   Tenure           9091 non-null   float64\n",
      " 8   Balance          10000 non-null  float64\n",
      " 9   NumOfProducts    10000 non-null  int64  \n",
      " 10  HasCrCard        10000 non-null  int64  \n",
      " 11  IsActiveMember   10000 non-null  int64  \n",
      " 12  EstimatedSalary  10000 non-null  float64\n",
      " 13  Exited           10000 non-null  int64  \n",
      "dtypes: float64(3), int64(8), object(3)\n",
      "memory usage: 1.1+ MB\n",
      "None\n"
     ]
    },
    {
     "data": {
      "text/html": [
       "<div>\n",
       "<style scoped>\n",
       "    .dataframe tbody tr th:only-of-type {\n",
       "        vertical-align: middle;\n",
       "    }\n",
       "\n",
       "    .dataframe tbody tr th {\n",
       "        vertical-align: top;\n",
       "    }\n",
       "\n",
       "    .dataframe thead th {\n",
       "        text-align: right;\n",
       "    }\n",
       "</style>\n",
       "<table border=\"1\" class=\"dataframe\">\n",
       "  <thead>\n",
       "    <tr style=\"text-align: right;\">\n",
       "      <th></th>\n",
       "      <th>count</th>\n",
       "      <th>mean</th>\n",
       "      <th>std</th>\n",
       "      <th>min</th>\n",
       "      <th>25%</th>\n",
       "      <th>50%</th>\n",
       "      <th>75%</th>\n",
       "      <th>max</th>\n",
       "    </tr>\n",
       "  </thead>\n",
       "  <tbody>\n",
       "    <tr>\n",
       "      <th>RowNumber</th>\n",
       "      <td>10000.0</td>\n",
       "      <td>5.000500e+03</td>\n",
       "      <td>2886.895680</td>\n",
       "      <td>1.00</td>\n",
       "      <td>2500.75</td>\n",
       "      <td>5.000500e+03</td>\n",
       "      <td>7.500250e+03</td>\n",
       "      <td>10000.00</td>\n",
       "    </tr>\n",
       "    <tr>\n",
       "      <th>CustomerId</th>\n",
       "      <td>10000.0</td>\n",
       "      <td>1.569094e+07</td>\n",
       "      <td>71936.186123</td>\n",
       "      <td>15565701.00</td>\n",
       "      <td>15628528.25</td>\n",
       "      <td>1.569074e+07</td>\n",
       "      <td>1.575323e+07</td>\n",
       "      <td>15815690.00</td>\n",
       "    </tr>\n",
       "    <tr>\n",
       "      <th>CreditScore</th>\n",
       "      <td>10000.0</td>\n",
       "      <td>6.505288e+02</td>\n",
       "      <td>96.653299</td>\n",
       "      <td>350.00</td>\n",
       "      <td>584.00</td>\n",
       "      <td>6.520000e+02</td>\n",
       "      <td>7.180000e+02</td>\n",
       "      <td>850.00</td>\n",
       "    </tr>\n",
       "    <tr>\n",
       "      <th>Age</th>\n",
       "      <td>10000.0</td>\n",
       "      <td>3.892180e+01</td>\n",
       "      <td>10.487806</td>\n",
       "      <td>18.00</td>\n",
       "      <td>32.00</td>\n",
       "      <td>3.700000e+01</td>\n",
       "      <td>4.400000e+01</td>\n",
       "      <td>92.00</td>\n",
       "    </tr>\n",
       "    <tr>\n",
       "      <th>Tenure</th>\n",
       "      <td>9091.0</td>\n",
       "      <td>4.997690e+00</td>\n",
       "      <td>2.894723</td>\n",
       "      <td>0.00</td>\n",
       "      <td>2.00</td>\n",
       "      <td>5.000000e+00</td>\n",
       "      <td>7.000000e+00</td>\n",
       "      <td>10.00</td>\n",
       "    </tr>\n",
       "    <tr>\n",
       "      <th>Balance</th>\n",
       "      <td>10000.0</td>\n",
       "      <td>7.648589e+04</td>\n",
       "      <td>62397.405202</td>\n",
       "      <td>0.00</td>\n",
       "      <td>0.00</td>\n",
       "      <td>9.719854e+04</td>\n",
       "      <td>1.276442e+05</td>\n",
       "      <td>250898.09</td>\n",
       "    </tr>\n",
       "    <tr>\n",
       "      <th>NumOfProducts</th>\n",
       "      <td>10000.0</td>\n",
       "      <td>1.530200e+00</td>\n",
       "      <td>0.581654</td>\n",
       "      <td>1.00</td>\n",
       "      <td>1.00</td>\n",
       "      <td>1.000000e+00</td>\n",
       "      <td>2.000000e+00</td>\n",
       "      <td>4.00</td>\n",
       "    </tr>\n",
       "    <tr>\n",
       "      <th>HasCrCard</th>\n",
       "      <td>10000.0</td>\n",
       "      <td>7.055000e-01</td>\n",
       "      <td>0.455840</td>\n",
       "      <td>0.00</td>\n",
       "      <td>0.00</td>\n",
       "      <td>1.000000e+00</td>\n",
       "      <td>1.000000e+00</td>\n",
       "      <td>1.00</td>\n",
       "    </tr>\n",
       "    <tr>\n",
       "      <th>IsActiveMember</th>\n",
       "      <td>10000.0</td>\n",
       "      <td>5.151000e-01</td>\n",
       "      <td>0.499797</td>\n",
       "      <td>0.00</td>\n",
       "      <td>0.00</td>\n",
       "      <td>1.000000e+00</td>\n",
       "      <td>1.000000e+00</td>\n",
       "      <td>1.00</td>\n",
       "    </tr>\n",
       "    <tr>\n",
       "      <th>EstimatedSalary</th>\n",
       "      <td>10000.0</td>\n",
       "      <td>1.000902e+05</td>\n",
       "      <td>57510.492818</td>\n",
       "      <td>11.58</td>\n",
       "      <td>51002.11</td>\n",
       "      <td>1.001939e+05</td>\n",
       "      <td>1.493882e+05</td>\n",
       "      <td>199992.48</td>\n",
       "    </tr>\n",
       "    <tr>\n",
       "      <th>Exited</th>\n",
       "      <td>10000.0</td>\n",
       "      <td>2.037000e-01</td>\n",
       "      <td>0.402769</td>\n",
       "      <td>0.00</td>\n",
       "      <td>0.00</td>\n",
       "      <td>0.000000e+00</td>\n",
       "      <td>0.000000e+00</td>\n",
       "      <td>1.00</td>\n",
       "    </tr>\n",
       "  </tbody>\n",
       "</table>\n",
       "</div>"
      ],
      "text/plain": [
       "                   count          mean           std          min  \\\n",
       "RowNumber        10000.0  5.000500e+03   2886.895680         1.00   \n",
       "CustomerId       10000.0  1.569094e+07  71936.186123  15565701.00   \n",
       "CreditScore      10000.0  6.505288e+02     96.653299       350.00   \n",
       "Age              10000.0  3.892180e+01     10.487806        18.00   \n",
       "Tenure            9091.0  4.997690e+00      2.894723         0.00   \n",
       "Balance          10000.0  7.648589e+04  62397.405202         0.00   \n",
       "NumOfProducts    10000.0  1.530200e+00      0.581654         1.00   \n",
       "HasCrCard        10000.0  7.055000e-01      0.455840         0.00   \n",
       "IsActiveMember   10000.0  5.151000e-01      0.499797         0.00   \n",
       "EstimatedSalary  10000.0  1.000902e+05  57510.492818        11.58   \n",
       "Exited           10000.0  2.037000e-01      0.402769         0.00   \n",
       "\n",
       "                         25%           50%           75%          max  \n",
       "RowNumber            2500.75  5.000500e+03  7.500250e+03     10000.00  \n",
       "CustomerId       15628528.25  1.569074e+07  1.575323e+07  15815690.00  \n",
       "CreditScore           584.00  6.520000e+02  7.180000e+02       850.00  \n",
       "Age                    32.00  3.700000e+01  4.400000e+01        92.00  \n",
       "Tenure                  2.00  5.000000e+00  7.000000e+00        10.00  \n",
       "Balance                 0.00  9.719854e+04  1.276442e+05    250898.09  \n",
       "NumOfProducts           1.00  1.000000e+00  2.000000e+00         4.00  \n",
       "HasCrCard               0.00  1.000000e+00  1.000000e+00         1.00  \n",
       "IsActiveMember          0.00  1.000000e+00  1.000000e+00         1.00  \n",
       "EstimatedSalary     51002.11  1.001939e+05  1.493882e+05    199992.48  \n",
       "Exited                  0.00  0.000000e+00  0.000000e+00         1.00  "
      ]
     },
     "execution_count": 8,
     "metadata": {},
     "output_type": "execute_result"
    }
   ],
   "source": [
    "display(beta_data)\n",
    "print(beta_data.info())\n",
    "beta_data.describe().T"
   ]
  },
  {
   "cell_type": "markdown",
   "metadata": {},
   "source": [
    "__По результатам исследования данных можно сделать следующие выводы:__\n",
    "\n",
    "__1.__ В данных практически нет пропусков. Пропуски есть лишь в столбце `Tenure` в котором записано, сколько лет человек является клиентом банка. Это может быть как случайными пропусками в силу человеческого фактора при обработке данных, так и ошибкой считывания данных. Так как клиенты, являющиеся клиентами банка первый год отмечены в таблице нулевыми значениями, маловероятно, что пропуски в данных означают, что клиент сотрудничает с банком меньше года.\n",
    "\n",
    "\n",
    "__2.__ В среднем около 20% клиентов разорвали договор с банком. Несмотря на отрутствие данных по периоду, это все равно значительный процент клиентов и, судя по постановке задачи - он растет. Однако для нашей задачи - предсказание того, уйдет клиент или нет - это недостаточно большой процент. При обучении модели такой дисбаланс классов может снизить ее точность и его необходимо будет скорректировать для повышения точности предсказания.\n",
    "\n",
    "\n",
    "__3.__ Данные хранятся в привычном формате - например в столбце пола указана одна из двух характеристик: \"Female\" или \"Male\". Такое отображение удобно для человека, но не так подходит для алгоритмов машинного обучения. Необходимо закодировать данные таким образом, что бы все алгоритмы могли работать с ними.\n",
    "\n",
    "    Воспользуемся методом One-Hot-Encoding для кодирования категориальных переменных. Отбросим один из столбцов что бы избежать\n",
    "    дамми-ловушки. Для количественных переменных целесообразно масштабировать их с помощью инструмента StandartScaler модуля\n",
    "    sklearn. \n",
    "\n",
    "\n",
    "__4.__ Не совсем ясно, что предполагается под активностью клиента в столбце `IsActiveMember`. Такие данные было бы неплохо уточнить у коллег при возможности.\n",
    "\n",
    "\n",
    "__5.__ Данные хранятся в неподходящем виде. При расширении размеров датасета, целесообразно будет оптимизировать хранение данных, переведя их в менее ресурсозатратный тип.\n",
    "\n",
    "\n",
    "__6.__ Названия столбцов не соответсвуют общепринятому стилю в python. Переименуем их для удобства обработки."
   ]
  },
  {
   "cell_type": "markdown",
   "metadata": {},
   "source": [
    "## Подготовка данных"
   ]
  },
  {
   "cell_type": "markdown",
   "metadata": {},
   "source": [
    "### Постановка задачи"
   ]
  },
  {
   "cell_type": "markdown",
   "metadata": {},
   "source": [
    "__В рамках подготовки данных необходимо провести следующие преобразования:__\n",
    "\n",
    "\n",
    "1. Привести названия столбцов к общепринятому виду.\n",
    "\n",
    "\n",
    "2. Изучить пропуски в столбце `Tenure`. Заполнить, отбросить или оставить без изменения, в зависимости от найденных закономерностей.\n",
    "\n",
    "\n",
    "3. Закодировать и масштабировать данные для оптимизации работы модели.\n",
    "\n",
    "\n",
    "4. Разделить модель на обучающую, валидационную и тестовую выборки"
   ]
  },
  {
   "cell_type": "markdown",
   "metadata": {},
   "source": [
    "### Изменение названий столбцов"
   ]
  },
  {
   "cell_type": "markdown",
   "metadata": {},
   "source": [
    "Приведем названия столбцов к единообразному, общепринятому стилю snake_case."
   ]
  },
  {
   "cell_type": "code",
   "execution_count": 102,
   "metadata": {},
   "outputs": [],
   "source": [
    "beta_data.columns = [re.sub('(?!^)(?=[A-Z])', '_', name).lower() for name in beta_data.columns]"
   ]
  },
  {
   "cell_type": "code",
   "execution_count": 103,
   "metadata": {
    "scrolled": false
   },
   "outputs": [
    {
     "data": {
      "text/html": [
       "<div>\n",
       "<style scoped>\n",
       "    .dataframe tbody tr th:only-of-type {\n",
       "        vertical-align: middle;\n",
       "    }\n",
       "\n",
       "    .dataframe tbody tr th {\n",
       "        vertical-align: top;\n",
       "    }\n",
       "\n",
       "    .dataframe thead th {\n",
       "        text-align: right;\n",
       "    }\n",
       "</style>\n",
       "<table border=\"1\" class=\"dataframe\">\n",
       "  <thead>\n",
       "    <tr style=\"text-align: right;\">\n",
       "      <th></th>\n",
       "      <th>row_number</th>\n",
       "      <th>customer_id</th>\n",
       "      <th>surname</th>\n",
       "      <th>credit_score</th>\n",
       "      <th>geography</th>\n",
       "      <th>gender</th>\n",
       "      <th>age</th>\n",
       "      <th>tenure</th>\n",
       "      <th>balance</th>\n",
       "      <th>num_of_products</th>\n",
       "      <th>has_cr_card</th>\n",
       "      <th>is_active_member</th>\n",
       "      <th>estimated_salary</th>\n",
       "      <th>exited</th>\n",
       "    </tr>\n",
       "  </thead>\n",
       "  <tbody>\n",
       "    <tr>\n",
       "      <td>0</td>\n",
       "      <td>1</td>\n",
       "      <td>15634602</td>\n",
       "      <td>Hargrave</td>\n",
       "      <td>619</td>\n",
       "      <td>France</td>\n",
       "      <td>Female</td>\n",
       "      <td>42</td>\n",
       "      <td>2.0</td>\n",
       "      <td>0.00</td>\n",
       "      <td>1</td>\n",
       "      <td>1</td>\n",
       "      <td>1</td>\n",
       "      <td>101348.88</td>\n",
       "      <td>1</td>\n",
       "    </tr>\n",
       "    <tr>\n",
       "      <td>1</td>\n",
       "      <td>2</td>\n",
       "      <td>15647311</td>\n",
       "      <td>Hill</td>\n",
       "      <td>608</td>\n",
       "      <td>Spain</td>\n",
       "      <td>Female</td>\n",
       "      <td>41</td>\n",
       "      <td>1.0</td>\n",
       "      <td>83807.86</td>\n",
       "      <td>1</td>\n",
       "      <td>0</td>\n",
       "      <td>1</td>\n",
       "      <td>112542.58</td>\n",
       "      <td>0</td>\n",
       "    </tr>\n",
       "    <tr>\n",
       "      <td>2</td>\n",
       "      <td>3</td>\n",
       "      <td>15619304</td>\n",
       "      <td>Onio</td>\n",
       "      <td>502</td>\n",
       "      <td>France</td>\n",
       "      <td>Female</td>\n",
       "      <td>42</td>\n",
       "      <td>8.0</td>\n",
       "      <td>159660.80</td>\n",
       "      <td>3</td>\n",
       "      <td>1</td>\n",
       "      <td>0</td>\n",
       "      <td>113931.57</td>\n",
       "      <td>1</td>\n",
       "    </tr>\n",
       "    <tr>\n",
       "      <td>3</td>\n",
       "      <td>4</td>\n",
       "      <td>15701354</td>\n",
       "      <td>Boni</td>\n",
       "      <td>699</td>\n",
       "      <td>France</td>\n",
       "      <td>Female</td>\n",
       "      <td>39</td>\n",
       "      <td>1.0</td>\n",
       "      <td>0.00</td>\n",
       "      <td>2</td>\n",
       "      <td>0</td>\n",
       "      <td>0</td>\n",
       "      <td>93826.63</td>\n",
       "      <td>0</td>\n",
       "    </tr>\n",
       "    <tr>\n",
       "      <td>4</td>\n",
       "      <td>5</td>\n",
       "      <td>15737888</td>\n",
       "      <td>Mitchell</td>\n",
       "      <td>850</td>\n",
       "      <td>Spain</td>\n",
       "      <td>Female</td>\n",
       "      <td>43</td>\n",
       "      <td>2.0</td>\n",
       "      <td>125510.82</td>\n",
       "      <td>1</td>\n",
       "      <td>1</td>\n",
       "      <td>1</td>\n",
       "      <td>79084.10</td>\n",
       "      <td>0</td>\n",
       "    </tr>\n",
       "    <tr>\n",
       "      <td>...</td>\n",
       "      <td>...</td>\n",
       "      <td>...</td>\n",
       "      <td>...</td>\n",
       "      <td>...</td>\n",
       "      <td>...</td>\n",
       "      <td>...</td>\n",
       "      <td>...</td>\n",
       "      <td>...</td>\n",
       "      <td>...</td>\n",
       "      <td>...</td>\n",
       "      <td>...</td>\n",
       "      <td>...</td>\n",
       "      <td>...</td>\n",
       "      <td>...</td>\n",
       "    </tr>\n",
       "    <tr>\n",
       "      <td>9995</td>\n",
       "      <td>9996</td>\n",
       "      <td>15606229</td>\n",
       "      <td>Obijiaku</td>\n",
       "      <td>771</td>\n",
       "      <td>France</td>\n",
       "      <td>Male</td>\n",
       "      <td>39</td>\n",
       "      <td>5.0</td>\n",
       "      <td>0.00</td>\n",
       "      <td>2</td>\n",
       "      <td>1</td>\n",
       "      <td>0</td>\n",
       "      <td>96270.64</td>\n",
       "      <td>0</td>\n",
       "    </tr>\n",
       "    <tr>\n",
       "      <td>9996</td>\n",
       "      <td>9997</td>\n",
       "      <td>15569892</td>\n",
       "      <td>Johnstone</td>\n",
       "      <td>516</td>\n",
       "      <td>France</td>\n",
       "      <td>Male</td>\n",
       "      <td>35</td>\n",
       "      <td>10.0</td>\n",
       "      <td>57369.61</td>\n",
       "      <td>1</td>\n",
       "      <td>1</td>\n",
       "      <td>1</td>\n",
       "      <td>101699.77</td>\n",
       "      <td>0</td>\n",
       "    </tr>\n",
       "    <tr>\n",
       "      <td>9997</td>\n",
       "      <td>9998</td>\n",
       "      <td>15584532</td>\n",
       "      <td>Liu</td>\n",
       "      <td>709</td>\n",
       "      <td>France</td>\n",
       "      <td>Female</td>\n",
       "      <td>36</td>\n",
       "      <td>7.0</td>\n",
       "      <td>0.00</td>\n",
       "      <td>1</td>\n",
       "      <td>0</td>\n",
       "      <td>1</td>\n",
       "      <td>42085.58</td>\n",
       "      <td>1</td>\n",
       "    </tr>\n",
       "    <tr>\n",
       "      <td>9998</td>\n",
       "      <td>9999</td>\n",
       "      <td>15682355</td>\n",
       "      <td>Sabbatini</td>\n",
       "      <td>772</td>\n",
       "      <td>Germany</td>\n",
       "      <td>Male</td>\n",
       "      <td>42</td>\n",
       "      <td>3.0</td>\n",
       "      <td>75075.31</td>\n",
       "      <td>2</td>\n",
       "      <td>1</td>\n",
       "      <td>0</td>\n",
       "      <td>92888.52</td>\n",
       "      <td>1</td>\n",
       "    </tr>\n",
       "    <tr>\n",
       "      <td>9999</td>\n",
       "      <td>10000</td>\n",
       "      <td>15628319</td>\n",
       "      <td>Walker</td>\n",
       "      <td>792</td>\n",
       "      <td>France</td>\n",
       "      <td>Female</td>\n",
       "      <td>28</td>\n",
       "      <td>NaN</td>\n",
       "      <td>130142.79</td>\n",
       "      <td>1</td>\n",
       "      <td>1</td>\n",
       "      <td>0</td>\n",
       "      <td>38190.78</td>\n",
       "      <td>0</td>\n",
       "    </tr>\n",
       "  </tbody>\n",
       "</table>\n",
       "<p>10000 rows × 14 columns</p>\n",
       "</div>"
      ],
      "text/plain": [
       "      row_number  customer_id    surname  credit_score geography  gender  age  \\\n",
       "0              1     15634602   Hargrave           619    France  Female   42   \n",
       "1              2     15647311       Hill           608     Spain  Female   41   \n",
       "2              3     15619304       Onio           502    France  Female   42   \n",
       "3              4     15701354       Boni           699    France  Female   39   \n",
       "4              5     15737888   Mitchell           850     Spain  Female   43   \n",
       "...          ...          ...        ...           ...       ...     ...  ...   \n",
       "9995        9996     15606229   Obijiaku           771    France    Male   39   \n",
       "9996        9997     15569892  Johnstone           516    France    Male   35   \n",
       "9997        9998     15584532        Liu           709    France  Female   36   \n",
       "9998        9999     15682355  Sabbatini           772   Germany    Male   42   \n",
       "9999       10000     15628319     Walker           792    France  Female   28   \n",
       "\n",
       "      tenure    balance  num_of_products  has_cr_card  is_active_member  \\\n",
       "0        2.0       0.00                1            1                 1   \n",
       "1        1.0   83807.86                1            0                 1   \n",
       "2        8.0  159660.80                3            1                 0   \n",
       "3        1.0       0.00                2            0                 0   \n",
       "4        2.0  125510.82                1            1                 1   \n",
       "...      ...        ...              ...          ...               ...   \n",
       "9995     5.0       0.00                2            1                 0   \n",
       "9996    10.0   57369.61                1            1                 1   \n",
       "9997     7.0       0.00                1            0                 1   \n",
       "9998     3.0   75075.31                2            1                 0   \n",
       "9999     NaN  130142.79                1            1                 0   \n",
       "\n",
       "      estimated_salary  exited  \n",
       "0            101348.88       1  \n",
       "1            112542.58       0  \n",
       "2            113931.57       1  \n",
       "3             93826.63       0  \n",
       "4             79084.10       0  \n",
       "...                ...     ...  \n",
       "9995          96270.64       0  \n",
       "9996         101699.77       0  \n",
       "9997          42085.58       1  \n",
       "9998          92888.52       1  \n",
       "9999          38190.78       0  \n",
       "\n",
       "[10000 rows x 14 columns]"
      ]
     },
     "execution_count": 103,
     "metadata": {},
     "output_type": "execute_result"
    }
   ],
   "source": [
    "beta_data"
   ]
  },
  {
   "cell_type": "markdown",
   "metadata": {},
   "source": [
    "Также отбросим столбец `row_number` и `surname`. Индекс строки дублирует номер строки, а данные о фамилии избыточны для обучения моделей."
   ]
  },
  {
   "cell_type": "code",
   "execution_count": 104,
   "metadata": {},
   "outputs": [],
   "source": [
    "beta_data.drop(['row_number', 'surname'], axis=1, inplace=True)"
   ]
  },
  {
   "cell_type": "markdown",
   "metadata": {},
   "source": [
    "### Заполнение пропусков"
   ]
  },
  {
   "cell_type": "markdown",
   "metadata": {},
   "source": [
    "Изучим пропуски в столбце `Tenure`. Статистическая информация должна показать отклонения в строках с пропущенными значениями."
   ]
  },
  {
   "cell_type": "code",
   "execution_count": 105,
   "metadata": {},
   "outputs": [
    {
     "data": {
      "text/html": [
       "<div>\n",
       "<style scoped>\n",
       "    .dataframe tbody tr th:only-of-type {\n",
       "        vertical-align: middle;\n",
       "    }\n",
       "\n",
       "    .dataframe tbody tr th {\n",
       "        vertical-align: top;\n",
       "    }\n",
       "\n",
       "    .dataframe thead th {\n",
       "        text-align: right;\n",
       "    }\n",
       "</style>\n",
       "<table border=\"1\" class=\"dataframe\">\n",
       "  <thead>\n",
       "    <tr style=\"text-align: right;\">\n",
       "      <th></th>\n",
       "      <th>count</th>\n",
       "      <th>mean</th>\n",
       "      <th>std</th>\n",
       "      <th>min</th>\n",
       "      <th>25%</th>\n",
       "      <th>50%</th>\n",
       "      <th>75%</th>\n",
       "      <th>max</th>\n",
       "    </tr>\n",
       "  </thead>\n",
       "  <tbody>\n",
       "    <tr>\n",
       "      <td>customer_id</td>\n",
       "      <td>909.0</td>\n",
       "      <td>1.568981e+07</td>\n",
       "      <td>75112.254029</td>\n",
       "      <td>15565806.00</td>\n",
       "      <td>15626578.00</td>\n",
       "      <td>15686870.00</td>\n",
       "      <td>15756804.00</td>\n",
       "      <td>15815690.00</td>\n",
       "    </tr>\n",
       "    <tr>\n",
       "      <td>credit_score</td>\n",
       "      <td>909.0</td>\n",
       "      <td>6.484510e+02</td>\n",
       "      <td>99.079381</td>\n",
       "      <td>359.00</td>\n",
       "      <td>580.00</td>\n",
       "      <td>647.00</td>\n",
       "      <td>718.00</td>\n",
       "      <td>850.00</td>\n",
       "    </tr>\n",
       "    <tr>\n",
       "      <td>age</td>\n",
       "      <td>909.0</td>\n",
       "      <td>3.864796e+01</td>\n",
       "      <td>9.785438</td>\n",
       "      <td>18.00</td>\n",
       "      <td>32.00</td>\n",
       "      <td>37.00</td>\n",
       "      <td>43.00</td>\n",
       "      <td>92.00</td>\n",
       "    </tr>\n",
       "    <tr>\n",
       "      <td>tenure</td>\n",
       "      <td>0.0</td>\n",
       "      <td>NaN</td>\n",
       "      <td>NaN</td>\n",
       "      <td>NaN</td>\n",
       "      <td>NaN</td>\n",
       "      <td>NaN</td>\n",
       "      <td>NaN</td>\n",
       "      <td>NaN</td>\n",
       "    </tr>\n",
       "    <tr>\n",
       "      <td>balance</td>\n",
       "      <td>909.0</td>\n",
       "      <td>7.611734e+04</td>\n",
       "      <td>63105.690715</td>\n",
       "      <td>0.00</td>\n",
       "      <td>0.00</td>\n",
       "      <td>96674.55</td>\n",
       "      <td>128554.98</td>\n",
       "      <td>206663.75</td>\n",
       "    </tr>\n",
       "    <tr>\n",
       "      <td>num_of_products</td>\n",
       "      <td>909.0</td>\n",
       "      <td>1.530253e+00</td>\n",
       "      <td>0.588452</td>\n",
       "      <td>1.00</td>\n",
       "      <td>1.00</td>\n",
       "      <td>1.00</td>\n",
       "      <td>2.00</td>\n",
       "      <td>4.00</td>\n",
       "    </tr>\n",
       "    <tr>\n",
       "      <td>has_cr_card</td>\n",
       "      <td>909.0</td>\n",
       "      <td>7.106711e-01</td>\n",
       "      <td>0.453701</td>\n",
       "      <td>0.00</td>\n",
       "      <td>0.00</td>\n",
       "      <td>1.00</td>\n",
       "      <td>1.00</td>\n",
       "      <td>1.00</td>\n",
       "    </tr>\n",
       "    <tr>\n",
       "      <td>is_active_member</td>\n",
       "      <td>909.0</td>\n",
       "      <td>5.104510e-01</td>\n",
       "      <td>0.500166</td>\n",
       "      <td>0.00</td>\n",
       "      <td>0.00</td>\n",
       "      <td>1.00</td>\n",
       "      <td>1.00</td>\n",
       "      <td>1.00</td>\n",
       "    </tr>\n",
       "    <tr>\n",
       "      <td>estimated_salary</td>\n",
       "      <td>909.0</td>\n",
       "      <td>9.918039e+04</td>\n",
       "      <td>56378.063765</td>\n",
       "      <td>106.67</td>\n",
       "      <td>49872.33</td>\n",
       "      <td>99444.02</td>\n",
       "      <td>145759.70</td>\n",
       "      <td>199390.45</td>\n",
       "    </tr>\n",
       "    <tr>\n",
       "      <td>exited</td>\n",
       "      <td>909.0</td>\n",
       "      <td>2.013201e-01</td>\n",
       "      <td>0.401207</td>\n",
       "      <td>0.00</td>\n",
       "      <td>0.00</td>\n",
       "      <td>0.00</td>\n",
       "      <td>0.00</td>\n",
       "      <td>1.00</td>\n",
       "    </tr>\n",
       "  </tbody>\n",
       "</table>\n",
       "</div>"
      ],
      "text/plain": [
       "                  count          mean           std          min          25%  \\\n",
       "customer_id       909.0  1.568981e+07  75112.254029  15565806.00  15626578.00   \n",
       "credit_score      909.0  6.484510e+02     99.079381       359.00       580.00   \n",
       "age               909.0  3.864796e+01      9.785438        18.00        32.00   \n",
       "tenure              0.0           NaN           NaN          NaN          NaN   \n",
       "balance           909.0  7.611734e+04  63105.690715         0.00         0.00   \n",
       "num_of_products   909.0  1.530253e+00      0.588452         1.00         1.00   \n",
       "has_cr_card       909.0  7.106711e-01      0.453701         0.00         0.00   \n",
       "is_active_member  909.0  5.104510e-01      0.500166         0.00         0.00   \n",
       "estimated_salary  909.0  9.918039e+04  56378.063765       106.67     49872.33   \n",
       "exited            909.0  2.013201e-01      0.401207         0.00         0.00   \n",
       "\n",
       "                          50%          75%          max  \n",
       "customer_id       15686870.00  15756804.00  15815690.00  \n",
       "credit_score           647.00       718.00       850.00  \n",
       "age                     37.00        43.00        92.00  \n",
       "tenure                    NaN          NaN          NaN  \n",
       "balance              96674.55    128554.98    206663.75  \n",
       "num_of_products          1.00         2.00         4.00  \n",
       "has_cr_card              1.00         1.00         1.00  \n",
       "is_active_member         1.00         1.00         1.00  \n",
       "estimated_salary     99444.02    145759.70    199390.45  \n",
       "exited                   0.00         0.00         1.00  "
      ]
     },
     "execution_count": 105,
     "metadata": {},
     "output_type": "execute_result"
    }
   ],
   "source": [
    "beta_data[beta_data['tenure'].isna()].describe().T"
   ]
  },
  {
   "cell_type": "markdown",
   "metadata": {},
   "source": [
    "Строки с пропущенными значениями практически не отличаются от прочих в датасете. Средние значения по всем столбцам почти идентичны. Так как показатели выборки не отличаются от показателей всего датасета, зависимости между пропущенными значениями и прочими значениями нет."
   ]
  },
  {
   "cell_type": "markdown",
   "metadata": {},
   "source": [
    "Изучим строки с пропущенными значениями."
   ]
  },
  {
   "cell_type": "code",
   "execution_count": 106,
   "metadata": {
    "scrolled": false
   },
   "outputs": [
    {
     "data": {
      "text/html": [
       "<div>\n",
       "<style scoped>\n",
       "    .dataframe tbody tr th:only-of-type {\n",
       "        vertical-align: middle;\n",
       "    }\n",
       "\n",
       "    .dataframe tbody tr th {\n",
       "        vertical-align: top;\n",
       "    }\n",
       "\n",
       "    .dataframe thead th {\n",
       "        text-align: right;\n",
       "    }\n",
       "</style>\n",
       "<table border=\"1\" class=\"dataframe\">\n",
       "  <thead>\n",
       "    <tr style=\"text-align: right;\">\n",
       "      <th></th>\n",
       "      <th>customer_id</th>\n",
       "      <th>credit_score</th>\n",
       "      <th>geography</th>\n",
       "      <th>gender</th>\n",
       "      <th>age</th>\n",
       "      <th>tenure</th>\n",
       "      <th>balance</th>\n",
       "      <th>num_of_products</th>\n",
       "      <th>has_cr_card</th>\n",
       "      <th>is_active_member</th>\n",
       "      <th>estimated_salary</th>\n",
       "      <th>exited</th>\n",
       "    </tr>\n",
       "  </thead>\n",
       "  <tbody>\n",
       "    <tr>\n",
       "      <td>30</td>\n",
       "      <td>15589475</td>\n",
       "      <td>591</td>\n",
       "      <td>Spain</td>\n",
       "      <td>Female</td>\n",
       "      <td>39</td>\n",
       "      <td>NaN</td>\n",
       "      <td>0.00</td>\n",
       "      <td>3</td>\n",
       "      <td>1</td>\n",
       "      <td>0</td>\n",
       "      <td>140469.38</td>\n",
       "      <td>1</td>\n",
       "    </tr>\n",
       "    <tr>\n",
       "      <td>48</td>\n",
       "      <td>15766205</td>\n",
       "      <td>550</td>\n",
       "      <td>Germany</td>\n",
       "      <td>Male</td>\n",
       "      <td>38</td>\n",
       "      <td>NaN</td>\n",
       "      <td>103391.38</td>\n",
       "      <td>1</td>\n",
       "      <td>0</td>\n",
       "      <td>1</td>\n",
       "      <td>90878.13</td>\n",
       "      <td>0</td>\n",
       "    </tr>\n",
       "    <tr>\n",
       "      <td>51</td>\n",
       "      <td>15768193</td>\n",
       "      <td>585</td>\n",
       "      <td>Germany</td>\n",
       "      <td>Male</td>\n",
       "      <td>36</td>\n",
       "      <td>NaN</td>\n",
       "      <td>146050.97</td>\n",
       "      <td>2</td>\n",
       "      <td>0</td>\n",
       "      <td>0</td>\n",
       "      <td>86424.57</td>\n",
       "      <td>0</td>\n",
       "    </tr>\n",
       "    <tr>\n",
       "      <td>53</td>\n",
       "      <td>15702298</td>\n",
       "      <td>655</td>\n",
       "      <td>Germany</td>\n",
       "      <td>Male</td>\n",
       "      <td>41</td>\n",
       "      <td>NaN</td>\n",
       "      <td>125561.97</td>\n",
       "      <td>1</td>\n",
       "      <td>0</td>\n",
       "      <td>0</td>\n",
       "      <td>164040.94</td>\n",
       "      <td>1</td>\n",
       "    </tr>\n",
       "    <tr>\n",
       "      <td>60</td>\n",
       "      <td>15651280</td>\n",
       "      <td>742</td>\n",
       "      <td>Germany</td>\n",
       "      <td>Male</td>\n",
       "      <td>35</td>\n",
       "      <td>NaN</td>\n",
       "      <td>136857.00</td>\n",
       "      <td>1</td>\n",
       "      <td>0</td>\n",
       "      <td>0</td>\n",
       "      <td>84509.57</td>\n",
       "      <td>0</td>\n",
       "    </tr>\n",
       "    <tr>\n",
       "      <td>...</td>\n",
       "      <td>...</td>\n",
       "      <td>...</td>\n",
       "      <td>...</td>\n",
       "      <td>...</td>\n",
       "      <td>...</td>\n",
       "      <td>...</td>\n",
       "      <td>...</td>\n",
       "      <td>...</td>\n",
       "      <td>...</td>\n",
       "      <td>...</td>\n",
       "      <td>...</td>\n",
       "      <td>...</td>\n",
       "    </tr>\n",
       "    <tr>\n",
       "      <td>9944</td>\n",
       "      <td>15703923</td>\n",
       "      <td>744</td>\n",
       "      <td>Germany</td>\n",
       "      <td>Male</td>\n",
       "      <td>41</td>\n",
       "      <td>NaN</td>\n",
       "      <td>190409.34</td>\n",
       "      <td>2</td>\n",
       "      <td>1</td>\n",
       "      <td>1</td>\n",
       "      <td>138361.48</td>\n",
       "      <td>0</td>\n",
       "    </tr>\n",
       "    <tr>\n",
       "      <td>9956</td>\n",
       "      <td>15707861</td>\n",
       "      <td>520</td>\n",
       "      <td>France</td>\n",
       "      <td>Female</td>\n",
       "      <td>46</td>\n",
       "      <td>NaN</td>\n",
       "      <td>85216.61</td>\n",
       "      <td>1</td>\n",
       "      <td>1</td>\n",
       "      <td>0</td>\n",
       "      <td>117369.52</td>\n",
       "      <td>1</td>\n",
       "    </tr>\n",
       "    <tr>\n",
       "      <td>9964</td>\n",
       "      <td>15642785</td>\n",
       "      <td>479</td>\n",
       "      <td>France</td>\n",
       "      <td>Male</td>\n",
       "      <td>34</td>\n",
       "      <td>NaN</td>\n",
       "      <td>117593.48</td>\n",
       "      <td>2</td>\n",
       "      <td>0</td>\n",
       "      <td>0</td>\n",
       "      <td>113308.29</td>\n",
       "      <td>0</td>\n",
       "    </tr>\n",
       "    <tr>\n",
       "      <td>9985</td>\n",
       "      <td>15586914</td>\n",
       "      <td>659</td>\n",
       "      <td>France</td>\n",
       "      <td>Male</td>\n",
       "      <td>36</td>\n",
       "      <td>NaN</td>\n",
       "      <td>123841.49</td>\n",
       "      <td>2</td>\n",
       "      <td>1</td>\n",
       "      <td>0</td>\n",
       "      <td>96833.00</td>\n",
       "      <td>0</td>\n",
       "    </tr>\n",
       "    <tr>\n",
       "      <td>9999</td>\n",
       "      <td>15628319</td>\n",
       "      <td>792</td>\n",
       "      <td>France</td>\n",
       "      <td>Female</td>\n",
       "      <td>28</td>\n",
       "      <td>NaN</td>\n",
       "      <td>130142.79</td>\n",
       "      <td>1</td>\n",
       "      <td>1</td>\n",
       "      <td>0</td>\n",
       "      <td>38190.78</td>\n",
       "      <td>0</td>\n",
       "    </tr>\n",
       "  </tbody>\n",
       "</table>\n",
       "<p>909 rows × 12 columns</p>\n",
       "</div>"
      ],
      "text/plain": [
       "      customer_id  credit_score geography  gender  age  tenure    balance  \\\n",
       "30       15589475           591     Spain  Female   39     NaN       0.00   \n",
       "48       15766205           550   Germany    Male   38     NaN  103391.38   \n",
       "51       15768193           585   Germany    Male   36     NaN  146050.97   \n",
       "53       15702298           655   Germany    Male   41     NaN  125561.97   \n",
       "60       15651280           742   Germany    Male   35     NaN  136857.00   \n",
       "...           ...           ...       ...     ...  ...     ...        ...   \n",
       "9944     15703923           744   Germany    Male   41     NaN  190409.34   \n",
       "9956     15707861           520    France  Female   46     NaN   85216.61   \n",
       "9964     15642785           479    France    Male   34     NaN  117593.48   \n",
       "9985     15586914           659    France    Male   36     NaN  123841.49   \n",
       "9999     15628319           792    France  Female   28     NaN  130142.79   \n",
       "\n",
       "      num_of_products  has_cr_card  is_active_member  estimated_salary  exited  \n",
       "30                  3            1                 0         140469.38       1  \n",
       "48                  1            0                 1          90878.13       0  \n",
       "51                  2            0                 0          86424.57       0  \n",
       "53                  1            0                 0         164040.94       1  \n",
       "60                  1            0                 0          84509.57       0  \n",
       "...               ...          ...               ...               ...     ...  \n",
       "9944                2            1                 1         138361.48       0  \n",
       "9956                1            1                 0         117369.52       1  \n",
       "9964                2            0                 0         113308.29       0  \n",
       "9985                2            1                 0          96833.00       0  \n",
       "9999                1            1                 0          38190.78       0  \n",
       "\n",
       "[909 rows x 12 columns]"
      ]
     },
     "execution_count": 106,
     "metadata": {},
     "output_type": "execute_result"
    }
   ],
   "source": [
    "beta_data[beta_data['tenure'].isna()]"
   ]
  },
  {
   "cell_type": "markdown",
   "metadata": {},
   "source": [
    "Зависимость возникновения пропусков от страны или пола также маловероятна. Заполним пропуски случайными значениями таким образом, что бы не повлиять на распределение признака."
   ]
  },
  {
   "cell_type": "code",
   "execution_count": 107,
   "metadata": {},
   "outputs": [],
   "source": [
    "for i in range(len(beta_data[beta_data['tenure'].isna()])):\n",
    "    beta_data['tenure'].fillna(random.randint(beta_data['tenure'].min(), beta_data['tenure'].max()), limit=1, inplace=True)"
   ]
  },
  {
   "cell_type": "markdown",
   "metadata": {},
   "source": [
    "### Разделение данных на выборки"
   ]
  },
  {
   "cell_type": "markdown",
   "metadata": {},
   "source": [
    "Разделим данные на выборки для тренировки, проверки и теста моделей."
   ]
  },
  {
   "cell_type": "code",
   "execution_count": 108,
   "metadata": {},
   "outputs": [],
   "source": [
    "features = beta_data.drop('exited', axis=1)\n",
    "target = beta_data['exited']"
   ]
  },
  {
   "cell_type": "code",
   "execution_count": 109,
   "metadata": {},
   "outputs": [],
   "source": [
    "features_train, features_test, target_train, target_test = train_test_split(features, target, test_size=.4, random_state=12345)\n",
    "features_valid, features_test, target_valid, target_test = train_test_split(features_test, target_test, test_size=.5, random_state=12345)"
   ]
  },
  {
   "cell_type": "code",
   "execution_count": 110,
   "metadata": {
    "scrolled": false
   },
   "outputs": [
    {
     "name": "stdout",
     "output_type": "stream",
     "text": [
      "(6000, 11)\n"
     ]
    },
    {
     "data": {
      "text/html": [
       "<div>\n",
       "<style scoped>\n",
       "    .dataframe tbody tr th:only-of-type {\n",
       "        vertical-align: middle;\n",
       "    }\n",
       "\n",
       "    .dataframe tbody tr th {\n",
       "        vertical-align: top;\n",
       "    }\n",
       "\n",
       "    .dataframe thead th {\n",
       "        text-align: right;\n",
       "    }\n",
       "</style>\n",
       "<table border=\"1\" class=\"dataframe\">\n",
       "  <thead>\n",
       "    <tr style=\"text-align: right;\">\n",
       "      <th></th>\n",
       "      <th>customer_id</th>\n",
       "      <th>credit_score</th>\n",
       "      <th>geography</th>\n",
       "      <th>gender</th>\n",
       "      <th>age</th>\n",
       "      <th>tenure</th>\n",
       "      <th>balance</th>\n",
       "      <th>num_of_products</th>\n",
       "      <th>has_cr_card</th>\n",
       "      <th>is_active_member</th>\n",
       "      <th>estimated_salary</th>\n",
       "    </tr>\n",
       "  </thead>\n",
       "  <tbody>\n",
       "    <tr>\n",
       "      <td>7479</td>\n",
       "      <td>15671987</td>\n",
       "      <td>567</td>\n",
       "      <td>Spain</td>\n",
       "      <td>Male</td>\n",
       "      <td>35</td>\n",
       "      <td>8.0</td>\n",
       "      <td>153137.74</td>\n",
       "      <td>1</td>\n",
       "      <td>1</td>\n",
       "      <td>0</td>\n",
       "      <td>88659.07</td>\n",
       "    </tr>\n",
       "    <tr>\n",
       "      <td>3411</td>\n",
       "      <td>15815628</td>\n",
       "      <td>711</td>\n",
       "      <td>France</td>\n",
       "      <td>Female</td>\n",
       "      <td>37</td>\n",
       "      <td>8.0</td>\n",
       "      <td>113899.92</td>\n",
       "      <td>1</td>\n",
       "      <td>0</td>\n",
       "      <td>0</td>\n",
       "      <td>80215.20</td>\n",
       "    </tr>\n",
       "  </tbody>\n",
       "</table>\n",
       "</div>"
      ],
      "text/plain": [
       "      customer_id  credit_score geography  gender  age  tenure    balance  \\\n",
       "7479     15671987           567     Spain    Male   35     8.0  153137.74   \n",
       "3411     15815628           711    France  Female   37     8.0  113899.92   \n",
       "\n",
       "      num_of_products  has_cr_card  is_active_member  estimated_salary  \n",
       "7479                1            1                 0          88659.07  \n",
       "3411                1            0                 0          80215.20  "
      ]
     },
     "metadata": {},
     "output_type": "display_data"
    },
    {
     "name": "stdout",
     "output_type": "stream",
     "text": [
      "(6000,)\n"
     ]
    },
    {
     "data": {
      "text/plain": [
       "7479    0\n",
       "3411    0\n",
       "Name: exited, dtype: int64"
      ]
     },
     "metadata": {},
     "output_type": "display_data"
    },
    {
     "name": "stdout",
     "output_type": "stream",
     "text": [
      "(2000, 11)\n"
     ]
    },
    {
     "data": {
      "text/html": [
       "<div>\n",
       "<style scoped>\n",
       "    .dataframe tbody tr th:only-of-type {\n",
       "        vertical-align: middle;\n",
       "    }\n",
       "\n",
       "    .dataframe tbody tr th {\n",
       "        vertical-align: top;\n",
       "    }\n",
       "\n",
       "    .dataframe thead th {\n",
       "        text-align: right;\n",
       "    }\n",
       "</style>\n",
       "<table border=\"1\" class=\"dataframe\">\n",
       "  <thead>\n",
       "    <tr style=\"text-align: right;\">\n",
       "      <th></th>\n",
       "      <th>customer_id</th>\n",
       "      <th>credit_score</th>\n",
       "      <th>geography</th>\n",
       "      <th>gender</th>\n",
       "      <th>age</th>\n",
       "      <th>tenure</th>\n",
       "      <th>balance</th>\n",
       "      <th>num_of_products</th>\n",
       "      <th>has_cr_card</th>\n",
       "      <th>is_active_member</th>\n",
       "      <th>estimated_salary</th>\n",
       "    </tr>\n",
       "  </thead>\n",
       "  <tbody>\n",
       "    <tr>\n",
       "      <td>8532</td>\n",
       "      <td>15780805</td>\n",
       "      <td>585</td>\n",
       "      <td>France</td>\n",
       "      <td>Female</td>\n",
       "      <td>35</td>\n",
       "      <td>2.0</td>\n",
       "      <td>0.0</td>\n",
       "      <td>2</td>\n",
       "      <td>1</td>\n",
       "      <td>0</td>\n",
       "      <td>98621.04</td>\n",
       "    </tr>\n",
       "    <tr>\n",
       "      <td>5799</td>\n",
       "      <td>15649853</td>\n",
       "      <td>625</td>\n",
       "      <td>France</td>\n",
       "      <td>Female</td>\n",
       "      <td>45</td>\n",
       "      <td>3.0</td>\n",
       "      <td>0.0</td>\n",
       "      <td>1</td>\n",
       "      <td>1</td>\n",
       "      <td>1</td>\n",
       "      <td>184474.15</td>\n",
       "    </tr>\n",
       "  </tbody>\n",
       "</table>\n",
       "</div>"
      ],
      "text/plain": [
       "      customer_id  credit_score geography  gender  age  tenure  balance  \\\n",
       "8532     15780805           585    France  Female   35     2.0      0.0   \n",
       "5799     15649853           625    France  Female   45     3.0      0.0   \n",
       "\n",
       "      num_of_products  has_cr_card  is_active_member  estimated_salary  \n",
       "8532                2            1                 0          98621.04  \n",
       "5799                1            1                 1         184474.15  "
      ]
     },
     "metadata": {},
     "output_type": "display_data"
    },
    {
     "name": "stdout",
     "output_type": "stream",
     "text": [
      "(2000,)\n"
     ]
    },
    {
     "data": {
      "text/plain": [
       "8532    1\n",
       "5799    1\n",
       "Name: exited, dtype: int64"
      ]
     },
     "metadata": {},
     "output_type": "display_data"
    },
    {
     "name": "stdout",
     "output_type": "stream",
     "text": [
      "(2000, 11)\n"
     ]
    },
    {
     "data": {
      "text/html": [
       "<div>\n",
       "<style scoped>\n",
       "    .dataframe tbody tr th:only-of-type {\n",
       "        vertical-align: middle;\n",
       "    }\n",
       "\n",
       "    .dataframe tbody tr th {\n",
       "        vertical-align: top;\n",
       "    }\n",
       "\n",
       "    .dataframe thead th {\n",
       "        text-align: right;\n",
       "    }\n",
       "</style>\n",
       "<table border=\"1\" class=\"dataframe\">\n",
       "  <thead>\n",
       "    <tr style=\"text-align: right;\">\n",
       "      <th></th>\n",
       "      <th>customer_id</th>\n",
       "      <th>credit_score</th>\n",
       "      <th>geography</th>\n",
       "      <th>gender</th>\n",
       "      <th>age</th>\n",
       "      <th>tenure</th>\n",
       "      <th>balance</th>\n",
       "      <th>num_of_products</th>\n",
       "      <th>has_cr_card</th>\n",
       "      <th>is_active_member</th>\n",
       "      <th>estimated_salary</th>\n",
       "    </tr>\n",
       "  </thead>\n",
       "  <tbody>\n",
       "    <tr>\n",
       "      <td>7041</td>\n",
       "      <td>15753591</td>\n",
       "      <td>438</td>\n",
       "      <td>France</td>\n",
       "      <td>Male</td>\n",
       "      <td>38</td>\n",
       "      <td>2.0</td>\n",
       "      <td>0.0</td>\n",
       "      <td>2</td>\n",
       "      <td>1</td>\n",
       "      <td>0</td>\n",
       "      <td>136859.55</td>\n",
       "    </tr>\n",
       "    <tr>\n",
       "      <td>5709</td>\n",
       "      <td>15606158</td>\n",
       "      <td>644</td>\n",
       "      <td>France</td>\n",
       "      <td>Female</td>\n",
       "      <td>39</td>\n",
       "      <td>9.0</td>\n",
       "      <td>0.0</td>\n",
       "      <td>1</td>\n",
       "      <td>1</td>\n",
       "      <td>0</td>\n",
       "      <td>3740.93</td>\n",
       "    </tr>\n",
       "  </tbody>\n",
       "</table>\n",
       "</div>"
      ],
      "text/plain": [
       "      customer_id  credit_score geography  gender  age  tenure  balance  \\\n",
       "7041     15753591           438    France    Male   38     2.0      0.0   \n",
       "5709     15606158           644    France  Female   39     9.0      0.0   \n",
       "\n",
       "      num_of_products  has_cr_card  is_active_member  estimated_salary  \n",
       "7041                2            1                 0         136859.55  \n",
       "5709                1            1                 0           3740.93  "
      ]
     },
     "metadata": {},
     "output_type": "display_data"
    },
    {
     "name": "stdout",
     "output_type": "stream",
     "text": [
      "(2000,)\n"
     ]
    },
    {
     "data": {
      "text/plain": [
       "7041    0\n",
       "5709    0\n",
       "Name: exited, dtype: int64"
      ]
     },
     "metadata": {},
     "output_type": "display_data"
    }
   ],
   "source": [
    "print(features_train.shape)\n",
    "display(features_train.head(2))\n",
    "print(target_train.shape)\n",
    "display(target_train.head(2))\n",
    "print(features_valid.shape)\n",
    "display(features_valid.head(2))\n",
    "print(target_valid.shape)\n",
    "display(target_valid.head(2))\n",
    "print(features_test.shape)\n",
    "display(features_test.head(2))\n",
    "print(target_test.shape)\n",
    "display(target_test.head(2))"
   ]
  },
  {
   "cell_type": "markdown",
   "metadata": {},
   "source": [
    "### Подготовка данные к обучению"
   ]
  },
  {
   "cell_type": "markdown",
   "metadata": {},
   "source": [
    "Закодируем и масштабируем данные для последующего обучения."
   ]
  },
  {
   "cell_type": "code",
   "execution_count": 111,
   "metadata": {
    "scrolled": false
   },
   "outputs": [],
   "source": [
    "features_train = pd.get_dummies(features_train, columns=['geography', 'gender'], drop_first=True)\n",
    "features_valid = pd.get_dummies(features_valid, columns=['geography', 'gender'], drop_first=True)\n",
    "features_test = pd.get_dummies(features_test, columns=['geography', 'gender'], drop_first=True)"
   ]
  },
  {
   "cell_type": "code",
   "execution_count": 112,
   "metadata": {},
   "outputs": [],
   "source": [
    "numeric = ['credit_score', 'age', 'tenure', 'balance', 'num_of_products', 'estimated_salary']\n",
    "scaler = StandardScaler()\n",
    "scaler.fit(features_train[numeric])\n",
    "features_train[numeric] = scaler.transform(features_train[numeric])\n",
    "features_valid[numeric] = scaler.transform(features_valid[numeric])\n",
    "features_test[numeric] = scaler.transform(features_test[numeric])"
   ]
  },
  {
   "cell_type": "markdown",
   "metadata": {},
   "source": [
    "Проверим, все ли признаки теперь в едином масштабе и подходят для обучения."
   ]
  },
  {
   "cell_type": "code",
   "execution_count": 113,
   "metadata": {
    "scrolled": true
   },
   "outputs": [
    {
     "data": {
      "text/html": [
       "<div>\n",
       "<style scoped>\n",
       "    .dataframe tbody tr th:only-of-type {\n",
       "        vertical-align: middle;\n",
       "    }\n",
       "\n",
       "    .dataframe tbody tr th {\n",
       "        vertical-align: top;\n",
       "    }\n",
       "\n",
       "    .dataframe thead th {\n",
       "        text-align: right;\n",
       "    }\n",
       "</style>\n",
       "<table border=\"1\" class=\"dataframe\">\n",
       "  <thead>\n",
       "    <tr style=\"text-align: right;\">\n",
       "      <th></th>\n",
       "      <th>customer_id</th>\n",
       "      <th>credit_score</th>\n",
       "      <th>age</th>\n",
       "      <th>tenure</th>\n",
       "      <th>balance</th>\n",
       "      <th>num_of_products</th>\n",
       "      <th>has_cr_card</th>\n",
       "      <th>is_active_member</th>\n",
       "      <th>estimated_salary</th>\n",
       "      <th>geography_Germany</th>\n",
       "      <th>geography_Spain</th>\n",
       "      <th>gender_Male</th>\n",
       "    </tr>\n",
       "  </thead>\n",
       "  <tbody>\n",
       "    <tr>\n",
       "      <td>7479</td>\n",
       "      <td>15671987</td>\n",
       "      <td>-0.886751</td>\n",
       "      <td>-0.373192</td>\n",
       "      <td>1.02383</td>\n",
       "      <td>1.232271</td>\n",
       "      <td>-0.89156</td>\n",
       "      <td>1</td>\n",
       "      <td>0</td>\n",
       "      <td>-0.187705</td>\n",
       "      <td>0</td>\n",
       "      <td>1</td>\n",
       "      <td>1</td>\n",
       "    </tr>\n",
       "    <tr>\n",
       "      <td>3411</td>\n",
       "      <td>15815628</td>\n",
       "      <td>0.608663</td>\n",
       "      <td>-0.183385</td>\n",
       "      <td>1.02383</td>\n",
       "      <td>0.600563</td>\n",
       "      <td>-0.89156</td>\n",
       "      <td>0</td>\n",
       "      <td>0</td>\n",
       "      <td>-0.333945</td>\n",
       "      <td>0</td>\n",
       "      <td>0</td>\n",
       "      <td>0</td>\n",
       "    </tr>\n",
       "  </tbody>\n",
       "</table>\n",
       "</div>"
      ],
      "text/plain": [
       "      customer_id  credit_score       age   tenure   balance  num_of_products  \\\n",
       "7479     15671987     -0.886751 -0.373192  1.02383  1.232271         -0.89156   \n",
       "3411     15815628      0.608663 -0.183385  1.02383  0.600563         -0.89156   \n",
       "\n",
       "      has_cr_card  is_active_member  estimated_salary  geography_Germany  \\\n",
       "7479            1                 0         -0.187705                  0   \n",
       "3411            0                 0         -0.333945                  0   \n",
       "\n",
       "      geography_Spain  gender_Male  \n",
       "7479                1            1  \n",
       "3411                0            0  "
      ]
     },
     "metadata": {},
     "output_type": "display_data"
    },
    {
     "data": {
      "text/html": [
       "<div>\n",
       "<style scoped>\n",
       "    .dataframe tbody tr th:only-of-type {\n",
       "        vertical-align: middle;\n",
       "    }\n",
       "\n",
       "    .dataframe tbody tr th {\n",
       "        vertical-align: top;\n",
       "    }\n",
       "\n",
       "    .dataframe thead th {\n",
       "        text-align: right;\n",
       "    }\n",
       "</style>\n",
       "<table border=\"1\" class=\"dataframe\">\n",
       "  <thead>\n",
       "    <tr style=\"text-align: right;\">\n",
       "      <th></th>\n",
       "      <th>customer_id</th>\n",
       "      <th>credit_score</th>\n",
       "      <th>age</th>\n",
       "      <th>tenure</th>\n",
       "      <th>balance</th>\n",
       "      <th>num_of_products</th>\n",
       "      <th>has_cr_card</th>\n",
       "      <th>is_active_member</th>\n",
       "      <th>estimated_salary</th>\n",
       "      <th>geography_Germany</th>\n",
       "      <th>geography_Spain</th>\n",
       "      <th>gender_Male</th>\n",
       "    </tr>\n",
       "  </thead>\n",
       "  <tbody>\n",
       "    <tr>\n",
       "      <td>8532</td>\n",
       "      <td>15780805</td>\n",
       "      <td>-0.699824</td>\n",
       "      <td>-0.373192</td>\n",
       "      <td>-1.040344</td>\n",
       "      <td>-1.233163</td>\n",
       "      <td>0.830152</td>\n",
       "      <td>1</td>\n",
       "      <td>0</td>\n",
       "      <td>-0.015173</td>\n",
       "      <td>0</td>\n",
       "      <td>0</td>\n",
       "      <td>0</td>\n",
       "    </tr>\n",
       "    <tr>\n",
       "      <td>5799</td>\n",
       "      <td>15649853</td>\n",
       "      <td>-0.284431</td>\n",
       "      <td>0.575842</td>\n",
       "      <td>-0.696315</td>\n",
       "      <td>-1.233163</td>\n",
       "      <td>-0.891560</td>\n",
       "      <td>1</td>\n",
       "      <td>1</td>\n",
       "      <td>1.471724</td>\n",
       "      <td>0</td>\n",
       "      <td>0</td>\n",
       "      <td>0</td>\n",
       "    </tr>\n",
       "  </tbody>\n",
       "</table>\n",
       "</div>"
      ],
      "text/plain": [
       "      customer_id  credit_score       age    tenure   balance  \\\n",
       "8532     15780805     -0.699824 -0.373192 -1.040344 -1.233163   \n",
       "5799     15649853     -0.284431  0.575842 -0.696315 -1.233163   \n",
       "\n",
       "      num_of_products  has_cr_card  is_active_member  estimated_salary  \\\n",
       "8532         0.830152            1                 0         -0.015173   \n",
       "5799        -0.891560            1                 1          1.471724   \n",
       "\n",
       "      geography_Germany  geography_Spain  gender_Male  \n",
       "8532                  0                0            0  \n",
       "5799                  0                0            0  "
      ]
     },
     "metadata": {},
     "output_type": "display_data"
    },
    {
     "data": {
      "text/html": [
       "<div>\n",
       "<style scoped>\n",
       "    .dataframe tbody tr th:only-of-type {\n",
       "        vertical-align: middle;\n",
       "    }\n",
       "\n",
       "    .dataframe tbody tr th {\n",
       "        vertical-align: top;\n",
       "    }\n",
       "\n",
       "    .dataframe thead th {\n",
       "        text-align: right;\n",
       "    }\n",
       "</style>\n",
       "<table border=\"1\" class=\"dataframe\">\n",
       "  <thead>\n",
       "    <tr style=\"text-align: right;\">\n",
       "      <th></th>\n",
       "      <th>customer_id</th>\n",
       "      <th>credit_score</th>\n",
       "      <th>age</th>\n",
       "      <th>tenure</th>\n",
       "      <th>balance</th>\n",
       "      <th>num_of_products</th>\n",
       "      <th>has_cr_card</th>\n",
       "      <th>is_active_member</th>\n",
       "      <th>estimated_salary</th>\n",
       "      <th>geography_Germany</th>\n",
       "      <th>geography_Spain</th>\n",
       "      <th>gender_Male</th>\n",
       "    </tr>\n",
       "  </thead>\n",
       "  <tbody>\n",
       "    <tr>\n",
       "      <td>7041</td>\n",
       "      <td>15753591</td>\n",
       "      <td>-2.226392</td>\n",
       "      <td>-0.088482</td>\n",
       "      <td>-1.040344</td>\n",
       "      <td>-1.233163</td>\n",
       "      <td>0.830152</td>\n",
       "      <td>1</td>\n",
       "      <td>0</td>\n",
       "      <td>0.647083</td>\n",
       "      <td>0</td>\n",
       "      <td>0</td>\n",
       "      <td>1</td>\n",
       "    </tr>\n",
       "    <tr>\n",
       "      <td>5709</td>\n",
       "      <td>15606158</td>\n",
       "      <td>-0.087120</td>\n",
       "      <td>0.006422</td>\n",
       "      <td>1.367859</td>\n",
       "      <td>-1.233163</td>\n",
       "      <td>-0.891560</td>\n",
       "      <td>1</td>\n",
       "      <td>0</td>\n",
       "      <td>-1.658410</td>\n",
       "      <td>0</td>\n",
       "      <td>0</td>\n",
       "      <td>0</td>\n",
       "    </tr>\n",
       "  </tbody>\n",
       "</table>\n",
       "</div>"
      ],
      "text/plain": [
       "      customer_id  credit_score       age    tenure   balance  \\\n",
       "7041     15753591     -2.226392 -0.088482 -1.040344 -1.233163   \n",
       "5709     15606158     -0.087120  0.006422  1.367859 -1.233163   \n",
       "\n",
       "      num_of_products  has_cr_card  is_active_member  estimated_salary  \\\n",
       "7041         0.830152            1                 0          0.647083   \n",
       "5709        -0.891560            1                 0         -1.658410   \n",
       "\n",
       "      geography_Germany  geography_Spain  gender_Male  \n",
       "7041                  0                0            1  \n",
       "5709                  0                0            0  "
      ]
     },
     "metadata": {},
     "output_type": "display_data"
    }
   ],
   "source": [
    "display(features_train.head(2))\n",
    "display(features_valid.head(2))\n",
    "display(features_test.head(2))"
   ]
  },
  {
   "cell_type": "markdown",
   "metadata": {},
   "source": [
    "После всех преобразований можно перейти к обучению модели и ее оптимизации."
   ]
  },
  {
   "cell_type": "markdown",
   "metadata": {},
   "source": [
    "## Исследование задачи"
   ]
  },
  {
   "cell_type": "markdown",
   "metadata": {},
   "source": [
    "### Постановка задачи"
   ]
  },
  {
   "cell_type": "markdown",
   "metadata": {},
   "source": [
    "__В рамках исследования задачи необходимо провести действия:__\n",
    "\n",
    "\n",
    "1. Исследовать баланс классов целевого признака и выбрать подходящий метод для борьбы с дисбалансом.\n",
    "\n",
    "\n",
    "2. Обучить модель без корректировки дисбаланса."
   ]
  },
  {
   "cell_type": "markdown",
   "metadata": {},
   "source": [
    "### Исследование дисбаланса классов"
   ]
  },
  {
   "cell_type": "markdown",
   "metadata": {},
   "source": [
    "Для визуализации дисбаланса классов построим простой барплот и оценим проценты ушедших и оставшихся клиентов."
   ]
  },
  {
   "cell_type": "code",
   "execution_count": 114,
   "metadata": {
    "scrolled": false
   },
   "outputs": [
    {
     "data": {
      "image/png": "[encoded data removed]",
      "text/plain": [
       "<Figure size 432x288 with 1 Axes>"
      ]
     },
     "metadata": {
      "needs_background": "light"
     },
     "output_type": "display_data"
    },
    {
     "data": {
      "text/plain": [
       "0.2037"
      ]
     },
     "execution_count": 114,
     "metadata": {},
     "output_type": "execute_result"
    }
   ],
   "source": [
    "beta_data.groupby(by='exited').count()['customer_id'].plot(kind='bar')\n",
    "plt.show()\n",
    "beta_data['exited'].sum() / beta_data['exited'].count()"
   ]
  },
  {
   "cell_type": "markdown",
   "metadata": {},
   "source": [
    "Как было ранее указано - около 20% клиентов отказались от услуг банка. Такой дисбаланс классов целевого признака повлияет на результат обучения модели в худшую сторону. Модель будет предпочитать значение 0, как более часто встречающееся.\n",
    "\n",
    "\n",
    "Для небольшого количества данных как у нас предпочтительнее выбирать метод upsampling - он позволит лучше обучить модель. Однако для проверки этого предположения попробуем обучить модель на двух различных выборках - расширенных с помощью upsampling и ограниченных с помощью downsampling.\n",
    "\n",
    "\n",
    "Сперва оценим качество моделей для полной выборки, без учета дисбаланса."
   ]
  },
  {
   "cell_type": "markdown",
   "metadata": {},
   "source": [
    "### Обучение модели без учета дисбаланса"
   ]
  },
  {
   "cell_type": "markdown",
   "metadata": {},
   "source": [
    "Обучим ряд моделей на исходной выборке и оценим их F1-меру."
   ]
  },
  {
   "cell_type": "code",
   "execution_count": 115,
   "metadata": {},
   "outputs": [],
   "source": [
    "classifiers = [RandomForestClassifier, DecisionTreeClassifier, LogisticRegression]"
   ]
  },
  {
   "cell_type": "code",
   "execution_count": 116,
   "metadata": {},
   "outputs": [
    {
     "name": "stderr",
     "output_type": "stream",
     "text": [
      "/opt/conda/lib/python3.7/site-packages/sklearn/ensemble/forest.py:245: FutureWarning: The default value of n_estimators will change from 10 in version 0.20 to 100 in 0.22.\n",
      "  \"10 in version 0.20 to 100 in 0.22.\", FutureWarning)\n",
      "/opt/conda/lib/python3.7/site-packages/sklearn/linear_model/logistic.py:432: FutureWarning: Default solver will be changed to 'lbfgs' in 0.22. Specify a solver to silence this warning.\n",
      "  FutureWarning)\n",
      "/opt/conda/lib/python3.7/site-packages/sklearn/metrics/classification.py:1437: UndefinedMetricWarning: F-score is ill-defined and being set to 0.0 due to no predicted samples.\n",
      "  'precision', 'predicted', average, warn_for)\n"
     ]
    },
    {
     "name": "stdout",
     "output_type": "stream",
     "text": [
      "Модель: RandomForestClassifier\n",
      "F-1 мера без учета дисбаланса на тренировочных данных: 0.9650711513583441\n",
      "F-1 мера без учета дисбаланса на валидационных данных: 0.549079754601227\n",
      "Метрика ROC-AUC: 0.8072952897126162\n",
      "\n",
      "Модель: DecisionTreeClassifier\n",
      "F-1 мера без учета дисбаланса на тренировочных данных: 1.0\n",
      "F-1 мера без учета дисбаланса на валидационных данных: 0.5042016806722689\n",
      "Метрика ROC-AUC: 0.6864047689618253\n",
      "\n",
      "Модель: LogisticRegression\n",
      "F-1 мера без учета дисбаланса на тренировочных данных: 0.0\n",
      "F-1 мера без учета дисбаланса на валидационных данных: 0.0\n",
      "Метрика ROC-AUC: 0.4930528251441153\n",
      "\n"
     ]
    }
   ],
   "source": [
    "for classifier in classifiers:\n",
    "    model = classifier(random_state=12345)\n",
    "    model.fit(features_train, target_train)\n",
    "    train_predictions = model.predict(features_train)\n",
    "    valid_predictions = model.predict(features_valid)\n",
    "    train_f1 = f1_score(target_train, train_predictions)\n",
    "    valid_f1 = f1_score(target_valid, valid_predictions)\n",
    "    print(f'Модель: {type(model).__name__}')\n",
    "    print(f'F-1 мера без учета дисбаланса на тренировочных данных: {train_f1}')\n",
    "    print(f'F-1 мера без учета дисбаланса на валидационных данных: {valid_f1}')\n",
    "    print(f'Метрика ROC-AUC: {roc_auc_score(target_valid, model.predict_proba(features_valid)[:, 1])}')\n",
    "    print()"
   ]
  },
  {
   "cell_type": "markdown",
   "metadata": {},
   "source": [
    "На несбалансированных данных логистическая регрессия возвращает лишь нулевые значения. Порог предсказания получился существенно ниже базовых 0.5. В борьбе с этой проблемой можно сбалансировать классы в датасете, а также можно попробовать снизить порог предсказания - возможно при меньшем пороге предсказательная способность логистической регрессии получится выше. При этом метрика ROC-AUC не слишком отличается от базовой, случайной модели.\n",
    "\n",
    "Дерево решений сильно переобучилось, выдавая на тренировочных данных точные ответы, а на валидационных угадывая в половине случаев.\n",
    "\n",
    "Случайный лес показал результат лучше, но, как и дерево решений, сильно переобучился. Он показал лучший показатель метрики площади под кривой.\n",
    "\n",
    "В рамках следующего раздела попробуем несколько методов борьбы с дисбалансом."
   ]
  },
  {
   "cell_type": "markdown",
   "metadata": {},
   "source": [
    "### Вывод"
   ]
  },
  {
   "cell_type": "markdown",
   "metadata": {},
   "source": [
    "Дисбаланс классов очень влияет на качество обучения моделей.\n",
    "\n",
    "Пока рано делать выводы о качестве той или иной модели. Логистическая регрессия не способна конкурировать с деревом решений или случайным лесом из-за дисбаланса классов. Необходимо устранить дисбаланс или найти другой способ оценить качество работы модели в равных с другими моделями условиях.\n",
    "\n",
    "Метрика ROC-AUC показала схожие результаты и оказалась наиболее высока у случайного леса."
   ]
  },
  {
   "cell_type": "markdown",
   "metadata": {},
   "source": [
    "## Борьба с дисбалансом"
   ]
  },
  {
   "cell_type": "markdown",
   "metadata": {},
   "source": [
    "### Постановка задачи"
   ]
  },
  {
   "cell_type": "markdown",
   "metadata": {},
   "source": [
    "Для обучения модели логистической регрессии нам необходимо устранить дисбаланс классов, обнаруженный на предыдущем шаге. Это поможет в обучении не только лог. регрессии, но и случайного леса и дерева решений. Так как дисбаланс приводит к тому, что дерево решений устанавливает больший приоритет в выборе наиболее часто встречающегося класса, это может снижать качество предсказаний такой модели. В рамках устранения дисбаланса классов и оптимизации модели нам необходимо:\n",
    "\n",
    "1. Изучить возможность снижения порога предсказания для логистической регрессии, так, что бы повысить ее предсказательную способность.\n",
    "\n",
    "2. Обучить и протестировать модели на расширенных и уменьшенных таким образом данных, что бы исключить дисбаланс классов целевого признака в выборке.\n",
    "\n",
    "3. Оптимизировать наиболее эффективную модель путем настройки гиперпараметров."
   ]
  },
  {
   "cell_type": "markdown",
   "metadata": {},
   "source": [
    "### Снижение порога предсказания"
   ]
  },
  {
   "cell_type": "markdown",
   "metadata": {},
   "source": [
    "Попробуем улучшить качество моделей с учетом дисбаланса. Сперва попробуем снизить порог предсказания. Построим ROC кривую, что бы оценить предсказательную возможность модели."
   ]
  },
  {
   "cell_type": "code",
   "execution_count": 117,
   "metadata": {},
   "outputs": [],
   "source": [
    "fpr, tpr, thresholds = roc_curve(target_valid, model.predict_proba(features_valid)[:, 1])"
   ]
  },
  {
   "cell_type": "code",
   "execution_count": 118,
   "metadata": {
    "scrolled": false
   },
   "outputs": [
    {
     "name": "stdout",
     "output_type": "stream",
     "text": [
      "LogisticRegression\n"
     ]
    },
    {
     "data": {
      "image/png": "[encoded data removed]",
      "text/plain": [
       "<Figure size 432x288 with 1 Axes>"
      ]
     },
     "metadata": {
      "needs_background": "light"
     },
     "output_type": "display_data"
    }
   ],
   "source": [
    "plt.figure()\n",
    "plt.plot(fpr, tpr)\n",
    "plt.plot([0,1], [0,1], linestyle='--')\n",
    "print(type(model).__name__)"
   ]
  },
  {
   "cell_type": "markdown",
   "metadata": {},
   "source": [
    "Судя по всему, снижение порога предсказания - не лучший вариант для борьбы с дисбалансом. Модель получилась не лучше случайной."
   ]
  },
  {
   "cell_type": "markdown",
   "metadata": {},
   "source": [
    "### Upsampling и downsampling"
   ]
  },
  {
   "cell_type": "markdown",
   "metadata": {},
   "source": [
    "Составим два дополнительных набора данных - с использованием методов upsampling и downsampling."
   ]
  },
  {
   "cell_type": "code",
   "execution_count": 119,
   "metadata": {},
   "outputs": [],
   "source": [
    "disbalance = beta_data['exited'].sum() / beta_data['exited'].count()\n",
    "def upsampling(features, target, repeat):\n",
    "    features_zeros = features[target==0]\n",
    "    features_ones = features[target==1]\n",
    "    target_zeros = target[target==0]\n",
    "    target_ones = target[target==1]\n",
    "    \n",
    "    features_upsampled = pd.concat([features_zeros] + [features_ones] * repeat)\n",
    "    target_upsampled = pd.concat([target_zeros] + [target_ones] * repeat)\n",
    "    \n",
    "    features_upsampled, target_upsampled = shuffle(features_upsampled, target_upsampled, random_state=12345)\n",
    "    \n",
    "    return features_upsampled, target_upsampled\n",
    "    \n",
    "features_upsampled, target_upsampled = upsampling(features_train, target_train, round(1/disbalance))"
   ]
  },
  {
   "cell_type": "code",
   "execution_count": 120,
   "metadata": {},
   "outputs": [],
   "source": [
    "def downsampling(features, target, fraction):\n",
    "    features_zeros = features[target==0]\n",
    "    features_ones = features[target==1]\n",
    "    target_zeros = target[target==0]\n",
    "    target_ones = target[target==1]\n",
    "    \n",
    "    features_downsampled = pd.concat([features_zeros.sample(frac=fraction, random_state=12345)] + [features_ones])\n",
    "    target_downsampled = pd.concat([target_zeros.sample(frac=fraction, random_state=12345)] + [target_ones])\n",
    "    \n",
    "    features_downsampled, target_downsampled = shuffle(features_downsampled, target_downsampled, random_state=12345)\n",
    "    \n",
    "    return features_downsampled, target_downsampled\n",
    "    \n",
    "features_downsampled, target_downsampled = downsampling(features_train, target_train, disbalance)"
   ]
  },
  {
   "cell_type": "markdown",
   "metadata": {},
   "source": [
    "Проверим качество моделей на сбалансированных данных и выберем лучшую модель."
   ]
  },
  {
   "cell_type": "code",
   "execution_count": 121,
   "metadata": {
    "scrolled": false
   },
   "outputs": [
    {
     "name": "stderr",
     "output_type": "stream",
     "text": [
      "/opt/conda/lib/python3.7/site-packages/sklearn/ensemble/forest.py:245: FutureWarning: The default value of n_estimators will change from 10 in version 0.20 to 100 in 0.22.\n",
      "  \"10 in version 0.20 to 100 in 0.22.\", FutureWarning)\n"
     ]
    },
    {
     "name": "stdout",
     "output_type": "stream",
     "text": [
      "Модель: RandomForestClassifier\n",
      "F-1 мера модели, обученной на увеличенных данных, на тренировочных данных: 0.9997492267825797\n",
      "F-1 мера модели, обученной на увеличенных данных, на валидационных данных: 0.5706371191135735\n",
      "Метрика ROC-AUC: 0.8203458162703622\n",
      "\n",
      "Модель: DecisionTreeClassifier\n",
      "F-1 мера модели, обученной на увеличенных данных, на тренировочных данных: 1.0\n",
      "F-1 мера модели, обученной на увеличенных данных, на валидационных данных: 0.48792270531400966\n",
      "Метрика ROC-AUC: 0.6758872240940242\n",
      "\n"
     ]
    },
    {
     "name": "stderr",
     "output_type": "stream",
     "text": [
      "/opt/conda/lib/python3.7/site-packages/sklearn/linear_model/logistic.py:432: FutureWarning: Default solver will be changed to 'lbfgs' in 0.22. Specify a solver to silence this warning.\n",
      "  FutureWarning)\n"
     ]
    },
    {
     "name": "stdout",
     "output_type": "stream",
     "text": [
      "Модель: LogisticRegression\n",
      "F-1 мера модели, обученной на увеличенных данных, на тренировочных данных: 0.7134335480792174\n",
      "F-1 мера модели, обученной на увеличенных данных, на валидационных данных: 0.3457402812241522\n",
      "Метрика ROC-AUC: 0.5069471748558846\n",
      "\n",
      "LogisticRegression\n"
     ]
    },
    {
     "data": {
      "image/png": "[encoded data removed]",
      "text/plain": [
       "<Figure size 432x288 with 1 Axes>"
      ]
     },
     "metadata": {
      "needs_background": "light"
     },
     "output_type": "display_data"
    }
   ],
   "source": [
    "for classifier in classifiers:\n",
    "    model = classifier(random_state=12345)\n",
    "    model.fit(features_upsampled, target_upsampled)\n",
    "    train_predictions = model.predict(features_upsampled)\n",
    "    valid_predictions = model.predict(features_valid)\n",
    "    train_f1 = f1_score(target_upsampled, train_predictions)\n",
    "    valid_f1 = f1_score(target_valid, valid_predictions)\n",
    "    print(f'Модель: {type(model).__name__}')\n",
    "    print(f'F-1 мера модели, обученной на увеличенных данных, на тренировочных данных: {train_f1}')\n",
    "    print(f'F-1 мера модели, обученной на увеличенных данных, на валидационных данных: {valid_f1}')\n",
    "    print(f'Метрика ROC-AUC: {roc_auc_score(target_valid, model.predict_proba(features_valid)[:, 1])}')\n",
    "    print()\n",
    "fpr, tpr, thresholds = roc_curve(target_valid, model.predict_proba(features_valid)[:, 1])\n",
    "plt.figure()\n",
    "plt.plot(fpr, tpr)\n",
    "plt.plot([0,1], [0,1], linestyle='--')\n",
    "print(type(model).__name__)"
   ]
  },
  {
   "cell_type": "code",
   "execution_count": 122,
   "metadata": {
    "scrolled": false
   },
   "outputs": [
    {
     "name": "stderr",
     "output_type": "stream",
     "text": [
      "/opt/conda/lib/python3.7/site-packages/sklearn/ensemble/forest.py:245: FutureWarning: The default value of n_estimators will change from 10 in version 0.20 to 100 in 0.22.\n",
      "  \"10 in version 0.20 to 100 in 0.22.\", FutureWarning)\n",
      "/opt/conda/lib/python3.7/site-packages/sklearn/linear_model/logistic.py:432: FutureWarning: Default solver will be changed to 'lbfgs' in 0.22. Specify a solver to silence this warning.\n",
      "  FutureWarning)\n"
     ]
    },
    {
     "name": "stdout",
     "output_type": "stream",
     "text": [
      "Модель: RandomForestClassifier\n",
      "F-1 мера модели, обученной на уменьшенных данных, на тренировочных данных: 0.9899244332493703\n",
      "F-1 мера модели, обученной на уменьшенных данных, на валидационных данных: 0.5254691689008043\n",
      "Метрика ROC-AUC: 0.8005114354671877\n",
      "\n",
      "Модель: DecisionTreeClassifier\n",
      "F-1 мера модели, обученной на уменьшенных данных, на тренировочных данных: 1.0\n",
      "F-1 мера модели, обученной на уменьшенных данных, на валидационных данных: 0.4773462783171521\n",
      "Метрика ROC-AUC: 0.6875737211088865\n",
      "\n",
      "Модель: LogisticRegression\n",
      "F-1 мера модели, обученной на уменьшенных данных, на тренировочных данных: 0.7095817264906555\n",
      "F-1 мера модели, обученной на уменьшенных данных, на валидационных данных: 0.3457402812241522\n",
      "Метрика ROC-AUC: 0.5069471748558846\n",
      "\n",
      "LogisticRegression\n"
     ]
    },
    {
     "data": {
      "image/png": "[encoded data removed]",
      "text/plain": [
       "<Figure size 432x288 with 1 Axes>"
      ]
     },
     "metadata": {
      "needs_background": "light"
     },
     "output_type": "display_data"
    }
   ],
   "source": [
    "for classifier in classifiers:\n",
    "    model = classifier(random_state=12345)\n",
    "    model.fit(features_downsampled, target_downsampled)\n",
    "    train_predictions = model.predict(features_downsampled)\n",
    "    valid_predictions = model.predict(features_valid)\n",
    "    train_f1 = f1_score(target_downsampled, train_predictions)\n",
    "    valid_f1 = f1_score(target_valid, valid_predictions)\n",
    "    print(f'Модель: {type(model).__name__}')\n",
    "    print(f'F-1 мера модели, обученной на уменьшенных данных, на тренировочных данных: {train_f1}')\n",
    "    print(f'F-1 мера модели, обученной на уменьшенных данных, на валидационных данных: {valid_f1}')\n",
    "    print(f'Метрика ROC-AUC: {roc_auc_score(target_valid, model.predict_proba(features_valid)[:, 1])}')\n",
    "    print()\n",
    "fpr, tpr, thresholds = roc_curve(target_valid, model.predict_proba(features_valid)[:, 1])\n",
    "plt.figure()\n",
    "plt.plot(fpr, tpr)\n",
    "plt.plot([0,1], [0,1], linestyle='--')\n",
    "print(type(model).__name__)"
   ]
  },
  {
   "cell_type": "markdown",
   "metadata": {},
   "source": [
    "С учетом увеличения и уменьшения данных логистическая регрессия показывает чуть лучший результат, однако на валидационных данных он все еще крайне низок, что демонстрируется и на ROC кривой. Модель по-прежнему ненамного лучше случайной.\n",
    "\n",
    "\n",
    "Случайный лес же, на расширенных данных показал незначительное увеличение качества предсказания. Сконцентрируемся на нем и попробуем настроить гиперпараметры так, что бы метрика F1 достигла целевой."
   ]
  },
  {
   "cell_type": "markdown",
   "metadata": {},
   "source": [
    "### Оптимизация модели случайного леса"
   ]
  },
  {
   "cell_type": "markdown",
   "metadata": {},
   "source": [
    "Начнем с выбора оптимальной глубины деревьев."
   ]
  },
  {
   "cell_type": "code",
   "execution_count": 123,
   "metadata": {},
   "outputs": [
    {
     "name": "stdout",
     "output_type": "stream",
     "text": [
      "Лучшее значение метрики F1: 0.6111869031377899 при глубине деревьев: 21.\n"
     ]
    }
   ],
   "source": [
    "best_score = 0\n",
    "best_depth = 0\n",
    "\n",
    "for depth in range(1, 50):\n",
    "    model = RandomForestClassifier(n_estimators=20, max_depth=depth, random_state=12345)\n",
    "    model.fit(features_upsampled, target_upsampled)\n",
    "    predicted_valid = model.predict(features_valid)\n",
    "    f1 = f1_score(target_valid, predicted_valid)\n",
    "    if f1 > best_score:\n",
    "        best_score = f1\n",
    "        best_depth = depth\n",
    "print(f'Лучшее значение метрики F1: {best_score} при глубине деревьев: {best_depth}.')"
   ]
  },
  {
   "cell_type": "markdown",
   "metadata": {},
   "source": [
    "Найдем оптимальное количество деревьев при глубине 10."
   ]
  },
  {
   "cell_type": "code",
   "execution_count": 124,
   "metadata": {},
   "outputs": [
    {
     "name": "stdout",
     "output_type": "stream",
     "text": [
      "Лучшее значение метрики F1: 0.6196891191709843 при глубине деревьев: 10 и количестве деревьев: 75.\n"
     ]
    }
   ],
   "source": [
    "best_score = 0\n",
    "best_depth = 10\n",
    "best_n_est = 0\n",
    "for n_est in range(5, 300, 10):\n",
    "    model = RandomForestClassifier(n_estimators=n_est, max_depth=best_depth, random_state=12345)\n",
    "    model.fit(features_upsampled, target_upsampled)\n",
    "    predicted_valid = model.predict(features_valid)\n",
    "    f1 = f1_score(target_valid, predicted_valid)\n",
    "    if f1 > best_score:\n",
    "        best_score = f1\n",
    "        best_n_est = n_est\n",
    "print(f'Лучшее значение метрики F1: {best_score} при глубине деревьев: {best_depth} и количестве деревьев: {best_n_est}.')"
   ]
  },
  {
   "cell_type": "markdown",
   "metadata": {},
   "source": [
    "На валидационных данных получилось достичь качества модели 0,6181 по метрике F1 при глубине деревьев 10 и количестве 125. Это достаточно высокое значение, однако попробуем настроить прочие гиперпараметры."
   ]
  },
  {
   "cell_type": "code",
   "execution_count": 125,
   "metadata": {},
   "outputs": [],
   "source": [
    "random_grid = {\n",
    "    'n_estimators': [x for x in range(120, 140)],\n",
    "    'max_depth': [x for x in range(5, 16)],\n",
    "    'min_samples_leaf': [x for x in range(1, 5)],\n",
    "    'min_samples_split': [x for x in range(1, 15, 2)]\n",
    "}"
   ]
  },
  {
   "cell_type": "code",
   "execution_count": 126,
   "metadata": {},
   "outputs": [
    {
     "name": "stderr",
     "output_type": "stream",
     "text": [
      "/opt/conda/lib/python3.7/site-packages/sklearn/model_selection/_split.py:1978: FutureWarning: The default value of cv will change from 3 to 5 in version 0.22. Specify it explicitly to silence this warning.\n",
      "  warnings.warn(CV_WARNING, FutureWarning)\n"
     ]
    }
   ],
   "source": [
    "model = RandomForestClassifier(random_state=12345)\n",
    "clf = RandomizedSearchCV(model, random_grid, random_state=12345)\n",
    "search = clf.fit(features_upsampled, target_upsampled)\n",
    "best_params = search.best_params_"
   ]
  },
  {
   "cell_type": "code",
   "execution_count": 127,
   "metadata": {
    "scrolled": true
   },
   "outputs": [
    {
     "name": "stdout",
     "output_type": "stream",
     "text": [
      "Лучшее значение метрики F1: 0.6255813953488372.\n",
      "Метрика ROC-AUC: 0.8512633151664357\n"
     ]
    }
   ],
   "source": [
    "model = RandomForestClassifier(n_estimators=best_params['n_estimators'],\n",
    "                               min_samples_split=best_params['min_samples_split'],\n",
    "                               min_samples_leaf=best_params['min_samples_leaf'],\n",
    "                               max_depth=best_params['max_depth'],\n",
    "                               random_state=12345)\n",
    "model.fit(features_upsampled, target_upsampled)\n",
    "predicted_valid = model.predict(features_valid)\n",
    "f1 = f1_score(target_valid, predicted_valid)\n",
    "print(f'Лучшее значение метрики F1: {f1}.')\n",
    "print(f'Метрика ROC-AUC: {roc_auc_score(target_valid, model.predict_proba(features_valid)[:, 1])}')"
   ]
  },
  {
   "cell_type": "markdown",
   "metadata": {},
   "source": [
    "Метрику F1 получилось довести до 0,6256, посмотрим, какие значения приняли гиперпараметры."
   ]
  },
  {
   "cell_type": "code",
   "execution_count": 128,
   "metadata": {
    "scrolled": true
   },
   "outputs": [
    {
     "name": "stdout",
     "output_type": "stream",
     "text": [
      "Количество деревьев: 138, минимальное количество значений ветви: 9, минимальное количество значений листа: 1, глубина деревьев: 13\n"
     ]
    }
   ],
   "source": [
    "print('Количество деревьев: {0}, минимальное количество значений ветви: {1}, минимальное количество значений листа: {2}, глубина деревьев: {3}'\n",
    "      .format(best_params['n_estimators'],\n",
    "              best_params['min_samples_split'],\n",
    "              best_params['min_samples_leaf'],\n",
    "              best_params['max_depth']))"
   ]
  },
  {
   "cell_type": "markdown",
   "metadata": {},
   "source": [
    "### Вывод"
   ]
  },
  {
   "cell_type": "markdown",
   "metadata": {},
   "source": [
    "Наилучшие показатели, даже при сбалансированных классах, показала модель случайного леса. Модель логистической регрессии показала результат на уровне случайной модели, а дерево решений оказалось хуже модели случайного леса."
   ]
  },
  {
   "cell_type": "markdown",
   "metadata": {},
   "source": [
    "## Тестирование модели"
   ]
  },
  {
   "cell_type": "markdown",
   "metadata": {},
   "source": [
    "Наилучшая модель для наших данных - случайный лес. Она показывает достаточно высокие результаты, однако необходимо bpexbnm"
   ]
  },
  {
   "cell_type": "markdown",
   "metadata": {},
   "source": [
    "Проведем финальное тестирование модели на тренировочных, валидационных и тестовых данных."
   ]
  },
  {
   "cell_type": "code",
   "execution_count": 129,
   "metadata": {},
   "outputs": [
    {
     "name": "stdout",
     "output_type": "stream",
     "text": [
      "Лучшее значение метрики F1: \n",
      "- на тренировочных данных 0.9841191475355879;\n",
      "- на валидационных данных 0.6255813953488372;\n",
      "- на тестовых данных 0.6066134549600912.\n"
     ]
    }
   ],
   "source": [
    "predicted_train = model.predict(features_upsampled)\n",
    "predicted_valid = model.predict(features_valid)\n",
    "predicted_test = model.predict(features_test)\n",
    "f1_train = f1_score(target_upsampled, predicted_train)\n",
    "f1_valid = f1_score(target_valid, predicted_valid)\n",
    "f1_test = f1_score(target_test, predicted_test)\n",
    "\n",
    "print(f'''Лучшее значение метрики F1: \n",
    "- на тренировочных данных {f1_train};\n",
    "- на валидационных данных {f1_valid};\n",
    "- на тестовых данных {f1_test}.''')"
   ]
  },
  {
   "cell_type": "markdown",
   "metadata": {},
   "source": [
    "На тестовых данных случайные лес показал достаточное качество предсказания. На тренировочных данных модель показывает очень высокие показатели, следовательно модель сильно переобучилась, однако все равно показывает высокое качество предсказания.\n",
    "\n"
   ]
  },
  {
   "cell_type": "code",
   "execution_count": 130,
   "metadata": {
    "scrolled": true
   },
   "outputs": [
    {
     "name": "stdout",
     "output_type": "stream",
     "text": [
      "RandomForestClassifier\n",
      "ROC-AUC score: 0.8563301357726538\n"
     ]
    },
    {
     "data": {
      "image/png": "[encoded data removed]",
      "text/plain": [
       "<Figure size 432x288 with 1 Axes>"
      ]
     },
     "metadata": {
      "needs_background": "light"
     },
     "output_type": "display_data"
    }
   ],
   "source": [
    "fpr, tpr, thresholds = roc_curve(target_test, model.predict_proba(features_test)[:, 1])\n",
    "plt.figure()\n",
    "plt.plot(fpr, tpr)\n",
    "plt.plot([0,1], [0,1], linestyle='--')\n",
    "print(type(model).__name__)\n",
    "print(f'ROC-AUC score: {roc_auc_score(target_test, model.predict_proba(features_test)[:, 1])}')"
   ]
  },
  {
   "cell_type": "markdown",
   "metadata": {},
   "source": [
    "Модель показывает достаточно хороший уровень метрики ROC-AUC. Это значит, что модель существенно лучше случайной предсказывает целевой признак.\n",
    "\n",
    "Модель ROC-AUC имеет более высокий показатель, чем F1 мера."
   ]
  },
  {
   "cell_type": "markdown",
   "metadata": {},
   "source": [
    "## Вывод"
   ]
  },
  {
   "cell_type": "markdown",
   "metadata": {},
   "source": [
    "Для целей предсказания оттока клиентов наиболее подходит модель случайного леса. Она предсказывает, уйдет клиент или нет, с достаточной точностью. Однако ее точность можно увеличить, добавив в данные более подходящие для предсказания переменные, а также настроив гиперпараметры.\n",
    "\n",
    "Дисбаланс очень влияет на обучение моделей и в особенности на обучение модели линейной регрессии. Однако и случайный лес и дерево решений показывают лучший результат на сбалансированной выборке.\n",
    "\n",
    "Также важно понимать, какие признаки вносят наибольший вклад в качество предсказания. Построим график важности признаков в обученной модели."
   ]
  },
  {
   "cell_type": "code",
   "execution_count": 131,
   "metadata": {},
   "outputs": [],
   "source": [
    "importances = model.feature_importances_"
   ]
  },
  {
   "cell_type": "code",
   "execution_count": 135,
   "metadata": {},
   "outputs": [
    {
     "data": {
      "text/plain": [
       "<matplotlib.axes._subplots.AxesSubplot at 0x7fe3e06b1610>"
      ]
     },
     "execution_count": 135,
     "metadata": {},
     "output_type": "execute_result"
    },
    {
     "data": {
      "image/png": "[encoded data removed]",
      "text/plain": [
       "<Figure size 432x288 with 1 Axes>"
      ]
     },
     "metadata": {
      "needs_background": "light"
     },
     "output_type": "display_data"
    }
   ],
   "source": [
    "forest_importances = pd.Series(importances, index=features_test.columns).sort_values(ascending=False)\n",
    "forest_importances.plot(kind='bar', title='Features_importances')"
   ]
  },
  {
   "cell_type": "markdown",
   "metadata": {},
   "source": [
    "Как ни странно, наиболее влиятельный признак - возраст. Влияние возраста на вероятность ухода клиента следует изучить отдельно, так как принимая соответсвующие управленческие решения, мы можем ориентировать деятельность нашего банка на сохранение клиентов на основании возраста - предложении более соответвующих продуктов клиентам.\n",
    "\n",
    "Количество продуктов и баланс также являются важными критериями при предсказании. Замыкают список данные о поле, географии и наличии кредитной карты."
   ]
  }
 ],
 "metadata": {
  "ExecuteTimeLog": [
   {
    "duration": 266,
    "start_time": "2022-03-01T13:08:54.373Z"
   },
   {
    "duration": 300,
    "start_time": "2022-03-01T13:08:56.313Z"
   },
   {
    "duration": 98,
    "start_time": "2022-03-01T13:08:56.517Z"
   },
   {
    "duration": 600,
    "start_time": "2022-03-01T13:09:41.528Z"
   },
   {
    "duration": 25,
    "start_time": "2022-03-01T13:09:44.111Z"
   },
   {
    "duration": 71,
    "start_time": "2022-03-01T13:09:44.838Z"
   },
   {
    "duration": 61,
    "start_time": "2022-03-01T13:10:07.728Z"
   },
   {
    "duration": 251,
    "start_time": "2022-03-01T13:10:34.681Z"
   },
   {
    "duration": 23,
    "start_time": "2022-03-01T13:14:18.223Z"
   },
   {
    "duration": 60,
    "start_time": "2022-03-01T13:14:18.870Z"
   },
   {
    "duration": 55,
    "start_time": "2022-03-01T13:14:32.178Z"
   },
   {
    "duration": 71,
    "start_time": "2022-03-01T13:14:33.172Z"
   },
   {
    "duration": 26,
    "start_time": "2022-03-01T13:14:52.583Z"
   },
   {
    "duration": 61,
    "start_time": "2022-03-01T13:14:53.834Z"
   },
   {
    "duration": 22,
    "start_time": "2022-03-01T13:15:03.121Z"
   },
   {
    "duration": 65,
    "start_time": "2022-03-01T13:15:03.916Z"
   },
   {
    "duration": 65,
    "start_time": "2022-03-01T13:16:51.229Z"
   },
   {
    "duration": 25,
    "start_time": "2022-03-01T13:25:40.405Z"
   },
   {
    "duration": 330,
    "start_time": "2022-03-01T13:45:09.955Z"
   },
   {
    "duration": 296,
    "start_time": "2022-03-01T13:45:16.655Z"
   },
   {
    "duration": 55,
    "start_time": "2022-03-01T13:45:33.297Z"
   },
   {
    "duration": 65,
    "start_time": "2022-03-01T13:45:39.537Z"
   },
   {
    "duration": 31,
    "start_time": "2022-03-01T13:47:39.035Z"
   },
   {
    "duration": 37,
    "start_time": "2022-03-01T13:47:47.344Z"
   },
   {
    "duration": 243,
    "start_time": "2022-03-01T13:59:29.098Z"
   },
   {
    "duration": 24413,
    "start_time": "2022-03-01T13:59:55.934Z"
   },
   {
    "duration": 2,
    "start_time": "2022-03-01T14:00:37.313Z"
   },
   {
    "duration": 24702,
    "start_time": "2022-03-01T14:00:54.443Z"
   },
   {
    "duration": 402,
    "start_time": "2022-03-02T12:47:51.810Z"
   },
   {
    "duration": 280,
    "start_time": "2022-03-02T12:47:55.131Z"
   },
   {
    "duration": 769,
    "start_time": "2022-03-02T12:47:59.976Z"
   },
   {
    "duration": 34,
    "start_time": "2022-03-02T12:48:00.747Z"
   },
   {
    "duration": 135,
    "start_time": "2022-03-02T12:48:00.784Z"
   },
   {
    "duration": 18,
    "start_time": "2022-03-02T12:48:00.922Z"
   },
   {
    "duration": 102,
    "start_time": "2022-03-02T12:48:11.697Z"
   },
   {
    "duration": 16,
    "start_time": "2022-03-02T12:48:13.898Z"
   },
   {
    "duration": 20,
    "start_time": "2022-03-02T12:48:20.232Z"
   },
   {
    "duration": 324,
    "start_time": "2022-03-02T12:48:25.649Z"
   },
   {
    "duration": 16,
    "start_time": "2022-03-02T12:48:45.418Z"
   },
   {
    "duration": 5,
    "start_time": "2022-03-02T12:49:25.995Z"
   },
   {
    "duration": 6,
    "start_time": "2022-03-02T12:49:35.895Z"
   },
   {
    "duration": 279,
    "start_time": "2022-03-02T12:49:40.337Z"
   },
   {
    "duration": 6,
    "start_time": "2022-03-02T12:49:50.959Z"
   },
   {
    "duration": 4,
    "start_time": "2022-03-02T12:52:46.765Z"
   },
   {
    "duration": 4,
    "start_time": "2022-03-02T12:54:27.555Z"
   },
   {
    "duration": 4,
    "start_time": "2022-03-02T12:54:43.963Z"
   },
   {
    "duration": 5,
    "start_time": "2022-03-02T12:54:46.826Z"
   },
   {
    "duration": 4,
    "start_time": "2022-03-02T12:56:13.998Z"
   },
   {
    "duration": 5,
    "start_time": "2022-03-02T12:56:14.920Z"
   },
   {
    "duration": 28,
    "start_time": "2022-03-02T12:56:19.369Z"
   },
   {
    "duration": 5,
    "start_time": "2022-03-02T12:56:22.725Z"
   },
   {
    "duration": 5,
    "start_time": "2022-03-02T12:56:24.119Z"
   },
   {
    "duration": 6,
    "start_time": "2022-03-02T12:56:24.729Z"
   },
   {
    "duration": 28,
    "start_time": "2022-03-02T12:56:44.821Z"
   },
   {
    "duration": 5,
    "start_time": "2022-03-02T12:56:47.664Z"
   },
   {
    "duration": 5,
    "start_time": "2022-03-02T12:56:48.591Z"
   },
   {
    "duration": 6,
    "start_time": "2022-03-02T12:56:49.121Z"
   },
   {
    "duration": 36,
    "start_time": "2022-03-02T12:57:02.531Z"
   },
   {
    "duration": 29,
    "start_time": "2022-03-02T12:57:21.340Z"
   },
   {
    "duration": 33,
    "start_time": "2022-03-02T12:57:23.519Z"
   },
   {
    "duration": 4,
    "start_time": "2022-03-02T12:57:24.856Z"
   },
   {
    "duration": 31,
    "start_time": "2022-03-02T12:57:25.465Z"
   },
   {
    "duration": 32,
    "start_time": "2022-03-02T12:58:00.324Z"
   },
   {
    "duration": 7040,
    "start_time": "2022-03-02T13:06:37.623Z"
   },
   {
    "duration": 34,
    "start_time": "2022-03-02T13:07:06.315Z"
   },
   {
    "duration": 112,
    "start_time": "2022-03-02T13:07:22.872Z"
   },
   {
    "duration": 34,
    "start_time": "2022-03-02T13:07:37.271Z"
   },
   {
    "duration": 33,
    "start_time": "2022-03-02T13:07:47.812Z"
   },
   {
    "duration": 64,
    "start_time": "2022-03-02T13:08:16.894Z"
   },
   {
    "duration": 60,
    "start_time": "2022-03-02T13:26:28.965Z"
   },
   {
    "duration": 60,
    "start_time": "2022-03-02T13:27:27.478Z"
   },
   {
    "duration": 35,
    "start_time": "2022-03-02T13:32:57.161Z"
   },
   {
    "duration": 36860,
    "start_time": "2022-03-02T13:34:48.946Z"
   },
   {
    "duration": 3,
    "start_time": "2022-03-02T13:35:47.273Z"
   },
   {
    "duration": 40415,
    "start_time": "2022-03-02T13:36:07.401Z"
   },
   {
    "duration": 41722,
    "start_time": "2022-03-02T13:38:00.228Z"
   },
   {
    "duration": 8,
    "start_time": "2022-03-02T14:16:51.507Z"
   },
   {
    "duration": 5,
    "start_time": "2022-03-02T14:17:07.418Z"
   },
   {
    "duration": 13,
    "start_time": "2022-03-02T14:17:10.635Z"
   },
   {
    "duration": 408,
    "start_time": "2022-03-02T14:24:35.929Z"
   },
   {
    "duration": 343,
    "start_time": "2022-03-02T14:24:47.910Z"
   },
   {
    "duration": 41,
    "start_time": "2022-03-02T14:27:07.386Z"
   },
   {
    "duration": 19,
    "start_time": "2022-03-02T14:28:01.108Z"
   },
   {
    "duration": 26,
    "start_time": "2022-03-02T14:29:10.645Z"
   },
   {
    "duration": 52,
    "start_time": "2022-03-02T14:29:15.288Z"
   },
   {
    "duration": 100,
    "start_time": "2022-03-02T14:29:21.671Z"
   },
   {
    "duration": 19,
    "start_time": "2022-03-02T14:29:26.801Z"
   },
   {
    "duration": 879,
    "start_time": "2022-03-02T14:31:19.865Z"
   },
   {
    "duration": 4,
    "start_time": "2022-03-02T14:31:29.986Z"
   },
   {
    "duration": 393,
    "start_time": "2022-03-02T14:32:42.643Z"
   },
   {
    "duration": 274,
    "start_time": "2022-03-02T14:32:53.353Z"
   },
   {
    "duration": 27,
    "start_time": "2022-03-02T14:32:58.431Z"
   },
   {
    "duration": 34,
    "start_time": "2022-03-02T14:33:02.958Z"
   },
   {
    "duration": 20,
    "start_time": "2022-03-02T14:33:08.051Z"
   },
   {
    "duration": 72,
    "start_time": "2022-03-02T14:46:05.625Z"
   },
   {
    "duration": 8148,
    "start_time": "2022-03-02T14:46:07.724Z"
   },
   {
    "duration": 143131,
    "start_time": "2022-03-02T14:46:24.276Z"
   },
   {
    "duration": 7,
    "start_time": "2022-03-02T14:50:03.994Z"
   },
   {
    "duration": 48,
    "start_time": "2022-03-02T14:50:06.125Z"
   },
   {
    "duration": 219,
    "start_time": "2022-03-02T14:50:23.438Z"
   },
   {
    "duration": 231,
    "start_time": "2022-03-02T14:52:31.992Z"
   },
   {
    "duration": 8,
    "start_time": "2022-03-02T14:59:42.440Z"
   },
   {
    "duration": 25,
    "start_time": "2022-03-02T15:00:48.569Z"
   },
   {
    "duration": 346,
    "start_time": "2022-03-02T15:03:17.558Z"
   },
   {
    "duration": 14,
    "start_time": "2022-03-02T15:03:25.390Z"
   },
   {
    "duration": 265,
    "start_time": "2022-03-02T15:15:15.735Z"
   },
   {
    "duration": 74,
    "start_time": "2022-03-02T15:15:21.064Z"
   },
   {
    "duration": 4,
    "start_time": "2022-03-02T15:15:24.398Z"
   },
   {
    "duration": 6,
    "start_time": "2022-03-02T15:18:22.195Z"
   },
   {
    "duration": 368,
    "start_time": "2022-03-02T15:22:10.484Z"
   },
   {
    "duration": 46,
    "start_time": "2022-03-02T15:22:10.810Z"
   },
   {
    "duration": 302,
    "start_time": "2022-03-02T15:24:13.845Z"
   },
   {
    "duration": 292,
    "start_time": "2022-03-02T15:24:17.913Z"
   },
   {
    "duration": 1460,
    "start_time": "2022-03-02T15:24:35.491Z"
   },
   {
    "duration": 39,
    "start_time": "2022-03-02T15:24:36.954Z"
   },
   {
    "duration": 118,
    "start_time": "2022-03-02T15:24:36.996Z"
   },
   {
    "duration": 4,
    "start_time": "2022-03-02T15:24:37.117Z"
   },
   {
    "duration": 51,
    "start_time": "2022-03-02T15:24:37.124Z"
   },
   {
    "duration": 6,
    "start_time": "2022-03-02T15:24:37.178Z"
   },
   {
    "duration": 64,
    "start_time": "2022-03-02T15:24:37.186Z"
   },
   {
    "duration": 44,
    "start_time": "2022-03-02T15:24:37.254Z"
   },
   {
    "duration": 9,
    "start_time": "2022-03-02T15:24:37.301Z"
   },
   {
    "duration": 25,
    "start_time": "2022-03-02T15:24:37.312Z"
   },
   {
    "duration": 42,
    "start_time": "2022-03-02T15:24:37.339Z"
   },
   {
    "duration": 19,
    "start_time": "2022-03-02T15:24:37.384Z"
   },
   {
    "duration": 7,
    "start_time": "2022-03-02T15:24:37.405Z"
   },
   {
    "duration": 12,
    "start_time": "2022-03-02T15:24:37.415Z"
   },
   {
    "duration": 381,
    "start_time": "2022-03-02T15:24:37.430Z"
   },
   {
    "duration": 4,
    "start_time": "2022-03-02T15:24:37.815Z"
   },
   {
    "duration": 62,
    "start_time": "2022-03-02T15:24:37.822Z"
   },
   {
    "duration": 540,
    "start_time": "2022-03-02T15:24:37.973Z"
   },
   {
    "duration": -51,
    "start_time": "2022-03-02T15:24:38.567Z"
   },
   {
    "duration": 10,
    "start_time": "2022-03-02T15:24:54.983Z"
   },
   {
    "duration": 5,
    "start_time": "2022-03-02T15:24:55.780Z"
   },
   {
    "duration": 6,
    "start_time": "2022-03-02T15:25:15.136Z"
   },
   {
    "duration": 7,
    "start_time": "2022-03-02T15:25:22.263Z"
   },
   {
    "duration": 27,
    "start_time": "2022-03-02T15:25:52.230Z"
   },
   {
    "duration": 7,
    "start_time": "2022-03-02T15:26:00.348Z"
   },
   {
    "duration": 6,
    "start_time": "2022-03-02T15:26:05.099Z"
   },
   {
    "duration": 6,
    "start_time": "2022-03-02T15:26:13.407Z"
   },
   {
    "duration": 6,
    "start_time": "2022-03-02T15:26:16.893Z"
   },
   {
    "duration": 19,
    "start_time": "2022-03-02T15:26:39.765Z"
   },
   {
    "duration": 12,
    "start_time": "2022-03-02T15:26:40.597Z"
   },
   {
    "duration": 5,
    "start_time": "2022-03-02T15:26:40.929Z"
   },
   {
    "duration": 5,
    "start_time": "2022-03-02T15:26:55.008Z"
   },
   {
    "duration": 6,
    "start_time": "2022-03-02T15:27:01.431Z"
   },
   {
    "duration": 26,
    "start_time": "2022-03-02T15:29:07.576Z"
   },
   {
    "duration": 278,
    "start_time": "2022-03-02T15:30:33.186Z"
   },
   {
    "duration": 7,
    "start_time": "2022-03-02T15:30:43.426Z"
   },
   {
    "duration": 5,
    "start_time": "2022-03-02T15:30:55.003Z"
   },
   {
    "duration": 6,
    "start_time": "2022-03-02T15:31:24.996Z"
   },
   {
    "duration": 7,
    "start_time": "2022-03-02T15:31:25.953Z"
   },
   {
    "duration": 6,
    "start_time": "2022-03-02T15:31:31.851Z"
   },
   {
    "duration": 5,
    "start_time": "2022-03-02T15:31:42.247Z"
   },
   {
    "duration": 25,
    "start_time": "2022-03-02T15:32:28.593Z"
   },
   {
    "duration": 7,
    "start_time": "2022-03-02T15:32:34.095Z"
   },
   {
    "duration": 27,
    "start_time": "2022-03-02T15:32:38.130Z"
   },
   {
    "duration": 7,
    "start_time": "2022-03-02T15:32:41.747Z"
   },
   {
    "duration": 33,
    "start_time": "2022-03-02T15:32:47.470Z"
   },
   {
    "duration": 7,
    "start_time": "2022-03-02T15:32:52.235Z"
   },
   {
    "duration": 93,
    "start_time": "2022-03-02T15:33:05.687Z"
   },
   {
    "duration": 17,
    "start_time": "2022-03-02T15:33:05.898Z"
   },
   {
    "duration": 22,
    "start_time": "2022-03-02T15:33:12.587Z"
   },
   {
    "duration": 13,
    "start_time": "2022-03-02T15:33:12.988Z"
   },
   {
    "duration": 106,
    "start_time": "2022-03-02T15:33:16.170Z"
   },
   {
    "duration": 11,
    "start_time": "2022-03-02T15:33:17.210Z"
   },
   {
    "duration": 21,
    "start_time": "2022-03-02T15:36:44.471Z"
   },
   {
    "duration": 12,
    "start_time": "2022-03-02T15:36:45.673Z"
   },
   {
    "duration": 5,
    "start_time": "2022-03-02T15:36:46.136Z"
   },
   {
    "duration": 9,
    "start_time": "2022-03-02T15:40:12.165Z"
   },
   {
    "duration": 7,
    "start_time": "2022-03-02T15:40:22.074Z"
   },
   {
    "duration": 28,
    "start_time": "2022-03-02T15:41:41.344Z"
   },
   {
    "duration": 10,
    "start_time": "2022-03-02T15:41:41.906Z"
   },
   {
    "duration": 4,
    "start_time": "2022-03-02T15:41:42.767Z"
   },
   {
    "duration": 105,
    "start_time": "2022-03-02T15:41:47.667Z"
   },
   {
    "duration": 28,
    "start_time": "2022-03-02T15:42:09.463Z"
   },
   {
    "duration": 17,
    "start_time": "2022-03-02T15:42:20.029Z"
   },
   {
    "duration": 57,
    "start_time": "2022-03-02T15:42:57.486Z"
   },
   {
    "duration": 51,
    "start_time": "2022-03-02T15:43:09.132Z"
   },
   {
    "duration": 7,
    "start_time": "2022-03-02T15:43:49.056Z"
   },
   {
    "duration": 283,
    "start_time": "2022-03-02T15:44:34.216Z"
   },
   {
    "duration": 11,
    "start_time": "2022-03-02T15:44:34.554Z"
   },
   {
    "duration": 133,
    "start_time": "2022-03-02T15:44:40.149Z"
   },
   {
    "duration": 11,
    "start_time": "2022-03-02T15:44:44.133Z"
   },
   {
    "duration": 5,
    "start_time": "2022-03-02T15:44:44.857Z"
   },
   {
    "duration": 88,
    "start_time": "2022-03-02T15:44:51.899Z"
   },
   {
    "duration": 12,
    "start_time": "2022-03-02T15:44:52.430Z"
   },
   {
    "duration": 5,
    "start_time": "2022-03-02T15:44:53.105Z"
   },
   {
    "duration": 269,
    "start_time": "2022-03-02T15:47:13.217Z"
   },
   {
    "duration": 81,
    "start_time": "2022-03-02T15:47:23.293Z"
   },
   {
    "duration": 14,
    "start_time": "2022-03-02T15:49:18.500Z"
   },
   {
    "duration": 14,
    "start_time": "2022-03-02T15:49:25.630Z"
   },
   {
    "duration": 342,
    "start_time": "2022-03-02T15:54:11.504Z"
   },
   {
    "duration": 340,
    "start_time": "2022-03-02T15:54:32.980Z"
   },
   {
    "duration": 288,
    "start_time": "2022-03-02T15:54:41.543Z"
   },
   {
    "duration": 293,
    "start_time": "2022-03-02T15:54:50.226Z"
   },
   {
    "duration": 9,
    "start_time": "2022-03-02T15:55:05.636Z"
   },
   {
    "duration": 278,
    "start_time": "2022-03-02T15:55:09.629Z"
   },
   {
    "duration": 4,
    "start_time": "2022-03-02T15:55:19.696Z"
   },
   {
    "duration": 267,
    "start_time": "2022-03-02T15:55:20.916Z"
   },
   {
    "duration": 4,
    "start_time": "2022-03-02T15:55:26.814Z"
   },
   {
    "duration": 6,
    "start_time": "2022-03-02T15:55:27.947Z"
   },
   {
    "duration": 6,
    "start_time": "2022-03-02T15:55:34.386Z"
   },
   {
    "duration": 6,
    "start_time": "2022-03-02T15:56:50.696Z"
   },
   {
    "duration": 280,
    "start_time": "2022-03-02T15:56:54.359Z"
   },
   {
    "duration": 6,
    "start_time": "2022-03-02T15:56:57.907Z"
   },
   {
    "duration": 279,
    "start_time": "2022-03-02T15:57:34.398Z"
   },
   {
    "duration": 7,
    "start_time": "2022-03-02T15:57:44.861Z"
   },
   {
    "duration": 646,
    "start_time": "2022-03-02T15:58:01.629Z"
   },
   {
    "duration": 192,
    "start_time": "2022-03-02T15:58:36.503Z"
   },
   {
    "duration": 209,
    "start_time": "2022-03-02T15:59:25.966Z"
   },
   {
    "duration": 155,
    "start_time": "2022-03-02T15:59:29.430Z"
   },
   {
    "duration": 400,
    "start_time": "2022-03-02T15:59:50.413Z"
   },
   {
    "duration": 453,
    "start_time": "2022-03-02T16:00:38.265Z"
   },
   {
    "duration": 307,
    "start_time": "2022-03-04T07:00:11.308Z"
   },
   {
    "duration": 237,
    "start_time": "2022-03-04T07:00:11.766Z"
   },
   {
    "duration": 1013,
    "start_time": "2022-03-04T07:01:04.644Z"
   },
   {
    "duration": 28,
    "start_time": "2022-03-04T07:01:05.659Z"
   },
   {
    "duration": 58,
    "start_time": "2022-03-04T07:01:05.689Z"
   },
   {
    "duration": 3,
    "start_time": "2022-03-04T07:01:05.749Z"
   },
   {
    "duration": 19,
    "start_time": "2022-03-04T07:01:05.754Z"
   },
   {
    "duration": 3,
    "start_time": "2022-03-04T07:01:05.775Z"
   },
   {
    "duration": 33,
    "start_time": "2022-03-04T07:01:05.802Z"
   },
   {
    "duration": 20,
    "start_time": "2022-03-04T07:01:05.837Z"
   },
   {
    "duration": 4,
    "start_time": "2022-03-04T07:01:05.859Z"
   },
   {
    "duration": 10,
    "start_time": "2022-03-04T07:01:05.864Z"
   },
   {
    "duration": 42,
    "start_time": "2022-03-04T07:01:05.875Z"
   },
   {
    "duration": 10,
    "start_time": "2022-03-04T07:01:05.918Z"
   },
   {
    "duration": 4,
    "start_time": "2022-03-04T07:01:05.929Z"
   },
   {
    "duration": 11,
    "start_time": "2022-03-04T07:01:05.934Z"
   },
   {
    "duration": 27,
    "start_time": "2022-03-04T07:01:05.946Z"
   },
   {
    "duration": 131,
    "start_time": "2022-03-04T07:01:06.001Z"
   },
   {
    "duration": 2,
    "start_time": "2022-03-04T07:01:06.134Z"
   },
   {
    "duration": 264,
    "start_time": "2022-03-04T07:01:06.138Z"
   },
   {
    "duration": 441,
    "start_time": "2022-03-04T07:01:06.404Z"
   },
   {
    "duration": 7,
    "start_time": "2022-03-04T07:01:30.298Z"
   },
   {
    "duration": 131,
    "start_time": "2022-03-04T07:01:46.228Z"
   },
   {
    "duration": 83,
    "start_time": "2022-03-04T07:01:59.497Z"
   },
   {
    "duration": 136,
    "start_time": "2022-03-04T07:02:46.165Z"
   },
   {
    "duration": 141,
    "start_time": "2022-03-04T07:03:16.250Z"
   },
   {
    "duration": 140,
    "start_time": "2022-03-04T07:03:20.904Z"
   },
   {
    "duration": 148,
    "start_time": "2022-03-04T07:03:25.622Z"
   },
   {
    "duration": 187,
    "start_time": "2022-03-04T07:03:41.328Z"
   },
   {
    "duration": 150,
    "start_time": "2022-03-04T07:04:21.905Z"
   },
   {
    "duration": 141,
    "start_time": "2022-03-04T07:05:40.473Z"
   },
   {
    "duration": 3,
    "start_time": "2022-03-04T07:13:24.404Z"
   },
   {
    "duration": 5,
    "start_time": "2022-03-04T07:17:50.649Z"
   },
   {
    "duration": 78,
    "start_time": "2022-03-04T07:17:51.589Z"
   },
   {
    "duration": 3,
    "start_time": "2022-03-04T07:17:54.663Z"
   },
   {
    "duration": 15,
    "start_time": "2022-03-04T07:22:08.660Z"
   },
   {
    "duration": 12,
    "start_time": "2022-03-04T07:22:08.944Z"
   },
   {
    "duration": 6200,
    "start_time": "2022-03-04T07:22:09.769Z"
   },
   {
    "duration": 3965,
    "start_time": "2022-03-04T07:22:38.560Z"
   },
   {
    "duration": 4,
    "start_time": "2022-03-04T07:22:55.890Z"
   },
   {
    "duration": 4,
    "start_time": "2022-03-04T07:23:05.170Z"
   },
   {
    "duration": 245,
    "start_time": "2022-03-04T07:27:04.762Z"
   },
   {
    "duration": 79,
    "start_time": "2022-03-04T07:28:02.131Z"
   },
   {
    "duration": 594,
    "start_time": "2022-03-04T07:30:39.438Z"
   },
   {
    "duration": 426,
    "start_time": "2022-03-04T07:30:41.712Z"
   },
   {
    "duration": 591,
    "start_time": "2022-03-04T07:30:57.434Z"
   },
   {
    "duration": 630,
    "start_time": "2022-03-04T07:31:00.793Z"
   },
   {
    "duration": 756,
    "start_time": "2022-03-04T07:31:57.746Z"
   },
   {
    "duration": 439,
    "start_time": "2022-03-04T07:31:59.214Z"
   },
   {
    "duration": 250,
    "start_time": "2022-03-04T08:01:17.633Z"
   },
   {
    "duration": 245,
    "start_time": "2022-03-04T08:01:38.893Z"
   },
   {
    "duration": 331,
    "start_time": "2022-03-04T08:01:51.650Z"
   },
   {
    "duration": 9261,
    "start_time": "2022-03-04T08:02:01.790Z"
   },
   {
    "duration": 681,
    "start_time": "2022-03-04T08:04:01.707Z"
   },
   {
    "duration": 36865,
    "start_time": "2022-03-04T08:04:12.615Z"
   },
   {
    "duration": 22068,
    "start_time": "2022-03-04T08:06:00.925Z"
   },
   {
    "duration": 39492,
    "start_time": "2022-03-04T08:06:45.155Z"
   },
   {
    "duration": 55455,
    "start_time": "2022-03-04T08:11:14.848Z"
   },
   {
    "duration": 2,
    "start_time": "2022-03-04T08:37:23.503Z"
   },
   {
    "duration": 4,
    "start_time": "2022-03-04T08:37:29.794Z"
   },
   {
    "duration": 3,
    "start_time": "2022-03-04T08:37:44.075Z"
   },
   {
    "duration": 4,
    "start_time": "2022-03-04T08:37:44.676Z"
   },
   {
    "duration": 3,
    "start_time": "2022-03-04T08:37:50.299Z"
   },
   {
    "duration": 3,
    "start_time": "2022-03-04T08:37:52.795Z"
   },
   {
    "duration": 80,
    "start_time": "2022-03-04T08:49:06.018Z"
   },
   {
    "duration": 3,
    "start_time": "2022-03-04T08:49:10.822Z"
   },
   {
    "duration": 4,
    "start_time": "2022-03-04T08:49:11.170Z"
   },
   {
    "duration": 3,
    "start_time": "2022-03-04T08:50:11.016Z"
   },
   {
    "duration": 31943,
    "start_time": "2022-03-04T08:51:31.832Z"
   },
   {
    "duration": 1262,
    "start_time": "2022-03-04T08:55:08.188Z"
   },
   {
    "duration": 1367,
    "start_time": "2022-03-04T08:55:15.703Z"
   },
   {
    "duration": 4,
    "start_time": "2022-03-04T08:56:19.218Z"
   },
   {
    "duration": 48396,
    "start_time": "2022-03-04T08:56:23.389Z"
   },
   {
    "duration": 1977,
    "start_time": "2022-03-04T08:58:31.329Z"
   },
   {
    "duration": 3,
    "start_time": "2022-03-04T08:59:15.678Z"
   },
   {
    "duration": 25692,
    "start_time": "2022-03-04T08:59:22.109Z"
   },
   {
    "duration": 1275,
    "start_time": "2022-03-04T09:00:11.051Z"
   },
   {
    "duration": 81,
    "start_time": "2022-03-04T09:03:23.459Z"
   },
   {
    "duration": 79,
    "start_time": "2022-03-04T09:03:43.708Z"
   },
   {
    "duration": 664,
    "start_time": "2022-03-04T09:04:55.098Z"
   },
   {
    "duration": 3,
    "start_time": "2022-03-04T09:05:09.071Z"
   },
   {
    "duration": 249,
    "start_time": "2022-03-04T09:06:09.837Z"
   },
   {
    "duration": 4,
    "start_time": "2022-03-04T09:06:45.566Z"
   },
   {
    "duration": 4,
    "start_time": "2022-03-04T09:07:10.269Z"
   },
   {
    "duration": 3,
    "start_time": "2022-03-04T09:07:42.538Z"
   },
   {
    "duration": 269,
    "start_time": "2022-03-04T09:09:53.351Z"
   },
   {
    "duration": 274,
    "start_time": "2022-03-04T09:10:48.154Z"
   },
   {
    "duration": 47,
    "start_time": "2022-03-04T09:17:42.417Z"
   },
   {
    "duration": 181,
    "start_time": "2022-03-04T09:18:10.598Z"
   },
   {
    "duration": 180,
    "start_time": "2022-03-04T09:18:40.172Z"
   },
   {
    "duration": 175,
    "start_time": "2022-03-04T09:18:51.678Z"
   },
   {
    "duration": 4,
    "start_time": "2022-03-04T09:19:33.182Z"
   },
   {
    "duration": 50,
    "start_time": "2022-03-04T09:19:54.295Z"
   },
   {
    "duration": 226,
    "start_time": "2022-03-04T09:20:21.283Z"
   },
   {
    "duration": 237,
    "start_time": "2022-03-04T09:20:29.564Z"
   },
   {
    "duration": 227,
    "start_time": "2022-03-04T09:20:32.803Z"
   },
   {
    "duration": 226,
    "start_time": "2022-03-04T09:20:39.262Z"
   },
   {
    "duration": 115,
    "start_time": "2022-03-04T09:21:17.659Z"
   },
   {
    "duration": 222,
    "start_time": "2022-03-04T09:21:24.093Z"
   },
   {
    "duration": 241,
    "start_time": "2022-03-04T09:21:30.051Z"
   },
   {
    "duration": 79,
    "start_time": "2022-03-04T09:27:19.338Z"
   },
   {
    "duration": 377,
    "start_time": "2022-03-04T09:29:30.357Z"
   },
   {
    "duration": 371,
    "start_time": "2022-03-04T09:29:33.754Z"
   },
   {
    "duration": 256,
    "start_time": "2022-03-04T10:47:27.821Z"
   },
   {
    "duration": 183,
    "start_time": "2022-03-04T10:47:33.921Z"
   },
   {
    "duration": 252,
    "start_time": "2022-03-04T10:47:35.322Z"
   },
   {
    "duration": 7,
    "start_time": "2022-03-04T10:47:50.341Z"
   },
   {
    "duration": 280,
    "start_time": "2022-03-04T10:47:55.799Z"
   },
   {
    "duration": 8,
    "start_time": "2022-03-04T10:47:58.207Z"
   },
   {
    "duration": 568,
    "start_time": "2022-03-04T10:48:25.871Z"
   },
   {
    "duration": 7,
    "start_time": "2022-03-04T10:48:27.529Z"
   },
   {
    "duration": 243,
    "start_time": "2022-03-04T10:55:19.394Z"
   },
   {
    "duration": 8,
    "start_time": "2022-03-04T10:55:35.314Z"
   },
   {
    "duration": 5,
    "start_time": "2022-03-04T10:55:41.868Z"
   },
   {
    "duration": 290,
    "start_time": "2022-03-04T10:55:58.418Z"
   },
   {
    "duration": 254,
    "start_time": "2022-03-04T10:56:09.809Z"
   },
   {
    "duration": 4,
    "start_time": "2022-03-04T10:56:17.565Z"
   },
   {
    "duration": 6,
    "start_time": "2022-03-04T10:56:24.383Z"
   },
   {
    "duration": 4,
    "start_time": "2022-03-04T10:56:24.826Z"
   },
   {
    "duration": 5,
    "start_time": "2022-03-04T10:56:27.926Z"
   },
   {
    "duration": 4,
    "start_time": "2022-03-04T10:56:28.265Z"
   },
   {
    "duration": 4,
    "start_time": "2022-03-04T10:56:31.419Z"
   },
   {
    "duration": 7,
    "start_time": "2022-03-04T10:56:36.572Z"
   },
   {
    "duration": 4,
    "start_time": "2022-03-04T10:56:36.783Z"
   },
   {
    "duration": 4,
    "start_time": "2022-03-04T10:56:52.873Z"
   },
   {
    "duration": 4,
    "start_time": "2022-03-04T10:56:53.143Z"
   },
   {
    "duration": 6,
    "start_time": "2022-03-04T10:56:56.124Z"
   },
   {
    "duration": 4,
    "start_time": "2022-03-04T10:56:56.337Z"
   },
   {
    "duration": 5,
    "start_time": "2022-03-04T10:56:59.252Z"
   },
   {
    "duration": 5,
    "start_time": "2022-03-04T10:56:59.429Z"
   },
   {
    "duration": 296,
    "start_time": "2022-03-04T10:57:02.807Z"
   },
   {
    "duration": 5,
    "start_time": "2022-03-04T10:57:14.041Z"
   },
   {
    "duration": 5,
    "start_time": "2022-03-04T10:57:14.461Z"
   },
   {
    "duration": 7,
    "start_time": "2022-03-04T10:57:17.000Z"
   },
   {
    "duration": 4,
    "start_time": "2022-03-04T10:57:17.887Z"
   },
   {
    "duration": 7,
    "start_time": "2022-03-04T10:57:21.617Z"
   },
   {
    "duration": 5,
    "start_time": "2022-03-04T10:57:22.080Z"
   },
   {
    "duration": 15666,
    "start_time": "2022-03-04T11:00:35.564Z"
   },
   {
    "duration": 16749,
    "start_time": "2022-03-04T11:00:59.010Z"
   },
   {
    "duration": 11555,
    "start_time": "2022-03-04T11:02:39.172Z"
   },
   {
    "duration": 6,
    "start_time": "2022-03-04T11:57:19.137Z"
   },
   {
    "duration": 14260,
    "start_time": "2022-03-04T11:57:42.784Z"
   },
   {
    "duration": 6,
    "start_time": "2022-03-04T11:58:00.489Z"
   },
   {
    "duration": 112,
    "start_time": "2022-03-04T11:58:25.089Z"
   },
   {
    "duration": 6,
    "start_time": "2022-03-04T11:58:35.825Z"
   },
   {
    "duration": 178,
    "start_time": "2022-03-04T11:58:44.726Z"
   },
   {
    "duration": 12061,
    "start_time": "2022-03-04T11:58:49.381Z"
   },
   {
    "duration": 9,
    "start_time": "2022-03-04T11:59:10.209Z"
   },
   {
    "duration": 14670,
    "start_time": "2022-03-04T11:59:17.984Z"
   },
   {
    "duration": 6,
    "start_time": "2022-03-04T11:59:34.474Z"
   },
   {
    "duration": 12,
    "start_time": "2022-03-04T11:59:51.126Z"
   },
   {
    "duration": 137,
    "start_time": "2022-03-04T12:00:02.724Z"
   },
   {
    "duration": 155,
    "start_time": "2022-03-04T12:00:43.448Z"
   },
   {
    "duration": 148,
    "start_time": "2022-03-04T12:00:47.725Z"
   },
   {
    "duration": 536,
    "start_time": "2022-03-04T12:09:39.040Z"
   },
   {
    "duration": 1856,
    "start_time": "2022-03-04T12:09:48.738Z"
   },
   {
    "duration": 238,
    "start_time": "2022-03-04T12:09:59.206Z"
   },
   {
    "duration": 270,
    "start_time": "2022-03-04T12:10:33.134Z"
   },
   {
    "duration": 248,
    "start_time": "2022-03-04T12:10:44.185Z"
   },
   {
    "duration": 276,
    "start_time": "2022-03-04T12:11:37.438Z"
   },
   {
    "duration": 4,
    "start_time": "2022-03-04T12:11:51.836Z"
   },
   {
    "duration": 4,
    "start_time": "2022-03-04T12:11:57.275Z"
   },
   {
    "duration": 4,
    "start_time": "2022-03-04T12:12:02.418Z"
   },
   {
    "duration": 253,
    "start_time": "2022-03-04T12:12:05.550Z"
   },
   {
    "duration": 5,
    "start_time": "2022-03-04T12:12:27.290Z"
   },
   {
    "duration": 1120,
    "start_time": "2022-03-04T12:14:34.971Z"
   },
   {
    "duration": 28,
    "start_time": "2022-03-04T12:14:36.093Z"
   },
   {
    "duration": 58,
    "start_time": "2022-03-04T12:14:36.123Z"
   },
   {
    "duration": 3,
    "start_time": "2022-03-04T12:14:36.183Z"
   },
   {
    "duration": 31,
    "start_time": "2022-03-04T12:14:36.188Z"
   },
   {
    "duration": 4,
    "start_time": "2022-03-04T12:14:36.221Z"
   },
   {
    "duration": 31,
    "start_time": "2022-03-04T12:14:36.226Z"
   },
   {
    "duration": 14,
    "start_time": "2022-03-04T12:14:36.260Z"
   },
   {
    "duration": 4,
    "start_time": "2022-03-04T12:14:36.300Z"
   },
   {
    "duration": 10,
    "start_time": "2022-03-04T12:14:36.305Z"
   },
   {
    "duration": 16,
    "start_time": "2022-03-04T12:14:36.316Z"
   },
   {
    "duration": 10,
    "start_time": "2022-03-04T12:14:36.334Z"
   },
   {
    "duration": 4,
    "start_time": "2022-03-04T12:14:36.345Z"
   },
   {
    "duration": 8,
    "start_time": "2022-03-04T12:14:36.351Z"
   },
   {
    "duration": 55,
    "start_time": "2022-03-04T12:14:36.361Z"
   },
   {
    "duration": 137,
    "start_time": "2022-03-04T12:14:36.417Z"
   },
   {
    "duration": 2,
    "start_time": "2022-03-04T12:14:36.556Z"
   },
   {
    "duration": 244,
    "start_time": "2022-03-04T12:14:36.559Z"
   },
   {
    "duration": 98,
    "start_time": "2022-03-04T12:14:36.806Z"
   },
   {
    "duration": 261,
    "start_time": "2022-03-04T12:14:36.907Z"
   },
   {
    "duration": 14,
    "start_time": "2022-03-04T12:14:37.169Z"
   },
   {
    "duration": 19,
    "start_time": "2022-03-04T12:14:37.184Z"
   },
   {
    "duration": 534,
    "start_time": "2022-03-04T12:14:37.207Z"
   },
   {
    "duration": 384,
    "start_time": "2022-03-04T12:14:37.743Z"
   },
   {
    "duration": 9241,
    "start_time": "2022-03-04T12:14:38.129Z"
   },
   {
    "duration": 37768,
    "start_time": "2022-03-04T12:14:47.372Z"
   },
   {
    "duration": 3,
    "start_time": "2022-03-04T12:15:25.142Z"
   },
   {
    "duration": 26397,
    "start_time": "2022-03-04T12:15:25.147Z"
   },
   {
    "duration": 1297,
    "start_time": "2022-03-04T12:15:51.546Z"
   },
   {
    "duration": 3,
    "start_time": "2022-03-04T12:15:52.845Z"
   },
   {
    "duration": 285,
    "start_time": "2022-03-04T12:15:52.850Z"
   },
   {
    "duration": 236,
    "start_time": "2022-03-04T12:15:53.137Z"
   },
   {
    "duration": 5,
    "start_time": "2022-03-04T12:15:53.374Z"
   },
   {
    "duration": 394,
    "start_time": "2022-03-04T12:20:23.030Z"
   },
   {
    "duration": 1366,
    "start_time": "2022-03-04T12:25:08.113Z"
   },
   {
    "duration": 32,
    "start_time": "2022-03-04T12:25:09.481Z"
   },
   {
    "duration": 79,
    "start_time": "2022-03-04T12:25:09.515Z"
   },
   {
    "duration": 3,
    "start_time": "2022-03-04T12:25:09.601Z"
   },
   {
    "duration": 26,
    "start_time": "2022-03-04T12:25:09.606Z"
   },
   {
    "duration": 4,
    "start_time": "2022-03-04T12:25:09.634Z"
   },
   {
    "duration": 37,
    "start_time": "2022-03-04T12:25:09.640Z"
   },
   {
    "duration": 18,
    "start_time": "2022-03-04T12:25:09.701Z"
   },
   {
    "duration": 4,
    "start_time": "2022-03-04T12:25:09.721Z"
   },
   {
    "duration": 9,
    "start_time": "2022-03-04T12:25:09.727Z"
   },
   {
    "duration": 17,
    "start_time": "2022-03-04T12:25:09.738Z"
   },
   {
    "duration": 11,
    "start_time": "2022-03-04T12:25:09.757Z"
   },
   {
    "duration": 35,
    "start_time": "2022-03-04T12:25:09.769Z"
   },
   {
    "duration": 9,
    "start_time": "2022-03-04T12:25:09.806Z"
   },
   {
    "duration": 27,
    "start_time": "2022-03-04T12:25:09.816Z"
   },
   {
    "duration": 148,
    "start_time": "2022-03-04T12:25:09.844Z"
   },
   {
    "duration": 8,
    "start_time": "2022-03-04T12:25:09.993Z"
   },
   {
    "duration": 299,
    "start_time": "2022-03-04T12:25:10.003Z"
   },
   {
    "duration": 8,
    "start_time": "2022-03-04T12:25:10.304Z"
   },
   {
    "duration": 323,
    "start_time": "2022-03-04T12:25:10.314Z"
   },
   {
    "duration": 16,
    "start_time": "2022-03-04T12:25:10.639Z"
   },
   {
    "duration": 11,
    "start_time": "2022-03-04T12:25:10.657Z"
   },
   {
    "duration": 658,
    "start_time": "2022-03-04T12:25:10.671Z"
   },
   {
    "duration": 415,
    "start_time": "2022-03-04T12:25:11.331Z"
   },
   {
    "duration": 9235,
    "start_time": "2022-03-04T12:25:11.747Z"
   },
   {
    "duration": 37181,
    "start_time": "2022-03-04T12:25:20.983Z"
   },
   {
    "duration": 3,
    "start_time": "2022-03-04T12:25:58.165Z"
   },
   {
    "duration": 25817,
    "start_time": "2022-03-04T12:25:58.170Z"
   },
   {
    "duration": 1282,
    "start_time": "2022-03-04T12:26:23.988Z"
   },
   {
    "duration": 4,
    "start_time": "2022-03-04T12:26:25.272Z"
   },
   {
    "duration": 278,
    "start_time": "2022-03-04T12:26:25.278Z"
   },
   {
    "duration": 244,
    "start_time": "2022-03-04T12:26:25.557Z"
   },
   {
    "duration": 46,
    "start_time": "2022-03-05T06:50:26.296Z"
   },
   {
    "duration": 1143,
    "start_time": "2022-03-05T07:00:38.343Z"
   },
   {
    "duration": 24,
    "start_time": "2022-03-05T07:00:45.799Z"
   },
   {
    "duration": 65,
    "start_time": "2022-03-05T07:00:45.890Z"
   },
   {
    "duration": 4,
    "start_time": "2022-03-05T07:00:48.136Z"
   },
   {
    "duration": 20,
    "start_time": "2022-03-05T07:00:49.200Z"
   },
   {
    "duration": 5,
    "start_time": "2022-03-05T07:00:49.916Z"
   },
   {
    "duration": 35,
    "start_time": "2022-03-05T07:00:51.648Z"
   },
   {
    "duration": 19,
    "start_time": "2022-03-05T07:01:02.542Z"
   },
   {
    "duration": 228,
    "start_time": "2022-03-05T07:01:35.820Z"
   },
   {
    "duration": 4,
    "start_time": "2022-03-05T07:02:04.646Z"
   },
   {
    "duration": 9,
    "start_time": "2022-03-05T07:02:07.232Z"
   },
   {
    "duration": 29,
    "start_time": "2022-03-05T07:02:10.787Z"
   },
   {
    "duration": 29,
    "start_time": "2022-03-05T07:02:14.335Z"
   },
   {
    "duration": 30,
    "start_time": "2022-03-05T07:02:18.003Z"
   },
   {
    "duration": 17,
    "start_time": "2022-03-05T07:02:27.578Z"
   },
   {
    "duration": 38,
    "start_time": "2022-03-05T07:02:53.291Z"
   },
   {
    "duration": 38,
    "start_time": "2022-03-05T07:08:34.423Z"
   },
   {
    "duration": 6,
    "start_time": "2022-03-05T07:09:41.579Z"
   },
   {
    "duration": 4,
    "start_time": "2022-03-05T07:10:00.212Z"
   },
   {
    "duration": 25,
    "start_time": "2022-03-05T07:10:00.777Z"
   },
   {
    "duration": 76,
    "start_time": "2022-03-05T07:10:00.978Z"
   },
   {
    "duration": 4,
    "start_time": "2022-03-05T07:10:03.792Z"
   },
   {
    "duration": 22,
    "start_time": "2022-03-05T07:10:04.079Z"
   },
   {
    "duration": 5,
    "start_time": "2022-03-05T07:10:05.663Z"
   },
   {
    "duration": 36,
    "start_time": "2022-03-05T07:10:07.590Z"
   },
   {
    "duration": 18,
    "start_time": "2022-03-05T07:10:50.209Z"
   },
   {
    "duration": 12,
    "start_time": "2022-03-05T07:11:00.589Z"
   },
   {
    "duration": 4,
    "start_time": "2022-03-05T07:32:50.500Z"
   },
   {
    "duration": 9,
    "start_time": "2022-03-05T07:33:55.290Z"
   },
   {
    "duration": 8,
    "start_time": "2022-03-05T07:34:14.597Z"
   },
   {
    "duration": 46,
    "start_time": "2022-03-05T07:35:35.890Z"
   },
   {
    "duration": 47,
    "start_time": "2022-03-05T07:35:39.327Z"
   },
   {
    "duration": 65,
    "start_time": "2022-03-05T07:35:44.278Z"
   },
   {
    "duration": 44,
    "start_time": "2022-03-05T07:35:48.237Z"
   },
   {
    "duration": 568,
    "start_time": "2022-03-05T07:36:20.715Z"
   },
   {
    "duration": 8,
    "start_time": "2022-03-05T07:38:13.734Z"
   },
   {
    "duration": 11,
    "start_time": "2022-03-05T07:38:22.082Z"
   },
   {
    "duration": 171,
    "start_time": "2022-03-05T07:38:25.000Z"
   },
   {
    "duration": 8,
    "start_time": "2022-03-05T07:38:31.016Z"
   },
   {
    "duration": 8,
    "start_time": "2022-03-05T07:38:53.538Z"
   },
   {
    "duration": 9,
    "start_time": "2022-03-05T07:39:13.736Z"
   },
   {
    "duration": 84,
    "start_time": "2022-03-05T07:39:50.309Z"
   },
   {
    "duration": 8,
    "start_time": "2022-03-05T07:39:56.241Z"
   },
   {
    "duration": 391,
    "start_time": "2022-03-05T07:40:51.326Z"
   },
   {
    "duration": 9,
    "start_time": "2022-03-05T07:40:54.383Z"
   },
   {
    "duration": 39,
    "start_time": "2022-03-05T07:41:16.115Z"
   },
   {
    "duration": 4,
    "start_time": "2022-03-05T07:42:22.405Z"
   },
   {
    "duration": 150,
    "start_time": "2022-03-05T07:48:06.886Z"
   },
   {
    "duration": 5,
    "start_time": "2022-03-05T07:50:11.106Z"
   },
   {
    "duration": 32,
    "start_time": "2022-03-05T07:50:11.113Z"
   },
   {
    "duration": 62,
    "start_time": "2022-03-05T07:50:11.148Z"
   },
   {
    "duration": 3,
    "start_time": "2022-03-05T07:50:11.212Z"
   },
   {
    "duration": 23,
    "start_time": "2022-03-05T07:50:11.237Z"
   },
   {
    "duration": 7,
    "start_time": "2022-03-05T07:50:11.262Z"
   },
   {
    "duration": 40,
    "start_time": "2022-03-05T07:50:11.272Z"
   },
   {
    "duration": 42,
    "start_time": "2022-03-05T07:50:11.314Z"
   },
   {
    "duration": 410,
    "start_time": "2022-03-05T07:50:11.358Z"
   },
   {
    "duration": 4,
    "start_time": "2022-03-05T07:50:11.770Z"
   },
   {
    "duration": 14,
    "start_time": "2022-03-05T07:50:11.776Z"
   },
   {
    "duration": 144,
    "start_time": "2022-03-05T07:50:11.792Z"
   },
   {
    "duration": 23,
    "start_time": "2022-03-05T07:50:11.915Z"
   },
   {
    "duration": 21,
    "start_time": "2022-03-05T07:50:11.918Z"
   },
   {
    "duration": -1,
    "start_time": "2022-03-05T07:50:11.941Z"
   },
   {
    "duration": 33,
    "start_time": "2022-03-05T07:50:36.078Z"
   },
   {
    "duration": 21,
    "start_time": "2022-03-05T07:50:45.071Z"
   },
   {
    "duration": 34,
    "start_time": "2022-03-05T07:50:45.743Z"
   },
   {
    "duration": 28,
    "start_time": "2022-03-05T07:51:09.557Z"
   },
   {
    "duration": 138,
    "start_time": "2022-03-05T07:54:33.127Z"
   },
   {
    "duration": 145,
    "start_time": "2022-03-05T07:54:51.618Z"
   },
   {
    "duration": 3,
    "start_time": "2022-03-05T07:54:59.642Z"
   },
   {
    "duration": 389,
    "start_time": "2022-03-05T07:55:00.407Z"
   },
   {
    "duration": 306,
    "start_time": "2022-03-05T07:55:11.138Z"
   },
   {
    "duration": 264,
    "start_time": "2022-03-05T07:58:42.681Z"
   },
   {
    "duration": 198,
    "start_time": "2022-03-05T07:58:54.146Z"
   },
   {
    "duration": 287,
    "start_time": "2022-03-05T07:59:38.456Z"
   },
   {
    "duration": 152,
    "start_time": "2022-03-05T08:00:40.242Z"
   },
   {
    "duration": 151,
    "start_time": "2022-03-05T08:28:49.429Z"
   },
   {
    "duration": 132,
    "start_time": "2022-03-05T08:28:52.990Z"
   },
   {
    "duration": 135,
    "start_time": "2022-03-05T08:29:09.701Z"
   },
   {
    "duration": 4,
    "start_time": "2022-03-05T08:29:20.148Z"
   },
   {
    "duration": 34,
    "start_time": "2022-03-05T08:29:20.154Z"
   },
   {
    "duration": 72,
    "start_time": "2022-03-05T08:29:20.190Z"
   },
   {
    "duration": 3,
    "start_time": "2022-03-05T08:29:20.263Z"
   },
   {
    "duration": 26,
    "start_time": "2022-03-05T08:29:20.268Z"
   },
   {
    "duration": 5,
    "start_time": "2022-03-05T08:29:20.295Z"
   },
   {
    "duration": 60,
    "start_time": "2022-03-05T08:29:20.303Z"
   },
   {
    "duration": 19,
    "start_time": "2022-03-05T08:29:20.366Z"
   },
   {
    "duration": 422,
    "start_time": "2022-03-05T08:29:20.388Z"
   },
   {
    "duration": 5,
    "start_time": "2022-03-05T08:29:20.811Z"
   },
   {
    "duration": 14,
    "start_time": "2022-03-05T08:29:20.818Z"
   },
   {
    "duration": 34,
    "start_time": "2022-03-05T08:29:20.838Z"
   },
   {
    "duration": 16,
    "start_time": "2022-03-05T08:29:20.874Z"
   },
   {
    "duration": 60,
    "start_time": "2022-03-05T08:29:20.892Z"
   },
   {
    "duration": 27,
    "start_time": "2022-03-05T08:29:20.954Z"
   },
   {
    "duration": 162,
    "start_time": "2022-03-05T08:29:20.983Z"
   },
   {
    "duration": 2,
    "start_time": "2022-03-05T08:29:21.147Z"
   },
   {
    "duration": 290,
    "start_time": "2022-03-05T08:29:21.151Z"
   },
   {
    "duration": 97,
    "start_time": "2022-03-05T08:29:21.445Z"
   },
   {
    "duration": 350,
    "start_time": "2022-03-05T08:29:21.545Z"
   },
   {
    "duration": 147,
    "start_time": "2022-03-05T08:29:21.897Z"
   },
   {
    "duration": 148,
    "start_time": "2022-03-05T08:29:21.898Z"
   },
   {
    "duration": 145,
    "start_time": "2022-03-05T08:29:21.902Z"
   },
   {
    "duration": 141,
    "start_time": "2022-03-05T08:29:21.906Z"
   },
   {
    "duration": 138,
    "start_time": "2022-03-05T08:29:21.910Z"
   },
   {
    "duration": 117,
    "start_time": "2022-03-05T08:29:21.932Z"
   },
   {
    "duration": 114,
    "start_time": "2022-03-05T08:29:21.936Z"
   },
   {
    "duration": 111,
    "start_time": "2022-03-05T08:29:21.940Z"
   },
   {
    "duration": 108,
    "start_time": "2022-03-05T08:29:21.944Z"
   },
   {
    "duration": 105,
    "start_time": "2022-03-05T08:29:21.948Z"
   },
   {
    "duration": 84,
    "start_time": "2022-03-05T08:29:21.971Z"
   },
   {
    "duration": 81,
    "start_time": "2022-03-05T08:29:21.975Z"
   },
   {
    "duration": 79,
    "start_time": "2022-03-05T08:29:21.978Z"
   },
   {
    "duration": 5,
    "start_time": "2022-03-05T08:29:52.378Z"
   },
   {
    "duration": 34,
    "start_time": "2022-03-05T08:29:52.385Z"
   },
   {
    "duration": 64,
    "start_time": "2022-03-05T08:29:52.422Z"
   },
   {
    "duration": 3,
    "start_time": "2022-03-05T08:29:52.488Z"
   },
   {
    "duration": 46,
    "start_time": "2022-03-05T08:29:52.493Z"
   },
   {
    "duration": 5,
    "start_time": "2022-03-05T08:29:52.541Z"
   },
   {
    "duration": 43,
    "start_time": "2022-03-05T08:29:52.550Z"
   },
   {
    "duration": 19,
    "start_time": "2022-03-05T08:29:52.595Z"
   },
   {
    "duration": 417,
    "start_time": "2022-03-05T08:29:52.637Z"
   },
   {
    "duration": 5,
    "start_time": "2022-03-05T08:29:53.056Z"
   },
   {
    "duration": 16,
    "start_time": "2022-03-05T08:29:53.062Z"
   },
   {
    "duration": 64,
    "start_time": "2022-03-05T08:29:53.080Z"
   },
   {
    "duration": 18,
    "start_time": "2022-03-05T08:29:53.146Z"
   },
   {
    "duration": 30,
    "start_time": "2022-03-05T08:29:53.166Z"
   },
   {
    "duration": 57,
    "start_time": "2022-03-05T08:29:53.198Z"
   },
   {
    "duration": 170,
    "start_time": "2022-03-05T08:29:53.257Z"
   },
   {
    "duration": 10,
    "start_time": "2022-03-05T08:29:53.429Z"
   },
   {
    "duration": 298,
    "start_time": "2022-03-05T08:29:53.441Z"
   },
   {
    "duration": 97,
    "start_time": "2022-03-05T08:29:53.744Z"
   },
   {
    "duration": 267,
    "start_time": "2022-03-05T08:29:53.843Z"
   },
   {
    "duration": 28,
    "start_time": "2022-03-05T08:29:54.112Z"
   },
   {
    "duration": 14,
    "start_time": "2022-03-05T08:29:54.144Z"
   },
   {
    "duration": 746,
    "start_time": "2022-03-05T08:29:54.160Z"
   },
   {
    "duration": 574,
    "start_time": "2022-03-05T08:29:54.908Z"
   },
   {
    "duration": 10925,
    "start_time": "2022-03-05T08:29:55.483Z"
   },
   {
    "duration": 40693,
    "start_time": "2022-03-05T08:30:06.410Z"
   },
   {
    "duration": 3,
    "start_time": "2022-03-05T08:30:47.105Z"
   },
   {
    "duration": 27181,
    "start_time": "2022-03-05T08:30:47.109Z"
   },
   {
    "duration": 1453,
    "start_time": "2022-03-05T08:31:14.292Z"
   },
   {
    "duration": 4,
    "start_time": "2022-03-05T08:31:15.746Z"
   },
   {
    "duration": 297,
    "start_time": "2022-03-05T08:31:15.751Z"
   },
   {
    "duration": 258,
    "start_time": "2022-03-05T08:31:16.050Z"
   },
   {
    "duration": 12,
    "start_time": "2022-03-05T08:31:16.310Z"
   },
   {
    "duration": 131,
    "start_time": "2022-03-05T08:49:43.961Z"
   },
   {
    "duration": 169,
    "start_time": "2022-03-05T08:49:52.216Z"
   },
   {
    "duration": 290,
    "start_time": "2022-03-05T08:50:02.323Z"
   },
   {
    "duration": 208,
    "start_time": "2022-03-05T08:50:12.441Z"
   }
  ],
  "kernelspec": {
   "display_name": "Python 3.9.13 64-bit",
   "language": "python",
   "name": "python3"
  },
  "language_info": {
   "codemirror_mode": {
    "name": "ipython",
    "version": 3
   },
   "file_extension": ".py",
   "mimetype": "text/x-python",
   "name": "python",
   "nbconvert_exporter": "python",
   "pygments_lexer": "ipython3",
   "version": "3.9.13"
  },
  "toc": {
   "base_numbering": 1,
   "nav_menu": {},
   "number_sections": true,
   "sideBar": true,
   "skip_h1_title": true,
   "title_cell": "Содержание",
   "title_sidebar": "Contents",
   "toc_cell": true,
   "toc_position": {},
   "toc_section_display": true,
   "toc_window_display": true
  },
  "vscode": {
   "interpreter": {
    "hash": "aee8b7b246df8f9039afb4144a1f6fd8d2ca17a180786b69acc140d282b71a49"
   }
  }
 },
 "nbformat": 4,
 "nbformat_minor": 2
}
