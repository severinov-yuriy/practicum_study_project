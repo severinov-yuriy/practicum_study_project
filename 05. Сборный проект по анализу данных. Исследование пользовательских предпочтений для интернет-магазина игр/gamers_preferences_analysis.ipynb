{
 "cells": [
  {
   "cell_type": "markdown",
   "metadata": {},
   "source": [
    "# Исследование рынка игр и составление портрета пользователя\n",
    "\n",
    "Заказчик — интернет-магазин «Стримчик», который продаёт по всему миру компьютерные игры. Из открытых источников доступны исторические данные о продажах игр, оценки пользователей и экспертов, жанры и платформы (например, Xbox или PlayStation).\n",
    "\n",
    "\n",
    "Необходимо выявить определяющие успешность игры закономерности. Это позволит сделать ставку на потенциально популярный продукт и спланировать рекламные кампании.\n",
    "\n",
    "\n",
    "Даны данные до 2016 года. В наборе данных попадается аббревиатура ESRB (Entertainment Software Rating Board) — это ассоциация, определяющая возрастной рейтинг компьютерных игр. ESRB оценивает игровой контент и присваивает ему подходящую возрастную категорию, например, «Для взрослых», «Для детей младшего возраста» или «Для подростков».\n",
    "\n",
    "\n",
    "__Описание данных:__\n",
    "\n",
    "\n",
    "- `Name` — название игры\n",
    "- `Platform` — платформа\n",
    "- `Year_of_Release` — год выпуска\n",
    "- `Genre` — жанр игры\n",
    "- `NA_sales` — продажи в Северной Америке (миллионы проданных копий)\n",
    "- `EU_sales` — продажи в Европе (миллионы проданных копий)\n",
    "- `JP_sales` — продажи в Японии (миллионы проданных копий)\n",
    "- `Other_sales` — продажи в других странах (миллионы проданных копий)\n",
    "- `Critic_Score` — оценка критиков (максимум 100)\n",
    "- `User_Score` — оценка пользователей (максимум 10)\n",
    "- `Rating` — рейтинг от организации ESRB (англ. Entertainment Software Rating Board). Эта ассоциация определяет рейтинг компьютерных игр и присваивает им подходящую возрастную категорию."
   ]
  },
  {
   "cell_type": "markdown",
   "metadata": {},
   "source": [
    "__Цель исследования:__\n",
    "1. Провести исследовательский анализ данных.\n",
    "2. Составить портрет пользователя для каждого региона.\n",
    "3. Проверить гипотезы:\n",
    "    - Средние пользовательские рейтинги платформ Xbox One и PC одинаковые;\n",
    "    - Средние пользовательские рейтинги жанров Action и Sports разные.\n",
    "    \n",
    "__Ход исследования:__\n",
    " 1. Обзор данных:\n",
    " 2. Подготовка данных.\n",
    " 3. Исследовательский анализ.\n",
    " 4. Составление портрета пользователя\n",
    " 5. Проверка гипотез."
   ]
  },
  {
   "cell_type": "markdown",
   "metadata": {},
   "source": [
    "### Подготовка окружения\n",
    "Загрузим все библиотеки, требуемые для работы в ходе проекта в рамках одной ячейки."
   ]
  },
  {
   "cell_type": "code",
   "execution_count": 2,
   "metadata": {},
   "outputs": [],
   "source": [
    "import pandas as pd\n",
    "import numpy as np\n",
    "from scipy import stats as st\n",
    "import matplotlib.pyplot as plt\n",
    "import seaborn as sns"
   ]
  },
  {
   "cell_type": "markdown",
   "metadata": {},
   "source": [
    "---"
   ]
  },
  {
   "cell_type": "markdown",
   "metadata": {},
   "source": [
    "## Открытие файла с данными и изучение информации о данных <a class=\"anchor\" id=\"open\"></a>"
   ]
  },
  {
   "cell_type": "code",
   "execution_count": 4,
   "metadata": {},
   "outputs": [],
   "source": [
    "try:\n",
    "    games = pd.read_csv('/datasets/games.csv')\n",
    "except FileNotFoundError:\n",
    "    games = pd.read_csv('-') # Прямая ссылка на датасет удалена в связи с правилами публикации проектов"
   ]
  },
  {
   "cell_type": "markdown",
   "metadata": {},
   "source": [
    "Изучим информацию о данных. Выведем на экран первые пять строк таблицы, основную обзоную и статистическую информацию."
   ]
  },
  {
   "cell_type": "code",
   "execution_count": 5,
   "metadata": {},
   "outputs": [
    {
     "data": {
      "text/plain": [
       "Name                0.011965\n",
       "Platform            0.000000\n",
       "Year_of_Release     1.609333\n",
       "Genre               0.011965\n",
       "NA_sales            0.000000\n",
       "EU_sales            0.000000\n",
       "JP_sales            0.000000\n",
       "Other_sales         0.000000\n",
       "Critic_Score       51.319174\n",
       "User_Score         40.089740\n",
       "Rating             40.478612\n",
       "dtype: float64"
      ]
     },
     "execution_count": 5,
     "metadata": {},
     "output_type": "execute_result"
    }
   ],
   "source": [
    "games.isnull().sum() / games.shape[0] * 100"
   ]
  },
  {
   "cell_type": "code",
   "execution_count": 6,
   "metadata": {
    "scrolled": false
   },
   "outputs": [
    {
     "data": {
      "text/html": [
       "<div>\n",
       "<style scoped>\n",
       "    .dataframe tbody tr th:only-of-type {\n",
       "        vertical-align: middle;\n",
       "    }\n",
       "\n",
       "    .dataframe tbody tr th {\n",
       "        vertical-align: top;\n",
       "    }\n",
       "\n",
       "    .dataframe thead th {\n",
       "        text-align: right;\n",
       "    }\n",
       "</style>\n",
       "<table border=\"1\" class=\"dataframe\">\n",
       "  <thead>\n",
       "    <tr style=\"text-align: right;\">\n",
       "      <th></th>\n",
       "      <th>Name</th>\n",
       "      <th>Platform</th>\n",
       "      <th>Year_of_Release</th>\n",
       "      <th>Genre</th>\n",
       "      <th>NA_sales</th>\n",
       "      <th>EU_sales</th>\n",
       "      <th>JP_sales</th>\n",
       "      <th>Other_sales</th>\n",
       "      <th>Critic_Score</th>\n",
       "      <th>User_Score</th>\n",
       "      <th>Rating</th>\n",
       "    </tr>\n",
       "  </thead>\n",
       "  <tbody>\n",
       "    <tr>\n",
       "      <th>0</th>\n",
       "      <td>Wii Sports</td>\n",
       "      <td>Wii</td>\n",
       "      <td>2006.0</td>\n",
       "      <td>Sports</td>\n",
       "      <td>41.36</td>\n",
       "      <td>28.96</td>\n",
       "      <td>3.77</td>\n",
       "      <td>8.45</td>\n",
       "      <td>76.0</td>\n",
       "      <td>8</td>\n",
       "      <td>E</td>\n",
       "    </tr>\n",
       "    <tr>\n",
       "      <th>1</th>\n",
       "      <td>Super Mario Bros.</td>\n",
       "      <td>NES</td>\n",
       "      <td>1985.0</td>\n",
       "      <td>Platform</td>\n",
       "      <td>29.08</td>\n",
       "      <td>3.58</td>\n",
       "      <td>6.81</td>\n",
       "      <td>0.77</td>\n",
       "      <td>NaN</td>\n",
       "      <td>NaN</td>\n",
       "      <td>NaN</td>\n",
       "    </tr>\n",
       "    <tr>\n",
       "      <th>2</th>\n",
       "      <td>Mario Kart Wii</td>\n",
       "      <td>Wii</td>\n",
       "      <td>2008.0</td>\n",
       "      <td>Racing</td>\n",
       "      <td>15.68</td>\n",
       "      <td>12.76</td>\n",
       "      <td>3.79</td>\n",
       "      <td>3.29</td>\n",
       "      <td>82.0</td>\n",
       "      <td>8.3</td>\n",
       "      <td>E</td>\n",
       "    </tr>\n",
       "    <tr>\n",
       "      <th>3</th>\n",
       "      <td>Wii Sports Resort</td>\n",
       "      <td>Wii</td>\n",
       "      <td>2009.0</td>\n",
       "      <td>Sports</td>\n",
       "      <td>15.61</td>\n",
       "      <td>10.93</td>\n",
       "      <td>3.28</td>\n",
       "      <td>2.95</td>\n",
       "      <td>80.0</td>\n",
       "      <td>8</td>\n",
       "      <td>E</td>\n",
       "    </tr>\n",
       "    <tr>\n",
       "      <th>4</th>\n",
       "      <td>Pokemon Red/Pokemon Blue</td>\n",
       "      <td>GB</td>\n",
       "      <td>1996.0</td>\n",
       "      <td>Role-Playing</td>\n",
       "      <td>11.27</td>\n",
       "      <td>8.89</td>\n",
       "      <td>10.22</td>\n",
       "      <td>1.00</td>\n",
       "      <td>NaN</td>\n",
       "      <td>NaN</td>\n",
       "      <td>NaN</td>\n",
       "    </tr>\n",
       "  </tbody>\n",
       "</table>\n",
       "</div>"
      ],
      "text/plain": [
       "                       Name Platform  Year_of_Release         Genre  NA_sales  \\\n",
       "0                Wii Sports      Wii           2006.0        Sports     41.36   \n",
       "1         Super Mario Bros.      NES           1985.0      Platform     29.08   \n",
       "2            Mario Kart Wii      Wii           2008.0        Racing     15.68   \n",
       "3         Wii Sports Resort      Wii           2009.0        Sports     15.61   \n",
       "4  Pokemon Red/Pokemon Blue       GB           1996.0  Role-Playing     11.27   \n",
       "\n",
       "   EU_sales  JP_sales  Other_sales  Critic_Score User_Score Rating  \n",
       "0     28.96      3.77         8.45          76.0          8      E  \n",
       "1      3.58      6.81         0.77           NaN        NaN    NaN  \n",
       "2     12.76      3.79         3.29          82.0        8.3      E  \n",
       "3     10.93      3.28         2.95          80.0          8      E  \n",
       "4      8.89     10.22         1.00           NaN        NaN    NaN  "
      ]
     },
     "metadata": {},
     "output_type": "display_data"
    },
    {
     "name": "stdout",
     "output_type": "stream",
     "text": [
      "<class 'pandas.core.frame.DataFrame'>\n",
      "RangeIndex: 16715 entries, 0 to 16714\n",
      "Data columns (total 11 columns):\n",
      " #   Column           Non-Null Count  Dtype  \n",
      "---  ------           --------------  -----  \n",
      " 0   Name             16713 non-null  object \n",
      " 1   Platform         16715 non-null  object \n",
      " 2   Year_of_Release  16446 non-null  float64\n",
      " 3   Genre            16713 non-null  object \n",
      " 4   NA_sales         16715 non-null  float64\n",
      " 5   EU_sales         16715 non-null  float64\n",
      " 6   JP_sales         16715 non-null  float64\n",
      " 7   Other_sales      16715 non-null  float64\n",
      " 8   Critic_Score     8137 non-null   float64\n",
      " 9   User_Score       10014 non-null  object \n",
      " 10  Rating           9949 non-null   object \n",
      "dtypes: float64(6), object(5)\n",
      "memory usage: 1.4+ MB\n",
      "None\n",
      "Name               0.01%\n",
      "Platform           0.00%\n",
      "Year_of_Release    1.61%\n",
      "Genre              0.01%\n",
      "NA_sales           0.00%\n",
      "EU_sales           0.00%\n",
      "JP_sales           0.00%\n",
      "Other_sales        0.00%\n",
      "Critic_Score      51.32%\n",
      "User_Score        40.09%\n",
      "Rating            40.48%\n",
      "dtype: float64\n"
     ]
    },
    {
     "data": {
      "text/html": [
       "<div>\n",
       "<style scoped>\n",
       "    .dataframe tbody tr th:only-of-type {\n",
       "        vertical-align: middle;\n",
       "    }\n",
       "\n",
       "    .dataframe tbody tr th {\n",
       "        vertical-align: top;\n",
       "    }\n",
       "\n",
       "    .dataframe thead th {\n",
       "        text-align: right;\n",
       "    }\n",
       "</style>\n",
       "<table border=\"1\" class=\"dataframe\">\n",
       "  <thead>\n",
       "    <tr style=\"text-align: right;\">\n",
       "      <th></th>\n",
       "      <th>Year_of_Release</th>\n",
       "      <th>NA_sales</th>\n",
       "      <th>EU_sales</th>\n",
       "      <th>JP_sales</th>\n",
       "      <th>Other_sales</th>\n",
       "      <th>Critic_Score</th>\n",
       "    </tr>\n",
       "  </thead>\n",
       "  <tbody>\n",
       "    <tr>\n",
       "      <th>count</th>\n",
       "      <td>16,446.00</td>\n",
       "      <td>16,715.00</td>\n",
       "      <td>16,715.00</td>\n",
       "      <td>16,715.00</td>\n",
       "      <td>16,715.00</td>\n",
       "      <td>8,137.00</td>\n",
       "    </tr>\n",
       "    <tr>\n",
       "      <th>mean</th>\n",
       "      <td>2,006.48</td>\n",
       "      <td>0.26</td>\n",
       "      <td>0.15</td>\n",
       "      <td>0.08</td>\n",
       "      <td>0.05</td>\n",
       "      <td>68.97</td>\n",
       "    </tr>\n",
       "    <tr>\n",
       "      <th>std</th>\n",
       "      <td>5.88</td>\n",
       "      <td>0.81</td>\n",
       "      <td>0.50</td>\n",
       "      <td>0.31</td>\n",
       "      <td>0.19</td>\n",
       "      <td>13.94</td>\n",
       "    </tr>\n",
       "    <tr>\n",
       "      <th>min</th>\n",
       "      <td>1,980.00</td>\n",
       "      <td>0.00</td>\n",
       "      <td>0.00</td>\n",
       "      <td>0.00</td>\n",
       "      <td>0.00</td>\n",
       "      <td>13.00</td>\n",
       "    </tr>\n",
       "    <tr>\n",
       "      <th>25%</th>\n",
       "      <td>2,003.00</td>\n",
       "      <td>0.00</td>\n",
       "      <td>0.00</td>\n",
       "      <td>0.00</td>\n",
       "      <td>0.00</td>\n",
       "      <td>60.00</td>\n",
       "    </tr>\n",
       "    <tr>\n",
       "      <th>50%</th>\n",
       "      <td>2,007.00</td>\n",
       "      <td>0.08</td>\n",
       "      <td>0.02</td>\n",
       "      <td>0.00</td>\n",
       "      <td>0.01</td>\n",
       "      <td>71.00</td>\n",
       "    </tr>\n",
       "    <tr>\n",
       "      <th>75%</th>\n",
       "      <td>2,010.00</td>\n",
       "      <td>0.24</td>\n",
       "      <td>0.11</td>\n",
       "      <td>0.04</td>\n",
       "      <td>0.03</td>\n",
       "      <td>79.00</td>\n",
       "    </tr>\n",
       "    <tr>\n",
       "      <th>max</th>\n",
       "      <td>2,016.00</td>\n",
       "      <td>41.36</td>\n",
       "      <td>28.96</td>\n",
       "      <td>10.22</td>\n",
       "      <td>10.57</td>\n",
       "      <td>98.00</td>\n",
       "    </tr>\n",
       "  </tbody>\n",
       "</table>\n",
       "</div>"
      ],
      "text/plain": [
       "       Year_of_Release  NA_sales  EU_sales  JP_sales  Other_sales  \\\n",
       "count        16,446.00 16,715.00 16,715.00 16,715.00    16,715.00   \n",
       "mean          2,006.48      0.26      0.15      0.08         0.05   \n",
       "std               5.88      0.81      0.50      0.31         0.19   \n",
       "min           1,980.00      0.00      0.00      0.00         0.00   \n",
       "25%           2,003.00      0.00      0.00      0.00         0.00   \n",
       "50%           2,007.00      0.08      0.02      0.00         0.01   \n",
       "75%           2,010.00      0.24      0.11      0.04         0.03   \n",
       "max           2,016.00     41.36     28.96     10.22        10.57   \n",
       "\n",
       "       Critic_Score  \n",
       "count      8,137.00  \n",
       "mean          68.97  \n",
       "std           13.94  \n",
       "min           13.00  \n",
       "25%           60.00  \n",
       "50%           71.00  \n",
       "75%           79.00  \n",
       "max           98.00  "
      ]
     },
     "execution_count": 6,
     "metadata": {},
     "output_type": "execute_result"
    }
   ],
   "source": [
    "display(games.head())\n",
    "print(games.info())\n",
    "pd.options.display.float_format = '{:,.2%}'.format\n",
    "print(games.isnull().sum() / games.shape[0])\n",
    "pd.options.display.float_format = '{:,.2f}'.format\n",
    "games.describe()"
   ]
  },
  {
   "cell_type": "markdown",
   "metadata": {},
   "source": [
    "По результатам обзора данных можно сделать следующие наблюдения:\n",
    "1. В данных есть явные пропуски в столбцах `Name`, `Year_of_Release`, `Genre`, `Critic_Score`, `User_Score` и `Rating`.\n",
    "    - Так как добыть информацию об имени представленной игры не представляется возможным и таких пропусков только два, можно оставить эти строки без изменения. Названия игр не играют ключевой роли в исследовании, соответственно удалять такие игры для того что бы избежать искажения результатов нет смысла. \n",
    "    - Информацию о жанре можно найти в интернете, благо таких пропусков тоже два. \n",
    "    - Так как пропусков в столбце с годом релиза значительное количество, целесообразнее будет заполнить их средним значением для платформы выпуска. Искать в интернете информацию по такому большому пулу игр будет затруднительно. \n",
    "    - Заполнять значения рейтинга, оценки критиков и пользователей кажется неверным, так как пропусков очень много и любое, даже более-менее точное заполнение приведет к сильному искажению данных и результатов анализа.\n",
    "    \n",
    "    \n",
    "2. Значение года релиза хранится в несоответсвующем типе данных, необходимо будет изменить его на тип int. Знначение оценки пользователей также указано в строковом формате, необходимо будет перевести его в формат float.\n",
    "3. Есть игры, не проданные ни в одном из регионов. Их не менее 25%.\n",
    "4. Столбцы имеют несоответствующие названия, необходимо привести их к общему виду."
   ]
  },
  {
   "cell_type": "markdown",
   "metadata": {},
   "source": [
    "## Подготовка данных <a class=\"anchor\" id=\"prepare_data\"></a>\n"
   ]
  },
  {
   "cell_type": "markdown",
   "metadata": {},
   "source": [
    "### Постановка задачи <a class=\"anchor\" id=\"prepare_task\"></a>"
   ]
  },
  {
   "cell_type": "markdown",
   "metadata": {},
   "source": [
    "В рамках предобработки данных необходимо:\n",
    "\n",
    "1. Заменить названия столбцов. Привести к нижнему регистру.\n",
    "3. Обработать пропуски в столбцах:\n",
    "    - пропуски в столбце `Name` оставим без изменения, лишь изучим, какие игры остались без названия;\n",
    "    - пропуски в столбце `Year_of_Release` необходимо заменить на среднее значение по типу платформы, для которой создана игра. Замена именно по типу платформы связана с тем, что платформы устаревают и игры, выпущенные на них ограничены сроком продажи и поддержки самой платформы;\n",
    "    - пропуски в столбце `Genre` можно заполнить, найдя в интернете. Таких пропусков только два, поэтому это не трудоемкая задача;\n",
    "    - Пропуски в столбца `Critic_Score`, `User_Score` и `Rating` придется оставить без изменения, так как любые аппроксимации приведут к значительному искажению результатов анализа;\n",
    "2. Привести данные к необходимому типу:\n",
    "    - значения столбца `Year_of_Release` необходимо привести к типу int;\n",
    "    - значения столбца `User_Score` необходимо привести к типу float;\n",
    "4. Рассчитать суммарные продажи игр во всех регионах."
   ]
  },
  {
   "cell_type": "markdown",
   "metadata": {},
   "source": [
    "### Приведение названий столбцов к общему виду"
   ]
  },
  {
   "cell_type": "markdown",
   "metadata": {},
   "source": [
    "Сперва приведем названия столбцов к общему виду. Заменим названия столбцов на аналогичные в нижнем регистре."
   ]
  },
  {
   "cell_type": "code",
   "execution_count": 7,
   "metadata": {},
   "outputs": [
    {
     "data": {
      "text/plain": [
       "Index(['name', 'platform', 'year_of_release', 'genre', 'na_sales', 'eu_sales',\n",
       "       'jp_sales', 'other_sales', 'critic_score', 'user_score', 'rating'],\n",
       "      dtype='object')"
      ]
     },
     "execution_count": 7,
     "metadata": {},
     "output_type": "execute_result"
    }
   ],
   "source": [
    "games.columns = games.columns.str.lower()\n",
    "games.columns"
   ]
  },
  {
   "cell_type": "markdown",
   "metadata": {},
   "source": [
    "Лишних пробелов в названиях нет, названия унифицированы."
   ]
  },
  {
   "cell_type": "markdown",
   "metadata": {},
   "source": [
    "###  Обработка пропусков"
   ]
  },
  {
   "cell_type": "markdown",
   "metadata": {},
   "source": [
    "Обработаем пропуски в данных. Начнем с названия игры."
   ]
  },
  {
   "cell_type": "code",
   "execution_count": 8,
   "metadata": {},
   "outputs": [
    {
     "data": {
      "text/html": [
       "<div>\n",
       "<style scoped>\n",
       "    .dataframe tbody tr th:only-of-type {\n",
       "        vertical-align: middle;\n",
       "    }\n",
       "\n",
       "    .dataframe tbody tr th {\n",
       "        vertical-align: top;\n",
       "    }\n",
       "\n",
       "    .dataframe thead th {\n",
       "        text-align: right;\n",
       "    }\n",
       "</style>\n",
       "<table border=\"1\" class=\"dataframe\">\n",
       "  <thead>\n",
       "    <tr style=\"text-align: right;\">\n",
       "      <th></th>\n",
       "      <th>name</th>\n",
       "      <th>platform</th>\n",
       "      <th>year_of_release</th>\n",
       "      <th>genre</th>\n",
       "      <th>na_sales</th>\n",
       "      <th>eu_sales</th>\n",
       "      <th>jp_sales</th>\n",
       "      <th>other_sales</th>\n",
       "      <th>critic_score</th>\n",
       "      <th>user_score</th>\n",
       "      <th>rating</th>\n",
       "    </tr>\n",
       "  </thead>\n",
       "  <tbody>\n",
       "    <tr>\n",
       "      <th>659</th>\n",
       "      <td>NaN</td>\n",
       "      <td>GEN</td>\n",
       "      <td>1,993.00</td>\n",
       "      <td>NaN</td>\n",
       "      <td>1.78</td>\n",
       "      <td>0.53</td>\n",
       "      <td>0.00</td>\n",
       "      <td>0.08</td>\n",
       "      <td>NaN</td>\n",
       "      <td>NaN</td>\n",
       "      <td>NaN</td>\n",
       "    </tr>\n",
       "    <tr>\n",
       "      <th>14244</th>\n",
       "      <td>NaN</td>\n",
       "      <td>GEN</td>\n",
       "      <td>1,993.00</td>\n",
       "      <td>NaN</td>\n",
       "      <td>0.00</td>\n",
       "      <td>0.00</td>\n",
       "      <td>0.03</td>\n",
       "      <td>0.00</td>\n",
       "      <td>NaN</td>\n",
       "      <td>NaN</td>\n",
       "      <td>NaN</td>\n",
       "    </tr>\n",
       "  </tbody>\n",
       "</table>\n",
       "</div>"
      ],
      "text/plain": [
       "      name platform  year_of_release genre  na_sales  eu_sales  jp_sales  \\\n",
       "659    NaN      GEN         1,993.00   NaN      1.78      0.53      0.00   \n",
       "14244  NaN      GEN         1,993.00   NaN      0.00      0.00      0.03   \n",
       "\n",
       "       other_sales  critic_score user_score rating  \n",
       "659           0.08           NaN        NaN    NaN  \n",
       "14244         0.00           NaN        NaN    NaN  "
      ]
     },
     "execution_count": 8,
     "metadata": {},
     "output_type": "execute_result"
    }
   ],
   "source": [
    "games[games['name'].isna()]"
   ]
  },
  {
   "cell_type": "markdown",
   "metadata": {},
   "source": [
    "По играм есть информация о годе выпуска, платформе и продажах. Оставим данные без изменения. Также два пропущенных значения жанра как раз не указаны для этих игр. Их также оставим без изменения."
   ]
  },
  {
   "cell_type": "markdown",
   "metadata": {},
   "source": [
    "Так как пропуски в столбце с годом выпуска составляют незначительную долю от всех данных, удалим такие наблюдения."
   ]
  },
  {
   "cell_type": "code",
   "execution_count": 9,
   "metadata": {},
   "outputs": [],
   "source": [
    "games['year_of_release'].dropna(inplace=True)"
   ]
  },
  {
   "cell_type": "markdown",
   "metadata": {},
   "source": [
    "Проверим, все ли пропуски в годе выпуска были удалены."
   ]
  },
  {
   "cell_type": "code",
   "execution_count": 10,
   "metadata": {},
   "outputs": [
    {
     "data": {
      "text/plain": [
       "269"
      ]
     },
     "execution_count": 10,
     "metadata": {},
     "output_type": "execute_result"
    }
   ],
   "source": [
    "sum(games.year_of_release.isna())"
   ]
  },
  {
   "cell_type": "markdown",
   "metadata": {},
   "source": [
    "В столбце с годом релиза не осталось пропусков, все прочие пропуски целесообразно оставить без изменения."
   ]
  },
  {
   "cell_type": "markdown",
   "metadata": {},
   "source": [
    "### Изменение типа данных <a class=\"anchor\" id=\"change\"></a>"
   ]
  },
  {
   "cell_type": "markdown",
   "metadata": {},
   "source": [
    "Приведем типы данных в столбцах к нужным. Начнем со значений года релиза."
   ]
  },
  {
   "cell_type": "code",
   "execution_count": 11,
   "metadata": {},
   "outputs": [],
   "source": [
    "games['year_of_release'] = pd.to_numeric(games['year_of_release'], downcast='integer')"
   ]
  },
  {
   "cell_type": "markdown",
   "metadata": {},
   "source": [
    "Изучим значения в столбце пользовательских оценок. Так как pandas при прочтении файла автоматически определяет тип данных, а данные пользовательских оценок определены как строковый тип, вероятно в данных есть строковые значения."
   ]
  },
  {
   "cell_type": "code",
   "execution_count": 12,
   "metadata": {},
   "outputs": [
    {
     "data": {
      "text/plain": [
       "array(['8', nan, '8.3', '8.5', '6.6', '8.4', '8.6', '7.7', '6.3', '7.4',\n",
       "       '8.2', '9', '7.9', '8.1', '8.7', '7.1', '3.4', '5.3', '4.8', '3.2',\n",
       "       '8.9', '6.4', '7.8', '7.5', '2.6', '7.2', '9.2', '7', '7.3', '4.3',\n",
       "       '7.6', '5.7', '5', '9.1', '6.5', 'tbd', '8.8', '6.9', '9.4', '6.8',\n",
       "       '6.1', '6.7', '5.4', '4', '4.9', '4.5', '9.3', '6.2', '4.2', '6',\n",
       "       '3.7', '4.1', '5.8', '5.6', '5.5', '4.4', '4.6', '5.9', '3.9',\n",
       "       '3.1', '2.9', '5.2', '3.3', '4.7', '5.1', '3.5', '2.5', '1.9', '3',\n",
       "       '2.7', '2.2', '2', '9.5', '2.1', '3.6', '2.8', '1.8', '3.8', '0',\n",
       "       '1.6', '9.6', '2.4', '1.7', '1.1', '0.3', '1.5', '0.7', '1.2',\n",
       "       '2.3', '0.5', '1.3', '0.2', '0.6', '1.4', '0.9', '1', '9.7'],\n",
       "      dtype=object)"
      ]
     },
     "execution_count": 12,
     "metadata": {},
     "output_type": "execute_result"
    }
   ],
   "source": [
    "games['user_score'].unique()"
   ]
  },
  {
   "cell_type": "markdown",
   "metadata": {},
   "source": [
    "В данных действительно есть оценки, помеченные как \"tbd\". Часто такое сокращение используют в значении \"to be determined\". Изучим игры, которые имеют такую оценку."
   ]
  },
  {
   "cell_type": "code",
   "execution_count": 13,
   "metadata": {},
   "outputs": [
    {
     "data": {
      "text/html": [
       "<div>\n",
       "<style scoped>\n",
       "    .dataframe tbody tr th:only-of-type {\n",
       "        vertical-align: middle;\n",
       "    }\n",
       "\n",
       "    .dataframe tbody tr th {\n",
       "        vertical-align: top;\n",
       "    }\n",
       "\n",
       "    .dataframe thead th {\n",
       "        text-align: right;\n",
       "    }\n",
       "</style>\n",
       "<table border=\"1\" class=\"dataframe\">\n",
       "  <thead>\n",
       "    <tr style=\"text-align: right;\">\n",
       "      <th></th>\n",
       "      <th>name</th>\n",
       "      <th>platform</th>\n",
       "      <th>year_of_release</th>\n",
       "      <th>genre</th>\n",
       "      <th>na_sales</th>\n",
       "      <th>eu_sales</th>\n",
       "      <th>jp_sales</th>\n",
       "      <th>other_sales</th>\n",
       "      <th>critic_score</th>\n",
       "      <th>user_score</th>\n",
       "      <th>rating</th>\n",
       "    </tr>\n",
       "  </thead>\n",
       "  <tbody>\n",
       "    <tr>\n",
       "      <th>119</th>\n",
       "      <td>Zumba Fitness</td>\n",
       "      <td>Wii</td>\n",
       "      <td>2,010.00</td>\n",
       "      <td>Sports</td>\n",
       "      <td>3.45</td>\n",
       "      <td>2.59</td>\n",
       "      <td>0.00</td>\n",
       "      <td>0.66</td>\n",
       "      <td>NaN</td>\n",
       "      <td>tbd</td>\n",
       "      <td>E</td>\n",
       "    </tr>\n",
       "    <tr>\n",
       "      <th>301</th>\n",
       "      <td>Namco Museum: 50th Anniversary</td>\n",
       "      <td>PS2</td>\n",
       "      <td>2,005.00</td>\n",
       "      <td>Misc</td>\n",
       "      <td>2.08</td>\n",
       "      <td>1.35</td>\n",
       "      <td>0.00</td>\n",
       "      <td>0.54</td>\n",
       "      <td>61.00</td>\n",
       "      <td>tbd</td>\n",
       "      <td>E10+</td>\n",
       "    </tr>\n",
       "    <tr>\n",
       "      <th>520</th>\n",
       "      <td>Zumba Fitness 2</td>\n",
       "      <td>Wii</td>\n",
       "      <td>2,011.00</td>\n",
       "      <td>Sports</td>\n",
       "      <td>1.51</td>\n",
       "      <td>1.03</td>\n",
       "      <td>0.00</td>\n",
       "      <td>0.27</td>\n",
       "      <td>NaN</td>\n",
       "      <td>tbd</td>\n",
       "      <td>T</td>\n",
       "    </tr>\n",
       "    <tr>\n",
       "      <th>645</th>\n",
       "      <td>uDraw Studio</td>\n",
       "      <td>Wii</td>\n",
       "      <td>2,010.00</td>\n",
       "      <td>Misc</td>\n",
       "      <td>1.65</td>\n",
       "      <td>0.57</td>\n",
       "      <td>0.00</td>\n",
       "      <td>0.20</td>\n",
       "      <td>71.00</td>\n",
       "      <td>tbd</td>\n",
       "      <td>E</td>\n",
       "    </tr>\n",
       "    <tr>\n",
       "      <th>657</th>\n",
       "      <td>Frogger's Adventures: Temple of the Frog</td>\n",
       "      <td>GBA</td>\n",
       "      <td>NaN</td>\n",
       "      <td>Adventure</td>\n",
       "      <td>2.15</td>\n",
       "      <td>0.18</td>\n",
       "      <td>0.00</td>\n",
       "      <td>0.07</td>\n",
       "      <td>73.00</td>\n",
       "      <td>tbd</td>\n",
       "      <td>E</td>\n",
       "    </tr>\n",
       "    <tr>\n",
       "      <th>...</th>\n",
       "      <td>...</td>\n",
       "      <td>...</td>\n",
       "      <td>...</td>\n",
       "      <td>...</td>\n",
       "      <td>...</td>\n",
       "      <td>...</td>\n",
       "      <td>...</td>\n",
       "      <td>...</td>\n",
       "      <td>...</td>\n",
       "      <td>...</td>\n",
       "      <td>...</td>\n",
       "    </tr>\n",
       "    <tr>\n",
       "      <th>16695</th>\n",
       "      <td>Planet Monsters</td>\n",
       "      <td>GBA</td>\n",
       "      <td>2,001.00</td>\n",
       "      <td>Action</td>\n",
       "      <td>0.01</td>\n",
       "      <td>0.00</td>\n",
       "      <td>0.00</td>\n",
       "      <td>0.00</td>\n",
       "      <td>67.00</td>\n",
       "      <td>tbd</td>\n",
       "      <td>E</td>\n",
       "    </tr>\n",
       "    <tr>\n",
       "      <th>16697</th>\n",
       "      <td>Bust-A-Move 3000</td>\n",
       "      <td>GC</td>\n",
       "      <td>2,003.00</td>\n",
       "      <td>Puzzle</td>\n",
       "      <td>0.01</td>\n",
       "      <td>0.00</td>\n",
       "      <td>0.00</td>\n",
       "      <td>0.00</td>\n",
       "      <td>53.00</td>\n",
       "      <td>tbd</td>\n",
       "      <td>E</td>\n",
       "    </tr>\n",
       "    <tr>\n",
       "      <th>16698</th>\n",
       "      <td>Mega Brain Boost</td>\n",
       "      <td>DS</td>\n",
       "      <td>2,008.00</td>\n",
       "      <td>Puzzle</td>\n",
       "      <td>0.01</td>\n",
       "      <td>0.00</td>\n",
       "      <td>0.00</td>\n",
       "      <td>0.00</td>\n",
       "      <td>48.00</td>\n",
       "      <td>tbd</td>\n",
       "      <td>E</td>\n",
       "    </tr>\n",
       "    <tr>\n",
       "      <th>16704</th>\n",
       "      <td>Plushees</td>\n",
       "      <td>DS</td>\n",
       "      <td>2,008.00</td>\n",
       "      <td>Simulation</td>\n",
       "      <td>0.01</td>\n",
       "      <td>0.00</td>\n",
       "      <td>0.00</td>\n",
       "      <td>0.00</td>\n",
       "      <td>NaN</td>\n",
       "      <td>tbd</td>\n",
       "      <td>E</td>\n",
       "    </tr>\n",
       "    <tr>\n",
       "      <th>16706</th>\n",
       "      <td>Men in Black II: Alien Escape</td>\n",
       "      <td>GC</td>\n",
       "      <td>2,003.00</td>\n",
       "      <td>Shooter</td>\n",
       "      <td>0.01</td>\n",
       "      <td>0.00</td>\n",
       "      <td>0.00</td>\n",
       "      <td>0.00</td>\n",
       "      <td>NaN</td>\n",
       "      <td>tbd</td>\n",
       "      <td>T</td>\n",
       "    </tr>\n",
       "  </tbody>\n",
       "</table>\n",
       "<p>2424 rows × 11 columns</p>\n",
       "</div>"
      ],
      "text/plain": [
       "                                           name platform  year_of_release  \\\n",
       "119                               Zumba Fitness      Wii         2,010.00   \n",
       "301              Namco Museum: 50th Anniversary      PS2         2,005.00   \n",
       "520                             Zumba Fitness 2      Wii         2,011.00   \n",
       "645                                uDraw Studio      Wii         2,010.00   \n",
       "657    Frogger's Adventures: Temple of the Frog      GBA              NaN   \n",
       "...                                         ...      ...              ...   \n",
       "16695                           Planet Monsters      GBA         2,001.00   \n",
       "16697                          Bust-A-Move 3000       GC         2,003.00   \n",
       "16698                          Mega Brain Boost       DS         2,008.00   \n",
       "16704                                  Plushees       DS         2,008.00   \n",
       "16706             Men in Black II: Alien Escape       GC         2,003.00   \n",
       "\n",
       "            genre  na_sales  eu_sales  jp_sales  other_sales  critic_score  \\\n",
       "119        Sports      3.45      2.59      0.00         0.66           NaN   \n",
       "301          Misc      2.08      1.35      0.00         0.54         61.00   \n",
       "520        Sports      1.51      1.03      0.00         0.27           NaN   \n",
       "645          Misc      1.65      0.57      0.00         0.20         71.00   \n",
       "657     Adventure      2.15      0.18      0.00         0.07         73.00   \n",
       "...           ...       ...       ...       ...          ...           ...   \n",
       "16695      Action      0.01      0.00      0.00         0.00         67.00   \n",
       "16697      Puzzle      0.01      0.00      0.00         0.00         53.00   \n",
       "16698      Puzzle      0.01      0.00      0.00         0.00         48.00   \n",
       "16704  Simulation      0.01      0.00      0.00         0.00           NaN   \n",
       "16706     Shooter      0.01      0.00      0.00         0.00           NaN   \n",
       "\n",
       "      user_score rating  \n",
       "119          tbd      E  \n",
       "301          tbd   E10+  \n",
       "520          tbd      T  \n",
       "645          tbd      E  \n",
       "657          tbd      E  \n",
       "...          ...    ...  \n",
       "16695        tbd      E  \n",
       "16697        tbd      E  \n",
       "16698        tbd      E  \n",
       "16704        tbd      E  \n",
       "16706        tbd      T  \n",
       "\n",
       "[2424 rows x 11 columns]"
      ]
     },
     "execution_count": 13,
     "metadata": {},
     "output_type": "execute_result"
    }
   ],
   "source": [
    "games[games['user_score'] == 'tbd']"
   ]
  },
  {
   "cell_type": "markdown",
   "metadata": {},
   "source": [
    "В выборке представлены как старые, так и более-менее новые игры, с ненулевыми продажами и имеющимся рейтингом и отзывами критиков. Вероятно такие игры имеют недостаточное количество отзывов от пользователей, что бы определить точный рейтинг. Заменим такие значения на пустые и будем считать, что оценку пользователи пока не выставили."
   ]
  },
  {
   "cell_type": "code",
   "execution_count": 14,
   "metadata": {},
   "outputs": [],
   "source": [
    "games['user_score'] = games['user_score'].replace('tbd', np.NaN)"
   ]
  },
  {
   "cell_type": "markdown",
   "metadata": {},
   "source": [
    "Изменим тип данных в столбце на вещественный"
   ]
  },
  {
   "cell_type": "code",
   "execution_count": 15,
   "metadata": {},
   "outputs": [],
   "source": [
    "games['user_score'] = pd.to_numeric(games['user_score'])"
   ]
  },
  {
   "cell_type": "markdown",
   "metadata": {},
   "source": [
    "Проверим, в обоих ли столбца тип данных был изменен."
   ]
  },
  {
   "cell_type": "code",
   "execution_count": 16,
   "metadata": {},
   "outputs": [
    {
     "name": "stdout",
     "output_type": "stream",
     "text": [
      "<class 'pandas.core.frame.DataFrame'>\n",
      "RangeIndex: 16715 entries, 0 to 16714\n",
      "Data columns (total 11 columns):\n",
      " #   Column           Non-Null Count  Dtype  \n",
      "---  ------           --------------  -----  \n",
      " 0   name             16713 non-null  object \n",
      " 1   platform         16715 non-null  object \n",
      " 2   year_of_release  16446 non-null  float64\n",
      " 3   genre            16713 non-null  object \n",
      " 4   na_sales         16715 non-null  float64\n",
      " 5   eu_sales         16715 non-null  float64\n",
      " 6   jp_sales         16715 non-null  float64\n",
      " 7   other_sales      16715 non-null  float64\n",
      " 8   critic_score     8137 non-null   float64\n",
      " 9   user_score       7590 non-null   float64\n",
      " 10  rating           9949 non-null   object \n",
      "dtypes: float64(7), object(4)\n",
      "memory usage: 1.4+ MB\n"
     ]
    }
   ],
   "source": [
    "games.info()"
   ]
  },
  {
   "cell_type": "markdown",
   "metadata": {},
   "source": [
    "Теперь значения года выпуска хранятся в целочисленном типе данных, а значения пользовательской оценки в вещественном."
   ]
  },
  {
   "cell_type": "markdown",
   "metadata": {},
   "source": [
    "### Расчёты <a class=\"anchor\" id=\"calculations\"></a>\n"
   ]
  },
  {
   "cell_type": "markdown",
   "metadata": {},
   "source": [
    "Суммируем значения продаж в различных регионах и запишем в отдельный столбец."
   ]
  },
  {
   "cell_type": "code",
   "execution_count": 17,
   "metadata": {},
   "outputs": [],
   "source": [
    "games['total_sales'] = games[['na_sales', 'eu_sales', 'jp_sales', 'other_sales']].sum(axis=1)"
   ]
  },
  {
   "cell_type": "markdown",
   "metadata": {},
   "source": [
    "### Вывод <a class=\"anchor\" id=\"prepare_conclusion\"></a>\n"
   ]
  },
  {
   "cell_type": "markdown",
   "metadata": {},
   "source": [
    "Вся необходимая предобработка для дальнейшего анализа проведена, можем переходить к исследовательскому анализу данных."
   ]
  },
  {
   "cell_type": "markdown",
   "metadata": {},
   "source": [
    "## Исследовательский анализ данных <a class=\"anchor\" id=\"eda_part\"></a>\n"
   ]
  },
  {
   "cell_type": "markdown",
   "metadata": {},
   "source": [
    "### Постановка задачи <a class=\"anchor\" id=\"eda_task\"></a>"
   ]
  },
  {
   "cell_type": "markdown",
   "metadata": {},
   "source": [
    "В рамках исследовательского анализа данных необходимо ответить на следующие вопросы:\n",
    "\n",
    "- оценить количество игр, выпускавшихся по годам. Оценить необходимость включения данных по играм, выпущенным в каждый период в дальнейший анализ;\n",
    "- оценить динамику продаж игр в завимости от платформы. Выбрать наиболее популярные платформы и оценить жизненный цикл платформы;\n",
    "- сформировать пул данных, которые позволят спрогнозировать спрос на игры на 2017 год;\n",
    "- оценить текущую тенденцию на рынке и выделить лидирующие, растущие и падающие в продажах платформы;\n",
    "- оценить распределение и статистические показатели продаж игр по платформам;\n",
    "- оценить зависимость продаж игр в зависимости от отзывов критиков и зрителей в рамках одной платформы;\n",
    "- изучить распределение игр по жанрам уровень продаж игры в зависимости от жанра."
   ]
  },
  {
   "cell_type": "markdown",
   "metadata": {},
   "source": [
    "### Исследовательский анализ данных\n"
   ]
  },
  {
   "cell_type": "markdown",
   "metadata": {},
   "source": [
    "#### Количество игр по годам\n"
   ]
  },
  {
   "cell_type": "markdown",
   "metadata": {},
   "source": [
    "Изучим данные о количестве игр, выпускаемых по годам."
   ]
  },
  {
   "cell_type": "code",
   "execution_count": 18,
   "metadata": {},
   "outputs": [
    {
     "data": {
      "text/plain": [
       "<function matplotlib.pyplot.show(close=None, block=None)>"
      ]
     },
     "execution_count": 18,
     "metadata": {},
     "output_type": "execute_result"
    },
    {
     "data": {
      "image/png": "[encoded data removed]",
      "text/plain": [
       "<Figure size 432x288 with 1 Axes>"
      ]
     },
     "metadata": {
      "needs_background": "light"
     },
     "output_type": "display_data"
    }
   ],
   "source": [
    "games['year_of_release'].hist(bins=37).set(xlabel=\"Year of Release\", ylabel=\"Frequency, games\", title='Number of games by year')\n",
    "plt.show"
   ]
  },
  {
   "cell_type": "markdown",
   "metadata": {},
   "source": [
    "По графику видно, что выпуск игр стабильно рос до 2008 года, после чеего резко упал и теперь находится на условном \"плато\". Вероятнее всего это было вызвано кризисом 2008 года, в который, на фоне резкого снижения уровня доходов, больше всего пострадали как раз индустрии развлечений - игры, кино и прочие.\n",
    "\n",
    "\n",
    "Игры, выпущенные до 1990 года составляют совсем незначительную долю от всех игр. На данном этапе отбрасывать игры на основании года выпуска нецелесообразно, так как в дальнейшем более старые игры для неактуальных уже платформ будут исключены из анализа за счет исключения старых платформ."
   ]
  },
  {
   "cell_type": "markdown",
   "metadata": {},
   "source": [
    "#### Динамика продаж по платформе\n"
   ]
  },
  {
   "cell_type": "markdown",
   "metadata": {},
   "source": [
    "Также изучим динамику продаж игр в зависимости от платформы, для которой игра выпущена. Построим график изменения средней цены по годам для платформ."
   ]
  },
  {
   "cell_type": "code",
   "execution_count": 19,
   "metadata": {
    "scrolled": false
   },
   "outputs": [
    {
     "data": {
      "image/png": "[encoded data removed]",
      "text/plain": [
       "<Figure size 432x288 with 1 Axes>"
      ]
     },
     "metadata": {
      "needs_background": "light"
     },
     "output_type": "display_data"
    }
   ],
   "source": [
    "platform_dinamic = games.pivot_table(columns='platform', index='year_of_release', values='total_sales', aggfunc='sum')\n",
    "palette = plt.get_cmap('flag')\n",
    "num = 32\n",
    "for column in platform_dinamic:\n",
    "    num -= 1\n",
    "    plt.plot(platform_dinamic.index, platform_dinamic[column], color=palette(num))\n",
    "plt.xlabel('Year')\n",
    "plt.ylabel('Sales, mln $')\n",
    "plt.title('Number of games by platform')\n",
    "plt.legend(platform_dinamic.columns, ncol=2, bbox_to_anchor=(1, 1.05))\n",
    "plt.xticks(range(1980, 2017, 3))\n",
    "plt.show()"
   ]
  },
  {
   "cell_type": "markdown",
   "metadata": {},
   "source": [
    "Судя по графику срок жизни платформы составляет около 10-15 лет. Это неудивительно, учитывая, с какой скоростью проходит прогресс на игровом рынке.\n",
    "\n",
    "\n",
    "Будем считать, что актуальный период - с 2014 года. Так как игровая индустрия меняется очень динамично, брать данные за более дальние периоды нецелесообразно. К 2017 году большинство платформ, представленных ранее в анализе уже не поддерживаются - игры на них не выпускаются, поэтому они избыточны для целей нашего исследования. Кроме этого старые данные не показывают текущее положение вещей на рынке, по ним нельяза оценить актуальные тенденции."
   ]
  },
  {
   "cell_type": "markdown",
   "metadata": {},
   "source": [
    "Отбросим данные за период с 2014 года."
   ]
  },
  {
   "cell_type": "code",
   "execution_count": 20,
   "metadata": {},
   "outputs": [],
   "source": [
    "games = games[games['year_of_release'] >= 2014]"
   ]
  },
  {
   "cell_type": "markdown",
   "metadata": {},
   "source": [
    "Построим график с обновленныими данными - только играми, младше 2014 года."
   ]
  },
  {
   "cell_type": "code",
   "execution_count": 21,
   "metadata": {},
   "outputs": [
    {
     "data": {
      "image/png": "[encoded data removed]",
      "text/plain": [
       "<Figure size 432x288 with 1 Axes>"
      ]
     },
     "metadata": {
      "needs_background": "light"
     },
     "output_type": "display_data"
    }
   ],
   "source": [
    "platform_dinamic = games.pivot_table(columns='platform', index='year_of_release', values='total_sales', aggfunc='sum')\n",
    "palette = plt.get_cmap('Set3')\n",
    "num = 0\n",
    "for column in platform_dinamic:\n",
    "    num += 1\n",
    "    plt.plot(platform_dinamic.index, platform_dinamic[column], color=palette(num))\n",
    "plt.xlabel('Year')\n",
    "plt.ylabel('Sales, mln $')\n",
    "plt.xticks((2014, 2015, 2016))\n",
    "plt.title('Number of games by platform')\n",
    "plt.legend(platform_dinamic.columns, loc='center left', bbox_to_anchor=(1, 0.5))\n",
    "plt.show()"
   ]
  },
  {
   "cell_type": "markdown",
   "metadata": {},
   "source": [
    "По графику можно сказать, что лидирующими на данный момент платформами являются Xbox One и Playstation 4. Также только они показали рост в 2015 году к 2014 году. Остальные платформы и не показывают рост и не являются лидерами по продажам. Все еще довольно популярной платформой является Nintendo 3DS, однако ее продажи падают.\n",
    "\n",
    "Судя по спаду по всем платформам, даже растущим, данные за 2016 год очень неполны, вероятно данные есть только за первые полгода."
   ]
  },
  {
   "cell_type": "markdown",
   "metadata": {},
   "source": [
    "#### Анализ продаж актуальных платформ\n"
   ]
  },
  {
   "cell_type": "markdown",
   "metadata": {},
   "source": [
    "Для дальнейшего анализа возьмем пять актуальных на данный момент платформ, с наибольшими продажами на 2015 год. 2015 год в дальнейшем анализе будем брать как наиболее репрезентативный по продажам. Так как данные за 2016 год неполны, они могут показывать искаженную картину ситуации на рынке."
   ]
  },
  {
   "cell_type": "code",
   "execution_count": 22,
   "metadata": {},
   "outputs": [],
   "source": [
    "top_platform = list(platform_dinamic.loc[2015,].sort_values(ascending=False).head().index)\n",
    "actual_games = games[games['platform'].isin(top_platform)]"
   ]
  },
  {
   "cell_type": "markdown",
   "metadata": {},
   "source": [
    "Построим \"боксплот\" для этих пяти платформ."
   ]
  },
  {
   "cell_type": "code",
   "execution_count": 23,
   "metadata": {},
   "outputs": [
    {
     "data": {
      "image/png": "[encoded data removed]",
      "text/plain": [
       "<Figure size 432x288 with 1 Axes>"
      ]
     },
     "metadata": {
      "needs_background": "light"
     },
     "output_type": "display_data"
    }
   ],
   "source": [
    "actual_games.pivot_table(columns='platform', index='name', values='total_sales', aggfunc='sum').plot(kind='box', title='Games sales by platforms distribution')\n",
    "plt.ylim(-0.5, 3.5)\n",
    "plt.ylabel('Sales, mln $')\n",
    "plt.show()"
   ]
  },
  {
   "cell_type": "markdown",
   "metadata": {},
   "source": [
    "На графике отчетливо видно, что среднее значение для каждой платформы больше медианного, есть жирные \"хвосты\" в большую сторону - некоторые игры приносят значительные деньги, продаваясь огромными тиражами, тогда как большая часть продается ограниченным тиражом. Распределения Xbox One, Playstation 3 и 4 достаточно похожи, продажи игр для 3DS и WiiU в среднем ниже."
   ]
  },
  {
   "cell_type": "markdown",
   "metadata": {},
   "source": [
    "#### Анализ продаж в зависимости от оценок критиков и пользователей\n"
   ]
  },
  {
   "cell_type": "markdown",
   "metadata": {},
   "source": [
    "Рассмотрим влияние отзывов критиков и игроков на продажи игр в зависимости от платформы."
   ]
  },
  {
   "cell_type": "code",
   "execution_count": 24,
   "metadata": {},
   "outputs": [
    {
     "data": {
      "text/plain": [
       "<Figure size 432x288 with 0 Axes>"
      ]
     },
     "metadata": {},
     "output_type": "display_data"
    },
    {
     "data": {
      "image/png": "[encoded data removed]",
      "text/plain": [
       "<Figure size 1080x1800 with 10 Axes>"
      ]
     },
     "metadata": {
      "needs_background": "light"
     },
     "output_type": "display_data"
    }
   ],
   "source": [
    "num = 0\n",
    "\n",
    "figure = plt.figure()\n",
    "figure, axes = plt.subplots(ncols=2, nrows=5, sharex=False, sharey=False, figsize=(15,25))\n",
    "\n",
    "for platform in top_platform:\n",
    "    axes[num][0].scatter(actual_games[actual_games['platform'] == platform]['critic_score'],actual_games[actual_games['platform'] == platform]['total_sales'])\n",
    "    axes[num][0].set_title(platform)\n",
    "    axes[num][0].set_xlabel('Critic Score')\n",
    "    axes[num][0].set_ylabel('Sales, mln')\n",
    "    axes[num][1].scatter(actual_games[actual_games['platform'] == platform]['user_score'], actual_games[actual_games['platform'] == platform]['total_sales'])\n",
    "    axes[num][1].set_title(platform)\n",
    "    axes[num][1].set_xlabel('User Score')\n",
    "    axes[num][0].set_ylabel('Sales, mln')\n",
    "    num += 1\n",
    "\n",
    "plt.show()"
   ]
  },
  {
   "cell_type": "markdown",
   "metadata": {},
   "source": [
    "На графике видна средняя зависимость продаж игр в штуках от пользовательских оценок и оценок критиков. Однако зависимость от пользовательских оценок слабее для платформ Playstation 3 и 4 и для Xbox One. Посчитаем корреляцию между значениями пользовательских оценок и оценок критиков и продажами."
   ]
  },
  {
   "cell_type": "code",
   "execution_count": 25,
   "metadata": {},
   "outputs": [
    {
     "name": "stdout",
     "output_type": "stream",
     "text": [
      "Корелляция для платформы PS4: между отзывами критиков и продажами - 0.40, между отзывами пользователей и продажами - -0.04\n",
      "Корелляция для платформы XOne: между отзывами критиков и продажами - 0.43, между отзывами пользователей и продажами - -0.07\n",
      "Корелляция для платформы 3DS: между отзывами критиков и продажами - 0.31, между отзывами пользователей и продажами - 0.22\n",
      "Корелляция для платформы PS3: между отзывами критиков и продажами - 0.45, между отзывами пользователей и продажами - -0.17\n",
      "Корелляция для платформы WiiU: между отзывами критиков и продажами - 0.37, между отзывами пользователей и продажами - 0.41\n"
     ]
    }
   ],
   "source": [
    "for platform in top_platform:\n",
    "    print('Корелляция для платформы ',\n",
    "          platform,\n",
    "          ': между отзывами критиков и продажами - ',\n",
    "          '{:.2f}'.format(actual_games[actual_games['platform'] == platform]['critic_score'].corr(actual_games[actual_games['platform'] == platform]['total_sales'])),\n",
    "          ', между отзывами пользователей и продажами - ',\n",
    "          '{:.2f}'.format(actual_games[actual_games['platform'] == platform]['user_score'].corr(actual_games[actual_games['platform'] == platform]['total_sales'])), sep='')\n"
   ]
  },
  {
   "cell_type": "markdown",
   "metadata": {},
   "source": [
    "Корреляция между отзывами критиков и продажами присутствует, однако выражена средне. Зависимость для платформ Playstation 3 и 4 и для Xbox One выражена сильнее. Как было упомянуто зависимость между оценками пользователей и продажами для платформ Nintendo сильнее, чем для прочих."
   ]
  },
  {
   "cell_type": "markdown",
   "metadata": {},
   "source": [
    "#### Выявление прибыльных жанров\n"
   ]
  },
  {
   "cell_type": "markdown",
   "metadata": {},
   "source": [
    "Посмотрим на распределение продаж игр по жанрам. Будем рассматривать данные только для актуальных платформ, так как для устаревших платформ жанровые предпочтения пользователей будут другие в силу технических ограничений платформ и их ориентированности на те или иные жанры.\n",
    "\n",
    "Построим боксплот для распределений продаж игр в зависимости от жанра. Отсортируем по средним продажам для жанра."
   ]
  },
  {
   "cell_type": "code",
   "execution_count": 26,
   "metadata": {},
   "outputs": [
    {
     "data": {
      "image/png": "[encoded data removed]",
      "text/plain": [
       "<Figure size 1152x360 with 1 Axes>"
      ]
     },
     "metadata": {
      "needs_background": "light"
     },
     "output_type": "display_data"
    }
   ],
   "source": [
    "(\n",
    "    actual_games.pivot_table(columns='genre', index='name', values='total_sales', aggfunc='mean', margins=True)\n",
    "    .sort_values(by='All', axis=1, ascending=False)\n",
    "    .drop('All', axis=1)\n",
    "    .plot(kind='box', title='Sales by genre distribution', figsize=(16, 5))\n",
    ")\n",
    "\n",
    "plt.ylim(0, 6)\n",
    "plt.ylabel('Sales, mln $')\n",
    "plt.show()"
   ]
  },
  {
   "cell_type": "markdown",
   "metadata": {},
   "source": [
    "Наиболее прибыльный жанр - Shooter - именно он показывает наиболее высокие показатели средних продаж, на втором месте -  спортивные симуляторы. Ролевые симуляторы на третьем месте. Наименее популярны у игроков на консолях стратегии, пазлы и adventure игры, что неудивительно, учитывая неудобство игры в такие игры на консолях. Стратегии как правило ориентированы на ПК пользователей, головоломки - на мобильные платформы.\n",
    "\n",
    "В жанрах Action, Racing и Platform выходит большое количество игр, но средние продажи таких игр невысоки."
   ]
  },
  {
   "cell_type": "markdown",
   "metadata": {},
   "source": [
    "### Вывод <a class=\"anchor\" id=\"eda_conclusion\"></a>\n"
   ]
  },
  {
   "cell_type": "markdown",
   "metadata": {},
   "source": [
    "На данный момент есть только несколько платформ, которые занимают лидирующие места по количеству издаваемых в год игр. Это PS3, PS4, XOne, 3DS, WiiU. При этом платформы PS3, 3DS и WiiU сдают позиции, показывая снижение объема выпуска, а PS4 и XOne наращивают продажи. Для прогнозирования спроса на игры на будущие периоды стоит рассматривать именно эти пять платформ, ожидая от PS4 и XOne роста доли на рынке, а от прочих - снижения.\n",
    "\n",
    "\n",
    "Наиболее перспективные жанры - Shooter, Racing, Sports и Role-Playing. Они вероятнее всего сохранят свои позиции в будущих периодах, но скорее всего не усилят позиции.\n",
    "\n",
    "\n",
    "Для определения перспективы той или иной игры, выходящей на рынок целесообразнее ориентироваться на отзывы критиков. Есть некоторая корреляция между отзывами критиков и продажами игры. Пользовательские оценки меньше влияют на продажи. Это закономерно, ведь именно отзывы критиков публикуются в СМИ, создают ажиотаж и ожидание игры пользователями. Пользовательские оценки как правило влияют на позицию игры в рейтингах, которые не так сильно влияют на известность игры и уровень ожидания и продаж."
   ]
  },
  {
   "cell_type": "markdown",
   "metadata": {},
   "source": [
    "## Составление портрета пользователя\n"
   ]
  },
  {
   "cell_type": "markdown",
   "metadata": {},
   "source": [
    "### Постановка задачи <a class=\"anchor\" id=\"eda_task\"></a>"
   ]
  },
  {
   "cell_type": "markdown",
   "metadata": {},
   "source": [
    "В рамках составления портрета пользователя для каждого региона, необходимо сформировать список самых популярных на данный момент платформ и жанров, а также определить влияние возратного рейтинга игры на ее продажи в этом регионе."
   ]
  },
  {
   "cell_type": "markdown",
   "metadata": {},
   "source": [
    "### Составление портрета пользователя\n"
   ]
  },
  {
   "cell_type": "markdown",
   "metadata": {},
   "source": [
    "Сформируем список популярных платформ для каждого из трех регионов. Для этого возьмем актуальные данные, то есть продажи игр на 2015 год."
   ]
  },
  {
   "cell_type": "code",
   "execution_count": 27,
   "metadata": {},
   "outputs": [
    {
     "data": {
      "image/png": "[encoded data removed]",
      "text/plain": [
       "<Figure size 1152x360 with 3 Axes>"
      ]
     },
     "metadata": {},
     "output_type": "display_data"
    }
   ],
   "source": [
    "plt.figure(figsize=(16, 5))\n",
    "for i in range(3):\n",
    "    ax = plt.subplot(1, 3, i+1)\n",
    "    (\n",
    "        games[games['year_of_release'] == 2015]\n",
    "        .pivot_table(index='platform', values=('na_sales', 'eu_sales', 'jp_sales')[i], aggfunc='sum')\n",
    "        .sort_values(by=('na_sales', 'eu_sales', 'jp_sales')[i], ascending=False)\n",
    "        .head()\n",
    "        .plot(kind='pie',\n",
    "              y=('na_sales', 'eu_sales', 'jp_sales')[i],\n",
    "              ax=ax,\n",
    "              title=f'Sales in {(\"North America\", \"Europe\", \"Japan\")[i]} by platform',\n",
    "              autopct='%.0f%%')\n",
    "    )"
   ]
  },
  {
   "cell_type": "markdown",
   "metadata": {},
   "source": [
    "Пользователи из Северной Америки чаще всего выбирают платформы PS4 и Xbox One. В пятерку лидеров также входят Xbox 360, WiiU и 3DS.\n",
    "Пользватели из Европы также предпочитают эти две платформы, однако пятерка лидеров иная - Playstation 3 и PС более популярны и вытесняют Xbox 360, WiiU, в сравнении с Америкой.\n",
    "Пользователи из Японии чаще всегор выбирают платформы от собственных производителей - Sony и Nintendo, а лидирует 3DS, американские платформы Xbox от Microsoft не так популярны в Японии. Также можно обратить внимание на более высокую конкуренцию между платформами в Японии - в отличии от Америки и Европы, где Xbox и Playstation занимают почти весь рынок, в Японии доли распределены  равномернее, но лидер 3DS все равно занимает 46% рынка."
   ]
  },
  {
   "cell_type": "markdown",
   "metadata": {},
   "source": [
    "Посмотрим на жанровые предпочтения пользователей из Европы, Америки и Японии. В силу различия в популярных платформах, Европа и Америка вероятнее всего покажет схожие результаты, а Япония будет сильно отличаться."
   ]
  },
  {
   "cell_type": "code",
   "execution_count": 28,
   "metadata": {},
   "outputs": [
    {
     "data": {
      "image/png": "[encoded data removed]",
      "text/plain": [
       "<Figure size 1152x360 with 3 Axes>"
      ]
     },
     "metadata": {},
     "output_type": "display_data"
    }
   ],
   "source": [
    "plt.figure(figsize=(16, 5))\n",
    "for i in range(3):\n",
    "    ax = plt.subplot(1, 3, i+1)\n",
    "    (\n",
    "        games[games['year_of_release'] == 2015]\n",
    "        .pivot_table(index='genre', values=('na_sales', 'eu_sales', 'jp_sales')[i], aggfunc='sum')\n",
    "        .sort_values(by=('na_sales', 'eu_sales', 'jp_sales')[i], ascending=False)\n",
    "        .head()\n",
    "        .plot(kind='pie',\n",
    "              y=('na_sales', 'eu_sales', 'jp_sales')[i],\n",
    "              ax=ax,\n",
    "              title=f'Sales in {(\"North America\", \"Europe\", \"Japan\")[i]} by genre',\n",
    "              autopct='%.0f%%')\n",
    "    )"
   ]
  },
  {
   "cell_type": "markdown",
   "metadata": {},
   "source": [
    "Как и ожидалось, топы европейских и американских жанров почти идентичны - разнятся только доли и в Европе популярнее гоночные симуляторы, а в Америке музыкальные.\n",
    "\n",
    "В Японии же лидерами стали Action и Role-Playing игры, вытеснив шутеры на третье место, а также место спортивных симуляторов заняли обычные симуляторы, пусть и с небольшой долей. Можно сказать, что в Японии игровой рынок сильно отличается от европейского и американского. Он более разношерстный, нет четкого лидера среди платформ и среди жанров."
   ]
  },
  {
   "cell_type": "markdown",
   "metadata": {},
   "source": [
    "Сопоставим влияние возрастного рейтинга на продажи игр в зависимости от региона."
   ]
  },
  {
   "cell_type": "code",
   "execution_count": 29,
   "metadata": {},
   "outputs": [
    {
     "data": {
      "image/png": "[encoded data removed]",
      "text/plain": [
       "<Figure size 432x288 with 1 Axes>"
      ]
     },
     "metadata": {
      "needs_background": "light"
     },
     "output_type": "display_data"
    }
   ],
   "source": [
    "games[games['year_of_release'] == 2015].pivot_table(index='rating', values=('na_sales', 'eu_sales', 'jp_sales'), aggfunc='mean').sort_values(by='eu_sales', ascending=False).T.plot(kind='bar', title='Mean rating by market')\n",
    "plt.ylabel('Rating')\n",
    "plt.show()"
   ]
  },
  {
   "cell_type": "markdown",
   "metadata": {},
   "source": [
    "Средние продажи игры в Японии мало зависят от возрастного рейтинга. Это может быть связано как с большим разнообразием японского рынка, где в игровую индустрию вовлечены пользователи совершенно разных возрастов и предпочтений, так и с тем, что возрастной рейтинг игры не так строго соблюдается и нет четких разграничений между играми для взрослой аудитории и для детей. Вероятнее всего первое - игровой рынок в Японии очень диверсифицирован, игровая индустрия очень развита и вовлечение в игровую культуру повсеместно.\n",
    "\n",
    "В Европе и Америке же продажи игр в зависимости от рейтинго очень похожи. Так игры со взрослым контентом - с рейтингом M - продаются лучше всего. На втором месте в Америке - игры для детей старше 10 лет, на третьем - игры для любой возрастной категории. В Европе же наоборот - игры для всех на втором месте, на третьем - игры для детей старше 10 лет. И в Европе и в Америке замыкают топ игры для подростков."
   ]
  },
  {
   "cell_type": "markdown",
   "metadata": {},
   "source": [
    "### Вывод <a class=\"anchor\" id=\"eda_conclusion\"></a>\n"
   ]
  },
  {
   "cell_type": "markdown",
   "metadata": {},
   "source": [
    "В зависимости от региона портрет пользователя разлтчается. Наиболее типичный американский пользователь - имеет консоль PS4 или Xbox One и играет в основном в шутеры и чуть реже в экшн игры. Чаще всего с возрастным рейтингом \"Для взрослых\".\n",
    "\n",
    "Европейский пользователь очень похож, но он чаще использует именно консоль PS4 и поровну играет в шутеры и экшны. Также предпочитает игры со взрослым возрастным рейтингом.\n",
    "\n",
    "Японский пользователь сильно от них отличается. Так выделить наиболее типичную консоль не получится - да, чаще всего это будет 3DS, но вероятность встретить игрока с другой консолью очень высока. Также он предпочитает экшн игры. Возрастную категорию, а соответственно и типичный возраст игрока также нельзя четко описать. Да, чуть более распространены игры для детей старше 10 лет, но все прочие возрастные рейтинги представлены на рынке примерно в тех же пропорциях."
   ]
  },
  {
   "cell_type": "markdown",
   "metadata": {},
   "source": [
    "## Проверка гипотез <a class=\"anchor\" id=\"hipotesis\"></a>\n"
   ]
  },
  {
   "cell_type": "markdown",
   "metadata": {},
   "source": [
    "### Постановка задачи <a class=\"anchor\" id=\"hipotesis_task\"></a>\n"
   ]
  },
  {
   "cell_type": "markdown",
   "metadata": {},
   "source": [
    "Необходимо проверить две гипотезы:\n",
    "\n",
    "1. Средние пользовательские рейтинги платформ Xbox One и PC одинаковые:\n",
    "    - Н0: Средние пользовательские рейтинги платформ одинаковые;\n",
    "    - Н1: Средние пользовательские рейтинги платформ разные;\n",
    "\n",
    "\n",
    "2. Средние пользовательские рейтинги жанров Action и Sports разные:\n",
    "    - Н0: Средние пользовательские рейтинги жанров одинаковые;\n",
    "    - Н1: Средние пользовательские рейтинги жанров разные;\n",
    "    \n",
    "Обе нулевые гипотезы сформулированы из предположения, что разницы между двумя выборками нет.\n",
    "\n",
    "Альтернативные гипотезы сформулированы из предположения, что пользовательские оценки для выборок различаются. Так как мы не знаем точно и нет возможности более-менее точно предположить, рейтинги какой из выборок будут выше, а задача поставлена именно на проверку разницы, обе гипотезы будем проверять как двусторонние, предпологая, что будет разница, но не проверяя, в какую - большую или меньшую сторону.\n",
    "\n",
    "Значение параметра alpha зададим на общепринятом уровне - 0,05.\n",
    "\n",
    "Использовать для проверки гипотез будем p-value - показатель, который определяет вероятность того, что среднее значение одной выборки окажется в пределах нормального распределения второй выборки. Сравнивать его будем с заданным значением alpha. То есть если нулевая гипотеза верна, среднее значение одной выборки окажется в пределах примерно двух сигм от среднего значения второй выборки."
   ]
  },
  {
   "cell_type": "markdown",
   "metadata": {},
   "source": [
    "### Рейтинги платформ\n"
   ]
  },
  {
   "cell_type": "markdown",
   "metadata": {},
   "source": [
    "Так как t-test не может быть проведен с данными, содержащими пустые значения, отбросим строки, содержащие пустые значения в столбце польхзовательского рейтинга."
   ]
  },
  {
   "cell_type": "code",
   "execution_count": 30,
   "metadata": {},
   "outputs": [],
   "source": [
    "games.dropna(subset=['user_score'], inplace=True)"
   ]
  },
  {
   "cell_type": "markdown",
   "metadata": {},
   "source": [
    "Сперва проверим разницу в рейтингах двух платформ - Xbox One и PC."
   ]
  },
  {
   "cell_type": "code",
   "execution_count": 31,
   "metadata": {},
   "outputs": [
    {
     "name": "stdout",
     "output_type": "stream",
     "text": [
      "p-value: 0.10450507919348415\n",
      "Принимаем нулевую гипотезу. Средние пользовательские рейтинги платформ Xbox One и PC одинаковые.\n"
     ]
    }
   ],
   "source": [
    "alpha = .05\n",
    "\n",
    "result = st.ttest_ind(\n",
    "    games[games['platform'] == 'XOne']['user_score'],\n",
    "    games[games['platform'] == 'PC']['user_score']\n",
    ")\n",
    "\n",
    "print('p-value:', result.pvalue)\n",
    "\n",
    "if result.pvalue < alpha:\n",
    "    print('Отвергаем нулевую гипотезу. Средние пользовательские рейтинги платформ Xbox One и PC различаются.')\n",
    "else:\n",
    "    print('Принимаем нулевую гипотезу. Средние пользовательские рейтинги платформ Xbox One и PC одинаковые.')"
   ]
  },
  {
   "cell_type": "markdown",
   "metadata": {},
   "source": [
    "### Рейтинги жанров"
   ]
  },
  {
   "cell_type": "markdown",
   "metadata": {},
   "source": [
    "Проверим вторую гипотезу - различие в рейтингах жанров Action и Sports."
   ]
  },
  {
   "cell_type": "code",
   "execution_count": 32,
   "metadata": {},
   "outputs": [
    {
     "name": "stdout",
     "output_type": "stream",
     "text": [
      "p-value: 2.8711147985105864e-19\n",
      "Отвергаем нулевую гипотезу. Средние пользовательские рейтинги жанров Action и Sports различаются.\n"
     ]
    }
   ],
   "source": [
    "alpha = .05\n",
    "\n",
    "result = st.ttest_ind(\n",
    "    games[games['genre'] == 'Action']['user_score'],\n",
    "    games[games['genre'] == 'Sports']['user_score']\n",
    ")\n",
    "\n",
    "print('p-value:', result.pvalue)\n",
    "\n",
    "if result.pvalue < alpha:\n",
    "    print('Отвергаем нулевую гипотезу. Средние пользовательские рейтинги жанров Action и Sports различаются.')\n",
    "else:\n",
    "    print('Принимаем нулевую гипотезу. Средние пользовательские рейтинги жанров Action и Sports одинаковые.')"
   ]
  },
  {
   "cell_type": "markdown",
   "metadata": {},
   "source": [
    "### Вывод <a class=\"anchor\" id=\"hipotesis_conclusion\"></a>\n"
   ]
  },
  {
   "cell_type": "markdown",
   "metadata": {},
   "source": [
    "Статистический тест показал, что средние оценки по жанрам Action и Sports различаются, а между платформами Xbox One и PC одинаковые."
   ]
  },
  {
   "cell_type": "markdown",
   "metadata": {},
   "source": [
    "## Общий вывод <a class=\"anchor\" id=\"conclusion\"></a>"
   ]
  },
  {
   "cell_type": "markdown",
   "metadata": {},
   "source": [
    "По результатам исследования можно сделать следующие выводы:\n",
    "\n",
    "1. Рынок видеоигр с 2008 года не показывает рост, равно как и падение. Платформы, которые были популярны на пике роста рынка - PS3, Xbox 360 и WiiU - сейчас стремительно теряют позиции. Их позиции заняли платформы нового поколения - PS4 и Xbox One.\n",
    "\n",
    "2. Средний жизненный цикл платформы - около 10 лет, после чего она постепенно перестает поддерживаться и игры на нее перестают выходить. Так растущие сейчас платформы PS4 и Xbox One появились в 2013 году и полное их угасание следует ожидать к 2023 году. Пик их популярности должен прийтись на 2017 - следующий год, соответственно это наиболее перспективные платформы, на которые следует сделать ставку.\n",
    "\n",
    "3. Наиболее перспективные жанры - Shooter, Sports и Role-Playing. Они занимают большую часть рынка, сильно отрываясь от прочих жанров.\n",
    "\n",
    "4. В оценке продаж той или иной игры целесообразно опираться на оценки критиков. Именно они формируют ожидание игры и информационный фон вокруг нее. Анализ показал средний уровень корреляции между продажами и отзывами критиков.\n",
    "\n",
    "5. В зависимости от региона портрет пользователя различается.\n",
    "\n",
    "    Американский пользователь - имеет консоль PS4 или Xbox One и играет в основном в шутеры и чуть реже в экшн игры. Чаще всего с возрастным рейтингом \"Для взрослых\".\n",
    "    \n",
    "    Европейский пользователь чаще всего использует консоль PS4 и поровну играет в шутеры и экшны. Также предпочитает игры со взрослым возрастным рейтингом.\n",
    "    \n",
    "    Четкий портрет японского пользователя выделить невозможно. Вероятно японский рынок слишком разноробразен и требует отдельного анализа. Можно только сказать, что экшн игры более популярны в Японии.\n",
    "    \n",
    "6. Пользователи по-разному оценивают игры с разным жанром. Игры на разных платформах чаще всего имеют схожий рейтинг. Это также стоит учитывать в прогнозе продаж игры на будущие периоды."
   ]
  }
 ],
 "metadata": {
  "ExecuteTimeLog": [
   {
    "duration": 1592,
    "start_time": "2022-01-11T18:25:25.052Z"
   },
   {
    "duration": 70,
    "start_time": "2022-01-11T18:25:27.667Z"
   },
   {
    "duration": 16,
    "start_time": "2022-01-11T18:25:34.666Z"
   },
   {
    "duration": 77,
    "start_time": "2022-01-14T09:09:24.194Z"
   },
   {
    "duration": 266,
    "start_time": "2022-01-14T09:19:17.299Z"
   },
   {
    "duration": 205,
    "start_time": "2022-01-14T09:22:25.745Z"
   },
   {
    "duration": 1192,
    "start_time": "2022-01-14T09:22:43.810Z"
   },
   {
    "duration": 52,
    "start_time": "2022-01-14T09:22:45.004Z"
   },
   {
    "duration": 74,
    "start_time": "2022-01-14T09:22:45.058Z"
   },
   {
    "duration": 78,
    "start_time": "2022-01-14T09:22:45.134Z"
   },
   {
    "duration": 63,
    "start_time": "2022-01-14T09:22:45.214Z"
   },
   {
    "duration": 41,
    "start_time": "2022-01-14T09:22:45.280Z"
   },
   {
    "duration": 69,
    "start_time": "2022-01-14T09:22:45.324Z"
   },
   {
    "duration": 6,
    "start_time": "2022-01-14T09:22:45.396Z"
   },
   {
    "duration": 8,
    "start_time": "2022-01-14T09:22:45.404Z"
   },
   {
    "duration": 8,
    "start_time": "2022-01-14T09:22:45.414Z"
   },
   {
    "duration": 54,
    "start_time": "2022-01-14T09:22:45.423Z"
   },
   {
    "duration": 19,
    "start_time": "2022-01-14T09:22:45.479Z"
   },
   {
    "duration": 22,
    "start_time": "2022-01-14T09:22:45.500Z"
   },
   {
    "duration": 37,
    "start_time": "2022-01-14T09:22:45.524Z"
   },
   {
    "duration": 4,
    "start_time": "2022-01-14T09:22:45.563Z"
   },
   {
    "duration": 22,
    "start_time": "2022-01-14T09:22:45.569Z"
   },
   {
    "duration": 693,
    "start_time": "2022-01-14T09:22:45.593Z"
   },
   {
    "duration": 2,
    "start_time": "2022-01-14T09:22:46.288Z"
   },
   {
    "duration": 6,
    "start_time": "2022-01-14T09:22:46.292Z"
   },
   {
    "duration": 8737,
    "start_time": "2022-01-14T09:22:46.300Z"
   },
   {
    "duration": 46,
    "start_time": "2022-01-14T09:22:55.040Z"
   },
   {
    "duration": 4,
    "start_time": "2022-01-14T09:22:55.088Z"
   },
   {
    "duration": 318,
    "start_time": "2022-01-14T09:22:55.095Z"
   },
   {
    "duration": -527,
    "start_time": "2022-01-14T09:22:55.942Z"
   },
   {
    "duration": -538,
    "start_time": "2022-01-14T09:22:55.954Z"
   },
   {
    "duration": -550,
    "start_time": "2022-01-14T09:22:55.967Z"
   },
   {
    "duration": -557,
    "start_time": "2022-01-14T09:22:55.975Z"
   },
   {
    "duration": -564,
    "start_time": "2022-01-14T09:22:55.984Z"
   },
   {
    "duration": -569,
    "start_time": "2022-01-14T09:22:55.990Z"
   },
   {
    "duration": -574,
    "start_time": "2022-01-14T09:22:55.996Z"
   },
   {
    "duration": -582,
    "start_time": "2022-01-14T09:22:56.005Z"
   },
   {
    "duration": -602,
    "start_time": "2022-01-14T09:22:56.026Z"
   },
   {
    "duration": -617,
    "start_time": "2022-01-14T09:22:56.042Z"
   },
   {
    "duration": -624,
    "start_time": "2022-01-14T09:22:56.050Z"
   },
   {
    "duration": -630,
    "start_time": "2022-01-14T09:22:56.057Z"
   },
   {
    "duration": -634,
    "start_time": "2022-01-14T09:22:56.062Z"
   },
   {
    "duration": -639,
    "start_time": "2022-01-14T09:22:56.068Z"
   },
   {
    "duration": -644,
    "start_time": "2022-01-14T09:22:56.074Z"
   },
   {
    "duration": -649,
    "start_time": "2022-01-14T09:22:56.080Z"
   },
   {
    "duration": -653,
    "start_time": "2022-01-14T09:22:56.085Z"
   },
   {
    "duration": -657,
    "start_time": "2022-01-14T09:22:56.090Z"
   },
   {
    "duration": -660,
    "start_time": "2022-01-14T09:22:56.095Z"
   },
   {
    "duration": -669,
    "start_time": "2022-01-14T09:22:56.105Z"
   },
   {
    "duration": -675,
    "start_time": "2022-01-14T09:22:56.112Z"
   },
   {
    "duration": -686,
    "start_time": "2022-01-14T09:22:56.124Z"
   },
   {
    "duration": -692,
    "start_time": "2022-01-14T09:22:56.131Z"
   },
   {
    "duration": -700,
    "start_time": "2022-01-14T09:22:56.140Z"
   },
   {
    "duration": -706,
    "start_time": "2022-01-14T09:22:56.147Z"
   },
   {
    "duration": -766,
    "start_time": "2022-01-14T09:22:56.208Z"
   },
   {
    "duration": -772,
    "start_time": "2022-01-14T09:22:56.215Z"
   },
   {
    "duration": 5,
    "start_time": "2022-01-14T09:24:24.055Z"
   },
   {
    "duration": 32,
    "start_time": "2022-01-14T09:24:32.393Z"
   },
   {
    "duration": 4,
    "start_time": "2022-01-14T09:24:50.731Z"
   },
   {
    "duration": 10,
    "start_time": "2022-01-14T09:24:52.842Z"
   },
   {
    "duration": 461,
    "start_time": "2022-01-14T09:38:58.413Z"
   },
   {
    "duration": 222,
    "start_time": "2022-01-14T09:43:27.130Z"
   },
   {
    "duration": 1240,
    "start_time": "2022-01-14T09:47:59.663Z"
   },
   {
    "duration": 54,
    "start_time": "2022-01-14T09:48:00.906Z"
   },
   {
    "duration": 26,
    "start_time": "2022-01-14T09:48:00.963Z"
   },
   {
    "duration": 76,
    "start_time": "2022-01-14T09:48:00.992Z"
   },
   {
    "duration": 40,
    "start_time": "2022-01-14T09:48:01.071Z"
   },
   {
    "duration": 49,
    "start_time": "2022-01-14T09:48:01.113Z"
   },
   {
    "duration": 67,
    "start_time": "2022-01-14T09:48:01.164Z"
   },
   {
    "duration": 6,
    "start_time": "2022-01-14T09:48:01.235Z"
   },
   {
    "duration": 56,
    "start_time": "2022-01-14T09:48:01.243Z"
   },
   {
    "duration": 31,
    "start_time": "2022-01-14T09:48:01.301Z"
   },
   {
    "duration": 58,
    "start_time": "2022-01-14T09:48:01.334Z"
   },
   {
    "duration": 23,
    "start_time": "2022-01-14T09:48:01.394Z"
   },
   {
    "duration": 33,
    "start_time": "2022-01-14T09:48:01.419Z"
   },
   {
    "duration": 45,
    "start_time": "2022-01-14T09:48:01.454Z"
   },
   {
    "duration": 118,
    "start_time": "2022-01-14T09:48:01.501Z"
   },
   {
    "duration": 129,
    "start_time": "2022-01-14T09:48:01.621Z"
   },
   {
    "duration": 848,
    "start_time": "2022-01-14T09:48:01.753Z"
   },
   {
    "duration": 3,
    "start_time": "2022-01-14T09:48:02.604Z"
   },
   {
    "duration": 29,
    "start_time": "2022-01-14T09:48:02.610Z"
   },
   {
    "duration": 9405,
    "start_time": "2022-01-14T09:48:02.641Z"
   },
   {
    "duration": 43,
    "start_time": "2022-01-14T09:48:12.048Z"
   },
   {
    "duration": 3,
    "start_time": "2022-01-14T09:48:12.093Z"
   },
   {
    "duration": 8,
    "start_time": "2022-01-14T09:48:12.100Z"
   },
   {
    "duration": 10,
    "start_time": "2022-01-14T09:48:12.110Z"
   },
   {
    "duration": 39,
    "start_time": "2022-01-14T09:48:12.122Z"
   },
   {
    "duration": 19,
    "start_time": "2022-01-14T09:48:12.163Z"
   },
   {
    "duration": 7,
    "start_time": "2022-01-14T09:48:12.184Z"
   },
   {
    "duration": 13,
    "start_time": "2022-01-14T09:48:12.193Z"
   },
   {
    "duration": 138,
    "start_time": "2022-01-14T09:48:12.208Z"
   },
   {
    "duration": 5,
    "start_time": "2022-01-14T09:48:12.348Z"
   },
   {
    "duration": 9,
    "start_time": "2022-01-14T09:48:12.354Z"
   },
   {
    "duration": 16,
    "start_time": "2022-01-14T09:48:12.364Z"
   },
   {
    "duration": 11,
    "start_time": "2022-01-14T09:48:12.382Z"
   },
   {
    "duration": 88,
    "start_time": "2022-01-14T09:48:12.395Z"
   },
   {
    "duration": 43,
    "start_time": "2022-01-14T09:48:12.485Z"
   },
   {
    "duration": 34,
    "start_time": "2022-01-14T09:48:12.530Z"
   },
   {
    "duration": 20,
    "start_time": "2022-01-14T09:48:12.565Z"
   },
   {
    "duration": 17,
    "start_time": "2022-01-14T09:48:12.587Z"
   },
   {
    "duration": 3,
    "start_time": "2022-01-14T09:48:12.606Z"
   },
   {
    "duration": 13,
    "start_time": "2022-01-14T09:48:12.611Z"
   },
   {
    "duration": 35,
    "start_time": "2022-01-14T09:48:12.626Z"
   },
   {
    "duration": 10,
    "start_time": "2022-01-14T09:48:12.663Z"
   },
   {
    "duration": 7,
    "start_time": "2022-01-14T09:48:12.675Z"
   },
   {
    "duration": 398,
    "start_time": "2022-01-14T09:48:12.683Z"
   },
   {
    "duration": 40,
    "start_time": "2022-01-14T09:48:13.083Z"
   },
   {
    "duration": 434,
    "start_time": "2022-01-14T09:48:13.125Z"
   },
   {
    "duration": -67,
    "start_time": "2022-01-14T09:48:13.628Z"
   },
   {
    "duration": -70,
    "start_time": "2022-01-14T09:48:13.632Z"
   },
   {
    "duration": -72,
    "start_time": "2022-01-14T09:48:13.636Z"
   },
   {
    "duration": -77,
    "start_time": "2022-01-14T09:48:13.642Z"
   },
   {
    "duration": -82,
    "start_time": "2022-01-14T09:48:13.648Z"
   },
   {
    "duration": 111,
    "start_time": "2022-02-19T06:54:14.519Z"
   },
   {
    "duration": 1254,
    "start_time": "2022-02-20T10:11:14.823Z"
   },
   {
    "duration": 37,
    "start_time": "2022-02-20T10:11:16.080Z"
   },
   {
    "duration": 93,
    "start_time": "2022-02-20T10:11:16.120Z"
   },
   {
    "duration": 88,
    "start_time": "2022-02-20T10:11:16.128Z"
   },
   {
    "duration": 85,
    "start_time": "2022-02-20T10:11:16.132Z"
   },
   {
    "duration": 79,
    "start_time": "2022-02-20T10:11:16.139Z"
   },
   {
    "duration": 78,
    "start_time": "2022-02-20T10:11:16.142Z"
   },
   {
    "duration": 73,
    "start_time": "2022-02-20T10:11:16.148Z"
   },
   {
    "duration": 72,
    "start_time": "2022-02-20T10:11:16.151Z"
   },
   {
    "duration": 68,
    "start_time": "2022-02-20T10:11:16.156Z"
   },
   {
    "duration": 65,
    "start_time": "2022-02-20T10:11:16.160Z"
   },
   {
    "duration": 62,
    "start_time": "2022-02-20T10:11:16.164Z"
   },
   {
    "duration": 59,
    "start_time": "2022-02-20T10:11:16.168Z"
   },
   {
    "duration": 61,
    "start_time": "2022-02-20T10:11:16.172Z"
   },
   {
    "duration": 58,
    "start_time": "2022-02-20T10:11:16.176Z"
   },
   {
    "duration": 55,
    "start_time": "2022-02-20T10:11:16.180Z"
   },
   {
    "duration": 53,
    "start_time": "2022-02-20T10:11:16.183Z"
   },
   {
    "duration": 49,
    "start_time": "2022-02-20T10:11:16.188Z"
   },
   {
    "duration": 46,
    "start_time": "2022-02-20T10:11:16.192Z"
   },
   {
    "duration": 43,
    "start_time": "2022-02-20T10:11:16.196Z"
   },
   {
    "duration": 3,
    "start_time": "2022-02-20T10:11:16.237Z"
   },
   {
    "duration": -1,
    "start_time": "2022-02-20T10:11:16.242Z"
   },
   {
    "duration": -3,
    "start_time": "2022-02-20T10:11:16.245Z"
   },
   {
    "duration": -7,
    "start_time": "2022-02-20T10:11:16.250Z"
   },
   {
    "duration": -10,
    "start_time": "2022-02-20T10:11:16.254Z"
   },
   {
    "duration": -13,
    "start_time": "2022-02-20T10:11:16.258Z"
   },
   {
    "duration": -17,
    "start_time": "2022-02-20T10:11:16.263Z"
   },
   {
    "duration": -21,
    "start_time": "2022-02-20T10:11:16.267Z"
   },
   {
    "duration": -26,
    "start_time": "2022-02-20T10:11:16.273Z"
   },
   {
    "duration": 427,
    "start_time": "2022-02-20T10:11:28.089Z"
   },
   {
    "duration": 323,
    "start_time": "2022-02-20T10:11:51.085Z"
   },
   {
    "duration": 333,
    "start_time": "2022-02-20T10:12:11.406Z"
   },
   {
    "duration": 12,
    "start_time": "2022-02-20T10:12:26.025Z"
   },
   {
    "duration": 13,
    "start_time": "2022-02-20T10:12:51.596Z"
   },
   {
    "duration": 20,
    "start_time": "2022-02-20T10:12:55.013Z"
   },
   {
    "duration": 12,
    "start_time": "2022-02-20T10:13:00.701Z"
   },
   {
    "duration": 19,
    "start_time": "2022-02-20T10:13:04.801Z"
   },
   {
    "duration": 10,
    "start_time": "2022-02-20T10:13:12.812Z"
   },
   {
    "duration": 251,
    "start_time": "2022-02-20T10:13:21.613Z"
   },
   {
    "duration": 264,
    "start_time": "2022-02-20T10:13:38.310Z"
   },
   {
    "duration": 237,
    "start_time": "2022-02-20T10:13:45.479Z"
   },
   {
    "duration": 4,
    "start_time": "2022-02-20T10:13:51.334Z"
   },
   {
    "duration": 343,
    "start_time": "2022-02-20T10:13:59.143Z"
   },
   {
    "duration": 396,
    "start_time": "2022-02-20T10:14:04.812Z"
   },
   {
    "duration": 253,
    "start_time": "2022-02-20T10:14:19.056Z"
   },
   {
    "duration": 10,
    "start_time": "2022-02-20T10:14:22.518Z"
   },
   {
    "duration": 321,
    "start_time": "2022-02-20T10:17:45.209Z"
   },
   {
    "duration": 253,
    "start_time": "2022-02-20T10:17:58.360Z"
   },
   {
    "duration": 58,
    "start_time": "2022-02-20T10:18:07.499Z"
   },
   {
    "duration": 252,
    "start_time": "2022-02-20T10:18:21.311Z"
   },
   {
    "duration": 288,
    "start_time": "2022-02-20T10:18:40.258Z"
   },
   {
    "duration": 560,
    "start_time": "2022-02-20T10:18:53.312Z"
   },
   {
    "duration": 585,
    "start_time": "2022-02-20T10:19:10.894Z"
   },
   {
    "duration": 711,
    "start_time": "2022-02-20T10:19:14.789Z"
   },
   {
    "duration": 79,
    "start_time": "2022-02-20T10:19:49.004Z"
   },
   {
    "duration": 52,
    "start_time": "2022-02-20T10:20:03.579Z"
   },
   {
    "duration": 56,
    "start_time": "2022-02-20T10:20:14.114Z"
   },
   {
    "duration": 1429,
    "start_time": "2022-02-20T10:20:53.816Z"
   },
   {
    "duration": 35,
    "start_time": "2022-02-20T10:20:55.247Z"
   },
   {
    "duration": 26,
    "start_time": "2022-02-20T10:20:55.285Z"
   },
   {
    "duration": 56,
    "start_time": "2022-02-20T10:20:55.314Z"
   },
   {
    "duration": 5,
    "start_time": "2022-02-20T10:20:55.371Z"
   },
   {
    "duration": 37,
    "start_time": "2022-02-20T10:20:55.378Z"
   },
   {
    "duration": 12,
    "start_time": "2022-02-20T10:20:55.417Z"
   },
   {
    "duration": 6,
    "start_time": "2022-02-20T10:20:55.432Z"
   },
   {
    "duration": 7,
    "start_time": "2022-02-20T10:20:55.441Z"
   },
   {
    "duration": 21,
    "start_time": "2022-02-20T10:20:55.449Z"
   },
   {
    "duration": 37,
    "start_time": "2022-02-20T10:20:55.472Z"
   },
   {
    "duration": 5,
    "start_time": "2022-02-20T10:20:55.511Z"
   },
   {
    "duration": 20,
    "start_time": "2022-02-20T10:20:55.518Z"
   },
   {
    "duration": 26,
    "start_time": "2022-02-20T10:20:55.540Z"
   },
   {
    "duration": 6,
    "start_time": "2022-02-20T10:20:55.568Z"
   },
   {
    "duration": 298,
    "start_time": "2022-02-20T10:20:55.576Z"
   },
   {
    "duration": 287,
    "start_time": "2022-02-20T10:20:55.877Z"
   },
   {
    "duration": 6,
    "start_time": "2022-02-20T10:20:56.166Z"
   },
   {
    "duration": 347,
    "start_time": "2022-02-20T10:20:56.174Z"
   },
   {
    "duration": 8,
    "start_time": "2022-02-20T10:20:56.524Z"
   },
   {
    "duration": 273,
    "start_time": "2022-02-20T10:20:56.534Z"
   },
   {
    "duration": 2733,
    "start_time": "2022-02-20T10:20:56.809Z"
   },
   {
    "duration": 35,
    "start_time": "2022-02-20T10:20:59.547Z"
   },
   {
    "duration": 248,
    "start_time": "2022-02-20T10:20:59.585Z"
   },
   {
    "duration": 37,
    "start_time": "2022-02-20T10:20:59.835Z"
   },
   {
    "duration": 69,
    "start_time": "2022-02-20T10:20:59.873Z"
   },
   {
    "duration": 316,
    "start_time": "2022-02-20T10:20:59.944Z"
   },
   {
    "duration": 6,
    "start_time": "2022-02-20T10:21:00.262Z"
   },
   {
    "duration": 27,
    "start_time": "2022-02-20T10:21:00.271Z"
   },
   {
    "duration": 25,
    "start_time": "2022-02-20T10:21:00.300Z"
   },
   {
    "duration": 251,
    "start_time": "2022-02-20T10:21:19.931Z"
   },
   {
    "duration": 53,
    "start_time": "2022-02-20T10:21:22.100Z"
   },
   {
    "duration": 52,
    "start_time": "2022-02-20T10:21:35.269Z"
   },
   {
    "duration": 51,
    "start_time": "2022-02-20T10:25:15.413Z"
   },
   {
    "duration": 3,
    "start_time": "2022-02-20T10:25:25.810Z"
   },
   {
    "duration": 39,
    "start_time": "2022-02-20T10:25:25.816Z"
   },
   {
    "duration": 10,
    "start_time": "2022-02-20T10:25:25.857Z"
   },
   {
    "duration": 75,
    "start_time": "2022-02-20T10:25:25.870Z"
   },
   {
    "duration": 6,
    "start_time": "2022-02-20T10:25:25.947Z"
   },
   {
    "duration": 19,
    "start_time": "2022-02-20T10:25:25.954Z"
   },
   {
    "duration": 35,
    "start_time": "2022-02-20T10:25:25.975Z"
   },
   {
    "duration": 6,
    "start_time": "2022-02-20T10:25:26.012Z"
   },
   {
    "duration": 7,
    "start_time": "2022-02-20T10:25:26.022Z"
   },
   {
    "duration": 10,
    "start_time": "2022-02-20T10:25:26.031Z"
   },
   {
    "duration": 26,
    "start_time": "2022-02-20T10:25:26.043Z"
   },
   {
    "duration": 5,
    "start_time": "2022-02-20T10:25:26.071Z"
   },
   {
    "duration": 31,
    "start_time": "2022-02-20T10:25:26.078Z"
   },
   {
    "duration": 13,
    "start_time": "2022-02-20T10:25:26.111Z"
   },
   {
    "duration": 6,
    "start_time": "2022-02-20T10:25:26.126Z"
   },
   {
    "duration": 292,
    "start_time": "2022-02-20T10:25:26.134Z"
   },
   {
    "duration": 297,
    "start_time": "2022-02-20T10:25:26.428Z"
   },
   {
    "duration": 5,
    "start_time": "2022-02-20T10:25:26.728Z"
   },
   {
    "duration": 335,
    "start_time": "2022-02-20T10:25:26.736Z"
   },
   {
    "duration": 6,
    "start_time": "2022-02-20T10:25:27.073Z"
   },
   {
    "duration": 435,
    "start_time": "2022-02-20T10:25:27.081Z"
   },
   {
    "duration": 2462,
    "start_time": "2022-02-20T10:25:27.518Z"
   },
   {
    "duration": 53,
    "start_time": "2022-02-20T10:25:29.982Z"
   },
   {
    "duration": 250,
    "start_time": "2022-02-20T10:25:30.038Z"
   },
   {
    "duration": 47,
    "start_time": "2022-02-20T10:25:30.290Z"
   },
   {
    "duration": 69,
    "start_time": "2022-02-20T10:25:30.339Z"
   },
   {
    "duration": 216,
    "start_time": "2022-02-20T10:25:30.412Z"
   },
   {
    "duration": 7,
    "start_time": "2022-02-20T10:25:30.631Z"
   },
   {
    "duration": 90,
    "start_time": "2022-02-20T10:25:30.640Z"
   },
   {
    "duration": 83,
    "start_time": "2022-02-20T10:25:30.732Z"
   },
   {
    "duration": 7,
    "start_time": "2022-02-20T10:27:38.422Z"
   },
   {
    "duration": 3,
    "start_time": "2022-02-20T10:27:48.656Z"
   },
   {
    "duration": 4,
    "start_time": "2022-02-20T10:27:54.685Z"
   },
   {
    "duration": 41,
    "start_time": "2022-02-20T10:27:54.691Z"
   },
   {
    "duration": 16,
    "start_time": "2022-02-20T10:27:54.735Z"
   },
   {
    "duration": 82,
    "start_time": "2022-02-20T10:27:54.753Z"
   },
   {
    "duration": 6,
    "start_time": "2022-02-20T10:27:54.837Z"
   },
   {
    "duration": 19,
    "start_time": "2022-02-20T10:27:54.846Z"
   },
   {
    "duration": 5,
    "start_time": "2022-02-20T10:27:54.867Z"
   },
   {
    "duration": 44,
    "start_time": "2022-02-20T10:27:54.874Z"
   },
   {
    "duration": 7,
    "start_time": "2022-02-20T10:27:54.922Z"
   },
   {
    "duration": 7,
    "start_time": "2022-02-20T10:27:54.932Z"
   },
   {
    "duration": 25,
    "start_time": "2022-02-20T10:27:54.940Z"
   },
   {
    "duration": 5,
    "start_time": "2022-02-20T10:27:54.967Z"
   },
   {
    "duration": 36,
    "start_time": "2022-02-20T10:27:54.973Z"
   },
   {
    "duration": 14,
    "start_time": "2022-02-20T10:27:55.012Z"
   },
   {
    "duration": 7,
    "start_time": "2022-02-20T10:27:55.028Z"
   },
   {
    "duration": 322,
    "start_time": "2022-02-20T10:27:55.037Z"
   },
   {
    "duration": 340,
    "start_time": "2022-02-20T10:27:55.362Z"
   },
   {
    "duration": 6,
    "start_time": "2022-02-20T10:27:55.708Z"
   },
   {
    "duration": 364,
    "start_time": "2022-02-20T10:27:55.716Z"
   },
   {
    "duration": 7,
    "start_time": "2022-02-20T10:27:56.082Z"
   },
   {
    "duration": 416,
    "start_time": "2022-02-20T10:27:56.091Z"
   },
   {
    "duration": 2513,
    "start_time": "2022-02-20T10:27:56.509Z"
   },
   {
    "duration": 41,
    "start_time": "2022-02-20T10:27:59.024Z"
   },
   {
    "duration": 300,
    "start_time": "2022-02-20T10:27:59.067Z"
   },
   {
    "duration": 62,
    "start_time": "2022-02-20T10:27:59.369Z"
   },
   {
    "duration": 47,
    "start_time": "2022-02-20T10:27:59.433Z"
   },
   {
    "duration": 281,
    "start_time": "2022-02-20T10:27:59.485Z"
   },
   {
    "duration": 7,
    "start_time": "2022-02-20T10:27:59.768Z"
   },
   {
    "duration": 18,
    "start_time": "2022-02-20T10:27:59.778Z"
   },
   {
    "duration": 9,
    "start_time": "2022-02-20T10:27:59.808Z"
   },
   {
    "duration": 6,
    "start_time": "2022-02-20T10:29:50.257Z"
   },
   {
    "duration": 4,
    "start_time": "2022-02-20T10:29:53.599Z"
   },
   {
    "duration": 40,
    "start_time": "2022-02-20T10:29:53.605Z"
   },
   {
    "duration": 10,
    "start_time": "2022-02-20T10:29:53.647Z"
   },
   {
    "duration": 81,
    "start_time": "2022-02-20T10:29:53.660Z"
   },
   {
    "duration": 5,
    "start_time": "2022-02-20T10:29:53.743Z"
   },
   {
    "duration": 21,
    "start_time": "2022-02-20T10:29:53.750Z"
   },
   {
    "duration": 12,
    "start_time": "2022-02-20T10:29:53.774Z"
   },
   {
    "duration": 21,
    "start_time": "2022-02-20T10:29:53.788Z"
   },
   {
    "duration": 14,
    "start_time": "2022-02-20T10:29:53.811Z"
   },
   {
    "duration": 16,
    "start_time": "2022-02-20T10:29:53.827Z"
   },
   {
    "duration": 25,
    "start_time": "2022-02-20T10:29:53.845Z"
   },
   {
    "duration": 5,
    "start_time": "2022-02-20T10:29:53.871Z"
   },
   {
    "duration": 13,
    "start_time": "2022-02-20T10:29:53.878Z"
   },
   {
    "duration": 19,
    "start_time": "2022-02-20T10:29:53.893Z"
   },
   {
    "duration": 8,
    "start_time": "2022-02-20T10:29:53.913Z"
   },
   {
    "duration": 288,
    "start_time": "2022-02-20T10:29:53.923Z"
   },
   {
    "duration": 277,
    "start_time": "2022-02-20T10:29:54.214Z"
   },
   {
    "duration": 14,
    "start_time": "2022-02-20T10:29:54.492Z"
   },
   {
    "duration": 317,
    "start_time": "2022-02-20T10:29:54.510Z"
   },
   {
    "duration": 7,
    "start_time": "2022-02-20T10:29:54.829Z"
   },
   {
    "duration": 375,
    "start_time": "2022-02-20T10:29:54.838Z"
   },
   {
    "duration": 2589,
    "start_time": "2022-02-20T10:29:55.214Z"
   },
   {
    "duration": 34,
    "start_time": "2022-02-20T10:29:57.808Z"
   },
   {
    "duration": 246,
    "start_time": "2022-02-20T10:29:57.844Z"
   },
   {
    "duration": 46,
    "start_time": "2022-02-20T10:29:58.092Z"
   },
   {
    "duration": 38,
    "start_time": "2022-02-20T10:29:58.140Z"
   },
   {
    "duration": 234,
    "start_time": "2022-02-20T10:29:58.179Z"
   },
   {
    "duration": 8,
    "start_time": "2022-02-20T10:29:58.414Z"
   },
   {
    "duration": 9,
    "start_time": "2022-02-20T10:29:58.423Z"
   },
   {
    "duration": 11,
    "start_time": "2022-02-20T10:29:58.434Z"
   },
   {
    "duration": 254,
    "start_time": "2022-02-20T10:31:06.442Z"
   },
   {
    "duration": 3,
    "start_time": "2022-02-20T10:31:11.758Z"
   },
   {
    "duration": 38,
    "start_time": "2022-02-20T10:31:11.764Z"
   },
   {
    "duration": 11,
    "start_time": "2022-02-20T10:31:11.804Z"
   },
   {
    "duration": 66,
    "start_time": "2022-02-20T10:31:11.817Z"
   },
   {
    "duration": 26,
    "start_time": "2022-02-20T10:31:11.885Z"
   },
   {
    "duration": 21,
    "start_time": "2022-02-20T10:31:11.913Z"
   },
   {
    "duration": 20,
    "start_time": "2022-02-20T10:31:11.936Z"
   },
   {
    "duration": 9,
    "start_time": "2022-02-20T10:31:11.958Z"
   },
   {
    "duration": 11,
    "start_time": "2022-02-20T10:31:11.969Z"
   },
   {
    "duration": 8,
    "start_time": "2022-02-20T10:31:11.983Z"
   },
   {
    "duration": 33,
    "start_time": "2022-02-20T10:31:11.993Z"
   },
   {
    "duration": 5,
    "start_time": "2022-02-20T10:31:12.028Z"
   },
   {
    "duration": 18,
    "start_time": "2022-02-20T10:31:12.035Z"
   },
   {
    "duration": 23,
    "start_time": "2022-02-20T10:31:12.055Z"
   },
   {
    "duration": 7,
    "start_time": "2022-02-20T10:31:12.080Z"
   },
   {
    "duration": 293,
    "start_time": "2022-02-20T10:31:12.089Z"
   },
   {
    "duration": 299,
    "start_time": "2022-02-20T10:31:12.384Z"
   },
   {
    "duration": 6,
    "start_time": "2022-02-20T10:31:12.685Z"
   },
   {
    "duration": 476,
    "start_time": "2022-02-20T10:31:12.693Z"
   },
   {
    "duration": 7,
    "start_time": "2022-02-20T10:31:13.172Z"
   },
   {
    "duration": 281,
    "start_time": "2022-02-20T10:31:13.181Z"
   },
   {
    "duration": 2350,
    "start_time": "2022-02-20T10:31:13.464Z"
   },
   {
    "duration": 34,
    "start_time": "2022-02-20T10:31:15.815Z"
   },
   {
    "duration": 234,
    "start_time": "2022-02-20T10:31:15.851Z"
   },
   {
    "duration": 52,
    "start_time": "2022-02-20T10:31:16.087Z"
   },
   {
    "duration": 68,
    "start_time": "2022-02-20T10:31:16.141Z"
   },
   {
    "duration": 214,
    "start_time": "2022-02-20T10:31:16.212Z"
   },
   {
    "duration": 7,
    "start_time": "2022-02-20T10:31:16.430Z"
   },
   {
    "duration": 12,
    "start_time": "2022-02-20T10:31:16.439Z"
   },
   {
    "duration": 26,
    "start_time": "2022-02-20T10:31:16.453Z"
   },
   {
    "duration": 258,
    "start_time": "2022-02-20T10:35:17.638Z"
   },
   {
    "duration": 244,
    "start_time": "2022-02-20T10:36:13.618Z"
   },
   {
    "duration": 394,
    "start_time": "2022-02-20T10:36:47.838Z"
   },
   {
    "duration": 3,
    "start_time": "2022-02-20T10:36:52.571Z"
   },
   {
    "duration": 43,
    "start_time": "2022-02-20T10:36:52.577Z"
   },
   {
    "duration": 11,
    "start_time": "2022-02-20T10:36:52.622Z"
   },
   {
    "duration": 76,
    "start_time": "2022-02-20T10:36:52.635Z"
   },
   {
    "duration": 5,
    "start_time": "2022-02-20T10:36:52.713Z"
   },
   {
    "duration": 28,
    "start_time": "2022-02-20T10:36:52.720Z"
   },
   {
    "duration": 18,
    "start_time": "2022-02-20T10:36:52.750Z"
   },
   {
    "duration": 33,
    "start_time": "2022-02-20T10:36:52.770Z"
   },
   {
    "duration": 17,
    "start_time": "2022-02-20T10:36:52.805Z"
   },
   {
    "duration": 20,
    "start_time": "2022-02-20T10:36:52.825Z"
   },
   {
    "duration": 34,
    "start_time": "2022-02-20T10:36:52.848Z"
   },
   {
    "duration": 12,
    "start_time": "2022-02-20T10:36:52.884Z"
   },
   {
    "duration": 23,
    "start_time": "2022-02-20T10:36:52.898Z"
   },
   {
    "duration": 24,
    "start_time": "2022-02-20T10:36:52.923Z"
   },
   {
    "duration": 29,
    "start_time": "2022-02-20T10:36:52.950Z"
   },
   {
    "duration": 310,
    "start_time": "2022-02-20T10:36:52.981Z"
   },
   {
    "duration": 281,
    "start_time": "2022-02-20T10:36:56.834Z"
   },
   {
    "duration": 590,
    "start_time": "2022-02-20T10:37:42.156Z"
   },
   {
    "duration": 476,
    "start_time": "2022-02-20T10:37:49.380Z"
   },
   {
    "duration": 509,
    "start_time": "2022-02-20T10:38:39.690Z"
   },
   {
    "duration": 467,
    "start_time": "2022-02-20T10:38:55.233Z"
   },
   {
    "duration": 599,
    "start_time": "2022-02-20T10:39:20.031Z"
   },
   {
    "duration": 469,
    "start_time": "2022-02-20T10:39:25.765Z"
   },
   {
    "duration": 78,
    "start_time": "2022-02-20T10:39:38.185Z"
   },
   {
    "duration": 467,
    "start_time": "2022-02-20T10:39:43.086Z"
   },
   {
    "duration": 478,
    "start_time": "2022-02-20T10:39:51.053Z"
   },
   {
    "duration": 497,
    "start_time": "2022-02-20T10:39:54.977Z"
   },
   {
    "duration": 603,
    "start_time": "2022-02-20T10:40:02.243Z"
   },
   {
    "duration": 642,
    "start_time": "2022-02-20T10:40:10.117Z"
   },
   {
    "duration": 516,
    "start_time": "2022-02-20T10:40:14.031Z"
   },
   {
    "duration": 531,
    "start_time": "2022-02-20T10:40:19.449Z"
   },
   {
    "duration": 667,
    "start_time": "2022-02-20T10:40:23.240Z"
   },
   {
    "duration": 754,
    "start_time": "2022-02-20T10:40:52.080Z"
   },
   {
    "duration": 634,
    "start_time": "2022-02-20T10:41:03.153Z"
   },
   {
    "duration": 560,
    "start_time": "2022-02-20T10:41:05.920Z"
   },
   {
    "duration": 478,
    "start_time": "2022-02-20T10:41:12.153Z"
   },
   {
    "duration": 629,
    "start_time": "2022-02-20T10:41:21.957Z"
   },
   {
    "duration": 491,
    "start_time": "2022-02-20T10:41:25.832Z"
   },
   {
    "duration": 559,
    "start_time": "2022-02-20T10:41:32.736Z"
   },
   {
    "duration": 264,
    "start_time": "2022-02-20T10:42:42.776Z"
   },
   {
    "duration": 78,
    "start_time": "2022-02-20T10:46:54.240Z"
   },
   {
    "duration": 453,
    "start_time": "2022-02-20T10:47:13.841Z"
   },
   {
    "duration": 485,
    "start_time": "2022-02-20T11:08:29.865Z"
   },
   {
    "duration": 464,
    "start_time": "2022-02-20T11:09:21.904Z"
   },
   {
    "duration": 314,
    "start_time": "2022-02-20T11:09:34.219Z"
   },
   {
    "duration": 754,
    "start_time": "2022-02-20T11:09:41.346Z"
   },
   {
    "duration": 474,
    "start_time": "2022-02-20T11:09:49.584Z"
   },
   {
    "duration": 247,
    "start_time": "2022-02-20T11:10:37.222Z"
   },
   {
    "duration": 250,
    "start_time": "2022-02-20T11:10:45.881Z"
   },
   {
    "duration": 464,
    "start_time": "2022-02-20T11:12:55.392Z"
   },
   {
    "duration": 543,
    "start_time": "2022-02-20T11:13:06.143Z"
   },
   {
    "duration": 789,
    "start_time": "2022-02-20T11:14:10.181Z"
   },
   {
    "duration": 758,
    "start_time": "2022-02-20T11:14:15.802Z"
   },
   {
    "duration": 928,
    "start_time": "2022-02-20T11:14:26.627Z"
   },
   {
    "duration": 429,
    "start_time": "2022-02-20T11:15:17.430Z"
   },
   {
    "duration": 5,
    "start_time": "2022-02-20T11:15:25.692Z"
   },
   {
    "duration": 54,
    "start_time": "2022-02-20T11:15:25.699Z"
   },
   {
    "duration": 15,
    "start_time": "2022-02-20T11:15:25.756Z"
   },
   {
    "duration": 99,
    "start_time": "2022-02-20T11:15:25.774Z"
   },
   {
    "duration": 6,
    "start_time": "2022-02-20T11:15:25.876Z"
   },
   {
    "duration": 35,
    "start_time": "2022-02-20T11:15:25.885Z"
   },
   {
    "duration": 15,
    "start_time": "2022-02-20T11:15:25.922Z"
   },
   {
    "duration": 16,
    "start_time": "2022-02-20T11:15:25.941Z"
   },
   {
    "duration": 12,
    "start_time": "2022-02-20T11:15:25.960Z"
   },
   {
    "duration": 8,
    "start_time": "2022-02-20T11:15:25.975Z"
   },
   {
    "duration": 41,
    "start_time": "2022-02-20T11:15:25.986Z"
   },
   {
    "duration": 7,
    "start_time": "2022-02-20T11:15:26.030Z"
   },
   {
    "duration": 25,
    "start_time": "2022-02-20T11:15:26.039Z"
   },
   {
    "duration": 14,
    "start_time": "2022-02-20T11:15:26.066Z"
   },
   {
    "duration": 32,
    "start_time": "2022-02-20T11:15:26.082Z"
   },
   {
    "duration": 476,
    "start_time": "2022-02-20T11:15:26.116Z"
   },
   {
    "duration": 509,
    "start_time": "2022-02-20T11:15:26.594Z"
   },
   {
    "duration": 7,
    "start_time": "2022-02-20T11:15:27.105Z"
   },
   {
    "duration": 488,
    "start_time": "2022-02-20T11:15:29.670Z"
   },
   {
    "duration": 332,
    "start_time": "2022-02-20T11:16:46.512Z"
   },
   {
    "duration": 455,
    "start_time": "2022-02-20T11:17:22.312Z"
   },
   {
    "duration": 496,
    "start_time": "2022-02-20T11:17:43.577Z"
   },
   {
    "duration": 262,
    "start_time": "2022-02-20T11:18:04.124Z"
   },
   {
    "duration": 389,
    "start_time": "2022-02-20T11:18:10.911Z"
   },
   {
    "duration": 236,
    "start_time": "2022-02-20T11:18:14.296Z"
   },
   {
    "duration": 2226,
    "start_time": "2022-02-20T11:18:52.784Z"
   },
   {
    "duration": 2130,
    "start_time": "2022-02-20T11:18:59.087Z"
   },
   {
    "duration": 3033,
    "start_time": "2022-02-20T11:19:03.293Z"
   },
   {
    "duration": 233,
    "start_time": "2022-02-20T11:19:58.484Z"
   },
   {
    "duration": 318,
    "start_time": "2022-02-20T11:20:38.356Z"
   },
   {
    "duration": 228,
    "start_time": "2022-02-20T11:20:45.155Z"
   },
   {
    "duration": 252,
    "start_time": "2022-02-20T11:20:48.841Z"
   },
   {
    "duration": 295,
    "start_time": "2022-02-20T11:21:24.730Z"
   },
   {
    "duration": 356,
    "start_time": "2022-02-20T11:22:31.286Z"
   },
   {
    "duration": 5,
    "start_time": "2022-02-20T11:27:54.414Z"
   },
   {
    "duration": 292,
    "start_time": "2022-02-20T11:27:55.318Z"
   },
   {
    "duration": 464,
    "start_time": "2022-02-20T11:29:14.769Z"
   },
   {
    "duration": 245,
    "start_time": "2022-02-20T11:29:25.638Z"
   },
   {
    "duration": 260,
    "start_time": "2022-02-20T11:32:07.574Z"
   },
   {
    "duration": 249,
    "start_time": "2022-02-20T11:32:09.323Z"
   },
   {
    "duration": 162,
    "start_time": "2022-02-20T11:33:27.709Z"
   },
   {
    "duration": 245,
    "start_time": "2022-02-20T11:34:01.918Z"
   },
   {
    "duration": 397,
    "start_time": "2022-02-20T11:34:24.534Z"
   },
   {
    "duration": 820,
    "start_time": "2022-02-20T11:34:51.265Z"
   },
   {
    "duration": 481,
    "start_time": "2022-02-20T11:34:56.550Z"
   },
   {
    "duration": 449,
    "start_time": "2022-02-20T11:35:01.886Z"
   },
   {
    "duration": 439,
    "start_time": "2022-02-20T11:35:08.070Z"
   },
   {
    "duration": 246,
    "start_time": "2022-02-20T11:36:10.804Z"
   },
   {
    "duration": 404,
    "start_time": "2022-02-20T11:36:20.005Z"
   },
   {
    "duration": 245,
    "start_time": "2022-02-20T11:36:52.309Z"
   },
   {
    "duration": 255,
    "start_time": "2022-02-20T11:37:18.796Z"
   },
   {
    "duration": 421,
    "start_time": "2022-02-20T11:37:28.034Z"
   },
   {
    "duration": 592,
    "start_time": "2022-02-20T11:38:17.407Z"
   },
   {
    "duration": 262,
    "start_time": "2022-02-20T11:40:13.307Z"
   },
   {
    "duration": 21,
    "start_time": "2022-02-20T11:40:30.501Z"
   },
   {
    "duration": 31,
    "start_time": "2022-02-20T11:40:49.133Z"
   },
   {
    "duration": 306,
    "start_time": "2022-02-20T11:41:24.002Z"
   },
   {
    "duration": 22,
    "start_time": "2022-02-20T11:42:55.090Z"
   },
   {
    "duration": 555,
    "start_time": "2022-02-20T11:43:13.655Z"
   },
   {
    "duration": 20,
    "start_time": "2022-02-20T11:43:34.846Z"
   },
   {
    "duration": 252,
    "start_time": "2022-02-20T11:43:37.393Z"
   },
   {
    "duration": 22,
    "start_time": "2022-02-20T11:44:08.238Z"
   },
   {
    "duration": 20,
    "start_time": "2022-02-20T11:45:17.834Z"
   },
   {
    "duration": 29,
    "start_time": "2022-02-20T11:45:22.845Z"
   },
   {
    "duration": 21,
    "start_time": "2022-02-20T11:45:57.617Z"
   },
   {
    "duration": 32,
    "start_time": "2022-02-20T11:46:04.472Z"
   },
   {
    "duration": 34,
    "start_time": "2022-02-20T11:46:10.010Z"
   },
   {
    "duration": 57,
    "start_time": "2022-02-20T11:48:45.868Z"
   },
   {
    "duration": 510,
    "start_time": "2022-02-20T11:49:06.145Z"
   },
   {
    "duration": 58,
    "start_time": "2022-02-20T11:49:28.624Z"
   },
   {
    "duration": 59,
    "start_time": "2022-02-20T11:50:24.533Z"
   },
   {
    "duration": 58,
    "start_time": "2022-02-20T11:50:32.833Z"
   },
   {
    "duration": 58,
    "start_time": "2022-02-20T11:50:41.272Z"
   },
   {
    "duration": 494,
    "start_time": "2022-02-20T11:51:15.873Z"
   },
   {
    "duration": 219,
    "start_time": "2022-02-20T11:51:44.451Z"
   },
   {
    "duration": 60,
    "start_time": "2022-02-20T11:51:51.447Z"
   },
   {
    "duration": 484,
    "start_time": "2022-02-20T11:52:02.094Z"
   },
   {
    "duration": 611,
    "start_time": "2022-02-20T11:52:06.889Z"
   },
   {
    "duration": 484,
    "start_time": "2022-02-20T11:52:39.768Z"
   },
   {
    "duration": 1913,
    "start_time": "2022-02-21T08:06:32.925Z"
   },
   {
    "duration": 1552,
    "start_time": "2022-02-21T08:06:39.696Z"
   },
   {
    "duration": 45,
    "start_time": "2022-02-21T08:06:41.251Z"
   },
   {
    "duration": 30,
    "start_time": "2022-02-21T08:06:41.300Z"
   },
   {
    "duration": 93,
    "start_time": "2022-02-21T08:06:41.333Z"
   },
   {
    "duration": 7,
    "start_time": "2022-02-21T08:06:41.428Z"
   },
   {
    "duration": 17,
    "start_time": "2022-02-21T08:06:41.438Z"
   },
   {
    "duration": 31,
    "start_time": "2022-02-21T08:06:41.457Z"
   },
   {
    "duration": 14,
    "start_time": "2022-02-21T08:06:41.492Z"
   },
   {
    "duration": 21,
    "start_time": "2022-02-21T08:06:41.510Z"
   },
   {
    "duration": 32,
    "start_time": "2022-02-21T08:06:41.533Z"
   },
   {
    "duration": 63,
    "start_time": "2022-02-21T08:06:41.567Z"
   },
   {
    "duration": 6,
    "start_time": "2022-02-21T08:06:41.633Z"
   },
   {
    "duration": 33,
    "start_time": "2022-02-21T08:06:41.642Z"
   },
   {
    "duration": 29,
    "start_time": "2022-02-21T08:06:41.678Z"
   },
   {
    "duration": 31,
    "start_time": "2022-02-21T08:06:41.710Z"
   },
   {
    "duration": 431,
    "start_time": "2022-02-21T08:06:41.744Z"
   },
   {
    "duration": 709,
    "start_time": "2022-02-21T08:06:42.177Z"
   },
   {
    "duration": 6,
    "start_time": "2022-02-21T08:06:42.888Z"
   },
   {
    "duration": 364,
    "start_time": "2022-02-21T08:06:42.896Z"
   },
   {
    "duration": 7,
    "start_time": "2022-02-21T08:06:43.262Z"
   },
   {
    "duration": 452,
    "start_time": "2022-02-21T08:06:43.272Z"
   },
   {
    "duration": 3192,
    "start_time": "2022-02-21T08:06:43.727Z"
   },
   {
    "duration": 41,
    "start_time": "2022-02-21T08:06:46.928Z"
   },
   {
    "duration": 867,
    "start_time": "2022-02-21T08:06:46.972Z"
   },
   {
    "duration": 107,
    "start_time": "2022-02-21T08:06:47.842Z"
   },
   {
    "duration": 11,
    "start_time": "2022-02-21T08:06:47.940Z"
   },
   {
    "duration": 9,
    "start_time": "2022-02-21T08:06:47.944Z"
   },
   {
    "duration": 7,
    "start_time": "2022-02-21T08:06:47.947Z"
   },
   {
    "duration": 5,
    "start_time": "2022-02-21T08:06:47.951Z"
   },
   {
    "duration": 3,
    "start_time": "2022-02-21T08:06:47.955Z"
   },
   {
    "duration": 53,
    "start_time": "2022-02-21T08:07:15.028Z"
   },
   {
    "duration": 510,
    "start_time": "2022-02-21T08:07:41.662Z"
   },
   {
    "duration": 362,
    "start_time": "2022-02-21T08:08:02.889Z"
   },
   {
    "duration": 773,
    "start_time": "2022-02-21T08:08:14.786Z"
   },
   {
    "duration": 332,
    "start_time": "2022-02-21T08:08:25.749Z"
   },
   {
    "duration": 55,
    "start_time": "2022-02-21T08:08:43.594Z"
   },
   {
    "duration": 62,
    "start_time": "2022-02-21T08:08:53.915Z"
   },
   {
    "duration": 140,
    "start_time": "2022-02-21T08:09:41.436Z"
   },
   {
    "duration": 505,
    "start_time": "2022-02-21T08:10:00.745Z"
   },
   {
    "duration": 851,
    "start_time": "2022-02-21T08:10:15.228Z"
   },
   {
    "duration": 758,
    "start_time": "2022-02-21T08:10:25.337Z"
   },
   {
    "duration": 1312,
    "start_time": "2022-02-21T08:10:35.529Z"
   },
   {
    "duration": 755,
    "start_time": "2022-02-21T08:11:32.906Z"
   },
   {
    "duration": 831,
    "start_time": "2022-02-21T08:12:47.760Z"
   },
   {
    "duration": 763,
    "start_time": "2022-02-21T08:13:01.198Z"
   },
   {
    "duration": 439,
    "start_time": "2022-02-21T08:13:53.324Z"
   },
   {
    "duration": 582,
    "start_time": "2022-02-21T08:14:03.751Z"
   },
   {
    "duration": 304,
    "start_time": "2022-02-21T08:14:07.885Z"
   },
   {
    "duration": 334,
    "start_time": "2022-02-21T08:15:01.253Z"
   },
   {
    "duration": 629,
    "start_time": "2022-02-21T08:15:19.388Z"
   },
   {
    "duration": 341,
    "start_time": "2022-02-21T08:15:32.890Z"
   },
   {
    "duration": 643,
    "start_time": "2022-02-21T08:15:36.913Z"
   },
   {
    "duration": 400,
    "start_time": "2022-02-21T08:15:45.608Z"
   },
   {
    "duration": 383,
    "start_time": "2022-02-21T08:16:17.940Z"
   },
   {
    "duration": 459,
    "start_time": "2022-02-21T08:16:25.343Z"
   },
   {
    "duration": 620,
    "start_time": "2022-02-21T08:16:36.023Z"
   },
   {
    "duration": 519,
    "start_time": "2022-02-21T08:17:36.415Z"
   },
   {
    "duration": 133,
    "start_time": "2022-02-21T08:18:19.871Z"
   },
   {
    "duration": 523,
    "start_time": "2022-02-21T08:18:43.224Z"
   },
   {
    "duration": 533,
    "start_time": "2022-02-21T08:18:50.065Z"
   },
   {
    "duration": 533,
    "start_time": "2022-02-21T08:20:09.606Z"
   },
   {
    "duration": 550,
    "start_time": "2022-02-21T08:20:53.438Z"
   },
   {
    "duration": 705,
    "start_time": "2022-02-21T08:21:00.655Z"
   },
   {
    "duration": 304,
    "start_time": "2022-02-21T08:21:13.840Z"
   },
   {
    "duration": 512,
    "start_time": "2022-02-21T08:21:57.269Z"
   },
   {
    "duration": 304,
    "start_time": "2022-02-21T08:22:11.012Z"
   },
   {
    "duration": 659,
    "start_time": "2022-02-21T08:23:23.221Z"
   },
   {
    "duration": 646,
    "start_time": "2022-02-21T08:23:50.871Z"
   },
   {
    "duration": 583,
    "start_time": "2022-02-21T08:23:59.868Z"
   },
   {
    "duration": 629,
    "start_time": "2022-02-21T08:24:30.745Z"
   },
   {
    "duration": 743,
    "start_time": "2022-02-21T08:24:51.012Z"
   },
   {
    "duration": 721,
    "start_time": "2022-02-21T08:24:56.274Z"
   },
   {
    "duration": 608,
    "start_time": "2022-02-21T08:25:16.951Z"
   },
   {
    "duration": 655,
    "start_time": "2022-02-21T08:28:12.017Z"
   },
   {
    "duration": 556,
    "start_time": "2022-02-21T08:28:20.535Z"
   },
   {
    "duration": 1628,
    "start_time": "2022-02-21T08:30:47.941Z"
   },
   {
    "duration": 46,
    "start_time": "2022-02-21T08:30:49.572Z"
   },
   {
    "duration": 20,
    "start_time": "2022-02-21T08:30:49.628Z"
   },
   {
    "duration": 111,
    "start_time": "2022-02-21T08:30:49.652Z"
   },
   {
    "duration": 8,
    "start_time": "2022-02-21T08:30:49.767Z"
   },
   {
    "duration": 49,
    "start_time": "2022-02-21T08:30:49.777Z"
   },
   {
    "duration": 5,
    "start_time": "2022-02-21T08:30:49.829Z"
   },
   {
    "duration": 27,
    "start_time": "2022-02-21T08:30:49.838Z"
   },
   {
    "duration": 28,
    "start_time": "2022-02-21T08:30:49.869Z"
   },
   {
    "duration": 33,
    "start_time": "2022-02-21T08:30:49.900Z"
   },
   {
    "duration": 63,
    "start_time": "2022-02-21T08:30:49.936Z"
   },
   {
    "duration": 16,
    "start_time": "2022-02-21T08:30:50.001Z"
   },
   {
    "duration": 46,
    "start_time": "2022-02-21T08:30:50.020Z"
   },
   {
    "duration": 59,
    "start_time": "2022-02-21T08:30:50.069Z"
   },
   {
    "duration": 27,
    "start_time": "2022-02-21T08:30:50.131Z"
   },
   {
    "duration": 650,
    "start_time": "2022-02-21T08:30:50.161Z"
   },
   {
    "duration": 754,
    "start_time": "2022-02-21T08:30:50.814Z"
   },
   {
    "duration": 10,
    "start_time": "2022-02-21T08:30:51.571Z"
   },
   {
    "duration": 459,
    "start_time": "2022-02-21T08:30:51.583Z"
   },
   {
    "duration": 10,
    "start_time": "2022-02-21T08:30:52.045Z"
   },
   {
    "duration": 410,
    "start_time": "2022-02-21T08:30:52.058Z"
   },
   {
    "duration": 3479,
    "start_time": "2022-02-21T08:30:52.470Z"
   },
   {
    "duration": 43,
    "start_time": "2022-02-21T08:30:55.954Z"
   },
   {
    "duration": 783,
    "start_time": "2022-02-21T08:30:56.026Z"
   },
   {
    "duration": 916,
    "start_time": "2022-02-21T08:30:56.812Z"
   },
   {
    "duration": 13,
    "start_time": "2022-02-21T08:30:57.718Z"
   },
   {
    "duration": 11,
    "start_time": "2022-02-21T08:30:57.722Z"
   },
   {
    "duration": 7,
    "start_time": "2022-02-21T08:30:57.727Z"
   },
   {
    "duration": 5,
    "start_time": "2022-02-21T08:30:57.731Z"
   },
   {
    "duration": 2,
    "start_time": "2022-02-21T08:30:57.736Z"
   },
   {
    "duration": 711,
    "start_time": "2022-02-21T08:34:32.046Z"
   },
   {
    "duration": 735,
    "start_time": "2022-02-21T08:34:35.957Z"
   },
   {
    "duration": 769,
    "start_time": "2022-02-21T08:35:46.719Z"
   },
   {
    "duration": 582,
    "start_time": "2022-02-21T08:35:48.455Z"
   },
   {
    "duration": 1574,
    "start_time": "2022-02-21T08:36:04.908Z"
   },
   {
    "duration": 43,
    "start_time": "2022-02-21T08:36:06.484Z"
   },
   {
    "duration": 17,
    "start_time": "2022-02-21T08:36:06.531Z"
   },
   {
    "duration": 94,
    "start_time": "2022-02-21T08:36:06.551Z"
   },
   {
    "duration": 7,
    "start_time": "2022-02-21T08:36:06.648Z"
   },
   {
    "duration": 18,
    "start_time": "2022-02-21T08:36:06.657Z"
   },
   {
    "duration": 9,
    "start_time": "2022-02-21T08:36:06.678Z"
   },
   {
    "duration": 41,
    "start_time": "2022-02-21T08:36:06.692Z"
   },
   {
    "duration": 10,
    "start_time": "2022-02-21T08:36:06.737Z"
   },
   {
    "duration": 9,
    "start_time": "2022-02-21T08:36:06.749Z"
   },
   {
    "duration": 68,
    "start_time": "2022-02-21T08:36:06.761Z"
   },
   {
    "duration": 7,
    "start_time": "2022-02-21T08:36:06.831Z"
   },
   {
    "duration": 12,
    "start_time": "2022-02-21T08:36:06.840Z"
   },
   {
    "duration": 16,
    "start_time": "2022-02-21T08:36:06.855Z"
   },
   {
    "duration": 8,
    "start_time": "2022-02-21T08:36:06.874Z"
   },
   {
    "duration": 461,
    "start_time": "2022-02-21T08:36:06.885Z"
   },
   {
    "duration": 742,
    "start_time": "2022-02-21T08:36:07.349Z"
   },
   {
    "duration": 7,
    "start_time": "2022-02-21T08:36:08.093Z"
   },
   {
    "duration": 365,
    "start_time": "2022-02-21T08:36:08.103Z"
   },
   {
    "duration": 8,
    "start_time": "2022-02-21T08:36:08.471Z"
   },
   {
    "duration": 392,
    "start_time": "2022-02-21T08:36:08.482Z"
   },
   {
    "duration": 3381,
    "start_time": "2022-02-21T08:36:08.876Z"
   },
   {
    "duration": 70,
    "start_time": "2022-02-21T08:36:12.265Z"
   },
   {
    "duration": 716,
    "start_time": "2022-02-21T08:36:12.338Z"
   },
   {
    "duration": 596,
    "start_time": "2022-02-21T08:36:13.058Z"
   },
   {
    "duration": 608,
    "start_time": "2022-02-21T08:36:13.656Z"
   },
   {
    "duration": 468,
    "start_time": "2022-02-21T08:36:14.267Z"
   },
   {
    "duration": -25,
    "start_time": "2022-02-21T08:36:14.763Z"
   },
   {
    "duration": -26,
    "start_time": "2022-02-21T08:36:14.766Z"
   },
   {
    "duration": -29,
    "start_time": "2022-02-21T08:36:14.770Z"
   },
   {
    "duration": 1430,
    "start_time": "2022-02-21T08:36:45.001Z"
   },
   {
    "duration": 32,
    "start_time": "2022-02-21T08:37:08.360Z"
   },
   {
    "duration": 327,
    "start_time": "2022-02-21T08:37:35.723Z"
   },
   {
    "duration": 402,
    "start_time": "2022-02-21T08:37:48.657Z"
   },
   {
    "duration": 1685,
    "start_time": "2022-02-21T08:38:03.488Z"
   },
   {
    "duration": 51,
    "start_time": "2022-02-21T08:38:05.176Z"
   },
   {
    "duration": 18,
    "start_time": "2022-02-21T08:38:05.230Z"
   },
   {
    "duration": 104,
    "start_time": "2022-02-21T08:38:05.251Z"
   },
   {
    "duration": 8,
    "start_time": "2022-02-21T08:38:05.358Z"
   },
   {
    "duration": 19,
    "start_time": "2022-02-21T08:38:05.369Z"
   },
   {
    "duration": 39,
    "start_time": "2022-02-21T08:38:05.391Z"
   },
   {
    "duration": 8,
    "start_time": "2022-02-21T08:38:05.436Z"
   },
   {
    "duration": 8,
    "start_time": "2022-02-21T08:38:05.448Z"
   },
   {
    "duration": 7,
    "start_time": "2022-02-21T08:38:05.459Z"
   },
   {
    "duration": 83,
    "start_time": "2022-02-21T08:38:05.469Z"
   },
   {
    "duration": 12,
    "start_time": "2022-02-21T08:38:05.555Z"
   },
   {
    "duration": 14,
    "start_time": "2022-02-21T08:38:05.569Z"
   },
   {
    "duration": 17,
    "start_time": "2022-02-21T08:38:05.585Z"
   },
   {
    "duration": 8,
    "start_time": "2022-02-21T08:38:05.627Z"
   },
   {
    "duration": 435,
    "start_time": "2022-02-21T08:38:05.637Z"
   },
   {
    "duration": 811,
    "start_time": "2022-02-21T08:38:06.074Z"
   },
   {
    "duration": 6,
    "start_time": "2022-02-21T08:38:06.888Z"
   },
   {
    "duration": 409,
    "start_time": "2022-02-21T08:38:06.897Z"
   },
   {
    "duration": 8,
    "start_time": "2022-02-21T08:38:07.308Z"
   },
   {
    "duration": 405,
    "start_time": "2022-02-21T08:38:07.319Z"
   },
   {
    "duration": 3490,
    "start_time": "2022-02-21T08:38:07.727Z"
   },
   {
    "duration": 42,
    "start_time": "2022-02-21T08:38:11.229Z"
   },
   {
    "duration": 713,
    "start_time": "2022-02-21T08:38:11.273Z"
   },
   {
    "duration": 590,
    "start_time": "2022-02-21T08:38:11.989Z"
   },
   {
    "duration": 636,
    "start_time": "2022-02-21T08:38:12.581Z"
   },
   {
    "duration": 428,
    "start_time": "2022-02-21T08:38:13.220Z"
   },
   {
    "duration": 8,
    "start_time": "2022-02-21T08:38:13.651Z"
   },
   {
    "duration": 14,
    "start_time": "2022-02-21T08:38:13.661Z"
   },
   {
    "duration": 12,
    "start_time": "2022-02-21T08:38:13.678Z"
   },
   {
    "duration": 437,
    "start_time": "2022-02-21T08:41:30.835Z"
   },
   {
    "duration": 340,
    "start_time": "2022-02-21T08:41:38.706Z"
   },
   {
    "duration": 350,
    "start_time": "2022-02-21T08:41:42.549Z"
   },
   {
    "duration": 362,
    "start_time": "2022-02-21T08:42:08.428Z"
   },
   {
    "duration": 687,
    "start_time": "2022-02-21T08:42:11.326Z"
   },
   {
    "duration": 398,
    "start_time": "2022-02-21T08:42:14.344Z"
   },
   {
    "duration": 441,
    "start_time": "2022-02-21T08:42:20.400Z"
   },
   {
    "duration": 369,
    "start_time": "2022-02-21T08:45:22.857Z"
   },
   {
    "duration": 377,
    "start_time": "2022-02-21T08:45:48.249Z"
   }
  ],
  "kernelspec": {
   "display_name": "Python 3.9.13 64-bit",
   "language": "python",
   "name": "python3"
  },
  "language_info": {
   "codemirror_mode": {
    "name": "ipython",
    "version": 3
   },
   "file_extension": ".py",
   "mimetype": "text/x-python",
   "name": "python",
   "nbconvert_exporter": "python",
   "pygments_lexer": "ipython3",
   "version": "3.9.13"
  },
  "toc": {
   "base_numbering": 1,
   "nav_menu": {},
   "number_sections": true,
   "sideBar": true,
   "skip_h1_title": true,
   "title_cell": "Table of Contents",
   "title_sidebar": "Contents",
   "toc_cell": false,
   "toc_position": {
    "height": "calc(100% - 180px)",
    "left": "10px",
    "top": "150px",
    "width": "230px"
   },
   "toc_section_display": true,
   "toc_window_display": true
  },
  "vscode": {
   "interpreter": {
    "hash": "aee8b7b246df8f9039afb4144a1f6fd8d2ca17a180786b69acc140d282b71a49"
   }
  }
 },
 "nbformat": 4,
 "nbformat_minor": 2
}
