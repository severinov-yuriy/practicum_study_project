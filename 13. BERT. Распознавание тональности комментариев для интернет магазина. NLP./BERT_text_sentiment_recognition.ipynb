{
 "cells": [
  {
   "cell_type": "markdown",
   "metadata": {
    "id": "Md6EZ-EXLIAG",
    "toc": true
   },
   "source": [
    "<h1>Содержание<span class=\"tocSkip\"></span></h1>\n",
    "<div class=\"toc\"><ul class=\"toc-item\"><li><span><a href=\"#Подготовка\" data-toc-modified-id=\"Подготовка-1\"><span class=\"toc-item-num\">1&nbsp;&nbsp;</span>Подготовка</a></span><ul class=\"toc-item\"><li><span><a href=\"#Подготовка-окружения\" data-toc-modified-id=\"Подготовка-окружения-1.1\"><span class=\"toc-item-num\">1.1&nbsp;&nbsp;</span>Подготовка окружения</a></span></li><li><span><a href=\"#Обзор-данных\" data-toc-modified-id=\"Обзор-данных-1.2\"><span class=\"toc-item-num\">1.2&nbsp;&nbsp;</span>Обзор данных</a></span></li><li><span><a href=\"#Подготовка-данных\" data-toc-modified-id=\"Подготовка-данных-1.3\"><span class=\"toc-item-num\">1.3&nbsp;&nbsp;</span>Подготовка данных</a></span></li><li><span><a href=\"#Балансировка-данных\" data-toc-modified-id=\"Балансировка-данных-1.4\"><span class=\"toc-item-num\">1.4&nbsp;&nbsp;</span>Балансировка данных</a></span></li><li><span><a href=\"#Создание-эмбеддинга-с-BERT\" data-toc-modified-id=\"Создание-эмбеддинга-с-BERT-1.5\"><span class=\"toc-item-num\">1.5&nbsp;&nbsp;</span>Создание эмбеддинга с BERT</a></span></li></ul></li><li><span><a href=\"#Обучение\" data-toc-modified-id=\"Обучение-2\"><span class=\"toc-item-num\">2&nbsp;&nbsp;</span>Обучение</a></span><ul class=\"toc-item\"><li><span><a href=\"#Обучение-простой-модели\" data-toc-modified-id=\"Обучение-простой-модели-2.1\"><span class=\"toc-item-num\">2.1&nbsp;&nbsp;</span>Обучение простой модели</a></span></li><li><span><a href=\"#Обучение-на-сбалансированных-данных\" data-toc-modified-id=\"Обучение-на-сбалансированных-данных-2.2\"><span class=\"toc-item-num\">2.2&nbsp;&nbsp;</span>Обучение на сбалансированных данных</a></span></li><li><span><a href=\"#Оптимизация-модели-с-помощью-Optuna\" data-toc-modified-id=\"Оптимизация-модели-с-помощью-Optuna-2.3\"><span class=\"toc-item-num\">2.3&nbsp;&nbsp;</span>Оптимизация модели с помощью Optuna</a></span></li><li><span><a href=\"#Обучение-модели-на-эмбеддинге\" data-toc-modified-id=\"Обучение-модели-на-эмбеддинге-2.4\"><span class=\"toc-item-num\">2.4&nbsp;&nbsp;</span>Обучение модели на эмбеддинге</a></span></li></ul></li><li><span><a href=\"#Выводы\" data-toc-modified-id=\"Выводы-3\"><span class=\"toc-item-num\">3&nbsp;&nbsp;</span>Выводы</a></span></li><li><span><a href=\"#Чек-лист-проверки\" data-toc-modified-id=\"Чек-лист-проверки-4\"><span class=\"toc-item-num\">4&nbsp;&nbsp;</span>Чек-лист проверки</a></span></li></ul></div>"
   ]
  },
  {
   "cell_type": "markdown",
   "metadata": {
    "id": "g-POmTyeLIAK"
   },
   "source": [
    "# Проект для «Викишоп» с BERT"
   ]
  },
  {
   "cell_type": "markdown",
   "metadata": {
    "id": "3CC75y0ZLIAL"
   },
   "source": [
    "Интернет-магазин «Викишоп» запускает новый сервис. Теперь пользователи могут редактировать и дополнять описания товаров, как в вики-сообществах. То есть клиенты предлагают свои правки и комментируют изменения других. Магазину нужен инструмент, который будет искать токсичные комментарии и отправлять их на модерацию. \n",
    "\n",
    "Обучите модель классифицировать комментарии на позитивные и негативные. В вашем распоряжении набор данных с разметкой о токсичности правок.\n",
    "\n",
    "Постройте модель со значением метрики качества *F1* не меньше 0.75. \n",
    "\n",
    "**Инструкция по выполнению проекта**\n",
    "\n",
    "1. Загрузите и подготовьте данные.\n",
    "2. Обучите разные модели. \n",
    "3. Сделайте выводы.\n",
    "\n",
    "Для выполнения проекта применять *BERT* необязательно, но вы можете попробовать.\n",
    "\n",
    "**Описание данных**\n",
    "\n",
    "Данные находятся в файле `toxic_comments.csv`. Столбец *text* в нём содержит текст комментария, а *toxic* — целевой признак."
   ]
  },
  {
   "cell_type": "markdown",
   "metadata": {
    "id": "P8nRgqHVLIAM"
   },
   "source": [
    "## Подготовка"
   ]
  },
  {
   "cell_type": "markdown",
   "metadata": {
    "id": "lZgVqrOWOaJ1"
   },
   "source": [
    "### Подготовка окружения"
   ]
  },
  {
   "cell_type": "markdown",
   "metadata": {
    "id": "fJOFCCRXNK_W"
   },
   "source": [
    "Перед выполнением проекта подготовим окружение - загрузим необходимые библиотеки и данные."
   ]
  },
  {
   "cell_type": "code",
   "execution_count": 2,
   "metadata": {
    "colab": {
     "base_uri": "https://localhost:8080/"
    },
    "id": "L77DghMlZWU5",
    "outputId": "56c1268f-8f68-493e-cb34-17e45c5f7009"
   },
   "outputs": [
    {
     "name": "stdout",
     "output_type": "stream",
     "text": [
      "Looking in indexes: https://pypi.org/simple, https://us-python.pkg.dev/colab-wheels/public/simple/\n",
      "Collecting optuna\n",
      "  Downloading optuna-2.10.1-py3-none-any.whl (308 kB)\n",
      "\u001b[K     |████████████████████████████████| 308 kB 5.2 MB/s \n",
      "\u001b[?25hRequirement already satisfied: scipy!=1.4.0 in /usr/local/lib/python3.7/dist-packages (from optuna) (1.4.1)\n",
      "Requirement already satisfied: numpy in /usr/local/lib/python3.7/dist-packages (from optuna) (1.21.6)\n",
      "Collecting alembic\n",
      "  Downloading alembic-1.8.0-py3-none-any.whl (209 kB)\n",
      "\u001b[K     |████████████████████████████████| 209 kB 12.8 MB/s \n",
      "\u001b[?25hRequirement already satisfied: tqdm in /usr/local/lib/python3.7/dist-packages (from optuna) (4.64.0)\n",
      "Requirement already satisfied: packaging>=20.0 in /usr/local/lib/python3.7/dist-packages (from optuna) (21.3)\n",
      "Collecting colorlog\n",
      "  Downloading colorlog-6.6.0-py2.py3-none-any.whl (11 kB)\n",
      "Collecting cmaes>=0.8.2\n",
      "  Downloading cmaes-0.8.2-py3-none-any.whl (15 kB)\n",
      "Requirement already satisfied: PyYAML in /usr/local/lib/python3.7/dist-packages (from optuna) (3.13)\n",
      "Collecting cliff\n",
      "  Downloading cliff-3.10.1-py3-none-any.whl (81 kB)\n",
      "\u001b[K     |████████████████████████████████| 81 kB 11.1 MB/s \n",
      "\u001b[?25hRequirement already satisfied: sqlalchemy>=1.1.0 in /usr/local/lib/python3.7/dist-packages (from optuna) (1.4.37)\n",
      "Requirement already satisfied: pyparsing!=3.0.5,>=2.0.2 in /usr/local/lib/python3.7/dist-packages (from packaging>=20.0->optuna) (3.0.9)\n",
      "Requirement already satisfied: importlib-metadata in /usr/local/lib/python3.7/dist-packages (from sqlalchemy>=1.1.0->optuna) (4.11.4)\n",
      "Requirement already satisfied: greenlet!=0.4.17 in /usr/local/lib/python3.7/dist-packages (from sqlalchemy>=1.1.0->optuna) (1.1.2)\n",
      "Collecting Mako\n",
      "  Downloading Mako-1.2.0-py3-none-any.whl (78 kB)\n",
      "\u001b[K     |████████████████████████████████| 78 kB 7.7 MB/s \n",
      "\u001b[?25hRequirement already satisfied: importlib-resources in /usr/local/lib/python3.7/dist-packages (from alembic->optuna) (5.7.1)\n",
      "Collecting stevedore>=2.0.1\n",
      "  Downloading stevedore-3.5.0-py3-none-any.whl (49 kB)\n",
      "\u001b[K     |████████████████████████████████| 49 kB 7.0 MB/s \n",
      "\u001b[?25hCollecting cmd2>=1.0.0\n",
      "  Downloading cmd2-2.4.1-py3-none-any.whl (146 kB)\n",
      "\u001b[K     |████████████████████████████████| 146 kB 50.1 MB/s \n",
      "\u001b[?25hCollecting pbr!=2.1.0,>=2.0.0\n",
      "  Downloading pbr-5.9.0-py2.py3-none-any.whl (112 kB)\n",
      "\u001b[K     |████████████████████████████████| 112 kB 56.9 MB/s \n",
      "\u001b[?25hCollecting autopage>=0.4.0\n",
      "  Downloading autopage-0.5.1-py3-none-any.whl (29 kB)\n",
      "Requirement already satisfied: PrettyTable>=0.7.2 in /usr/local/lib/python3.7/dist-packages (from cliff->optuna) (3.3.0)\n",
      "Requirement already satisfied: wcwidth>=0.1.7 in /usr/local/lib/python3.7/dist-packages (from cmd2>=1.0.0->cliff->optuna) (0.2.5)\n",
      "Requirement already satisfied: attrs>=16.3.0 in /usr/local/lib/python3.7/dist-packages (from cmd2>=1.0.0->cliff->optuna) (21.4.0)\n",
      "Collecting pyperclip>=1.6\n",
      "  Downloading pyperclip-1.8.2.tar.gz (20 kB)\n",
      "Requirement already satisfied: typing-extensions in /usr/local/lib/python3.7/dist-packages (from cmd2>=1.0.0->cliff->optuna) (4.1.1)\n",
      "Requirement already satisfied: zipp>=0.5 in /usr/local/lib/python3.7/dist-packages (from importlib-metadata->sqlalchemy>=1.1.0->optuna) (3.8.0)\n",
      "Requirement already satisfied: MarkupSafe>=0.9.2 in /usr/local/lib/python3.7/dist-packages (from Mako->alembic->optuna) (2.0.1)\n",
      "Building wheels for collected packages: pyperclip\n",
      "  Building wheel for pyperclip (setup.py) ... \u001b[?25l\u001b[?25hdone\n",
      "  Created wheel for pyperclip: filename=pyperclip-1.8.2-py3-none-any.whl size=11137 sha256=4604e883f5c50c0b30095e3403af724f46136b9936551d5b42fe63e6ed1ebced\n",
      "  Stored in directory: /root/.cache/pip/wheels/9f/18/84/8f69f8b08169c7bae2dde6bd7daf0c19fca8c8e500ee620a28\n",
      "Successfully built pyperclip\n",
      "Installing collected packages: pyperclip, pbr, stevedore, Mako, cmd2, autopage, colorlog, cmaes, cliff, alembic, optuna\n",
      "Successfully installed Mako-1.2.0 alembic-1.8.0 autopage-0.5.1 cliff-3.10.1 cmaes-0.8.2 cmd2-2.4.1 colorlog-6.6.0 optuna-2.10.1 pbr-5.9.0 pyperclip-1.8.2 stevedore-3.5.0\n",
      "Looking in indexes: https://pypi.org/simple, https://us-python.pkg.dev/colab-wheels/public/simple/\n",
      "Collecting transformers\n",
      "  Downloading transformers-4.20.1-py3-none-any.whl (4.4 MB)\n",
      "\u001b[K     |████████████████████████████████| 4.4 MB 5.2 MB/s \n",
      "\u001b[?25hRequirement already satisfied: packaging>=20.0 in /usr/local/lib/python3.7/dist-packages (from transformers) (21.3)\n",
      "Requirement already satisfied: requests in /usr/local/lib/python3.7/dist-packages (from transformers) (2.23.0)\n",
      "Requirement already satisfied: tqdm>=4.27 in /usr/local/lib/python3.7/dist-packages (from transformers) (4.64.0)\n",
      "Requirement already satisfied: regex!=2019.12.17 in /usr/local/lib/python3.7/dist-packages (from transformers) (2022.6.2)\n",
      "Collecting huggingface-hub<1.0,>=0.1.0\n",
      "  Downloading huggingface_hub-0.8.1-py3-none-any.whl (101 kB)\n",
      "\u001b[K     |████████████████████████████████| 101 kB 10.3 MB/s \n",
      "\u001b[?25hCollecting pyyaml>=5.1\n",
      "  Downloading PyYAML-6.0-cp37-cp37m-manylinux_2_5_x86_64.manylinux1_x86_64.manylinux_2_12_x86_64.manylinux2010_x86_64.whl (596 kB)\n",
      "\u001b[K     |████████████████████████████████| 596 kB 62.5 MB/s \n",
      "\u001b[?25hRequirement already satisfied: numpy>=1.17 in /usr/local/lib/python3.7/dist-packages (from transformers) (1.21.6)\n",
      "Collecting tokenizers!=0.11.3,<0.13,>=0.11.1\n",
      "  Downloading tokenizers-0.12.1-cp37-cp37m-manylinux_2_12_x86_64.manylinux2010_x86_64.whl (6.6 MB)\n",
      "\u001b[K     |████████████████████████████████| 6.6 MB 49.7 MB/s \n",
      "\u001b[?25hRequirement already satisfied: filelock in /usr/local/lib/python3.7/dist-packages (from transformers) (3.7.1)\n",
      "Requirement already satisfied: importlib-metadata in /usr/local/lib/python3.7/dist-packages (from transformers) (4.11.4)\n",
      "Requirement already satisfied: typing-extensions>=3.7.4.3 in /usr/local/lib/python3.7/dist-packages (from huggingface-hub<1.0,>=0.1.0->transformers) (4.1.1)\n",
      "Requirement already satisfied: pyparsing!=3.0.5,>=2.0.2 in /usr/local/lib/python3.7/dist-packages (from packaging>=20.0->transformers) (3.0.9)\n",
      "Requirement already satisfied: zipp>=0.5 in /usr/local/lib/python3.7/dist-packages (from importlib-metadata->transformers) (3.8.0)\n",
      "Requirement already satisfied: certifi>=2017.4.17 in /usr/local/lib/python3.7/dist-packages (from requests->transformers) (2022.6.15)\n",
      "Requirement already satisfied: chardet<4,>=3.0.2 in /usr/local/lib/python3.7/dist-packages (from requests->transformers) (3.0.4)\n",
      "Requirement already satisfied: idna<3,>=2.5 in /usr/local/lib/python3.7/dist-packages (from requests->transformers) (2.10)\n",
      "Requirement already satisfied: urllib3!=1.25.0,!=1.25.1,<1.26,>=1.21.1 in /usr/local/lib/python3.7/dist-packages (from requests->transformers) (1.24.3)\n",
      "Installing collected packages: pyyaml, tokenizers, huggingface-hub, transformers\n",
      "  Attempting uninstall: pyyaml\n",
      "    Found existing installation: PyYAML 3.13\n",
      "    Uninstalling PyYAML-3.13:\n",
      "      Successfully uninstalled PyYAML-3.13\n",
      "Successfully installed huggingface-hub-0.8.1 pyyaml-6.0 tokenizers-0.12.1 transformers-4.20.1\n"
     ]
    }
   ],
   "source": [
    "!pip install optuna\n",
    "!pip install transformers"
   ]
  },
  {
   "cell_type": "code",
   "execution_count": 3,
   "metadata": {
    "colab": {
     "base_uri": "https://localhost:8080/"
    },
    "id": "XbMeqjkjNJPS",
    "outputId": "c38a5c87-585b-47d7-ac59-c09bbbd4c1f5"
   },
   "outputs": [
    {
     "name": "stderr",
     "output_type": "stream",
     "text": [
      "[nltk_data] Downloading package wordnet to /root/nltk_data...\n",
      "[nltk_data]   Unzipping corpora/wordnet.zip.\n",
      "[nltk_data] Downloading package omw-1.4 to /root/nltk_data...\n",
      "[nltk_data]   Unzipping corpora/omw-1.4.zip.\n",
      "[nltk_data] Downloading package stopwords to /root/nltk_data...\n",
      "[nltk_data]   Unzipping corpora/stopwords.zip.\n"
     ]
    }
   ],
   "source": [
    " import pandas as pd\n",
    " import numpy as np\n",
    "\n",
    " import re\n",
    " import nltk\n",
    " nltk.download('wordnet')\n",
    " nltk.download('omw-1.4')\n",
    " from nltk.stem import WordNetLemmatizer\n",
    " from nltk.corpus import stopwords\n",
    " nltk.download('stopwords')\n",
    " from sklearn.feature_extraction.text import TfidfVectorizer\n",
    "\n",
    " import torch\n",
    " import transformers\n",
    " from tqdm import notebook\n",
    "\n",
    " from sklearn.model_selection import train_test_split\n",
    " from sklearn.utils import shuffle\n",
    "\n",
    " from sklearn.linear_model import LogisticRegression\n",
    " from sklearn.naive_bayes import MultinomialNB\n",
    " from sklearn.linear_model import SGDClassifier\n",
    " from sklearn.kernel_approximation import RBFSampler\n",
    "\n",
    " from sklearn.metrics import f1_score\n",
    "\n",
    " import optuna"
   ]
  },
  {
   "cell_type": "code",
   "execution_count": 4,
   "metadata": {
    "id": "bhP6MKiuLIAM"
   },
   "outputs": [],
   "source": [
    "try:\n",
    "    data = pd.read_csv('/datasets/toxic_comments.csv')\n",
    "except FileNotFoundError:\n",
    "    data = pd.read_csv('-') # Прямая ссылка на датасет удалена в связи с правилами публикации проектов"
   ]
  },
  {
   "cell_type": "markdown",
   "metadata": {
    "id": "EQNxgH7MOoB1"
   },
   "source": [
    "### Обзор данных"
   ]
  },
  {
   "cell_type": "markdown",
   "metadata": {
    "id": "OLqf5u30OWLO"
   },
   "source": [
    "После загрузки библиотеки выведем имеющиеся данные на экран для ознакомления."
   ]
  },
  {
   "cell_type": "code",
   "execution_count": 5,
   "metadata": {
    "colab": {
     "base_uri": "https://localhost:8080/",
     "height": 424
    },
    "id": "fkCV1ZFAPBmC",
    "outputId": "b433fa41-6f4c-4621-ef25-8fc4f43282d1"
   },
   "outputs": [
    {
     "data": {
      "text/html": [
       "\n",
       "  <div id=\"df-07d31644-bc70-4e28-a1f3-4007db0a0414\">\n",
       "    <div class=\"colab-df-container\">\n",
       "      <div>\n",
       "<style scoped>\n",
       "    .dataframe tbody tr th:only-of-type {\n",
       "        vertical-align: middle;\n",
       "    }\n",
       "\n",
       "    .dataframe tbody tr th {\n",
       "        vertical-align: top;\n",
       "    }\n",
       "\n",
       "    .dataframe thead th {\n",
       "        text-align: right;\n",
       "    }\n",
       "</style>\n",
       "<table border=\"1\" class=\"dataframe\">\n",
       "  <thead>\n",
       "    <tr style=\"text-align: right;\">\n",
       "      <th></th>\n",
       "      <th>text</th>\n",
       "      <th>toxic</th>\n",
       "    </tr>\n",
       "  </thead>\n",
       "  <tbody>\n",
       "    <tr>\n",
       "      <th>0</th>\n",
       "      <td>Explanation\\nWhy the edits made under my usern...</td>\n",
       "      <td>0</td>\n",
       "    </tr>\n",
       "    <tr>\n",
       "      <th>1</th>\n",
       "      <td>D'aww! He matches this background colour I'm s...</td>\n",
       "      <td>0</td>\n",
       "    </tr>\n",
       "    <tr>\n",
       "      <th>2</th>\n",
       "      <td>Hey man, I'm really not trying to edit war. It...</td>\n",
       "      <td>0</td>\n",
       "    </tr>\n",
       "    <tr>\n",
       "      <th>3</th>\n",
       "      <td>\"\\nMore\\nI can't make any real suggestions on ...</td>\n",
       "      <td>0</td>\n",
       "    </tr>\n",
       "    <tr>\n",
       "      <th>4</th>\n",
       "      <td>You, sir, are my hero. Any chance you remember...</td>\n",
       "      <td>0</td>\n",
       "    </tr>\n",
       "    <tr>\n",
       "      <th>...</th>\n",
       "      <td>...</td>\n",
       "      <td>...</td>\n",
       "    </tr>\n",
       "    <tr>\n",
       "      <th>159566</th>\n",
       "      <td>\":::::And for the second time of asking, when ...</td>\n",
       "      <td>0</td>\n",
       "    </tr>\n",
       "    <tr>\n",
       "      <th>159567</th>\n",
       "      <td>You should be ashamed of yourself \\n\\nThat is ...</td>\n",
       "      <td>0</td>\n",
       "    </tr>\n",
       "    <tr>\n",
       "      <th>159568</th>\n",
       "      <td>Spitzer \\n\\nUmm, theres no actual article for ...</td>\n",
       "      <td>0</td>\n",
       "    </tr>\n",
       "    <tr>\n",
       "      <th>159569</th>\n",
       "      <td>And it looks like it was actually you who put ...</td>\n",
       "      <td>0</td>\n",
       "    </tr>\n",
       "    <tr>\n",
       "      <th>159570</th>\n",
       "      <td>\"\\nAnd ... I really don't think you understand...</td>\n",
       "      <td>0</td>\n",
       "    </tr>\n",
       "  </tbody>\n",
       "</table>\n",
       "<p>159571 rows × 2 columns</p>\n",
       "</div>\n",
       "      <button class=\"colab-df-convert\" onclick=\"convertToInteractive('df-07d31644-bc70-4e28-a1f3-4007db0a0414')\"\n",
       "              title=\"Convert this dataframe to an interactive table.\"\n",
       "              style=\"display:none;\">\n",
       "        \n",
       "  <svg xmlns=\"http://www.w3.org/2000/svg\" height=\"24px\"viewBox=\"0 0 24 24\"\n",
       "       width=\"24px\">\n",
       "    <path d=\"M0 0h24v24H0V0z\" fill=\"none\"/>\n",
       "    <path d=\"M18.56 5.44l.94 2.06.94-2.06 2.06-.94-2.06-.94-.94-2.06-.94 2.06-2.06.94zm-11 1L8.5 8.5l.94-2.06 2.06-.94-2.06-.94L8.5 2.5l-.94 2.06-2.06.94zm10 10l.94 2.06.94-2.06 2.06-.94-2.06-.94-.94-2.06-.94 2.06-2.06.94z\"/><path d=\"M17.41 7.96l-1.37-1.37c-.4-.4-.92-.59-1.43-.59-.52 0-1.04.2-1.43.59L10.3 9.45l-7.72 7.72c-.78.78-.78 2.05 0 2.83L4 21.41c.39.39.9.59 1.41.59.51 0 1.02-.2 1.41-.59l7.78-7.78 2.81-2.81c.8-.78.8-2.07 0-2.86zM5.41 20L4 18.59l7.72-7.72 1.47 1.35L5.41 20z\"/>\n",
       "  </svg>\n",
       "      </button>\n",
       "      \n",
       "  <style>\n",
       "    .colab-df-container {\n",
       "      display:flex;\n",
       "      flex-wrap:wrap;\n",
       "      gap: 12px;\n",
       "    }\n",
       "\n",
       "    .colab-df-convert {\n",
       "      background-color: #E8F0FE;\n",
       "      border: none;\n",
       "      border-radius: 50%;\n",
       "      cursor: pointer;\n",
       "      display: none;\n",
       "      fill: #1967D2;\n",
       "      height: 32px;\n",
       "      padding: 0 0 0 0;\n",
       "      width: 32px;\n",
       "    }\n",
       "\n",
       "    .colab-df-convert:hover {\n",
       "      background-color: #E2EBFA;\n",
       "      box-shadow: 0px 1px 2px rgba(60, 64, 67, 0.3), 0px 1px 3px 1px rgba(60, 64, 67, 0.15);\n",
       "      fill: #174EA6;\n",
       "    }\n",
       "\n",
       "    [theme=dark] .colab-df-convert {\n",
       "      background-color: #3B4455;\n",
       "      fill: #D2E3FC;\n",
       "    }\n",
       "\n",
       "    [theme=dark] .colab-df-convert:hover {\n",
       "      background-color: #434B5C;\n",
       "      box-shadow: 0px 1px 3px 1px rgba(0, 0, 0, 0.15);\n",
       "      filter: drop-shadow(0px 1px 2px rgba(0, 0, 0, 0.3));\n",
       "      fill: #FFFFFF;\n",
       "    }\n",
       "  </style>\n",
       "\n",
       "      <script>\n",
       "        const buttonEl =\n",
       "          document.querySelector('#df-07d31644-bc70-4e28-a1f3-4007db0a0414 button.colab-df-convert');\n",
       "        buttonEl.style.display =\n",
       "          google.colab.kernel.accessAllowed ? 'block' : 'none';\n",
       "\n",
       "        async function convertToInteractive(key) {\n",
       "          const element = document.querySelector('#df-07d31644-bc70-4e28-a1f3-4007db0a0414');\n",
       "          const dataTable =\n",
       "            await google.colab.kernel.invokeFunction('convertToInteractive',\n",
       "                                                     [key], {});\n",
       "          if (!dataTable) return;\n",
       "\n",
       "          const docLinkHtml = 'Like what you see? Visit the ' +\n",
       "            '<a target=\"_blank\" href=https://colab.research.google.com/notebooks/data_table.ipynb>data table notebook</a>'\n",
       "            + ' to learn more about interactive tables.';\n",
       "          element.innerHTML = '';\n",
       "          dataTable['output_type'] = 'display_data';\n",
       "          await google.colab.output.renderOutput(dataTable, element);\n",
       "          const docLink = document.createElement('div');\n",
       "          docLink.innerHTML = docLinkHtml;\n",
       "          element.appendChild(docLink);\n",
       "        }\n",
       "      </script>\n",
       "    </div>\n",
       "  </div>\n",
       "  "
      ],
      "text/plain": [
       "                                                     text  toxic\n",
       "0       Explanation\\nWhy the edits made under my usern...      0\n",
       "1       D'aww! He matches this background colour I'm s...      0\n",
       "2       Hey man, I'm really not trying to edit war. It...      0\n",
       "3       \"\\nMore\\nI can't make any real suggestions on ...      0\n",
       "4       You, sir, are my hero. Any chance you remember...      0\n",
       "...                                                   ...    ...\n",
       "159566  \":::::And for the second time of asking, when ...      0\n",
       "159567  You should be ashamed of yourself \\n\\nThat is ...      0\n",
       "159568  Spitzer \\n\\nUmm, theres no actual article for ...      0\n",
       "159569  And it looks like it was actually you who put ...      0\n",
       "159570  \"\\nAnd ... I really don't think you understand...      0\n",
       "\n",
       "[159571 rows x 2 columns]"
      ]
     },
     "execution_count": 5,
     "metadata": {},
     "output_type": "execute_result"
    }
   ],
   "source": [
    "data"
   ]
  },
  {
   "cell_type": "markdown",
   "metadata": {
    "id": "91hj-f1QPDxq"
   },
   "source": [
    "В имеющемся датасете около 160 тысяч строк с комментариями к товарам и метками \"токсичного\" или нет, текста.\n",
    "\n",
    "Оценим сбалансированность распределения целевого показателя."
   ]
  },
  {
   "cell_type": "code",
   "execution_count": 6,
   "metadata": {
    "colab": {
     "base_uri": "https://localhost:8080/"
    },
    "id": "SX1ArW4OPWMD",
    "outputId": "0849a1c4-d131-47bf-a566-949574b2ca78"
   },
   "outputs": [
    {
     "name": "stdout",
     "output_type": "stream",
     "text": [
      "Доля негативных комментариев в датасете составляет  10.17%\n"
     ]
    }
   ],
   "source": [
    "print('Доля негативных комментариев в датасете составляет ', '{:.2%}'.format(data['toxic'].mean()))"
   ]
  },
  {
   "cell_type": "markdown",
   "metadata": {
    "id": "4guzsDGaPw8-"
   },
   "source": [
    "Данные несбалансированы, 90% комментариев являются нейтральными или положительными. Токсичных комментариев всего 10% от всего датасета.\n",
    "\n",
    "Пока нельзя однозначно сказать, повлияет ли на результат обучения модели дисбаланс, однако стоит проверить модели как на всем объеме данных, так и на сбалансированных данных."
   ]
  },
  {
   "cell_type": "markdown",
   "metadata": {
    "id": "T5rJm9kBQpXk"
   },
   "source": [
    "Данные хранятся в виде чистого текста, для некоторых моделей их целесообразно преобразовать для дальнейшего обучения модели."
   ]
  },
  {
   "cell_type": "markdown",
   "metadata": {
    "id": "4OCNHQGuOoUy"
   },
   "source": [
    "\n",
    "### Подготовка данных"
   ]
  },
  {
   "cell_type": "markdown",
   "metadata": {
    "id": "EaOOzUincIzm"
   },
   "source": [
    "Сперва удалим из текста наиболее часто встречающиеся символы и сокращения и заменим их пробелами, либо полными версиями слов."
   ]
  },
  {
   "cell_type": "code",
   "execution_count": 7,
   "metadata": {
    "id": "p4KaCLjHcIUe"
   },
   "outputs": [],
   "source": [
    "def clean_text(text):\n",
    "    text = text.lower()\n",
    "    changing_dict = {\"aren\\'t\":\"are not\",\"can\\'t\":\"cannot\",\"couldn\\'t\":\"could not\",\"didn\\'t\":\"did not\",\"doesn\\'t\":\"does not\",\"don\\'t\":\"do not\",\"hadn\\'t\":\"had not\",\"hasn\\'t\":\"has not\",\"haven\\'t\":\"have not\",\"he\\'d\":\"he had\",\"he\\'ll\":\"he will\",\"he\\'s\":\"he is\",\"i\\'d\":\"i had\",\"i\\'ll\":\"i will\",\"i\\'m\":\"i am\",\"i\\'ve\":\"i have\",\"isn\\'t\":\"is not\",\"it\\'s\":\"it is\",\"let\\'s\":\"let us\",\"mightn\\'t\":\"might not\",\"mustn\\'t\":\"must not\",\"shan\\'t\":\"shall not\",\"she\\'d\":\"she had\",\"she\\'ll\":\"she will\",\"she\\'s\":\"she is\",\"shouldn\\'t\":\"should not\",\"that\\'s\":\"that is\",\"there\\'s\":\"there is\",\"they\\'d\":\"they had\",\"they\\'ll\":\"they will\",\"they\\'re\":\"they are\",\"they\\'ve\":\"they have\",\"we\\'d\":\"we had\",\"we\\'re\":\"we are\",\"we\\'ve\":\"we have\",\"weren\\'t\":\"were not\",\"what\\'ll\":\"what will\",\"what\\'re\":\"what are\",\"what\\'s\":\"what is\",\"what\\'ve\":\"what have\",\"where\\'s\":\"where is\",\"who\\'d\":\"who had\",\"who\\'ll\":\"who will\",\"who\\'re\":\"who are\",\"who\\'s\":\"who is\",\"who\\'ve\":\"who have\",\"won\\'t\":\"will not\",\"wouldn\\'t\":\"would not\",\"you\\'d\":\"you had\",\"you\\'ll\":\"you will\",\"you\\'re\":\"you are\",\"you\\'ve\":\"you have\"}\n",
    "    for key, value in changing_dict.items():\n",
    "        text = text.replace(key, value)\n",
    "    text = re.sub(r'\\'s', '', text)\n",
    "    text = re.sub(r'[^a-zA-Z ]', ' ', text)\n",
    "    text = text.strip(' ')\n",
    "    return text"
   ]
  },
  {
   "cell_type": "code",
   "execution_count": 9,
   "metadata": {
    "colab": {
     "base_uri": "https://localhost:8080/"
    },
    "id": "p6j6NNojjCg2",
    "outputId": "8be8e249-fbcf-44fe-effb-74fd8e54a25f"
   },
   "outputs": [
    {
     "name": "stderr",
     "output_type": "stream",
     "text": [
      "progress bar!: 100%|██████████| 159571/159571 [00:14<00:00, 11388.45it/s]\n"
     ]
    }
   ],
   "source": [
    "corpus = data['text'].astype('U')\n",
    "from tqdm import tqdm\n",
    "tqdm.pandas(desc=\"progress bar!\")\n",
    "\n",
    "corpus = corpus.progress_apply(clean_text)"
   ]
  },
  {
   "cell_type": "markdown",
   "metadata": {
    "id": "iIK_pBSdQzSJ"
   },
   "source": [
    "Лемматизируем имеющийся текст."
   ]
  },
  {
   "cell_type": "code",
   "execution_count": 10,
   "metadata": {
    "id": "Uq-MkHbXQ0AL"
   },
   "outputs": [],
   "source": [
    "m = WordNetLemmatizer()"
   ]
  },
  {
   "cell_type": "code",
   "execution_count": 11,
   "metadata": {
    "id": "MXP-gM_JZ7in"
   },
   "outputs": [],
   "source": [
    "def lemmatize(text):\n",
    "    text = text.split()\n",
    "    return ' '.join([m.lemmatize(word) for word in text])"
   ]
  },
  {
   "cell_type": "code",
   "execution_count": 12,
   "metadata": {
    "id": "WQnPjxEjZ8DJ"
   },
   "outputs": [],
   "source": [
    "corpus = corpus.apply(lemmatize)"
   ]
  },
  {
   "cell_type": "markdown",
   "metadata": {
    "id": "TZ6JsyyytMq4"
   },
   "source": [
    "Разобъем датасет на тренировочную и тестовую выборки."
   ]
  },
  {
   "cell_type": "code",
   "execution_count": 13,
   "metadata": {
    "id": "KsvIhB-5tMLc"
   },
   "outputs": [],
   "source": [
    "features_train, features_test, target_train, target_test = train_test_split(corpus, data['toxic'], test_size=.25)"
   ]
  },
  {
   "cell_type": "markdown",
   "metadata": {
    "id": "4-YaxEwGZ7AL"
   },
   "source": [
    "Удалим стоп-слова из текста и вычислим tf idf для корпуса текста."
   ]
  },
  {
   "cell_type": "code",
   "execution_count": 14,
   "metadata": {
    "id": "GIEfu5qSrVQW"
   },
   "outputs": [],
   "source": [
    "stopwords = set(stopwords.words('english'))"
   ]
  },
  {
   "cell_type": "code",
   "execution_count": 15,
   "metadata": {
    "id": "VbwPdMNZrVEi"
   },
   "outputs": [],
   "source": [
    "count_tf_idf = TfidfVectorizer(stop_words=stopwords)"
   ]
  },
  {
   "cell_type": "code",
   "execution_count": 16,
   "metadata": {
    "id": "LhlOsM65rU0r"
   },
   "outputs": [],
   "source": [
    "features_train = count_tf_idf.fit_transform(features_train)\n",
    "features_test = count_tf_idf.transform(features_test)"
   ]
  },
  {
   "cell_type": "markdown",
   "metadata": {
    "id": "k-YXv_CJeohU"
   },
   "source": [
    "### Балансировка данных"
   ]
  },
  {
   "cell_type": "markdown",
   "metadata": {
    "id": "mtc-P0rCrUzd"
   },
   "source": [
    "Как выяснилось в процессе изучения данных, выборка несбалансирована. Это может приводить к снижению качества обучения моделей. Исправим это для обучающей выборки. Сперва создадим выборку с уменьшением количества преобладающего класса."
   ]
  },
  {
   "cell_type": "code",
   "execution_count": 17,
   "metadata": {
    "id": "uzW-WUyIrV2M"
   },
   "outputs": [],
   "source": [
    "def downsampling(features, target, fraction):\n",
    "    features_zeros = features[target==0]\n",
    "    features_ones = features[target==1]\n",
    "    target_zeros = target[target==0]\n",
    "    target_ones = target[target==1]\n",
    "\n",
    "    features_downsampled = pd.concat(\n",
    "        [features_zeros.sample(frac=fraction, random_state=42)] + [features_ones])\n",
    "    target_downsampled = pd.concat(\n",
    "        [target_zeros.sample(frac=fraction, random_state=42)] + [target_ones])\n",
    "    \n",
    "    features_downsampled, target_downsampled = shuffle(features_downsampled, target_downsampled, random_state=42)\n",
    "    \n",
    "    return features_downsampled, target_downsampled"
   ]
  },
  {
   "cell_type": "code",
   "execution_count": 18,
   "metadata": {
    "id": "Cp0N-N9MvLjG"
   },
   "outputs": [],
   "source": [
    "features_downsampled = pd.DataFrame.sparse.from_spmatrix(features_train, index=target_train.index)\n",
    "\n",
    "features_downsampled, target_downsampled = downsampling(features_downsampled, target_train, 0.1)"
   ]
  },
  {
   "cell_type": "code",
   "execution_count": 19,
   "metadata": {
    "colab": {
     "base_uri": "https://localhost:8080/"
    },
    "id": "r11QVWu_yUO1",
    "outputId": "f7b8e8c2-1327-41fb-9239-0c9e6d7b4fb7"
   },
   "outputs": [
    {
     "name": "stdout",
     "output_type": "stream",
     "text": [
      "(22905, 133793)\n",
      "(22905,)\n",
      "Доля негативных комментариев в сбалансированной обучающей выборке составляет  53.05%\n"
     ]
    }
   ],
   "source": [
    "print(features_downsampled.shape)\n",
    "print(target_downsampled.shape)\n",
    "print('Доля негативных комментариев в сбалансированной обучающей выборке составляет ', '{:.2%}'.format(target_downsampled.mean()))"
   ]
  },
  {
   "cell_type": "markdown",
   "metadata": {
    "id": "3cPVDfqybgEB"
   },
   "source": [
    "Несмотря на то, что данных с уменьшением выборки вполне достаточно для обучения модели, попробуем также обучить ее на расширенной выборке."
   ]
  },
  {
   "cell_type": "code",
   "execution_count": 20,
   "metadata": {
    "id": "tWQyqm_EbfZ2"
   },
   "outputs": [],
   "source": [
    "def upsampling(features, target, repeat):\n",
    "    features_zeros = features[target==0]\n",
    "    features_ones = features[target==1]\n",
    "    target_zeros = target[target==0]\n",
    "    target_ones = target[target==1]\n",
    "\n",
    "    features_upsampled = pd.concat([features_zeros] + [features_ones] * repeat)\n",
    "    target_upsampled = pd.concat([target_zeros] + [target_ones] * repeat)\n",
    "    \n",
    "    features_upsampled, target_upsampled = shuffle(\n",
    "        features_upsampled, target_upsampled, random_state=42)\n",
    "    \n",
    "    return features_upsampled, target_upsampled"
   ]
  },
  {
   "cell_type": "code",
   "execution_count": 21,
   "metadata": {
    "id": "CqG-9MCnbfZ3"
   },
   "outputs": [],
   "source": [
    "features_upsampled = pd.DataFrame.sparse.from_spmatrix(features_train, index=target_train.index)\n",
    "\n",
    "features_upsampled, target_upsampled = upsampling(features_upsampled, target_train, 9)"
   ]
  },
  {
   "cell_type": "code",
   "execution_count": 22,
   "metadata": {
    "colab": {
     "base_uri": "https://localhost:8080/"
    },
    "id": "TD4i1ctVbfZ3",
    "outputId": "cc3986f0-d8de-43a6-b11a-8508ae64f3cc"
   },
   "outputs": [
    {
     "name": "stdout",
     "output_type": "stream",
     "text": [
      "(216894, 133793)\n",
      "(216894,)\n",
      "Доля негативных комментариев в сбалансированной обучающей выборке составляет  50.42%\n"
     ]
    }
   ],
   "source": [
    "print(features_upsampled.shape)\n",
    "print(target_upsampled.shape)\n",
    "print('Доля негативных комментариев в сбалансированной обучающей выборке составляет ', '{:.2%}'.format(target_upsampled.mean()))"
   ]
  },
  {
   "cell_type": "markdown",
   "metadata": {
    "id": "Q1lhq7NTtC8A"
   },
   "source": [
    "Данные сбалансированы, создадим эмбеддинг наших текстов с помощью модели BERT."
   ]
  },
  {
   "cell_type": "markdown",
   "metadata": {
    "id": "Z2i937ZeezP6"
   },
   "source": [
    "### Создание эмбеддинга с BERT"
   ]
  },
  {
   "cell_type": "markdown",
   "metadata": {
    "id": "Aq2grm6ZixvO"
   },
   "source": [
    "Для оптимизации вычислений будем использовать только 2 тысячи случайных записей из датасета. Возьмем записи по индексам из сбалансированной, уменьшенной выборки, это гарантирует, что нам хватит данных для определения негативных комментариев."
   ]
  },
  {
   "cell_type": "code",
   "execution_count": 23,
   "metadata": {
    "id": "jnojjtrEjTHp"
   },
   "outputs": [],
   "source": [
    "bert_data = data.sample(n=2000, random_state=42)"
   ]
  },
  {
   "cell_type": "markdown",
   "metadata": {
    "id": "5MB15vjulx2i"
   },
   "source": [
    " Загрузим предобученную модель DistilBert и токенизатор."
   ]
  },
  {
   "cell_type": "code",
   "execution_count": 24,
   "metadata": {
    "colab": {
     "base_uri": "https://localhost:8080/",
     "height": 217,
     "referenced_widgets": [
      "6f2a76f3a01c459998ccfa926d5f977f",
      "c04e3d74d0a244edaa9ee272de73ef1a",
      "837522aab9af492fb039299d07a8a2ae",
      "335973a873854e05bd86a377e6a3d729",
      "4b7f1dda15764c1db3cfb488e2d766b1",
      "c28c6109c8694a79a1cd9a9fdb9bda9f",
      "33f1893dc5c346218c5f934ea1772aba",
      "b1f267938792434da4205b68ddeed902",
      "67ca6e8f456b4a83bbed72079afb74a0",
      "c791a54a200d4c43bc8c4d1c81a8f8d7",
      "dc51a6e045c545258f6cc3ef11c6e142",
      "4a23f40b08a84164af3a7ee1566cdf83",
      "463347e0e16e4d75bec5d3d38a908481",
      "edd86d8a778c477eba3cd39eb0e0686a",
      "686c0607cc9a4cda96795926359698c7",
      "248ef7900dc445faa9cb097e4d0b829a",
      "d35399013a524172974bdd035429f349",
      "ba391de8aaf94f3f9dbe03030d58acea",
      "f937b94a3a474be18565d6a0923ca90c",
      "aae2edc08f2041a1b480668334d7c295",
      "e8b855790cd3424894fbee9b4ec8ddc9",
      "2bb5009ddf4b4f81966100e47e90988e",
      "d068216f16804cd09603d633a4710cb1",
      "9e54faa1a15e4086bc4fc6022d07a2a2",
      "1faacda920344ae8b525f605b71c9d36",
      "5e69ba21a8f84d9ba637fd95a03a5cd1",
      "62ac0b5a38fe4531b07a7db4e6cc7fd0",
      "6e384978d9384c51bc4cd20b5b350d74",
      "e5dabfda856f45048239eccc6c21da13",
      "5e9234a968bd44339257dad91134a5ba",
      "a5294ccb051040c9af24ba0a519220b3",
      "60d4aa5854d64dbfad6edc848000c6b0",
      "58d03fabede14b58bf0ea0476c91815f",
      "068b59f54ecb4c99993598d8f7ef19e4",
      "f149afe4eca44a25a1f6f72449350953",
      "94059728f7dd43699dc6887dd15da7d4",
      "26640a74e79a4fbcbc878cb40b09e1aa",
      "0e11887522264922b53e39dc7110014d",
      "9381eb26daab4e6bab045d6f027efe03",
      "f74a95f83198452280067cc0022d9c78",
      "48673f01fe3d432690d079650cf19a1e",
      "ef337ddb68bf4dacaf4af81c0d18d73c",
      "c8569768d454407eab87ac777d95b031",
      "d9dc9be3f4c346288de0c467bdba649c"
     ]
    },
    "id": "AzXahQRkkKiC",
    "outputId": "59118d92-ab2e-4e09-b3fe-9d925955b0c5"
   },
   "outputs": [
    {
     "data": {
      "application/vnd.jupyter.widget-view+json": {
       "model_id": "6f2a76f3a01c459998ccfa926d5f977f",
       "version_major": 2,
       "version_minor": 0
      },
      "text/plain": [
       "Downloading:   0%|          | 0.00/226k [00:00<?, ?B/s]"
      ]
     },
     "metadata": {},
     "output_type": "display_data"
    },
    {
     "data": {
      "application/vnd.jupyter.widget-view+json": {
       "model_id": "4a23f40b08a84164af3a7ee1566cdf83",
       "version_major": 2,
       "version_minor": 0
      },
      "text/plain": [
       "Downloading:   0%|          | 0.00/28.0 [00:00<?, ?B/s]"
      ]
     },
     "metadata": {},
     "output_type": "display_data"
    },
    {
     "data": {
      "application/vnd.jupyter.widget-view+json": {
       "model_id": "d068216f16804cd09603d633a4710cb1",
       "version_major": 2,
       "version_minor": 0
      },
      "text/plain": [
       "Downloading:   0%|          | 0.00/483 [00:00<?, ?B/s]"
      ]
     },
     "metadata": {},
     "output_type": "display_data"
    },
    {
     "data": {
      "application/vnd.jupyter.widget-view+json": {
       "model_id": "068b59f54ecb4c99993598d8f7ef19e4",
       "version_major": 2,
       "version_minor": 0
      },
      "text/plain": [
       "Downloading:   0%|          | 0.00/256M [00:00<?, ?B/s]"
      ]
     },
     "metadata": {},
     "output_type": "display_data"
    },
    {
     "name": "stderr",
     "output_type": "stream",
     "text": [
      "Some weights of the model checkpoint at distilbert-base-uncased were not used when initializing DistilBertModel: ['vocab_projector.bias', 'vocab_projector.weight', 'vocab_layer_norm.bias', 'vocab_layer_norm.weight', 'vocab_transform.bias', 'vocab_transform.weight']\n",
      "- This IS expected if you are initializing DistilBertModel from the checkpoint of a model trained on another task or with another architecture (e.g. initializing a BertForSequenceClassification model from a BertForPreTraining model).\n",
      "- This IS NOT expected if you are initializing DistilBertModel from the checkpoint of a model that you expect to be exactly identical (initializing a BertForSequenceClassification model from a BertForSequenceClassification model).\n"
     ]
    }
   ],
   "source": [
    "model_class, tokenizer_class, pretrained_weights = (transformers.DistilBertModel, transformers.DistilBertTokenizer, 'distilbert-base-uncased')\n",
    "tokenizer = tokenizer_class.from_pretrained(pretrained_weights)\n",
    "model = model_class.from_pretrained(pretrained_weights)"
   ]
  },
  {
   "cell_type": "markdown",
   "metadata": {
    "id": "6PyYALWwl_jH"
   },
   "source": [
    "Токенизируем наши данные с помощью предобученной модели."
   ]
  },
  {
   "cell_type": "code",
   "execution_count": 25,
   "metadata": {
    "colab": {
     "base_uri": "https://localhost:8080/"
    },
    "id": "_6H8OjhJfBGO",
    "outputId": "d8634296-b1f9-4186-b515-741742842427"
   },
   "outputs": [
    {
     "name": "stderr",
     "output_type": "stream",
     "text": [
      "Token indices sequence length is longer than the specified maximum sequence length for this model (799 > 512). Running this sequence through the model will result in indexing errors\n"
     ]
    }
   ],
   "source": [
    "tokenized = bert_data['text'].apply((lambda x: tokenizer.encode(x, add_special_tokens=True)))\n",
    "tokenized = tokenized.apply(lambda x: x[:512])\n",
    "max_len = tokenized.apply(len).max()\n",
    "\n",
    "padded = np.array([i + [0]*(max_len - len(i)) for i in tokenized.values])\n",
    "\n",
    "attention_mask = np.where(padded != 0, 1, 0)"
   ]
  },
  {
   "cell_type": "markdown",
   "metadata": {
    "id": "--bxtWSPmFE9"
   },
   "source": [
    "Разделим данные на батчи по 100 записей и преобразуем в эмбеддинги."
   ]
  },
  {
   "cell_type": "code",
   "execution_count": 27,
   "metadata": {
    "colab": {
     "base_uri": "https://localhost:8080/",
     "height": 49,
     "referenced_widgets": [
      "d4ca37cd486e41f4b361462f9c5d1f39",
      "3c628c309103406688938c6fc33f0850",
      "59c9a870ff5741a199b595e7f20fb93a",
      "7ff01b08028a45719c613b0c086da12d",
      "f642c7d4471845b7ba9e920d610ecdbc",
      "fb76cdab2df0413ca8bcacf2d91791ae",
      "e5bac02ff0654c4491deb88ea3f9c804",
      "0e0db7670d814b308a6adeab63ce2cc4",
      "a13f10239b19475cbe4e1e8086264430",
      "e7d502df3b3c4037b6e9a26cd8dd4780",
      "26206703f7d146828b334c11c9fe4be3"
     ]
    },
    "id": "-zQEPlTnk-19",
    "outputId": "ad1ca0fc-2b13-47ff-e0d0-7629c8b732bd"
   },
   "outputs": [
    {
     "data": {
      "application/vnd.jupyter.widget-view+json": {
       "model_id": "d4ca37cd486e41f4b361462f9c5d1f39",
       "version_major": 2,
       "version_minor": 0
      },
      "text/plain": [
       "  0%|          | 0/20 [00:00<?, ?it/s]"
      ]
     },
     "metadata": {},
     "output_type": "display_data"
    }
   ],
   "source": [
    "batch_size = 100\n",
    "embeddings = []\n",
    "for i in notebook.tqdm(range(padded.shape[0] // batch_size)):\n",
    "        batch = torch.LongTensor(padded[batch_size*i:batch_size*(i+1)]) \n",
    "        attention_mask_batch = torch.LongTensor(attention_mask[batch_size*i:batch_size*(i+1)])\n",
    "        \n",
    "        with torch.no_grad():\n",
    "            batch_embeddings = model(batch, attention_mask=attention_mask_batch)\n",
    "        \n",
    "        embeddings.append(batch_embeddings[0][:,0,:].numpy())"
   ]
  },
  {
   "cell_type": "markdown",
   "metadata": {
    "id": "MDcPKvNxmR52"
   },
   "source": [
    "Создадим обучающую и тестовую выборки."
   ]
  },
  {
   "cell_type": "code",
   "execution_count": 28,
   "metadata": {
    "id": "XDjbOVlflJ9G"
   },
   "outputs": [],
   "source": [
    "features_bert = np.concatenate(embeddings)\n",
    "target_bert = bert_data['toxic']\n",
    "\n",
    "features_train_bert, features_test_bert, target_train_bert, target_test_bert = train_test_split(features_bert, target_bert, test_size=.2, random_state=42)"
   ]
  },
  {
   "cell_type": "markdown",
   "metadata": {
    "id": "514E98-gnyRO"
   },
   "source": [
    "Сбалансируем полученные данные путем увеличения выборки. Так как выборка и так слишком мала, балансировка через уменьшение нецелесообразна."
   ]
  },
  {
   "cell_type": "code",
   "execution_count": 34,
   "metadata": {
    "id": "vAWd9_JkoCaF"
   },
   "outputs": [],
   "source": [
    "features_train_bert, target_train_bert = upsampling(pd.DataFrame(features_train_bert, index=target_train_bert.index), target_train_bert, 9)"
   ]
  },
  {
   "cell_type": "code",
   "execution_count": 35,
   "metadata": {
    "colab": {
     "base_uri": "https://localhost:8080/"
    },
    "id": "lPYggcEjoCaG",
    "outputId": "758047de-0a9e-469e-8164-b852f108cadf"
   },
   "outputs": [
    {
     "name": "stdout",
     "output_type": "stream",
     "text": [
      "(2952, 768)\n",
      "(2952,)\n",
      "Доля негативных комментариев в сбалансированной обучающей выборке составляет  51.52%\n"
     ]
    }
   ],
   "source": [
    "print(features_train_bert.shape)\n",
    "print(target_train_bert.shape)\n",
    "print('Доля негативных комментариев в сбалансированной обучающей выборке составляет ', '{:.2%}'.format(target_train_bert.mean()))"
   ]
  },
  {
   "cell_type": "markdown",
   "metadata": {
    "id": "uGbYZ8_ULIAN"
   },
   "source": [
    "## Обучение"
   ]
  },
  {
   "cell_type": "markdown",
   "metadata": {
    "id": "Be568BhF_D5r"
   },
   "source": [
    "### Обучение простой модели"
   ]
  },
  {
   "cell_type": "markdown",
   "metadata": {
    "id": "mCIN34ayt0wR"
   },
   "source": [
    "Обучим простую модель логистической регрессии."
   ]
  },
  {
   "cell_type": "code",
   "execution_count": 39,
   "metadata": {
    "colab": {
     "base_uri": "https://localhost:8080/"
    },
    "id": "VV_DNku4t1Of",
    "outputId": "cd25eb8a-dbb9-418d-94b9-c5a0dd45f765"
   },
   "outputs": [
    {
     "name": "stderr",
     "output_type": "stream",
     "text": [
      "/usr/local/lib/python3.7/dist-packages/sklearn/linear_model/_logistic.py:818: ConvergenceWarning: lbfgs failed to converge (status=1):\n",
      "STOP: TOTAL NO. of ITERATIONS REACHED LIMIT.\n",
      "\n",
      "Increase the number of iterations (max_iter) or scale the data as shown in:\n",
      "    https://scikit-learn.org/stable/modules/preprocessing.html\n",
      "Please also refer to the documentation for alternative solver options:\n",
      "    https://scikit-learn.org/stable/modules/linear_model.html#logistic-regression\n",
      "  extra_warning_msg=_LOGISTIC_SOLVER_CONVERGENCE_MSG,\n"
     ]
    }
   ],
   "source": [
    "model = LogisticRegression()\n",
    "\n",
    "model.fit(features_train, target_train)\n",
    "predictions = model.predict(features_test)"
   ]
  },
  {
   "cell_type": "code",
   "execution_count": 40,
   "metadata": {
    "id": "1ipn-Kzpt1SW"
   },
   "outputs": [],
   "source": [
    "f1_linear = f1_score(target_test, predictions)"
   ]
  },
  {
   "cell_type": "code",
   "execution_count": 41,
   "metadata": {
    "colab": {
     "base_uri": "https://localhost:8080/"
    },
    "id": "Dt--biuMt1Vv",
    "outputId": "7580107f-28f4-4581-ebb3-4be0f4c2ddc2"
   },
   "outputs": [
    {
     "name": "stdout",
     "output_type": "stream",
     "text": [
      "Показатель F1 при использовании логистической регрессии равен  {0.7270011947431303}\n"
     ]
    }
   ],
   "source": [
    "print('Показатель F1 при использовании логистической регрессии равен ', {f1_linear})"
   ]
  },
  {
   "cell_type": "markdown",
   "metadata": {
    "id": "EN5UcZ0q_IOA"
   },
   "source": [
    "Модель показывает значение метрики F1 близкое к необходимому, однако не дотягивает до установленной планки в 0.75."
   ]
  },
  {
   "cell_type": "markdown",
   "metadata": {
    "id": "WN8HWZCD1n4b"
   },
   "source": [
    "Сравним качество работы логистической регрессии с другими простыми моделями."
   ]
  },
  {
   "cell_type": "code",
   "execution_count": 42,
   "metadata": {
    "colab": {
     "base_uri": "https://localhost:8080/"
    },
    "id": "a-6cPG3gt1Zt",
    "outputId": "02ddf1f0-654c-4541-ba6d-078a2f9ee0c1"
   },
   "outputs": [
    {
     "name": "stdout",
     "output_type": "stream",
     "text": [
      "Показатель F1 при использовании MultinomialNB равен 0.35294117647058826.\n",
      "Показатель F1 при использовании SGDClassifier равен 0.6259339199734352.\n"
     ]
    }
   ],
   "source": [
    "models = (MultinomialNB, SGDClassifier)\n",
    "for model in models:\n",
    "    model = model()\n",
    "    model.fit(features_train, target_train)\n",
    "    predictions = model.predict(features_test)\n",
    "    print(f'Показатель F1 при использовании {type(model).__name__} равен {f1_score(target_test, predictions)}.')"
   ]
  },
  {
   "cell_type": "markdown",
   "metadata": {
    "id": "fzOzpNOL_WSP"
   },
   "source": [
    "Модели наивного байеса и градиентного спуска показали себя хуже, чем логистическая регрессия."
   ]
  },
  {
   "cell_type": "markdown",
   "metadata": {
    "id": "zLIme7aO_PGk"
   },
   "source": [
    "### Обучение на сбалансированных данных"
   ]
  },
  {
   "cell_type": "markdown",
   "metadata": {
    "id": "75Mk_Y2ya9OW"
   },
   "source": [
    "Сравним качество предсказания простой модели на несбалансированных данных с качеством на сбалансированных данных.\n",
    "\n",
    "Сперва обучим модель на уменьшенных данных."
   ]
  },
  {
   "cell_type": "code",
   "execution_count": 43,
   "metadata": {
    "id": "FerHcHb5bR5D"
   },
   "outputs": [],
   "source": [
    "model = LogisticRegression()\n",
    "\n",
    "model.fit(features_downsampled, target_downsampled)\n",
    "predictions = model.predict(features_test)"
   ]
  },
  {
   "cell_type": "code",
   "execution_count": 44,
   "metadata": {
    "id": "hqC3HFLObR5D"
   },
   "outputs": [],
   "source": [
    "f1_linear_downsampled = f1_score(target_test, predictions)"
   ]
  },
  {
   "cell_type": "code",
   "execution_count": 45,
   "metadata": {
    "colab": {
     "base_uri": "https://localhost:8080/"
    },
    "id": "9h_bwWDpbR5E",
    "outputId": "7d8001e5-a13e-49d8-b43f-53b8bf7e1a4a"
   },
   "outputs": [
    {
     "name": "stdout",
     "output_type": "stream",
     "text": [
      "Показатель F1 при использовании логистической регрессии на уменьшенных данных равен  {0.6815298866038825}\n"
     ]
    }
   ],
   "source": [
    "print('Показатель F1 при использовании логистической регрессии на уменьшенных данных равен ', {f1_linear_downsampled})"
   ]
  },
  {
   "cell_type": "markdown",
   "metadata": {
    "id": "9_J26tIjcxPI"
   },
   "source": [
    "И сравним с показателями модели на увеличенных данных."
   ]
  },
  {
   "cell_type": "code",
   "execution_count": 46,
   "metadata": {
    "colab": {
     "base_uri": "https://localhost:8080/"
    },
    "id": "iqiTPxF6cwOm",
    "outputId": "4aa8c797-9afa-4846-8d5d-46598fe8d6a5"
   },
   "outputs": [
    {
     "name": "stderr",
     "output_type": "stream",
     "text": [
      "/usr/local/lib/python3.7/dist-packages/sklearn/linear_model/_logistic.py:818: ConvergenceWarning: lbfgs failed to converge (status=1):\n",
      "STOP: TOTAL NO. of ITERATIONS REACHED LIMIT.\n",
      "\n",
      "Increase the number of iterations (max_iter) or scale the data as shown in:\n",
      "    https://scikit-learn.org/stable/modules/preprocessing.html\n",
      "Please also refer to the documentation for alternative solver options:\n",
      "    https://scikit-learn.org/stable/modules/linear_model.html#logistic-regression\n",
      "  extra_warning_msg=_LOGISTIC_SOLVER_CONVERGENCE_MSG,\n"
     ]
    }
   ],
   "source": [
    "model = LogisticRegression()\n",
    "\n",
    "model.fit(features_upsampled, target_upsampled)\n",
    "predictions = model.predict(features_test)"
   ]
  },
  {
   "cell_type": "code",
   "execution_count": 47,
   "metadata": {
    "id": "U6WhMYH7cwOm"
   },
   "outputs": [],
   "source": [
    "f1_linear_upsampled = f1_score(target_test, predictions)"
   ]
  },
  {
   "cell_type": "code",
   "execution_count": 48,
   "metadata": {
    "colab": {
     "base_uri": "https://localhost:8080/"
    },
    "id": "r-GMtUodcwOn",
    "outputId": "7771ad6a-bec8-4880-b295-c40267668e6e"
   },
   "outputs": [
    {
     "name": "stdout",
     "output_type": "stream",
     "text": [
      "Показатель F1 при использовании логистической регрессии на увеличенных данных равен  {0.7545265006035334}\n"
     ]
    }
   ],
   "source": [
    "print('Показатель F1 при использовании логистической регрессии на увеличенных данных равен ', {f1_linear_upsampled})"
   ]
  },
  {
   "cell_type": "markdown",
   "metadata": {
    "id": "L57EpKwN-0rK"
   },
   "source": [
    "Использование балансировки выборки с помощью увеличения позволило добиться наилучшего показателя F1."
   ]
  },
  {
   "cell_type": "markdown",
   "metadata": {
    "id": "jf_fk49X_koW"
   },
   "source": [
    "### Оптимизация модели с помощью Optuna"
   ]
  },
  {
   "cell_type": "markdown",
   "metadata": {
    "id": "DLzrldwn1uIq"
   },
   "source": [
    "\n",
    "\n",
    "Попробуем улучшить результаты логистической регрессии с помощью оптуны и найти наилучшие параметры обучения модели."
   ]
  },
  {
   "cell_type": "code",
   "execution_count": null,
   "metadata": {
    "colab": {
     "base_uri": "https://localhost:8080/"
    },
    "id": "qbHxn_w3U4YQ",
    "outputId": "354f2d6b-8a96-4be4-c952-c21586c389e6"
   },
   "outputs": [
    {
     "name": "stderr",
     "output_type": "stream",
     "text": [
      "\u001b[32m[I 2022-06-22 12:30:42,558]\u001b[0m A new study created in memory with name: no-name-d87d738d-fcac-498e-b250-c2a6ee651e79\u001b[0m\n",
      "\u001b[32m[I 2022-06-22 12:30:43,970]\u001b[0m Trial 0 finished with value: 0.160147261849977 and parameters: {'C': 0.005240817312855058, 'solver': 'liblinear', 'penalty': 'l1'}. Best is trial 0 with value: 0.160147261849977.\u001b[0m\n",
      "\u001b[32m[I 2022-06-22 12:30:49,968]\u001b[0m Trial 1 finished with value: 0.7706396558901067 and parameters: {'C': 13.411778714891437, 'solver': 'liblinear', 'penalty': 'l2'}. Best is trial 1 with value: 0.7706396558901067.\u001b[0m\n",
      "\u001b[32m[I 2022-06-22 12:32:45,748]\u001b[0m Trial 2 finished with value: 0.0 and parameters: {'C': 5.529094240922278e-07, 'solver': 'saga', 'penalty': 'l2'}. Best is trial 1 with value: 0.7706396558901067.\u001b[0m\n",
      "/usr/local/lib/python3.7/dist-packages/sklearn/linear_model/_sag.py:354: ConvergenceWarning: The max_iter was reached which means the coef_ did not converge\n",
      "  ConvergenceWarning,\n",
      "\u001b[32m[I 2022-06-22 12:38:22,806]\u001b[0m Trial 3 finished with value: 0.0 and parameters: {'C': 1.199966973014658e-07, 'solver': 'saga', 'penalty': 'l2'}. Best is trial 1 with value: 0.7706396558901067.\u001b[0m\n",
      "/usr/local/lib/python3.7/dist-packages/sklearn/linear_model/_sag.py:354: ConvergenceWarning: The max_iter was reached which means the coef_ did not converge\n",
      "  ConvergenceWarning,\n",
      "\u001b[32m[I 2022-06-22 12:52:37,325]\u001b[0m Trial 4 finished with value: 0.757405924739792 and parameters: {'C': 29.578306341077578, 'solver': 'saga', 'penalty': 'l1'}. Best is trial 1 with value: 0.7706396558901067.\u001b[0m\n",
      "/usr/local/lib/python3.7/dist-packages/sklearn/linear_model/_sag.py:354: ConvergenceWarning: The max_iter was reached which means the coef_ did not converge\n",
      "  ConvergenceWarning,\n",
      "\u001b[32m[I 2022-06-22 13:02:40,373]\u001b[0m Trial 5 finished with value: 0.7663551401869159 and parameters: {'C': 16.097240616234963, 'solver': 'saga', 'penalty': 'l1'}. Best is trial 1 with value: 0.7706396558901067.\u001b[0m\n",
      "\u001b[32m[I 2022-06-22 13:02:40,715]\u001b[0m Trial 6 finished with value: 0.0 and parameters: {'C': 1.2401523882084711e-07, 'solver': 'liblinear', 'penalty': 'l2'}. Best is trial 1 with value: 0.7706396558901067.\u001b[0m\n",
      "\u001b[32m[I 2022-06-22 13:02:44,242]\u001b[0m Trial 7 finished with value: 0.5985251243354485 and parameters: {'C': 0.057183140045625816, 'solver': 'saga', 'penalty': 'l1'}. Best is trial 1 with value: 0.7706396558901067.\u001b[0m\n",
      "/usr/local/lib/python3.7/dist-packages/sklearn/linear_model/_sag.py:354: ConvergenceWarning: The max_iter was reached which means the coef_ did not converge\n",
      "  ConvergenceWarning,\n",
      "\u001b[32m[I 2022-06-22 13:08:45,348]\u001b[0m Trial 8 finished with value: 0.7722798975326951 and parameters: {'C': 7.744945311317536, 'solver': 'saga', 'penalty': 'l1'}. Best is trial 8 with value: 0.7722798975326951.\u001b[0m\n",
      "\u001b[32m[I 2022-06-22 13:08:51,607]\u001b[0m Trial 9 finished with value: 0.7682530716000565 and parameters: {'C': 6.227465302012249, 'solver': 'saga', 'penalty': 'l2'}. Best is trial 8 with value: 0.7722798975326951.\u001b[0m\n"
     ]
    }
   ],
   "source": [
    "def objective(trial):\n",
    "    C = trial.suggest_loguniform(\"C\", 1e-7, 100.0)\n",
    "    solver = trial.suggest_categorical(\"solver\", (\"liblinear\", \"saga\"))\n",
    "    penalty = trial.suggest_categorical('penalty', ('l1', 'l2'))\n",
    "    model = LogisticRegression(C=C, solver=solver, penalty=penalty)\n",
    "    model.fit(features_train, target_train)\n",
    "    predictions_opt = model.predict(features_test)\n",
    "    \n",
    "    return f1_score(target_test, predictions_opt)\n",
    "\n",
    "study = optuna.create_study(direction=\"maximize\")\n",
    "study.optimize(objective, n_trials=10)"
   ]
  },
  {
   "cell_type": "markdown",
   "metadata": {
    "id": "yDJdX1SLYRzQ"
   },
   "source": [
    "В ходе оптимизиции наилучшим образом показала себя модель с показателями: C: 7.44, solver: saga, penalty: l1. Метрика F1 на тестовой выборке составила 0.7722, что выше необходимого уровня.\n",
    "\n",
    "Обучим эту модель."
   ]
  },
  {
   "cell_type": "code",
   "execution_count": 49,
   "metadata": {
    "colab": {
     "base_uri": "https://localhost:8080/"
    },
    "id": "2de4sns-98e4",
    "outputId": "3b538e95-ca37-4215-a293-1275bbc4e3f8"
   },
   "outputs": [
    {
     "name": "stderr",
     "output_type": "stream",
     "text": [
      "/usr/local/lib/python3.7/dist-packages/sklearn/linear_model/_sag.py:354: ConvergenceWarning: The max_iter was reached which means the coef_ did not converge\n",
      "  ConvergenceWarning,\n"
     ]
    }
   ],
   "source": [
    "model = LogisticRegression(C=16.097240616234963, solver='saga', penalty='l1')\n",
    "\n",
    "model.fit(features_train, target_train)\n",
    "predictions = model.predict(features_test)"
   ]
  },
  {
   "cell_type": "code",
   "execution_count": 50,
   "metadata": {
    "id": "djTJMMRP98e4"
   },
   "outputs": [],
   "source": [
    "f1_linear = f1_score(target_test, predictions)"
   ]
  },
  {
   "cell_type": "code",
   "execution_count": 51,
   "metadata": {
    "colab": {
     "base_uri": "https://localhost:8080/"
    },
    "id": "Opc0Uai098e4",
    "outputId": "a050a25e-c828-42c3-dc2b-ccf1565c0376"
   },
   "outputs": [
    {
     "name": "stdout",
     "output_type": "stream",
     "text": [
      "Показатель F1 при использовании логистической регрессии с оптимизацией равен  {0.7670693277310924}\n"
     ]
    }
   ],
   "source": [
    "print('Показатель F1 при использовании логистической регрессии с оптимизацией равен ', {f1_linear})"
   ]
  },
  {
   "cell_type": "markdown",
   "metadata": {
    "id": "_Bno-mHgFsKN"
   },
   "source": [
    "После оптимизации получили неплохой показатель метрики, выше чем на сбалансированных данных."
   ]
  },
  {
   "cell_type": "markdown",
   "metadata": {
    "id": "E16ic2Ck_yEG"
   },
   "source": [
    "### Обучение модели на эмбеддинге"
   ]
  },
  {
   "cell_type": "markdown",
   "metadata": {
    "id": "rE1oS1lC-aS7"
   },
   "source": [
    "Обучим модель на созданном с помощью BERT эмбеддинге."
   ]
  },
  {
   "cell_type": "code",
   "execution_count": 52,
   "metadata": {
    "colab": {
     "base_uri": "https://localhost:8080/"
    },
    "id": "42FgqX6ReWUu",
    "outputId": "9876c289-2078-44f2-d449-78a9fe41b8c8"
   },
   "outputs": [
    {
     "name": "stderr",
     "output_type": "stream",
     "text": [
      "/usr/local/lib/python3.7/dist-packages/sklearn/linear_model/_logistic.py:818: ConvergenceWarning: lbfgs failed to converge (status=1):\n",
      "STOP: TOTAL NO. of ITERATIONS REACHED LIMIT.\n",
      "\n",
      "Increase the number of iterations (max_iter) or scale the data as shown in:\n",
      "    https://scikit-learn.org/stable/modules/preprocessing.html\n",
      "Please also refer to the documentation for alternative solver options:\n",
      "    https://scikit-learn.org/stable/modules/linear_model.html#logistic-regression\n",
      "  extra_warning_msg=_LOGISTIC_SOLVER_CONVERGENCE_MSG,\n"
     ]
    }
   ],
   "source": [
    "model = LogisticRegression()\n",
    "\n",
    "model.fit(features_train_bert, target_train_bert)\n",
    "predictions = model.predict(features_test_bert)"
   ]
  },
  {
   "cell_type": "code",
   "execution_count": 53,
   "metadata": {
    "id": "Rdu0E5EheWUv"
   },
   "outputs": [],
   "source": [
    "f1_bert = f1_score(target_test_bert, predictions)"
   ]
  },
  {
   "cell_type": "code",
   "execution_count": 54,
   "metadata": {
    "colab": {
     "base_uri": "https://localhost:8080/"
    },
    "id": "BDIlveZ-eWUv",
    "outputId": "3d8a60fc-56f0-4dd8-cb9d-898323f465c7"
   },
   "outputs": [
    {
     "name": "stdout",
     "output_type": "stream",
     "text": [
      "Показатель F1 при использовании логистической регрессии и BERT равен  {0.6987951807228915}\n"
     ]
    }
   ],
   "source": [
    "print('Показатель F1 при использовании логистической регрессии и BERT равен ', {f1_bert})"
   ]
  },
  {
   "cell_type": "markdown",
   "metadata": {
    "id": "5czQeyado4cR"
   },
   "source": [
    "Оптимизируем модель с BERT с помощью оптуны."
   ]
  },
  {
   "cell_type": "code",
   "execution_count": 55,
   "metadata": {
    "colab": {
     "base_uri": "https://localhost:8080/"
    },
    "id": "sJ8QaPrpo36N",
    "outputId": "f863b5f3-b93e-4de3-995e-c3ccb5ed33fa"
   },
   "outputs": [
    {
     "name": "stderr",
     "output_type": "stream",
     "text": [
      "\u001b[32m[I 2022-06-23 19:27:06,670]\u001b[0m A new study created in memory with name: no-name-aca160ce-72d8-4aeb-9c3f-367a50ad0252\u001b[0m\n",
      "/usr/local/lib/python3.7/dist-packages/sklearn/linear_model/_sag.py:354: ConvergenceWarning: The max_iter was reached which means the coef_ did not converge\n",
      "  ConvergenceWarning,\n",
      "\u001b[32m[I 2022-06-23 19:27:11,180]\u001b[0m Trial 0 finished with value: 0.6987951807228915 and parameters: {'C': 5.400459587476401}. Best is trial 0 with value: 0.6987951807228915.\u001b[0m\n",
      "/usr/local/lib/python3.7/dist-packages/sklearn/linear_model/_sag.py:354: ConvergenceWarning: The max_iter was reached which means the coef_ did not converge\n",
      "  ConvergenceWarning,\n",
      "\u001b[32m[I 2022-06-23 19:27:15,303]\u001b[0m Trial 1 finished with value: 0.6236559139784946 and parameters: {'C': 0.10752401646695232}. Best is trial 0 with value: 0.6987951807228915.\u001b[0m\n",
      "/usr/local/lib/python3.7/dist-packages/sklearn/linear_model/_sag.py:354: ConvergenceWarning: The max_iter was reached which means the coef_ did not converge\n",
      "  ConvergenceWarning,\n",
      "\u001b[32m[I 2022-06-23 19:27:19,561]\u001b[0m Trial 2 finished with value: 0.6744186046511628 and parameters: {'C': 0.2676289384093523}. Best is trial 0 with value: 0.6987951807228915.\u001b[0m\n",
      "\u001b[32m[I 2022-06-23 19:27:19,671]\u001b[0m Trial 3 finished with value: 0.14814814814814814 and parameters: {'C': 8.986458791610635e-07}. Best is trial 0 with value: 0.6987951807228915.\u001b[0m\n",
      "/usr/local/lib/python3.7/dist-packages/sklearn/linear_model/_sag.py:354: ConvergenceWarning: The max_iter was reached which means the coef_ did not converge\n",
      "  ConvergenceWarning,\n",
      "\u001b[32m[I 2022-06-23 19:27:24,330]\u001b[0m Trial 4 finished with value: 0.6987951807228915 and parameters: {'C': 1.4457705657606996}. Best is trial 0 with value: 0.6987951807228915.\u001b[0m\n",
      "/usr/local/lib/python3.7/dist-packages/sklearn/linear_model/_sag.py:354: ConvergenceWarning: The max_iter was reached which means the coef_ did not converge\n",
      "  ConvergenceWarning,\n",
      "\u001b[32m[I 2022-06-23 19:27:28,975]\u001b[0m Trial 5 finished with value: 0.7073170731707317 and parameters: {'C': 2.5109039185770468}. Best is trial 5 with value: 0.7073170731707317.\u001b[0m\n",
      "\u001b[32m[I 2022-06-23 19:27:29,081]\u001b[0m Trial 6 finished with value: 0.14814814814814814 and parameters: {'C': 6.0725015697517246e-05}. Best is trial 5 with value: 0.7073170731707317.\u001b[0m\n",
      "\u001b[32m[I 2022-06-23 19:27:29,421]\u001b[0m Trial 7 finished with value: 0.14814814814814814 and parameters: {'C': 0.0022145994820266367}. Best is trial 5 with value: 0.7073170731707317.\u001b[0m\n",
      "/usr/local/lib/python3.7/dist-packages/sklearn/linear_model/_sag.py:354: ConvergenceWarning: The max_iter was reached which means the coef_ did not converge\n",
      "  ConvergenceWarning,\n",
      "\u001b[32m[I 2022-06-23 19:27:33,994]\u001b[0m Trial 8 finished with value: 0.6987951807228915 and parameters: {'C': 7.9114856488901175}. Best is trial 5 with value: 0.7073170731707317.\u001b[0m\n",
      "/usr/local/lib/python3.7/dist-packages/sklearn/linear_model/_sag.py:354: ConvergenceWarning: The max_iter was reached which means the coef_ did not converge\n",
      "  ConvergenceWarning,\n",
      "\u001b[32m[I 2022-06-23 19:27:38,647]\u001b[0m Trial 9 finished with value: 0.6987951807228915 and parameters: {'C': 13.008729829506052}. Best is trial 5 with value: 0.7073170731707317.\u001b[0m\n",
      "\u001b[32m[I 2022-06-23 19:27:40,015]\u001b[0m Trial 10 finished with value: 0.14987080103359174 and parameters: {'C': 0.004498836313033159}. Best is trial 5 with value: 0.7073170731707317.\u001b[0m\n",
      "/usr/local/lib/python3.7/dist-packages/sklearn/linear_model/_sag.py:354: ConvergenceWarning: The max_iter was reached which means the coef_ did not converge\n",
      "  ConvergenceWarning,\n",
      "\u001b[32m[I 2022-06-23 19:27:45,036]\u001b[0m Trial 11 finished with value: 0.6987951807228915 and parameters: {'C': 62.71855725348823}. Best is trial 5 with value: 0.7073170731707317.\u001b[0m\n",
      "/usr/local/lib/python3.7/dist-packages/sklearn/linear_model/_sag.py:354: ConvergenceWarning: The max_iter was reached which means the coef_ did not converge\n",
      "  ConvergenceWarning,\n",
      "\u001b[32m[I 2022-06-23 19:27:48,882]\u001b[0m Trial 12 finished with value: 0.5137614678899082 and parameters: {'C': 0.029243719542745152}. Best is trial 5 with value: 0.7073170731707317.\u001b[0m\n",
      "/usr/local/lib/python3.7/dist-packages/sklearn/linear_model/_sag.py:354: ConvergenceWarning: The max_iter was reached which means the coef_ did not converge\n",
      "  ConvergenceWarning,\n",
      "\u001b[32m[I 2022-06-23 19:27:53,927]\u001b[0m Trial 13 finished with value: 0.6987951807228915 and parameters: {'C': 83.61076750242734}. Best is trial 5 with value: 0.7073170731707317.\u001b[0m\n",
      "/usr/local/lib/python3.7/dist-packages/sklearn/linear_model/_sag.py:354: ConvergenceWarning: The max_iter was reached which means the coef_ did not converge\n",
      "  ConvergenceWarning,\n",
      "\u001b[32m[I 2022-06-23 19:27:58,594]\u001b[0m Trial 14 finished with value: 0.6987951807228915 and parameters: {'C': 1.232624768419544}. Best is trial 5 with value: 0.7073170731707317.\u001b[0m\n",
      "\u001b[32m[I 2022-06-23 19:27:58,816]\u001b[0m Trial 15 finished with value: 0.14814814814814814 and parameters: {'C': 0.0006127042322680002}. Best is trial 5 with value: 0.7073170731707317.\u001b[0m\n",
      "\u001b[32m[I 2022-06-23 19:27:58,918]\u001b[0m Trial 16 finished with value: 0.14814814814814814 and parameters: {'C': 1.8744671059406953e-07}. Best is trial 5 with value: 0.7073170731707317.\u001b[0m\n",
      "/usr/local/lib/python3.7/dist-packages/sklearn/linear_model/_sag.py:354: ConvergenceWarning: The max_iter was reached which means the coef_ did not converge\n",
      "  ConvergenceWarning,\n",
      "\u001b[32m[I 2022-06-23 19:28:03,600]\u001b[0m Trial 17 finished with value: 0.6987951807228915 and parameters: {'C': 2.0558865409681673}. Best is trial 5 with value: 0.7073170731707317.\u001b[0m\n",
      "\u001b[32m[I 2022-06-23 19:28:03,710]\u001b[0m Trial 18 finished with value: 0.14814814814814814 and parameters: {'C': 2.9922894073497704e-05}. Best is trial 5 with value: 0.7073170731707317.\u001b[0m\n",
      "/usr/local/lib/python3.7/dist-packages/sklearn/linear_model/_sag.py:354: ConvergenceWarning: The max_iter was reached which means the coef_ did not converge\n",
      "  ConvergenceWarning,\n",
      "\u001b[32m[I 2022-06-23 19:28:07,574]\u001b[0m Trial 19 finished with value: 0.5346534653465347 and parameters: {'C': 0.03615802128533063}. Best is trial 5 with value: 0.7073170731707317.\u001b[0m\n",
      "/usr/local/lib/python3.7/dist-packages/sklearn/linear_model/_sag.py:354: ConvergenceWarning: The max_iter was reached which means the coef_ did not converge\n",
      "  ConvergenceWarning,\n",
      "\u001b[32m[I 2022-06-23 19:28:11,848]\u001b[0m Trial 20 finished with value: 0.6744186046511628 and parameters: {'C': 0.29545730991093916}. Best is trial 5 with value: 0.7073170731707317.\u001b[0m\n",
      "/usr/local/lib/python3.7/dist-packages/sklearn/linear_model/_sag.py:354: ConvergenceWarning: The max_iter was reached which means the coef_ did not converge\n",
      "  ConvergenceWarning,\n",
      "\u001b[32m[I 2022-06-23 19:28:16,395]\u001b[0m Trial 21 finished with value: 0.7073170731707317 and parameters: {'C': 3.1970601466359003}. Best is trial 5 with value: 0.7073170731707317.\u001b[0m\n",
      "/usr/local/lib/python3.7/dist-packages/sklearn/linear_model/_sag.py:354: ConvergenceWarning: The max_iter was reached which means the coef_ did not converge\n",
      "  ConvergenceWarning,\n",
      "\u001b[32m[I 2022-06-23 19:28:21,036]\u001b[0m Trial 22 finished with value: 0.6987951807228915 and parameters: {'C': 1.1556381230887922}. Best is trial 5 with value: 0.7073170731707317.\u001b[0m\n",
      "/usr/local/lib/python3.7/dist-packages/sklearn/linear_model/_sag.py:354: ConvergenceWarning: The max_iter was reached which means the coef_ did not converge\n",
      "  ConvergenceWarning,\n",
      "\u001b[32m[I 2022-06-23 19:28:25,679]\u001b[0m Trial 23 finished with value: 0.6987951807228915 and parameters: {'C': 12.842549680678445}. Best is trial 5 with value: 0.7073170731707317.\u001b[0m\n",
      "/usr/local/lib/python3.7/dist-packages/sklearn/linear_model/_sag.py:354: ConvergenceWarning: The max_iter was reached which means the coef_ did not converge\n",
      "  ConvergenceWarning,\n",
      "\u001b[32m[I 2022-06-23 19:28:31,368]\u001b[0m Trial 24 finished with value: 0.6987951807228915 and parameters: {'C': 12.394140419241667}. Best is trial 5 with value: 0.7073170731707317.\u001b[0m\n",
      "/usr/local/lib/python3.7/dist-packages/sklearn/linear_model/_sag.py:354: ConvergenceWarning: The max_iter was reached which means the coef_ did not converge\n",
      "  ConvergenceWarning,\n",
      "\u001b[32m[I 2022-06-23 19:28:35,192]\u001b[0m Trial 25 finished with value: 0.45614035087719296 and parameters: {'C': 0.017049746424333573}. Best is trial 5 with value: 0.7073170731707317.\u001b[0m\n",
      "/usr/local/lib/python3.7/dist-packages/sklearn/linear_model/_sag.py:354: ConvergenceWarning: The max_iter was reached which means the coef_ did not converge\n",
      "  ConvergenceWarning,\n",
      "\u001b[32m[I 2022-06-23 19:28:39,509]\u001b[0m Trial 26 finished with value: 0.6744186046511628 and parameters: {'C': 0.3247025942180245}. Best is trial 5 with value: 0.7073170731707317.\u001b[0m\n",
      "/usr/local/lib/python3.7/dist-packages/sklearn/linear_model/_sag.py:354: ConvergenceWarning: The max_iter was reached which means the coef_ did not converge\n",
      "  ConvergenceWarning,\n",
      "\u001b[32m[I 2022-06-23 19:28:44,019]\u001b[0m Trial 27 finished with value: 0.7073170731707317 and parameters: {'C': 3.923977305901259}. Best is trial 5 with value: 0.7073170731707317.\u001b[0m\n",
      "/usr/local/lib/python3.7/dist-packages/sklearn/linear_model/_sag.py:354: ConvergenceWarning: The max_iter was reached which means the coef_ did not converge\n",
      "  ConvergenceWarning,\n",
      "\u001b[32m[I 2022-06-23 19:28:48,924]\u001b[0m Trial 28 finished with value: 0.6987951807228915 and parameters: {'C': 50.74341833091656}. Best is trial 5 with value: 0.7073170731707317.\u001b[0m\n",
      "/usr/local/lib/python3.7/dist-packages/sklearn/linear_model/_sag.py:354: ConvergenceWarning: The max_iter was reached which means the coef_ did not converge\n",
      "  ConvergenceWarning,\n",
      "\u001b[32m[I 2022-06-23 19:28:53,478]\u001b[0m Trial 29 finished with value: 0.7073170731707317 and parameters: {'C': 3.26235502410977}. Best is trial 5 with value: 0.7073170731707317.\u001b[0m\n"
     ]
    }
   ],
   "source": [
    "def objective(trial):\n",
    "    C = trial.suggest_loguniform(\"C\", 1e-7, 100.0)\n",
    "    model = LogisticRegression(C=C, solver='saga', penalty='l1')\n",
    "    model.fit(features_train_bert, target_train_bert)\n",
    "    predictions_opt = model.predict(features_test_bert)\n",
    "    \n",
    "    return f1_score(target_test_bert, predictions_opt)\n",
    "\n",
    "study = optuna.create_study(direction=\"maximize\")\n",
    "study.optimize(objective, n_trials=30)"
   ]
  },
  {
   "cell_type": "markdown",
   "metadata": {
    "id": "I0ejkBLbCvvO"
   },
   "source": [
    "Модель с BERT показала худшие результаты, чем с использованием Tf idf. Лучшие результаты колеблются около 0.7."
   ]
  },
  {
   "cell_type": "markdown",
   "metadata": {
    "id": "I2w-knFDLIAO"
   },
   "source": [
    "## Выводы"
   ]
  },
  {
   "cell_type": "markdown",
   "metadata": {
    "id": "in4oZ7slAZEP"
   },
   "source": [
    "В рамках проекта целесообразно использовать модель логистической регресии с параметрами C: 7.44, solver: saga, penalty: l1, которая показывает результат на тестовой выборке в 0.77.\n",
    "\n",
    "Модель, обученная на сбалансированных, увеличенных данных, также показала себя на высоком уровне, однако время, которое тратит функция балансировки и модель для обучения на расширенной выборке, слишком велико - 10 минут на создание сбалансированной выборки и 30 минут на обучение модели на ней, в то время как обычная модель обучается гораздо быстрее и даже оптимизация с помощью оптуны выполняется быстрее.\n",
    "\n",
    "Поиск по решетке значений выполнить не удалось, так как время перебора было слишком велико, а ограничения среды не позволяют выполнять такие длительные вычисления.\n",
    "\n",
    "Модель BERT с логистической регрессией показывает весьма посредственный результат, вероятно в основном из-за несбалансированных данных и малого их числа - скорее всего модели не хватает достаточного количества положительных значений для создания информативного вектора, а большее количество наблюдений обработать не представляется возможным."
   ]
  }
 ],
 "metadata": {
  "colab": {
   "collapsed_sections": [],
   "name": "Wikishop.ipynb",
   "provenance": []
  },
  "kernelspec": {
   "display_name": "Python 3.9.13 64-bit",
   "language": "python",
   "name": "python3"
  },
  "language_info": {
   "codemirror_mode": {
    "name": "ipython",
    "version": 3
   },
   "file_extension": ".py",
   "mimetype": "text/x-python",
   "name": "python",
   "nbconvert_exporter": "python",
   "pygments_lexer": "ipython3",
   "version": "3.9.13"
  },
  "toc": {
   "base_numbering": 1,
   "nav_menu": {},
   "number_sections": true,
   "sideBar": true,
   "skip_h1_title": true,
   "title_cell": "Содержание",
   "title_sidebar": "Contents",
   "toc_cell": true,
   "toc_position": {
    "height": "calc(100% - 180px)",
    "left": "10px",
    "top": "150px",
    "width": "302.391px"
   },
   "toc_section_display": true,
   "toc_window_display": false
  },
  "vscode": {
   "interpreter": {
    "hash": "aee8b7b246df8f9039afb4144a1f6fd8d2ca17a180786b69acc140d282b71a49"
   }
  },
  "widgets": {
   "application/vnd.jupyter.widget-state+json": {
    "068b59f54ecb4c99993598d8f7ef19e4": {
     "model_module": "@jupyter-widgets/controls",
     "model_module_version": "1.5.0",
     "model_name": "HBoxModel",
     "state": {
      "_dom_classes": [],
      "_model_module": "@jupyter-widgets/controls",
      "_model_module_version": "1.5.0",
      "_model_name": "HBoxModel",
      "_view_count": null,
      "_view_module": "@jupyter-widgets/controls",
      "_view_module_version": "1.5.0",
      "_view_name": "HBoxView",
      "box_style": "",
      "children": [
       "IPY_MODEL_f149afe4eca44a25a1f6f72449350953",
       "IPY_MODEL_94059728f7dd43699dc6887dd15da7d4",
       "IPY_MODEL_26640a74e79a4fbcbc878cb40b09e1aa"
      ],
      "layout": "IPY_MODEL_0e11887522264922b53e39dc7110014d"
     }
    },
    "0e0db7670d814b308a6adeab63ce2cc4": {
     "model_module": "@jupyter-widgets/base",
     "model_module_version": "1.2.0",
     "model_name": "LayoutModel",
     "state": {
      "_model_module": "@jupyter-widgets/base",
      "_model_module_version": "1.2.0",
      "_model_name": "LayoutModel",
      "_view_count": null,
      "_view_module": "@jupyter-widgets/base",
      "_view_module_version": "1.2.0",
      "_view_name": "LayoutView",
      "align_content": null,
      "align_items": null,
      "align_self": null,
      "border": null,
      "bottom": null,
      "display": null,
      "flex": null,
      "flex_flow": null,
      "grid_area": null,
      "grid_auto_columns": null,
      "grid_auto_flow": null,
      "grid_auto_rows": null,
      "grid_column": null,
      "grid_gap": null,
      "grid_row": null,
      "grid_template_areas": null,
      "grid_template_columns": null,
      "grid_template_rows": null,
      "height": null,
      "justify_content": null,
      "justify_items": null,
      "left": null,
      "margin": null,
      "max_height": null,
      "max_width": null,
      "min_height": null,
      "min_width": null,
      "object_fit": null,
      "object_position": null,
      "order": null,
      "overflow": null,
      "overflow_x": null,
      "overflow_y": null,
      "padding": null,
      "right": null,
      "top": null,
      "visibility": null,
      "width": null
     }
    },
    "0e11887522264922b53e39dc7110014d": {
     "model_module": "@jupyter-widgets/base",
     "model_module_version": "1.2.0",
     "model_name": "LayoutModel",
     "state": {
      "_model_module": "@jupyter-widgets/base",
      "_model_module_version": "1.2.0",
      "_model_name": "LayoutModel",
      "_view_count": null,
      "_view_module": "@jupyter-widgets/base",
      "_view_module_version": "1.2.0",
      "_view_name": "LayoutView",
      "align_content": null,
      "align_items": null,
      "align_self": null,
      "border": null,
      "bottom": null,
      "display": null,
      "flex": null,
      "flex_flow": null,
      "grid_area": null,
      "grid_auto_columns": null,
      "grid_auto_flow": null,
      "grid_auto_rows": null,
      "grid_column": null,
      "grid_gap": null,
      "grid_row": null,
      "grid_template_areas": null,
      "grid_template_columns": null,
      "grid_template_rows": null,
      "height": null,
      "justify_content": null,
      "justify_items": null,
      "left": null,
      "margin": null,
      "max_height": null,
      "max_width": null,
      "min_height": null,
      "min_width": null,
      "object_fit": null,
      "object_position": null,
      "order": null,
      "overflow": null,
      "overflow_x": null,
      "overflow_y": null,
      "padding": null,
      "right": null,
      "top": null,
      "visibility": null,
      "width": null
     }
    },
    "1faacda920344ae8b525f605b71c9d36": {
     "model_module": "@jupyter-widgets/controls",
     "model_module_version": "1.5.0",
     "model_name": "FloatProgressModel",
     "state": {
      "_dom_classes": [],
      "_model_module": "@jupyter-widgets/controls",
      "_model_module_version": "1.5.0",
      "_model_name": "FloatProgressModel",
      "_view_count": null,
      "_view_module": "@jupyter-widgets/controls",
      "_view_module_version": "1.5.0",
      "_view_name": "ProgressView",
      "bar_style": "success",
      "description": "",
      "description_tooltip": null,
      "layout": "IPY_MODEL_5e9234a968bd44339257dad91134a5ba",
      "max": 483,
      "min": 0,
      "orientation": "horizontal",
      "style": "IPY_MODEL_a5294ccb051040c9af24ba0a519220b3",
      "value": 483
     }
    },
    "248ef7900dc445faa9cb097e4d0b829a": {
     "model_module": "@jupyter-widgets/base",
     "model_module_version": "1.2.0",
     "model_name": "LayoutModel",
     "state": {
      "_model_module": "@jupyter-widgets/base",
      "_model_module_version": "1.2.0",
      "_model_name": "LayoutModel",
      "_view_count": null,
      "_view_module": "@jupyter-widgets/base",
      "_view_module_version": "1.2.0",
      "_view_name": "LayoutView",
      "align_content": null,
      "align_items": null,
      "align_self": null,
      "border": null,
      "bottom": null,
      "display": null,
      "flex": null,
      "flex_flow": null,
      "grid_area": null,
      "grid_auto_columns": null,
      "grid_auto_flow": null,
      "grid_auto_rows": null,
      "grid_column": null,
      "grid_gap": null,
      "grid_row": null,
      "grid_template_areas": null,
      "grid_template_columns": null,
      "grid_template_rows": null,
      "height": null,
      "justify_content": null,
      "justify_items": null,
      "left": null,
      "margin": null,
      "max_height": null,
      "max_width": null,
      "min_height": null,
      "min_width": null,
      "object_fit": null,
      "object_position": null,
      "order": null,
      "overflow": null,
      "overflow_x": null,
      "overflow_y": null,
      "padding": null,
      "right": null,
      "top": null,
      "visibility": null,
      "width": null
     }
    },
    "26206703f7d146828b334c11c9fe4be3": {
     "model_module": "@jupyter-widgets/controls",
     "model_module_version": "1.5.0",
     "model_name": "DescriptionStyleModel",
     "state": {
      "_model_module": "@jupyter-widgets/controls",
      "_model_module_version": "1.5.0",
      "_model_name": "DescriptionStyleModel",
      "_view_count": null,
      "_view_module": "@jupyter-widgets/base",
      "_view_module_version": "1.2.0",
      "_view_name": "StyleView",
      "description_width": ""
     }
    },
    "26640a74e79a4fbcbc878cb40b09e1aa": {
     "model_module": "@jupyter-widgets/controls",
     "model_module_version": "1.5.0",
     "model_name": "HTMLModel",
     "state": {
      "_dom_classes": [],
      "_model_module": "@jupyter-widgets/controls",
      "_model_module_version": "1.5.0",
      "_model_name": "HTMLModel",
      "_view_count": null,
      "_view_module": "@jupyter-widgets/controls",
      "_view_module_version": "1.5.0",
      "_view_name": "HTMLView",
      "description": "",
      "description_tooltip": null,
      "layout": "IPY_MODEL_c8569768d454407eab87ac777d95b031",
      "placeholder": "​",
      "style": "IPY_MODEL_d9dc9be3f4c346288de0c467bdba649c",
      "value": " 256M/256M [00:06&lt;00:00, 39.2MB/s]"
     }
    },
    "2bb5009ddf4b4f81966100e47e90988e": {
     "model_module": "@jupyter-widgets/controls",
     "model_module_version": "1.5.0",
     "model_name": "DescriptionStyleModel",
     "state": {
      "_model_module": "@jupyter-widgets/controls",
      "_model_module_version": "1.5.0",
      "_model_name": "DescriptionStyleModel",
      "_view_count": null,
      "_view_module": "@jupyter-widgets/base",
      "_view_module_version": "1.2.0",
      "_view_name": "StyleView",
      "description_width": ""
     }
    },
    "335973a873854e05bd86a377e6a3d729": {
     "model_module": "@jupyter-widgets/controls",
     "model_module_version": "1.5.0",
     "model_name": "HTMLModel",
     "state": {
      "_dom_classes": [],
      "_model_module": "@jupyter-widgets/controls",
      "_model_module_version": "1.5.0",
      "_model_name": "HTMLModel",
      "_view_count": null,
      "_view_module": "@jupyter-widgets/controls",
      "_view_module_version": "1.5.0",
      "_view_name": "HTMLView",
      "description": "",
      "description_tooltip": null,
      "layout": "IPY_MODEL_c791a54a200d4c43bc8c4d1c81a8f8d7",
      "placeholder": "​",
      "style": "IPY_MODEL_dc51a6e045c545258f6cc3ef11c6e142",
      "value": " 226k/226k [00:00&lt;00:00, 2.62MB/s]"
     }
    },
    "33f1893dc5c346218c5f934ea1772aba": {
     "model_module": "@jupyter-widgets/controls",
     "model_module_version": "1.5.0",
     "model_name": "DescriptionStyleModel",
     "state": {
      "_model_module": "@jupyter-widgets/controls",
      "_model_module_version": "1.5.0",
      "_model_name": "DescriptionStyleModel",
      "_view_count": null,
      "_view_module": "@jupyter-widgets/base",
      "_view_module_version": "1.2.0",
      "_view_name": "StyleView",
      "description_width": ""
     }
    },
    "3c628c309103406688938c6fc33f0850": {
     "model_module": "@jupyter-widgets/controls",
     "model_module_version": "1.5.0",
     "model_name": "HTMLModel",
     "state": {
      "_dom_classes": [],
      "_model_module": "@jupyter-widgets/controls",
      "_model_module_version": "1.5.0",
      "_model_name": "HTMLModel",
      "_view_count": null,
      "_view_module": "@jupyter-widgets/controls",
      "_view_module_version": "1.5.0",
      "_view_name": "HTMLView",
      "description": "",
      "description_tooltip": null,
      "layout": "IPY_MODEL_fb76cdab2df0413ca8bcacf2d91791ae",
      "placeholder": "​",
      "style": "IPY_MODEL_e5bac02ff0654c4491deb88ea3f9c804",
      "value": "100%"
     }
    },
    "463347e0e16e4d75bec5d3d38a908481": {
     "model_module": "@jupyter-widgets/controls",
     "model_module_version": "1.5.0",
     "model_name": "HTMLModel",
     "state": {
      "_dom_classes": [],
      "_model_module": "@jupyter-widgets/controls",
      "_model_module_version": "1.5.0",
      "_model_name": "HTMLModel",
      "_view_count": null,
      "_view_module": "@jupyter-widgets/controls",
      "_view_module_version": "1.5.0",
      "_view_name": "HTMLView",
      "description": "",
      "description_tooltip": null,
      "layout": "IPY_MODEL_d35399013a524172974bdd035429f349",
      "placeholder": "​",
      "style": "IPY_MODEL_ba391de8aaf94f3f9dbe03030d58acea",
      "value": "Downloading: 100%"
     }
    },
    "48673f01fe3d432690d079650cf19a1e": {
     "model_module": "@jupyter-widgets/base",
     "model_module_version": "1.2.0",
     "model_name": "LayoutModel",
     "state": {
      "_model_module": "@jupyter-widgets/base",
      "_model_module_version": "1.2.0",
      "_model_name": "LayoutModel",
      "_view_count": null,
      "_view_module": "@jupyter-widgets/base",
      "_view_module_version": "1.2.0",
      "_view_name": "LayoutView",
      "align_content": null,
      "align_items": null,
      "align_self": null,
      "border": null,
      "bottom": null,
      "display": null,
      "flex": null,
      "flex_flow": null,
      "grid_area": null,
      "grid_auto_columns": null,
      "grid_auto_flow": null,
      "grid_auto_rows": null,
      "grid_column": null,
      "grid_gap": null,
      "grid_row": null,
      "grid_template_areas": null,
      "grid_template_columns": null,
      "grid_template_rows": null,
      "height": null,
      "justify_content": null,
      "justify_items": null,
      "left": null,
      "margin": null,
      "max_height": null,
      "max_width": null,
      "min_height": null,
      "min_width": null,
      "object_fit": null,
      "object_position": null,
      "order": null,
      "overflow": null,
      "overflow_x": null,
      "overflow_y": null,
      "padding": null,
      "right": null,
      "top": null,
      "visibility": null,
      "width": null
     }
    },
    "4a23f40b08a84164af3a7ee1566cdf83": {
     "model_module": "@jupyter-widgets/controls",
     "model_module_version": "1.5.0",
     "model_name": "HBoxModel",
     "state": {
      "_dom_classes": [],
      "_model_module": "@jupyter-widgets/controls",
      "_model_module_version": "1.5.0",
      "_model_name": "HBoxModel",
      "_view_count": null,
      "_view_module": "@jupyter-widgets/controls",
      "_view_module_version": "1.5.0",
      "_view_name": "HBoxView",
      "box_style": "",
      "children": [
       "IPY_MODEL_463347e0e16e4d75bec5d3d38a908481",
       "IPY_MODEL_edd86d8a778c477eba3cd39eb0e0686a",
       "IPY_MODEL_686c0607cc9a4cda96795926359698c7"
      ],
      "layout": "IPY_MODEL_248ef7900dc445faa9cb097e4d0b829a"
     }
    },
    "4b7f1dda15764c1db3cfb488e2d766b1": {
     "model_module": "@jupyter-widgets/base",
     "model_module_version": "1.2.0",
     "model_name": "LayoutModel",
     "state": {
      "_model_module": "@jupyter-widgets/base",
      "_model_module_version": "1.2.0",
      "_model_name": "LayoutModel",
      "_view_count": null,
      "_view_module": "@jupyter-widgets/base",
      "_view_module_version": "1.2.0",
      "_view_name": "LayoutView",
      "align_content": null,
      "align_items": null,
      "align_self": null,
      "border": null,
      "bottom": null,
      "display": null,
      "flex": null,
      "flex_flow": null,
      "grid_area": null,
      "grid_auto_columns": null,
      "grid_auto_flow": null,
      "grid_auto_rows": null,
      "grid_column": null,
      "grid_gap": null,
      "grid_row": null,
      "grid_template_areas": null,
      "grid_template_columns": null,
      "grid_template_rows": null,
      "height": null,
      "justify_content": null,
      "justify_items": null,
      "left": null,
      "margin": null,
      "max_height": null,
      "max_width": null,
      "min_height": null,
      "min_width": null,
      "object_fit": null,
      "object_position": null,
      "order": null,
      "overflow": null,
      "overflow_x": null,
      "overflow_y": null,
      "padding": null,
      "right": null,
      "top": null,
      "visibility": null,
      "width": null
     }
    },
    "58d03fabede14b58bf0ea0476c91815f": {
     "model_module": "@jupyter-widgets/controls",
     "model_module_version": "1.5.0",
     "model_name": "DescriptionStyleModel",
     "state": {
      "_model_module": "@jupyter-widgets/controls",
      "_model_module_version": "1.5.0",
      "_model_name": "DescriptionStyleModel",
      "_view_count": null,
      "_view_module": "@jupyter-widgets/base",
      "_view_module_version": "1.2.0",
      "_view_name": "StyleView",
      "description_width": ""
     }
    },
    "59c9a870ff5741a199b595e7f20fb93a": {
     "model_module": "@jupyter-widgets/controls",
     "model_module_version": "1.5.0",
     "model_name": "FloatProgressModel",
     "state": {
      "_dom_classes": [],
      "_model_module": "@jupyter-widgets/controls",
      "_model_module_version": "1.5.0",
      "_model_name": "FloatProgressModel",
      "_view_count": null,
      "_view_module": "@jupyter-widgets/controls",
      "_view_module_version": "1.5.0",
      "_view_name": "ProgressView",
      "bar_style": "success",
      "description": "",
      "description_tooltip": null,
      "layout": "IPY_MODEL_0e0db7670d814b308a6adeab63ce2cc4",
      "max": 20,
      "min": 0,
      "orientation": "horizontal",
      "style": "IPY_MODEL_a13f10239b19475cbe4e1e8086264430",
      "value": 20
     }
    },
    "5e69ba21a8f84d9ba637fd95a03a5cd1": {
     "model_module": "@jupyter-widgets/controls",
     "model_module_version": "1.5.0",
     "model_name": "HTMLModel",
     "state": {
      "_dom_classes": [],
      "_model_module": "@jupyter-widgets/controls",
      "_model_module_version": "1.5.0",
      "_model_name": "HTMLModel",
      "_view_count": null,
      "_view_module": "@jupyter-widgets/controls",
      "_view_module_version": "1.5.0",
      "_view_name": "HTMLView",
      "description": "",
      "description_tooltip": null,
      "layout": "IPY_MODEL_60d4aa5854d64dbfad6edc848000c6b0",
      "placeholder": "​",
      "style": "IPY_MODEL_58d03fabede14b58bf0ea0476c91815f",
      "value": " 483/483 [00:00&lt;00:00, 6.38kB/s]"
     }
    },
    "5e9234a968bd44339257dad91134a5ba": {
     "model_module": "@jupyter-widgets/base",
     "model_module_version": "1.2.0",
     "model_name": "LayoutModel",
     "state": {
      "_model_module": "@jupyter-widgets/base",
      "_model_module_version": "1.2.0",
      "_model_name": "LayoutModel",
      "_view_count": null,
      "_view_module": "@jupyter-widgets/base",
      "_view_module_version": "1.2.0",
      "_view_name": "LayoutView",
      "align_content": null,
      "align_items": null,
      "align_self": null,
      "border": null,
      "bottom": null,
      "display": null,
      "flex": null,
      "flex_flow": null,
      "grid_area": null,
      "grid_auto_columns": null,
      "grid_auto_flow": null,
      "grid_auto_rows": null,
      "grid_column": null,
      "grid_gap": null,
      "grid_row": null,
      "grid_template_areas": null,
      "grid_template_columns": null,
      "grid_template_rows": null,
      "height": null,
      "justify_content": null,
      "justify_items": null,
      "left": null,
      "margin": null,
      "max_height": null,
      "max_width": null,
      "min_height": null,
      "min_width": null,
      "object_fit": null,
      "object_position": null,
      "order": null,
      "overflow": null,
      "overflow_x": null,
      "overflow_y": null,
      "padding": null,
      "right": null,
      "top": null,
      "visibility": null,
      "width": null
     }
    },
    "60d4aa5854d64dbfad6edc848000c6b0": {
     "model_module": "@jupyter-widgets/base",
     "model_module_version": "1.2.0",
     "model_name": "LayoutModel",
     "state": {
      "_model_module": "@jupyter-widgets/base",
      "_model_module_version": "1.2.0",
      "_model_name": "LayoutModel",
      "_view_count": null,
      "_view_module": "@jupyter-widgets/base",
      "_view_module_version": "1.2.0",
      "_view_name": "LayoutView",
      "align_content": null,
      "align_items": null,
      "align_self": null,
      "border": null,
      "bottom": null,
      "display": null,
      "flex": null,
      "flex_flow": null,
      "grid_area": null,
      "grid_auto_columns": null,
      "grid_auto_flow": null,
      "grid_auto_rows": null,
      "grid_column": null,
      "grid_gap": null,
      "grid_row": null,
      "grid_template_areas": null,
      "grid_template_columns": null,
      "grid_template_rows": null,
      "height": null,
      "justify_content": null,
      "justify_items": null,
      "left": null,
      "margin": null,
      "max_height": null,
      "max_width": null,
      "min_height": null,
      "min_width": null,
      "object_fit": null,
      "object_position": null,
      "order": null,
      "overflow": null,
      "overflow_x": null,
      "overflow_y": null,
      "padding": null,
      "right": null,
      "top": null,
      "visibility": null,
      "width": null
     }
    },
    "62ac0b5a38fe4531b07a7db4e6cc7fd0": {
     "model_module": "@jupyter-widgets/base",
     "model_module_version": "1.2.0",
     "model_name": "LayoutModel",
     "state": {
      "_model_module": "@jupyter-widgets/base",
      "_model_module_version": "1.2.0",
      "_model_name": "LayoutModel",
      "_view_count": null,
      "_view_module": "@jupyter-widgets/base",
      "_view_module_version": "1.2.0",
      "_view_name": "LayoutView",
      "align_content": null,
      "align_items": null,
      "align_self": null,
      "border": null,
      "bottom": null,
      "display": null,
      "flex": null,
      "flex_flow": null,
      "grid_area": null,
      "grid_auto_columns": null,
      "grid_auto_flow": null,
      "grid_auto_rows": null,
      "grid_column": null,
      "grid_gap": null,
      "grid_row": null,
      "grid_template_areas": null,
      "grid_template_columns": null,
      "grid_template_rows": null,
      "height": null,
      "justify_content": null,
      "justify_items": null,
      "left": null,
      "margin": null,
      "max_height": null,
      "max_width": null,
      "min_height": null,
      "min_width": null,
      "object_fit": null,
      "object_position": null,
      "order": null,
      "overflow": null,
      "overflow_x": null,
      "overflow_y": null,
      "padding": null,
      "right": null,
      "top": null,
      "visibility": null,
      "width": null
     }
    },
    "67ca6e8f456b4a83bbed72079afb74a0": {
     "model_module": "@jupyter-widgets/controls",
     "model_module_version": "1.5.0",
     "model_name": "ProgressStyleModel",
     "state": {
      "_model_module": "@jupyter-widgets/controls",
      "_model_module_version": "1.5.0",
      "_model_name": "ProgressStyleModel",
      "_view_count": null,
      "_view_module": "@jupyter-widgets/base",
      "_view_module_version": "1.2.0",
      "_view_name": "StyleView",
      "bar_color": null,
      "description_width": ""
     }
    },
    "686c0607cc9a4cda96795926359698c7": {
     "model_module": "@jupyter-widgets/controls",
     "model_module_version": "1.5.0",
     "model_name": "HTMLModel",
     "state": {
      "_dom_classes": [],
      "_model_module": "@jupyter-widgets/controls",
      "_model_module_version": "1.5.0",
      "_model_name": "HTMLModel",
      "_view_count": null,
      "_view_module": "@jupyter-widgets/controls",
      "_view_module_version": "1.5.0",
      "_view_name": "HTMLView",
      "description": "",
      "description_tooltip": null,
      "layout": "IPY_MODEL_e8b855790cd3424894fbee9b4ec8ddc9",
      "placeholder": "​",
      "style": "IPY_MODEL_2bb5009ddf4b4f81966100e47e90988e",
      "value": " 28.0/28.0 [00:00&lt;00:00, 440B/s]"
     }
    },
    "6e384978d9384c51bc4cd20b5b350d74": {
     "model_module": "@jupyter-widgets/base",
     "model_module_version": "1.2.0",
     "model_name": "LayoutModel",
     "state": {
      "_model_module": "@jupyter-widgets/base",
      "_model_module_version": "1.2.0",
      "_model_name": "LayoutModel",
      "_view_count": null,
      "_view_module": "@jupyter-widgets/base",
      "_view_module_version": "1.2.0",
      "_view_name": "LayoutView",
      "align_content": null,
      "align_items": null,
      "align_self": null,
      "border": null,
      "bottom": null,
      "display": null,
      "flex": null,
      "flex_flow": null,
      "grid_area": null,
      "grid_auto_columns": null,
      "grid_auto_flow": null,
      "grid_auto_rows": null,
      "grid_column": null,
      "grid_gap": null,
      "grid_row": null,
      "grid_template_areas": null,
      "grid_template_columns": null,
      "grid_template_rows": null,
      "height": null,
      "justify_content": null,
      "justify_items": null,
      "left": null,
      "margin": null,
      "max_height": null,
      "max_width": null,
      "min_height": null,
      "min_width": null,
      "object_fit": null,
      "object_position": null,
      "order": null,
      "overflow": null,
      "overflow_x": null,
      "overflow_y": null,
      "padding": null,
      "right": null,
      "top": null,
      "visibility": null,
      "width": null
     }
    },
    "6f2a76f3a01c459998ccfa926d5f977f": {
     "model_module": "@jupyter-widgets/controls",
     "model_module_version": "1.5.0",
     "model_name": "HBoxModel",
     "state": {
      "_dom_classes": [],
      "_model_module": "@jupyter-widgets/controls",
      "_model_module_version": "1.5.0",
      "_model_name": "HBoxModel",
      "_view_count": null,
      "_view_module": "@jupyter-widgets/controls",
      "_view_module_version": "1.5.0",
      "_view_name": "HBoxView",
      "box_style": "",
      "children": [
       "IPY_MODEL_c04e3d74d0a244edaa9ee272de73ef1a",
       "IPY_MODEL_837522aab9af492fb039299d07a8a2ae",
       "IPY_MODEL_335973a873854e05bd86a377e6a3d729"
      ],
      "layout": "IPY_MODEL_4b7f1dda15764c1db3cfb488e2d766b1"
     }
    },
    "7ff01b08028a45719c613b0c086da12d": {
     "model_module": "@jupyter-widgets/controls",
     "model_module_version": "1.5.0",
     "model_name": "HTMLModel",
     "state": {
      "_dom_classes": [],
      "_model_module": "@jupyter-widgets/controls",
      "_model_module_version": "1.5.0",
      "_model_name": "HTMLModel",
      "_view_count": null,
      "_view_module": "@jupyter-widgets/controls",
      "_view_module_version": "1.5.0",
      "_view_name": "HTMLView",
      "description": "",
      "description_tooltip": null,
      "layout": "IPY_MODEL_e7d502df3b3c4037b6e9a26cd8dd4780",
      "placeholder": "​",
      "style": "IPY_MODEL_26206703f7d146828b334c11c9fe4be3",
      "value": " 20/20 [29:46&lt;00:00, 88.95s/it]"
     }
    },
    "837522aab9af492fb039299d07a8a2ae": {
     "model_module": "@jupyter-widgets/controls",
     "model_module_version": "1.5.0",
     "model_name": "FloatProgressModel",
     "state": {
      "_dom_classes": [],
      "_model_module": "@jupyter-widgets/controls",
      "_model_module_version": "1.5.0",
      "_model_name": "FloatProgressModel",
      "_view_count": null,
      "_view_module": "@jupyter-widgets/controls",
      "_view_module_version": "1.5.0",
      "_view_name": "ProgressView",
      "bar_style": "success",
      "description": "",
      "description_tooltip": null,
      "layout": "IPY_MODEL_b1f267938792434da4205b68ddeed902",
      "max": 231508,
      "min": 0,
      "orientation": "horizontal",
      "style": "IPY_MODEL_67ca6e8f456b4a83bbed72079afb74a0",
      "value": 231508
     }
    },
    "9381eb26daab4e6bab045d6f027efe03": {
     "model_module": "@jupyter-widgets/base",
     "model_module_version": "1.2.0",
     "model_name": "LayoutModel",
     "state": {
      "_model_module": "@jupyter-widgets/base",
      "_model_module_version": "1.2.0",
      "_model_name": "LayoutModel",
      "_view_count": null,
      "_view_module": "@jupyter-widgets/base",
      "_view_module_version": "1.2.0",
      "_view_name": "LayoutView",
      "align_content": null,
      "align_items": null,
      "align_self": null,
      "border": null,
      "bottom": null,
      "display": null,
      "flex": null,
      "flex_flow": null,
      "grid_area": null,
      "grid_auto_columns": null,
      "grid_auto_flow": null,
      "grid_auto_rows": null,
      "grid_column": null,
      "grid_gap": null,
      "grid_row": null,
      "grid_template_areas": null,
      "grid_template_columns": null,
      "grid_template_rows": null,
      "height": null,
      "justify_content": null,
      "justify_items": null,
      "left": null,
      "margin": null,
      "max_height": null,
      "max_width": null,
      "min_height": null,
      "min_width": null,
      "object_fit": null,
      "object_position": null,
      "order": null,
      "overflow": null,
      "overflow_x": null,
      "overflow_y": null,
      "padding": null,
      "right": null,
      "top": null,
      "visibility": null,
      "width": null
     }
    },
    "94059728f7dd43699dc6887dd15da7d4": {
     "model_module": "@jupyter-widgets/controls",
     "model_module_version": "1.5.0",
     "model_name": "FloatProgressModel",
     "state": {
      "_dom_classes": [],
      "_model_module": "@jupyter-widgets/controls",
      "_model_module_version": "1.5.0",
      "_model_name": "FloatProgressModel",
      "_view_count": null,
      "_view_module": "@jupyter-widgets/controls",
      "_view_module_version": "1.5.0",
      "_view_name": "ProgressView",
      "bar_style": "success",
      "description": "",
      "description_tooltip": null,
      "layout": "IPY_MODEL_48673f01fe3d432690d079650cf19a1e",
      "max": 267967963,
      "min": 0,
      "orientation": "horizontal",
      "style": "IPY_MODEL_ef337ddb68bf4dacaf4af81c0d18d73c",
      "value": 267967963
     }
    },
    "9e54faa1a15e4086bc4fc6022d07a2a2": {
     "model_module": "@jupyter-widgets/controls",
     "model_module_version": "1.5.0",
     "model_name": "HTMLModel",
     "state": {
      "_dom_classes": [],
      "_model_module": "@jupyter-widgets/controls",
      "_model_module_version": "1.5.0",
      "_model_name": "HTMLModel",
      "_view_count": null,
      "_view_module": "@jupyter-widgets/controls",
      "_view_module_version": "1.5.0",
      "_view_name": "HTMLView",
      "description": "",
      "description_tooltip": null,
      "layout": "IPY_MODEL_6e384978d9384c51bc4cd20b5b350d74",
      "placeholder": "​",
      "style": "IPY_MODEL_e5dabfda856f45048239eccc6c21da13",
      "value": "Downloading: 100%"
     }
    },
    "a13f10239b19475cbe4e1e8086264430": {
     "model_module": "@jupyter-widgets/controls",
     "model_module_version": "1.5.0",
     "model_name": "ProgressStyleModel",
     "state": {
      "_model_module": "@jupyter-widgets/controls",
      "_model_module_version": "1.5.0",
      "_model_name": "ProgressStyleModel",
      "_view_count": null,
      "_view_module": "@jupyter-widgets/base",
      "_view_module_version": "1.2.0",
      "_view_name": "StyleView",
      "bar_color": null,
      "description_width": ""
     }
    },
    "a5294ccb051040c9af24ba0a519220b3": {
     "model_module": "@jupyter-widgets/controls",
     "model_module_version": "1.5.0",
     "model_name": "ProgressStyleModel",
     "state": {
      "_model_module": "@jupyter-widgets/controls",
      "_model_module_version": "1.5.0",
      "_model_name": "ProgressStyleModel",
      "_view_count": null,
      "_view_module": "@jupyter-widgets/base",
      "_view_module_version": "1.2.0",
      "_view_name": "StyleView",
      "bar_color": null,
      "description_width": ""
     }
    },
    "aae2edc08f2041a1b480668334d7c295": {
     "model_module": "@jupyter-widgets/controls",
     "model_module_version": "1.5.0",
     "model_name": "ProgressStyleModel",
     "state": {
      "_model_module": "@jupyter-widgets/controls",
      "_model_module_version": "1.5.0",
      "_model_name": "ProgressStyleModel",
      "_view_count": null,
      "_view_module": "@jupyter-widgets/base",
      "_view_module_version": "1.2.0",
      "_view_name": "StyleView",
      "bar_color": null,
      "description_width": ""
     }
    },
    "b1f267938792434da4205b68ddeed902": {
     "model_module": "@jupyter-widgets/base",
     "model_module_version": "1.2.0",
     "model_name": "LayoutModel",
     "state": {
      "_model_module": "@jupyter-widgets/base",
      "_model_module_version": "1.2.0",
      "_model_name": "LayoutModel",
      "_view_count": null,
      "_view_module": "@jupyter-widgets/base",
      "_view_module_version": "1.2.0",
      "_view_name": "LayoutView",
      "align_content": null,
      "align_items": null,
      "align_self": null,
      "border": null,
      "bottom": null,
      "display": null,
      "flex": null,
      "flex_flow": null,
      "grid_area": null,
      "grid_auto_columns": null,
      "grid_auto_flow": null,
      "grid_auto_rows": null,
      "grid_column": null,
      "grid_gap": null,
      "grid_row": null,
      "grid_template_areas": null,
      "grid_template_columns": null,
      "grid_template_rows": null,
      "height": null,
      "justify_content": null,
      "justify_items": null,
      "left": null,
      "margin": null,
      "max_height": null,
      "max_width": null,
      "min_height": null,
      "min_width": null,
      "object_fit": null,
      "object_position": null,
      "order": null,
      "overflow": null,
      "overflow_x": null,
      "overflow_y": null,
      "padding": null,
      "right": null,
      "top": null,
      "visibility": null,
      "width": null
     }
    },
    "ba391de8aaf94f3f9dbe03030d58acea": {
     "model_module": "@jupyter-widgets/controls",
     "model_module_version": "1.5.0",
     "model_name": "DescriptionStyleModel",
     "state": {
      "_model_module": "@jupyter-widgets/controls",
      "_model_module_version": "1.5.0",
      "_model_name": "DescriptionStyleModel",
      "_view_count": null,
      "_view_module": "@jupyter-widgets/base",
      "_view_module_version": "1.2.0",
      "_view_name": "StyleView",
      "description_width": ""
     }
    },
    "c04e3d74d0a244edaa9ee272de73ef1a": {
     "model_module": "@jupyter-widgets/controls",
     "model_module_version": "1.5.0",
     "model_name": "HTMLModel",
     "state": {
      "_dom_classes": [],
      "_model_module": "@jupyter-widgets/controls",
      "_model_module_version": "1.5.0",
      "_model_name": "HTMLModel",
      "_view_count": null,
      "_view_module": "@jupyter-widgets/controls",
      "_view_module_version": "1.5.0",
      "_view_name": "HTMLView",
      "description": "",
      "description_tooltip": null,
      "layout": "IPY_MODEL_c28c6109c8694a79a1cd9a9fdb9bda9f",
      "placeholder": "​",
      "style": "IPY_MODEL_33f1893dc5c346218c5f934ea1772aba",
      "value": "Downloading: 100%"
     }
    },
    "c28c6109c8694a79a1cd9a9fdb9bda9f": {
     "model_module": "@jupyter-widgets/base",
     "model_module_version": "1.2.0",
     "model_name": "LayoutModel",
     "state": {
      "_model_module": "@jupyter-widgets/base",
      "_model_module_version": "1.2.0",
      "_model_name": "LayoutModel",
      "_view_count": null,
      "_view_module": "@jupyter-widgets/base",
      "_view_module_version": "1.2.0",
      "_view_name": "LayoutView",
      "align_content": null,
      "align_items": null,
      "align_self": null,
      "border": null,
      "bottom": null,
      "display": null,
      "flex": null,
      "flex_flow": null,
      "grid_area": null,
      "grid_auto_columns": null,
      "grid_auto_flow": null,
      "grid_auto_rows": null,
      "grid_column": null,
      "grid_gap": null,
      "grid_row": null,
      "grid_template_areas": null,
      "grid_template_columns": null,
      "grid_template_rows": null,
      "height": null,
      "justify_content": null,
      "justify_items": null,
      "left": null,
      "margin": null,
      "max_height": null,
      "max_width": null,
      "min_height": null,
      "min_width": null,
      "object_fit": null,
      "object_position": null,
      "order": null,
      "overflow": null,
      "overflow_x": null,
      "overflow_y": null,
      "padding": null,
      "right": null,
      "top": null,
      "visibility": null,
      "width": null
     }
    },
    "c791a54a200d4c43bc8c4d1c81a8f8d7": {
     "model_module": "@jupyter-widgets/base",
     "model_module_version": "1.2.0",
     "model_name": "LayoutModel",
     "state": {
      "_model_module": "@jupyter-widgets/base",
      "_model_module_version": "1.2.0",
      "_model_name": "LayoutModel",
      "_view_count": null,
      "_view_module": "@jupyter-widgets/base",
      "_view_module_version": "1.2.0",
      "_view_name": "LayoutView",
      "align_content": null,
      "align_items": null,
      "align_self": null,
      "border": null,
      "bottom": null,
      "display": null,
      "flex": null,
      "flex_flow": null,
      "grid_area": null,
      "grid_auto_columns": null,
      "grid_auto_flow": null,
      "grid_auto_rows": null,
      "grid_column": null,
      "grid_gap": null,
      "grid_row": null,
      "grid_template_areas": null,
      "grid_template_columns": null,
      "grid_template_rows": null,
      "height": null,
      "justify_content": null,
      "justify_items": null,
      "left": null,
      "margin": null,
      "max_height": null,
      "max_width": null,
      "min_height": null,
      "min_width": null,
      "object_fit": null,
      "object_position": null,
      "order": null,
      "overflow": null,
      "overflow_x": null,
      "overflow_y": null,
      "padding": null,
      "right": null,
      "top": null,
      "visibility": null,
      "width": null
     }
    },
    "c8569768d454407eab87ac777d95b031": {
     "model_module": "@jupyter-widgets/base",
     "model_module_version": "1.2.0",
     "model_name": "LayoutModel",
     "state": {
      "_model_module": "@jupyter-widgets/base",
      "_model_module_version": "1.2.0",
      "_model_name": "LayoutModel",
      "_view_count": null,
      "_view_module": "@jupyter-widgets/base",
      "_view_module_version": "1.2.0",
      "_view_name": "LayoutView",
      "align_content": null,
      "align_items": null,
      "align_self": null,
      "border": null,
      "bottom": null,
      "display": null,
      "flex": null,
      "flex_flow": null,
      "grid_area": null,
      "grid_auto_columns": null,
      "grid_auto_flow": null,
      "grid_auto_rows": null,
      "grid_column": null,
      "grid_gap": null,
      "grid_row": null,
      "grid_template_areas": null,
      "grid_template_columns": null,
      "grid_template_rows": null,
      "height": null,
      "justify_content": null,
      "justify_items": null,
      "left": null,
      "margin": null,
      "max_height": null,
      "max_width": null,
      "min_height": null,
      "min_width": null,
      "object_fit": null,
      "object_position": null,
      "order": null,
      "overflow": null,
      "overflow_x": null,
      "overflow_y": null,
      "padding": null,
      "right": null,
      "top": null,
      "visibility": null,
      "width": null
     }
    },
    "d068216f16804cd09603d633a4710cb1": {
     "model_module": "@jupyter-widgets/controls",
     "model_module_version": "1.5.0",
     "model_name": "HBoxModel",
     "state": {
      "_dom_classes": [],
      "_model_module": "@jupyter-widgets/controls",
      "_model_module_version": "1.5.0",
      "_model_name": "HBoxModel",
      "_view_count": null,
      "_view_module": "@jupyter-widgets/controls",
      "_view_module_version": "1.5.0",
      "_view_name": "HBoxView",
      "box_style": "",
      "children": [
       "IPY_MODEL_9e54faa1a15e4086bc4fc6022d07a2a2",
       "IPY_MODEL_1faacda920344ae8b525f605b71c9d36",
       "IPY_MODEL_5e69ba21a8f84d9ba637fd95a03a5cd1"
      ],
      "layout": "IPY_MODEL_62ac0b5a38fe4531b07a7db4e6cc7fd0"
     }
    },
    "d35399013a524172974bdd035429f349": {
     "model_module": "@jupyter-widgets/base",
     "model_module_version": "1.2.0",
     "model_name": "LayoutModel",
     "state": {
      "_model_module": "@jupyter-widgets/base",
      "_model_module_version": "1.2.0",
      "_model_name": "LayoutModel",
      "_view_count": null,
      "_view_module": "@jupyter-widgets/base",
      "_view_module_version": "1.2.0",
      "_view_name": "LayoutView",
      "align_content": null,
      "align_items": null,
      "align_self": null,
      "border": null,
      "bottom": null,
      "display": null,
      "flex": null,
      "flex_flow": null,
      "grid_area": null,
      "grid_auto_columns": null,
      "grid_auto_flow": null,
      "grid_auto_rows": null,
      "grid_column": null,
      "grid_gap": null,
      "grid_row": null,
      "grid_template_areas": null,
      "grid_template_columns": null,
      "grid_template_rows": null,
      "height": null,
      "justify_content": null,
      "justify_items": null,
      "left": null,
      "margin": null,
      "max_height": null,
      "max_width": null,
      "min_height": null,
      "min_width": null,
      "object_fit": null,
      "object_position": null,
      "order": null,
      "overflow": null,
      "overflow_x": null,
      "overflow_y": null,
      "padding": null,
      "right": null,
      "top": null,
      "visibility": null,
      "width": null
     }
    },
    "d4ca37cd486e41f4b361462f9c5d1f39": {
     "model_module": "@jupyter-widgets/controls",
     "model_module_version": "1.5.0",
     "model_name": "HBoxModel",
     "state": {
      "_dom_classes": [],
      "_model_module": "@jupyter-widgets/controls",
      "_model_module_version": "1.5.0",
      "_model_name": "HBoxModel",
      "_view_count": null,
      "_view_module": "@jupyter-widgets/controls",
      "_view_module_version": "1.5.0",
      "_view_name": "HBoxView",
      "box_style": "",
      "children": [
       "IPY_MODEL_3c628c309103406688938c6fc33f0850",
       "IPY_MODEL_59c9a870ff5741a199b595e7f20fb93a",
       "IPY_MODEL_7ff01b08028a45719c613b0c086da12d"
      ],
      "layout": "IPY_MODEL_f642c7d4471845b7ba9e920d610ecdbc"
     }
    },
    "d9dc9be3f4c346288de0c467bdba649c": {
     "model_module": "@jupyter-widgets/controls",
     "model_module_version": "1.5.0",
     "model_name": "DescriptionStyleModel",
     "state": {
      "_model_module": "@jupyter-widgets/controls",
      "_model_module_version": "1.5.0",
      "_model_name": "DescriptionStyleModel",
      "_view_count": null,
      "_view_module": "@jupyter-widgets/base",
      "_view_module_version": "1.2.0",
      "_view_name": "StyleView",
      "description_width": ""
     }
    },
    "dc51a6e045c545258f6cc3ef11c6e142": {
     "model_module": "@jupyter-widgets/controls",
     "model_module_version": "1.5.0",
     "model_name": "DescriptionStyleModel",
     "state": {
      "_model_module": "@jupyter-widgets/controls",
      "_model_module_version": "1.5.0",
      "_model_name": "DescriptionStyleModel",
      "_view_count": null,
      "_view_module": "@jupyter-widgets/base",
      "_view_module_version": "1.2.0",
      "_view_name": "StyleView",
      "description_width": ""
     }
    },
    "e5bac02ff0654c4491deb88ea3f9c804": {
     "model_module": "@jupyter-widgets/controls",
     "model_module_version": "1.5.0",
     "model_name": "DescriptionStyleModel",
     "state": {
      "_model_module": "@jupyter-widgets/controls",
      "_model_module_version": "1.5.0",
      "_model_name": "DescriptionStyleModel",
      "_view_count": null,
      "_view_module": "@jupyter-widgets/base",
      "_view_module_version": "1.2.0",
      "_view_name": "StyleView",
      "description_width": ""
     }
    },
    "e5dabfda856f45048239eccc6c21da13": {
     "model_module": "@jupyter-widgets/controls",
     "model_module_version": "1.5.0",
     "model_name": "DescriptionStyleModel",
     "state": {
      "_model_module": "@jupyter-widgets/controls",
      "_model_module_version": "1.5.0",
      "_model_name": "DescriptionStyleModel",
      "_view_count": null,
      "_view_module": "@jupyter-widgets/base",
      "_view_module_version": "1.2.0",
      "_view_name": "StyleView",
      "description_width": ""
     }
    },
    "e7d502df3b3c4037b6e9a26cd8dd4780": {
     "model_module": "@jupyter-widgets/base",
     "model_module_version": "1.2.0",
     "model_name": "LayoutModel",
     "state": {
      "_model_module": "@jupyter-widgets/base",
      "_model_module_version": "1.2.0",
      "_model_name": "LayoutModel",
      "_view_count": null,
      "_view_module": "@jupyter-widgets/base",
      "_view_module_version": "1.2.0",
      "_view_name": "LayoutView",
      "align_content": null,
      "align_items": null,
      "align_self": null,
      "border": null,
      "bottom": null,
      "display": null,
      "flex": null,
      "flex_flow": null,
      "grid_area": null,
      "grid_auto_columns": null,
      "grid_auto_flow": null,
      "grid_auto_rows": null,
      "grid_column": null,
      "grid_gap": null,
      "grid_row": null,
      "grid_template_areas": null,
      "grid_template_columns": null,
      "grid_template_rows": null,
      "height": null,
      "justify_content": null,
      "justify_items": null,
      "left": null,
      "margin": null,
      "max_height": null,
      "max_width": null,
      "min_height": null,
      "min_width": null,
      "object_fit": null,
      "object_position": null,
      "order": null,
      "overflow": null,
      "overflow_x": null,
      "overflow_y": null,
      "padding": null,
      "right": null,
      "top": null,
      "visibility": null,
      "width": null
     }
    },
    "e8b855790cd3424894fbee9b4ec8ddc9": {
     "model_module": "@jupyter-widgets/base",
     "model_module_version": "1.2.0",
     "model_name": "LayoutModel",
     "state": {
      "_model_module": "@jupyter-widgets/base",
      "_model_module_version": "1.2.0",
      "_model_name": "LayoutModel",
      "_view_count": null,
      "_view_module": "@jupyter-widgets/base",
      "_view_module_version": "1.2.0",
      "_view_name": "LayoutView",
      "align_content": null,
      "align_items": null,
      "align_self": null,
      "border": null,
      "bottom": null,
      "display": null,
      "flex": null,
      "flex_flow": null,
      "grid_area": null,
      "grid_auto_columns": null,
      "grid_auto_flow": null,
      "grid_auto_rows": null,
      "grid_column": null,
      "grid_gap": null,
      "grid_row": null,
      "grid_template_areas": null,
      "grid_template_columns": null,
      "grid_template_rows": null,
      "height": null,
      "justify_content": null,
      "justify_items": null,
      "left": null,
      "margin": null,
      "max_height": null,
      "max_width": null,
      "min_height": null,
      "min_width": null,
      "object_fit": null,
      "object_position": null,
      "order": null,
      "overflow": null,
      "overflow_x": null,
      "overflow_y": null,
      "padding": null,
      "right": null,
      "top": null,
      "visibility": null,
      "width": null
     }
    },
    "edd86d8a778c477eba3cd39eb0e0686a": {
     "model_module": "@jupyter-widgets/controls",
     "model_module_version": "1.5.0",
     "model_name": "FloatProgressModel",
     "state": {
      "_dom_classes": [],
      "_model_module": "@jupyter-widgets/controls",
      "_model_module_version": "1.5.0",
      "_model_name": "FloatProgressModel",
      "_view_count": null,
      "_view_module": "@jupyter-widgets/controls",
      "_view_module_version": "1.5.0",
      "_view_name": "ProgressView",
      "bar_style": "success",
      "description": "",
      "description_tooltip": null,
      "layout": "IPY_MODEL_f937b94a3a474be18565d6a0923ca90c",
      "max": 28,
      "min": 0,
      "orientation": "horizontal",
      "style": "IPY_MODEL_aae2edc08f2041a1b480668334d7c295",
      "value": 28
     }
    },
    "ef337ddb68bf4dacaf4af81c0d18d73c": {
     "model_module": "@jupyter-widgets/controls",
     "model_module_version": "1.5.0",
     "model_name": "ProgressStyleModel",
     "state": {
      "_model_module": "@jupyter-widgets/controls",
      "_model_module_version": "1.5.0",
      "_model_name": "ProgressStyleModel",
      "_view_count": null,
      "_view_module": "@jupyter-widgets/base",
      "_view_module_version": "1.2.0",
      "_view_name": "StyleView",
      "bar_color": null,
      "description_width": ""
     }
    },
    "f149afe4eca44a25a1f6f72449350953": {
     "model_module": "@jupyter-widgets/controls",
     "model_module_version": "1.5.0",
     "model_name": "HTMLModel",
     "state": {
      "_dom_classes": [],
      "_model_module": "@jupyter-widgets/controls",
      "_model_module_version": "1.5.0",
      "_model_name": "HTMLModel",
      "_view_count": null,
      "_view_module": "@jupyter-widgets/controls",
      "_view_module_version": "1.5.0",
      "_view_name": "HTMLView",
      "description": "",
      "description_tooltip": null,
      "layout": "IPY_MODEL_9381eb26daab4e6bab045d6f027efe03",
      "placeholder": "​",
      "style": "IPY_MODEL_f74a95f83198452280067cc0022d9c78",
      "value": "Downloading: 100%"
     }
    },
    "f642c7d4471845b7ba9e920d610ecdbc": {
     "model_module": "@jupyter-widgets/base",
     "model_module_version": "1.2.0",
     "model_name": "LayoutModel",
     "state": {
      "_model_module": "@jupyter-widgets/base",
      "_model_module_version": "1.2.0",
      "_model_name": "LayoutModel",
      "_view_count": null,
      "_view_module": "@jupyter-widgets/base",
      "_view_module_version": "1.2.0",
      "_view_name": "LayoutView",
      "align_content": null,
      "align_items": null,
      "align_self": null,
      "border": null,
      "bottom": null,
      "display": null,
      "flex": null,
      "flex_flow": null,
      "grid_area": null,
      "grid_auto_columns": null,
      "grid_auto_flow": null,
      "grid_auto_rows": null,
      "grid_column": null,
      "grid_gap": null,
      "grid_row": null,
      "grid_template_areas": null,
      "grid_template_columns": null,
      "grid_template_rows": null,
      "height": null,
      "justify_content": null,
      "justify_items": null,
      "left": null,
      "margin": null,
      "max_height": null,
      "max_width": null,
      "min_height": null,
      "min_width": null,
      "object_fit": null,
      "object_position": null,
      "order": null,
      "overflow": null,
      "overflow_x": null,
      "overflow_y": null,
      "padding": null,
      "right": null,
      "top": null,
      "visibility": null,
      "width": null
     }
    },
    "f74a95f83198452280067cc0022d9c78": {
     "model_module": "@jupyter-widgets/controls",
     "model_module_version": "1.5.0",
     "model_name": "DescriptionStyleModel",
     "state": {
      "_model_module": "@jupyter-widgets/controls",
      "_model_module_version": "1.5.0",
      "_model_name": "DescriptionStyleModel",
      "_view_count": null,
      "_view_module": "@jupyter-widgets/base",
      "_view_module_version": "1.2.0",
      "_view_name": "StyleView",
      "description_width": ""
     }
    },
    "f937b94a3a474be18565d6a0923ca90c": {
     "model_module": "@jupyter-widgets/base",
     "model_module_version": "1.2.0",
     "model_name": "LayoutModel",
     "state": {
      "_model_module": "@jupyter-widgets/base",
      "_model_module_version": "1.2.0",
      "_model_name": "LayoutModel",
      "_view_count": null,
      "_view_module": "@jupyter-widgets/base",
      "_view_module_version": "1.2.0",
      "_view_name": "LayoutView",
      "align_content": null,
      "align_items": null,
      "align_self": null,
      "border": null,
      "bottom": null,
      "display": null,
      "flex": null,
      "flex_flow": null,
      "grid_area": null,
      "grid_auto_columns": null,
      "grid_auto_flow": null,
      "grid_auto_rows": null,
      "grid_column": null,
      "grid_gap": null,
      "grid_row": null,
      "grid_template_areas": null,
      "grid_template_columns": null,
      "grid_template_rows": null,
      "height": null,
      "justify_content": null,
      "justify_items": null,
      "left": null,
      "margin": null,
      "max_height": null,
      "max_width": null,
      "min_height": null,
      "min_width": null,
      "object_fit": null,
      "object_position": null,
      "order": null,
      "overflow": null,
      "overflow_x": null,
      "overflow_y": null,
      "padding": null,
      "right": null,
      "top": null,
      "visibility": null,
      "width": null
     }
    },
    "fb76cdab2df0413ca8bcacf2d91791ae": {
     "model_module": "@jupyter-widgets/base",
     "model_module_version": "1.2.0",
     "model_name": "LayoutModel",
     "state": {
      "_model_module": "@jupyter-widgets/base",
      "_model_module_version": "1.2.0",
      "_model_name": "LayoutModel",
      "_view_count": null,
      "_view_module": "@jupyter-widgets/base",
      "_view_module_version": "1.2.0",
      "_view_name": "LayoutView",
      "align_content": null,
      "align_items": null,
      "align_self": null,
      "border": null,
      "bottom": null,
      "display": null,
      "flex": null,
      "flex_flow": null,
      "grid_area": null,
      "grid_auto_columns": null,
      "grid_auto_flow": null,
      "grid_auto_rows": null,
      "grid_column": null,
      "grid_gap": null,
      "grid_row": null,
      "grid_template_areas": null,
      "grid_template_columns": null,
      "grid_template_rows": null,
      "height": null,
      "justify_content": null,
      "justify_items": null,
      "left": null,
      "margin": null,
      "max_height": null,
      "max_width": null,
      "min_height": null,
      "min_width": null,
      "object_fit": null,
      "object_position": null,
      "order": null,
      "overflow": null,
      "overflow_x": null,
      "overflow_y": null,
      "padding": null,
      "right": null,
      "top": null,
      "visibility": null,
      "width": null
     }
    }
   }
  }
 },
 "nbformat": 4,
 "nbformat_minor": 1
}
