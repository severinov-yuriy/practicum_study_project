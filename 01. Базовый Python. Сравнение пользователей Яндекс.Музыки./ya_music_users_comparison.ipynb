{
 "cells": [
  {
   "cell_type": "markdown",
   "metadata": {
    "toc": true
   },
   "source": [
    "<h1>Содержание проекта<span class=\"tocSkip\"></span></h1>\n",
    "<div class=\"toc\"><ul class=\"toc-item\"><li><ul class=\"toc-item\"><li><span><a href=\"#Подготовка-окружения\" data-toc-modified-id=\"Подготовка-окружения-0.1\"><span class=\"toc-item-num\">0.1&nbsp;&nbsp;</span>Подготовка окружения</a></span></li></ul></li><li><span><a href=\"#Обзор-данных\" data-toc-modified-id=\"Обзор-данных-1\"><span class=\"toc-item-num\">1&nbsp;&nbsp;</span>Обзор данных</a></span></li><li><span><a href=\"#Предобработка-данных\" data-toc-modified-id=\"Предобработка-данных-2\"><span class=\"toc-item-num\">2&nbsp;&nbsp;</span>Предобработка данных</a></span><ul class=\"toc-item\"><li><span><a href=\"#Стиль-заголовков\" data-toc-modified-id=\"Стиль-заголовков-2.1\"><span class=\"toc-item-num\">2.1&nbsp;&nbsp;</span>Стиль заголовков</a></span></li><li><span><a href=\"#Пропуски-значений\" data-toc-modified-id=\"Пропуски-значений-2.2\"><span class=\"toc-item-num\">2.2&nbsp;&nbsp;</span>Пропуски значений</a></span></li><li><span><a href=\"#Дубликаты\" data-toc-modified-id=\"Дубликаты-2.3\"><span class=\"toc-item-num\">2.3&nbsp;&nbsp;</span>Дубликаты</a></span></li></ul></li><li><span><a href=\"#Проверка-гипотез\" data-toc-modified-id=\"Проверка-гипотез-3\"><span class=\"toc-item-num\">3&nbsp;&nbsp;</span>Проверка гипотез</a></span><ul class=\"toc-item\"><li><span><a href=\"#Сравнение-поведения-пользователей-двух-столиц\" data-toc-modified-id=\"Сравнение-поведения-пользователей-двух-столиц-3.1\"><span class=\"toc-item-num\">3.1&nbsp;&nbsp;</span>Сравнение поведения пользователей двух столиц</a></span></li><li><span><a href=\"#Музыка-в-начале-и-в-конце-недели\" data-toc-modified-id=\"Музыка-в-начале-и-в-конце-недели-3.2\"><span class=\"toc-item-num\">3.2&nbsp;&nbsp;</span>Музыка в начале и в конце недели</a></span></li><li><span><a href=\"#Жанровые-предпочтения-в-Москве-и-Петербурге\" data-toc-modified-id=\"Жанровые-предпочтения-в-Москве-и-Петербурге-3.3\"><span class=\"toc-item-num\">3.3&nbsp;&nbsp;</span>Жанровые предпочтения в Москве и Петербурге</a></span></li></ul></li><li><span><a href=\"#Итоги-исследования\" data-toc-modified-id=\"Итоги-исследования-4\"><span class=\"toc-item-num\">4&nbsp;&nbsp;</span>Итоги исследования</a></span></li></ul></div>"
   ]
  },
  {
   "cell_type": "markdown",
   "metadata": {
    "id": "E0vqbgi9ay0H"
   },
   "source": [
    "# Исследование различий пользователей Яндекс.Музыки"
   ]
  },
  {
   "cell_type": "markdown",
   "metadata": {},
   "source": [
    "Санкт-Петербург и Москва воспринимаются совершенно по-разному и имеют диаметрально противоположное отражение в культуре и общественном сознании.\n",
    "\n",
    "- Москву воспринимают как город, куда едут в основном ради карьеры и заработка, соответствующим ритмом жизни;\n",
    "- Санкт-Петербург окружен ореолом высокой культуры, студенчества и развлечений;\n",
    "\n",
    "Соответственно жителей этих городов и их ритм жизни принято представлять по-разному, что может накладывать отпечаток на их предпочтения в жанрах музыки, времени активности и прочем.\n",
    "\n",
    "В рамках данного проекта необходимо **исследовать реальные различия между пользователями** сервиса Яндекс.Музыка в Санкт-Петербурге и Москве.\n",
    "\n",
    "<br>\n",
    "\n",
    "**Цель исследования** - проверить гипотезы о:\n",
    "\n",
    "\n",
    "1) Различиях в активности пользователей в зависимости от дня недели.\n",
    "\n",
    "2) Различиях в жанровых предпочтениях в зависимости от времени суток и дня недели.\n",
    "\n",
    "3) Различиях в жанровых предпочтениях в целом. Гипотеза состоит в том, что в Москве чаще слушают поп-музыку, а в Петербурге рэп.\n",
    "\n",
    "<br>\n",
    "\n",
    "**В рамках исследования** пройдены три этапа:\n",
    "\n",
    "1) Обзор данных - исследование первичной информации о датасете и поиск аномалий и пропусков.\n",
    "\n",
    "2) Предобработка данных - заполнение пропусков, удаление дубликатов.\n",
    "\n",
    "3) Проверка гипотез - сравнение пользователей и исследование различий между группами пользователей.\n",
    "\n",
    "4) Формулировка выводов по исследованию.\n",
    "\n",
    "<br>\n",
    "\n",
    "Полученные данные состоят из ~65 тыс наблюдений со следующими переменными:\n",
    "\n",
    "- `userID` — идентификатор пользователя;\n",
    "- `Track` — название трека;\n",
    "- `artist` — имя исполнителя;\n",
    "- `genre` — название жанра;\n",
    "- `City` — город пользователя;\n",
    "- `time` — время начала прослушивания;\n",
    "- `Day` — день недели."
   ]
  },
  {
   "cell_type": "markdown",
   "metadata": {},
   "source": [
    "### Подготовка окружения"
   ]
  },
  {
   "cell_type": "markdown",
   "metadata": {},
   "source": [
    "Для исследования потребуется только библиотека pandas и файл с данными.\n",
    "\n",
    "Загрузим библиотеку."
   ]
  },
  {
   "cell_type": "code",
   "execution_count": 1,
   "metadata": {
    "id": "AXN7PHPN_Zcs"
   },
   "outputs": [],
   "source": [
    "import pandas as pd"
   ]
  },
  {
   "cell_type": "markdown",
   "metadata": {},
   "source": [
    "И файл с данными."
   ]
  },
  {
   "cell_type": "code",
   "execution_count": null,
   "metadata": {
    "id": "fFVu7vqh_Zct"
   },
   "outputs": [],
   "source": [
    "try:\n",
    "    df = pd.read_csv('/datasets/yandex_music_project.csv')\n",
    "except FileNotFoundError:\n",
    "    df = pd.read_csv('-') # Прямая ссылка на датасет удалена в связи с правилами публикации проектов"
   ]
  },
  {
   "cell_type": "markdown",
   "metadata": {
    "id": "Ml1hmfXC_Zcs"
   },
   "source": [
    "## Обзор данных\n",
    "\n",
    "Составим первое представление о полученных данных. Посмотрим на первые пять и последние пять строк таблицы."
   ]
  },
  {
   "cell_type": "code",
   "execution_count": 3,
   "metadata": {
    "id": "oWTVX3gW_Zct"
   },
   "outputs": [
    {
     "data": {
      "text/html": [
       "<div>\n",
       "<style scoped>\n",
       "    .dataframe tbody tr th:only-of-type {\n",
       "        vertical-align: middle;\n",
       "    }\n",
       "\n",
       "    .dataframe tbody tr th {\n",
       "        vertical-align: top;\n",
       "    }\n",
       "\n",
       "    .dataframe thead th {\n",
       "        text-align: right;\n",
       "    }\n",
       "</style>\n",
       "<table border=\"1\" class=\"dataframe\">\n",
       "  <thead>\n",
       "    <tr style=\"text-align: right;\">\n",
       "      <th></th>\n",
       "      <th>userID</th>\n",
       "      <th>Track</th>\n",
       "      <th>artist</th>\n",
       "      <th>genre</th>\n",
       "      <th>City</th>\n",
       "      <th>time</th>\n",
       "      <th>Day</th>\n",
       "    </tr>\n",
       "  </thead>\n",
       "  <tbody>\n",
       "    <tr>\n",
       "      <th>0</th>\n",
       "      <td>FFB692EC</td>\n",
       "      <td>Kamigata To Boots</td>\n",
       "      <td>The Mass Missile</td>\n",
       "      <td>rock</td>\n",
       "      <td>Saint-Petersburg</td>\n",
       "      <td>20:28:33</td>\n",
       "      <td>Wednesday</td>\n",
       "    </tr>\n",
       "    <tr>\n",
       "      <th>1</th>\n",
       "      <td>55204538</td>\n",
       "      <td>Delayed Because of Accident</td>\n",
       "      <td>Andreas Rönnberg</td>\n",
       "      <td>rock</td>\n",
       "      <td>Moscow</td>\n",
       "      <td>14:07:09</td>\n",
       "      <td>Friday</td>\n",
       "    </tr>\n",
       "    <tr>\n",
       "      <th>2</th>\n",
       "      <td>20EC38</td>\n",
       "      <td>Funiculì funiculà</td>\n",
       "      <td>Mario Lanza</td>\n",
       "      <td>pop</td>\n",
       "      <td>Saint-Petersburg</td>\n",
       "      <td>20:58:07</td>\n",
       "      <td>Wednesday</td>\n",
       "    </tr>\n",
       "    <tr>\n",
       "      <th>3</th>\n",
       "      <td>A3DD03C9</td>\n",
       "      <td>Dragons in the Sunset</td>\n",
       "      <td>Fire + Ice</td>\n",
       "      <td>folk</td>\n",
       "      <td>Saint-Petersburg</td>\n",
       "      <td>08:37:09</td>\n",
       "      <td>Monday</td>\n",
       "    </tr>\n",
       "    <tr>\n",
       "      <th>4</th>\n",
       "      <td>E2DC1FAE</td>\n",
       "      <td>Soul People</td>\n",
       "      <td>Space Echo</td>\n",
       "      <td>dance</td>\n",
       "      <td>Moscow</td>\n",
       "      <td>08:34:34</td>\n",
       "      <td>Monday</td>\n",
       "    </tr>\n",
       "  </tbody>\n",
       "</table>\n",
       "</div>"
      ],
      "text/plain": [
       "     userID                        Track            artist  genre  \\\n",
       "0  FFB692EC            Kamigata To Boots  The Mass Missile   rock   \n",
       "1  55204538  Delayed Because of Accident  Andreas Rönnberg   rock   \n",
       "2    20EC38            Funiculì funiculà       Mario Lanza    pop   \n",
       "3  A3DD03C9        Dragons in the Sunset        Fire + Ice   folk   \n",
       "4  E2DC1FAE                  Soul People        Space Echo  dance   \n",
       "\n",
       "             City        time        Day  \n",
       "0  Saint-Petersburg  20:28:33  Wednesday  \n",
       "1            Moscow  14:07:09     Friday  \n",
       "2  Saint-Petersburg  20:58:07  Wednesday  \n",
       "3  Saint-Petersburg  08:37:09     Monday  \n",
       "4            Moscow  08:34:34     Monday  "
      ]
     },
     "execution_count": 3,
     "metadata": {},
     "output_type": "execute_result"
    }
   ],
   "source": [
    "df.head(5)"
   ]
  },
  {
   "cell_type": "code",
   "execution_count": 4,
   "metadata": {
    "id": "oWTVX3gW_Zct"
   },
   "outputs": [
    {
     "data": {
      "text/html": [
       "<div>\n",
       "<style scoped>\n",
       "    .dataframe tbody tr th:only-of-type {\n",
       "        vertical-align: middle;\n",
       "    }\n",
       "\n",
       "    .dataframe tbody tr th {\n",
       "        vertical-align: top;\n",
       "    }\n",
       "\n",
       "    .dataframe thead th {\n",
       "        text-align: right;\n",
       "    }\n",
       "</style>\n",
       "<table border=\"1\" class=\"dataframe\">\n",
       "  <thead>\n",
       "    <tr style=\"text-align: right;\">\n",
       "      <th></th>\n",
       "      <th>userID</th>\n",
       "      <th>Track</th>\n",
       "      <th>artist</th>\n",
       "      <th>genre</th>\n",
       "      <th>City</th>\n",
       "      <th>time</th>\n",
       "      <th>Day</th>\n",
       "    </tr>\n",
       "  </thead>\n",
       "  <tbody>\n",
       "    <tr>\n",
       "      <th>65074</th>\n",
       "      <td>729CBB09</td>\n",
       "      <td>My Name</td>\n",
       "      <td>McLean</td>\n",
       "      <td>rnb</td>\n",
       "      <td>Moscow</td>\n",
       "      <td>13:32:28</td>\n",
       "      <td>Wednesday</td>\n",
       "    </tr>\n",
       "    <tr>\n",
       "      <th>65075</th>\n",
       "      <td>D08D4A55</td>\n",
       "      <td>Maybe One Day (feat. Black Spade)</td>\n",
       "      <td>Blu &amp; Exile</td>\n",
       "      <td>hip</td>\n",
       "      <td>Saint-Petersburg</td>\n",
       "      <td>10:00:00</td>\n",
       "      <td>Monday</td>\n",
       "    </tr>\n",
       "    <tr>\n",
       "      <th>65076</th>\n",
       "      <td>C5E3A0D5</td>\n",
       "      <td>Jalopiina</td>\n",
       "      <td>NaN</td>\n",
       "      <td>industrial</td>\n",
       "      <td>Moscow</td>\n",
       "      <td>20:09:26</td>\n",
       "      <td>Friday</td>\n",
       "    </tr>\n",
       "    <tr>\n",
       "      <th>65077</th>\n",
       "      <td>321D0506</td>\n",
       "      <td>Freight Train</td>\n",
       "      <td>Chas McDevitt</td>\n",
       "      <td>rock</td>\n",
       "      <td>Moscow</td>\n",
       "      <td>21:43:59</td>\n",
       "      <td>Friday</td>\n",
       "    </tr>\n",
       "    <tr>\n",
       "      <th>65078</th>\n",
       "      <td>3A64EF84</td>\n",
       "      <td>Tell Me Sweet Little Lies</td>\n",
       "      <td>Monica Lopez</td>\n",
       "      <td>country</td>\n",
       "      <td>Moscow</td>\n",
       "      <td>21:59:46</td>\n",
       "      <td>Friday</td>\n",
       "    </tr>\n",
       "  </tbody>\n",
       "</table>\n",
       "</div>"
      ],
      "text/plain": [
       "         userID                              Track         artist       genre  \\\n",
       "65074  729CBB09                            My Name         McLean         rnb   \n",
       "65075  D08D4A55  Maybe One Day (feat. Black Spade)    Blu & Exile         hip   \n",
       "65076  C5E3A0D5                          Jalopiina            NaN  industrial   \n",
       "65077  321D0506                      Freight Train  Chas McDevitt        rock   \n",
       "65078  3A64EF84          Tell Me Sweet Little Lies   Monica Lopez     country   \n",
       "\n",
       "                 City        time        Day  \n",
       "65074            Moscow  13:32:28  Wednesday  \n",
       "65075  Saint-Petersburg  10:00:00     Monday  \n",
       "65076            Moscow  20:09:26     Friday  \n",
       "65077            Moscow  21:43:59     Friday  \n",
       "65078            Moscow  21:59:46     Friday  "
      ]
     },
     "execution_count": 4,
     "metadata": {},
     "output_type": "execute_result"
    }
   ],
   "source": [
    "df.tail(5)"
   ]
  },
  {
   "cell_type": "markdown",
   "metadata": {
    "id": "EO73Kwic_Zct"
   },
   "source": [
    "Изучим обзорную информацию о данных, их количестве и типах."
   ]
  },
  {
   "cell_type": "code",
   "execution_count": 5,
   "metadata": {
    "id": "DSf2kIb-_Zct"
   },
   "outputs": [
    {
     "name": "stdout",
     "output_type": "stream",
     "text": [
      "<class 'pandas.core.frame.DataFrame'>\n",
      "RangeIndex: 65079 entries, 0 to 65078\n",
      "Data columns (total 7 columns):\n",
      " #   Column    Non-Null Count  Dtype \n",
      "---  ------    --------------  ----- \n",
      " 0     userID  65079 non-null  object\n",
      " 1   Track     63848 non-null  object\n",
      " 2   artist    57876 non-null  object\n",
      " 3   genre     63881 non-null  object\n",
      " 4     City    65079 non-null  object\n",
      " 5   time      65079 non-null  object\n",
      " 6   Day       65079 non-null  object\n",
      "dtypes: object(7)\n",
      "memory usage: 3.5+ MB\n"
     ]
    }
   ],
   "source": [
    "df.info()"
   ]
  },
  {
   "cell_type": "markdown",
   "metadata": {
    "id": "TaQ2Iwbr_Zct"
   },
   "source": [
    "Итак, в таблице семь столбцов. Тип данных во всех столбцах — `object`.\n",
    "\n",
    "Согласно документации к данным:\n",
    "* `userID` — идентификатор пользователя;\n",
    "* `Track` — название трека;  \n",
    "* `artist` — имя исполнителя;\n",
    "* `genre` — название жанра;\n",
    "* `City` — город пользователя;\n",
    "* `time` — время начала прослушивания;\n",
    "* `Day` — день недели.\n",
    "\n",
    "В названиях колонок видны три нарушения стиля:\n",
    "1. Строчные буквы сочетаются с прописными.\n",
    "2. Встречаются пробелы.\n",
    "3. Не везде соблюден стиль названий snake_case.\n",
    "\n",
    "\n",
    "Количество значений в столбцах различается. Значит, в данных есть пропущенные значения.\n"
   ]
  },
  {
   "cell_type": "markdown",
   "metadata": {
    "id": "MCB6-dXG_Zct"
   },
   "source": [
    "**Выводы**\n",
    "\n",
    "В каждой строке таблицы — данные о прослушанном треке. Часть колонок описывает саму композицию: название, исполнителя и жанр. Остальные данные рассказывают о пользователе: из какого он города, когда он слушал музыку. \n",
    "\n",
    "Предварительно можно утверждать, что, данных достаточно для проверки гипотез. Но в данных встречаются пропуски, а в названиях колонок — расхождения с общепринятым стилем.\n",
    "\n",
    "Устраним найденные недочеты - заполним пропуски и приведем заголовки к общепринятому стилю. Также необходимо исследовать данные на наличие дублирующихся наблюдений, так как они могут исказить результаты последующего анализа."
   ]
  },
  {
   "cell_type": "markdown",
   "metadata": {
    "id": "SjYF6Ub9_Zct"
   },
   "source": [
    "## Предобработка данных"
   ]
  },
  {
   "cell_type": "markdown",
   "metadata": {},
   "source": [
    "Проведем предобработку:\n",
    "\n",
    "- приведем заголовки к общепринятому стилю;\n",
    "- исследуем и заполним пропуски в данных;\n",
    "- исследуем наличие дублирующихся значений;"
   ]
  },
  {
   "cell_type": "markdown",
   "metadata": {
    "id": "dIaKXr29_Zct"
   },
   "source": [
    "### Стиль заголовков"
   ]
  },
  {
   "cell_type": "markdown",
   "metadata": {},
   "source": [
    "Выведем на экран названия столбцов в датасете."
   ]
  },
  {
   "cell_type": "code",
   "execution_count": 6,
   "metadata": {
    "id": "oKOTdF_Q_Zct"
   },
   "outputs": [
    {
     "data": {
      "text/plain": [
       "Index(['  userID', 'Track', 'artist', 'genre', '  City  ', 'time', 'Day'], dtype='object')"
      ]
     },
     "execution_count": 6,
     "metadata": {},
     "output_type": "execute_result"
    }
   ],
   "source": [
    "df.columns"
   ]
  },
  {
   "cell_type": "markdown",
   "metadata": {
    "id": "zj5534cv_Zct"
   },
   "source": [
    "Приведем названия в соответствие с общепринятым стилем названия переменных."
   ]
  },
  {
   "cell_type": "code",
   "execution_count": 7,
   "metadata": {
    "id": "ISlFqs5y_Zct"
   },
   "outputs": [],
   "source": [
    "df = df.rename(columns={'  userID': 'user_id', 'Track': 'track', '  City  ': 'city', 'Day': 'day'})"
   ]
  },
  {
   "cell_type": "markdown",
   "metadata": {
    "id": "1dqbh00J_Zct"
   },
   "source": [
    "Проверим результат переименования."
   ]
  },
  {
   "cell_type": "code",
   "execution_count": 8,
   "metadata": {
    "id": "d4NOAmTW_Zct"
   },
   "outputs": [
    {
     "data": {
      "text/plain": [
       "Index(['user_id', 'track', 'artist', 'genre', 'city', 'time', 'day'], dtype='object')"
      ]
     },
     "execution_count": 8,
     "metadata": {},
     "output_type": "execute_result"
    }
   ],
   "source": [
    "df.columns"
   ]
  },
  {
   "cell_type": "markdown",
   "metadata": {
    "id": "5ISfbcfY_Zct"
   },
   "source": [
    "### Пропуски значений"
   ]
  },
  {
   "cell_type": "markdown",
   "metadata": {},
   "source": [
    "Подсчитаем долю пропущенных значений в столбцах."
   ]
  },
  {
   "cell_type": "code",
   "execution_count": 9,
   "metadata": {
    "id": "RskX29qr_Zct"
   },
   "outputs": [
    {
     "data": {
      "text/plain": [
       "user_id     0.00%\n",
       "track       1.93%\n",
       "artist     12.45%\n",
       "genre       1.88%\n",
       "city        0.00%\n",
       "time        0.00%\n",
       "day         0.00%\n",
       "dtype: object"
      ]
     },
     "execution_count": 9,
     "metadata": {},
     "output_type": "execute_result"
    }
   ],
   "source": [
    "(df.isna().sum() / df.count()).map('{:.2%}'.format)"
   ]
  },
  {
   "cell_type": "markdown",
   "metadata": {
    "id": "qubhgnlO_Zct"
   },
   "source": [
    "Поставленные в рамках проекта гипотезы не требуют данных по столбцам `track` и `artist`, поэтому в рамках проекта их можно заменить на обозначение 'unknown'.\n",
    "\n",
    "В отличии от них, пропуски в жанре трека могут исказить результаты анализа. Однако в данном проекте нет возможности восстановить их, соответсвенно их тоже придется заменить на 'unknown'."
   ]
  },
  {
   "cell_type": "code",
   "execution_count": 10,
   "metadata": {
    "id": "KplB5qWs_Zct"
   },
   "outputs": [],
   "source": [
    "columns_to_replace = ['track', 'artist', 'genre']\n",
    "\n",
    "df[columns_to_replace] = df[columns_to_replace].fillna('unknown')"
   ]
  },
  {
   "cell_type": "markdown",
   "metadata": {
    "id": "Ilsm-MZo_Zct"
   },
   "source": [
    "Убедимся, что в таблице не осталось пропусков."
   ]
  },
  {
   "cell_type": "code",
   "execution_count": 11,
   "metadata": {
    "id": "Tq4nYRX4_Zct"
   },
   "outputs": [
    {
     "data": {
      "text/plain": [
       "user_id    0.00%\n",
       "track      0.00%\n",
       "artist     0.00%\n",
       "genre      0.00%\n",
       "city       0.00%\n",
       "time       0.00%\n",
       "day        0.00%\n",
       "dtype: object"
      ]
     },
     "execution_count": 11,
     "metadata": {},
     "output_type": "execute_result"
    }
   ],
   "source": [
    "(df.isna().sum() / df.count()).map('{:.2%}'.format)"
   ]
  },
  {
   "cell_type": "markdown",
   "metadata": {},
   "source": [
    "В таблице присутствуют все значения, можем переходить к проверке дублирующихся значений."
   ]
  },
  {
   "cell_type": "markdown",
   "metadata": {
    "id": "BWKRtBJ3_Zct"
   },
   "source": [
    "### Дубликаты"
   ]
  },
  {
   "cell_type": "markdown",
   "metadata": {},
   "source": [
    "Посчитаем количество дублирующихся наблюдений."
   ]
  },
  {
   "cell_type": "code",
   "execution_count": 12,
   "metadata": {
    "id": "36eES_S0_Zct"
   },
   "outputs": [
    {
     "data": {
      "text/plain": [
       "3826"
      ]
     },
     "execution_count": 12,
     "metadata": {},
     "output_type": "execute_result"
    }
   ],
   "source": [
    "df.duplicated().sum()"
   ]
  },
  {
   "cell_type": "markdown",
   "metadata": {
    "id": "Ot25h6XR_Zct"
   },
   "source": [
    "Удалим явные дубликаты."
   ]
  },
  {
   "cell_type": "code",
   "execution_count": 13,
   "metadata": {
    "id": "exFHq6tt_Zct"
   },
   "outputs": [],
   "source": [
    "df = df.drop_duplicates().reset_index(drop=True)"
   ]
  },
  {
   "cell_type": "markdown",
   "metadata": {
    "id": "Im2YwBEG_Zct"
   },
   "source": [
    "Проверим, все ли дубликаты были удалены."
   ]
  },
  {
   "cell_type": "code",
   "execution_count": 14,
   "metadata": {
    "id": "-8PuNWQ0_Zct"
   },
   "outputs": [
    {
     "data": {
      "text/plain": [
       "0"
      ]
     },
     "execution_count": 14,
     "metadata": {},
     "output_type": "execute_result"
    }
   ],
   "source": [
    "df.duplicated().sum()"
   ]
  },
  {
   "cell_type": "markdown",
   "metadata": {
    "id": "QlFBsxAr_Zct"
   },
   "source": [
    "Так как для нас в исследовании наиболее важна переменная `genre`, необходимо изучить ее отдельно, на наличие неявных дубликатов, таких как разные записи одного и того же жанра.\n",
    "\n",
    "Выведем список уникальных названий жанров."
   ]
  },
  {
   "cell_type": "code",
   "execution_count": 15,
   "metadata": {
    "id": "JIUcqzZN_Zct"
   },
   "outputs": [
    {
     "data": {
      "text/plain": [
       "array(['acid', 'acoustic', 'action', 'adult', 'africa', 'afrikaans',\n",
       "       'alternative', 'alternativepunk', 'ambient', 'americana',\n",
       "       'animated', 'anime', 'arabesk', 'arabic', 'arena',\n",
       "       'argentinetango', 'art', 'audiobook', 'author', 'avantgarde',\n",
       "       'axé', 'baile', 'balkan', 'beats', 'bigroom', 'black', 'bluegrass',\n",
       "       'blues', 'bollywood', 'bossa', 'brazilian', 'breakbeat', 'breaks',\n",
       "       'broadway', 'cantautori', 'cantopop', 'canzone', 'caribbean',\n",
       "       'caucasian', 'celtic', 'chamber', 'chanson', 'children', 'chill',\n",
       "       'chinese', 'choral', 'christian', 'christmas', 'classical',\n",
       "       'classicmetal', 'club', 'colombian', 'comedy', 'conjazz',\n",
       "       'contemporary', 'country', 'cuban', 'dance', 'dancehall',\n",
       "       'dancepop', 'dark', 'death', 'deep', 'deutschrock', 'deutschspr',\n",
       "       'dirty', 'disco', 'dnb', 'documentary', 'downbeat', 'downtempo',\n",
       "       'drum', 'dub', 'dubstep', 'eastern', 'easy', 'electronic',\n",
       "       'electropop', 'emo', 'entehno', 'epicmetal', 'estrada', 'ethnic',\n",
       "       'eurofolk', 'european', 'experimental', 'extrememetal', 'fado',\n",
       "       'fairytail', 'film', 'fitness', 'flamenco', 'folk', 'folklore',\n",
       "       'folkmetal', 'folkrock', 'folktronica', 'forró', 'frankreich',\n",
       "       'französisch', 'french', 'funk', 'future', 'gangsta', 'garage',\n",
       "       'german', 'ghazal', 'gitarre', 'glitch', 'gospel', 'gothic',\n",
       "       'grime', 'grunge', 'gypsy', 'handsup', \"hard'n'heavy\", 'hardcore',\n",
       "       'hardstyle', 'hardtechno', 'hip', 'hip-hop', 'hiphop',\n",
       "       'historisch', 'holiday', 'hop', 'horror', 'house', 'hymn', 'idm',\n",
       "       'independent', 'indian', 'indie', 'indipop', 'industrial',\n",
       "       'inspirational', 'instrumental', 'international', 'irish', 'jam',\n",
       "       'japanese', 'jazz', 'jewish', 'jpop', 'jungle', 'k-pop',\n",
       "       'karadeniz', 'karaoke', 'kayokyoku', 'korean', 'laiko', 'latin',\n",
       "       'latino', 'leftfield', 'local', 'lounge', 'loungeelectronic',\n",
       "       'lovers', 'malaysian', 'mandopop', 'marschmusik', 'meditative',\n",
       "       'mediterranean', 'melodic', 'metal', 'metalcore', 'mexican',\n",
       "       'middle', 'minimal', 'miscellaneous', 'modern', 'mood', 'mpb',\n",
       "       'muslim', 'native', 'neoklassik', 'neue', 'new', 'newage',\n",
       "       'newwave', 'nu', 'nujazz', 'numetal', 'oceania', 'old', 'opera',\n",
       "       'orchestral', 'other', 'piano', 'podcasts', 'pop', 'popdance',\n",
       "       'popelectronic', 'popeurodance', 'poprussian', 'post',\n",
       "       'posthardcore', 'postrock', 'power', 'progmetal', 'progressive',\n",
       "       'psychedelic', 'punjabi', 'punk', 'quebecois', 'ragga', 'ram',\n",
       "       'rancheras', 'rap', 'rave', 'reggae', 'reggaeton', 'regional',\n",
       "       'relax', 'religious', 'retro', 'rhythm', 'rnb', 'rnr', 'rock',\n",
       "       'rockabilly', 'rockalternative', 'rockindie', 'rockother',\n",
       "       'romance', 'roots', 'ruspop', 'rusrap', 'rusrock', 'russian',\n",
       "       'salsa', 'samba', 'scenic', 'schlager', 'self', 'sertanejo',\n",
       "       'shanson', 'shoegazing', 'showtunes', 'singer', 'ska', 'skarock',\n",
       "       'slow', 'smooth', 'soft', 'soul', 'soulful', 'sound', 'soundtrack',\n",
       "       'southern', 'specialty', 'speech', 'spiritual', 'sport',\n",
       "       'stonerrock', 'surf', 'swing', 'synthpop', 'synthrock',\n",
       "       'sängerportrait', 'tango', 'tanzorchester', 'taraftar', 'tatar',\n",
       "       'tech', 'techno', 'teen', 'thrash', 'top', 'traditional',\n",
       "       'tradjazz', 'trance', 'tribal', 'trip', 'triphop', 'tropical',\n",
       "       'türk', 'türkçe', 'ukrrock', 'unknown', 'urban', 'uzbek',\n",
       "       'variété', 'vi', 'videogame', 'vocal', 'western', 'world',\n",
       "       'worldbeat', 'ïîï', 'электроника'], dtype=object)"
      ]
     },
     "execution_count": 15,
     "metadata": {},
     "output_type": "execute_result"
    }
   ],
   "source": [
    "df['genre'].sort_values().unique()"
   ]
  },
  {
   "cell_type": "markdown",
   "metadata": {
    "id": "qej-Qmuo_Zct"
   },
   "source": [
    "Напишем функцию, которая будет принимать на вход исходный датафрейм, колонку, в которой необходимо заменить дубликаты и словарь для замены."
   ]
  },
  {
   "cell_type": "code",
   "execution_count": 16,
   "metadata": {
    "id": "ErNDkmns_Zct"
   },
   "outputs": [],
   "source": [
    "def replace_wrong_values(dataframe, column, values_to_correct):\n",
    "    '''\n",
    "    Функция принимает на вход датафрейм для изменения, название колонки, значения которой надо скорректировать\n",
    "    и словарь, где ключом служит строка с корректным наименованием, а значением список дубликатов.\n",
    "    Функция возвращает скорректированный датафрейм.\n",
    "    '''\n",
    "    for key, values in values_to_correct.items():\n",
    "        for value in values:\n",
    "            dataframe[column] = dataframe[column].replace(value, key)\n",
    "    return dataframe"
   ]
  },
  {
   "cell_type": "markdown",
   "metadata": {},
   "source": [
    "Составим словарь, на основе которого будем заменять дубликаты."
   ]
  },
  {
   "cell_type": "code",
   "execution_count": 17,
   "metadata": {},
   "outputs": [],
   "source": [
    "wrong_genre_values = {'electronic': ['электроника'], \n",
    "                      'hip-hop': ['hip', 'hop', 'hiphop'],\n",
    "                      'independent': ['indie'],\n",
    "                      'latin': ['latino'],\n",
    "                      'poprussian': ['ruspop'],\n",
    "                      'türk': ['türkçe']}"
   ]
  },
  {
   "cell_type": "markdown",
   "metadata": {
    "id": "aDoBJxbA_Zct"
   },
   "source": [
    "Применим функцию к столбцу `genre`."
   ]
  },
  {
   "cell_type": "code",
   "execution_count": 18,
   "metadata": {
    "id": "YN5i2hpmSo09"
   },
   "outputs": [],
   "source": [
    "df = replace_wrong_values(df, 'genre', wrong_genre_values)"
   ]
  },
  {
   "cell_type": "markdown",
   "metadata": {
    "id": "zQKF16_RG15m"
   },
   "source": [
    "Проверим, верно ли были заменены все дублирующиеся значения."
   ]
  },
  {
   "cell_type": "code",
   "execution_count": 19,
   "metadata": {
    "id": "wvixALnFG15m"
   },
   "outputs": [
    {
     "data": {
      "text/plain": [
       "array(['acid', 'acoustic', 'action', 'adult', 'africa', 'afrikaans',\n",
       "       'alternative', 'alternativepunk', 'ambient', 'americana',\n",
       "       'animated', 'anime', 'arabesk', 'arabic', 'arena',\n",
       "       'argentinetango', 'art', 'audiobook', 'author', 'avantgarde',\n",
       "       'axé', 'baile', 'balkan', 'beats', 'bigroom', 'black', 'bluegrass',\n",
       "       'blues', 'bollywood', 'bossa', 'brazilian', 'breakbeat', 'breaks',\n",
       "       'broadway', 'cantautori', 'cantopop', 'canzone', 'caribbean',\n",
       "       'caucasian', 'celtic', 'chamber', 'chanson', 'children', 'chill',\n",
       "       'chinese', 'choral', 'christian', 'christmas', 'classical',\n",
       "       'classicmetal', 'club', 'colombian', 'comedy', 'conjazz',\n",
       "       'contemporary', 'country', 'cuban', 'dance', 'dancehall',\n",
       "       'dancepop', 'dark', 'death', 'deep', 'deutschrock', 'deutschspr',\n",
       "       'dirty', 'disco', 'dnb', 'documentary', 'downbeat', 'downtempo',\n",
       "       'drum', 'dub', 'dubstep', 'eastern', 'easy', 'electronic',\n",
       "       'electropop', 'emo', 'entehno', 'epicmetal', 'estrada', 'ethnic',\n",
       "       'eurofolk', 'european', 'experimental', 'extrememetal', 'fado',\n",
       "       'fairytail', 'film', 'fitness', 'flamenco', 'folk', 'folklore',\n",
       "       'folkmetal', 'folkrock', 'folktronica', 'forró', 'frankreich',\n",
       "       'französisch', 'french', 'funk', 'future', 'gangsta', 'garage',\n",
       "       'german', 'ghazal', 'gitarre', 'glitch', 'gospel', 'gothic',\n",
       "       'grime', 'grunge', 'gypsy', 'handsup', \"hard'n'heavy\", 'hardcore',\n",
       "       'hardstyle', 'hardtechno', 'hip-hop', 'historisch', 'holiday',\n",
       "       'horror', 'house', 'hymn', 'idm', 'independent', 'indian',\n",
       "       'indipop', 'industrial', 'inspirational', 'instrumental',\n",
       "       'international', 'irish', 'jam', 'japanese', 'jazz', 'jewish',\n",
       "       'jpop', 'jungle', 'k-pop', 'karadeniz', 'karaoke', 'kayokyoku',\n",
       "       'korean', 'laiko', 'latin', 'leftfield', 'local', 'lounge',\n",
       "       'loungeelectronic', 'lovers', 'malaysian', 'mandopop',\n",
       "       'marschmusik', 'meditative', 'mediterranean', 'melodic', 'metal',\n",
       "       'metalcore', 'mexican', 'middle', 'minimal', 'miscellaneous',\n",
       "       'modern', 'mood', 'mpb', 'muslim', 'native', 'neoklassik', 'neue',\n",
       "       'new', 'newage', 'newwave', 'nu', 'nujazz', 'numetal', 'oceania',\n",
       "       'old', 'opera', 'orchestral', 'other', 'piano', 'podcasts', 'pop',\n",
       "       'popdance', 'popelectronic', 'popeurodance', 'poprussian', 'post',\n",
       "       'posthardcore', 'postrock', 'power', 'progmetal', 'progressive',\n",
       "       'psychedelic', 'punjabi', 'punk', 'quebecois', 'ragga', 'ram',\n",
       "       'rancheras', 'rap', 'rave', 'reggae', 'reggaeton', 'regional',\n",
       "       'relax', 'religious', 'retro', 'rhythm', 'rnb', 'rnr', 'rock',\n",
       "       'rockabilly', 'rockalternative', 'rockindie', 'rockother',\n",
       "       'romance', 'roots', 'rusrap', 'rusrock', 'russian', 'salsa',\n",
       "       'samba', 'scenic', 'schlager', 'self', 'sertanejo', 'shanson',\n",
       "       'shoegazing', 'showtunes', 'singer', 'ska', 'skarock', 'slow',\n",
       "       'smooth', 'soft', 'soul', 'soulful', 'sound', 'soundtrack',\n",
       "       'southern', 'specialty', 'speech', 'spiritual', 'sport',\n",
       "       'stonerrock', 'surf', 'swing', 'synthpop', 'synthrock',\n",
       "       'sängerportrait', 'tango', 'tanzorchester', 'taraftar', 'tatar',\n",
       "       'tech', 'techno', 'teen', 'thrash', 'top', 'traditional',\n",
       "       'tradjazz', 'trance', 'tribal', 'trip', 'triphop', 'tropical',\n",
       "       'türk', 'ukrrock', 'unknown', 'urban', 'uzbek', 'variété', 'vi',\n",
       "       'videogame', 'vocal', 'western', 'world', 'worldbeat', 'ïîï'],\n",
       "      dtype=object)"
      ]
     },
     "execution_count": 19,
     "metadata": {},
     "output_type": "execute_result"
    }
   ],
   "source": [
    "df['genre'].sort_values().unique()"
   ]
  },
  {
   "cell_type": "markdown",
   "metadata": {},
   "source": [
    "После удаления неявных дубликатов целесообразно повторно проверить таблицу на явные дубликаты. Так один и тот же трек мог быть записан идентично, но с указанием жанров по-разному."
   ]
  },
  {
   "cell_type": "code",
   "execution_count": 20,
   "metadata": {},
   "outputs": [
    {
     "data": {
      "text/plain": [
       "0"
      ]
     },
     "execution_count": 20,
     "metadata": {},
     "output_type": "execute_result"
    }
   ],
   "source": [
    "df.duplicated().sum()"
   ]
  },
  {
   "cell_type": "markdown",
   "metadata": {},
   "source": [
    "Явных дубликатов не выявлено, можно двигаться дальше."
   ]
  },
  {
   "cell_type": "markdown",
   "metadata": {
    "id": "jz6a9-7HQUDd"
   },
   "source": [
    "**Выводы**\n",
    "\n",
    "В рамках предобработки были исправлены три проблемы в данных:\n",
    "\n",
    "- нарушения в стиле заголовков,\n",
    "- пропущенные значения,\n",
    "- дубликаты — явные и неявные.\n",
    "\n",
    "Теперь можно перейти к проверке гипотез. "
   ]
  },
  {
   "cell_type": "markdown",
   "metadata": {
    "id": "WttZHXH0SqKk"
   },
   "source": [
    "## Проверка гипотез"
   ]
  },
  {
   "cell_type": "markdown",
   "metadata": {
    "id": "Im936VVi_Zcu"
   },
   "source": [
    "### Сравнение поведения пользователей двух столиц"
   ]
  },
  {
   "cell_type": "markdown",
   "metadata": {
    "id": "nwt_MuaL_Zcu"
   },
   "source": [
    "Первая гипотеза утверждает, что пользователи по-разному слушают музыку в Москве и Санкт-Петербурге. Проверим это предположение по данным о трёх днях недели — понедельнике, среде и пятнице."
   ]
  },
  {
   "cell_type": "markdown",
   "metadata": {
    "id": "8Dw_YMmT_Zcu"
   },
   "source": [
    "Оценим активность пользователей в каждом городе. Сгруппируем данные по городу и посчитаем прослушивания в каждой группе."
   ]
  },
  {
   "cell_type": "code",
   "execution_count": 21,
   "metadata": {
    "id": "0_Qs96oh_Zcu"
   },
   "outputs": [
    {
     "data": {
      "text/plain": [
       "city\n",
       "Moscow              42741\n",
       "Saint-Petersburg    18512\n",
       "Name: user_id, dtype: int64"
      ]
     },
     "execution_count": 21,
     "metadata": {},
     "output_type": "execute_result"
    }
   ],
   "source": [
    "df.groupby('city')['user_id'].count()"
   ]
  },
  {
   "cell_type": "markdown",
   "metadata": {
    "id": "dzli3w8o_Zcu"
   },
   "source": [
    "В Москве прослушиваний больше, чем в Петербурге. Из этого не следует, что московские пользователи чаще слушают музыку. Просто самих пользователей в Москве больше.\n",
    "\n",
    "Сгруппируем данные по дню недели и подсчитаем прослушивания в понедельник, среду и пятницу."
   ]
  },
  {
   "cell_type": "code",
   "execution_count": 22,
   "metadata": {
    "id": "uZMKjiJz_Zcu"
   },
   "outputs": [
    {
     "data": {
      "text/plain": [
       "day\n",
       "Friday       21840\n",
       "Monday       21354\n",
       "Wednesday    18059\n",
       "Name: user_id, dtype: int64"
      ]
     },
     "execution_count": 22,
     "metadata": {},
     "output_type": "execute_result"
    }
   ],
   "source": [
    "df.groupby('day')['user_id'].count()"
   ]
  },
  {
   "cell_type": "markdown",
   "metadata": {
    "id": "cC2tNrlL_Zcu"
   },
   "source": [
    "В среднем пользователи из двух городов менее активны по средам. Но картина может измениться, если рассмотреть каждый город в отдельности."
   ]
  },
  {
   "cell_type": "markdown",
   "metadata": {
    "id": "POzs8bGa_Zcu"
   },
   "source": [
    "Напишем функцию, которая подсчитает прослушивания для конкретного дня в одном из городов."
   ]
  },
  {
   "cell_type": "code",
   "execution_count": 23,
   "metadata": {
    "id": "Nz3GdQB1_Zcu"
   },
   "outputs": [],
   "source": [
    "def number_tracks(dataframe, day, city):\n",
    "    '''\n",
    "    Функция для подсчёта прослушиваний для конкретного города и дня. С помощью последовательной фильтрации \n",
    "    с логической индексацией она сначала получит из исходной таблицы строки с нужным днём, затем из результата\n",
    "    отфильтрует строки с нужным городом, методом count() посчитает количество значений в колонке user_id. \n",
    "    Это количество функция вернёт в качестве результата\n",
    "    '''\n",
    "    track_list = dataframe[dataframe['day'] == day]\n",
    "    track_list = track_list[dataframe['city'] == city]\n",
    "    track_list_count = track_list['user_id'].count()\n",
    "    return track_list_count"
   ]
  },
  {
   "cell_type": "markdown",
   "metadata": {
    "id": "ytf7xFrFJQ2r"
   },
   "source": [
    "Соберем данные о прослушиваниях на каждый день в каждом из городов"
   ]
  },
  {
   "cell_type": "code",
   "execution_count": 24,
   "metadata": {
    "id": "rJcRATNQ_Zcu"
   },
   "outputs": [
    {
     "name": "stderr",
     "output_type": "stream",
     "text": [
      "/var/folders/sp/hv826jgj4q7fh8rn3rwvxtww0000gn/T/ipykernel_29253/1231066657.py:9: UserWarning: Boolean Series key will be reindexed to match DataFrame index.\n",
      "  track_list = track_list[dataframe['city'] == city]\n"
     ]
    }
   ],
   "source": [
    "cities = ['Saint-Petersburg', 'Moscow'] \n",
    "days = ['Monday', 'Wednesday', 'Friday']\n",
    "result = [[], []] \n",
    "\n",
    "for i in range(len(cities)): \n",
    "    result[i].append(cities[i]) \n",
    "    for day in days: \n",
    "        result[i].append(number_tracks(df, day, cities[i]))"
   ]
  },
  {
   "cell_type": "markdown",
   "metadata": {
    "id": "7QXffbO-_Zcu"
   },
   "source": [
    "Выведем полученные данные в виде таблицы."
   ]
  },
  {
   "cell_type": "code",
   "execution_count": 25,
   "metadata": {
    "id": "APAcLpOr_Zcu"
   },
   "outputs": [
    {
     "data": {
      "text/html": [
       "<div>\n",
       "<style scoped>\n",
       "    .dataframe tbody tr th:only-of-type {\n",
       "        vertical-align: middle;\n",
       "    }\n",
       "\n",
       "    .dataframe tbody tr th {\n",
       "        vertical-align: top;\n",
       "    }\n",
       "\n",
       "    .dataframe thead th {\n",
       "        text-align: right;\n",
       "    }\n",
       "</style>\n",
       "<table border=\"1\" class=\"dataframe\">\n",
       "  <thead>\n",
       "    <tr style=\"text-align: right;\">\n",
       "      <th></th>\n",
       "      <th>city</th>\n",
       "      <th>monday</th>\n",
       "      <th>wednesday</th>\n",
       "      <th>friday</th>\n",
       "    </tr>\n",
       "  </thead>\n",
       "  <tbody>\n",
       "    <tr>\n",
       "      <th>0</th>\n",
       "      <td>Saint-Petersburg</td>\n",
       "      <td>5614</td>\n",
       "      <td>7003</td>\n",
       "      <td>5895</td>\n",
       "    </tr>\n",
       "    <tr>\n",
       "      <th>1</th>\n",
       "      <td>Moscow</td>\n",
       "      <td>15740</td>\n",
       "      <td>11056</td>\n",
       "      <td>15945</td>\n",
       "    </tr>\n",
       "  </tbody>\n",
       "</table>\n",
       "</div>"
      ],
      "text/plain": [
       "               city  monday  wednesday  friday\n",
       "0  Saint-Petersburg    5614       7003    5895\n",
       "1            Moscow   15740      11056   15945"
      ]
     },
     "execution_count": 25,
     "metadata": {},
     "output_type": "execute_result"
    }
   ],
   "source": [
    "listen_count_day2city = pd.DataFrame(data=result,\n",
    "                                     columns=['city', 'monday', 'wednesday', 'friday']) # Таблица с результатами\n",
    "\n",
    "listen_count_day2city"
   ]
  },
  {
   "cell_type": "markdown",
   "metadata": {
    "id": "-EgPIHYu_Zcu"
   },
   "source": [
    "**Выводы**\n",
    "\n",
    "Данные показывают разницу поведения пользователей:\n",
    "\n",
    "- В Москве пик прослушиваний приходится на понедельник и пятницу, а в среду заметен спад.\n",
    "- В Петербурге, наоборот, больше слушают музыку по средам. Активность в понедельник и пятницу здесь почти в равной мере уступает среде.\n",
    "\n",
    "Значит, данные говорят в пользу первой гипотезы."
   ]
  },
  {
   "cell_type": "markdown",
   "metadata": {
    "id": "atZAxtq4_Zcu"
   },
   "source": [
    "### Музыка в начале и в конце недели"
   ]
  },
  {
   "cell_type": "markdown",
   "metadata": {
    "id": "eXrQqXFH_Zcu"
   },
   "source": [
    "Согласно второй гипотезе, утром в понедельник в Москве преобладают одни жанры, а в Петербурге — другие. Так же и вечером пятницы преобладают разные жанры — в зависимости от города."
   ]
  },
  {
   "cell_type": "markdown",
   "metadata": {
    "id": "S8UcW6Hw_Zcu"
   },
   "source": [
    "Разделим датасет на два - в зависимости от города пользователя."
   ]
  },
  {
   "cell_type": "code",
   "execution_count": 26,
   "metadata": {
    "id": "qeaFfM_P_Zcu"
   },
   "outputs": [],
   "source": [
    "moscow_general = df[df['city'] == 'Moscow']"
   ]
  },
  {
   "cell_type": "code",
   "execution_count": 27,
   "metadata": {
    "id": "ORaVRKto_Zcu"
   },
   "outputs": [],
   "source": [
    "spb_general = df[df['city'] == 'Saint-Petersburg']"
   ]
  },
  {
   "cell_type": "markdown",
   "metadata": {
    "id": "MEJV-CX2_Zcu"
   },
   "source": [
    "Напишем функцию, возвращающую топ-10 жанров по количеству прослушиваний в зависимости от дня недели."
   ]
  },
  {
   "cell_type": "code",
   "execution_count": 28,
   "metadata": {
    "id": "laJT9BYl_Zcu"
   },
   "outputs": [],
   "source": [
    "def genre_weekday(table, day, time1, time2):\n",
    "    '''\n",
    "    Функция принимает на вход датафрейм, день недели и крайние значения времени.\n",
    "    Возвращает список 10 жанров по количеству прослушиваний в этот день недели в это время\n",
    "    '''\n",
    "    genre_df = table[table['day'] == day]\n",
    "    genre_df = genre_df.query('@time1 < time < @time2')\n",
    "    genre_df_count = genre_df.groupby('genre')['user_id'].count()\n",
    "    genre_df_sorted = genre_df_count.sort_values(ascending=False)\n",
    "    return genre_df_sorted[:10]"
   ]
  },
  {
   "cell_type": "markdown",
   "metadata": {
    "id": "la2s2_PF_Zcu"
   },
   "source": [
    "Cравним прослушивания по жанрам для Москвы и Санкт-Петербурга в понедельник утром (с 7:00 до 11:00) и в пятницу вечером (с 17:00 до 23:00):"
   ]
  },
  {
   "cell_type": "code",
   "execution_count": 29,
   "metadata": {
    "id": "yz7itPUQ_Zcu"
   },
   "outputs": [
    {
     "data": {
      "text/plain": [
       "genre\n",
       "pop            781\n",
       "dance          549\n",
       "electronic     480\n",
       "rock           474\n",
       "hip-hop        286\n",
       "poprussian     186\n",
       "world          181\n",
       "rusrap         175\n",
       "alternative    164\n",
       "unknown        161\n",
       "Name: user_id, dtype: int64"
      ]
     },
     "execution_count": 29,
     "metadata": {},
     "output_type": "execute_result"
    }
   ],
   "source": [
    "genre_weekday(moscow_general, 'Monday', '07:00:00', '11:00:00')"
   ]
  },
  {
   "cell_type": "code",
   "execution_count": 30,
   "metadata": {
    "id": "kwUcHPdy_Zcu"
   },
   "outputs": [
    {
     "data": {
      "text/plain": [
       "genre\n",
       "pop            218\n",
       "dance          182\n",
       "rock           162\n",
       "electronic     147\n",
       "hip-hop         80\n",
       "poprussian      64\n",
       "alternative     58\n",
       "rusrap          55\n",
       "jazz            44\n",
       "classical       40\n",
       "Name: user_id, dtype: int64"
      ]
     },
     "execution_count": 30,
     "metadata": {},
     "output_type": "execute_result"
    }
   ],
   "source": [
    "genre_weekday(spb_general, 'Monday', '07:00:00', '11:00:00')"
   ]
  },
  {
   "cell_type": "code",
   "execution_count": 31,
   "metadata": {
    "id": "EzXVRE1o_Zcu"
   },
   "outputs": [
    {
     "data": {
      "text/plain": [
       "genre\n",
       "pop            713\n",
       "rock           517\n",
       "dance          495\n",
       "electronic     482\n",
       "hip-hop        273\n",
       "world          208\n",
       "poprussian     170\n",
       "alternative    163\n",
       "classical      163\n",
       "rusrap         142\n",
       "Name: user_id, dtype: int64"
      ]
     },
     "execution_count": 31,
     "metadata": {},
     "output_type": "execute_result"
    }
   ],
   "source": [
    "genre_weekday(moscow_general, 'Friday', '17:00:00', '23:00:00')"
   ]
  },
  {
   "cell_type": "code",
   "execution_count": 32,
   "metadata": {
    "id": "JZaEKu5v_Zcu"
   },
   "outputs": [
    {
     "data": {
      "text/plain": [
       "genre\n",
       "pop            256\n",
       "electronic     216\n",
       "rock           216\n",
       "dance          210\n",
       "hip-hop         97\n",
       "alternative     63\n",
       "jazz            61\n",
       "classical       60\n",
       "rusrap          59\n",
       "world           54\n",
       "Name: user_id, dtype: int64"
      ]
     },
     "execution_count": 32,
     "metadata": {},
     "output_type": "execute_result"
    }
   ],
   "source": [
    "genre_weekday(spb_general, 'Friday', '17:00:00', '23:00:00')"
   ]
  },
  {
   "cell_type": "markdown",
   "metadata": {
    "id": "wrCe4MNX_Zcu"
   },
   "source": [
    "**Выводы**\n",
    "\n",
    "Если сравнить топ-10 жанров в понедельник утром, можно сделать такие выводы:\n",
    "\n",
    "1. В Москве и Петербурге слушают похожую музыку. Единственное отличие — в московский рейтинг вошёл жанр “world”, а в петербургский — джаз и классика.\n",
    "\n",
    "2. В Москве пропущенных значений оказалось так много, что значение `'unknown'` заняло десятое место среди самых популярных жанров. Значит, пропущенные значения занимают существенную долю в данных и угрожают достоверности исследования.\n",
    "\n",
    "Вечер пятницы не меняет эту картину. Некоторые жанры поднимаются немного выше, другие спускаются, но в целом топ-10 остаётся тем же самым.\n",
    "\n",
    "Таким образом, вторая гипотеза подтвердилась лишь частично:\n",
    "* Пользователи слушают похожую музыку в начале недели и в конце.\n",
    "* Разница между Москвой и Петербургом не слишком выражена. В Москве чаще слушают русскую популярную музыку, в Петербурге — джаз."
   ]
  },
  {
   "cell_type": "markdown",
   "metadata": {
    "id": "JolODAqr_Zcu"
   },
   "source": [
    "### Жанровые предпочтения в Москве и Петербурге\n",
    "\n",
    "Гипотеза: Петербург — столица рэпа, музыку этого жанра там слушают чаще, чем в Москве.  А Москва — город контрастов, в котором, тем не менее, преобладает поп-музыка."
   ]
  },
  {
   "cell_type": "markdown",
   "metadata": {
    "id": "DlegSvaT_Zcu"
   },
   "source": [
    "Сгруппируем таблицу `moscow_general` по жанру и посчитаем прослушивания треков каждого жанра методом `count()`. Затем отсортируем результат в порядке убывания и сохраним его в таблице `moscow_genres`."
   ]
  },
  {
   "cell_type": "code",
   "execution_count": 33,
   "metadata": {
    "id": "r19lIPke_Zcu"
   },
   "outputs": [],
   "source": [
    "moscow_genres = moscow_general.groupby('genre')\n",
    "moscow_genres = moscow_genres['genre'].count()\n",
    "moscow_genres = moscow_genres.sort_values(ascending=False)"
   ]
  },
  {
   "cell_type": "markdown",
   "metadata": {
    "id": "6kMuomxTiIr8"
   },
   "source": [
    "Выведем на экран первые десять строк `moscow_genres`:"
   ]
  },
  {
   "cell_type": "code",
   "execution_count": 34,
   "metadata": {
    "id": "WhCSooF8_Zcv"
   },
   "outputs": [
    {
     "data": {
      "text/plain": [
       "genre\n",
       "pop            5892\n",
       "dance          4435\n",
       "rock           3965\n",
       "electronic     3786\n",
       "hip-hop        2096\n",
       "classical      1616\n",
       "world          1432\n",
       "alternative    1379\n",
       "poprussian     1372\n",
       "rusrap         1161\n",
       "Name: genre, dtype: int64"
      ]
     },
     "execution_count": 34,
     "metadata": {},
     "output_type": "execute_result"
    }
   ],
   "source": [
    "moscow_genres.head(10)"
   ]
  },
  {
   "cell_type": "markdown",
   "metadata": {
    "id": "cnPG2vnN_Zcv"
   },
   "source": [
    "Теперь повторим то же и для Петербурга.\n",
    "\n",
    "Сгруппируем таблицу `spb_general` по жанру. Посчитаем прослушивания треков каждого жанра. Результат отсортируем в порядке убывания и сохраним в таблице `spb_genres`:\n"
   ]
  },
  {
   "cell_type": "code",
   "execution_count": 35,
   "metadata": {
    "id": "gluLIpE7_Zcv"
   },
   "outputs": [],
   "source": [
    "spb_genres = spb_general.groupby('genre')\n",
    "spb_genres = spb_genres['genre'].count()\n",
    "spb_genres = spb_genres.sort_values(ascending=False)"
   ]
  },
  {
   "cell_type": "markdown",
   "metadata": {
    "id": "5Doha_ODgyQ8"
   },
   "source": [
    "Выведем на экран первые десять строк `spb_genres`:"
   ]
  },
  {
   "cell_type": "code",
   "execution_count": 36,
   "metadata": {
    "id": "uaGJHjVU_Zcv"
   },
   "outputs": [
    {
     "data": {
      "text/plain": [
       "genre\n",
       "pop            2431\n",
       "dance          1932\n",
       "rock           1879\n",
       "electronic     1737\n",
       "hip-hop         960\n",
       "alternative     649\n",
       "classical       646\n",
       "rusrap          564\n",
       "poprussian      539\n",
       "world           515\n",
       "Name: genre, dtype: int64"
      ]
     },
     "execution_count": 36,
     "metadata": {},
     "output_type": "execute_result"
    }
   ],
   "source": [
    "spb_genres.head(10)"
   ]
  },
  {
   "cell_type": "markdown",
   "metadata": {
    "id": "RY51YJYu_Zcv"
   },
   "source": [
    "**Выводы**"
   ]
  },
  {
   "cell_type": "markdown",
   "metadata": {
    "id": "nVhnJEm__Zcv"
   },
   "source": [
    "Гипотеза частично подтвердилась:\n",
    "* Поп-музыка — самый популярный жанр в Москве, как и предполагала гипотеза. Более того, в топ-10 жанров встречается близкий жанр — русская популярная музыка.\n",
    "* Вопреки ожиданиям, рэп одинаково популярен в Москве и Петербурге. \n"
   ]
  },
  {
   "cell_type": "markdown",
   "metadata": {
    "id": "ykKQ0N65_Zcv"
   },
   "source": [
    "## Итоги исследования"
   ]
  },
  {
   "cell_type": "markdown",
   "metadata": {
    "id": "tjUwbHb3_Zcv"
   },
   "source": [
    "Были проверены три гипотезы и установлено:\n",
    "\n",
    "1. День недели по-разному влияет на активность пользователей в Москве и Петербурге. \n",
    "\n",
    "Первая гипотеза полностью подтвердилась.\n",
    "\n",
    "2. Музыкальные предпочтения не сильно меняются в течение недели — будь то Москва или Петербург. Небольшие различия заметны в начале недели, по понедельникам:\n",
    "* в Москве слушают музыку жанра “world”,\n",
    "* в Петербурге — джаз и классику.\n",
    "\n",
    "Таким образом, вторая гипотеза подтвердилась лишь отчасти. Этот результат мог оказаться иным, если бы не пропуски в данных.\n",
    "\n",
    "3. Во вкусах пользователей Москвы и Петербурга больше общего чем различий. Вопреки ожиданиям, предпочтения жанров в Петербурге напоминают московские.\n",
    "\n",
    "Третья гипотеза не подтвердилась. Если различия в предпочтениях и существуют, на основной массе пользователей они незаметны."
   ]
  }
 ],
 "metadata": {
  "ExecuteTimeLog": [
   {
    "duration": 3,
    "start_time": "2021-11-25T10:37:39.029Z"
   },
   {
    "duration": 137,
    "start_time": "2021-11-25T10:37:39.590Z"
   },
   {
    "duration": 10,
    "start_time": "2021-11-25T10:37:40.076Z"
   },
   {
    "duration": 23,
    "start_time": "2021-11-25T10:37:41.014Z"
   },
   {
    "duration": 3,
    "start_time": "2021-11-25T10:43:38.651Z"
   },
   {
    "duration": 23,
    "start_time": "2021-11-25T10:45:27.822Z"
   },
   {
    "duration": 4,
    "start_time": "2021-11-25T10:45:38.477Z"
   },
   {
    "duration": 25,
    "start_time": "2021-11-25T10:49:40.630Z"
   },
   {
    "duration": 22,
    "start_time": "2021-11-25T10:49:50.512Z"
   },
   {
    "duration": 27,
    "start_time": "2021-11-25T10:52:55.675Z"
   },
   {
    "duration": 24,
    "start_time": "2021-11-25T10:52:56.460Z"
   },
   {
    "duration": 23,
    "start_time": "2021-11-25T10:53:12.283Z"
   },
   {
    "duration": 21,
    "start_time": "2021-11-25T10:53:14.021Z"
   },
   {
    "duration": 45,
    "start_time": "2021-11-25T10:53:22.221Z"
   },
   {
    "duration": 37,
    "start_time": "2021-11-25T10:53:49.356Z"
   },
   {
    "duration": 30,
    "start_time": "2021-11-25T10:55:06.133Z"
   },
   {
    "duration": 113,
    "start_time": "2021-11-25T10:55:55.121Z"
   },
   {
    "duration": 32,
    "start_time": "2021-11-25T10:56:30.611Z"
   },
   {
    "duration": 30,
    "start_time": "2021-11-25T10:56:32.971Z"
   },
   {
    "duration": 134,
    "start_time": "2021-11-25T10:56:50.812Z"
   },
   {
    "duration": 38,
    "start_time": "2021-11-25T10:57:05.681Z"
   },
   {
    "duration": 23,
    "start_time": "2021-11-25T10:57:26.346Z"
   },
   {
    "duration": 27,
    "start_time": "2021-11-25T10:58:03.466Z"
   },
   {
    "duration": 22,
    "start_time": "2021-11-25T10:58:27.724Z"
   },
   {
    "duration": 266,
    "start_time": "2021-11-25T10:58:54.598Z"
   },
   {
    "duration": 55,
    "start_time": "2021-11-25T10:58:59.919Z"
   },
   {
    "duration": 60,
    "start_time": "2021-11-25T10:59:10.376Z"
   },
   {
    "duration": 50,
    "start_time": "2021-11-25T10:59:18.904Z"
   },
   {
    "duration": 61,
    "start_time": "2021-11-25T10:59:22.387Z"
   },
   {
    "duration": 69,
    "start_time": "2021-11-25T11:00:06.245Z"
   },
   {
    "duration": 53,
    "start_time": "2021-11-25T11:00:16.748Z"
   },
   {
    "duration": 173,
    "start_time": "2021-11-25T11:01:43.695Z"
   },
   {
    "duration": 177,
    "start_time": "2021-11-25T11:01:49.948Z"
   },
   {
    "duration": 210,
    "start_time": "2021-11-25T11:01:56.459Z"
   },
   {
    "duration": 9,
    "start_time": "2021-11-25T11:02:24.134Z"
   },
   {
    "duration": 7,
    "start_time": "2021-11-25T11:02:37.741Z"
   },
   {
    "duration": 4,
    "start_time": "2021-11-25T11:16:49.493Z"
   },
   {
    "duration": 5,
    "start_time": "2021-11-25T11:30:17.211Z"
   },
   {
    "duration": 4,
    "start_time": "2021-11-25T11:30:18.378Z"
   },
   {
    "duration": 39,
    "start_time": "2021-11-25T11:30:20.501Z"
   },
   {
    "duration": 7,
    "start_time": "2021-11-25T11:30:54.428Z"
   },
   {
    "duration": 48,
    "start_time": "2021-11-25T11:32:57.628Z"
   },
   {
    "duration": 60,
    "start_time": "2021-11-25T11:33:01.268Z"
   },
   {
    "duration": 49,
    "start_time": "2021-11-25T11:33:03.182Z"
   },
   {
    "duration": 28,
    "start_time": "2021-11-25T11:33:13.625Z"
   },
   {
    "duration": 48,
    "start_time": "2021-11-25T11:35:44.374Z"
   },
   {
    "duration": 19,
    "start_time": "2021-11-25T11:38:41.207Z"
   },
   {
    "duration": 6,
    "start_time": "2021-11-25T11:38:46.415Z"
   },
   {
    "duration": 49,
    "start_time": "2021-11-25T11:39:09.654Z"
   },
   {
    "duration": 34,
    "start_time": "2021-11-25T11:40:24.865Z"
   },
   {
    "duration": 12,
    "start_time": "2021-11-25T11:40:36.912Z"
   },
   {
    "duration": 58,
    "start_time": "2021-11-25T11:40:43.750Z"
   },
   {
    "duration": 10,
    "start_time": "2021-11-25T11:40:54.825Z"
   },
   {
    "duration": 29,
    "start_time": "2021-11-25T11:41:18.528Z"
   },
   {
    "duration": 30,
    "start_time": "2021-11-25T11:41:28.941Z"
   },
   {
    "duration": 11,
    "start_time": "2021-11-25T11:41:34.664Z"
   },
   {
    "duration": 10,
    "start_time": "2021-11-25T11:42:09.762Z"
   },
   {
    "duration": 172,
    "start_time": "2021-11-25T11:57:19.755Z"
   },
   {
    "duration": 3,
    "start_time": "2021-11-25T11:57:25.785Z"
   },
   {
    "duration": 214,
    "start_time": "2021-11-25T11:57:26.879Z"
   },
   {
    "duration": 380,
    "start_time": "2021-11-25T11:57:32.480Z"
   },
   {
    "duration": 345,
    "start_time": "2021-11-25T11:58:19.312Z"
   },
   {
    "duration": 85,
    "start_time": "2021-11-25T11:58:32.097Z"
   },
   {
    "duration": 23,
    "start_time": "2021-11-25T11:59:47.302Z"
   },
   {
    "duration": 17,
    "start_time": "2021-11-25T12:00:09.850Z"
   },
   {
    "duration": 3,
    "start_time": "2021-11-25T12:00:25.521Z"
   },
   {
    "duration": 4,
    "start_time": "2021-11-25T12:00:27.884Z"
   },
   {
    "duration": 81,
    "start_time": "2021-11-25T12:00:28.505Z"
   },
   {
    "duration": 90,
    "start_time": "2021-11-25T12:02:12.734Z"
   },
   {
    "duration": 112,
    "start_time": "2021-11-25T12:05:42.543Z"
   },
   {
    "duration": 4,
    "start_time": "2021-11-25T12:07:40.733Z"
   },
   {
    "duration": 8,
    "start_time": "2021-11-25T12:08:51.571Z"
   },
   {
    "duration": 21,
    "start_time": "2021-11-25T12:17:36.202Z"
   },
   {
    "duration": 13,
    "start_time": "2021-11-25T12:17:40.372Z"
   },
   {
    "duration": 19,
    "start_time": "2021-11-25T12:17:44.403Z"
   },
   {
    "duration": 10,
    "start_time": "2021-11-25T12:17:44.604Z"
   },
   {
    "duration": 448,
    "start_time": "2021-11-26T07:16:40.373Z"
   },
   {
    "duration": 246,
    "start_time": "2021-11-26T07:16:53.827Z"
   },
   {
    "duration": 723,
    "start_time": "2021-11-26T07:17:20.757Z"
   },
   {
    "duration": 185,
    "start_time": "2021-11-26T07:17:21.482Z"
   },
   {
    "duration": 26,
    "start_time": "2021-11-26T07:17:21.670Z"
   },
   {
    "duration": 47,
    "start_time": "2021-11-26T07:17:21.698Z"
   },
   {
    "duration": 8,
    "start_time": "2021-11-26T07:17:21.747Z"
   },
   {
    "duration": 32,
    "start_time": "2021-11-26T07:17:21.757Z"
   },
   {
    "duration": 13,
    "start_time": "2021-11-26T07:17:21.792Z"
   },
   {
    "duration": 48,
    "start_time": "2021-11-26T07:17:21.809Z"
   },
   {
    "duration": 38,
    "start_time": "2021-11-26T07:17:21.860Z"
   },
   {
    "duration": 51,
    "start_time": "2021-11-26T07:17:21.901Z"
   },
   {
    "duration": 106,
    "start_time": "2021-11-26T07:17:21.954Z"
   },
   {
    "duration": 108,
    "start_time": "2021-11-26T07:17:22.062Z"
   },
   {
    "duration": 89,
    "start_time": "2021-11-26T07:17:22.172Z"
   },
   {
    "duration": 8,
    "start_time": "2021-11-26T07:17:22.264Z"
   },
   {
    "duration": 10,
    "start_time": "2021-11-26T07:17:22.274Z"
   },
   {
    "duration": 5,
    "start_time": "2021-11-26T07:17:22.286Z"
   },
   {
    "duration": 54,
    "start_time": "2021-11-26T07:17:22.294Z"
   },
   {
    "duration": 8,
    "start_time": "2021-11-26T07:17:22.351Z"
   },
   {
    "duration": 94,
    "start_time": "2021-11-26T07:17:22.361Z"
   },
   {
    "duration": 14,
    "start_time": "2021-11-26T07:17:22.458Z"
   },
   {
    "duration": 16,
    "start_time": "2021-11-26T07:17:22.474Z"
   },
   {
    "duration": 5,
    "start_time": "2021-11-26T07:17:22.492Z"
   },
   {
    "duration": 138,
    "start_time": "2021-11-26T07:17:22.502Z"
   },
   {
    "duration": 11,
    "start_time": "2021-11-26T07:17:22.643Z"
   },
   {
    "duration": 20,
    "start_time": "2021-11-26T07:17:22.656Z"
   },
   {
    "duration": 13,
    "start_time": "2021-11-26T07:17:22.678Z"
   },
   {
    "duration": 552,
    "start_time": "2021-11-26T07:17:22.694Z"
   },
   {
    "duration": 83,
    "start_time": "2021-11-26T07:17:23.166Z"
   },
   {
    "duration": 81,
    "start_time": "2021-11-26T07:17:23.169Z"
   },
   {
    "duration": 80,
    "start_time": "2021-11-26T07:17:23.172Z"
   },
   {
    "duration": 77,
    "start_time": "2021-11-26T07:17:23.176Z"
   },
   {
    "duration": 77,
    "start_time": "2021-11-26T07:17:23.178Z"
   },
   {
    "duration": 75,
    "start_time": "2021-11-26T07:17:23.181Z"
   },
   {
    "duration": 73,
    "start_time": "2021-11-26T07:17:23.184Z"
   },
   {
    "duration": 73,
    "start_time": "2021-11-26T07:17:23.186Z"
   },
   {
    "duration": 464,
    "start_time": "2021-11-26T07:22:50.666Z"
   },
   {
    "duration": 454,
    "start_time": "2021-11-26T07:23:37.083Z"
   },
   {
    "duration": 421,
    "start_time": "2021-11-26T07:24:22.029Z"
   },
   {
    "duration": 21,
    "start_time": "2021-11-26T07:24:42.139Z"
   },
   {
    "duration": 390,
    "start_time": "2021-11-26T07:26:35.832Z"
   },
   {
    "duration": 21,
    "start_time": "2021-11-26T07:26:41.841Z"
   },
   {
    "duration": 446,
    "start_time": "2021-11-26T07:27:43.775Z"
   },
   {
    "duration": 421,
    "start_time": "2021-11-26T07:28:03.470Z"
   },
   {
    "duration": 456,
    "start_time": "2021-11-26T07:28:28.262Z"
   },
   {
    "duration": 25,
    "start_time": "2021-11-26T07:30:55.061Z"
   },
   {
    "duration": 30,
    "start_time": "2021-11-26T07:31:36.316Z"
   },
   {
    "duration": 20,
    "start_time": "2021-11-26T07:31:45.504Z"
   },
   {
    "duration": 30,
    "start_time": "2021-11-26T07:31:59.720Z"
   },
   {
    "duration": 5,
    "start_time": "2021-11-26T07:33:55.700Z"
   },
   {
    "duration": 6,
    "start_time": "2021-11-26T07:37:00.406Z"
   },
   {
    "duration": 26,
    "start_time": "2021-11-26T07:37:01.619Z"
   },
   {
    "duration": 18,
    "start_time": "2021-11-26T07:37:01.979Z"
   },
   {
    "duration": 23,
    "start_time": "2021-11-26T07:37:02.392Z"
   },
   {
    "duration": 17,
    "start_time": "2021-11-26T07:37:02.903Z"
   },
   {
    "duration": 8,
    "start_time": "2021-11-26T07:37:18.474Z"
   },
   {
    "duration": 33,
    "start_time": "2021-11-26T07:37:19.038Z"
   },
   {
    "duration": 7,
    "start_time": "2021-11-26T07:37:27.225Z"
   },
   {
    "duration": 34,
    "start_time": "2021-11-26T07:37:27.597Z"
   },
   {
    "duration": 17,
    "start_time": "2021-11-26T07:37:27.762Z"
   },
   {
    "duration": 22,
    "start_time": "2021-11-26T07:37:27.831Z"
   },
   {
    "duration": 16,
    "start_time": "2021-11-26T07:37:27.926Z"
   },
   {
    "duration": 12,
    "start_time": "2021-11-26T07:42:59.996Z"
   },
   {
    "duration": 7,
    "start_time": "2021-11-26T07:43:00.602Z"
   },
   {
    "duration": 12,
    "start_time": "2021-11-26T07:45:00.830Z"
   },
   {
    "duration": 6,
    "start_time": "2021-11-26T07:45:02.250Z"
   },
   {
    "duration": 764,
    "start_time": "2021-11-26T07:55:49.295Z"
   },
   {
    "duration": 183,
    "start_time": "2021-11-26T07:55:50.062Z"
   },
   {
    "duration": 27,
    "start_time": "2021-11-26T07:55:50.249Z"
   },
   {
    "duration": 56,
    "start_time": "2021-11-26T07:55:50.279Z"
   },
   {
    "duration": 14,
    "start_time": "2021-11-26T07:55:50.338Z"
   },
   {
    "duration": 52,
    "start_time": "2021-11-26T07:55:50.355Z"
   },
   {
    "duration": 21,
    "start_time": "2021-11-26T07:55:50.409Z"
   },
   {
    "duration": 59,
    "start_time": "2021-11-26T07:55:50.435Z"
   },
   {
    "duration": 63,
    "start_time": "2021-11-26T07:55:50.497Z"
   },
   {
    "duration": 57,
    "start_time": "2021-11-26T07:55:50.562Z"
   },
   {
    "duration": 100,
    "start_time": "2021-11-26T07:55:50.622Z"
   },
   {
    "duration": 104,
    "start_time": "2021-11-26T07:55:50.725Z"
   },
   {
    "duration": 76,
    "start_time": "2021-11-26T07:55:50.831Z"
   },
   {
    "duration": 20,
    "start_time": "2021-11-26T07:55:50.910Z"
   },
   {
    "duration": 27,
    "start_time": "2021-11-26T07:55:50.933Z"
   },
   {
    "duration": 37,
    "start_time": "2021-11-26T07:55:50.963Z"
   },
   {
    "duration": 49,
    "start_time": "2021-11-26T07:55:51.003Z"
   },
   {
    "duration": 9,
    "start_time": "2021-11-26T07:55:51.055Z"
   },
   {
    "duration": 97,
    "start_time": "2021-11-26T07:55:51.067Z"
   },
   {
    "duration": 14,
    "start_time": "2021-11-26T07:55:51.167Z"
   },
   {
    "duration": 18,
    "start_time": "2021-11-26T07:55:51.184Z"
   },
   {
    "duration": 25,
    "start_time": "2021-11-26T07:55:51.205Z"
   },
   {
    "duration": 137,
    "start_time": "2021-11-26T07:55:51.235Z"
   },
   {
    "duration": 11,
    "start_time": "2021-11-26T07:55:51.375Z"
   },
   {
    "duration": 45,
    "start_time": "2021-11-26T07:55:51.389Z"
   },
   {
    "duration": 31,
    "start_time": "2021-11-26T07:55:51.436Z"
   },
   {
    "duration": 40,
    "start_time": "2021-11-26T07:55:51.470Z"
   },
   {
    "duration": 77,
    "start_time": "2021-11-26T07:55:51.512Z"
   },
   {
    "duration": 34,
    "start_time": "2021-11-26T07:55:51.592Z"
   },
   {
    "duration": 39,
    "start_time": "2021-11-26T07:55:51.629Z"
   },
   {
    "duration": 37,
    "start_time": "2021-11-26T07:55:51.671Z"
   },
   {
    "duration": 17,
    "start_time": "2021-11-26T07:55:51.710Z"
   },
   {
    "duration": 32,
    "start_time": "2021-11-26T07:55:51.731Z"
   },
   {
    "duration": 45,
    "start_time": "2021-11-26T07:55:51.765Z"
   },
   {
    "duration": 45,
    "start_time": "2021-11-26T07:55:51.813Z"
   },
   {
    "duration": 5,
    "start_time": "2021-11-26T08:01:06.294Z"
   },
   {
    "duration": 520,
    "start_time": "2021-11-26T13:59:48.531Z"
   },
   {
    "duration": 129,
    "start_time": "2021-11-26T13:59:49.053Z"
   },
   {
    "duration": 17,
    "start_time": "2021-11-26T13:59:49.186Z"
   },
   {
    "duration": 25,
    "start_time": "2021-11-26T13:59:49.205Z"
   },
   {
    "duration": 4,
    "start_time": "2021-11-26T13:59:49.232Z"
   },
   {
    "duration": 55,
    "start_time": "2021-11-26T13:59:49.237Z"
   },
   {
    "duration": 3,
    "start_time": "2021-11-26T13:59:49.295Z"
   },
   {
    "duration": 26,
    "start_time": "2021-11-26T13:59:49.301Z"
   },
   {
    "duration": 27,
    "start_time": "2021-11-26T13:59:49.329Z"
   },
   {
    "duration": 47,
    "start_time": "2021-11-26T13:59:49.357Z"
   },
   {
    "duration": 58,
    "start_time": "2021-11-26T13:59:49.406Z"
   },
   {
    "duration": 90,
    "start_time": "2021-11-26T13:59:49.466Z"
   },
   {
    "duration": 55,
    "start_time": "2021-11-26T13:59:49.558Z"
   },
   {
    "duration": 7,
    "start_time": "2021-11-26T13:59:49.615Z"
   },
   {
    "duration": 5,
    "start_time": "2021-11-26T13:59:49.623Z"
   },
   {
    "duration": 16,
    "start_time": "2021-11-26T13:59:49.630Z"
   },
   {
    "duration": 22,
    "start_time": "2021-11-26T13:59:49.648Z"
   },
   {
    "duration": 19,
    "start_time": "2021-11-26T13:59:49.672Z"
   },
   {
    "duration": 47,
    "start_time": "2021-11-26T13:59:49.693Z"
   },
   {
    "duration": 9,
    "start_time": "2021-11-26T13:59:49.742Z"
   },
   {
    "duration": 9,
    "start_time": "2021-11-26T13:59:49.753Z"
   },
   {
    "duration": 27,
    "start_time": "2021-11-26T13:59:49.765Z"
   },
   {
    "duration": 83,
    "start_time": "2021-11-26T13:59:49.795Z"
   },
   {
    "duration": 8,
    "start_time": "2021-11-26T13:59:49.891Z"
   },
   {
    "duration": 12,
    "start_time": "2021-11-26T13:59:49.901Z"
   },
   {
    "duration": 8,
    "start_time": "2021-11-26T13:59:49.915Z"
   },
   {
    "duration": 4,
    "start_time": "2021-11-26T13:59:49.925Z"
   },
   {
    "duration": 22,
    "start_time": "2021-11-26T13:59:49.930Z"
   },
   {
    "duration": 45,
    "start_time": "2021-11-26T13:59:49.954Z"
   },
   {
    "duration": 19,
    "start_time": "2021-11-26T13:59:50.001Z"
   },
   {
    "duration": 13,
    "start_time": "2021-11-26T13:59:50.022Z"
   },
   {
    "duration": 10,
    "start_time": "2021-11-26T13:59:50.037Z"
   },
   {
    "duration": 6,
    "start_time": "2021-11-26T13:59:50.048Z"
   },
   {
    "duration": 51,
    "start_time": "2021-11-26T13:59:50.056Z"
   },
   {
    "duration": 6,
    "start_time": "2021-11-26T13:59:50.109Z"
   },
   {
    "duration": 54,
    "start_time": "2021-11-26T14:06:45.269Z"
   },
   {
    "duration": 75,
    "start_time": "2021-11-26T14:25:35.324Z"
   },
   {
    "duration": 297,
    "start_time": "2021-11-29T12:33:26.479Z"
   },
   {
    "duration": 573,
    "start_time": "2021-11-29T12:39:38.345Z"
   },
   {
    "duration": 134,
    "start_time": "2021-11-29T12:39:39.329Z"
   },
   {
    "duration": 16,
    "start_time": "2021-11-29T12:39:41.067Z"
   },
   {
    "duration": 27,
    "start_time": "2021-11-29T12:39:54.949Z"
   },
   {
    "duration": 4,
    "start_time": "2021-11-29T12:39:59.502Z"
   },
   {
    "duration": 19,
    "start_time": "2021-11-29T12:40:07.079Z"
   },
   {
    "duration": 4,
    "start_time": "2021-11-29T12:40:10.003Z"
   },
   {
    "duration": 23,
    "start_time": "2021-11-29T12:40:22.647Z"
   },
   {
    "duration": 16,
    "start_time": "2021-11-29T12:40:30.113Z"
   },
   {
    "duration": 21,
    "start_time": "2021-11-29T12:40:44.239Z"
   },
   {
    "duration": 21,
    "start_time": "2021-11-29T12:40:53.862Z"
   },
   {
    "duration": 55,
    "start_time": "2021-11-29T12:40:56.507Z"
   },
   {
    "duration": 71,
    "start_time": "2021-11-29T12:41:00.915Z"
   },
   {
    "duration": 54,
    "start_time": "2021-11-29T12:41:09.474Z"
   },
   {
    "duration": 9,
    "start_time": "2021-11-29T12:41:16.747Z"
   },
   {
    "duration": 7,
    "start_time": "2021-11-29T12:41:26.647Z"
   },
   {
    "duration": 9,
    "start_time": "2021-11-29T12:41:30.429Z"
   },
   {
    "duration": 6,
    "start_time": "2021-11-29T12:41:37.270Z"
   },
   {
    "duration": 36,
    "start_time": "2021-11-29T12:42:21.258Z"
   },
   {
    "duration": 42,
    "start_time": "2021-11-29T12:42:25.350Z"
   },
   {
    "duration": 62,
    "start_time": "2021-11-29T12:43:02.187Z"
   },
   {
    "duration": 5,
    "start_time": "2021-11-29T12:43:13.914Z"
   },
   {
    "duration": 4,
    "start_time": "2021-11-29T12:43:16.040Z"
   },
   {
    "duration": 18,
    "start_time": "2021-11-29T12:43:18.026Z"
   },
   {
    "duration": 37,
    "start_time": "2021-11-29T12:43:22.836Z"
   },
   {
    "duration": 45,
    "start_time": "2021-11-29T12:44:57.274Z"
   },
   {
    "duration": 10,
    "start_time": "2021-11-29T12:45:07.642Z"
   },
   {
    "duration": 11,
    "start_time": "2021-11-29T12:45:14.498Z"
   },
   {
    "duration": 4,
    "start_time": "2021-11-29T12:45:32.336Z"
   },
   {
    "duration": 123,
    "start_time": "2021-11-29T12:45:34.875Z"
   },
   {
    "duration": 11,
    "start_time": "2021-11-29T12:45:44.501Z"
   },
   {
    "duration": 10,
    "start_time": "2021-11-29T12:45:54.904Z"
   },
   {
    "duration": 13,
    "start_time": "2021-11-29T12:45:55.201Z"
   },
   {
    "duration": 5,
    "start_time": "2021-11-29T12:45:58.915Z"
   },
   {
    "duration": 82,
    "start_time": "2021-11-29T12:47:42.301Z"
   },
   {
    "duration": 4,
    "start_time": "2021-11-29T12:47:51.569Z"
   },
   {
    "duration": 543,
    "start_time": "2021-11-29T12:47:57.518Z"
   },
   {
    "duration": 4,
    "start_time": "2021-11-29T12:48:14.737Z"
   },
   {
    "duration": 18,
    "start_time": "2021-11-29T12:48:16.263Z"
   },
   {
    "duration": 17,
    "start_time": "2021-11-29T12:48:19.573Z"
   },
   {
    "duration": 18,
    "start_time": "2021-11-29T12:48:22.003Z"
   },
   {
    "duration": 13,
    "start_time": "2021-11-29T12:48:23.821Z"
   },
   {
    "duration": 8,
    "start_time": "2021-11-29T12:48:37.289Z"
   },
   {
    "duration": 4,
    "start_time": "2021-11-29T12:48:42.103Z"
   },
   {
    "duration": 8,
    "start_time": "2021-11-29T12:48:48.491Z"
   },
   {
    "duration": 6,
    "start_time": "2021-11-29T12:48:53.156Z"
   },
   {
    "duration": 738,
    "start_time": "2021-11-29T12:50:03.075Z"
   },
   {
    "duration": 187,
    "start_time": "2021-11-29T12:50:03.815Z"
   },
   {
    "duration": 24,
    "start_time": "2021-11-29T12:50:04.005Z"
   },
   {
    "duration": 40,
    "start_time": "2021-11-29T12:50:04.031Z"
   },
   {
    "duration": 18,
    "start_time": "2021-11-29T12:50:04.073Z"
   },
   {
    "duration": 19,
    "start_time": "2021-11-29T12:50:04.094Z"
   },
   {
    "duration": 11,
    "start_time": "2021-11-29T12:50:04.115Z"
   },
   {
    "duration": 26,
    "start_time": "2021-11-29T12:50:04.127Z"
   },
   {
    "duration": 38,
    "start_time": "2021-11-29T12:50:04.157Z"
   },
   {
    "duration": 23,
    "start_time": "2021-11-29T12:50:04.197Z"
   },
   {
    "duration": 72,
    "start_time": "2021-11-29T12:50:04.222Z"
   },
   {
    "duration": 64,
    "start_time": "2021-11-29T12:50:04.296Z"
   },
   {
    "duration": 61,
    "start_time": "2021-11-29T12:50:04.362Z"
   },
   {
    "duration": 39,
    "start_time": "2021-11-29T12:50:04.424Z"
   },
   {
    "duration": 23,
    "start_time": "2021-11-29T12:50:04.465Z"
   },
   {
    "duration": 3,
    "start_time": "2021-11-29T12:50:04.490Z"
   },
   {
    "duration": 38,
    "start_time": "2021-11-29T12:50:04.496Z"
   },
   {
    "duration": 77,
    "start_time": "2021-11-29T12:50:04.536Z"
   },
   {
    "duration": 59,
    "start_time": "2021-11-29T12:50:04.615Z"
   },
   {
    "duration": 20,
    "start_time": "2021-11-29T12:50:04.676Z"
   },
   {
    "duration": 12,
    "start_time": "2021-11-29T12:50:04.698Z"
   },
   {
    "duration": 5,
    "start_time": "2021-11-29T12:50:04.712Z"
   },
   {
    "duration": 106,
    "start_time": "2021-11-29T12:50:04.718Z"
   },
   {
    "duration": 8,
    "start_time": "2021-11-29T12:50:04.827Z"
   },
   {
    "duration": 17,
    "start_time": "2021-11-29T12:50:04.838Z"
   },
   {
    "duration": 33,
    "start_time": "2021-11-29T12:50:04.857Z"
   },
   {
    "duration": 5,
    "start_time": "2021-11-29T12:50:04.895Z"
   },
   {
    "duration": 37,
    "start_time": "2021-11-29T12:50:04.902Z"
   },
   {
    "duration": 17,
    "start_time": "2021-11-29T12:50:04.941Z"
   },
   {
    "duration": 36,
    "start_time": "2021-11-29T12:50:04.960Z"
   },
   {
    "duration": 14,
    "start_time": "2021-11-29T12:50:04.999Z"
   },
   {
    "duration": 8,
    "start_time": "2021-11-29T12:50:05.014Z"
   },
   {
    "duration": 5,
    "start_time": "2021-11-29T12:50:05.024Z"
   },
   {
    "duration": 9,
    "start_time": "2021-11-29T12:50:05.031Z"
   },
   {
    "duration": 7,
    "start_time": "2021-11-29T12:50:05.042Z"
   },
   {
    "duration": 716,
    "start_time": "2021-11-29T13:27:47.946Z"
   },
   {
    "duration": 191,
    "start_time": "2021-11-29T13:27:48.664Z"
   },
   {
    "duration": 29,
    "start_time": "2021-11-29T13:27:48.858Z"
   },
   {
    "duration": 37,
    "start_time": "2021-11-29T13:27:48.902Z"
   },
   {
    "duration": 9,
    "start_time": "2021-11-29T13:27:48.942Z"
   },
   {
    "duration": 58,
    "start_time": "2021-11-29T13:27:48.954Z"
   },
   {
    "duration": 22,
    "start_time": "2021-11-29T13:27:49.015Z"
   },
   {
    "duration": 35,
    "start_time": "2021-11-29T13:27:49.042Z"
   },
   {
    "duration": 35,
    "start_time": "2021-11-29T13:27:49.081Z"
   },
   {
    "duration": 35,
    "start_time": "2021-11-29T13:27:49.118Z"
   },
   {
    "duration": 104,
    "start_time": "2021-11-29T13:27:49.156Z"
   },
   {
    "duration": 105,
    "start_time": "2021-11-29T13:27:49.262Z"
   },
   {
    "duration": 85,
    "start_time": "2021-11-29T13:27:49.370Z"
   },
   {
    "duration": 63,
    "start_time": "2021-11-29T13:27:49.457Z"
   },
   {
    "duration": 4,
    "start_time": "2021-11-29T13:27:49.523Z"
   },
   {
    "duration": 12,
    "start_time": "2021-11-29T13:27:49.530Z"
   },
   {
    "duration": 43,
    "start_time": "2021-11-29T13:27:49.544Z"
   },
   {
    "duration": 67,
    "start_time": "2021-11-29T13:27:49.589Z"
   },
   {
    "duration": 105,
    "start_time": "2021-11-29T13:27:49.659Z"
   },
   {
    "duration": 34,
    "start_time": "2021-11-29T13:27:49.767Z"
   },
   {
    "duration": 14,
    "start_time": "2021-11-29T13:27:49.804Z"
   },
   {
    "duration": 4,
    "start_time": "2021-11-29T13:27:49.820Z"
   },
   {
    "duration": 148,
    "start_time": "2021-11-29T13:27:49.829Z"
   },
   {
    "duration": 19,
    "start_time": "2021-11-29T13:27:49.980Z"
   },
   {
    "duration": 15,
    "start_time": "2021-11-29T13:27:50.002Z"
   },
   {
    "duration": 13,
    "start_time": "2021-11-29T13:27:50.019Z"
   },
   {
    "duration": 6,
    "start_time": "2021-11-29T13:27:50.035Z"
   },
   {
    "duration": 64,
    "start_time": "2021-11-29T13:27:50.043Z"
   },
   {
    "duration": 19,
    "start_time": "2021-11-29T13:27:50.109Z"
   },
   {
    "duration": 27,
    "start_time": "2021-11-29T13:27:50.131Z"
   },
   {
    "duration": 48,
    "start_time": "2021-11-29T13:27:50.161Z"
   },
   {
    "duration": 11,
    "start_time": "2021-11-29T13:27:50.211Z"
   },
   {
    "duration": 7,
    "start_time": "2021-11-29T13:27:50.224Z"
   },
   {
    "duration": 18,
    "start_time": "2021-11-29T13:27:50.233Z"
   },
   {
    "duration": 6,
    "start_time": "2021-11-29T13:27:50.254Z"
   },
   {
    "duration": 99,
    "start_time": "2021-11-29T13:30:51.793Z"
   }
  ],
  "colab": {
   "collapsed_sections": [
    "E0vqbgi9ay0H",
    "VUC88oWjTJw2"
   ],
   "name": "yandex_music_project_2021.2.ipynb",
   "provenance": []
  },
  "kernelspec": {
   "display_name": "Python 3.9.13 64-bit",
   "language": "python",
   "name": "python3"
  },
  "language_info": {
   "codemirror_mode": {
    "name": "ipython",
    "version": 3
   },
   "file_extension": ".py",
   "mimetype": "text/x-python",
   "name": "python",
   "nbconvert_exporter": "python",
   "pygments_lexer": "ipython3",
   "version": "3.9.13"
  },
  "toc": {
   "base_numbering": 1,
   "nav_menu": {},
   "number_sections": true,
   "sideBar": true,
   "skip_h1_title": true,
   "title_cell": "Содержание проекта",
   "title_sidebar": "Содержание проекта",
   "toc_cell": true,
   "toc_position": {},
   "toc_section_display": true,
   "toc_window_display": true
  },
  "vscode": {
   "interpreter": {
    "hash": "aee8b7b246df8f9039afb4144a1f6fd8d2ca17a180786b69acc140d282b71a49"
   }
  }
 },
 "nbformat": 4,
 "nbformat_minor": 1
}
