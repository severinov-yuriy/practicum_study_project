{
 "cells": [
  {
   "cell_type": "markdown",
   "metadata": {
    "id": "6Z2mCas-AqNJ"
   },
   "source": [
    "# Определение стоимости автомобилей"
   ]
  },
  {
   "cell_type": "markdown",
   "metadata": {
    "id": "OawpXi6LAqNK"
   },
   "source": [
    "Сервис по продаже автомобилей с пробегом «Не бит, не крашен» разрабатывает приложение для привлечения новых клиентов. В нём можно быстро узнать рыночную стоимость своего автомобиля. В вашем распоряжении исторические данные: технические характеристики, комплектации и цены автомобилей. Вам нужно построить модель для определения стоимости. \n",
    "\n",
    "Заказчику важны:\n",
    "\n",
    "- качество предсказания;\n",
    "- скорость предсказания;\n",
    "- время обучения.\n",
    "\n",
    "Данные находятся в файле /datasets/autos.csv.\n",
    "\n",
    "__Описание данных__\n",
    "\n",
    "Признаки:\n",
    "\n",
    "- DateCrawled — дата скачивания анкеты из базы\n",
    "- VehicleType — тип автомобильного кузова\n",
    "- RegistrationYear — год регистрации автомобиля\n",
    "- Gearbox — тип коробки передач\n",
    "- Power — мощность (л. с.)\n",
    "- Model — модель автомобиля\n",
    "- Kilometer — пробег (км)\n",
    "- RegistrationMonth — месяц регистрации автомобиля\n",
    "- FuelType — тип топлива\n",
    "- Brand — марка автомобиля\n",
    "- NotRepaired — была машина в ремонте или нет\n",
    "- DateCreated — дата создания анкеты\n",
    "- NumberOfPictures — количество фотографий автомобиля\n",
    "- PostalCode — почтовый индекс владельца анкеты (пользователя)\n",
    "- LastSeen — дата последней активности пользователя\n",
    "\n",
    "Целевой признак\n",
    "\n",
    "- Price — цена (евро)"
   ]
  },
  {
   "cell_type": "markdown",
   "metadata": {
    "id": "D2HwoYkoAqNL"
   },
   "source": [
    "### Подготовка окружения"
   ]
  },
  {
   "cell_type": "markdown",
   "metadata": {
    "id": "5XUqFlfuAqNL"
   },
   "source": [
    "Загрузим основные библиотеки для выполнения проекта."
   ]
  },
  {
   "cell_type": "code",
   "execution_count": 1,
   "metadata": {
    "colab": {
     "base_uri": "https://localhost:8080/"
    },
    "id": "Mhbk0dPtAqNM",
    "outputId": "60591ffc-b2c0-4b41-8932-98460ace7023"
   },
   "outputs": [
    {
     "name": "stdout",
     "output_type": "stream",
     "text": [
      "Requirement already satisfied: optuna in /opt/conda/lib/python3.9/site-packages (2.10.0)\n",
      "Requirement already satisfied: colorlog in /opt/conda/lib/python3.9/site-packages (from optuna) (6.6.0)\n",
      "Requirement already satisfied: cliff in /opt/conda/lib/python3.9/site-packages (from optuna) (3.10.1)\n",
      "Requirement already satisfied: sqlalchemy>=1.1.0 in /opt/conda/lib/python3.9/site-packages (from optuna) (1.4.27)\n",
      "Requirement already satisfied: alembic in /opt/conda/lib/python3.9/site-packages (from optuna) (1.7.5)\n",
      "Requirement already satisfied: PyYAML in /opt/conda/lib/python3.9/site-packages (from optuna) (6.0)\n",
      "Requirement already satisfied: numpy in /opt/conda/lib/python3.9/site-packages (from optuna) (1.22.3)\n",
      "Requirement already satisfied: cmaes>=0.8.2 in /opt/conda/lib/python3.9/site-packages (from optuna) (0.8.2)\n",
      "Requirement already satisfied: tqdm in /opt/conda/lib/python3.9/site-packages (from optuna) (4.62.3)\n",
      "Requirement already satisfied: scipy!=1.4.0 in /opt/conda/lib/python3.9/site-packages (from optuna) (1.8.0)\n",
      "Requirement already satisfied: packaging>=20.0 in /opt/conda/lib/python3.9/site-packages (from optuna) (21.3)\n",
      "Requirement already satisfied: pyparsing!=3.0.5,>=2.0.2 in /opt/conda/lib/python3.9/site-packages (from packaging>=20.0->optuna) (3.0.6)\n",
      "Requirement already satisfied: greenlet!=0.4.17 in /opt/conda/lib/python3.9/site-packages (from sqlalchemy>=1.1.0->optuna) (1.1.2)\n",
      "Requirement already satisfied: Mako in /opt/conda/lib/python3.9/site-packages (from alembic->optuna) (1.1.6)\n",
      "Requirement already satisfied: PrettyTable>=0.7.2 in /opt/conda/lib/python3.9/site-packages (from cliff->optuna) (3.3.0)\n",
      "Requirement already satisfied: pbr!=2.1.0,>=2.0.0 in /opt/conda/lib/python3.9/site-packages (from cliff->optuna) (5.9.0)\n",
      "Requirement already satisfied: autopage>=0.4.0 in /opt/conda/lib/python3.9/site-packages (from cliff->optuna) (0.5.1)\n",
      "Requirement already satisfied: cmd2>=1.0.0 in /opt/conda/lib/python3.9/site-packages (from cliff->optuna) (2.4.1)\n",
      "Requirement already satisfied: stevedore>=2.0.1 in /opt/conda/lib/python3.9/site-packages (from cliff->optuna) (3.5.0)\n",
      "Requirement already satisfied: pyperclip>=1.6 in /opt/conda/lib/python3.9/site-packages (from cmd2>=1.0.0->cliff->optuna) (1.8.2)\n",
      "Requirement already satisfied: attrs>=16.3.0 in /opt/conda/lib/python3.9/site-packages (from cmd2>=1.0.0->cliff->optuna) (21.2.0)\n",
      "Requirement already satisfied: wcwidth>=0.1.7 in /opt/conda/lib/python3.9/site-packages (from cmd2>=1.0.0->cliff->optuna) (0.2.5)\n",
      "Requirement already satisfied: MarkupSafe>=0.9.2 in /opt/conda/lib/python3.9/site-packages (from Mako->alembic->optuna) (2.0.1)\n",
      "Requirement already satisfied: catboost in /opt/conda/lib/python3.9/site-packages (1.0.3)\n",
      "Requirement already satisfied: matplotlib in /opt/conda/lib/python3.9/site-packages (from catboost) (3.3.4)\n",
      "Requirement already satisfied: scipy in /opt/conda/lib/python3.9/site-packages (from catboost) (1.8.0)\n",
      "Requirement already satisfied: six in /opt/conda/lib/python3.9/site-packages (from catboost) (1.16.0)\n",
      "Requirement already satisfied: graphviz in /opt/conda/lib/python3.9/site-packages (from catboost) (0.20)\n",
      "Requirement already satisfied: plotly in /opt/conda/lib/python3.9/site-packages (from catboost) (5.4.0)\n",
      "Requirement already satisfied: pandas>=0.24.0 in /opt/conda/lib/python3.9/site-packages (from catboost) (1.2.4)\n",
      "Requirement already satisfied: numpy>=1.16.0 in /opt/conda/lib/python3.9/site-packages (from catboost) (1.22.3)\n",
      "Requirement already satisfied: python-dateutil>=2.7.3 in /opt/conda/lib/python3.9/site-packages (from pandas>=0.24.0->catboost) (2.8.2)\n",
      "Requirement already satisfied: pytz>=2017.3 in /opt/conda/lib/python3.9/site-packages (from pandas>=0.24.0->catboost) (2021.3)\n",
      "Requirement already satisfied: kiwisolver>=1.0.1 in /opt/conda/lib/python3.9/site-packages (from matplotlib->catboost) (1.4.2)\n",
      "Requirement already satisfied: pillow>=6.2.0 in /opt/conda/lib/python3.9/site-packages (from matplotlib->catboost) (8.4.0)\n",
      "Requirement already satisfied: pyparsing!=2.0.4,!=2.1.2,!=2.1.6,>=2.0.3 in /opt/conda/lib/python3.9/site-packages (from matplotlib->catboost) (3.0.6)\n",
      "Requirement already satisfied: cycler>=0.10 in /opt/conda/lib/python3.9/site-packages (from matplotlib->catboost) (0.11.0)\n",
      "Requirement already satisfied: tenacity>=6.2.0 in /opt/conda/lib/python3.9/site-packages (from plotly->catboost) (8.0.1)\n"
     ]
    }
   ],
   "source": [
    "!pip install optuna\n",
    "!pip install catboost"
   ]
  },
  {
   "cell_type": "code",
   "execution_count": 2,
   "metadata": {
    "id": "K68PWejWAqNO"
   },
   "outputs": [],
   "source": [
    "import pandas as pd\n",
    "\n",
    "import matplotlib.pyplot as plt\n",
    "import seaborn as sns\n",
    "\n",
    "from sklearn.model_selection import train_test_split\n",
    "from sklearn.preprocessing import OrdinalEncoder\n",
    "from sklearn.preprocessing import StandardScaler\n",
    "\n",
    "from catboost import CatBoostRegressor\n",
    "from lightgbm import LGBMRegressor\n",
    "from sklearn.ensemble import RandomForestRegressor\n",
    "from sklearn.linear_model import LinearRegression\n",
    "from sklearn.tree import DecisionTreeRegressor\n",
    "\n",
    "from sklearn.metrics import mean_squared_error\n",
    "\n",
    "import optuna\n",
    "from sklearn.model_selection import GridSearchCV\n",
    "\n",
    "import time"
   ]
  },
  {
   "cell_type": "markdown",
   "metadata": {
    "id": "ThYCiNW0AqNP"
   },
   "source": [
    "Загрузим набор данных, полученных от заказчика"
   ]
  },
  {
   "cell_type": "code",
   "execution_count": 3,
   "metadata": {
    "id": "zReupTPXAqNP"
   },
   "outputs": [],
   "source": [
    "try:\n",
    "    data = pd.read_csv('/datasets/autos.csv')\n",
    "except FileNotFoundError:\n",
    "    data = pd.read_csv('-') # Прямая ссылка на датасет удалена в связи с правилами публикации проектов"
   ]
  },
  {
   "cell_type": "markdown",
   "metadata": {
    "id": "iKX7zEqBAqNR"
   },
   "source": [
    "## Подготовка данных"
   ]
  },
  {
   "cell_type": "markdown",
   "metadata": {
    "id": "IXaH99nsAqNR"
   },
   "source": [
    "### Обзор данных"
   ]
  },
  {
   "cell_type": "markdown",
   "metadata": {
    "id": "1fphJ1EbAqNS"
   },
   "source": [
    "Выведем на экран пять первых строк данных, обзорную и статистическую информацию по ним."
   ]
  },
  {
   "cell_type": "code",
   "execution_count": 4,
   "metadata": {
    "colab": {
     "base_uri": "https://localhost:8080/",
     "height": 424
    },
    "id": "P9VtozRMAqNS",
    "outputId": "776982ef-e882-4d8f-bda4-0f566c497652",
    "scrolled": true
   },
   "outputs": [
    {
     "data": {
      "text/html": [
       "<div>\n",
       "<style scoped>\n",
       "    .dataframe tbody tr th:only-of-type {\n",
       "        vertical-align: middle;\n",
       "    }\n",
       "\n",
       "    .dataframe tbody tr th {\n",
       "        vertical-align: top;\n",
       "    }\n",
       "\n",
       "    .dataframe thead th {\n",
       "        text-align: right;\n",
       "    }\n",
       "</style>\n",
       "<table border=\"1\" class=\"dataframe\">\n",
       "  <thead>\n",
       "    <tr style=\"text-align: right;\">\n",
       "      <th></th>\n",
       "      <th>DateCrawled</th>\n",
       "      <th>Price</th>\n",
       "      <th>VehicleType</th>\n",
       "      <th>RegistrationYear</th>\n",
       "      <th>Gearbox</th>\n",
       "      <th>Power</th>\n",
       "      <th>Model</th>\n",
       "      <th>Kilometer</th>\n",
       "      <th>RegistrationMonth</th>\n",
       "      <th>FuelType</th>\n",
       "      <th>Brand</th>\n",
       "      <th>NotRepaired</th>\n",
       "      <th>DateCreated</th>\n",
       "      <th>NumberOfPictures</th>\n",
       "      <th>PostalCode</th>\n",
       "      <th>LastSeen</th>\n",
       "    </tr>\n",
       "  </thead>\n",
       "  <tbody>\n",
       "    <tr>\n",
       "      <th>0</th>\n",
       "      <td>2016-03-24 11:52:17</td>\n",
       "      <td>480</td>\n",
       "      <td>NaN</td>\n",
       "      <td>1993</td>\n",
       "      <td>manual</td>\n",
       "      <td>0</td>\n",
       "      <td>golf</td>\n",
       "      <td>150000</td>\n",
       "      <td>0</td>\n",
       "      <td>petrol</td>\n",
       "      <td>volkswagen</td>\n",
       "      <td>NaN</td>\n",
       "      <td>2016-03-24 00:00:00</td>\n",
       "      <td>0</td>\n",
       "      <td>70435</td>\n",
       "      <td>2016-04-07 03:16:57</td>\n",
       "    </tr>\n",
       "    <tr>\n",
       "      <th>1</th>\n",
       "      <td>2016-03-24 10:58:45</td>\n",
       "      <td>18300</td>\n",
       "      <td>coupe</td>\n",
       "      <td>2011</td>\n",
       "      <td>manual</td>\n",
       "      <td>190</td>\n",
       "      <td>NaN</td>\n",
       "      <td>125000</td>\n",
       "      <td>5</td>\n",
       "      <td>gasoline</td>\n",
       "      <td>audi</td>\n",
       "      <td>yes</td>\n",
       "      <td>2016-03-24 00:00:00</td>\n",
       "      <td>0</td>\n",
       "      <td>66954</td>\n",
       "      <td>2016-04-07 01:46:50</td>\n",
       "    </tr>\n",
       "    <tr>\n",
       "      <th>2</th>\n",
       "      <td>2016-03-14 12:52:21</td>\n",
       "      <td>9800</td>\n",
       "      <td>suv</td>\n",
       "      <td>2004</td>\n",
       "      <td>auto</td>\n",
       "      <td>163</td>\n",
       "      <td>grand</td>\n",
       "      <td>125000</td>\n",
       "      <td>8</td>\n",
       "      <td>gasoline</td>\n",
       "      <td>jeep</td>\n",
       "      <td>NaN</td>\n",
       "      <td>2016-03-14 00:00:00</td>\n",
       "      <td>0</td>\n",
       "      <td>90480</td>\n",
       "      <td>2016-04-05 12:47:46</td>\n",
       "    </tr>\n",
       "    <tr>\n",
       "      <th>3</th>\n",
       "      <td>2016-03-17 16:54:04</td>\n",
       "      <td>1500</td>\n",
       "      <td>small</td>\n",
       "      <td>2001</td>\n",
       "      <td>manual</td>\n",
       "      <td>75</td>\n",
       "      <td>golf</td>\n",
       "      <td>150000</td>\n",
       "      <td>6</td>\n",
       "      <td>petrol</td>\n",
       "      <td>volkswagen</td>\n",
       "      <td>no</td>\n",
       "      <td>2016-03-17 00:00:00</td>\n",
       "      <td>0</td>\n",
       "      <td>91074</td>\n",
       "      <td>2016-03-17 17:40:17</td>\n",
       "    </tr>\n",
       "    <tr>\n",
       "      <th>4</th>\n",
       "      <td>2016-03-31 17:25:20</td>\n",
       "      <td>3600</td>\n",
       "      <td>small</td>\n",
       "      <td>2008</td>\n",
       "      <td>manual</td>\n",
       "      <td>69</td>\n",
       "      <td>fabia</td>\n",
       "      <td>90000</td>\n",
       "      <td>7</td>\n",
       "      <td>gasoline</td>\n",
       "      <td>skoda</td>\n",
       "      <td>no</td>\n",
       "      <td>2016-03-31 00:00:00</td>\n",
       "      <td>0</td>\n",
       "      <td>60437</td>\n",
       "      <td>2016-04-06 10:17:21</td>\n",
       "    </tr>\n",
       "  </tbody>\n",
       "</table>\n",
       "</div>"
      ],
      "text/plain": [
       "           DateCrawled  Price VehicleType  RegistrationYear Gearbox  Power  \\\n",
       "0  2016-03-24 11:52:17    480         NaN              1993  manual      0   \n",
       "1  2016-03-24 10:58:45  18300       coupe              2011  manual    190   \n",
       "2  2016-03-14 12:52:21   9800         suv              2004    auto    163   \n",
       "3  2016-03-17 16:54:04   1500       small              2001  manual     75   \n",
       "4  2016-03-31 17:25:20   3600       small              2008  manual     69   \n",
       "\n",
       "   Model  Kilometer  RegistrationMonth  FuelType       Brand NotRepaired  \\\n",
       "0   golf     150000                  0    petrol  volkswagen         NaN   \n",
       "1    NaN     125000                  5  gasoline        audi         yes   \n",
       "2  grand     125000                  8  gasoline        jeep         NaN   \n",
       "3   golf     150000                  6    petrol  volkswagen          no   \n",
       "4  fabia      90000                  7  gasoline       skoda          no   \n",
       "\n",
       "           DateCreated  NumberOfPictures  PostalCode             LastSeen  \n",
       "0  2016-03-24 00:00:00                 0       70435  2016-04-07 03:16:57  \n",
       "1  2016-03-24 00:00:00                 0       66954  2016-04-07 01:46:50  \n",
       "2  2016-03-14 00:00:00                 0       90480  2016-04-05 12:47:46  \n",
       "3  2016-03-17 00:00:00                 0       91074  2016-03-17 17:40:17  \n",
       "4  2016-03-31 00:00:00                 0       60437  2016-04-06 10:17:21  "
      ]
     },
     "execution_count": 4,
     "metadata": {},
     "output_type": "execute_result"
    }
   ],
   "source": [
    "data.head(5)"
   ]
  },
  {
   "cell_type": "markdown",
   "metadata": {
    "id": "WQIMcSJvAqNT"
   },
   "source": [
    "В данных есть пропуски, необходимо изучить долю пропущенных значений и определить варианты их заполнения."
   ]
  },
  {
   "cell_type": "code",
   "execution_count": 5,
   "metadata": {
    "colab": {
     "base_uri": "https://localhost:8080/"
    },
    "id": "TLi5VqeUAqNT",
    "outputId": "fb2c0bd3-e29c-4ee9-aee2-4485ec8762e5",
    "scrolled": true
   },
   "outputs": [
    {
     "data": {
      "text/plain": [
       "DateCrawled           0.000000\n",
       "Price                 0.000000\n",
       "VehicleType          10.579368\n",
       "RegistrationYear      0.000000\n",
       "Gearbox               5.596709\n",
       "Power                 0.000000\n",
       "Model                 5.560588\n",
       "Kilometer             0.000000\n",
       "RegistrationMonth     0.000000\n",
       "FuelType              9.282697\n",
       "Brand                 0.000000\n",
       "NotRepaired          20.079070\n",
       "DateCreated           0.000000\n",
       "NumberOfPictures      0.000000\n",
       "PostalCode            0.000000\n",
       "LastSeen              0.000000\n",
       "dtype: float64"
      ]
     },
     "execution_count": 5,
     "metadata": {},
     "output_type": "execute_result"
    }
   ],
   "source": [
    "data.isna().sum() / data.shape[0] * 100"
   ]
  },
  {
   "cell_type": "markdown",
   "metadata": {
    "id": "OVZpvthwAqNU"
   },
   "source": [
    "Пропущенные значения составляют до 20% от всего датасета, соответственно отбросить пропуски нецелесообразно. Необходимо найти варианты заполнения пропущенных значений."
   ]
  },
  {
   "cell_type": "code",
   "execution_count": 6,
   "metadata": {
    "colab": {
     "base_uri": "https://localhost:8080/"
    },
    "id": "GZ9Eq0FRAqNU",
    "outputId": "e6db3379-f471-4797-898c-10ce04d3745e",
    "scrolled": false
   },
   "outputs": [
    {
     "name": "stdout",
     "output_type": "stream",
     "text": [
      "<class 'pandas.core.frame.DataFrame'>\n",
      "RangeIndex: 354369 entries, 0 to 354368\n",
      "Data columns (total 16 columns):\n",
      " #   Column             Non-Null Count   Dtype \n",
      "---  ------             --------------   ----- \n",
      " 0   DateCrawled        354369 non-null  object\n",
      " 1   Price              354369 non-null  int64 \n",
      " 2   VehicleType        316879 non-null  object\n",
      " 3   RegistrationYear   354369 non-null  int64 \n",
      " 4   Gearbox            334536 non-null  object\n",
      " 5   Power              354369 non-null  int64 \n",
      " 6   Model              334664 non-null  object\n",
      " 7   Kilometer          354369 non-null  int64 \n",
      " 8   RegistrationMonth  354369 non-null  int64 \n",
      " 9   FuelType           321474 non-null  object\n",
      " 10  Brand              354369 non-null  object\n",
      " 11  NotRepaired        283215 non-null  object\n",
      " 12  DateCreated        354369 non-null  object\n",
      " 13  NumberOfPictures   354369 non-null  int64 \n",
      " 14  PostalCode         354369 non-null  int64 \n",
      " 15  LastSeen           354369 non-null  object\n",
      "dtypes: int64(7), object(9)\n",
      "memory usage: 43.3+ MB\n"
     ]
    }
   ],
   "source": [
    "data.info()"
   ]
  },
  {
   "cell_type": "markdown",
   "metadata": {
    "id": "_elx0HJxAqNV"
   },
   "source": [
    "Данные дат хранятся в строковом виде. Однако данные о дате скачивания анкеты из базы, создании анкеты и последней активности пользователя будут недоступны при определении рыночной цены автомобиля, соответственно обучать на них модель нецелесообразно."
   ]
  },
  {
   "cell_type": "code",
   "execution_count": 7,
   "metadata": {
    "colab": {
     "base_uri": "https://localhost:8080/",
     "height": 269
    },
    "id": "kHUv7-3KAqNV",
    "outputId": "c863cd02-4ae6-4cc5-a291-5e7cbc471158"
   },
   "outputs": [
    {
     "data": {
      "text/html": [
       "<div>\n",
       "<style scoped>\n",
       "    .dataframe tbody tr th:only-of-type {\n",
       "        vertical-align: middle;\n",
       "    }\n",
       "\n",
       "    .dataframe tbody tr th {\n",
       "        vertical-align: top;\n",
       "    }\n",
       "\n",
       "    .dataframe thead th {\n",
       "        text-align: right;\n",
       "    }\n",
       "</style>\n",
       "<table border=\"1\" class=\"dataframe\">\n",
       "  <thead>\n",
       "    <tr style=\"text-align: right;\">\n",
       "      <th></th>\n",
       "      <th>count</th>\n",
       "      <th>mean</th>\n",
       "      <th>std</th>\n",
       "      <th>min</th>\n",
       "      <th>25%</th>\n",
       "      <th>50%</th>\n",
       "      <th>75%</th>\n",
       "      <th>max</th>\n",
       "    </tr>\n",
       "  </thead>\n",
       "  <tbody>\n",
       "    <tr>\n",
       "      <th>Price</th>\n",
       "      <td>354369.0</td>\n",
       "      <td>4416.656776</td>\n",
       "      <td>4514.158514</td>\n",
       "      <td>0.0</td>\n",
       "      <td>1050.0</td>\n",
       "      <td>2700.0</td>\n",
       "      <td>6400.0</td>\n",
       "      <td>20000.0</td>\n",
       "    </tr>\n",
       "    <tr>\n",
       "      <th>RegistrationYear</th>\n",
       "      <td>354369.0</td>\n",
       "      <td>2004.234448</td>\n",
       "      <td>90.227958</td>\n",
       "      <td>1000.0</td>\n",
       "      <td>1999.0</td>\n",
       "      <td>2003.0</td>\n",
       "      <td>2008.0</td>\n",
       "      <td>9999.0</td>\n",
       "    </tr>\n",
       "    <tr>\n",
       "      <th>Power</th>\n",
       "      <td>354369.0</td>\n",
       "      <td>110.094337</td>\n",
       "      <td>189.850405</td>\n",
       "      <td>0.0</td>\n",
       "      <td>69.0</td>\n",
       "      <td>105.0</td>\n",
       "      <td>143.0</td>\n",
       "      <td>20000.0</td>\n",
       "    </tr>\n",
       "    <tr>\n",
       "      <th>Kilometer</th>\n",
       "      <td>354369.0</td>\n",
       "      <td>128211.172535</td>\n",
       "      <td>37905.341530</td>\n",
       "      <td>5000.0</td>\n",
       "      <td>125000.0</td>\n",
       "      <td>150000.0</td>\n",
       "      <td>150000.0</td>\n",
       "      <td>150000.0</td>\n",
       "    </tr>\n",
       "    <tr>\n",
       "      <th>RegistrationMonth</th>\n",
       "      <td>354369.0</td>\n",
       "      <td>5.714645</td>\n",
       "      <td>3.726421</td>\n",
       "      <td>0.0</td>\n",
       "      <td>3.0</td>\n",
       "      <td>6.0</td>\n",
       "      <td>9.0</td>\n",
       "      <td>12.0</td>\n",
       "    </tr>\n",
       "    <tr>\n",
       "      <th>NumberOfPictures</th>\n",
       "      <td>354369.0</td>\n",
       "      <td>0.000000</td>\n",
       "      <td>0.000000</td>\n",
       "      <td>0.0</td>\n",
       "      <td>0.0</td>\n",
       "      <td>0.0</td>\n",
       "      <td>0.0</td>\n",
       "      <td>0.0</td>\n",
       "    </tr>\n",
       "    <tr>\n",
       "      <th>PostalCode</th>\n",
       "      <td>354369.0</td>\n",
       "      <td>50508.689087</td>\n",
       "      <td>25783.096248</td>\n",
       "      <td>1067.0</td>\n",
       "      <td>30165.0</td>\n",
       "      <td>49413.0</td>\n",
       "      <td>71083.0</td>\n",
       "      <td>99998.0</td>\n",
       "    </tr>\n",
       "  </tbody>\n",
       "</table>\n",
       "</div>"
      ],
      "text/plain": [
       "                      count           mean           std     min       25%  \\\n",
       "Price              354369.0    4416.656776   4514.158514     0.0    1050.0   \n",
       "RegistrationYear   354369.0    2004.234448     90.227958  1000.0    1999.0   \n",
       "Power              354369.0     110.094337    189.850405     0.0      69.0   \n",
       "Kilometer          354369.0  128211.172535  37905.341530  5000.0  125000.0   \n",
       "RegistrationMonth  354369.0       5.714645      3.726421     0.0       3.0   \n",
       "NumberOfPictures   354369.0       0.000000      0.000000     0.0       0.0   \n",
       "PostalCode         354369.0   50508.689087  25783.096248  1067.0   30165.0   \n",
       "\n",
       "                        50%       75%       max  \n",
       "Price                2700.0    6400.0   20000.0  \n",
       "RegistrationYear     2003.0    2008.0    9999.0  \n",
       "Power                 105.0     143.0   20000.0  \n",
       "Kilometer          150000.0  150000.0  150000.0  \n",
       "RegistrationMonth       6.0       9.0      12.0  \n",
       "NumberOfPictures        0.0       0.0       0.0  \n",
       "PostalCode          49413.0   71083.0   99998.0  "
      ]
     },
     "execution_count": 7,
     "metadata": {},
     "output_type": "execute_result"
    }
   ],
   "source": [
    "data.describe().T"
   ]
  },
  {
   "cell_type": "markdown",
   "metadata": {
    "id": "NklV6VmEAqNW"
   },
   "source": [
    "Выводы по результатам обзора данных:\n",
    "- В столбцах с ценой, мощностью двигателя и месяца регистрации присутстсвуют нулевые значения. Это маловероятно, поэтому следует изучить их и определить необходимость их заполнения.\n",
    "- В столбце с мощностью двигателя также есть экстремальные, невозможные значения, скорее всего вызванные ошибкой внесения данных. Их также необходимо изучить и исправить.\n",
    "- В столбце в годом регистрации есть значения 1000 и 9999, это невозможно, следовательно необходимо определить точные значения года регистрации для таких наблюдений.\n",
    "- В столбце с индексом есть четырехзначные числа, что маловероятно, так как большинство индексов пятизначные. Так как правила формирования индекса не российские, где строго зафиксирован шестизначный формат индексов, однозначно сказать, какой принцип лежит в основе формирования индексов, нельзя, поэтому также необходимо отдельно изучить их.\n",
    "- Столбец с количеством изображений пуст, соответственно его необходимо отбросить.\n",
    "- В столбцах `VehicleType`, `Gearbox`, `Model`, `FuelType`, `NotRepaired` есть пропуски, необходимо их изучить и заполнить."
   ]
  },
  {
   "cell_type": "markdown",
   "metadata": {
    "id": "dq5u2HKlAqNW"
   },
   "source": [
    "### Подготовка данных"
   ]
  },
  {
   "cell_type": "markdown",
   "metadata": {
    "id": "8yVqazkEAqNX"
   },
   "source": [
    "Сперва исправим пропуски в данных."
   ]
  },
  {
   "cell_type": "markdown",
   "metadata": {
    "id": "4ZY3Ydd4AqNX"
   },
   "source": [
    "Заполним пропуски в названии модели. Заполнять будем значением \"Unknown\", так как определить модель на основании прочих данных не представляется возможным."
   ]
  },
  {
   "cell_type": "code",
   "execution_count": 8,
   "metadata": {
    "id": "nNIyqpt-AqNX"
   },
   "outputs": [],
   "source": [
    "data['Model'].fillna('Unknown', inplace=True)"
   ]
  },
  {
   "cell_type": "markdown",
   "metadata": {
    "id": "15KBgXKYAqNZ"
   },
   "source": [
    "Пропуски в столбце `VehicleType` можно заменить на имеющееся значение типа транспорта для этой модели этого бренда."
   ]
  },
  {
   "cell_type": "code",
   "execution_count": 9,
   "metadata": {
    "id": "3kN6D9zEAqNa",
    "scrolled": true
   },
   "outputs": [],
   "source": [
    "model_type = data.pivot_table(index=['Model', 'Brand'], values='VehicleType', aggfunc='first').to_dict()['VehicleType']\n",
    "model_type = {keys[0]+keys[1]:item for keys, item in model_type.items()}\n",
    "data['VehicleType'].fillna((data['Model'] + data['Brand']).map(model_type), inplace=True)"
   ]
  },
  {
   "cell_type": "markdown",
   "metadata": {
    "id": "5p-z0wnjAqNb"
   },
   "source": [
    "Заменим неизвестные значения типа топлива и коробки передач по тому же принципу."
   ]
  },
  {
   "cell_type": "code",
   "execution_count": 10,
   "metadata": {
    "id": "7_emS4gaAqNb"
   },
   "outputs": [],
   "source": [
    "model_fuel = data.pivot_table(index=['Model', 'Brand'], values='FuelType', aggfunc='first').to_dict()['FuelType']\n",
    "model_fuel = {keys[0]+keys[1]:item for keys, item in model_fuel.items()}\n",
    "data['FuelType'].fillna((data['Model'] + data['Brand']).map(model_fuel), inplace=True)"
   ]
  },
  {
   "cell_type": "code",
   "execution_count": 11,
   "metadata": {
    "id": "kYdurFecAqNc"
   },
   "outputs": [],
   "source": [
    "model_Gearbox = data.pivot_table(index=['Model', 'Brand'], values='Gearbox', aggfunc='first').to_dict()['Gearbox']\n",
    "model_Gearbox = {keys[0]+keys[1]:item for keys, item in model_Gearbox.items()}\n",
    "data['Gearbox'].fillna((data['Model'] + data['Brand']).map(model_Gearbox), inplace=True)"
   ]
  },
  {
   "cell_type": "markdown",
   "metadata": {
    "id": "Y1ZtbAwIAqNc"
   },
   "source": [
    "Пропуски в столбце `NotRepaired` можно интерпретировать как отсутствие ремонтных работ с автомобилем."
   ]
  },
  {
   "cell_type": "code",
   "execution_count": 12,
   "metadata": {
    "id": "uVz4wfiNAqNd"
   },
   "outputs": [],
   "source": [
    "data['NotRepaired'].fillna('no', inplace=True)"
   ]
  },
  {
   "cell_type": "code",
   "execution_count": 13,
   "metadata": {
    "colab": {
     "base_uri": "https://localhost:8080/"
    },
    "id": "Y7G4oaCuAqNd",
    "outputId": "a0fbb313-241d-4ea5-d622-f6620d8e7ca8",
    "scrolled": true
   },
   "outputs": [
    {
     "data": {
      "text/plain": [
       "DateCrawled          0.0\n",
       "Price                0.0\n",
       "VehicleType          0.0\n",
       "RegistrationYear     0.0\n",
       "Gearbox              0.0\n",
       "Power                0.0\n",
       "Model                0.0\n",
       "Kilometer            0.0\n",
       "RegistrationMonth    0.0\n",
       "FuelType             0.0\n",
       "Brand                0.0\n",
       "NotRepaired          0.0\n",
       "DateCreated          0.0\n",
       "NumberOfPictures     0.0\n",
       "PostalCode           0.0\n",
       "LastSeen             0.0\n",
       "dtype: float64"
      ]
     },
     "execution_count": 13,
     "metadata": {},
     "output_type": "execute_result"
    }
   ],
   "source": [
    "data.isna().sum() / data.shape[0] * 100"
   ]
  },
  {
   "cell_type": "markdown",
   "metadata": {
    "id": "UUsJ_mBJAqNd"
   },
   "source": [
    "Изучим значения цены. Построим распределение цены."
   ]
  },
  {
   "cell_type": "code",
   "execution_count": 14,
   "metadata": {
    "colab": {
     "base_uri": "https://localhost:8080/",
     "height": 320
    },
    "id": "xFj-ycp9AqNe",
    "outputId": "72da90f6-e54f-4160-929c-554b06b4f49b"
   },
   "outputs": [
    {
     "data": {
      "image/png": "[encoded data removed]",
      "text/plain": [
       "<Figure size 1080x360 with 1 Axes>"
      ]
     },
     "metadata": {
      "needs_background": "light"
     },
     "output_type": "display_data"
    }
   ],
   "source": [
    "plt.figure(figsize=(15,5))\n",
    "data['Price'].plot(kind='hist', bins=100)\n",
    "plt.xticks(range(0,20000,1000))\n",
    "plt.show()"
   ]
  },
  {
   "cell_type": "markdown",
   "metadata": {
    "id": "qiBdoRTWAqNf"
   },
   "source": [
    "На графике видно, что есть значительное число предложений до 1000 и даже до 100 евро. Стоимость автомобиля меньше 100 евро маловероятна, поэтому следует отбросить такие наблюдения. Заполнение таких значений невозможно, так как это напрямую повлияет на обучение модели в худшую сторону."
   ]
  },
  {
   "cell_type": "code",
   "execution_count": 15,
   "metadata": {
    "id": "XYVosLu9AqNf"
   },
   "outputs": [],
   "source": [
    "data = data[data['Price']>=100]"
   ]
  },
  {
   "cell_type": "markdown",
   "metadata": {
    "id": "e6vlFJIlAqNg"
   },
   "source": [
    "Изучим аномальные значения в столбце с мощностью двигателя."
   ]
  },
  {
   "cell_type": "code",
   "execution_count": 16,
   "metadata": {
    "colab": {
     "base_uri": "https://localhost:8080/",
     "height": 439
    },
    "id": "Tks-RnblAqNg",
    "outputId": "be252de3-28e8-4c6b-a82d-98e6b6eba6d0"
   },
   "outputs": [
    {
     "data": {
      "text/plain": [
       "count    341055.000000\n",
       "mean        111.396197\n",
       "std         188.373379\n",
       "min           0.000000\n",
       "50%         105.000000\n",
       "95%         218.000000\n",
       "99%         300.000000\n",
       "99.9%       606.000000\n",
       "max       20000.000000\n",
       "Name: Power, dtype: float64"
      ]
     },
     "execution_count": 16,
     "metadata": {},
     "output_type": "execute_result"
    },
    {
     "data": {
      "image/png": "[encoded data removed]",
      "text/plain": [
       "<Figure size 432x288 with 1 Axes>"
      ]
     },
     "metadata": {
      "needs_background": "light"
     },
     "output_type": "display_data"
    }
   ],
   "source": [
    "data['Power'].plot(kind='box')\n",
    "data['Power'].describe(percentiles=(.95,.99,.999))"
   ]
  },
  {
   "cell_type": "markdown",
   "metadata": {
    "id": "UnRoDoY_AqNg"
   },
   "source": [
    "Самый мощный двигатель легкового автомобиля не превышает 650 лошадиных сил. Вероятнее всего при внесении данных были допущены ошибки, поэтому такие аномально большие значения можно исключить из датасета, учитывая, что они не превышают 0,1% от датасета."
   ]
  },
  {
   "cell_type": "code",
   "execution_count": 17,
   "metadata": {
    "id": "E63_hXTnAqNh"
   },
   "outputs": [],
   "source": [
    "data = data[data['Power']<650]"
   ]
  },
  {
   "cell_type": "markdown",
   "metadata": {
    "id": "BPMGc5XZAqNh"
   },
   "source": [
    "Изучим нулевые значения в столбце мощности двигателя."
   ]
  },
  {
   "cell_type": "code",
   "execution_count": 18,
   "metadata": {
    "colab": {
     "base_uri": "https://localhost:8080/",
     "height": 421
    },
    "id": "DGuEzAydAqNh",
    "outputId": "8cb7d441-e7e9-4baa-aa84-33120713d9b3"
   },
   "outputs": [
    {
     "data": {
      "text/plain": [
       "count    340722.000000\n",
       "mean        107.918635\n",
       "std          62.804194\n",
       "min           0.000000\n",
       "10%           0.000000\n",
       "11%          44.000000\n",
       "50%         105.000000\n",
       "max         645.000000\n",
       "Name: Power, dtype: float64"
      ]
     },
     "execution_count": 18,
     "metadata": {},
     "output_type": "execute_result"
    },
    {
     "data": {
      "image/png": "[encoded data removed]",
      "text/plain": [
       "<Figure size 432x288 with 1 Axes>"
      ]
     },
     "metadata": {
      "needs_background": "light"
     },
     "output_type": "display_data"
    }
   ],
   "source": [
    "data['Power'].plot(kind='box')\n",
    "data['Power'].describe(percentiles=(.1,.11))"
   ]
  },
  {
   "cell_type": "markdown",
   "metadata": {
    "id": "6auc61G7AqNi"
   },
   "source": [
    "Нулевые значения составяляют более 10% от датасета.\n",
    "\n",
    "Мощность двигателя напрямую связана с моделью автомобиля, соответственно можно заполнить нулевые значения средним по модели."
   ]
  },
  {
   "cell_type": "code",
   "execution_count": 19,
   "metadata": {
    "id": "fnEJ3-ZmAqNi"
   },
   "outputs": [],
   "source": [
    "model_power = data.pivot_table(index='Model', values='Power', aggfunc='mean').to_dict()['Power']\n",
    "data.loc[data['Power']==0,'Power'] = data[data['Power']==0]['Model'].map(model_power)"
   ]
  },
  {
   "cell_type": "markdown",
   "metadata": {
    "id": "nRumjiVuAqNi"
   },
   "source": [
    "Проверим наличие нулевых значений."
   ]
  },
  {
   "cell_type": "code",
   "execution_count": 20,
   "metadata": {
    "colab": {
     "base_uri": "https://localhost:8080/",
     "height": 179
    },
    "id": "mRs4o9t8AqNj",
    "outputId": "8bf06964-b4bf-487d-e21b-a49bda983727",
    "scrolled": true
   },
   "outputs": [
    {
     "data": {
      "text/html": [
       "<div>\n",
       "<style scoped>\n",
       "    .dataframe tbody tr th:only-of-type {\n",
       "        vertical-align: middle;\n",
       "    }\n",
       "\n",
       "    .dataframe tbody tr th {\n",
       "        vertical-align: top;\n",
       "    }\n",
       "\n",
       "    .dataframe thead th {\n",
       "        text-align: right;\n",
       "    }\n",
       "</style>\n",
       "<table border=\"1\" class=\"dataframe\">\n",
       "  <thead>\n",
       "    <tr style=\"text-align: right;\">\n",
       "      <th></th>\n",
       "      <th>DateCrawled</th>\n",
       "      <th>Price</th>\n",
       "      <th>VehicleType</th>\n",
       "      <th>RegistrationYear</th>\n",
       "      <th>Gearbox</th>\n",
       "      <th>Power</th>\n",
       "      <th>Model</th>\n",
       "      <th>Kilometer</th>\n",
       "      <th>RegistrationMonth</th>\n",
       "      <th>FuelType</th>\n",
       "      <th>Brand</th>\n",
       "      <th>NotRepaired</th>\n",
       "      <th>DateCreated</th>\n",
       "      <th>NumberOfPictures</th>\n",
       "      <th>PostalCode</th>\n",
       "      <th>LastSeen</th>\n",
       "    </tr>\n",
       "  </thead>\n",
       "  <tbody>\n",
       "    <tr>\n",
       "      <th>234296</th>\n",
       "      <td>2016-03-30 11:39:08</td>\n",
       "      <td>3800</td>\n",
       "      <td>wagon</td>\n",
       "      <td>1978</td>\n",
       "      <td>manual</td>\n",
       "      <td>0.0</td>\n",
       "      <td>serie_1</td>\n",
       "      <td>30000</td>\n",
       "      <td>0</td>\n",
       "      <td>gasoline</td>\n",
       "      <td>land_rover</td>\n",
       "      <td>no</td>\n",
       "      <td>2016-03-30 00:00:00</td>\n",
       "      <td>0</td>\n",
       "      <td>49824</td>\n",
       "      <td>2016-03-30 11:39:08</td>\n",
       "    </tr>\n",
       "  </tbody>\n",
       "</table>\n",
       "</div>"
      ],
      "text/plain": [
       "                DateCrawled  Price VehicleType  RegistrationYear Gearbox  \\\n",
       "234296  2016-03-30 11:39:08   3800       wagon              1978  manual   \n",
       "\n",
       "        Power    Model  Kilometer  RegistrationMonth  FuelType       Brand  \\\n",
       "234296    0.0  serie_1      30000                  0  gasoline  land_rover   \n",
       "\n",
       "       NotRepaired          DateCreated  NumberOfPictures  PostalCode  \\\n",
       "234296          no  2016-03-30 00:00:00                 0       49824   \n",
       "\n",
       "                   LastSeen  \n",
       "234296  2016-03-30 11:39:08  "
      ]
     },
     "execution_count": 20,
     "metadata": {},
     "output_type": "execute_result"
    }
   ],
   "source": [
    "data.loc[data['Power']==0]"
   ]
  },
  {
   "cell_type": "markdown",
   "metadata": {
    "id": "zRNwyjFHAqNj"
   },
   "source": [
    "Осталась одна строчка с нулевой мощностью, вероятно это единственная модель этого автомобиля, выставлявшаяся на продажу. Заполним значение мощности средним по году и бренду автомобиля."
   ]
  },
  {
   "cell_type": "code",
   "execution_count": 21,
   "metadata": {
    "colab": {
     "base_uri": "https://localhost:8080/"
    },
    "id": "Rc5aMvkjAqNj",
    "outputId": "2438b2a5-5a2b-40da-c4de-90a306f6cb30"
   },
   "outputs": [
    {
     "data": {
      "text/plain": [
       "71.55741742253261"
      ]
     },
     "execution_count": 21,
     "metadata": {},
     "output_type": "execute_result"
    }
   ],
   "source": [
    "model_power = data.pivot_table(index='Brand', columns='RegistrationYear', values='Power', aggfunc='mean').to_dict()[1978]['land_rover']\n",
    "model_power"
   ]
  },
  {
   "cell_type": "code",
   "execution_count": 22,
   "metadata": {
    "id": "hpNIVZj8AqNj"
   },
   "outputs": [],
   "source": [
    "data.loc[data['Power']==0,'Power'] = model_power"
   ]
  },
  {
   "cell_type": "code",
   "execution_count": 23,
   "metadata": {
    "colab": {
     "base_uri": "https://localhost:8080/",
     "height": 49
    },
    "id": "CpXsUy16AqNk",
    "outputId": "5fa9a09a-1e61-46dd-b1f6-c0b1bd0ba497",
    "scrolled": true
   },
   "outputs": [
    {
     "data": {
      "text/html": [
       "<div>\n",
       "<style scoped>\n",
       "    .dataframe tbody tr th:only-of-type {\n",
       "        vertical-align: middle;\n",
       "    }\n",
       "\n",
       "    .dataframe tbody tr th {\n",
       "        vertical-align: top;\n",
       "    }\n",
       "\n",
       "    .dataframe thead th {\n",
       "        text-align: right;\n",
       "    }\n",
       "</style>\n",
       "<table border=\"1\" class=\"dataframe\">\n",
       "  <thead>\n",
       "    <tr style=\"text-align: right;\">\n",
       "      <th></th>\n",
       "      <th>DateCrawled</th>\n",
       "      <th>Price</th>\n",
       "      <th>VehicleType</th>\n",
       "      <th>RegistrationYear</th>\n",
       "      <th>Gearbox</th>\n",
       "      <th>Power</th>\n",
       "      <th>Model</th>\n",
       "      <th>Kilometer</th>\n",
       "      <th>RegistrationMonth</th>\n",
       "      <th>FuelType</th>\n",
       "      <th>Brand</th>\n",
       "      <th>NotRepaired</th>\n",
       "      <th>DateCreated</th>\n",
       "      <th>NumberOfPictures</th>\n",
       "      <th>PostalCode</th>\n",
       "      <th>LastSeen</th>\n",
       "    </tr>\n",
       "  </thead>\n",
       "  <tbody>\n",
       "  </tbody>\n",
       "</table>\n",
       "</div>"
      ],
      "text/plain": [
       "Empty DataFrame\n",
       "Columns: [DateCrawled, Price, VehicleType, RegistrationYear, Gearbox, Power, Model, Kilometer, RegistrationMonth, FuelType, Brand, NotRepaired, DateCreated, NumberOfPictures, PostalCode, LastSeen]\n",
       "Index: []"
      ]
     },
     "execution_count": 23,
     "metadata": {},
     "output_type": "execute_result"
    }
   ],
   "source": [
    "data.loc[data['Power']==0]"
   ]
  },
  {
   "cell_type": "markdown",
   "metadata": {
    "id": "Tmj4FktcAqNk"
   },
   "source": [
    "После заполнения в столбце мощности двигателя отсутствуют нулевые значения."
   ]
  },
  {
   "cell_type": "markdown",
   "metadata": {
    "id": "kt0nWMAwAqNk"
   },
   "source": [
    "Изучим значения месяца регистрации."
   ]
  },
  {
   "cell_type": "code",
   "execution_count": 24,
   "metadata": {
    "colab": {
     "base_uri": "https://localhost:8080/",
     "height": 488
    },
    "id": "ny8tJKJWAqNk",
    "outputId": "945d03fd-a3f6-4b26-ba86-7f866de6bc99"
   },
   "outputs": [
    {
     "data": {
      "text/html": [
       "<div>\n",
       "<style scoped>\n",
       "    .dataframe tbody tr th:only-of-type {\n",
       "        vertical-align: middle;\n",
       "    }\n",
       "\n",
       "    .dataframe tbody tr th {\n",
       "        vertical-align: top;\n",
       "    }\n",
       "\n",
       "    .dataframe thead th {\n",
       "        text-align: right;\n",
       "    }\n",
       "</style>\n",
       "<table border=\"1\" class=\"dataframe\">\n",
       "  <thead>\n",
       "    <tr style=\"text-align: right;\">\n",
       "      <th></th>\n",
       "      <th>Price</th>\n",
       "    </tr>\n",
       "    <tr>\n",
       "      <th>RegistrationMonth</th>\n",
       "      <th></th>\n",
       "    </tr>\n",
       "  </thead>\n",
       "  <tbody>\n",
       "    <tr>\n",
       "      <th>0</th>\n",
       "      <td>31591</td>\n",
       "    </tr>\n",
       "    <tr>\n",
       "      <th>1</th>\n",
       "      <td>22473</td>\n",
       "    </tr>\n",
       "    <tr>\n",
       "      <th>2</th>\n",
       "      <td>20696</td>\n",
       "    </tr>\n",
       "    <tr>\n",
       "      <th>3</th>\n",
       "      <td>33666</td>\n",
       "    </tr>\n",
       "    <tr>\n",
       "      <th>4</th>\n",
       "      <td>28548</td>\n",
       "    </tr>\n",
       "    <tr>\n",
       "      <th>5</th>\n",
       "      <td>28377</td>\n",
       "    </tr>\n",
       "    <tr>\n",
       "      <th>6</th>\n",
       "      <td>30691</td>\n",
       "    </tr>\n",
       "    <tr>\n",
       "      <th>7</th>\n",
       "      <td>26549</td>\n",
       "    </tr>\n",
       "    <tr>\n",
       "      <th>8</th>\n",
       "      <td>22037</td>\n",
       "    </tr>\n",
       "    <tr>\n",
       "      <th>9</th>\n",
       "      <td>23267</td>\n",
       "    </tr>\n",
       "    <tr>\n",
       "      <th>10</th>\n",
       "      <td>25519</td>\n",
       "    </tr>\n",
       "    <tr>\n",
       "      <th>11</th>\n",
       "      <td>23671</td>\n",
       "    </tr>\n",
       "    <tr>\n",
       "      <th>12</th>\n",
       "      <td>23637</td>\n",
       "    </tr>\n",
       "  </tbody>\n",
       "</table>\n",
       "</div>"
      ],
      "text/plain": [
       "                   Price\n",
       "RegistrationMonth       \n",
       "0                  31591\n",
       "1                  22473\n",
       "2                  20696\n",
       "3                  33666\n",
       "4                  28548\n",
       "5                  28377\n",
       "6                  30691\n",
       "7                  26549\n",
       "8                  22037\n",
       "9                  23267\n",
       "10                 25519\n",
       "11                 23671\n",
       "12                 23637"
      ]
     },
     "execution_count": 24,
     "metadata": {},
     "output_type": "execute_result"
    }
   ],
   "source": [
    "data.pivot_table(index='RegistrationMonth', values='Price', aggfunc='count')"
   ]
  },
  {
   "cell_type": "markdown",
   "metadata": {
    "id": "0tKa9PG-AqNl"
   },
   "source": [
    "Вероятнее всего нулевым значением записан январь при записи месяцев в формате 0-11. Но в таблице также присутствует запись в формате 1-12. Таким образом часть данных смещена, а точно понять, в какой месяц был зарегистрирован тот или иной автомобиль, невозможно. Однако, данные о месяце регистрации вряд ли значительно повлияют на значении цены, поэтому восстановим для 0 значение 1, то есть января."
   ]
  },
  {
   "cell_type": "code",
   "execution_count": 25,
   "metadata": {
    "id": "ygr6rPwOAqNl"
   },
   "outputs": [],
   "source": [
    "data['RegistrationMonth'] = data['RegistrationMonth'].replace(0, 1)"
   ]
  },
  {
   "cell_type": "markdown",
   "metadata": {
    "id": "2op8r4qhAqNl"
   },
   "source": [
    "Изучим год регистрации."
   ]
  },
  {
   "cell_type": "code",
   "execution_count": 26,
   "metadata": {
    "colab": {
     "base_uri": "https://localhost:8080/",
     "height": 286
    },
    "id": "oNfcMywWAqNl",
    "outputId": "3066014b-c308-4ff4-9be2-3f6f1ef88c83"
   },
   "outputs": [
    {
     "data": {
      "text/plain": [
       "(1800.0, 2100.0)"
      ]
     },
     "execution_count": 26,
     "metadata": {},
     "output_type": "execute_result"
    },
    {
     "data": {
      "image/png": "[encoded data removed]",
      "text/plain": [
       "<Figure size 432x288 with 1 Axes>"
      ]
     },
     "metadata": {
      "needs_background": "light"
     },
     "output_type": "display_data"
    }
   ],
   "source": [
    "data['RegistrationYear'].plot(kind='box')\n",
    "plt.ylim(1800,2100)"
   ]
  },
  {
   "cell_type": "code",
   "execution_count": 27,
   "metadata": {
    "colab": {
     "base_uri": "https://localhost:8080/"
    },
    "id": "WoUlU8ZOAqNm",
    "outputId": "8889cb8f-9435-46e9-ff4f-04cc0297f462"
   },
   "outputs": [
    {
     "name": "stderr",
     "output_type": "stream",
     "text": [
      "/tmp/ipykernel_508/2326366844.py:1: FutureWarning: Treating datetime data as categorical rather than numeric in `.describe` is deprecated and will be removed in a future version of pandas. Specify `datetime_is_numeric=True` to silence this warning and adopt the future behavior now.\n",
      "  pd.to_datetime(data['DateCrawled']).describe()\n"
     ]
    },
    {
     "data": {
      "text/plain": [
       "count                  340722\n",
       "unique                 263505\n",
       "top       2016-03-24 14:49:47\n",
       "freq                        7\n",
       "first     2016-03-05 14:06:22\n",
       "last      2016-04-07 14:36:58\n",
       "Name: DateCrawled, dtype: object"
      ]
     },
     "execution_count": 27,
     "metadata": {},
     "output_type": "execute_result"
    }
   ],
   "source": [
    "pd.to_datetime(data['DateCrawled']).describe()"
   ]
  },
  {
   "cell_type": "markdown",
   "metadata": {
    "id": "YzgWGY6IAqNm"
   },
   "source": [
    "Такие значения невозможны, но модель обычно имеет ограниченный срок продажи, что позволяет заполнить год регистрации средним значением для конкретной модели.\n",
    "\n",
    "При этом автомобиль не может быть выпущен после 2016 года, так как выгрузка данных производилась в 2016 году. Нижний порог установим в 1909 год, так как это дата начала массовой регистрации автомобилей и принятия Международной Конвенции относительно передвижения автомобилей, регламентировавшей необходимость регистрации автомобилей.\n",
    "\n",
    "Заменим значения для моделей, зарегистрированных позже 2016 года и раньше 1909 года."
   ]
  },
  {
   "cell_type": "code",
   "execution_count": 28,
   "metadata": {
    "id": "XOziRA-0AqNm"
   },
   "outputs": [],
   "source": [
    "model_year = data.pivot_table(index='Model', values='RegistrationYear', aggfunc='mean').to_dict()['RegistrationYear']\n",
    "data.loc[(data['RegistrationYear']>2016)|\n",
    "         (data['RegistrationYear']<1909),'RegistrationYear'] = data[(data['RegistrationYear']>2016)|\n",
    "                                                                    (data['RegistrationYear']<1909)]['Model'].map(model_year)"
   ]
  },
  {
   "cell_type": "markdown",
   "metadata": {
    "id": "rOecMrkqAqNn"
   },
   "source": [
    "Проверим, все ли необходимые значения были скорректированы."
   ]
  },
  {
   "cell_type": "code",
   "execution_count": 29,
   "metadata": {
    "colab": {
     "base_uri": "https://localhost:8080/",
     "height": 284
    },
    "id": "CZtjkudlAqNo",
    "outputId": "8277fff9-b6b6-4ebe-9384-ce7a0c0cb54a"
   },
   "outputs": [
    {
     "data": {
      "text/plain": [
       "<AxesSubplot:>"
      ]
     },
     "execution_count": 29,
     "metadata": {},
     "output_type": "execute_result"
    },
    {
     "data": {
      "image/png": "[encoded data removed]",
      "text/plain": [
       "<Figure size 432x288 with 1 Axes>"
      ]
     },
     "metadata": {
      "needs_background": "light"
     },
     "output_type": "display_data"
    }
   ],
   "source": [
    "data['RegistrationYear'].plot(kind='box')"
   ]
  },
  {
   "cell_type": "markdown",
   "metadata": {
    "id": "Flr1Wf_PAqNo"
   },
   "source": [
    "Все некорректные значения были заполнены.\n",
    "\n",
    "Изучим значения индекса."
   ]
  },
  {
   "cell_type": "code",
   "execution_count": 30,
   "metadata": {
    "colab": {
     "base_uri": "https://localhost:8080/"
    },
    "id": "DlDyPpSUAqNo",
    "outputId": "3f56d765-0cb9-4633-a8d7-6a54e9196263"
   },
   "outputs": [
    {
     "data": {
      "text/plain": [
       "count    340722.000000\n",
       "mean      50700.747213\n",
       "std       25733.572257\n",
       "min        1067.000000\n",
       "1%         2708.000000\n",
       "4.9%       9619.000000\n",
       "50%       49525.000000\n",
       "max       99998.000000\n",
       "Name: PostalCode, dtype: float64"
      ]
     },
     "execution_count": 30,
     "metadata": {},
     "output_type": "execute_result"
    }
   ],
   "source": [
    "data['PostalCode'].describe(percentiles=(.01,.049))"
   ]
  },
  {
   "cell_type": "markdown",
   "metadata": {
    "id": "uoRnuj4wAqNo"
   },
   "source": [
    "Около 5% значений индекса указаны некорректно. Так как никакой релевантной информации, которая помогла бы восстановить это значение, нет, будем считать, что при заполнении была пропущена последняя цифра.\n",
    "\n",
    "В текущем виде для обучения модели индексы не очень подходят, разбиение слишком велико. Однако если укрупнить это значение, взяв только три первые цифры индекса, можно получить распределение продаж автомобилей по укрупненным регионам."
   ]
  },
  {
   "cell_type": "code",
   "execution_count": 31,
   "metadata": {
    "id": "MnjwNfKfAqNp"
   },
   "outputs": [],
   "source": [
    "data['PostalCode'] = data['PostalCode'].astype('str').apply(lambda x: x[:3]).astype('int')"
   ]
  },
  {
   "cell_type": "markdown",
   "metadata": {
    "id": "rlbnP_XHAqNp"
   },
   "source": [
    "Отбросим столбцы с количеством изображений и датами."
   ]
  },
  {
   "cell_type": "code",
   "execution_count": 32,
   "metadata": {
    "id": "VVx9me6xAqNp"
   },
   "outputs": [],
   "source": [
    "data.drop(['NumberOfPictures', 'DateCrawled',  'DateCreated',  'LastSeen'], axis=1, inplace=True)"
   ]
  },
  {
   "cell_type": "markdown",
   "metadata": {
    "id": "g_l3Pp7_AqNq"
   },
   "source": [
    "Проверим, все ли ошибки и неточности в данных устранены."
   ]
  },
  {
   "cell_type": "code",
   "execution_count": 33,
   "metadata": {
    "colab": {
     "base_uri": "https://localhost:8080/",
     "height": 206
    },
    "id": "YS_hW2mIAqNq",
    "outputId": "8a141245-f13f-44ff-d7f5-708b6db35dce",
    "scrolled": true
   },
   "outputs": [
    {
     "data": {
      "text/html": [
       "<div>\n",
       "<style scoped>\n",
       "    .dataframe tbody tr th:only-of-type {\n",
       "        vertical-align: middle;\n",
       "    }\n",
       "\n",
       "    .dataframe tbody tr th {\n",
       "        vertical-align: top;\n",
       "    }\n",
       "\n",
       "    .dataframe thead th {\n",
       "        text-align: right;\n",
       "    }\n",
       "</style>\n",
       "<table border=\"1\" class=\"dataframe\">\n",
       "  <thead>\n",
       "    <tr style=\"text-align: right;\">\n",
       "      <th></th>\n",
       "      <th>Price</th>\n",
       "      <th>VehicleType</th>\n",
       "      <th>RegistrationYear</th>\n",
       "      <th>Gearbox</th>\n",
       "      <th>Power</th>\n",
       "      <th>Model</th>\n",
       "      <th>Kilometer</th>\n",
       "      <th>RegistrationMonth</th>\n",
       "      <th>FuelType</th>\n",
       "      <th>Brand</th>\n",
       "      <th>NotRepaired</th>\n",
       "      <th>PostalCode</th>\n",
       "    </tr>\n",
       "  </thead>\n",
       "  <tbody>\n",
       "    <tr>\n",
       "      <th>0</th>\n",
       "      <td>480</td>\n",
       "      <td>small</td>\n",
       "      <td>1993.0</td>\n",
       "      <td>manual</td>\n",
       "      <td>96.678293</td>\n",
       "      <td>golf</td>\n",
       "      <td>150000</td>\n",
       "      <td>1</td>\n",
       "      <td>petrol</td>\n",
       "      <td>volkswagen</td>\n",
       "      <td>no</td>\n",
       "      <td>704</td>\n",
       "    </tr>\n",
       "    <tr>\n",
       "      <th>1</th>\n",
       "      <td>18300</td>\n",
       "      <td>coupe</td>\n",
       "      <td>2011.0</td>\n",
       "      <td>manual</td>\n",
       "      <td>190.000000</td>\n",
       "      <td>Unknown</td>\n",
       "      <td>125000</td>\n",
       "      <td>5</td>\n",
       "      <td>gasoline</td>\n",
       "      <td>audi</td>\n",
       "      <td>yes</td>\n",
       "      <td>669</td>\n",
       "    </tr>\n",
       "    <tr>\n",
       "      <th>2</th>\n",
       "      <td>9800</td>\n",
       "      <td>suv</td>\n",
       "      <td>2004.0</td>\n",
       "      <td>auto</td>\n",
       "      <td>163.000000</td>\n",
       "      <td>grand</td>\n",
       "      <td>125000</td>\n",
       "      <td>8</td>\n",
       "      <td>gasoline</td>\n",
       "      <td>jeep</td>\n",
       "      <td>no</td>\n",
       "      <td>904</td>\n",
       "    </tr>\n",
       "    <tr>\n",
       "      <th>3</th>\n",
       "      <td>1500</td>\n",
       "      <td>small</td>\n",
       "      <td>2001.0</td>\n",
       "      <td>manual</td>\n",
       "      <td>75.000000</td>\n",
       "      <td>golf</td>\n",
       "      <td>150000</td>\n",
       "      <td>6</td>\n",
       "      <td>petrol</td>\n",
       "      <td>volkswagen</td>\n",
       "      <td>no</td>\n",
       "      <td>910</td>\n",
       "    </tr>\n",
       "    <tr>\n",
       "      <th>4</th>\n",
       "      <td>3600</td>\n",
       "      <td>small</td>\n",
       "      <td>2008.0</td>\n",
       "      <td>manual</td>\n",
       "      <td>69.000000</td>\n",
       "      <td>fabia</td>\n",
       "      <td>90000</td>\n",
       "      <td>7</td>\n",
       "      <td>gasoline</td>\n",
       "      <td>skoda</td>\n",
       "      <td>no</td>\n",
       "      <td>604</td>\n",
       "    </tr>\n",
       "  </tbody>\n",
       "</table>\n",
       "</div>"
      ],
      "text/plain": [
       "   Price VehicleType  RegistrationYear Gearbox       Power    Model  \\\n",
       "0    480       small            1993.0  manual   96.678293     golf   \n",
       "1  18300       coupe            2011.0  manual  190.000000  Unknown   \n",
       "2   9800         suv            2004.0    auto  163.000000    grand   \n",
       "3   1500       small            2001.0  manual   75.000000     golf   \n",
       "4   3600       small            2008.0  manual   69.000000    fabia   \n",
       "\n",
       "   Kilometer  RegistrationMonth  FuelType       Brand NotRepaired  PostalCode  \n",
       "0     150000                  1    petrol  volkswagen          no         704  \n",
       "1     125000                  5  gasoline        audi         yes         669  \n",
       "2     125000                  8  gasoline        jeep          no         904  \n",
       "3     150000                  6    petrol  volkswagen          no         910  \n",
       "4      90000                  7  gasoline       skoda          no         604  "
      ]
     },
     "execution_count": 33,
     "metadata": {},
     "output_type": "execute_result"
    }
   ],
   "source": [
    "data.head(5)"
   ]
  },
  {
   "cell_type": "code",
   "execution_count": 34,
   "metadata": {
    "colab": {
     "base_uri": "https://localhost:8080/"
    },
    "id": "byaA55D-AqNq",
    "outputId": "339803ce-90d5-4d81-be22-7ecae8a683eb",
    "scrolled": true
   },
   "outputs": [
    {
     "data": {
      "text/plain": [
       "Price                0.0\n",
       "VehicleType          0.0\n",
       "RegistrationYear     0.0\n",
       "Gearbox              0.0\n",
       "Power                0.0\n",
       "Model                0.0\n",
       "Kilometer            0.0\n",
       "RegistrationMonth    0.0\n",
       "FuelType             0.0\n",
       "Brand                0.0\n",
       "NotRepaired          0.0\n",
       "PostalCode           0.0\n",
       "dtype: float64"
      ]
     },
     "execution_count": 34,
     "metadata": {},
     "output_type": "execute_result"
    }
   ],
   "source": [
    "data.isna().sum() / data.shape[0] * 100"
   ]
  },
  {
   "cell_type": "code",
   "execution_count": 35,
   "metadata": {
    "colab": {
     "base_uri": "https://localhost:8080/"
    },
    "id": "EBRHrPGnAqNq",
    "outputId": "ce6c5658-5d35-439f-8899-66745ed71ded",
    "scrolled": false
   },
   "outputs": [
    {
     "name": "stdout",
     "output_type": "stream",
     "text": [
      "<class 'pandas.core.frame.DataFrame'>\n",
      "Int64Index: 340722 entries, 0 to 354368\n",
      "Data columns (total 12 columns):\n",
      " #   Column             Non-Null Count   Dtype  \n",
      "---  ------             --------------   -----  \n",
      " 0   Price              340722 non-null  int64  \n",
      " 1   VehicleType        340722 non-null  object \n",
      " 2   RegistrationYear   340722 non-null  float64\n",
      " 3   Gearbox            340722 non-null  object \n",
      " 4   Power              340722 non-null  float64\n",
      " 5   Model              340722 non-null  object \n",
      " 6   Kilometer          340722 non-null  int64  \n",
      " 7   RegistrationMonth  340722 non-null  int64  \n",
      " 8   FuelType           340722 non-null  object \n",
      " 9   Brand              340722 non-null  object \n",
      " 10  NotRepaired        340722 non-null  object \n",
      " 11  PostalCode         340722 non-null  int64  \n",
      "dtypes: float64(2), int64(4), object(6)\n",
      "memory usage: 33.8+ MB\n"
     ]
    }
   ],
   "source": [
    "data.info()"
   ]
  },
  {
   "cell_type": "code",
   "execution_count": 36,
   "metadata": {
    "colab": {
     "base_uri": "https://localhost:8080/",
     "height": 238
    },
    "id": "OOO3zHhrAqNr",
    "outputId": "d6b76e98-fae5-4ecb-f448-45f8914b5560"
   },
   "outputs": [
    {
     "data": {
      "text/html": [
       "<div>\n",
       "<style scoped>\n",
       "    .dataframe tbody tr th:only-of-type {\n",
       "        vertical-align: middle;\n",
       "    }\n",
       "\n",
       "    .dataframe tbody tr th {\n",
       "        vertical-align: top;\n",
       "    }\n",
       "\n",
       "    .dataframe thead th {\n",
       "        text-align: right;\n",
       "    }\n",
       "</style>\n",
       "<table border=\"1\" class=\"dataframe\">\n",
       "  <thead>\n",
       "    <tr style=\"text-align: right;\">\n",
       "      <th></th>\n",
       "      <th>count</th>\n",
       "      <th>mean</th>\n",
       "      <th>std</th>\n",
       "      <th>min</th>\n",
       "      <th>25%</th>\n",
       "      <th>50%</th>\n",
       "      <th>75%</th>\n",
       "      <th>max</th>\n",
       "    </tr>\n",
       "  </thead>\n",
       "  <tbody>\n",
       "    <tr>\n",
       "      <th>Price</th>\n",
       "      <td>340722.0</td>\n",
       "      <td>4590.194810</td>\n",
       "      <td>4515.607789</td>\n",
       "      <td>100.0</td>\n",
       "      <td>1200.0</td>\n",
       "      <td>2900.0</td>\n",
       "      <td>6500.0</td>\n",
       "      <td>20000.0</td>\n",
       "    </tr>\n",
       "    <tr>\n",
       "      <th>RegistrationYear</th>\n",
       "      <td>340722.0</td>\n",
       "      <td>2002.697962</td>\n",
       "      <td>6.745673</td>\n",
       "      <td>1910.0</td>\n",
       "      <td>1999.0</td>\n",
       "      <td>2003.0</td>\n",
       "      <td>2007.0</td>\n",
       "      <td>2016.0</td>\n",
       "    </tr>\n",
       "    <tr>\n",
       "      <th>Power</th>\n",
       "      <td>340722.0</td>\n",
       "      <td>118.094245</td>\n",
       "      <td>52.747591</td>\n",
       "      <td>1.0</td>\n",
       "      <td>75.0</td>\n",
       "      <td>109.0</td>\n",
       "      <td>143.0</td>\n",
       "      <td>645.0</td>\n",
       "    </tr>\n",
       "    <tr>\n",
       "      <th>Kilometer</th>\n",
       "      <td>340722.0</td>\n",
       "      <td>128502.591556</td>\n",
       "      <td>37234.110033</td>\n",
       "      <td>5000.0</td>\n",
       "      <td>125000.0</td>\n",
       "      <td>150000.0</td>\n",
       "      <td>150000.0</td>\n",
       "      <td>150000.0</td>\n",
       "    </tr>\n",
       "    <tr>\n",
       "      <th>RegistrationMonth</th>\n",
       "      <td>340722.0</td>\n",
       "      <td>5.891706</td>\n",
       "      <td>3.552264</td>\n",
       "      <td>1.0</td>\n",
       "      <td>3.0</td>\n",
       "      <td>6.0</td>\n",
       "      <td>9.0</td>\n",
       "      <td>12.0</td>\n",
       "    </tr>\n",
       "    <tr>\n",
       "      <th>PostalCode</th>\n",
       "      <td>340722.0</td>\n",
       "      <td>530.616770</td>\n",
       "      <td>242.659623</td>\n",
       "      <td>101.0</td>\n",
       "      <td>327.0</td>\n",
       "      <td>513.0</td>\n",
       "      <td>725.0</td>\n",
       "      <td>999.0</td>\n",
       "    </tr>\n",
       "  </tbody>\n",
       "</table>\n",
       "</div>"
      ],
      "text/plain": [
       "                      count           mean           std     min       25%  \\\n",
       "Price              340722.0    4590.194810   4515.607789   100.0    1200.0   \n",
       "RegistrationYear   340722.0    2002.697962      6.745673  1910.0    1999.0   \n",
       "Power              340722.0     118.094245     52.747591     1.0      75.0   \n",
       "Kilometer          340722.0  128502.591556  37234.110033  5000.0  125000.0   \n",
       "RegistrationMonth  340722.0       5.891706      3.552264     1.0       3.0   \n",
       "PostalCode         340722.0     530.616770    242.659623   101.0     327.0   \n",
       "\n",
       "                        50%       75%       max  \n",
       "Price                2900.0    6500.0   20000.0  \n",
       "RegistrationYear     2003.0    2007.0    2016.0  \n",
       "Power                 109.0     143.0     645.0  \n",
       "Kilometer          150000.0  150000.0  150000.0  \n",
       "RegistrationMonth       6.0       9.0      12.0  \n",
       "PostalCode            513.0     725.0     999.0  "
      ]
     },
     "execution_count": 36,
     "metadata": {},
     "output_type": "execute_result"
    }
   ],
   "source": [
    "data.describe().T"
   ]
  },
  {
   "cell_type": "markdown",
   "metadata": {
    "id": "35xuw7LuAqNr"
   },
   "source": [
    "После всех преобразований данные готовы к анализу."
   ]
  },
  {
   "cell_type": "markdown",
   "metadata": {
    "id": "l0TZGw_UAqNs"
   },
   "source": [
    "### Изучение данных"
   ]
  },
  {
   "cell_type": "markdown",
   "metadata": {
    "id": "sd5GuDZnAqNs"
   },
   "source": [
    "Сперва изучим диаграммы рассеяния численных перменных."
   ]
  },
  {
   "cell_type": "code",
   "execution_count": 37,
   "metadata": {
    "colab": {
     "base_uri": "https://localhost:8080/",
     "height": 627
    },
    "id": "oGpAzqheAqNs",
    "outputId": "6849c070-14b4-46dd-b6eb-12b9350e491f",
    "scrolled": false
   },
   "outputs": [
    {
     "data": {
      "image/png": "[encoded data removed]",
      "text/plain": [
       "<Figure size 1224x720 with 36 Axes>"
      ]
     },
     "metadata": {
      "needs_background": "light"
     },
     "output_type": "display_data"
    }
   ],
   "source": [
    "pd.plotting.scatter_matrix(data, alpha=0.01, figsize=(17, 10))\n",
    "plt.show()"
   ]
  },
  {
   "cell_type": "markdown",
   "metadata": {
    "id": "H_1nDfzlAqNt"
   },
   "source": [
    "На графике прослеживается линейная зависимость между мощностью автомобиля и ценой, а также экспоненциальная зависимость между годом регистрации автомобиля и ценой.\n",
    "\n",
    "Также полезно изучить хитмеп и матрицу корреляций между переменными."
   ]
  },
  {
   "cell_type": "code",
   "execution_count": 38,
   "metadata": {
    "colab": {
     "base_uri": "https://localhost:8080/",
     "height": 368
    },
    "id": "mWFUS_wsAqNt",
    "outputId": "7046b152-961a-47f0-b5b3-51db7ecfda84"
   },
   "outputs": [
    {
     "data": {
      "text/plain": [
       "<AxesSubplot:>"
      ]
     },
     "execution_count": 38,
     "metadata": {},
     "output_type": "execute_result"
    },
    {
     "data": {
      "image/png": "[encoded data removed]",
      "text/plain": [
       "<Figure size 432x288 with 2 Axes>"
      ]
     },
     "metadata": {
      "needs_background": "light"
     },
     "output_type": "display_data"
    }
   ],
   "source": [
    "sns.heatmap(data.corr(), vmin=-1, vmax=1, cmap=sns.diverging_palette(20, 220, as_cmap=True), annot=True)"
   ]
  },
  {
   "cell_type": "markdown",
   "metadata": {
    "id": "On4J5cLQAqNt"
   },
   "source": [
    "Предварительный вывод подтверждается, наиболее сильная корреляция цены наблюдается с годом регистрации и мощностью автомобиля. Средняя отрицительная корреляция есть между пробегом автомобиля и ценой.\n",
    "\n",
    "Между прочими переменными корреляция незначительна.\n",
    "\n",
    "Изучим графики зависимостей между категориальными переменными и ценой."
   ]
  },
  {
   "cell_type": "code",
   "execution_count": 39,
   "metadata": {
    "id": "_WGcMJ38AqNu"
   },
   "outputs": [],
   "source": [
    "data['PriceCat'] = pd.cut(data['Price'], bins=range(100, 20001, 3980), include_lowest=False)"
   ]
  },
  {
   "cell_type": "code",
   "execution_count": 40,
   "metadata": {
    "colab": {
     "base_uri": "https://localhost:8080/",
     "height": 1000
    },
    "id": "64kgku-KAqNu",
    "outputId": "f21161c5-e14b-4d88-a839-168d6aa70fb9",
    "scrolled": false
   },
   "outputs": [
    {
     "data": {
      "image/png": "[encoded data removed]",
      "text/plain": [
       "<Figure size 1224x288 with 1 Axes>"
      ]
     },
     "metadata": {
      "needs_background": "light"
     },
     "output_type": "display_data"
    },
    {
     "data": {
      "image/png": "[encoded data removed]",
      "text/plain": [
       "<Figure size 1224x288 with 1 Axes>"
      ]
     },
     "metadata": {
      "needs_background": "light"
     },
     "output_type": "display_data"
    },
    {
     "data": {
      "image/png": "[encoded data removed]",
      "text/plain": [
       "<Figure size 1224x288 with 1 Axes>"
      ]
     },
     "metadata": {
      "needs_background": "light"
     },
     "output_type": "display_data"
    },
    {
     "data": {
      "image/png": "[encoded data removed]",
      "text/plain": [
       "<Figure size 1224x288 with 1 Axes>"
      ]
     },
     "metadata": {
      "needs_background": "light"
     },
     "output_type": "display_data"
    }
   ],
   "source": [
    "for variable in ['VehicleType', 'Gearbox', 'FuelType', 'NotRepaired']:\n",
    "    plt.figure(figsize=(17, 4))\n",
    "    sns.histplot(data, y=variable, hue='PriceCat', multiple='stack')\n",
    "    plt.show()"
   ]
  },
  {
   "cell_type": "markdown",
   "metadata": {
    "id": "9tYF5QJJAqNu"
   },
   "source": [
    "Ценовые группы как правило распределяются равномерно в зависимости от значения категориальных переменных."
   ]
  },
  {
   "cell_type": "markdown",
   "metadata": {
    "id": "pdBTPOnGAqNv"
   },
   "source": [
    "### Подготовка данных"
   ]
  },
  {
   "cell_type": "markdown",
   "metadata": {
    "id": "VsB4Lc5AAqNv"
   },
   "source": [
    "Подготовим данные для обучения."
   ]
  },
  {
   "cell_type": "markdown",
   "metadata": {
    "id": "gpLO-7h3AqNw"
   },
   "source": [
    "Закодируем данные для обучения всех моделей. Для линейной модели используем метод One Hot Encoder."
   ]
  },
  {
   "cell_type": "code",
   "execution_count": 41,
   "metadata": {
    "id": "rMH5rpSHAqNw"
   },
   "outputs": [],
   "source": [
    "linear_data = data.copy()\n",
    "linear_data = linear_data.drop(['PriceCat'], axis=1)\n",
    "linear_data = pd.get_dummies(linear_data, drop_first=True)"
   ]
  },
  {
   "cell_type": "markdown",
   "metadata": {
    "id": "y3hJ9Z0KAqNx"
   },
   "source": [
    "Для прочих моделей используем метод Ordinal Encoder."
   ]
  },
  {
   "cell_type": "code",
   "execution_count": 42,
   "metadata": {
    "id": "ha1vItv4AqNx"
   },
   "outputs": [],
   "source": [
    "encoder = OrdinalEncoder()\n",
    "encoded_data = data.copy()\n",
    "encoded_data[encoded_data.select_dtypes('object').columns] = encoder.fit_transform(encoded_data.select_dtypes('object'))"
   ]
  },
  {
   "cell_type": "markdown",
   "metadata": {
    "id": "V2AStLUGAqNy"
   },
   "source": [
    "Разобъем данные на тренировочную и тестовую выборки."
   ]
  },
  {
   "cell_type": "code",
   "execution_count": 43,
   "metadata": {
    "id": "DL4nnd8HAqNy"
   },
   "outputs": [],
   "source": [
    "features_train, features_test, target_train, target_test = train_test_split(\n",
    "    encoded_data.drop(['Price','PriceCat'], axis=1), encoded_data['Price'], test_size=0.25, random_state=12345)"
   ]
  },
  {
   "cell_type": "code",
   "execution_count": 44,
   "metadata": {
    "id": "a8_xL7mTAqNy"
   },
   "outputs": [],
   "source": [
    "linear_features_train, linear_features_test, linear_target_train, linear_target_test = train_test_split(\n",
    "    linear_data.drop(['Price'], axis=1), linear_data['Price'], test_size=0.25, random_state=12345)"
   ]
  },
  {
   "cell_type": "markdown",
   "metadata": {
    "id": "KzgG8tybAqNz"
   },
   "source": [
    "Масштабируем признаки."
   ]
  },
  {
   "cell_type": "code",
   "execution_count": 45,
   "metadata": {
    "id": "5CEq4FtSAqNz"
   },
   "outputs": [],
   "source": [
    "scaler = StandardScaler()\n",
    "scaler.fit(features_train)\n",
    "features_train = scaler.transform(features_train)\n",
    "features_test = scaler.transform(features_test)"
   ]
  },
  {
   "cell_type": "markdown",
   "metadata": {
    "id": "EH6TNuuXAqN0"
   },
   "source": [
    "## Обучение моделей"
   ]
  },
  {
   "cell_type": "markdown",
   "metadata": {
    "id": "pVk6h3A4AqN0"
   },
   "source": [
    "### Обучение простых моделей"
   ]
  },
  {
   "cell_type": "markdown",
   "metadata": {
    "id": "0vF13lbyAqN0"
   },
   "source": [
    "Обучим первую, простую модель."
   ]
  },
  {
   "cell_type": "code",
   "execution_count": null,
   "metadata": {
    "colab": {
     "base_uri": "https://localhost:8080/"
    },
    "id": "KiaoKtljAqN0",
    "outputId": "e50ff87d-c92b-4da6-8872-c881e4f3497a"
   },
   "outputs": [],
   "source": [
    "%%time\n",
    "\n",
    "model = LinearRegression()\n",
    "model.fit(linear_features_train, linear_target_train)\n",
    "predictions_train = model.predict(linear_features_train)\n",
    "predictions_test = model.predict(linear_features_test)\n",
    "rmse_train = mean_squared_error(linear_target_train, predictions_train) ** .5\n",
    "rmse_test = mean_squared_error(linear_target_test, predictions_test) ** .5\n",
    "\n",
    "print(f'Показатель RMSE для линейной регрессии составляет: на тренировочной выборке - {rmse_train}, на тестовой выборке - {rmse_test}')"
   ]
  },
  {
   "cell_type": "markdown",
   "metadata": {
    "id": "_jz-wAGWAqN1"
   },
   "source": [
    "Линейная регрессия обучалась достаточно долго и показала посредственный результат. Стандартное отклонение цены исходной выборки составляет 4515, соответственно показатель RMSE 2728 незначительно отклоняется от первоначального стандартного отклонения. При этом модель не склонна к переобучению, метрики для тренировочной и тестовой выборки мало различаются.\n",
    "\n",
    "Напишем простую функцию для упрощения обучения прочих моделей."
   ]
  },
  {
   "cell_type": "code",
   "execution_count": 46,
   "metadata": {
    "id": "AUl7hSmSAqN1"
   },
   "outputs": [],
   "source": [
    "def learn(model, features_train, features_test, target_train, target_test):\n",
    "    model = model\n",
    "    model.fit(features_train, target_train)\n",
    "    predictions_train = model.predict(features_train)\n",
    "    predictions_аtest = model.predict(features_test)\n",
    "    rmse_train = mean_squared_error(target_train, predictions_train) ** .5\n",
    "    rmse_test = mean_squared_error(target_test, predictions_test) ** .5\n",
    "    \n",
    "    print(f'Показатель RMSE для {type(model).__name__} составляет: на тренировочной выборке - {rmse_train}, на тестовой выборке - {rmse_test}')\n",
    "    "
   ]
  },
  {
   "cell_type": "markdown",
   "metadata": {
    "id": "jOQkXNavAqN1"
   },
   "source": [
    "Протестируем модель Catboost."
   ]
  },
  {
   "cell_type": "code",
   "execution_count": 47,
   "metadata": {
    "colab": {
     "base_uri": "https://localhost:8080/"
    },
    "id": "l7fdZoldAqN1",
    "outputId": "bc94af13-bfba-416e-c7b6-6631a2bbee08",
    "scrolled": false
   },
   "outputs": [
    {
     "name": "stdout",
     "output_type": "stream",
     "text": [
      "Показатель RMSE для CatBoostRegressor составляет: на тренировочной выборке - 1590.038391392747, на тестовой выборке - 1694.4615782224744\n",
      "CPU times: user 38 s, sys: 244 ms, total: 38.2 s\n",
      "Wall time: 1min 54s\n"
     ]
    }
   ],
   "source": [
    "%%time\n",
    "learn(CatBoostRegressor(verbose=False, random_state=12345), features_train, features_test, target_train, target_test)"
   ]
  },
  {
   "cell_type": "markdown",
   "metadata": {
    "id": "SzmrdY28AqN2"
   },
   "source": [
    "Несмотря на кратно большее время обучения, модель с базовыми параметрами показывает существенно лучший результат, чем линейная регрессия.\n",
    "\n",
    "Протестируем модель LightGBM."
   ]
  },
  {
   "cell_type": "code",
   "execution_count": 48,
   "metadata": {
    "colab": {
     "base_uri": "https://localhost:8080/"
    },
    "id": "3OPGRQ8DAqN2",
    "outputId": "b204ab83-8324-4e6c-cc71-492a09ac1450",
    "scrolled": true
   },
   "outputs": [
    {
     "name": "stdout",
     "output_type": "stream",
     "text": [
      "Показатель RMSE для LGBMRegressor составляет: на тренировочной выборке - 1740.4429743125336, на тестовой выборке - 1798.5073418059799\n",
      "CPU times: user 4min 15s, sys: 1.16 s, total: 4min 16s\n",
      "Wall time: 5min 1s\n"
     ]
    }
   ],
   "source": [
    "%%time\n",
    "learn(LGBMRegressor(random_state=12345), features_train, features_test, target_train, target_test)"
   ]
  },
  {
   "cell_type": "markdown",
   "metadata": {
    "id": "5wmV5gjDAqN2"
   },
   "source": [
    "Модель обучилась намного быстрее, но показала результат хуже, чем CatBoost."
   ]
  },
  {
   "cell_type": "markdown",
   "metadata": {
    "id": "zpPwXEXYAqN3"
   },
   "source": [
    "Модели CatBoost и LGBM также умеют работать с сырыми данными. Протестируем модели с данными, предварительно не закодированными.\n",
    "\n",
    "Начнем с модели CatBoost."
   ]
  },
  {
   "cell_type": "code",
   "execution_count": 49,
   "metadata": {
    "id": "misBpSWTAqN3"
   },
   "outputs": [],
   "source": [
    "raw_data = data.copy()\n",
    "\n",
    "cat_features = ['VehicleType', 'Gearbox', 'Model', 'FuelType', 'NotRepaired', 'Brand']\n",
    "raw_data[cat_features] = raw_data[cat_features].astype('category')\n",
    "\n",
    "raw_features_train, raw_features_test, raw_target_train, raw_target_test = train_test_split(\n",
    "    raw_data.drop(['Price','PriceCat'], axis=1), raw_data['Price'], test_size=0.25, random_state=12345)\n",
    "\n",
    "scaler = StandardScaler()\n",
    "scaler.fit(raw_features_train[raw_features_train.select_dtypes('number').columns])\n",
    "raw_features_train[raw_features_train.select_dtypes('number').columns] = scaler.transform(raw_features_train[raw_features_train.select_dtypes('number').columns])\n",
    "raw_features_test[raw_features_test.select_dtypes('number').columns] = scaler.transform(raw_features_test[raw_features_train.select_dtypes('number').columns])"
   ]
  },
  {
   "cell_type": "code",
   "execution_count": 50,
   "metadata": {
    "colab": {
     "base_uri": "https://localhost:8080/"
    },
    "id": "ivSsvhWqAqN4",
    "outputId": "9130f716-9e37-4366-ddcb-61cee0f34a14"
   },
   "outputs": [
    {
     "name": "stdout",
     "output_type": "stream",
     "text": [
      "Показатель RMSE для CatBoostRegressor составляет: на тренировочной выборке - 1584.3660658424542, на тестовой выборке - 1682.7302167217\n",
      "CPU times: user 3min 50s, sys: 818 ms, total: 3min 51s\n",
      "Wall time: 21min 47s\n"
     ]
    }
   ],
   "source": [
    "%%time\n",
    "learn(CatBoostRegressor(verbose=False, cat_features=cat_features, random_state=12345), raw_features_train, raw_features_test, raw_target_train, raw_target_test)"
   ]
  },
  {
   "cell_type": "markdown",
   "metadata": {
    "id": "eoS8bWYDAqN4"
   },
   "source": [
    "Качество предсказания на тренировочной и на тестовой выборках практически не изменилось, а вот время обучения выросло кратно.\n",
    "\n",
    "Попробуем незакодированные данные на модели LGBM."
   ]
  },
  {
   "cell_type": "code",
   "execution_count": 51,
   "metadata": {
    "colab": {
     "base_uri": "https://localhost:8080/"
    },
    "id": "Okw3NoHVAqN4",
    "outputId": "b3e2a919-05fd-422c-f08b-ac6b568882ca"
   },
   "outputs": [
    {
     "name": "stderr",
     "output_type": "stream",
     "text": [
      "/opt/conda/lib/python3.9/site-packages/lightgbm/sklearn.py:736: UserWarning: 'verbose' argument is deprecated and will be removed in a future release of LightGBM. Pass 'log_evaluation()' callback via 'callbacks' argument instead.\n",
      "  _log_warning(\"'verbose' argument is deprecated and will be removed in a future release of LightGBM. \"\n",
      "/opt/conda/lib/python3.9/site-packages/lightgbm/basic.py:2065: UserWarning: Using categorical_feature in Dataset.\n",
      "  _log_warning('Using categorical_feature in Dataset.')\n"
     ]
    },
    {
     "name": "stdout",
     "output_type": "stream",
     "text": [
      "Показатель RMSE для LGBMRegressor составляет: на тренировочной выборке - 1643.6400826469207, на тестовой выборке - 1717.8209541813055\n",
      "CPU times: user 7min 16s, sys: 3.88 s, total: 7min 19s\n",
      "Wall time: 14min 48s\n"
     ]
    }
   ],
   "source": [
    "%%time\n",
    "model = LGBMRegressor(random_state=12345)\n",
    "model.fit(raw_features_train, raw_target_train, categorical_feature=cat_features, verbose=False)\n",
    "predictions_train = model.predict(raw_features_train)\n",
    "predictions_test = model.predict(raw_features_test)\n",
    "rmse_train = mean_squared_error(raw_target_train, predictions_train) ** .5\n",
    "rmse_test = mean_squared_error(raw_target_test, predictions_test) ** .5\n",
    "\n",
    "print(f'Показатель RMSE для {type(model).__name__} составляет: на тренировочной выборке - {rmse_train}, на тестовой выборке - {rmse_test}')\n"
   ]
  },
  {
   "cell_type": "markdown",
   "metadata": {
    "id": "RXe6YTIWAqN4"
   },
   "source": [
    "Качество предсказания несколько выросло, в то время как время обучения сильно уменьшилось."
   ]
  },
  {
   "cell_type": "markdown",
   "metadata": {
    "id": "EoIamCblAqN5"
   },
   "source": [
    "Протестируем дерево решений и случайный лес."
   ]
  },
  {
   "cell_type": "code",
   "execution_count": 52,
   "metadata": {
    "colab": {
     "base_uri": "https://localhost:8080/"
    },
    "id": "eaJpzw2bAqN5",
    "outputId": "d308d377-e334-4c99-afd0-a18b59056839"
   },
   "outputs": [
    {
     "name": "stdout",
     "output_type": "stream",
     "text": [
      "Показатель RMSE для DecisionTreeRegressor составляет: на тренировочной выборке - 92.55298594268938, на тестовой выборке - 2207.4944743266615\n",
      "CPU times: user 2.79 s, sys: 39.2 ms, total: 2.83 s\n",
      "Wall time: 12.1 s\n"
     ]
    }
   ],
   "source": [
    "%%time\n",
    "learn(DecisionTreeRegressor(random_state=12345), features_train, features_test, target_train, target_test)"
   ]
  },
  {
   "cell_type": "code",
   "execution_count": null,
   "metadata": {
    "colab": {
     "base_uri": "https://localhost:8080/"
    },
    "id": "AdBZNK8NAqN5",
    "outputId": "35ef51a4-4217-4f50-efb5-f11e937240a5"
   },
   "outputs": [],
   "source": [
    "%%time\n",
    "learn(RandomForestRegressor(random_state=12345), features_train, features_test, target_train, target_test)"
   ]
  },
  {
   "cell_type": "markdown",
   "metadata": {
    "id": "399H8hRbAqN5"
   },
   "source": [
    "Модели случайного леса и дерева решений намного больше склонны к переобучению. Модель дерева решений показывает существенно худший результат, чем градиентный бустинг на тестовой выборке, случайный лес показывает средний результат.\n",
    "\n",
    "Протестируем модели с различнысми гиперпараметрами."
   ]
  },
  {
   "cell_type": "markdown",
   "metadata": {
    "id": "7H10c50uAqN5"
   },
   "source": [
    "### Настройка гиперпараметров с использование GridSearchCV"
   ]
  },
  {
   "cell_type": "markdown",
   "metadata": {
    "id": "wDzNGtWiAqN6"
   },
   "source": [
    "Начнем с модели CatBoost."
   ]
  },
  {
   "cell_type": "code",
   "execution_count": null,
   "metadata": {
    "colab": {
     "base_uri": "https://localhost:8080/"
    },
    "id": "2XBpnTz9AqN6",
    "outputId": "a045868b-eb9c-464c-cbd5-a18779a522b1"
   },
   "outputs": [],
   "source": [
    "parameters = {\n",
    "    'iterations': (800, 1000, 1100),\n",
    "    'depth': (7,8,9),\n",
    "    'learning_rate': (0.1, 0.3)\n",
    "}\n",
    "grid = GridSearchCV(CatBoostRegressor(verbose=False), param_grid=parameters)\n",
    "grid.fit(features_train, target_train)"
   ]
  },
  {
   "cell_type": "code",
   "execution_count": null,
   "metadata": {
    "colab": {
     "base_uri": "https://localhost:8080/"
    },
    "id": "ElNPYkRWAqN7",
    "outputId": "63590abb-30fa-4d26-abfa-5b8d0d220167",
    "scrolled": true
   },
   "outputs": [],
   "source": [
    "grid.best_params_"
   ]
  },
  {
   "cell_type": "markdown",
   "metadata": {
    "id": "Hp5ClKArAqN7"
   },
   "source": [
    "Лучший результат получился при глубине дерева 8, количестве итераций 1100 и коэффициенте обучения 0,3."
   ]
  },
  {
   "cell_type": "code",
   "execution_count": null,
   "metadata": {
    "colab": {
     "base_uri": "https://localhost:8080/"
    },
    "id": "7p11tzWeAqN7",
    "outputId": "c71a4258-ea70-4fc4-b608-0af19c169035",
    "scrolled": true
   },
   "outputs": [],
   "source": [
    "%%time\n",
    "learn(CatBoostRegressor(depth=8, iterations=1100, learning_rate=0.3, verbose=False, random_state=12345), features_train, features_test, target_train, target_test)"
   ]
  },
  {
   "cell_type": "markdown",
   "metadata": {
    "id": "X7q2kN9LAqN7"
   },
   "source": [
    "Модель Catboost после настройки гиперпараметров показала чуть лучший результат на тестовой выборке, чем с базовыми параметрами, но переобучилась.\n",
    "\n",
    "Протестируем модель LGBM с разными гиперпараметрами."
   ]
  },
  {
   "cell_type": "code",
   "execution_count": null,
   "metadata": {
    "colab": {
     "base_uri": "https://localhost:8080/"
    },
    "id": "50wHYF_5AqN8",
    "outputId": "b3db986b-90f8-4d28-9ba3-afebf014fc9e"
   },
   "outputs": [],
   "source": [
    "parameters = {\n",
    "    'num_iterations': (800, 1000, 1100),\n",
    "    'max_depth': (7,8,9)\n",
    "}\n",
    "grid = GridSearchCV(LGBMRegressor(random_state=12345), param_grid=parameters)\n",
    "grid.fit(features_train, target_train)"
   ]
  },
  {
   "cell_type": "code",
   "execution_count": null,
   "metadata": {
    "colab": {
     "base_uri": "https://localhost:8080/"
    },
    "id": "yXZ3N8MVAqN8",
    "outputId": "20ff5877-85e8-499f-975a-a7a448ee93dc",
    "scrolled": false
   },
   "outputs": [],
   "source": [
    "grid.best_params_"
   ]
  },
  {
   "cell_type": "code",
   "execution_count": null,
   "metadata": {
    "colab": {
     "base_uri": "https://localhost:8080/"
    },
    "id": "dTATIiBmAqN8",
    "outputId": "55e8d145-2513-479f-82d2-2a5808d70830"
   },
   "outputs": [],
   "source": [
    "%%time\n",
    "learn(LGBMRegressor(random_state=12345,max_depth=8,num_iterations=1100), features_train, features_test, target_train, target_test)"
   ]
  },
  {
   "cell_type": "markdown",
   "metadata": {
    "id": "kOPJh2H3AqN8"
   },
   "source": [
    "Модель также слегка переобучилась, но показала также лучше результат, в сравнении с обучением без настройки гиперпараметров."
   ]
  },
  {
   "cell_type": "markdown",
   "metadata": {
    "id": "DqnB8R-jAqN9"
   },
   "source": [
    "Протестируем модель дерева решений с различными гиперпараметрами. Случайный лес настраивать сложнее, так как он обучается очень долго и дает не лучший результат, поэтому ограничимся деревом решений."
   ]
  },
  {
   "cell_type": "code",
   "execution_count": null,
   "metadata": {
    "colab": {
     "base_uri": "https://localhost:8080/"
    },
    "id": "GSvBbR3HAqN9",
    "outputId": "a3afc360-b5e9-49a8-e44b-00c3403f4582"
   },
   "outputs": [],
   "source": [
    "parameters = {\n",
    "    'min_samples_split': (2, 15),\n",
    "    'max_depth': (range(5, 106, 10)),\n",
    "    'min_samples_leaf': (2, 16),\n",
    "}\n",
    "grid = GridSearchCV(DecisionTreeRegressor(random_state=12345), param_grid=parameters)\n",
    "grid.fit(features_train, target_train)"
   ]
  },
  {
   "cell_type": "code",
   "execution_count": null,
   "metadata": {
    "colab": {
     "base_uri": "https://localhost:8080/"
    },
    "id": "sCVF0u-cAqN9",
    "outputId": "44647293-3fb4-41fd-9d70-8e64e5a18fe6",
    "scrolled": false
   },
   "outputs": [],
   "source": [
    "grid.best_params_"
   ]
  },
  {
   "cell_type": "code",
   "execution_count": null,
   "metadata": {
    "colab": {
     "base_uri": "https://localhost:8080/"
    },
    "id": "BMx0i8AWAqN9",
    "outputId": "0e498faf-79e6-486c-981f-02f45366d8b8",
    "scrolled": false
   },
   "outputs": [],
   "source": [
    "%%time\n",
    "learn(DecisionTreeRegressor(random_state=12345, max_depth=25, min_samples_leaf=16, min_samples_split=2), features_train, features_test, target_train, target_test)"
   ]
  },
  {
   "cell_type": "markdown",
   "metadata": {
    "id": "Yuq1DKN_AqN9"
   },
   "source": [
    "Модель также переобучилась, но намного меньше, чем при базовых настройках."
   ]
  },
  {
   "cell_type": "markdown",
   "metadata": {
    "id": "bEg8tso5AqN-"
   },
   "source": [
    "### Настройка гиперпараметров с использование optuna"
   ]
  },
  {
   "cell_type": "markdown",
   "metadata": {
    "id": "SaFU3xp5AqN-"
   },
   "source": [
    "Попробуем оптимизировать параметры с помощью optuna.\n",
    "\n",
    "Начнем с модели CatBoost."
   ]
  },
  {
   "cell_type": "code",
   "execution_count": null,
   "metadata": {
    "id": "bqLso4rSAqN-"
   },
   "outputs": [],
   "source": [
    "def objective_cat(trial):\n",
    "    params = {'iterations': trial.suggest_int('iterations', 500, 5000),\n",
    "              'learning_rate': trial.suggest_uniform('learning_rate', 0.001, 1),\n",
    "              'depth': trial.suggest_int('depth', 1, 15)\n",
    "             }\n",
    "    model = CatBoostRegressor(loss_function='RMSE', random_state=12345, verbose=False, **params)\n",
    "    model.fit(features_train, target_train)\n",
    "    predictions_test = model.predict(features_test)\n",
    "    \n",
    "    return mean_squared_error(target_test, predictions_test) ** .5"
   ]
  },
  {
   "cell_type": "code",
   "execution_count": null,
   "metadata": {
    "colab": {
     "base_uri": "https://localhost:8080/"
    },
    "id": "VTB9TjeXAqN-",
    "outputId": "803ce124-3451-4c0c-b029-918f33ebfa09",
    "scrolled": false
   },
   "outputs": [],
   "source": [
    "study_cat = optuna.create_study(direction=\"minimize\")\n",
    "study_cat.optimize(objective_cat, n_trials=5)\n",
    "study_cat.best_params"
   ]
  },
  {
   "cell_type": "markdown",
   "metadata": {
    "id": "C6s_xM6oAqN-"
   },
   "source": [
    "И оптимизируем модель LGBM."
   ]
  },
  {
   "cell_type": "code",
   "execution_count": null,
   "metadata": {
    "id": "Jm-zYoMiAqN-"
   },
   "outputs": [],
   "source": [
    "def objective_lgbm(trial):\n",
    "    params = {'n_estimators': trial.suggest_int('num_iterations', 500, 5000),\n",
    "              'max_depth': trial.suggest_int('max_depth', 1, 15)\n",
    "             }\n",
    "    model = LGBMRegressor(random_state=12345, **params)\n",
    "    model.fit(features_train, target_train)\n",
    "    predictions_test = model.predict(features_test)\n",
    "    \n",
    "    return mean_squared_error(target_test, predictions_test) ** .5"
   ]
  },
  {
   "cell_type": "code",
   "execution_count": null,
   "metadata": {
    "colab": {
     "base_uri": "https://localhost:8080/"
    },
    "id": "8w9rYJA5AqN_",
    "outputId": "b30014ca-595c-40c3-e345-a9b715c587e1",
    "scrolled": false
   },
   "outputs": [],
   "source": [
    "study_lgbm = optuna.create_study(direction=\"minimize\")\n",
    "study_lgbm.optimize(objective_lgbm, n_trials=5)\n",
    "study_lgbm.best_params"
   ]
  },
  {
   "cell_type": "markdown",
   "metadata": {
    "id": "TcrydbRIAqN_"
   },
   "source": [
    "Протестируем модели CatBoost и LGBM с параметрами найденными оптуной."
   ]
  },
  {
   "cell_type": "code",
   "execution_count": null,
   "metadata": {
    "colab": {
     "base_uri": "https://localhost:8080/"
    },
    "id": "c4LHZvCvAqN_",
    "outputId": "742a49d7-594c-4f54-a319-2b6e3e20e02e",
    "scrolled": false
   },
   "outputs": [],
   "source": [
    "%%time\n",
    "learn(CatBoostRegressor(depth=7, iterations=3792, learning_rate=0.6065370980039926, verbose=False, random_state=12345), features_train, features_test, target_train, target_test)"
   ]
  },
  {
   "cell_type": "code",
   "execution_count": null,
   "metadata": {
    "colab": {
     "base_uri": "https://localhost:8080/"
    },
    "id": "TrY6AKhuAqN_",
    "outputId": "5e21fe09-5b56-4ed1-9412-3f2927e82b72"
   },
   "outputs": [],
   "source": [
    "%%time\n",
    "learn(LGBMRegressor(random_state=12345,max_depth=15,num_iterations=819), features_train, features_test, target_train, target_test)"
   ]
  },
  {
   "cell_type": "markdown",
   "metadata": {
    "id": "yuKoIwO6AqN_"
   },
   "source": [
    "Обучение модели с оптимальными гиперпараметрами проходило дольше, но результаты для модели LGBM оказались лучше, чем при базовых настройках, но хуже, чем при grid оптимизации. Модель Catboost сильно переобучилась и показала результат хуже, чем при базовых настройках."
   ]
  },
  {
   "cell_type": "markdown",
   "metadata": {
    "id": "sAyLBCcVAqOA"
   },
   "source": [
    "## Анализ моделей"
   ]
  },
  {
   "cell_type": "markdown",
   "metadata": {
    "id": "RnNd45-4AqOA"
   },
   "source": [
    "### Подготовка"
   ]
  },
  {
   "cell_type": "markdown",
   "metadata": {
    "id": "fnvdADRFAqOA"
   },
   "source": [
    "Проанализируем модели при различных настройках и сравним ключевые метрики для заказчика - скорость обучения и предсказания и точность предсказания. Напишем функцию, возвращающую разницу времени в формате м/с/mс."
   ]
  },
  {
   "cell_type": "code",
   "execution_count": null,
   "metadata": {
    "id": "-eOqCHDfAqOA"
   },
   "outputs": [],
   "source": [
    "def exec_time(start, end):\n",
    "    diff_time = end - start\n",
    "    diff_time /= 1_000_000\n",
    "    s, ms = divmod(diff_time, 1_000)\n",
    "    m, s = divmod(s, 60)\n",
    "    ms,s,m = int(round(ms, 0)), int(round(s, 0)), int(round(m, 0))\n",
    "    return f'{m}min {s}s {ms}ms'"
   ]
  },
  {
   "cell_type": "markdown",
   "metadata": {
    "id": "Cbjxr8hXAqOB"
   },
   "source": [
    "Напишем функцию, принимающую на вход модель с параметрами и данные и возвращающую RMSE и время обучения."
   ]
  },
  {
   "cell_type": "code",
   "execution_count": null,
   "metadata": {
    "id": "qZrB8Mh2AqOB"
   },
   "outputs": [],
   "source": [
    "def evaluation(model, features, target):\n",
    "    start = time.time_ns()\n",
    "    predictions = model.predict(features)\n",
    "    end = time.time_ns()\n",
    "    rmse = mean_squared_error(predictions, target) ** .5\n",
    "    predict_time = exec_time(start, end)\n",
    "    return rmse, predict_time"
   ]
  },
  {
   "cell_type": "markdown",
   "metadata": {
    "id": "tvGmSEgTAqOB"
   },
   "source": [
    "Обучим и протестируем первую модель линейной регрессии для проверки работоспособности написанных функций."
   ]
  },
  {
   "cell_type": "code",
   "execution_count": null,
   "metadata": {
    "colab": {
     "base_uri": "https://localhost:8080/"
    },
    "id": "wrk69fOEAqOB",
    "outputId": "b0373029-b135-41e3-c256-31cfe7f3ddd5"
   },
   "outputs": [],
   "source": [
    "linear_model = LinearRegression()\n",
    "start = time.time_ns()\n",
    "linear_model.fit(linear_features_train, linear_target_train)\n",
    "end = time.time_ns()\n",
    "linear_fit_time = exec_time(start, end)\n",
    "linear_train_rmse, _ = evaluation(linear_model, linear_features_train, linear_target_train)\n",
    "linear_test_rmse, linear_predict_time = evaluation(linear_model, linear_features_test, linear_target_test)\n",
    "print(f'Параметры линейной модели:\\nВремя обучения: {linear_fit_time}\\nВремя предсказания: {linear_predict_time}\\nRMSE на обучающей выборке: {linear_train_rmse}\\nRMSE на тестовой выборке: {linear_test_rmse}')"
   ]
  },
  {
   "cell_type": "markdown",
   "metadata": {
    "id": "t5HPMhnxAqOB"
   },
   "source": [
    "Код работает, масштабируем его на проверку всех прочих моделей."
   ]
  },
  {
   "cell_type": "markdown",
   "metadata": {
    "id": "WndFOSr3AqOB"
   },
   "source": [
    "### Сравнение моделей"
   ]
  },
  {
   "cell_type": "markdown",
   "metadata": {
    "id": "xjX-cK7WAqOC"
   },
   "source": [
    "Протестируем все модели кроме линейной регрессии. Линейная регрессия показывает далеко не лучший результат, при существенных временных затратах на обучение. В процессе тестирования будем замерять время обучения и предсказания, а также метрику RMSE на обучающих и тестовых выборках."
   ]
  },
  {
   "cell_type": "code",
   "execution_count": null,
   "metadata": {
    "id": "GhvUpaYZAqOC"
   },
   "outputs": [],
   "source": [
    "models = {\n",
    "    'Дерево решений':DecisionTreeRegressor(random_state=12345),\n",
    "    'Дерево решений, grid_search':DecisionTreeRegressor(random_state=12345, max_depth=25, min_samples_leaf=16, min_samples_split=2),\n",
    "    'Случайный лес':RandomForestRegressor(random_state=12345),\n",
    "    'CatBoost':CatBoostRegressor(verbose=False, random_state=12345),\n",
    "    'CatBoost, grid_search':CatBoostRegressor(depth=9, iterations=1100, learning_rate=0.3, verbose=False, random_state=12345),\n",
    "    'CatBoost, optuna':CatBoostRegressor(depth=5, iterations=3733, learning_rate=0.6824141299015694, verbose=False, random_state=12345),\n",
    "    'LGBM':LGBMRegressor(random_state=12345),\n",
    "    'LGBM, grid_search':LGBMRegressor(random_state=12345,max_depth=8,num_iterations=1100),\n",
    "    'LGBM, optuna':LGBMRegressor(random_state=12345,max_depth=13,num_iterations=3968)\n",
    "}\n",
    "results = {}"
   ]
  },
  {
   "cell_type": "code",
   "execution_count": null,
   "metadata": {
    "colab": {
     "base_uri": "https://localhost:8080/"
    },
    "id": "aJVWgsfgAqOC",
    "outputId": "f39ce55e-055f-4742-8ca4-fcc3ef4b180f"
   },
   "outputs": [],
   "source": [
    "for model_name, model in models.items():\n",
    "    start = time.time_ns()\n",
    "    model.fit(features_train, target_train)\n",
    "    end = time.time_ns()\n",
    "    fit_time = exec_time(start, end)\n",
    "    train_rmse, _ = evaluation(model, features_train, target_train)\n",
    "    test_rmse, predict_time = evaluation(model, features_test, target_test)\n",
    "    results[model_name] = [fit_time, predict_time, train_rmse, test_rmse]"
   ]
  },
  {
   "cell_type": "markdown",
   "metadata": {
    "id": "nEU5YtJ5AqOC"
   },
   "source": [
    "Добавим отдельно модели, без предварительного OE кодирования."
   ]
  },
  {
   "cell_type": "code",
   "execution_count": null,
   "metadata": {
    "id": "zGt3Xi09AqOC"
   },
   "outputs": [],
   "source": [
    "model = CatBoostRegressor(verbose=False, cat_features=cat_features, random_state=12345)\n",
    "start = time.time_ns()\n",
    "model.fit(raw_features_train, raw_target_train)\n",
    "end = time.time_ns()\n",
    "fit_time = exec_time(start, end)\n",
    "train_rmse, _ = evaluation(model, raw_features_train, raw_target_train)\n",
    "test_rmse, predict_time = evaluation(model, raw_features_test, raw_target_test)\n",
    "results['CatBoost, без OE'] = [fit_time, predict_time, train_rmse, test_rmse]"
   ]
  },
  {
   "cell_type": "code",
   "execution_count": null,
   "metadata": {
    "colab": {
     "base_uri": "https://localhost:8080/"
    },
    "id": "m84X7ooFAqOC",
    "outputId": "36eca046-3131-496a-bb77-b9caf1de240a"
   },
   "outputs": [],
   "source": [
    "model = LGBMRegressor(random_state=12345)\n",
    "start = time.time_ns()\n",
    "model.fit(raw_features_train, raw_target_train, categorical_feature=cat_features, verbose=False)\n",
    "end = time.time_ns()\n",
    "fit_time = exec_time(start, end)\n",
    "train_rmse, _ = evaluation(model, raw_features_train, raw_target_train)\n",
    "test_rmse, predict_time = evaluation(model, raw_features_test, raw_target_test)\n",
    "results['LGBM, без OE'] = [fit_time, predict_time, train_rmse, test_rmse]"
   ]
  },
  {
   "cell_type": "markdown",
   "metadata": {
    "id": "oV23DssvAqOD"
   },
   "source": [
    "Выведем на экран получившееся сравнение различных моделей."
   ]
  },
  {
   "cell_type": "code",
   "execution_count": null,
   "metadata": {
    "colab": {
     "base_uri": "https://localhost:8080/",
     "height": 394
    },
    "id": "mrhC7XJ1AqOD",
    "outputId": "02176154-5ac6-47d2-a465-00286d553a14"
   },
   "outputs": [],
   "source": [
    "(\n",
    "    pd.DataFrame\n",
    "    .from_dict(results, orient='index',\n",
    "               columns=('fit_time', 'predict_time', 'train_rmse', 'test_rmse'))\n",
    "    .sort_values(by='test_rmse')\n",
    ")"
   ]
  },
  {
   "cell_type": "markdown",
   "metadata": {
    "id": "iYN4yDL8AqOD"
   },
   "source": [
    "Наилучшие результаты по качеству предсказания получились с использованием модели LGBM с параметрами depth=13, iterations=3968. Время обучения и предсказания также вполне приемлемы. Однако модель преобучилась и может выдавать нестабильный результат.\n",
    "\n",
    "Несмотря на то, что эа модель несколько переобучилась, она является лучшей по соотношению всех параметров.\n",
    "\n",
    "За LGBM следуют три модели: случайного леса, CatBoost и LGBM оптимизированные с помощью GridSearch. Несмотря на то, что модель LGBM переобучилась меньше модели CatBoost и случайного леса, у нее очень высокое время предсказания для условий заказчика. 5 секунд - небольшое время, но в современных условиях, когда пользователи привыкли получать ответ на свои действия от приложения моментально, такое решение вряд ли подойдет. Модель случайного леса сильно переобучилась, из-за чего может выдавать нестабильный результат на реальных данных.\n",
    "\n",
    "Самый сбалансированный результат показала модель CatBoost с базовыми параметрами. Она не сильно переобучилась и показала конкурентоспособный результат на тестовых данных и достаточно высокую скорость обучения.\n",
    "\n",
    "Прочие модели показали не лучший результат, поэтому рассматривать их нет смысла.\n"
   ]
  },
  {
   "cell_type": "markdown",
   "metadata": {
    "id": "q4O8PtdcPHa4"
   },
   "source": [
    "__Лучшая модель по качеству предсказания - LGBM с параметраии depth=13, iterations=3968.__\n",
    "\n",
    "__Лучшая модель по соотношению качество/время Catboost с базовыми гиперпараметрами.__"
   ]
  },
  {
   "cell_type": "markdown",
   "metadata": {
    "id": "nJwoyfwjAqOD"
   },
   "source": [
    "### Вывод"
   ]
  },
  {
   "cell_type": "markdown",
   "metadata": {
    "id": "5LxlVmhuAqOE"
   },
   "source": [
    "Заказчику рекомендуется обратить внимание на модель CatBoost с базовыми гиперпараметрами. Она показывает наилучший результат и высокое время предсказания и обучения, при этом минимально относительно других моделей переобучаясь.\n",
    "\n",
    "Для работы приложения это оптимальный выбор, так как в пользовательских интерфейсах необходимо соблюсти баланс между скоростью работы и качеством обучения."
   ]
  },
  {
   "cell_type": "markdown",
   "metadata": {
    "id": "HSbIuPFrQSlX"
   },
   "source": [
    "Для лучшей модели также исследуем наиболее важные для предсказания признаки."
   ]
  },
  {
   "cell_type": "code",
   "execution_count": null,
   "metadata": {
    "colab": {
     "base_uri": "https://localhost:8080/"
    },
    "id": "D8qwi-O_Pzz7",
    "outputId": "4a45d5de-3d2d-4a18-932f-554a8150de54"
   },
   "outputs": [],
   "source": [
    "model = CatBoostRegressor(verbose=False, random_state=12345)\n",
    "model.fit(features_train, target_train)"
   ]
  },
  {
   "cell_type": "code",
   "execution_count": null,
   "metadata": {
    "colab": {
     "base_uri": "https://localhost:8080/",
     "height": 526
    },
    "id": "LmAqaXXuRhXa",
    "outputId": "001443c6-e200-4cad-f2dd-00ef72116797"
   },
   "outputs": [],
   "source": [
    "model_importances = pd.Series(model.feature_importances_, index=data.drop(['Price', 'PriceCat'], axis=1).columns).sort_values(ascending=False)\n",
    "\n",
    "model_importances.plot(kind='bar',\n",
    "                       figsize=(15, 7),\n",
    "                       title='Feature importances')\n",
    "plt.ylabel('Mean decrease in impurity')\n",
    "plt.show()"
   ]
  },
  {
   "cell_type": "markdown",
   "metadata": {
    "id": "0Oo8lfvnTmh9"
   },
   "source": [
    "Ожидаемо наибольшее влияние на цену автомобиля оказывает год его регистрации. Второстепенное значения занимает его мощность, пробег и бренд оказывают еще меньшее, относительно схожее влияние.\n",
    "\n",
    "Тип транспорта и модель оказывают еще меньшее влиние, а такие показатели как тип топлива, почтовый индекс, коробка передач и месяц регистрации оказывают незначительное влияние на целевую переменную."
   ]
  }
 ],
 "metadata": {
  "ExecuteTimeLog": [
   {
    "duration": 572,
    "start_time": "2022-05-18T14:44:02.380Z"
   },
   {
    "duration": 1111,
    "start_time": "2022-05-18T14:44:23.054Z"
   },
   {
    "duration": 766,
    "start_time": "2022-05-18T14:44:41.820Z"
   },
   {
    "duration": 72,
    "start_time": "2022-05-18T14:44:50.867Z"
   },
   {
    "duration": 23,
    "start_time": "2022-05-18T14:46:06.959Z"
   },
   {
    "duration": 12,
    "start_time": "2022-05-18T14:46:49.659Z"
   },
   {
    "duration": 119,
    "start_time": "2022-05-18T14:47:00.580Z"
   },
   {
    "duration": 95,
    "start_time": "2022-05-18T14:49:14.300Z"
   },
   {
    "duration": 110,
    "start_time": "2022-05-18T14:49:18.232Z"
   },
   {
    "duration": 128,
    "start_time": "2022-05-18T14:50:54.774Z"
   },
   {
    "duration": 119,
    "start_time": "2022-05-18T14:51:00.637Z"
   },
   {
    "duration": 239,
    "start_time": "2022-05-18T14:51:22.969Z"
   },
   {
    "duration": 146,
    "start_time": "2022-05-18T14:51:26.311Z"
   },
   {
    "duration": 118,
    "start_time": "2022-05-18T14:51:35.113Z"
   },
   {
    "duration": 868,
    "start_time": "2022-05-18T15:19:24.013Z"
   },
   {
    "duration": 18,
    "start_time": "2022-05-18T15:19:24.884Z"
   },
   {
    "duration": 121,
    "start_time": "2022-05-18T15:19:24.988Z"
   },
   {
    "duration": 134,
    "start_time": "2022-05-18T15:19:25.317Z"
   },
   {
    "duration": 102,
    "start_time": "2022-05-18T15:19:26.592Z"
   },
   {
    "duration": 12,
    "start_time": "2022-05-18T15:38:04.867Z"
   },
   {
    "duration": 9,
    "start_time": "2022-05-18T15:38:14.957Z"
   },
   {
    "duration": 671,
    "start_time": "2022-05-18T15:38:27.366Z"
   },
   {
    "duration": 228,
    "start_time": "2022-05-18T15:38:32.331Z"
   },
   {
    "duration": 194,
    "start_time": "2022-05-18T15:38:58.118Z"
   },
   {
    "duration": 2306,
    "start_time": "2022-05-18T15:39:24.212Z"
   },
   {
    "duration": 310,
    "start_time": "2022-05-18T15:39:31.485Z"
   },
   {
    "duration": 2,
    "start_time": "2022-05-18T15:39:58.991Z"
   },
   {
    "duration": 356,
    "start_time": "2022-05-18T15:40:19.624Z"
   },
   {
    "duration": 309,
    "start_time": "2022-05-18T15:40:44.160Z"
   },
   {
    "duration": 358,
    "start_time": "2022-05-18T15:48:07.697Z"
   },
   {
    "duration": 324,
    "start_time": "2022-05-18T15:48:24.187Z"
   },
   {
    "duration": 323,
    "start_time": "2022-05-18T15:48:31.332Z"
   },
   {
    "duration": 2448,
    "start_time": "2022-05-18T15:48:49.928Z"
   },
   {
    "duration": 1227,
    "start_time": "2022-05-18T15:48:55.496Z"
   },
   {
    "duration": 433,
    "start_time": "2022-05-18T15:49:04.211Z"
   },
   {
    "duration": 372,
    "start_time": "2022-05-18T15:49:10.730Z"
   },
   {
    "duration": 62,
    "start_time": "2022-05-18T15:51:26.422Z"
   },
   {
    "duration": 5,
    "start_time": "2022-05-18T15:52:30.817Z"
   },
   {
    "duration": 149,
    "start_time": "2022-05-18T15:52:37.539Z"
   },
   {
    "duration": 9,
    "start_time": "2022-05-18T15:52:50.933Z"
   },
   {
    "duration": 9,
    "start_time": "2022-05-18T15:52:53.323Z"
   },
   {
    "duration": 138,
    "start_time": "2022-05-18T15:53:01.617Z"
   },
   {
    "duration": 8,
    "start_time": "2022-05-18T15:57:43.756Z"
   },
   {
    "duration": 19,
    "start_time": "2022-05-18T15:57:47.164Z"
   },
   {
    "duration": 4,
    "start_time": "2022-05-18T16:02:03.006Z"
   },
   {
    "duration": 23,
    "start_time": "2022-05-18T16:02:05.275Z"
   },
   {
    "duration": 19,
    "start_time": "2022-05-18T16:02:23.871Z"
   },
   {
    "duration": 142,
    "start_time": "2022-05-18T16:02:57.757Z"
   },
   {
    "duration": 188,
    "start_time": "2022-05-18T16:03:04.754Z"
   },
   {
    "duration": 25,
    "start_time": "2022-05-18T16:03:52.353Z"
   },
   {
    "duration": 66,
    "start_time": "2022-05-18T16:04:05.918Z"
   },
   {
    "duration": 44,
    "start_time": "2022-05-18T16:04:12.064Z"
   },
   {
    "duration": 129,
    "start_time": "2022-05-18T16:04:19.709Z"
   },
   {
    "duration": 52,
    "start_time": "2022-05-18T16:04:37.027Z"
   },
   {
    "duration": 128,
    "start_time": "2022-05-18T16:04:37.758Z"
   },
   {
    "duration": 132,
    "start_time": "2022-05-18T16:05:01.071Z"
   },
   {
    "duration": 142,
    "start_time": "2022-05-18T16:05:15.319Z"
   },
   {
    "duration": 138,
    "start_time": "2022-05-18T16:05:35.451Z"
   },
   {
    "duration": 164,
    "start_time": "2022-05-18T16:07:03.189Z"
   },
   {
    "duration": 47,
    "start_time": "2022-05-18T16:10:17.793Z"
   },
   {
    "duration": 40,
    "start_time": "2022-05-18T16:10:34.916Z"
   },
   {
    "duration": 39,
    "start_time": "2022-05-18T16:11:55.851Z"
   },
   {
    "duration": 48,
    "start_time": "2022-05-18T16:12:05.249Z"
   },
   {
    "duration": 43,
    "start_time": "2022-05-18T16:12:16.736Z"
   },
   {
    "duration": 36,
    "start_time": "2022-05-18T16:12:34.129Z"
   },
   {
    "duration": 133,
    "start_time": "2022-05-18T16:12:52.407Z"
   },
   {
    "duration": 109,
    "start_time": "2022-05-18T16:12:59.355Z"
   },
   {
    "duration": 4,
    "start_time": "2022-05-18T16:13:14.746Z"
   },
   {
    "duration": 9,
    "start_time": "2022-05-18T16:13:17.344Z"
   },
   {
    "duration": 3,
    "start_time": "2022-05-18T16:13:23.898Z"
   },
   {
    "duration": 741,
    "start_time": "2022-05-18T16:13:23.903Z"
   },
   {
    "duration": 18,
    "start_time": "2022-05-18T16:13:24.645Z"
   },
   {
    "duration": 136,
    "start_time": "2022-05-18T16:13:24.665Z"
   },
   {
    "duration": 142,
    "start_time": "2022-05-18T16:13:24.803Z"
   },
   {
    "duration": 97,
    "start_time": "2022-05-18T16:13:24.947Z"
   },
   {
    "duration": 380,
    "start_time": "2022-05-18T16:13:25.047Z"
   },
   {
    "duration": 40,
    "start_time": "2022-05-18T16:13:25.430Z"
   },
   {
    "duration": 164,
    "start_time": "2022-05-18T16:13:25.474Z"
   },
   {
    "duration": 50,
    "start_time": "2022-05-18T16:13:25.640Z"
   },
   {
    "duration": 146,
    "start_time": "2022-05-18T16:13:25.691Z"
   },
   {
    "duration": 39,
    "start_time": "2022-05-18T16:13:25.839Z"
   },
   {
    "duration": 6,
    "start_time": "2022-05-18T16:13:25.879Z"
   },
   {
    "duration": 60,
    "start_time": "2022-05-20T07:52:44.908Z"
   },
   {
    "duration": 969,
    "start_time": "2022-05-20T07:52:52.282Z"
   },
   {
    "duration": 2818,
    "start_time": "2022-05-20T07:52:53.253Z"
   },
   {
    "duration": 15,
    "start_time": "2022-05-20T07:52:56.072Z"
   },
   {
    "duration": 117,
    "start_time": "2022-05-20T07:52:56.088Z"
   },
   {
    "duration": 117,
    "start_time": "2022-05-20T07:52:56.207Z"
   },
   {
    "duration": 94,
    "start_time": "2022-05-20T07:52:56.325Z"
   },
   {
    "duration": 321,
    "start_time": "2022-05-20T07:52:56.421Z"
   },
   {
    "duration": 46,
    "start_time": "2022-05-20T07:52:56.744Z"
   },
   {
    "duration": 133,
    "start_time": "2022-05-20T07:52:56.791Z"
   },
   {
    "duration": 59,
    "start_time": "2022-05-20T07:52:56.925Z"
   },
   {
    "duration": 124,
    "start_time": "2022-05-20T07:52:56.985Z"
   },
   {
    "duration": 34,
    "start_time": "2022-05-20T07:52:57.113Z"
   },
   {
    "duration": 29,
    "start_time": "2022-05-20T07:52:57.160Z"
   },
   {
    "duration": 27,
    "start_time": "2022-05-20T07:54:13.876Z"
   },
   {
    "duration": 28,
    "start_time": "2022-05-20T07:54:20.635Z"
   },
   {
    "duration": 6,
    "start_time": "2022-05-20T07:55:36.518Z"
   },
   {
    "duration": 19,
    "start_time": "2022-05-20T07:55:48.652Z"
   },
   {
    "duration": 26,
    "start_time": "2022-05-20T07:56:11.012Z"
   },
   {
    "duration": 255,
    "start_time": "2022-05-20T07:56:32.885Z"
   },
   {
    "duration": 26,
    "start_time": "2022-05-20T07:56:57.588Z"
   },
   {
    "duration": 127,
    "start_time": "2022-05-20T07:57:11.062Z"
   },
   {
    "duration": 122,
    "start_time": "2022-05-20T07:57:24.750Z"
   },
   {
    "duration": 138,
    "start_time": "2022-05-20T07:57:31.925Z"
   },
   {
    "duration": 5,
    "start_time": "2022-05-20T07:57:43.333Z"
   },
   {
    "duration": 17,
    "start_time": "2022-05-20T07:57:53.682Z"
   },
   {
    "duration": 76,
    "start_time": "2022-05-20T08:00:08.662Z"
   },
   {
    "duration": 51,
    "start_time": "2022-05-20T08:01:07.995Z"
   },
   {
    "duration": 126,
    "start_time": "2022-05-20T08:01:18.894Z"
   },
   {
    "duration": 49,
    "start_time": "2022-05-20T08:02:25.875Z"
   },
   {
    "duration": 6,
    "start_time": "2022-05-20T08:02:37.883Z"
   },
   {
    "duration": 11,
    "start_time": "2022-05-20T08:02:42.546Z"
   },
   {
    "duration": 14,
    "start_time": "2022-05-20T08:05:35.012Z"
   },
   {
    "duration": 8,
    "start_time": "2022-05-20T08:12:44.952Z"
   },
   {
    "duration": 12,
    "start_time": "2022-05-20T08:12:53.456Z"
   },
   {
    "duration": 35,
    "start_time": "2022-05-20T08:13:10.557Z"
   },
   {
    "duration": 18,
    "start_time": "2022-05-20T08:13:14.087Z"
   },
   {
    "duration": 6,
    "start_time": "2022-05-20T08:13:18.278Z"
   },
   {
    "duration": 22,
    "start_time": "2022-05-20T08:13:20.095Z"
   },
   {
    "duration": 105,
    "start_time": "2022-05-20T08:16:13.881Z"
   },
   {
    "duration": 21,
    "start_time": "2022-05-20T08:19:59.611Z"
   },
   {
    "duration": 22,
    "start_time": "2022-05-20T08:20:26.266Z"
   },
   {
    "duration": 23,
    "start_time": "2022-05-20T08:20:48.994Z"
   },
   {
    "duration": 19,
    "start_time": "2022-05-20T08:21:24.617Z"
   },
   {
    "duration": 38,
    "start_time": "2022-05-20T08:23:28.890Z"
   },
   {
    "duration": 42,
    "start_time": "2022-05-20T08:23:35.819Z"
   },
   {
    "duration": 106,
    "start_time": "2022-05-20T08:23:41.820Z"
   },
   {
    "duration": 25,
    "start_time": "2022-05-20T08:24:17.233Z"
   },
   {
    "duration": 54,
    "start_time": "2022-05-20T08:24:29.038Z"
   },
   {
    "duration": 104,
    "start_time": "2022-05-20T08:24:29.789Z"
   },
   {
    "duration": 9,
    "start_time": "2022-05-20T08:24:49.408Z"
   },
   {
    "duration": 11,
    "start_time": "2022-05-20T08:24:52.633Z"
   },
   {
    "duration": 44,
    "start_time": "2022-05-20T08:24:59.777Z"
   },
   {
    "duration": 109,
    "start_time": "2022-05-20T08:25:00.184Z"
   },
   {
    "duration": 435,
    "start_time": "2022-05-20T08:28:14.233Z"
   },
   {
    "duration": 5,
    "start_time": "2022-05-20T08:28:24.881Z"
   },
   {
    "duration": 98,
    "start_time": "2022-05-20T08:28:37.119Z"
   },
   {
    "duration": 17,
    "start_time": "2022-05-20T08:29:04.863Z"
   },
   {
    "duration": 95,
    "start_time": "2022-05-20T08:29:08.325Z"
   },
   {
    "duration": 15,
    "start_time": "2022-05-20T08:30:49.321Z"
   },
   {
    "duration": 18,
    "start_time": "2022-05-20T08:30:58.422Z"
   },
   {
    "duration": 16,
    "start_time": "2022-05-20T08:31:10.373Z"
   },
   {
    "duration": 16,
    "start_time": "2022-05-20T08:31:14.794Z"
   },
   {
    "duration": 16,
    "start_time": "2022-05-20T08:31:18.828Z"
   },
   {
    "duration": 15,
    "start_time": "2022-05-20T08:31:22.025Z"
   },
   {
    "duration": 16,
    "start_time": "2022-05-20T08:31:30.219Z"
   },
   {
    "duration": 14,
    "start_time": "2022-05-20T08:31:32.713Z"
   },
   {
    "duration": 18,
    "start_time": "2022-05-20T08:31:36.192Z"
   },
   {
    "duration": 15,
    "start_time": "2022-05-20T08:31:39.511Z"
   },
   {
    "duration": 20,
    "start_time": "2022-05-20T08:31:43.018Z"
   },
   {
    "duration": 16,
    "start_time": "2022-05-20T08:31:48.141Z"
   },
   {
    "duration": 30,
    "start_time": "2022-05-20T08:38:42.473Z"
   },
   {
    "duration": 11,
    "start_time": "2022-05-20T08:38:46.523Z"
   },
   {
    "duration": 7,
    "start_time": "2022-05-20T08:38:56.527Z"
   },
   {
    "duration": 8,
    "start_time": "2022-05-20T08:39:14.600Z"
   },
   {
    "duration": 171,
    "start_time": "2022-05-20T08:39:19.205Z"
   },
   {
    "duration": 241,
    "start_time": "2022-05-20T08:39:44.428Z"
   },
   {
    "duration": 238,
    "start_time": "2022-05-20T08:39:47.136Z"
   },
   {
    "duration": 253,
    "start_time": "2022-05-20T08:39:59.122Z"
   },
   {
    "duration": 7,
    "start_time": "2022-05-20T08:40:35.826Z"
   },
   {
    "duration": 37,
    "start_time": "2022-05-20T08:40:52.876Z"
   },
   {
    "duration": 8,
    "start_time": "2022-05-20T08:41:01.674Z"
   },
   {
    "duration": 131,
    "start_time": "2022-05-20T08:41:05.770Z"
   },
   {
    "duration": 54,
    "start_time": "2022-05-20T08:41:18.022Z"
   },
   {
    "duration": 13,
    "start_time": "2022-05-20T08:46:00.518Z"
   },
   {
    "duration": 115,
    "start_time": "2022-05-20T08:46:06.974Z"
   },
   {
    "duration": 25,
    "start_time": "2022-05-20T08:50:34.315Z"
   },
   {
    "duration": 6,
    "start_time": "2022-05-20T08:52:27.702Z"
   },
   {
    "duration": 53,
    "start_time": "2022-05-20T08:54:07.140Z"
   },
   {
    "duration": 42,
    "start_time": "2022-05-20T08:54:44.410Z"
   },
   {
    "duration": 34,
    "start_time": "2022-05-20T08:59:56.149Z"
   },
   {
    "duration": 58,
    "start_time": "2022-05-20T09:02:17.814Z"
   },
   {
    "duration": 57,
    "start_time": "2022-05-20T09:02:31.794Z"
   },
   {
    "duration": 56,
    "start_time": "2022-05-20T09:02:37.133Z"
   },
   {
    "duration": 56,
    "start_time": "2022-05-20T09:02:42.667Z"
   },
   {
    "duration": 45,
    "start_time": "2022-05-20T09:02:50.542Z"
   },
   {
    "duration": 95,
    "start_time": "2022-05-20T09:06:16.851Z"
   },
   {
    "duration": 74,
    "start_time": "2022-05-20T09:06:33.300Z"
   },
   {
    "duration": 70,
    "start_time": "2022-05-20T09:06:54.153Z"
   },
   {
    "duration": 75,
    "start_time": "2022-05-20T09:06:59.282Z"
   },
   {
    "duration": 130,
    "start_time": "2022-05-20T09:07:45.236Z"
   },
   {
    "duration": 16,
    "start_time": "2022-05-20T09:07:49.458Z"
   },
   {
    "duration": 92,
    "start_time": "2022-05-20T09:08:21.718Z"
   },
   {
    "duration": 11,
    "start_time": "2022-05-20T09:08:23.396Z"
   },
   {
    "duration": 7,
    "start_time": "2022-05-20T09:08:56.312Z"
   },
   {
    "duration": 11,
    "start_time": "2022-05-20T09:09:05.546Z"
   },
   {
    "duration": 98,
    "start_time": "2022-05-20T09:09:25.535Z"
   },
   {
    "duration": 16,
    "start_time": "2022-05-20T09:09:26.591Z"
   },
   {
    "duration": 45,
    "start_time": "2022-05-20T09:10:38.977Z"
   },
   {
    "duration": 114,
    "start_time": "2022-05-20T09:10:50.639Z"
   },
   {
    "duration": 109,
    "start_time": "2022-05-20T09:11:29.429Z"
   },
   {
    "duration": 147,
    "start_time": "2022-05-20T09:11:47.029Z"
   },
   {
    "duration": 690,
    "start_time": "2022-05-20T09:12:14.496Z"
   },
   {
    "duration": 21,
    "start_time": "2022-05-20T09:12:21.246Z"
   },
   {
    "duration": 211,
    "start_time": "2022-05-20T09:12:33.108Z"
   },
   {
    "duration": 139,
    "start_time": "2022-05-20T09:12:36.981Z"
   },
   {
    "duration": 151,
    "start_time": "2022-05-20T09:12:55.098Z"
   },
   {
    "duration": 11,
    "start_time": "2022-05-20T09:12:57.811Z"
   },
   {
    "duration": 162,
    "start_time": "2022-05-20T09:13:48.203Z"
   },
   {
    "duration": 11,
    "start_time": "2022-05-20T09:13:49.263Z"
   },
   {
    "duration": 13,
    "start_time": "2022-05-20T09:15:05.725Z"
   },
   {
    "duration": 132,
    "start_time": "2022-05-20T09:15:55.948Z"
   },
   {
    "duration": 13,
    "start_time": "2022-05-20T09:15:56.364Z"
   },
   {
    "duration": 104,
    "start_time": "2022-05-20T09:16:55.406Z"
   },
   {
    "duration": 13,
    "start_time": "2022-05-20T09:16:55.671Z"
   },
   {
    "duration": 25,
    "start_time": "2022-05-20T09:17:06.430Z"
   },
   {
    "duration": 13,
    "start_time": "2022-05-20T09:17:11.466Z"
   },
   {
    "duration": 13,
    "start_time": "2022-05-20T09:17:18.244Z"
   },
   {
    "duration": 11,
    "start_time": "2022-05-20T09:17:57.814Z"
   },
   {
    "duration": 101,
    "start_time": "2022-05-20T09:18:23.972Z"
   },
   {
    "duration": 9,
    "start_time": "2022-05-20T09:18:24.370Z"
   },
   {
    "duration": 3,
    "start_time": "2022-05-20T09:22:50.673Z"
   },
   {
    "duration": 160,
    "start_time": "2022-05-20T09:22:51.027Z"
   },
   {
    "duration": 366,
    "start_time": "2022-05-20T09:23:09.561Z"
   },
   {
    "duration": 127,
    "start_time": "2022-05-20T09:23:19.585Z"
   },
   {
    "duration": 20,
    "start_time": "2022-05-20T09:24:32.486Z"
   },
   {
    "duration": 3,
    "start_time": "2022-05-20T09:24:34.754Z"
   },
   {
    "duration": 23,
    "start_time": "2022-05-20T09:24:35.126Z"
   },
   {
    "duration": 3,
    "start_time": "2022-05-20T09:25:13.327Z"
   },
   {
    "duration": 638,
    "start_time": "2022-05-20T09:25:50.798Z"
   },
   {
    "duration": 2839,
    "start_time": "2022-05-20T09:25:51.438Z"
   },
   {
    "duration": 16,
    "start_time": "2022-05-20T09:25:54.279Z"
   },
   {
    "duration": 36,
    "start_time": "2022-05-20T09:25:54.296Z"
   },
   {
    "duration": 114,
    "start_time": "2022-05-20T09:25:54.334Z"
   },
   {
    "duration": 127,
    "start_time": "2022-05-20T09:25:54.450Z"
   },
   {
    "duration": 104,
    "start_time": "2022-05-20T09:25:54.579Z"
   },
   {
    "duration": 46,
    "start_time": "2022-05-20T09:25:54.684Z"
   },
   {
    "duration": 60,
    "start_time": "2022-05-20T09:25:54.732Z"
   },
   {
    "duration": 131,
    "start_time": "2022-05-20T09:25:54.793Z"
   },
   {
    "duration": 3,
    "start_time": "2022-05-20T09:25:54.925Z"
   },
   {
    "duration": 9,
    "start_time": "2022-05-20T09:26:47.681Z"
   },
   {
    "duration": 55,
    "start_time": "2022-05-20T09:26:53.272Z"
   },
   {
    "duration": 646,
    "start_time": "2022-05-20T09:26:59.041Z"
   },
   {
    "duration": 2777,
    "start_time": "2022-05-20T09:26:59.689Z"
   },
   {
    "duration": 14,
    "start_time": "2022-05-20T09:27:02.468Z"
   },
   {
    "duration": 29,
    "start_time": "2022-05-20T09:27:02.484Z"
   },
   {
    "duration": 133,
    "start_time": "2022-05-20T09:27:02.515Z"
   },
   {
    "duration": 122,
    "start_time": "2022-05-20T09:27:02.649Z"
   },
   {
    "duration": 98,
    "start_time": "2022-05-20T09:27:02.773Z"
   },
   {
    "duration": 48,
    "start_time": "2022-05-20T09:27:02.872Z"
   },
   {
    "duration": 54,
    "start_time": "2022-05-20T09:27:02.922Z"
   },
   {
    "duration": 121,
    "start_time": "2022-05-20T09:27:02.978Z"
   },
   {
    "duration": 4,
    "start_time": "2022-05-20T09:27:03.101Z"
   },
   {
    "duration": 63,
    "start_time": "2022-05-20T09:27:12.097Z"
   },
   {
    "duration": 650,
    "start_time": "2022-05-20T09:27:34.798Z"
   },
   {
    "duration": 2841,
    "start_time": "2022-05-20T09:27:35.449Z"
   },
   {
    "duration": 15,
    "start_time": "2022-05-20T09:27:38.292Z"
   },
   {
    "duration": 32,
    "start_time": "2022-05-20T09:27:38.308Z"
   },
   {
    "duration": 139,
    "start_time": "2022-05-20T09:27:38.342Z"
   },
   {
    "duration": 120,
    "start_time": "2022-05-20T09:27:38.483Z"
   },
   {
    "duration": 110,
    "start_time": "2022-05-20T09:27:38.604Z"
   },
   {
    "duration": 85,
    "start_time": "2022-05-20T09:27:38.716Z"
   },
   {
    "duration": 47,
    "start_time": "2022-05-20T09:27:38.803Z"
   },
   {
    "duration": 120,
    "start_time": "2022-05-20T09:27:38.852Z"
   },
   {
    "duration": 4,
    "start_time": "2022-05-20T09:27:38.974Z"
   },
   {
    "duration": 50770,
    "start_time": "2022-05-20T09:27:38.980Z"
   },
   {
    "duration": 47908,
    "start_time": "2022-05-20T09:28:42.843Z"
   },
   {
    "duration": 28,
    "start_time": "2022-05-20T09:29:47.000Z"
   },
   {
    "duration": 3,
    "start_time": "2022-05-20T09:30:24.510Z"
   },
   {
    "duration": 22,
    "start_time": "2022-05-20T09:30:24.896Z"
   },
   {
    "duration": 36,
    "start_time": "2022-05-20T09:32:06.961Z"
   },
   {
    "duration": 23,
    "start_time": "2022-05-20T09:32:07.289Z"
   },
   {
    "duration": 3,
    "start_time": "2022-05-20T09:32:28.336Z"
   },
   {
    "duration": 21,
    "start_time": "2022-05-20T09:32:28.716Z"
   },
   {
    "duration": 3,
    "start_time": "2022-05-20T09:32:39.618Z"
   },
   {
    "duration": 22,
    "start_time": "2022-05-20T09:32:41.325Z"
   },
   {
    "duration": 3,
    "start_time": "2022-05-20T09:32:51.519Z"
   },
   {
    "duration": 21,
    "start_time": "2022-05-20T09:32:52.179Z"
   },
   {
    "duration": 408,
    "start_time": "2022-05-20T09:33:17.343Z"
   },
   {
    "duration": 3,
    "start_time": "2022-05-20T09:36:46.041Z"
   },
   {
    "duration": 228,
    "start_time": "2022-05-20T09:36:46.678Z"
   },
   {
    "duration": 20,
    "start_time": "2022-05-20T09:37:05.798Z"
   },
   {
    "duration": 84,
    "start_time": "2022-05-20T09:37:09.533Z"
   },
   {
    "duration": 213,
    "start_time": "2022-05-20T09:37:13.958Z"
   },
   {
    "duration": 36,
    "start_time": "2022-05-20T09:37:16.537Z"
   },
   {
    "duration": 57,
    "start_time": "2022-05-20T09:37:20.380Z"
   },
   {
    "duration": 78,
    "start_time": "2022-05-20T09:37:23.756Z"
   },
   {
    "duration": 89,
    "start_time": "2022-05-20T09:37:26.498Z"
   },
   {
    "duration": 88,
    "start_time": "2022-05-20T09:37:28.933Z"
   },
   {
    "duration": 75,
    "start_time": "2022-05-20T09:37:31.519Z"
   },
   {
    "duration": 83,
    "start_time": "2022-05-20T09:37:34.472Z"
   },
   {
    "duration": 84,
    "start_time": "2022-05-20T09:37:41.014Z"
   },
   {
    "duration": 18,
    "start_time": "2022-05-20T09:37:45.107Z"
   },
   {
    "duration": 14,
    "start_time": "2022-05-20T09:38:26.371Z"
   },
   {
    "duration": 18,
    "start_time": "2022-05-20T09:38:37.859Z"
   },
   {
    "duration": 8,
    "start_time": "2022-05-20T09:38:41.724Z"
   },
   {
    "duration": 14,
    "start_time": "2022-05-20T09:38:48.471Z"
   },
   {
    "duration": 13,
    "start_time": "2022-05-20T09:38:50.914Z"
   },
   {
    "duration": 8,
    "start_time": "2022-05-20T09:39:02.004Z"
   },
   {
    "duration": 78,
    "start_time": "2022-05-20T09:39:27.323Z"
   },
   {
    "duration": 3,
    "start_time": "2022-05-20T09:39:33.220Z"
   },
   {
    "duration": 42,
    "start_time": "2022-05-20T09:40:00.199Z"
   },
   {
    "duration": 15,
    "start_time": "2022-05-20T09:42:13.063Z"
   },
   {
    "duration": 5,
    "start_time": "2022-05-20T09:43:20.587Z"
   },
   {
    "duration": 46,
    "start_time": "2022-05-20T09:44:20.999Z"
   },
   {
    "duration": 47,
    "start_time": "2022-05-20T09:44:24.308Z"
   },
   {
    "duration": 46,
    "start_time": "2022-05-20T09:44:33.801Z"
   },
   {
    "duration": 48,
    "start_time": "2022-05-20T09:44:41.231Z"
   },
   {
    "duration": 59,
    "start_time": "2022-05-20T09:45:53.069Z"
   },
   {
    "duration": 65,
    "start_time": "2022-05-20T09:45:59.078Z"
   },
   {
    "duration": 62,
    "start_time": "2022-05-20T09:46:26.401Z"
   },
   {
    "duration": 66,
    "start_time": "2022-05-20T09:46:37.302Z"
   },
   {
    "duration": 95,
    "start_time": "2022-05-20T09:48:55.215Z"
   },
   {
    "duration": 84,
    "start_time": "2022-05-20T09:49:55.432Z"
   },
   {
    "duration": 102,
    "start_time": "2022-05-20T09:50:07.499Z"
   },
   {
    "duration": 77,
    "start_time": "2022-05-20T09:52:06.305Z"
   },
   {
    "duration": 592,
    "start_time": "2022-05-20T09:53:10.901Z"
   },
   {
    "duration": 766,
    "start_time": "2022-05-20T09:53:11.494Z"
   },
   {
    "duration": 15,
    "start_time": "2022-05-20T09:53:12.262Z"
   },
   {
    "duration": 30,
    "start_time": "2022-05-20T09:53:12.279Z"
   },
   {
    "duration": 130,
    "start_time": "2022-05-20T09:53:12.311Z"
   },
   {
    "duration": 125,
    "start_time": "2022-05-20T09:53:12.443Z"
   },
   {
    "duration": 97,
    "start_time": "2022-05-20T09:53:12.569Z"
   },
   {
    "duration": 14,
    "start_time": "2022-05-20T09:53:12.668Z"
   },
   {
    "duration": 93,
    "start_time": "2022-05-20T09:53:12.684Z"
   },
   {
    "duration": 91,
    "start_time": "2022-05-20T09:53:12.778Z"
   },
   {
    "duration": 18,
    "start_time": "2022-05-20T09:53:18.963Z"
   },
   {
    "duration": 80,
    "start_time": "2022-05-20T09:53:35.278Z"
   },
   {
    "duration": 83,
    "start_time": "2022-05-20T09:55:07.110Z"
   },
   {
    "duration": 78,
    "start_time": "2022-05-20T09:55:13.893Z"
   },
   {
    "duration": 71,
    "start_time": "2022-05-20T09:55:34.987Z"
   },
   {
    "duration": 77,
    "start_time": "2022-05-20T09:55:37.950Z"
   },
   {
    "duration": 82,
    "start_time": "2022-05-20T09:56:19.769Z"
   },
   {
    "duration": 14,
    "start_time": "2022-05-20T09:56:33.899Z"
   },
   {
    "duration": 9,
    "start_time": "2022-05-20T09:57:34.071Z"
   },
   {
    "duration": 12,
    "start_time": "2022-05-20T09:57:53.593Z"
   },
   {
    "duration": 38,
    "start_time": "2022-05-20T09:58:15.085Z"
   },
   {
    "duration": 84,
    "start_time": "2022-05-20T09:59:07.765Z"
   },
   {
    "duration": 93,
    "start_time": "2022-05-20T09:59:08.819Z"
   },
   {
    "duration": 112,
    "start_time": "2022-05-20T09:59:25.516Z"
   },
   {
    "duration": 52,
    "start_time": "2022-05-20T10:02:08.936Z"
   },
   {
    "duration": 632,
    "start_time": "2022-05-20T10:02:19.228Z"
   },
   {
    "duration": 761,
    "start_time": "2022-05-20T10:02:19.862Z"
   },
   {
    "duration": 17,
    "start_time": "2022-05-20T10:02:20.625Z"
   },
   {
    "duration": 41,
    "start_time": "2022-05-20T10:02:20.644Z"
   },
   {
    "duration": 134,
    "start_time": "2022-05-20T10:02:20.688Z"
   },
   {
    "duration": 125,
    "start_time": "2022-05-20T10:02:20.824Z"
   },
   {
    "duration": 90,
    "start_time": "2022-05-20T10:02:20.951Z"
   },
   {
    "duration": 19,
    "start_time": "2022-05-20T10:02:21.043Z"
   },
   {
    "duration": 175,
    "start_time": "2022-05-20T10:02:21.064Z"
   },
   {
    "duration": 149,
    "start_time": "2022-05-20T10:02:21.240Z"
   },
   {
    "duration": 156,
    "start_time": "2022-05-20T10:02:21.391Z"
   },
   {
    "duration": 18,
    "start_time": "2022-05-20T10:02:21.549Z"
   },
   {
    "duration": 163,
    "start_time": "2022-05-20T10:02:21.568Z"
   },
   {
    "duration": 321,
    "start_time": "2022-05-20T10:02:21.734Z"
   },
   {
    "duration": 37,
    "start_time": "2022-05-20T10:02:22.058Z"
   },
   {
    "duration": 142,
    "start_time": "2022-05-20T10:02:22.097Z"
   },
   {
    "duration": 55,
    "start_time": "2022-05-20T10:02:22.241Z"
   },
   {
    "duration": 126,
    "start_time": "2022-05-20T10:02:22.298Z"
   },
   {
    "duration": 67,
    "start_time": "2022-05-20T10:02:22.425Z"
   },
   {
    "duration": 11,
    "start_time": "2022-05-20T10:02:22.494Z"
   },
   {
    "duration": 78,
    "start_time": "2022-05-20T10:02:22.507Z"
   },
   {
    "duration": 5,
    "start_time": "2022-05-20T10:02:22.587Z"
   },
   {
    "duration": 18,
    "start_time": "2022-05-20T10:02:22.593Z"
   },
   {
    "duration": 37,
    "start_time": "2022-05-20T10:02:22.612Z"
   },
   {
    "duration": 20,
    "start_time": "2022-05-20T10:02:22.651Z"
   },
   {
    "duration": 111,
    "start_time": "2022-05-20T10:02:22.672Z"
   },
   {
    "duration": 54,
    "start_time": "2022-05-20T10:02:22.784Z"
   },
   {
    "duration": 121,
    "start_time": "2022-05-20T10:02:22.840Z"
   },
   {
    "duration": 16,
    "start_time": "2022-05-20T10:02:22.962Z"
   },
   {
    "duration": 247,
    "start_time": "2022-05-20T10:02:22.979Z"
   },
   {
    "duration": 144,
    "start_time": "2022-05-20T10:02:23.228Z"
   },
   {
    "duration": 11,
    "start_time": "2022-05-20T10:02:23.374Z"
   },
   {
    "duration": 94,
    "start_time": "2022-05-20T10:02:23.386Z"
   },
   {
    "duration": 92,
    "start_time": "2022-05-20T10:02:23.482Z"
   },
   {
    "duration": 69,
    "start_time": "2022-05-20T10:02:23.575Z"
   },
   {
    "duration": 663,
    "start_time": "2022-05-20T10:03:18.659Z"
   },
   {
    "duration": 731,
    "start_time": "2022-05-20T10:03:19.323Z"
   },
   {
    "duration": 14,
    "start_time": "2022-05-20T10:03:20.056Z"
   },
   {
    "duration": 28,
    "start_time": "2022-05-20T10:03:20.072Z"
   },
   {
    "duration": 130,
    "start_time": "2022-05-20T10:03:20.102Z"
   },
   {
    "duration": 127,
    "start_time": "2022-05-20T10:03:20.233Z"
   },
   {
    "duration": 90,
    "start_time": "2022-05-20T10:03:20.362Z"
   },
   {
    "duration": 19,
    "start_time": "2022-05-20T10:03:20.454Z"
   },
   {
    "duration": 182,
    "start_time": "2022-05-20T10:03:20.474Z"
   },
   {
    "duration": 171,
    "start_time": "2022-05-20T10:03:20.658Z"
   },
   {
    "duration": 166,
    "start_time": "2022-05-20T10:03:20.831Z"
   },
   {
    "duration": 15,
    "start_time": "2022-05-20T10:03:20.999Z"
   },
   {
    "duration": 112,
    "start_time": "2022-05-20T10:03:21.015Z"
   },
   {
    "duration": 330,
    "start_time": "2022-05-20T10:03:21.129Z"
   },
   {
    "duration": 38,
    "start_time": "2022-05-20T10:03:21.460Z"
   },
   {
    "duration": 145,
    "start_time": "2022-05-20T10:03:21.499Z"
   },
   {
    "duration": 66,
    "start_time": "2022-05-20T10:03:21.646Z"
   },
   {
    "duration": 135,
    "start_time": "2022-05-20T10:03:21.714Z"
   },
   {
    "duration": 71,
    "start_time": "2022-05-20T10:03:21.851Z"
   },
   {
    "duration": 11,
    "start_time": "2022-05-20T10:03:21.923Z"
   },
   {
    "duration": 70,
    "start_time": "2022-05-20T10:03:21.936Z"
   },
   {
    "duration": 5,
    "start_time": "2022-05-20T10:03:22.007Z"
   },
   {
    "duration": 9,
    "start_time": "2022-05-20T10:03:22.013Z"
   },
   {
    "duration": 13,
    "start_time": "2022-05-20T10:03:22.023Z"
   },
   {
    "duration": 25,
    "start_time": "2022-05-20T10:03:22.037Z"
   },
   {
    "duration": 108,
    "start_time": "2022-05-20T10:03:22.064Z"
   },
   {
    "duration": 49,
    "start_time": "2022-05-20T10:03:22.174Z"
   },
   {
    "duration": 114,
    "start_time": "2022-05-20T10:03:22.226Z"
   },
   {
    "duration": 23,
    "start_time": "2022-05-20T10:03:22.342Z"
   },
   {
    "duration": 252,
    "start_time": "2022-05-20T10:03:22.366Z"
   },
   {
    "duration": 147,
    "start_time": "2022-05-20T10:03:22.619Z"
   },
   {
    "duration": 12,
    "start_time": "2022-05-20T10:03:22.767Z"
   },
   {
    "duration": 102,
    "start_time": "2022-05-20T10:03:22.781Z"
   },
   {
    "duration": 89,
    "start_time": "2022-05-20T10:03:22.885Z"
   },
   {
    "duration": 73,
    "start_time": "2022-05-20T10:03:22.976Z"
   },
   {
    "duration": 122,
    "start_time": "2022-05-20T10:06:09.453Z"
   },
   {
    "duration": 3,
    "start_time": "2022-05-20T10:06:21.099Z"
   },
   {
    "duration": 764,
    "start_time": "2022-05-20T10:06:21.103Z"
   },
   {
    "duration": 12,
    "start_time": "2022-05-20T10:06:21.870Z"
   },
   {
    "duration": 37,
    "start_time": "2022-05-20T10:06:21.884Z"
   },
   {
    "duration": 113,
    "start_time": "2022-05-20T10:06:21.923Z"
   },
   {
    "duration": 126,
    "start_time": "2022-05-20T10:06:22.038Z"
   },
   {
    "duration": 110,
    "start_time": "2022-05-20T10:06:22.166Z"
   },
   {
    "duration": 14,
    "start_time": "2022-05-20T10:06:22.278Z"
   },
   {
    "duration": 174,
    "start_time": "2022-05-20T10:06:22.293Z"
   },
   {
    "duration": 161,
    "start_time": "2022-05-20T10:06:22.469Z"
   },
   {
    "duration": 164,
    "start_time": "2022-05-20T10:06:22.633Z"
   },
   {
    "duration": 17,
    "start_time": "2022-05-20T10:06:22.799Z"
   },
   {
    "duration": 125,
    "start_time": "2022-05-20T10:06:22.818Z"
   },
   {
    "duration": 361,
    "start_time": "2022-05-20T10:06:22.945Z"
   },
   {
    "duration": 30,
    "start_time": "2022-05-20T10:06:23.308Z"
   },
   {
    "duration": 144,
    "start_time": "2022-05-20T10:06:23.340Z"
   },
   {
    "duration": 38,
    "start_time": "2022-05-20T10:06:23.486Z"
   },
   {
    "duration": 125,
    "start_time": "2022-05-20T10:06:23.526Z"
   },
   {
    "duration": 592,
    "start_time": "2022-05-20T10:09:12.702Z"
   },
   {
    "duration": 161,
    "start_time": "2022-05-20T10:10:37.378Z"
   },
   {
    "duration": 421,
    "start_time": "2022-05-20T10:11:03.689Z"
   },
   {
    "duration": 426,
    "start_time": "2022-05-20T10:11:38.565Z"
   },
   {
    "duration": 384,
    "start_time": "2022-05-20T10:11:47.116Z"
   },
   {
    "duration": 1148,
    "start_time": "2022-05-20T10:12:08.938Z"
   },
   {
    "duration": 794,
    "start_time": "2022-05-20T10:12:10.087Z"
   },
   {
    "duration": 17,
    "start_time": "2022-05-20T10:12:10.883Z"
   },
   {
    "duration": 34,
    "start_time": "2022-05-20T10:12:10.902Z"
   },
   {
    "duration": 138,
    "start_time": "2022-05-20T10:12:10.937Z"
   },
   {
    "duration": 132,
    "start_time": "2022-05-20T10:12:11.077Z"
   },
   {
    "duration": 101,
    "start_time": "2022-05-20T10:12:11.211Z"
   },
   {
    "duration": 16,
    "start_time": "2022-05-20T10:12:11.314Z"
   },
   {
    "duration": 209,
    "start_time": "2022-05-20T10:12:11.332Z"
   },
   {
    "duration": 207,
    "start_time": "2022-05-20T10:12:11.543Z"
   },
   {
    "duration": 197,
    "start_time": "2022-05-20T10:12:11.751Z"
   },
   {
    "duration": 18,
    "start_time": "2022-05-20T10:12:11.949Z"
   },
   {
    "duration": 119,
    "start_time": "2022-05-20T10:12:11.969Z"
   },
   {
    "duration": 413,
    "start_time": "2022-05-20T10:12:12.090Z"
   },
   {
    "duration": 44,
    "start_time": "2022-05-20T10:12:12.504Z"
   },
   {
    "duration": 153,
    "start_time": "2022-05-20T10:12:12.560Z"
   },
   {
    "duration": 67,
    "start_time": "2022-05-20T10:12:12.715Z"
   },
   {
    "duration": 140,
    "start_time": "2022-05-20T10:12:12.784Z"
   },
   {
    "duration": 73,
    "start_time": "2022-05-20T10:12:12.926Z"
   },
   {
    "duration": 13,
    "start_time": "2022-05-20T10:12:13.001Z"
   },
   {
    "duration": 76,
    "start_time": "2022-05-20T10:12:13.016Z"
   },
   {
    "duration": 5,
    "start_time": "2022-05-20T10:12:13.094Z"
   },
   {
    "duration": 9,
    "start_time": "2022-05-20T10:12:13.100Z"
   },
   {
    "duration": 14,
    "start_time": "2022-05-20T10:12:13.111Z"
   },
   {
    "duration": 5,
    "start_time": "2022-05-20T10:12:13.127Z"
   },
   {
    "duration": 112,
    "start_time": "2022-05-20T10:12:13.159Z"
   },
   {
    "duration": 51,
    "start_time": "2022-05-20T10:12:13.272Z"
   },
   {
    "duration": 127,
    "start_time": "2022-05-20T10:12:13.326Z"
   },
   {
    "duration": 19,
    "start_time": "2022-05-20T10:12:13.460Z"
   },
   {
    "duration": 278,
    "start_time": "2022-05-20T10:12:13.481Z"
   },
   {
    "duration": 150,
    "start_time": "2022-05-20T10:12:13.761Z"
   },
   {
    "duration": 14,
    "start_time": "2022-05-20T10:12:13.913Z"
   },
   {
    "duration": 97,
    "start_time": "2022-05-20T10:12:13.928Z"
   },
   {
    "duration": 94,
    "start_time": "2022-05-20T10:12:14.027Z"
   },
   {
    "duration": 83,
    "start_time": "2022-05-20T10:12:14.122Z"
   },
   {
    "duration": 354,
    "start_time": "2022-05-20T10:12:14.207Z"
   },
   {
    "duration": 414,
    "start_time": "2022-05-20T10:13:16.822Z"
   },
   {
    "duration": 56,
    "start_time": "2022-05-20T13:42:00.889Z"
   },
   {
    "duration": 1389,
    "start_time": "2022-05-20T13:42:07.982Z"
   },
   {
    "duration": 2825,
    "start_time": "2022-05-20T13:42:09.373Z"
   },
   {
    "duration": 17,
    "start_time": "2022-05-20T13:42:12.200Z"
   },
   {
    "duration": 134,
    "start_time": "2022-05-20T13:42:12.218Z"
   },
   {
    "duration": 131,
    "start_time": "2022-05-20T13:42:12.353Z"
   },
   {
    "duration": 95,
    "start_time": "2022-05-20T13:42:12.485Z"
   },
   {
    "duration": 17,
    "start_time": "2022-05-20T13:42:12.581Z"
   },
   {
    "duration": 180,
    "start_time": "2022-05-20T13:42:12.599Z"
   },
   {
    "duration": 167,
    "start_time": "2022-05-20T13:42:12.781Z"
   },
   {
    "duration": 167,
    "start_time": "2022-05-20T13:42:12.951Z"
   },
   {
    "duration": 17,
    "start_time": "2022-05-20T13:42:13.119Z"
   },
   {
    "duration": 116,
    "start_time": "2022-05-20T13:42:13.138Z"
   },
   {
    "duration": 405,
    "start_time": "2022-05-20T13:42:13.255Z"
   },
   {
    "duration": 45,
    "start_time": "2022-05-20T13:42:13.662Z"
   },
   {
    "duration": 136,
    "start_time": "2022-05-20T13:42:13.709Z"
   },
   {
    "duration": 61,
    "start_time": "2022-05-20T13:42:13.847Z"
   },
   {
    "duration": 127,
    "start_time": "2022-05-20T13:42:13.910Z"
   },
   {
    "duration": 70,
    "start_time": "2022-05-20T13:42:14.038Z"
   },
   {
    "duration": 12,
    "start_time": "2022-05-20T13:42:14.110Z"
   },
   {
    "duration": 71,
    "start_time": "2022-05-20T13:42:14.124Z"
   },
   {
    "duration": 5,
    "start_time": "2022-05-20T13:42:14.196Z"
   },
   {
    "duration": 9,
    "start_time": "2022-05-20T13:42:14.203Z"
   },
   {
    "duration": 14,
    "start_time": "2022-05-20T13:42:14.213Z"
   },
   {
    "duration": 30,
    "start_time": "2022-05-20T13:42:14.229Z"
   },
   {
    "duration": 115,
    "start_time": "2022-05-20T13:42:14.261Z"
   },
   {
    "duration": 50,
    "start_time": "2022-05-20T13:42:14.378Z"
   },
   {
    "duration": 130,
    "start_time": "2022-05-20T13:42:14.429Z"
   },
   {
    "duration": 16,
    "start_time": "2022-05-20T13:42:14.563Z"
   },
   {
    "duration": 265,
    "start_time": "2022-05-20T13:42:14.580Z"
   },
   {
    "duration": 148,
    "start_time": "2022-05-20T13:42:14.846Z"
   },
   {
    "duration": 13,
    "start_time": "2022-05-20T13:42:14.995Z"
   },
   {
    "duration": 135,
    "start_time": "2022-05-20T13:42:15.009Z"
   },
   {
    "duration": 87,
    "start_time": "2022-05-20T13:42:15.146Z"
   },
   {
    "duration": 86,
    "start_time": "2022-05-20T13:42:15.235Z"
   },
   {
    "duration": 67,
    "start_time": "2022-05-20T13:42:15.322Z"
   },
   {
    "duration": 20394,
    "start_time": "2022-05-20T13:42:27.225Z"
   },
   {
    "duration": 6172,
    "start_time": "2022-05-20T13:43:01.197Z"
   },
   {
    "duration": 16369,
    "start_time": "2022-05-20T13:43:15.116Z"
   },
   {
    "duration": 21128,
    "start_time": "2022-05-20T13:43:33.617Z"
   },
   {
    "duration": 126,
    "start_time": "2022-05-20T13:45:39.226Z"
   },
   {
    "duration": 23,
    "start_time": "2022-05-20T13:50:47.370Z"
   },
   {
    "duration": 25,
    "start_time": "2022-05-20T13:51:04.187Z"
   },
   {
    "duration": 21,
    "start_time": "2022-05-20T13:51:06.429Z"
   },
   {
    "duration": 19,
    "start_time": "2022-05-20T13:52:55.189Z"
   },
   {
    "duration": 10,
    "start_time": "2022-05-20T14:02:33.752Z"
   },
   {
    "duration": 15,
    "start_time": "2022-05-20T14:02:56.586Z"
   },
   {
    "duration": 15,
    "start_time": "2022-05-20T14:03:10.039Z"
   },
   {
    "duration": 17,
    "start_time": "2022-05-20T14:03:17.980Z"
   },
   {
    "duration": 21,
    "start_time": "2022-05-20T14:03:22.396Z"
   },
   {
    "duration": 20,
    "start_time": "2022-05-20T14:03:24.872Z"
   },
   {
    "duration": 20,
    "start_time": "2022-05-20T14:03:49.065Z"
   },
   {
    "duration": 11,
    "start_time": "2022-05-20T14:04:05.336Z"
   },
   {
    "duration": 32,
    "start_time": "2022-05-20T14:04:50.608Z"
   },
   {
    "duration": 23881,
    "start_time": "2022-05-20T14:05:06.732Z"
   },
   {
    "duration": 21988,
    "start_time": "2022-05-20T14:05:41.854Z"
   },
   {
    "duration": 22781,
    "start_time": "2022-05-20T14:07:37.690Z"
   },
   {
    "duration": 23184,
    "start_time": "2022-05-20T14:08:31.190Z"
   },
   {
    "duration": 93,
    "start_time": "2022-05-20T14:17:03.007Z"
   },
   {
    "duration": 32446,
    "start_time": "2022-05-20T14:17:09.367Z"
   },
   {
    "duration": 588,
    "start_time": "2022-05-20T14:17:41.814Z"
   },
   {
    "duration": 32324,
    "start_time": "2022-05-20T14:18:03.341Z"
   },
   {
    "duration": 303,
    "start_time": "2022-05-20T14:19:35.300Z"
   },
   {
    "duration": 2414,
    "start_time": "2022-05-20T14:20:08.255Z"
   },
   {
    "duration": 761,
    "start_time": "2022-05-20T14:21:58.434Z"
   },
   {
    "duration": 13074,
    "start_time": "2022-05-20T14:22:43.877Z"
   },
   {
    "duration": 24,
    "start_time": "2022-05-20T14:30:56.209Z"
   },
   {
    "duration": 3,
    "start_time": "2022-05-20T14:33:22.763Z"
   },
   {
    "duration": 86,
    "start_time": "2022-05-20T14:34:29.342Z"
   },
   {
    "duration": 3,
    "start_time": "2022-05-20T14:36:30.938Z"
   },
   {
    "duration": 24,
    "start_time": "2022-05-20T14:36:52.606Z"
   },
   {
    "duration": 25,
    "start_time": "2022-05-20T14:37:01.762Z"
   },
   {
    "duration": 14,
    "start_time": "2022-05-20T14:37:05.903Z"
   },
   {
    "duration": 352,
    "start_time": "2022-05-20T14:38:07.350Z"
   },
   {
    "duration": 4,
    "start_time": "2022-05-20T14:38:30.173Z"
   },
   {
    "duration": 982,
    "start_time": "2022-05-20T14:38:54.295Z"
   },
   {
    "duration": 17,
    "start_time": "2022-05-20T14:40:28.974Z"
   },
   {
    "duration": 54,
    "start_time": "2022-05-20T14:40:29.239Z"
   },
   {
    "duration": 75,
    "start_time": "2022-05-20T14:40:29.866Z"
   },
   {
    "duration": 4,
    "start_time": "2022-05-20T14:40:33.670Z"
   },
   {
    "duration": 136,
    "start_time": "2022-05-20T14:42:32.937Z"
   },
   {
    "duration": 34,
    "start_time": "2022-05-20T14:46:42.795Z"
   },
   {
    "duration": 9,
    "start_time": "2022-05-20T14:50:36.573Z"
   },
   {
    "duration": 4,
    "start_time": "2022-05-20T14:51:29.380Z"
   },
   {
    "duration": 3,
    "start_time": "2022-05-20T14:51:39.445Z"
   },
   {
    "duration": 141,
    "start_time": "2022-05-20T14:57:55.521Z"
   },
   {
    "duration": 3,
    "start_time": "2022-05-20T14:58:16.418Z"
   },
   {
    "duration": 30727,
    "start_time": "2022-05-20T14:58:17.152Z"
   },
   {
    "duration": 259,
    "start_time": "2022-05-20T15:01:18.529Z"
   },
   {
    "duration": 349,
    "start_time": "2022-05-20T15:01:33.262Z"
   },
   {
    "duration": 211,
    "start_time": "2022-05-20T15:01:45.452Z"
   },
   {
    "duration": 4,
    "start_time": "2022-05-20T15:02:52.000Z"
   },
   {
    "duration": 35389,
    "start_time": "2022-05-20T15:02:53.350Z"
   },
   {
    "duration": 8268,
    "start_time": "2022-05-20T15:05:56.807Z"
   },
   {
    "duration": 8081,
    "start_time": "2022-05-20T15:07:31.499Z"
   },
   {
    "duration": 1794,
    "start_time": "2022-05-20T15:07:49.061Z"
   },
   {
    "duration": 117417,
    "start_time": "2022-05-20T15:07:50.860Z"
   },
   {
    "duration": 4,
    "start_time": "2022-05-20T15:13:32.722Z"
   },
   {
    "duration": 58,
    "start_time": "2022-05-21T08:24:40.285Z"
   },
   {
    "duration": 1505,
    "start_time": "2022-05-21T08:24:55.859Z"
   },
   {
    "duration": 2655,
    "start_time": "2022-05-21T08:24:57.366Z"
   },
   {
    "duration": 18,
    "start_time": "2022-05-21T08:25:00.023Z"
   },
   {
    "duration": 126,
    "start_time": "2022-05-21T08:25:00.043Z"
   },
   {
    "duration": 134,
    "start_time": "2022-05-21T08:25:00.172Z"
   },
   {
    "duration": 109,
    "start_time": "2022-05-21T08:25:00.308Z"
   },
   {
    "duration": 18,
    "start_time": "2022-05-21T08:25:00.419Z"
   },
   {
    "duration": 201,
    "start_time": "2022-05-21T08:25:00.439Z"
   },
   {
    "duration": 171,
    "start_time": "2022-05-21T08:25:00.642Z"
   },
   {
    "duration": 175,
    "start_time": "2022-05-21T08:25:00.814Z"
   },
   {
    "duration": 17,
    "start_time": "2022-05-21T08:25:00.990Z"
   },
   {
    "duration": 129,
    "start_time": "2022-05-21T08:25:01.008Z"
   },
   {
    "duration": 342,
    "start_time": "2022-05-21T08:25:01.138Z"
   },
   {
    "duration": 45,
    "start_time": "2022-05-21T08:25:01.483Z"
   },
   {
    "duration": 142,
    "start_time": "2022-05-21T08:25:01.529Z"
   },
   {
    "duration": 60,
    "start_time": "2022-05-21T08:25:01.672Z"
   },
   {
    "duration": 145,
    "start_time": "2022-05-21T08:25:01.734Z"
   },
   {
    "duration": 79,
    "start_time": "2022-05-21T08:25:01.881Z"
   },
   {
    "duration": 13,
    "start_time": "2022-05-21T08:25:01.962Z"
   },
   {
    "duration": 79,
    "start_time": "2022-05-21T08:25:01.976Z"
   },
   {
    "duration": 5,
    "start_time": "2022-05-21T08:25:02.057Z"
   },
   {
    "duration": 9,
    "start_time": "2022-05-21T08:25:02.063Z"
   },
   {
    "duration": 29,
    "start_time": "2022-05-21T08:25:02.074Z"
   },
   {
    "duration": 5,
    "start_time": "2022-05-21T08:25:02.105Z"
   },
   {
    "duration": 125,
    "start_time": "2022-05-21T08:25:02.111Z"
   },
   {
    "duration": 65,
    "start_time": "2022-05-21T08:25:02.238Z"
   },
   {
    "duration": 121,
    "start_time": "2022-05-21T08:25:02.305Z"
   },
   {
    "duration": 16,
    "start_time": "2022-05-21T08:25:02.427Z"
   },
   {
    "duration": 290,
    "start_time": "2022-05-21T08:25:02.445Z"
   },
   {
    "duration": 35,
    "start_time": "2022-05-21T08:25:02.737Z"
   },
   {
    "duration": 20,
    "start_time": "2022-05-21T08:25:02.774Z"
   },
   {
    "duration": 73,
    "start_time": "2022-05-21T08:25:02.796Z"
   },
   {
    "duration": 89,
    "start_time": "2022-05-21T08:25:02.870Z"
   },
   {
    "duration": 102,
    "start_time": "2022-05-21T08:25:02.961Z"
   },
   {
    "duration": 32157,
    "start_time": "2022-05-21T08:25:03.064Z"
   },
   {
    "duration": 717,
    "start_time": "2022-05-21T08:25:35.223Z"
   },
   {
    "duration": 13,
    "start_time": "2022-05-21T08:25:35.941Z"
   },
   {
    "duration": 1720,
    "start_time": "2022-05-21T08:25:35.956Z"
   },
   {
    "duration": 967,
    "start_time": "2022-05-21T08:25:37.678Z"
   },
   {
    "duration": 78,
    "start_time": "2022-05-21T08:25:38.647Z"
   },
   {
    "duration": 84,
    "start_time": "2022-05-21T08:25:38.730Z"
   },
   {
    "duration": 83,
    "start_time": "2022-05-21T08:25:38.816Z"
   },
   {
    "duration": 43,
    "start_time": "2022-05-21T08:26:02.183Z"
   },
   {
    "duration": 352192,
    "start_time": "2022-05-21T08:26:32.751Z"
   },
   {
    "duration": 4,
    "start_time": "2022-05-21T09:09:55.199Z"
   },
   {
    "duration": 4,
    "start_time": "2022-05-21T09:10:00.870Z"
   },
   {
    "duration": 49,
    "start_time": "2022-05-21T09:11:06.816Z"
   },
   {
    "duration": 4,
    "start_time": "2022-05-21T09:11:12.013Z"
   },
   {
    "duration": 4281,
    "start_time": "2022-05-21T09:11:15.105Z"
   },
   {
    "duration": 36803,
    "start_time": "2022-05-21T09:12:17.366Z"
   },
   {
    "duration": 12,
    "start_time": "2022-05-21T09:12:54.172Z"
   },
   {
    "duration": 4,
    "start_time": "2022-05-21T09:13:41.511Z"
   },
   {
    "duration": 36486,
    "start_time": "2022-05-21T09:13:43.485Z"
   },
   {
    "duration": 4,
    "start_time": "2022-05-21T09:15:51.799Z"
   },
   {
    "duration": 4,
    "start_time": "2022-05-21T11:45:52.388Z"
   },
   {
    "duration": 40259,
    "start_time": "2022-05-21T11:45:53.106Z"
   },
   {
    "duration": 221571,
    "start_time": "2022-05-21T11:48:19.789Z"
   },
   {
    "duration": 0,
    "start_time": "2022-05-21T11:52:01.362Z"
   },
   {
    "duration": 54419,
    "start_time": "2022-05-21T11:52:02.788Z"
   },
   {
    "duration": 0,
    "start_time": "2022-05-21T11:52:57.209Z"
   },
   {
    "duration": 5449747,
    "start_time": "2022-05-21T11:52:58.520Z"
   },
   {
    "duration": 5,
    "start_time": "2022-05-21T13:23:48.270Z"
   },
   {
    "duration": 92,
    "start_time": "2022-05-24T09:01:29.667Z"
   },
   {
    "duration": 1849,
    "start_time": "2022-05-24T09:01:35.656Z"
   },
   {
    "duration": 1304,
    "start_time": "2022-05-24T09:01:37.508Z"
   },
   {
    "duration": 19,
    "start_time": "2022-05-24T09:01:38.814Z"
   },
   {
    "duration": 153,
    "start_time": "2022-05-24T09:01:38.835Z"
   },
   {
    "duration": 151,
    "start_time": "2022-05-24T09:01:38.990Z"
   },
   {
    "duration": 166,
    "start_time": "2022-05-24T09:01:39.143Z"
   },
   {
    "duration": 4,
    "start_time": "2022-05-24T09:01:45.224Z"
   },
   {
    "duration": 833,
    "start_time": "2022-05-24T09:01:45.230Z"
   },
   {
    "duration": 15,
    "start_time": "2022-05-24T09:01:46.065Z"
   },
   {
    "duration": 139,
    "start_time": "2022-05-24T09:01:46.082Z"
   },
   {
    "duration": 131,
    "start_time": "2022-05-24T09:01:46.223Z"
   },
   {
    "duration": 113,
    "start_time": "2022-05-24T09:01:46.356Z"
   },
   {
    "duration": 18,
    "start_time": "2022-05-24T09:01:46.471Z"
   },
   {
    "duration": 198,
    "start_time": "2022-05-24T09:01:46.490Z"
   },
   {
    "duration": 185,
    "start_time": "2022-05-24T09:01:46.690Z"
   },
   {
    "duration": 181,
    "start_time": "2022-05-24T09:01:46.876Z"
   },
   {
    "duration": 19,
    "start_time": "2022-05-24T09:01:47.060Z"
   },
   {
    "duration": 141,
    "start_time": "2022-05-24T09:01:47.080Z"
   },
   {
    "duration": 373,
    "start_time": "2022-05-24T09:01:47.223Z"
   },
   {
    "duration": 49,
    "start_time": "2022-05-24T09:01:47.598Z"
   },
   {
    "duration": 152,
    "start_time": "2022-05-24T09:01:47.649Z"
   },
   {
    "duration": 65,
    "start_time": "2022-05-24T09:01:47.803Z"
   },
   {
    "duration": 161,
    "start_time": "2022-05-24T09:01:47.870Z"
   },
   {
    "duration": 70,
    "start_time": "2022-05-24T09:01:48.033Z"
   },
   {
    "duration": 30,
    "start_time": "2022-05-24T09:01:48.106Z"
   },
   {
    "duration": 95,
    "start_time": "2022-05-24T09:01:48.139Z"
   },
   {
    "duration": 6,
    "start_time": "2022-05-24T09:01:48.236Z"
   },
   {
    "duration": 22,
    "start_time": "2022-05-24T09:01:48.243Z"
   },
   {
    "duration": 28,
    "start_time": "2022-05-24T09:01:48.267Z"
   },
   {
    "duration": 16,
    "start_time": "2022-05-24T09:01:48.297Z"
   },
   {
    "duration": 118,
    "start_time": "2022-05-24T09:01:48.315Z"
   },
   {
    "duration": 55,
    "start_time": "2022-05-24T09:01:48.435Z"
   },
   {
    "duration": 147,
    "start_time": "2022-05-24T09:01:48.492Z"
   },
   {
    "duration": 18,
    "start_time": "2022-05-24T09:01:48.641Z"
   },
   {
    "duration": 347,
    "start_time": "2022-05-24T09:01:48.664Z"
   },
   {
    "duration": 47,
    "start_time": "2022-05-24T09:01:49.013Z"
   },
   {
    "duration": 15,
    "start_time": "2022-05-24T09:01:49.062Z"
   },
   {
    "duration": 160,
    "start_time": "2022-05-24T09:01:49.079Z"
   },
   {
    "duration": 104,
    "start_time": "2022-05-24T09:01:49.240Z"
   },
   {
    "duration": 105,
    "start_time": "2022-05-24T09:01:49.346Z"
   },
   {
    "duration": 1348,
    "start_time": "2022-05-24T09:01:57.559Z"
   },
   {
    "duration": 127,
    "start_time": "2022-05-24T09:01:58.910Z"
   },
   {
    "duration": 0,
    "start_time": "2022-05-24T09:01:59.039Z"
   },
   {
    "duration": 24,
    "start_time": "2022-05-24T09:02:07.065Z"
   },
   {
    "duration": 35,
    "start_time": "2022-05-24T09:02:08.932Z"
   },
   {
    "duration": 64,
    "start_time": "2022-05-24T09:02:09.386Z"
   },
   {
    "duration": 92,
    "start_time": "2022-05-24T09:02:10.385Z"
   },
   {
    "duration": 156,
    "start_time": "2022-05-24T09:02:11.469Z"
   },
   {
    "duration": 4,
    "start_time": "2022-05-24T09:02:14.867Z"
   },
   {
    "duration": 5,
    "start_time": "2022-05-24T09:02:25.448Z"
   },
   {
    "duration": 53339,
    "start_time": "2022-05-24T09:02:35.884Z"
   },
   {
    "duration": 58824,
    "start_time": "2022-05-24T09:04:34.967Z"
   },
   {
    "duration": 56466,
    "start_time": "2022-05-24T09:05:40.710Z"
   },
   {
    "duration": 7064012,
    "start_time": "2022-05-24T09:08:24.779Z"
   },
   {
    "duration": 0,
    "start_time": "2022-05-24T11:06:08.793Z"
   },
   {
    "duration": 0,
    "start_time": "2022-05-24T11:06:08.794Z"
   },
   {
    "duration": 0,
    "start_time": "2022-05-24T11:06:08.795Z"
   },
   {
    "duration": 0,
    "start_time": "2022-05-24T11:06:08.796Z"
   },
   {
    "duration": 271,
    "start_time": "2022-05-24T11:06:16.502Z"
   },
   {
    "duration": 5624,
    "start_time": "2022-05-24T11:06:31.216Z"
   },
   {
    "duration": 387,
    "start_time": "2022-05-24T11:06:41.913Z"
   },
   {
    "duration": 18681,
    "start_time": "2022-05-24T11:06:53.051Z"
   },
   {
    "duration": 205946,
    "start_time": "2022-05-24T11:07:13.292Z"
   },
   {
    "duration": 4,
    "start_time": "2022-05-24T11:10:50.748Z"
   },
   {
    "duration": 1220,
    "start_time": "2022-05-24T11:11:27.314Z"
   },
   {
    "duration": 1267,
    "start_time": "2022-05-24T11:12:05.910Z"
   },
   {
    "duration": 264190,
    "start_time": "2022-05-24T11:13:37.055Z"
   },
   {
    "duration": 4,
    "start_time": "2022-05-24T11:18:01.247Z"
   },
   {
    "duration": 1253,
    "start_time": "2022-05-24T11:18:52.118Z"
   },
   {
    "duration": 1170,
    "start_time": "2022-05-24T11:19:21.058Z"
   },
   {
    "duration": 1292,
    "start_time": "2022-05-24T11:19:33.328Z"
   },
   {
    "duration": 1316,
    "start_time": "2022-05-24T11:19:38.267Z"
   },
   {
    "duration": 1181,
    "start_time": "2022-05-24T11:19:44.798Z"
   },
   {
    "duration": 1382,
    "start_time": "2022-05-24T11:19:50.783Z"
   },
   {
    "duration": 1389,
    "start_time": "2022-05-24T11:19:55.023Z"
   },
   {
    "duration": 1218,
    "start_time": "2022-05-24T11:20:03.878Z"
   },
   {
    "duration": 1212,
    "start_time": "2022-05-24T11:20:09.975Z"
   },
   {
    "duration": 1615,
    "start_time": "2022-05-24T11:20:15.816Z"
   },
   {
    "duration": 2732624,
    "start_time": "2022-05-24T11:20:44.008Z"
   },
   {
    "duration": 4,
    "start_time": "2022-05-24T12:06:16.634Z"
   },
   {
    "duration": 4,
    "start_time": "2022-05-24T12:06:18.574Z"
   },
   {
    "duration": 99181,
    "start_time": "2022-05-24T12:16:31.456Z"
   },
   {
    "duration": 26,
    "start_time": "2022-05-24T12:38:26.659Z"
   },
   {
    "duration": 10428,
    "start_time": "2022-05-24T12:38:33.357Z"
   },
   {
    "duration": 3255115,
    "start_time": "2022-05-24T12:38:47.574Z"
   },
   {
    "duration": 4,
    "start_time": "2022-05-24T13:33:02.691Z"
   },
   {
    "duration": 4,
    "start_time": "2022-05-24T13:35:44.092Z"
   },
   {
    "duration": 1136,
    "start_time": "2022-05-24T13:36:48.640Z"
   },
   {
    "duration": 4,
    "start_time": "2022-05-24T13:37:40.927Z"
   },
   {
    "duration": 4,
    "start_time": "2022-05-24T13:37:43.240Z"
   },
   {
    "duration": 25,
    "start_time": "2022-05-24T13:37:44.810Z"
   },
   {
    "duration": 5,
    "start_time": "2022-05-24T13:38:23.409Z"
   },
   {
    "duration": 241,
    "start_time": "2022-05-24T13:38:24.014Z"
   },
   {
    "duration": 5,
    "start_time": "2022-05-24T13:38:35.328Z"
   },
   {
    "duration": 237,
    "start_time": "2022-05-24T13:38:35.909Z"
   },
   {
    "duration": 4,
    "start_time": "2022-05-24T13:38:41.409Z"
   },
   {
    "duration": 4648,
    "start_time": "2022-05-24T13:38:41.844Z"
   },
   {
    "duration": 4,
    "start_time": "2022-05-24T13:39:03.124Z"
   },
   {
    "duration": 342,
    "start_time": "2022-05-24T13:39:03.320Z"
   },
   {
    "duration": 4,
    "start_time": "2022-05-24T13:39:28.910Z"
   },
   {
    "duration": 8882,
    "start_time": "2022-05-24T13:39:29.619Z"
   },
   {
    "duration": 517076,
    "start_time": "2022-05-24T13:42:24.515Z"
   },
   {
    "duration": 3805306,
    "start_time": "2022-05-24T13:51:01.593Z"
   },
   {
    "duration": 4,
    "start_time": "2022-05-24T15:14:23.170Z"
   },
   {
    "duration": 68,
    "start_time": "2022-05-24T20:33:55.293Z"
   },
   {
    "duration": 4898,
    "start_time": "2022-05-24T20:34:06.455Z"
   },
   {
    "duration": 1798,
    "start_time": "2022-05-24T20:34:11.356Z"
   },
   {
    "duration": 1009,
    "start_time": "2022-05-24T20:34:13.156Z"
   },
   {
    "duration": 18,
    "start_time": "2022-05-24T20:34:14.167Z"
   },
   {
    "duration": 102,
    "start_time": "2022-05-24T20:34:14.187Z"
   },
   {
    "duration": 115,
    "start_time": "2022-05-24T20:34:14.291Z"
   },
   {
    "duration": 95,
    "start_time": "2022-05-24T20:34:14.407Z"
   },
   {
    "duration": 14,
    "start_time": "2022-05-24T20:34:14.503Z"
   },
   {
    "duration": 170,
    "start_time": "2022-05-24T20:34:14.519Z"
   },
   {
    "duration": 163,
    "start_time": "2022-05-24T20:34:14.690Z"
   },
   {
    "duration": 169,
    "start_time": "2022-05-24T20:34:14.855Z"
   },
   {
    "duration": 16,
    "start_time": "2022-05-24T20:34:15.026Z"
   },
   {
    "duration": 102,
    "start_time": "2022-05-24T20:34:15.043Z"
   },
   {
    "duration": 413,
    "start_time": "2022-05-24T20:34:15.151Z"
   },
   {
    "duration": 38,
    "start_time": "2022-05-24T20:34:15.565Z"
   },
   {
    "duration": 158,
    "start_time": "2022-05-24T20:34:15.604Z"
   },
   {
    "duration": 50,
    "start_time": "2022-05-24T20:34:15.764Z"
   },
   {
    "duration": 143,
    "start_time": "2022-05-24T20:34:15.816Z"
   },
   {
    "duration": 58,
    "start_time": "2022-05-24T20:34:15.960Z"
   },
   {
    "duration": 13,
    "start_time": "2022-05-24T20:34:16.020Z"
   },
   {
    "duration": 61,
    "start_time": "2022-05-24T20:34:16.051Z"
   },
   {
    "duration": 5,
    "start_time": "2022-05-24T20:34:16.113Z"
   },
   {
    "duration": 10,
    "start_time": "2022-05-24T20:34:16.120Z"
   },
   {
    "duration": 33,
    "start_time": "2022-05-24T20:34:16.131Z"
   },
   {
    "duration": 5,
    "start_time": "2022-05-24T20:34:16.166Z"
   },
   {
    "duration": 120,
    "start_time": "2022-05-24T20:34:16.173Z"
   },
   {
    "duration": 60,
    "start_time": "2022-05-24T20:34:16.294Z"
   },
   {
    "duration": 118,
    "start_time": "2022-05-24T20:34:16.355Z"
   },
   {
    "duration": 15,
    "start_time": "2022-05-24T20:34:16.474Z"
   },
   {
    "duration": 288,
    "start_time": "2022-05-24T20:34:16.490Z"
   },
   {
    "duration": 34,
    "start_time": "2022-05-24T20:34:16.779Z"
   },
   {
    "duration": 11,
    "start_time": "2022-05-24T20:34:16.814Z"
   },
   {
    "duration": 75,
    "start_time": "2022-05-24T20:34:16.827Z"
   },
   {
    "duration": 71,
    "start_time": "2022-05-24T20:34:16.903Z"
   },
   {
    "duration": 95,
    "start_time": "2022-05-24T20:34:16.975Z"
   },
   {
    "duration": 24,
    "start_time": "2022-05-24T20:34:17.072Z"
   },
   {
    "duration": 895,
    "start_time": "2022-05-24T20:34:18.386Z"
   },
   {
    "duration": 68,
    "start_time": "2022-05-24T20:34:19.567Z"
   },
   {
    "duration": 77,
    "start_time": "2022-05-24T20:34:20.333Z"
   },
   {
    "duration": 225,
    "start_time": "2022-05-24T20:34:24.230Z"
   },
   {
    "duration": 5,
    "start_time": "2022-05-24T20:34:32.683Z"
   },
   {
    "duration": 104,
    "start_time": "2022-05-25T07:26:29.276Z"
   },
   {
    "duration": 5800,
    "start_time": "2022-05-25T07:26:36.163Z"
   },
   {
    "duration": 2155,
    "start_time": "2022-05-25T07:26:41.965Z"
   },
   {
    "duration": 1230,
    "start_time": "2022-05-25T07:26:44.121Z"
   },
   {
    "duration": 15,
    "start_time": "2022-05-25T07:26:45.353Z"
   },
   {
    "duration": 124,
    "start_time": "2022-05-25T07:26:45.370Z"
   },
   {
    "duration": 136,
    "start_time": "2022-05-25T07:26:45.496Z"
   },
   {
    "duration": 107,
    "start_time": "2022-05-25T07:26:45.634Z"
   },
   {
    "duration": 16,
    "start_time": "2022-05-25T07:26:45.743Z"
   },
   {
    "duration": 232,
    "start_time": "2022-05-25T07:26:45.761Z"
   },
   {
    "duration": 204,
    "start_time": "2022-05-25T07:26:45.996Z"
   },
   {
    "duration": 191,
    "start_time": "2022-05-25T07:26:46.202Z"
   },
   {
    "duration": 16,
    "start_time": "2022-05-25T07:26:46.395Z"
   },
   {
    "duration": 145,
    "start_time": "2022-05-25T07:26:46.412Z"
   },
   {
    "duration": 387,
    "start_time": "2022-05-25T07:26:46.559Z"
   },
   {
    "duration": 38,
    "start_time": "2022-05-25T07:26:46.948Z"
   },
   {
    "duration": 172,
    "start_time": "2022-05-25T07:26:46.988Z"
   },
   {
    "duration": 53,
    "start_time": "2022-05-25T07:26:47.161Z"
   },
   {
    "duration": 153,
    "start_time": "2022-05-25T07:26:47.223Z"
   },
   {
    "duration": 80,
    "start_time": "2022-05-25T07:26:47.378Z"
   },
   {
    "duration": 12,
    "start_time": "2022-05-25T07:26:47.459Z"
   },
   {
    "duration": 82,
    "start_time": "2022-05-25T07:26:47.473Z"
   },
   {
    "duration": 5,
    "start_time": "2022-05-25T07:26:47.557Z"
   },
   {
    "duration": 10,
    "start_time": "2022-05-25T07:26:47.564Z"
   },
   {
    "duration": 14,
    "start_time": "2022-05-25T07:26:47.575Z"
   },
   {
    "duration": 5,
    "start_time": "2022-05-25T07:26:47.591Z"
   },
   {
    "duration": 157,
    "start_time": "2022-05-25T07:26:47.597Z"
   },
   {
    "duration": 55,
    "start_time": "2022-05-25T07:26:47.756Z"
   },
   {
    "duration": 145,
    "start_time": "2022-05-25T07:26:47.823Z"
   },
   {
    "duration": 22,
    "start_time": "2022-05-25T07:26:47.970Z"
   },
   {
    "duration": 313,
    "start_time": "2022-05-25T07:26:47.993Z"
   },
   {
    "duration": 54,
    "start_time": "2022-05-25T07:26:48.307Z"
   },
   {
    "duration": 12,
    "start_time": "2022-05-25T07:26:48.362Z"
   },
   {
    "duration": 91,
    "start_time": "2022-05-25T07:26:48.376Z"
   },
   {
    "duration": 96,
    "start_time": "2022-05-25T07:26:48.468Z"
   },
   {
    "duration": 101,
    "start_time": "2022-05-25T07:26:48.566Z"
   },
   {
    "duration": 10,
    "start_time": "2022-05-25T07:26:48.669Z"
   },
   {
    "duration": 1099,
    "start_time": "2022-05-25T07:26:48.681Z"
   },
   {
    "duration": 82,
    "start_time": "2022-05-25T07:26:49.782Z"
   },
   {
    "duration": 99,
    "start_time": "2022-05-25T07:26:49.865Z"
   },
   {
    "duration": 3,
    "start_time": "2022-05-25T07:26:49.966Z"
   },
   {
    "duration": 164462,
    "start_time": "2022-05-25T07:26:50.420Z"
   },
   {
    "duration": 345843,
    "start_time": "2022-05-25T07:29:34.884Z"
   },
   {
    "duration": 69801,
    "start_time": "2022-05-25T07:35:20.731Z"
   },
   {
    "duration": 4,
    "start_time": "2022-05-25T07:43:49.947Z"
   },
   {
    "duration": 3,
    "start_time": "2022-05-25T08:03:35.613Z"
   },
   {
    "duration": 3,
    "start_time": "2022-05-25T08:03:35.977Z"
   },
   {
    "duration": 3,
    "start_time": "2022-05-25T08:05:24.565Z"
   },
   {
    "duration": 5,
    "start_time": "2022-05-25T08:09:40.544Z"
   },
   {
    "duration": 96,
    "start_time": "2022-05-25T08:09:49.365Z"
   },
   {
    "duration": 211,
    "start_time": "2022-05-25T08:10:03.219Z"
   },
   {
    "duration": 4,
    "start_time": "2022-05-25T08:10:31.039Z"
   },
   {
    "duration": 93,
    "start_time": "2022-05-25T08:10:32.943Z"
   },
   {
    "duration": 4,
    "start_time": "2022-05-25T08:11:44.274Z"
   },
   {
    "duration": 3,
    "start_time": "2022-05-25T08:12:00.408Z"
   },
   {
    "duration": 3,
    "start_time": "2022-05-25T08:12:01.562Z"
   },
   {
    "duration": 121,
    "start_time": "2022-05-25T08:12:03.005Z"
   },
   {
    "duration": 4,
    "start_time": "2022-05-25T08:12:11.074Z"
   },
   {
    "duration": 3,
    "start_time": "2022-05-25T08:12:11.388Z"
   },
   {
    "duration": 143,
    "start_time": "2022-05-25T08:12:11.886Z"
   },
   {
    "duration": 4,
    "start_time": "2022-05-25T08:13:03.353Z"
   },
   {
    "duration": 5,
    "start_time": "2022-05-25T08:13:03.806Z"
   },
   {
    "duration": 176,
    "start_time": "2022-05-25T08:13:04.252Z"
   },
   {
    "duration": 4,
    "start_time": "2022-05-25T08:13:19.744Z"
   },
   {
    "duration": 3,
    "start_time": "2022-05-25T08:13:20.051Z"
   },
   {
    "duration": 205,
    "start_time": "2022-05-25T08:13:20.322Z"
   },
   {
    "duration": 128,
    "start_time": "2022-05-25T08:13:24.799Z"
   },
   {
    "duration": 177,
    "start_time": "2022-05-25T08:13:25.846Z"
   },
   {
    "duration": 167,
    "start_time": "2022-05-25T08:13:26.655Z"
   },
   {
    "duration": 151,
    "start_time": "2022-05-25T08:13:27.477Z"
   },
   {
    "duration": 194,
    "start_time": "2022-05-25T08:13:28.228Z"
   },
   {
    "duration": 153,
    "start_time": "2022-05-25T08:13:28.972Z"
   },
   {
    "duration": 88,
    "start_time": "2022-05-25T08:13:29.644Z"
   },
   {
    "duration": 211,
    "start_time": "2022-05-25T08:13:30.321Z"
   },
   {
    "duration": 185,
    "start_time": "2022-05-25T08:13:31.638Z"
   },
   {
    "duration": 85,
    "start_time": "2022-05-25T08:13:33.047Z"
   },
   {
    "duration": 302,
    "start_time": "2022-05-25T08:13:34.624Z"
   },
   {
    "duration": 194,
    "start_time": "2022-05-25T08:13:35.629Z"
   },
   {
    "duration": 152,
    "start_time": "2022-05-25T08:13:36.174Z"
   },
   {
    "duration": 136,
    "start_time": "2022-05-25T08:13:36.692Z"
   },
   {
    "duration": 131,
    "start_time": "2022-05-25T08:13:37.196Z"
   },
   {
    "duration": 144,
    "start_time": "2022-05-25T08:13:37.683Z"
   },
   {
    "duration": 297,
    "start_time": "2022-05-25T08:13:40.526Z"
   },
   {
    "duration": 77,
    "start_time": "2022-05-25T08:13:41.757Z"
   },
   {
    "duration": 205,
    "start_time": "2022-05-25T08:13:42.627Z"
   },
   {
    "duration": 177,
    "start_time": "2022-05-25T08:14:08.353Z"
   },
   {
    "duration": 6,
    "start_time": "2022-05-25T08:22:15.276Z"
   },
   {
    "duration": 5,
    "start_time": "2022-05-25T08:25:05.350Z"
   },
   {
    "duration": 1330688,
    "start_time": "2022-05-25T08:28:38.067Z"
   },
   {
    "duration": 9,
    "start_time": "2022-05-25T08:50:48.757Z"
   },
   {
    "duration": 11,
    "start_time": "2022-05-25T08:53:43.787Z"
   },
   {
    "duration": 5991,
    "start_time": "2022-05-25T09:23:21.103Z"
   },
   {
    "duration": 1722,
    "start_time": "2022-05-25T09:23:27.096Z"
   },
   {
    "duration": 1176,
    "start_time": "2022-05-25T09:23:28.820Z"
   },
   {
    "duration": 18,
    "start_time": "2022-05-25T09:23:29.998Z"
   },
   {
    "duration": 137,
    "start_time": "2022-05-25T09:23:30.018Z"
   },
   {
    "duration": 120,
    "start_time": "2022-05-25T09:23:30.156Z"
   },
   {
    "duration": 111,
    "start_time": "2022-05-25T09:23:30.277Z"
   },
   {
    "duration": 17,
    "start_time": "2022-05-25T09:23:30.392Z"
   },
   {
    "duration": 190,
    "start_time": "2022-05-25T09:23:30.411Z"
   },
   {
    "duration": 196,
    "start_time": "2022-05-25T09:23:30.604Z"
   },
   {
    "duration": 189,
    "start_time": "2022-05-25T09:23:30.802Z"
   },
   {
    "duration": 19,
    "start_time": "2022-05-25T09:23:30.993Z"
   },
   {
    "duration": 166,
    "start_time": "2022-05-25T09:23:31.013Z"
   },
   {
    "duration": 373,
    "start_time": "2022-05-25T09:23:31.181Z"
   },
   {
    "duration": 61,
    "start_time": "2022-05-25T09:23:31.559Z"
   },
   {
    "duration": 185,
    "start_time": "2022-05-25T09:23:31.622Z"
   },
   {
    "duration": 78,
    "start_time": "2022-05-25T09:23:31.809Z"
   },
   {
    "duration": 173,
    "start_time": "2022-05-25T09:23:31.889Z"
   },
   {
    "duration": 67,
    "start_time": "2022-05-25T09:23:32.064Z"
   },
   {
    "duration": 29,
    "start_time": "2022-05-25T09:23:32.133Z"
   },
   {
    "duration": 82,
    "start_time": "2022-05-25T09:23:32.164Z"
   },
   {
    "duration": 10,
    "start_time": "2022-05-25T09:23:32.249Z"
   },
   {
    "duration": 13,
    "start_time": "2022-05-25T09:23:32.261Z"
   },
   {
    "duration": 23,
    "start_time": "2022-05-25T09:23:32.276Z"
   },
   {
    "duration": 6,
    "start_time": "2022-05-25T09:23:32.301Z"
   },
   {
    "duration": 139,
    "start_time": "2022-05-25T09:23:32.309Z"
   },
   {
    "duration": 62,
    "start_time": "2022-05-25T09:23:32.450Z"
   },
   {
    "duration": 135,
    "start_time": "2022-05-25T09:23:32.517Z"
   },
   {
    "duration": 17,
    "start_time": "2022-05-25T09:23:32.659Z"
   },
   {
    "duration": 372,
    "start_time": "2022-05-25T09:23:32.678Z"
   },
   {
    "duration": 46,
    "start_time": "2022-05-25T09:23:33.053Z"
   },
   {
    "duration": 22,
    "start_time": "2022-05-25T09:23:33.102Z"
   },
   {
    "duration": 130,
    "start_time": "2022-05-25T09:23:33.127Z"
   },
   {
    "duration": 90,
    "start_time": "2022-05-25T09:23:33.259Z"
   },
   {
    "duration": 95,
    "start_time": "2022-05-25T09:23:33.359Z"
   },
   {
    "duration": 34529,
    "start_time": "2022-05-25T09:23:33.459Z"
   },
   {
    "duration": 599,
    "start_time": "2022-05-25T09:24:07.990Z"
   },
   {
    "duration": 19,
    "start_time": "2022-05-25T09:24:08.591Z"
   },
   {
    "duration": 1996,
    "start_time": "2022-05-25T09:24:08.612Z"
   },
   {
    "duration": 1399,
    "start_time": "2022-05-25T09:24:10.610Z"
   },
   {
    "duration": 76,
    "start_time": "2022-05-25T09:24:12.011Z"
   },
   {
    "duration": 83,
    "start_time": "2022-05-25T09:24:12.089Z"
   },
   {
    "duration": 201,
    "start_time": "2022-05-25T09:24:12.173Z"
   },
   {
    "duration": 7,
    "start_time": "2022-05-25T09:24:12.460Z"
   },
   {
    "duration": 36931,
    "start_time": "2022-05-25T09:24:12.469Z"
   },
   {
    "duration": 166390,
    "start_time": "2022-05-25T09:24:49.402Z"
   },
   {
    "duration": 1967,
    "start_time": "2022-05-25T09:27:35.793Z"
   },
   {
    "duration": 4819,
    "start_time": "2022-05-25T09:34:42.653Z"
   },
   {
    "duration": 3390,
    "start_time": "2022-05-25T09:34:47.475Z"
   },
   {
    "duration": 2225,
    "start_time": "2022-05-25T09:34:50.867Z"
   },
   {
    "duration": 65,
    "start_time": "2022-05-25T09:34:53.095Z"
   },
   {
    "duration": 222,
    "start_time": "2022-05-25T09:34:53.162Z"
   },
   {
    "duration": 285,
    "start_time": "2022-05-25T09:34:53.386Z"
   },
   {
    "duration": 200,
    "start_time": "2022-05-25T09:34:53.672Z"
   },
   {
    "duration": 16,
    "start_time": "2022-05-25T09:34:53.873Z"
   },
   {
    "duration": 384,
    "start_time": "2022-05-25T09:34:53.891Z"
   },
   {
    "duration": 318,
    "start_time": "2022-05-25T09:34:54.277Z"
   },
   {
    "duration": 377,
    "start_time": "2022-05-25T09:34:54.596Z"
   },
   {
    "duration": 17,
    "start_time": "2022-05-25T09:34:54.975Z"
   },
   {
    "duration": 292,
    "start_time": "2022-05-25T09:34:54.993Z"
   },
   {
    "duration": 716,
    "start_time": "2022-05-25T09:34:55.286Z"
   },
   {
    "duration": 95,
    "start_time": "2022-05-25T09:34:56.004Z"
   },
   {
    "duration": 295,
    "start_time": "2022-05-25T09:34:56.101Z"
   },
   {
    "duration": 109,
    "start_time": "2022-05-25T09:34:56.398Z"
   },
   {
    "duration": 234,
    "start_time": "2022-05-25T09:34:56.559Z"
   },
   {
    "duration": 164,
    "start_time": "2022-05-25T09:34:56.795Z"
   },
   {
    "duration": 13,
    "start_time": "2022-05-25T09:34:56.961Z"
   },
   {
    "duration": 124,
    "start_time": "2022-05-25T09:34:56.976Z"
   },
   {
    "duration": 61,
    "start_time": "2022-05-25T09:34:57.101Z"
   },
   {
    "duration": 17,
    "start_time": "2022-05-25T09:34:57.167Z"
   },
   {
    "duration": 78,
    "start_time": "2022-05-25T09:34:57.186Z"
   },
   {
    "duration": 8,
    "start_time": "2022-05-25T09:34:57.266Z"
   },
   {
    "duration": 228,
    "start_time": "2022-05-25T09:34:57.276Z"
   },
   {
    "duration": 110,
    "start_time": "2022-05-25T09:34:57.558Z"
   },
   {
    "duration": 217,
    "start_time": "2022-05-25T09:34:57.671Z"
   },
   {
    "duration": 75,
    "start_time": "2022-05-25T09:34:57.889Z"
   },
   {
    "duration": 540,
    "start_time": "2022-05-25T09:34:57.965Z"
   },
   {
    "duration": 35,
    "start_time": "2022-05-25T09:34:58.558Z"
   },
   {
    "duration": 69,
    "start_time": "2022-05-25T09:34:58.595Z"
   },
   {
    "duration": 199,
    "start_time": "2022-05-25T09:34:58.665Z"
   },
   {
    "duration": 133,
    "start_time": "2022-05-25T09:34:58.865Z"
   },
   {
    "duration": 194,
    "start_time": "2022-05-25T09:34:58.999Z"
   },
   {
    "duration": 66381,
    "start_time": "2022-05-25T09:34:59.195Z"
   },
   {
    "duration": 1025,
    "start_time": "2022-05-25T09:36:05.577Z"
   },
   {
    "duration": 67,
    "start_time": "2022-05-25T09:36:06.604Z"
   },
   {
    "duration": 4120,
    "start_time": "2022-05-25T09:36:06.673Z"
   },
   {
    "duration": 2187,
    "start_time": "2022-05-25T09:36:10.795Z"
   },
   {
    "duration": 190,
    "start_time": "2022-05-25T09:36:12.984Z"
   },
   {
    "duration": 186,
    "start_time": "2022-05-25T09:36:13.176Z"
   },
   {
    "duration": 304,
    "start_time": "2022-05-25T09:36:13.363Z"
   },
   {
    "duration": 90,
    "start_time": "2022-05-25T09:36:13.670Z"
   },
   {
    "duration": 72536,
    "start_time": "2022-05-25T09:36:13.763Z"
   },
   {
    "duration": 340263,
    "start_time": "2022-05-25T09:37:26.301Z"
   },
   {
    "duration": 2304,
    "start_time": "2022-05-25T10:44:11.029Z"
   },
   {
    "duration": 1607,
    "start_time": "2022-05-25T10:44:13.336Z"
   },
   {
    "duration": 859,
    "start_time": "2022-05-25T10:44:14.944Z"
   },
   {
    "duration": 16,
    "start_time": "2022-05-25T10:44:15.805Z"
   },
   {
    "duration": 131,
    "start_time": "2022-05-25T10:44:15.823Z"
   },
   {
    "duration": 119,
    "start_time": "2022-05-25T10:44:15.958Z"
   },
   {
    "duration": 100,
    "start_time": "2022-05-25T10:44:16.079Z"
   },
   {
    "duration": 18,
    "start_time": "2022-05-25T10:44:16.180Z"
   },
   {
    "duration": 179,
    "start_time": "2022-05-25T10:44:16.199Z"
   },
   {
    "duration": 180,
    "start_time": "2022-05-25T10:44:16.380Z"
   },
   {
    "duration": 166,
    "start_time": "2022-05-25T10:44:16.562Z"
   },
   {
    "duration": 17,
    "start_time": "2022-05-25T10:44:16.730Z"
   },
   {
    "duration": 128,
    "start_time": "2022-05-25T10:44:16.759Z"
   },
   {
    "duration": 364,
    "start_time": "2022-05-25T10:44:16.888Z"
   },
   {
    "duration": 49,
    "start_time": "2022-05-25T10:44:17.259Z"
   },
   {
    "duration": 176,
    "start_time": "2022-05-25T10:44:17.311Z"
   },
   {
    "duration": 70,
    "start_time": "2022-05-25T10:44:17.489Z"
   },
   {
    "duration": 133,
    "start_time": "2022-05-25T10:44:17.561Z"
   },
   {
    "duration": 72,
    "start_time": "2022-05-25T10:44:17.695Z"
   },
   {
    "duration": 13,
    "start_time": "2022-05-25T10:44:17.769Z"
   },
   {
    "duration": 63,
    "start_time": "2022-05-25T10:44:17.784Z"
   },
   {
    "duration": 7,
    "start_time": "2022-05-25T10:44:17.859Z"
   },
   {
    "duration": 12,
    "start_time": "2022-05-25T10:44:17.868Z"
   },
   {
    "duration": 24,
    "start_time": "2022-05-25T10:44:17.882Z"
   },
   {
    "duration": 6,
    "start_time": "2022-05-25T10:44:17.908Z"
   },
   {
    "duration": 147,
    "start_time": "2022-05-25T10:44:17.916Z"
   },
   {
    "duration": 53,
    "start_time": "2022-05-25T10:44:18.065Z"
   },
   {
    "duration": 138,
    "start_time": "2022-05-25T10:44:18.123Z"
   },
   {
    "duration": 17,
    "start_time": "2022-05-25T10:44:18.264Z"
   },
   {
    "duration": 287,
    "start_time": "2022-05-25T10:44:18.283Z"
   },
   {
    "duration": 40,
    "start_time": "2022-05-25T10:44:18.571Z"
   },
   {
    "duration": 14,
    "start_time": "2022-05-25T10:44:18.613Z"
   },
   {
    "duration": 94,
    "start_time": "2022-05-25T10:44:18.628Z"
   },
   {
    "duration": 88,
    "start_time": "2022-05-25T10:44:18.724Z"
   },
   {
    "duration": 101,
    "start_time": "2022-05-25T10:44:18.814Z"
   },
   {
    "duration": 39098,
    "start_time": "2022-05-25T10:44:18.917Z"
   },
   {
    "duration": 547,
    "start_time": "2022-05-25T10:44:58.017Z"
   },
   {
    "duration": 11,
    "start_time": "2022-05-25T10:44:58.566Z"
   },
   {
    "duration": 1844,
    "start_time": "2022-05-25T10:44:58.579Z"
   },
   {
    "duration": 1008,
    "start_time": "2022-05-25T10:45:00.424Z"
   },
   {
    "duration": 72,
    "start_time": "2022-05-25T10:45:01.434Z"
   },
   {
    "duration": 85,
    "start_time": "2022-05-25T10:45:01.508Z"
   },
   {
    "duration": 270,
    "start_time": "2022-05-25T10:45:01.595Z"
   },
   {
    "duration": 7,
    "start_time": "2022-05-25T10:45:01.867Z"
   },
   {
    "duration": 35957,
    "start_time": "2022-05-25T10:45:01.876Z"
   },
   {
    "duration": 27326,
    "start_time": "2022-05-25T10:45:37.835Z"
   },
   {
    "duration": 1898,
    "start_time": "2022-05-25T10:46:05.163Z"
   },
   {
    "duration": 62,
    "start_time": "2022-05-25T19:19:16.581Z"
   },
   {
    "duration": 6894,
    "start_time": "2022-05-25T19:19:21.569Z"
   },
   {
    "duration": 2694,
    "start_time": "2022-05-25T19:19:28.465Z"
   },
   {
    "duration": 1284,
    "start_time": "2022-05-25T19:19:31.160Z"
   },
   {
    "duration": 18,
    "start_time": "2022-05-25T19:19:32.447Z"
   },
   {
    "duration": 143,
    "start_time": "2022-05-25T19:19:32.467Z"
   },
   {
    "duration": 155,
    "start_time": "2022-05-25T19:19:32.612Z"
   },
   {
    "duration": 110,
    "start_time": "2022-05-25T19:19:32.769Z"
   },
   {
    "duration": 16,
    "start_time": "2022-05-25T19:19:32.880Z"
   },
   {
    "duration": 203,
    "start_time": "2022-05-25T19:19:32.897Z"
   },
   {
    "duration": 194,
    "start_time": "2022-05-25T19:19:33.102Z"
   },
   {
    "duration": 205,
    "start_time": "2022-05-25T19:19:33.298Z"
   },
   {
    "duration": 20,
    "start_time": "2022-05-25T19:19:33.505Z"
   },
   {
    "duration": 139,
    "start_time": "2022-05-25T19:19:33.528Z"
   },
   {
    "duration": 359,
    "start_time": "2022-05-25T19:19:33.669Z"
   },
   {
    "duration": 46,
    "start_time": "2022-05-25T19:19:34.030Z"
   },
   {
    "duration": 161,
    "start_time": "2022-05-25T19:19:34.078Z"
   },
   {
    "duration": 58,
    "start_time": "2022-05-25T19:19:34.241Z"
   },
   {
    "duration": 155,
    "start_time": "2022-05-25T19:19:34.300Z"
   },
   {
    "duration": 72,
    "start_time": "2022-05-25T19:19:34.457Z"
   },
   {
    "duration": 17,
    "start_time": "2022-05-25T19:19:34.531Z"
   },
   {
    "duration": 78,
    "start_time": "2022-05-25T19:19:34.550Z"
   },
   {
    "duration": 8,
    "start_time": "2022-05-25T19:19:34.630Z"
   },
   {
    "duration": 14,
    "start_time": "2022-05-25T19:19:34.640Z"
   },
   {
    "duration": 18,
    "start_time": "2022-05-25T19:19:34.655Z"
   },
   {
    "duration": 6,
    "start_time": "2022-05-25T19:19:34.675Z"
   },
   {
    "duration": 161,
    "start_time": "2022-05-25T19:19:34.683Z"
   },
   {
    "duration": 60,
    "start_time": "2022-05-25T19:19:34.846Z"
   },
   {
    "duration": 148,
    "start_time": "2022-05-25T19:19:34.924Z"
   },
   {
    "duration": 17,
    "start_time": "2022-05-25T19:19:35.074Z"
   },
   {
    "duration": 372,
    "start_time": "2022-05-25T19:19:35.092Z"
   },
   {
    "duration": 39,
    "start_time": "2022-05-25T19:19:35.466Z"
   },
   {
    "duration": 25,
    "start_time": "2022-05-25T19:19:35.507Z"
   },
   {
    "duration": 99,
    "start_time": "2022-05-25T19:19:35.536Z"
   },
   {
    "duration": 82,
    "start_time": "2022-05-25T19:19:35.637Z"
   },
   {
    "duration": 92,
    "start_time": "2022-05-25T19:19:35.722Z"
   },
   {
    "duration": 35532,
    "start_time": "2022-05-25T19:19:35.824Z"
   },
   {
    "duration": 605,
    "start_time": "2022-05-25T19:20:11.357Z"
   },
   {
    "duration": 26,
    "start_time": "2022-05-25T19:20:11.964Z"
   },
   {
    "duration": 2161,
    "start_time": "2022-05-25T19:20:11.992Z"
   },
   {
    "duration": 1154,
    "start_time": "2022-05-25T19:20:14.154Z"
   },
   {
    "duration": 74,
    "start_time": "2022-05-25T19:20:15.310Z"
   },
   {
    "duration": 88,
    "start_time": "2022-05-25T19:20:15.386Z"
   },
   {
    "duration": 164,
    "start_time": "2022-05-25T19:20:15.476Z"
   },
   {
    "duration": 89,
    "start_time": "2022-05-25T19:20:15.643Z"
   },
   {
    "duration": 40437,
    "start_time": "2022-05-25T19:20:15.739Z"
   },
   {
    "duration": 210975,
    "start_time": "2022-05-25T19:20:56.178Z"
   },
   {
    "duration": 1960,
    "start_time": "2022-05-25T19:24:27.155Z"
   },
   {
    "duration": 131632,
    "start_time": "2022-05-25T19:24:29.117Z"
   },
   {
    "duration": 1769,
    "start_time": "2022-05-26T12:18:14.430Z"
   },
   {
    "duration": 5337,
    "start_time": "2022-05-26T12:18:20.990Z"
   },
   {
    "duration": 378,
    "start_time": "2022-05-26T12:18:26.329Z"
   },
   {
    "duration": 49,
    "start_time": "2022-05-26T12:19:49.069Z"
   },
   {
    "duration": 2690,
    "start_time": "2022-05-26T12:20:03.944Z"
   },
   {
    "duration": 245,
    "start_time": "2022-05-26T12:24:57.317Z"
   },
   {
    "duration": 103,
    "start_time": "2022-05-26T12:25:05.361Z"
   },
   {
    "duration": 111,
    "start_time": "2022-05-26T12:25:09.072Z"
   },
   {
    "duration": 118,
    "start_time": "2022-05-26T12:25:17.773Z"
   },
   {
    "duration": 137,
    "start_time": "2022-05-26T12:28:05.938Z"
   },
   {
    "duration": 107,
    "start_time": "2022-05-26T12:28:10.357Z"
   },
   {
    "duration": 101,
    "start_time": "2022-05-26T12:28:19.135Z"
   },
   {
    "duration": 117,
    "start_time": "2022-05-26T12:31:44.298Z"
   },
   {
    "duration": 106,
    "start_time": "2022-05-26T12:31:47.841Z"
   },
   {
    "duration": 4,
    "start_time": "2022-05-26T12:37:31.797Z"
   },
   {
    "duration": 20,
    "start_time": "2022-05-26T12:38:00.485Z"
   },
   {
    "duration": 2189,
    "start_time": "2022-05-26T12:39:06.760Z"
   },
   {
    "duration": 4,
    "start_time": "2022-05-26T12:39:08.952Z"
   },
   {
    "duration": 737,
    "start_time": "2022-05-26T12:39:08.957Z"
   },
   {
    "duration": 14,
    "start_time": "2022-05-26T12:39:09.696Z"
   },
   {
    "duration": 256,
    "start_time": "2022-05-26T12:39:09.712Z"
   },
   {
    "duration": 121,
    "start_time": "2022-05-26T12:39:09.970Z"
   },
   {
    "duration": 98,
    "start_time": "2022-05-26T12:39:10.092Z"
   },
   {
    "duration": 17,
    "start_time": "2022-05-26T12:39:10.191Z"
   },
   {
    "duration": 198,
    "start_time": "2022-05-26T12:39:10.210Z"
   },
   {
    "duration": 166,
    "start_time": "2022-05-26T12:39:10.410Z"
   },
   {
    "duration": 162,
    "start_time": "2022-05-26T12:39:10.577Z"
   },
   {
    "duration": 17,
    "start_time": "2022-05-26T12:39:10.741Z"
   },
   {
    "duration": 122,
    "start_time": "2022-05-26T12:39:10.759Z"
   },
   {
    "duration": 315,
    "start_time": "2022-05-26T12:39:10.884Z"
   },
   {
    "duration": 37,
    "start_time": "2022-05-26T12:39:11.201Z"
   },
   {
    "duration": 143,
    "start_time": "2022-05-26T12:39:11.239Z"
   },
   {
    "duration": 49,
    "start_time": "2022-05-26T12:39:11.384Z"
   },
   {
    "duration": 131,
    "start_time": "2022-05-26T12:39:11.434Z"
   },
   {
    "duration": 66,
    "start_time": "2022-05-26T12:39:11.566Z"
   },
   {
    "duration": 11,
    "start_time": "2022-05-26T12:39:11.634Z"
   },
   {
    "duration": 76,
    "start_time": "2022-05-26T12:39:11.647Z"
   },
   {
    "duration": 5,
    "start_time": "2022-05-26T12:39:11.725Z"
   },
   {
    "duration": 18,
    "start_time": "2022-05-26T12:39:11.732Z"
   },
   {
    "duration": 27,
    "start_time": "2022-05-26T12:39:11.752Z"
   },
   {
    "duration": 6,
    "start_time": "2022-05-26T12:39:11.780Z"
   },
   {
    "duration": 124,
    "start_time": "2022-05-26T12:39:11.787Z"
   },
   {
    "duration": 61,
    "start_time": "2022-05-26T12:39:11.913Z"
   },
   {
    "duration": 110,
    "start_time": "2022-05-26T12:39:11.975Z"
   },
   {
    "duration": 17,
    "start_time": "2022-05-26T12:39:12.087Z"
   },
   {
    "duration": 274,
    "start_time": "2022-05-26T12:39:12.107Z"
   },
   {
    "duration": 36,
    "start_time": "2022-05-26T12:39:12.384Z"
   },
   {
    "duration": 12,
    "start_time": "2022-05-26T12:39:12.422Z"
   },
   {
    "duration": 89,
    "start_time": "2022-05-26T12:39:12.435Z"
   },
   {
    "duration": 74,
    "start_time": "2022-05-26T12:39:12.526Z"
   },
   {
    "duration": 94,
    "start_time": "2022-05-26T12:39:12.602Z"
   },
   {
    "duration": 927,
    "start_time": "2022-05-26T12:39:13.896Z"
   },
   {
    "duration": 22,
    "start_time": "2022-05-26T12:39:15.367Z"
   },
   {
    "duration": 25,
    "start_time": "2022-05-26T12:39:20.041Z"
   },
   {
    "duration": 68,
    "start_time": "2022-05-26T12:39:23.686Z"
   },
   {
    "duration": 80,
    "start_time": "2022-05-26T12:39:26.411Z"
   },
   {
    "duration": 23,
    "start_time": "2022-05-26T12:39:30.916Z"
   },
   {
    "duration": 11,
    "start_time": "2022-05-26T12:39:55.229Z"
   },
   {
    "duration": 25,
    "start_time": "2022-05-26T12:39:59.310Z"
   },
   {
    "duration": 2252,
    "start_time": "2022-05-26T12:42:05.868Z"
   },
   {
    "duration": 4,
    "start_time": "2022-05-26T12:42:08.122Z"
   },
   {
    "duration": 686,
    "start_time": "2022-05-26T12:42:08.127Z"
   },
   {
    "duration": 14,
    "start_time": "2022-05-26T12:42:08.814Z"
   },
   {
    "duration": 120,
    "start_time": "2022-05-26T12:42:08.830Z"
   },
   {
    "duration": 118,
    "start_time": "2022-05-26T12:42:08.952Z"
   },
   {
    "duration": 87,
    "start_time": "2022-05-26T12:42:09.071Z"
   },
   {
    "duration": 25,
    "start_time": "2022-05-26T12:42:09.160Z"
   },
   {
    "duration": 165,
    "start_time": "2022-05-26T12:42:09.186Z"
   },
   {
    "duration": 161,
    "start_time": "2022-05-26T12:42:09.352Z"
   },
   {
    "duration": 163,
    "start_time": "2022-05-26T12:42:09.514Z"
   },
   {
    "duration": 17,
    "start_time": "2022-05-26T12:42:09.678Z"
   },
   {
    "duration": 115,
    "start_time": "2022-05-26T12:42:09.696Z"
   },
   {
    "duration": 339,
    "start_time": "2022-05-26T12:42:09.814Z"
   },
   {
    "duration": 40,
    "start_time": "2022-05-26T12:42:10.155Z"
   },
   {
    "duration": 134,
    "start_time": "2022-05-26T12:42:10.196Z"
   },
   {
    "duration": 62,
    "start_time": "2022-05-26T12:42:10.332Z"
   },
   {
    "duration": 138,
    "start_time": "2022-05-26T12:42:10.396Z"
   },
   {
    "duration": 66,
    "start_time": "2022-05-26T12:42:10.535Z"
   },
   {
    "duration": 13,
    "start_time": "2022-05-26T12:42:10.603Z"
   },
   {
    "duration": 80,
    "start_time": "2022-05-26T12:42:10.617Z"
   },
   {
    "duration": 5,
    "start_time": "2022-05-26T12:42:10.699Z"
   },
   {
    "duration": 51,
    "start_time": "2022-05-26T12:42:10.705Z"
   },
   {
    "duration": 24,
    "start_time": "2022-05-26T12:42:10.757Z"
   },
   {
    "duration": 5,
    "start_time": "2022-05-26T12:42:10.782Z"
   },
   {
    "duration": 126,
    "start_time": "2022-05-26T12:42:10.788Z"
   },
   {
    "duration": 52,
    "start_time": "2022-05-26T12:42:10.916Z"
   },
   {
    "duration": 114,
    "start_time": "2022-05-26T12:42:10.969Z"
   },
   {
    "duration": 15,
    "start_time": "2022-05-26T12:42:11.084Z"
   },
   {
    "duration": 269,
    "start_time": "2022-05-26T12:42:11.101Z"
   },
   {
    "duration": 34,
    "start_time": "2022-05-26T12:42:11.372Z"
   },
   {
    "duration": 12,
    "start_time": "2022-05-26T12:42:11.407Z"
   },
   {
    "duration": 94,
    "start_time": "2022-05-26T12:42:11.420Z"
   },
   {
    "duration": 73,
    "start_time": "2022-05-26T12:42:11.516Z"
   },
   {
    "duration": 93,
    "start_time": "2022-05-26T12:42:11.591Z"
   },
   {
    "duration": 12,
    "start_time": "2022-05-26T12:42:12.535Z"
   },
   {
    "duration": 11,
    "start_time": "2022-05-26T12:42:31.275Z"
   },
   {
    "duration": 24,
    "start_time": "2022-05-26T12:42:46.625Z"
   },
   {
    "duration": 431,
    "start_time": "2022-05-26T12:42:57.332Z"
   },
   {
    "duration": 487,
    "start_time": "2022-05-26T12:43:20.694Z"
   },
   {
    "duration": 430,
    "start_time": "2022-05-26T12:43:33.563Z"
   },
   {
    "duration": 18,
    "start_time": "2022-05-26T12:44:47.338Z"
   },
   {
    "duration": 12028,
    "start_time": "2022-05-26T12:48:57.298Z"
   },
   {
    "duration": 547,
    "start_time": "2022-05-26T12:49:17.283Z"
   },
   {
    "duration": 4,
    "start_time": "2022-05-26T12:50:34.875Z"
   },
   {
    "duration": 820,
    "start_time": "2022-05-26T12:51:00.350Z"
   },
   {
    "duration": 3,
    "start_time": "2022-05-26T12:52:31.911Z"
   },
   {
    "duration": 4,
    "start_time": "2022-05-26T12:52:44.534Z"
   },
   {
    "duration": 4,
    "start_time": "2022-05-26T12:52:53.804Z"
   },
   {
    "duration": 4,
    "start_time": "2022-05-26T12:53:01.361Z"
   },
   {
    "duration": 44,
    "start_time": "2022-05-26T12:53:16.351Z"
   },
   {
    "duration": 23,
    "start_time": "2022-05-26T12:53:27.935Z"
   },
   {
    "duration": 64,
    "start_time": "2022-05-26T12:53:36.958Z"
   },
   {
    "duration": 52,
    "start_time": "2022-05-26T12:53:42.701Z"
   },
   {
    "duration": 721,
    "start_time": "2022-05-26T12:53:57.166Z"
   },
   {
    "duration": 59,
    "start_time": "2022-05-26T12:54:03.236Z"
   },
   {
    "duration": 693,
    "start_time": "2022-05-26T12:54:17.282Z"
   },
   {
    "duration": 982,
    "start_time": "2022-05-26T12:54:20.156Z"
   },
   {
    "duration": 66,
    "start_time": "2022-05-26T12:54:22.094Z"
   },
   {
    "duration": 82,
    "start_time": "2022-05-26T12:54:24.345Z"
   },
   {
    "duration": 584,
    "start_time": "2022-05-26T12:55:24.622Z"
   },
   {
    "duration": 393,
    "start_time": "2022-05-26T12:55:48.344Z"
   },
   {
    "duration": 5,
    "start_time": "2022-05-26T12:56:15.433Z"
   },
   {
    "duration": 441,
    "start_time": "2022-05-26T12:56:46.686Z"
   },
   {
    "duration": 431,
    "start_time": "2022-05-26T12:56:59.980Z"
   },
   {
    "duration": 5,
    "start_time": "2022-05-26T12:57:03.957Z"
   },
   {
    "duration": 390,
    "start_time": "2022-05-26T12:57:07.337Z"
   },
   {
    "duration": 4,
    "start_time": "2022-05-26T12:57:21.959Z"
   },
   {
    "duration": 15,
    "start_time": "2022-05-26T12:57:35.911Z"
   },
   {
    "duration": 31,
    "start_time": "2022-05-26T12:57:51.439Z"
   },
   {
    "duration": 23,
    "start_time": "2022-05-26T12:58:02.675Z"
   },
   {
    "duration": 8,
    "start_time": "2022-05-26T12:58:10.585Z"
   },
   {
    "duration": 13,
    "start_time": "2022-05-26T12:59:54.273Z"
   },
   {
    "duration": 93,
    "start_time": "2022-05-26T13:00:07.341Z"
   },
   {
    "duration": 38,
    "start_time": "2022-05-26T13:00:27.275Z"
   },
   {
    "duration": 64,
    "start_time": "2022-05-26T13:00:33.136Z"
   },
   {
    "duration": 134,
    "start_time": "2022-05-26T13:00:39.230Z"
   },
   {
    "duration": 138,
    "start_time": "2022-05-26T13:00:42.580Z"
   },
   {
    "duration": 37,
    "start_time": "2022-05-26T13:00:49.008Z"
   },
   {
    "duration": 134,
    "start_time": "2022-05-26T13:00:52.344Z"
   },
   {
    "duration": 27,
    "start_time": "2022-05-26T13:02:13.299Z"
   },
   {
    "duration": 2275,
    "start_time": "2022-05-26T13:02:20.084Z"
   },
   {
    "duration": 4,
    "start_time": "2022-05-26T13:02:22.362Z"
   },
   {
    "duration": 731,
    "start_time": "2022-05-26T13:02:22.367Z"
   },
   {
    "duration": 13,
    "start_time": "2022-05-26T13:02:23.100Z"
   },
   {
    "duration": 116,
    "start_time": "2022-05-26T13:02:23.114Z"
   },
   {
    "duration": 117,
    "start_time": "2022-05-26T13:02:23.232Z"
   },
   {
    "duration": 94,
    "start_time": "2022-05-26T13:02:23.351Z"
   },
   {
    "duration": 16,
    "start_time": "2022-05-26T13:02:23.446Z"
   },
   {
    "duration": 173,
    "start_time": "2022-05-26T13:02:23.463Z"
   },
   {
    "duration": 170,
    "start_time": "2022-05-26T13:02:23.639Z"
   },
   {
    "duration": 172,
    "start_time": "2022-05-26T13:02:23.811Z"
   },
   {
    "duration": 16,
    "start_time": "2022-05-26T13:02:23.985Z"
   },
   {
    "duration": 117,
    "start_time": "2022-05-26T13:02:24.003Z"
   },
   {
    "duration": 329,
    "start_time": "2022-05-26T13:02:24.122Z"
   },
   {
    "duration": 36,
    "start_time": "2022-05-26T13:02:24.453Z"
   },
   {
    "duration": 139,
    "start_time": "2022-05-26T13:02:24.490Z"
   },
   {
    "duration": 47,
    "start_time": "2022-05-26T13:02:24.630Z"
   },
   {
    "duration": 128,
    "start_time": "2022-05-26T13:02:24.678Z"
   },
   {
    "duration": 53,
    "start_time": "2022-05-26T13:02:24.807Z"
   },
   {
    "duration": 21,
    "start_time": "2022-05-26T13:02:24.862Z"
   },
   {
    "duration": 46,
    "start_time": "2022-05-26T13:02:24.885Z"
   },
   {
    "duration": 5,
    "start_time": "2022-05-26T13:02:24.932Z"
   },
   {
    "duration": 10,
    "start_time": "2022-05-26T13:02:24.938Z"
   },
   {
    "duration": 31,
    "start_time": "2022-05-26T13:02:24.950Z"
   },
   {
    "duration": 4,
    "start_time": "2022-05-26T13:02:24.983Z"
   },
   {
    "duration": 129,
    "start_time": "2022-05-26T13:02:24.989Z"
   },
   {
    "duration": 10,
    "start_time": "2022-05-26T13:02:30.217Z"
   },
   {
    "duration": 53,
    "start_time": "2022-05-26T13:02:42.015Z"
   },
   {
    "duration": 37,
    "start_time": "2022-05-26T13:02:42.188Z"
   },
   {
    "duration": 38,
    "start_time": "2022-05-26T13:03:00.324Z"
   },
   {
    "duration": 27,
    "start_time": "2022-05-26T13:03:01.248Z"
   },
   {
    "duration": 36,
    "start_time": "2022-05-26T13:03:04.844Z"
   },
   {
    "duration": 31,
    "start_time": "2022-05-26T13:03:05.161Z"
   },
   {
    "duration": 43,
    "start_time": "2022-05-26T13:03:48.642Z"
   },
   {
    "duration": 35,
    "start_time": "2022-05-26T13:04:02.928Z"
   },
   {
    "duration": 2204,
    "start_time": "2022-05-26T13:04:40.465Z"
   },
   {
    "duration": 4,
    "start_time": "2022-05-26T13:04:42.672Z"
   },
   {
    "duration": 844,
    "start_time": "2022-05-26T13:04:42.678Z"
   },
   {
    "duration": 13,
    "start_time": "2022-05-26T13:04:43.524Z"
   },
   {
    "duration": 126,
    "start_time": "2022-05-26T13:04:43.539Z"
   },
   {
    "duration": 125,
    "start_time": "2022-05-26T13:04:43.666Z"
   },
   {
    "duration": 114,
    "start_time": "2022-05-26T13:04:43.794Z"
   },
   {
    "duration": 18,
    "start_time": "2022-05-26T13:04:43.910Z"
   },
   {
    "duration": 202,
    "start_time": "2022-05-26T13:04:43.930Z"
   },
   {
    "duration": 201,
    "start_time": "2022-05-26T13:04:44.135Z"
   },
   {
    "duration": 186,
    "start_time": "2022-05-26T13:04:44.338Z"
   },
   {
    "duration": 19,
    "start_time": "2022-05-26T13:04:44.526Z"
   },
   {
    "duration": 132,
    "start_time": "2022-05-26T13:04:44.546Z"
   },
   {
    "duration": 358,
    "start_time": "2022-05-26T13:04:44.680Z"
   },
   {
    "duration": 38,
    "start_time": "2022-05-26T13:04:45.039Z"
   },
   {
    "duration": 387,
    "start_time": "2022-05-26T13:04:45.079Z"
   },
   {
    "duration": 42,
    "start_time": "2022-05-26T13:04:45.468Z"
   },
   {
    "duration": 128,
    "start_time": "2022-05-26T13:04:45.512Z"
   },
   {
    "duration": 68,
    "start_time": "2022-05-26T13:04:45.641Z"
   },
   {
    "duration": 14,
    "start_time": "2022-05-26T13:04:45.710Z"
   },
   {
    "duration": 54,
    "start_time": "2022-05-26T13:04:45.725Z"
   },
   {
    "duration": 4,
    "start_time": "2022-05-26T13:04:45.781Z"
   },
   {
    "duration": 13,
    "start_time": "2022-05-26T13:04:45.787Z"
   },
   {
    "duration": 14,
    "start_time": "2022-05-26T13:04:45.801Z"
   },
   {
    "duration": 6,
    "start_time": "2022-05-26T13:04:45.816Z"
   },
   {
    "duration": 129,
    "start_time": "2022-05-26T13:04:45.823Z"
   },
   {
    "duration": 54,
    "start_time": "2022-05-26T13:04:46.822Z"
   },
   {
    "duration": 30,
    "start_time": "2022-05-26T13:04:47.477Z"
   },
   {
    "duration": 46,
    "start_time": "2022-05-26T13:05:14.496Z"
   },
   {
    "duration": 26,
    "start_time": "2022-05-26T13:05:14.988Z"
   },
   {
    "duration": 8,
    "start_time": "2022-05-26T13:05:39.851Z"
   },
   {
    "duration": 7,
    "start_time": "2022-05-26T13:05:46.488Z"
   },
   {
    "duration": 10,
    "start_time": "2022-05-26T13:06:05.665Z"
   },
   {
    "duration": 8,
    "start_time": "2022-05-26T13:06:19.478Z"
   },
   {
    "duration": 6,
    "start_time": "2022-05-26T13:06:25.257Z"
   },
   {
    "duration": 6,
    "start_time": "2022-05-26T13:06:37.551Z"
   },
   {
    "duration": 10,
    "start_time": "2022-05-26T13:06:40.605Z"
   },
   {
    "duration": 9,
    "start_time": "2022-05-26T13:06:54.497Z"
   },
   {
    "duration": 9,
    "start_time": "2022-05-26T13:06:59.080Z"
   },
   {
    "duration": 110,
    "start_time": "2022-05-26T13:07:03.181Z"
   },
   {
    "duration": 2351,
    "start_time": "2022-05-26T13:07:11.841Z"
   },
   {
    "duration": 6,
    "start_time": "2022-05-26T13:07:14.196Z"
   },
   {
    "duration": 727,
    "start_time": "2022-05-26T13:07:14.204Z"
   },
   {
    "duration": 13,
    "start_time": "2022-05-26T13:07:14.933Z"
   },
   {
    "duration": 129,
    "start_time": "2022-05-26T13:07:14.948Z"
   },
   {
    "duration": 114,
    "start_time": "2022-05-26T13:07:15.079Z"
   },
   {
    "duration": 95,
    "start_time": "2022-05-26T13:07:15.195Z"
   },
   {
    "duration": 16,
    "start_time": "2022-05-26T13:07:15.291Z"
   },
   {
    "duration": 182,
    "start_time": "2022-05-26T13:07:15.308Z"
   },
   {
    "duration": 171,
    "start_time": "2022-05-26T13:07:15.493Z"
   },
   {
    "duration": 163,
    "start_time": "2022-05-26T13:07:15.666Z"
   },
   {
    "duration": 17,
    "start_time": "2022-05-26T13:07:15.831Z"
   },
   {
    "duration": 120,
    "start_time": "2022-05-26T13:07:15.850Z"
   },
   {
    "duration": 349,
    "start_time": "2022-05-26T13:07:15.971Z"
   },
   {
    "duration": 31,
    "start_time": "2022-05-26T13:07:16.322Z"
   },
   {
    "duration": 143,
    "start_time": "2022-05-26T13:07:16.354Z"
   },
   {
    "duration": 44,
    "start_time": "2022-05-26T13:07:16.499Z"
   },
   {
    "duration": 136,
    "start_time": "2022-05-26T13:07:16.544Z"
   },
   {
    "duration": 63,
    "start_time": "2022-05-26T13:07:16.682Z"
   },
   {
    "duration": 30,
    "start_time": "2022-05-26T13:07:16.746Z"
   },
   {
    "duration": 50,
    "start_time": "2022-05-26T13:07:16.778Z"
   },
   {
    "duration": 6,
    "start_time": "2022-05-26T13:07:16.830Z"
   },
   {
    "duration": 9,
    "start_time": "2022-05-26T13:07:16.837Z"
   },
   {
    "duration": 38,
    "start_time": "2022-05-26T13:07:16.848Z"
   },
   {
    "duration": 6,
    "start_time": "2022-05-26T13:07:16.888Z"
   },
   {
    "duration": 125,
    "start_time": "2022-05-26T13:07:16.895Z"
   },
   {
    "duration": 102,
    "start_time": "2022-05-26T13:07:21.085Z"
   },
   {
    "duration": 105,
    "start_time": "2022-05-26T13:07:24.664Z"
   },
   {
    "duration": 8,
    "start_time": "2022-05-26T13:07:28.691Z"
   },
   {
    "duration": 20,
    "start_time": "2022-05-26T13:07:34.358Z"
   },
   {
    "duration": 29,
    "start_time": "2022-05-26T13:07:40.124Z"
   },
   {
    "duration": 31,
    "start_time": "2022-05-26T13:07:53.283Z"
   },
   {
    "duration": 15,
    "start_time": "2022-05-26T13:08:43.437Z"
   },
   {
    "duration": 22,
    "start_time": "2022-05-26T13:08:45.417Z"
   },
   {
    "duration": 13,
    "start_time": "2022-05-26T13:09:00.741Z"
   },
   {
    "duration": 55,
    "start_time": "2022-05-26T13:09:10.646Z"
   },
   {
    "duration": 86,
    "start_time": "2022-05-26T13:09:18.942Z"
   },
   {
    "duration": 123,
    "start_time": "2022-05-26T13:10:55.267Z"
   },
   {
    "duration": 114,
    "start_time": "2022-05-26T13:10:58.572Z"
   },
   {
    "duration": 28,
    "start_time": "2022-05-26T13:11:29.140Z"
   },
   {
    "duration": 20,
    "start_time": "2022-05-26T13:11:36.095Z"
   },
   {
    "duration": 17,
    "start_time": "2022-05-26T13:11:46.897Z"
   },
   {
    "duration": 17,
    "start_time": "2022-05-26T13:11:51.336Z"
   },
   {
    "duration": 74,
    "start_time": "2022-05-26T13:11:59.101Z"
   },
   {
    "duration": 11,
    "start_time": "2022-05-26T13:12:00.697Z"
   },
   {
    "duration": 127,
    "start_time": "2022-05-26T13:12:06.692Z"
   },
   {
    "duration": 17,
    "start_time": "2022-05-26T13:12:10.438Z"
   },
   {
    "duration": 324,
    "start_time": "2022-05-26T13:12:10.774Z"
   },
   {
    "duration": 16,
    "start_time": "2022-05-26T13:12:11.392Z"
   },
   {
    "duration": 17,
    "start_time": "2022-05-26T13:12:12.736Z"
   },
   {
    "duration": 71,
    "start_time": "2022-05-26T13:12:13.300Z"
   },
   {
    "duration": 100,
    "start_time": "2022-05-26T13:12:13.472Z"
   },
   {
    "duration": 93,
    "start_time": "2022-05-26T13:12:13.656Z"
   },
   {
    "duration": 11,
    "start_time": "2022-05-26T13:12:29.026Z"
   },
   {
    "duration": 857,
    "start_time": "2022-05-26T13:12:32.602Z"
   },
   {
    "duration": 154,
    "start_time": "2022-05-26T13:12:33.461Z"
   },
   {
    "duration": 149,
    "start_time": "2022-05-26T13:12:39.060Z"
   },
   {
    "duration": 1240,
    "start_time": "2022-05-26T13:12:42.213Z"
   },
   {
    "duration": 80,
    "start_time": "2022-05-26T13:12:43.454Z"
   },
   {
    "duration": 609,
    "start_time": "2022-05-26T13:12:43.816Z"
   },
   {
    "duration": 79,
    "start_time": "2022-05-26T13:12:46.308Z"
   },
   {
    "duration": 25541,
    "start_time": "2022-05-26T13:12:48.540Z"
   },
   {
    "duration": 2596,
    "start_time": "2022-05-26T13:52:20.785Z"
   },
   {
    "duration": 4,
    "start_time": "2022-05-26T13:52:30.120Z"
   },
   {
    "duration": 47,
    "start_time": "2022-05-26T13:52:48.777Z"
   },
   {
    "duration": 63,
    "start_time": "2022-05-26T13:53:07.154Z"
   },
   {
    "duration": 2391,
    "start_time": "2022-05-26T13:53:24.755Z"
   },
   {
    "duration": 1826,
    "start_time": "2022-05-26T13:53:27.148Z"
   },
   {
    "duration": 3158,
    "start_time": "2022-05-26T13:53:28.976Z"
   },
   {
    "duration": 20,
    "start_time": "2022-05-26T13:53:32.136Z"
   },
   {
    "duration": 166,
    "start_time": "2022-05-26T13:53:32.159Z"
   },
   {
    "duration": 136,
    "start_time": "2022-05-26T13:53:32.327Z"
   },
   {
    "duration": 101,
    "start_time": "2022-05-26T13:53:32.464Z"
   },
   {
    "duration": 24,
    "start_time": "2022-05-26T13:53:32.574Z"
   },
   {
    "duration": 193,
    "start_time": "2022-05-26T13:53:32.600Z"
   },
   {
    "duration": 251,
    "start_time": "2022-05-26T13:53:32.796Z"
   },
   {
    "duration": 212,
    "start_time": "2022-05-26T13:53:33.049Z"
   },
   {
    "duration": 31,
    "start_time": "2022-05-26T13:53:33.262Z"
   },
   {
    "duration": 140,
    "start_time": "2022-05-26T13:53:33.296Z"
   },
   {
    "duration": 382,
    "start_time": "2022-05-26T13:53:33.438Z"
   },
   {
    "duration": 40,
    "start_time": "2022-05-26T13:53:33.821Z"
   },
   {
    "duration": 169,
    "start_time": "2022-05-26T13:53:33.862Z"
   },
   {
    "duration": 67,
    "start_time": "2022-05-26T13:53:34.032Z"
   },
   {
    "duration": 145,
    "start_time": "2022-05-26T13:53:34.101Z"
   },
   {
    "duration": 79,
    "start_time": "2022-05-26T13:53:34.247Z"
   },
   {
    "duration": 13,
    "start_time": "2022-05-26T13:53:34.328Z"
   },
   {
    "duration": 92,
    "start_time": "2022-05-26T13:53:34.343Z"
   },
   {
    "duration": 6,
    "start_time": "2022-05-26T13:53:34.437Z"
   },
   {
    "duration": 9,
    "start_time": "2022-05-26T13:53:34.445Z"
   },
   {
    "duration": 39,
    "start_time": "2022-05-26T13:53:34.455Z"
   },
   {
    "duration": 7,
    "start_time": "2022-05-26T13:53:34.496Z"
   },
   {
    "duration": 132,
    "start_time": "2022-05-26T13:53:34.504Z"
   },
   {
    "duration": 103,
    "start_time": "2022-05-26T13:53:34.637Z"
   },
   {
    "duration": 78,
    "start_time": "2022-05-26T13:53:34.741Z"
   },
   {
    "duration": 118,
    "start_time": "2022-05-26T13:53:34.820Z"
   },
   {
    "duration": 17,
    "start_time": "2022-05-26T13:53:34.940Z"
   },
   {
    "duration": 325,
    "start_time": "2022-05-26T13:53:34.958Z"
   },
   {
    "duration": 38,
    "start_time": "2022-05-26T13:53:35.286Z"
   },
   {
    "duration": 12,
    "start_time": "2022-05-26T13:53:35.325Z"
   },
   {
    "duration": 99,
    "start_time": "2022-05-26T13:53:35.339Z"
   },
   {
    "duration": 91,
    "start_time": "2022-05-26T13:53:35.440Z"
   },
   {
    "duration": 104,
    "start_time": "2022-05-26T13:53:35.533Z"
   },
   {
    "duration": 19,
    "start_time": "2022-05-26T13:53:35.638Z"
   },
   {
    "duration": 856,
    "start_time": "2022-05-26T13:53:35.658Z"
   },
   {
    "duration": 1084,
    "start_time": "2022-05-26T13:53:36.515Z"
   },
   {
    "duration": 64,
    "start_time": "2022-05-26T13:53:37.601Z"
   },
   {
    "duration": 585,
    "start_time": "2022-05-26T13:53:37.668Z"
   },
   {
    "duration": 2511,
    "start_time": "2022-05-26T13:53:39.374Z"
   },
   {
    "duration": 87,
    "start_time": "2022-05-26T13:53:41.888Z"
   },
   {
    "duration": 25215,
    "start_time": "2022-05-26T13:53:48.462Z"
   },
   {
    "duration": 28,
    "start_time": "2022-05-26T13:56:19.073Z"
   },
   {
    "duration": 165,
    "start_time": "2022-05-26T13:57:39.288Z"
   },
   {
    "duration": 3,
    "start_time": "2022-05-26T13:57:44.531Z"
   },
   {
    "duration": 32,
    "start_time": "2022-05-26T13:57:52.601Z"
   },
   {
    "duration": 35,
    "start_time": "2022-05-26T13:58:05.476Z"
   },
   {
    "duration": 31,
    "start_time": "2022-05-26T13:58:07.779Z"
   },
   {
    "duration": 2357,
    "start_time": "2022-05-26T13:58:44.700Z"
   },
   {
    "duration": 5,
    "start_time": "2022-05-26T13:58:47.060Z"
   },
   {
    "duration": 743,
    "start_time": "2022-05-26T13:58:47.066Z"
   },
   {
    "duration": 14,
    "start_time": "2022-05-26T13:58:47.810Z"
   },
   {
    "duration": 141,
    "start_time": "2022-05-26T13:58:47.826Z"
   },
   {
    "duration": 135,
    "start_time": "2022-05-26T13:58:47.969Z"
   },
   {
    "duration": 108,
    "start_time": "2022-05-26T13:58:48.106Z"
   },
   {
    "duration": 16,
    "start_time": "2022-05-26T13:58:48.215Z"
   },
   {
    "duration": 192,
    "start_time": "2022-05-26T13:58:48.233Z"
   },
   {
    "duration": 185,
    "start_time": "2022-05-26T13:58:48.427Z"
   },
   {
    "duration": 185,
    "start_time": "2022-05-26T13:58:48.614Z"
   },
   {
    "duration": 17,
    "start_time": "2022-05-26T13:58:48.801Z"
   },
   {
    "duration": 135,
    "start_time": "2022-05-26T13:58:48.820Z"
   },
   {
    "duration": 355,
    "start_time": "2022-05-26T13:58:48.959Z"
   },
   {
    "duration": 36,
    "start_time": "2022-05-26T13:58:49.316Z"
   },
   {
    "duration": 161,
    "start_time": "2022-05-26T13:58:49.354Z"
   },
   {
    "duration": 47,
    "start_time": "2022-05-26T13:58:49.516Z"
   },
   {
    "duration": 141,
    "start_time": "2022-05-26T13:58:49.576Z"
   },
   {
    "duration": 58,
    "start_time": "2022-05-26T13:58:49.718Z"
   },
   {
    "duration": 17,
    "start_time": "2022-05-26T13:58:49.779Z"
   },
   {
    "duration": 53,
    "start_time": "2022-05-26T13:58:49.798Z"
   },
   {
    "duration": 5,
    "start_time": "2022-05-26T13:58:49.853Z"
   },
   {
    "duration": 13,
    "start_time": "2022-05-26T13:58:49.876Z"
   },
   {
    "duration": 20,
    "start_time": "2022-05-26T13:58:49.890Z"
   },
   {
    "duration": 6,
    "start_time": "2022-05-26T13:58:49.912Z"
   },
   {
    "duration": 137,
    "start_time": "2022-05-26T13:58:49.920Z"
   },
   {
    "duration": 101,
    "start_time": "2022-05-26T13:58:50.058Z"
   },
   {
    "duration": 78,
    "start_time": "2022-05-26T13:58:50.161Z"
   },
   {
    "duration": 122,
    "start_time": "2022-05-26T13:58:50.241Z"
   },
   {
    "duration": 24,
    "start_time": "2022-05-26T13:58:50.374Z"
   },
   {
    "duration": 319,
    "start_time": "2022-05-26T13:58:50.399Z"
   },
   {
    "duration": 32,
    "start_time": "2022-05-26T13:58:50.720Z"
   },
   {
    "duration": 12,
    "start_time": "2022-05-26T13:58:50.754Z"
   },
   {
    "duration": 77,
    "start_time": "2022-05-26T13:58:50.776Z"
   },
   {
    "duration": 98,
    "start_time": "2022-05-26T13:58:50.855Z"
   },
   {
    "duration": 98,
    "start_time": "2022-05-26T13:58:50.954Z"
   },
   {
    "duration": 11,
    "start_time": "2022-05-26T13:58:51.054Z"
   },
   {
    "duration": 823,
    "start_time": "2022-05-26T13:59:42.357Z"
   },
   {
    "duration": 1160,
    "start_time": "2022-05-26T13:59:43.182Z"
   },
   {
    "duration": 83,
    "start_time": "2022-05-26T13:59:44.344Z"
   },
   {
    "duration": 557,
    "start_time": "2022-05-26T13:59:44.608Z"
   },
   {
    "duration": 81,
    "start_time": "2022-05-26T13:59:45.945Z"
   },
   {
    "duration": 20,
    "start_time": "2022-05-26T14:00:22.704Z"
   },
   {
    "duration": 213,
    "start_time": "2022-05-26T14:01:21.262Z"
   },
   {
    "duration": 8339,
    "start_time": "2022-05-26T14:01:22.276Z"
   },
   {
    "duration": 136,
    "start_time": "2022-05-26T14:02:41.526Z"
   },
   {
    "duration": 114,
    "start_time": "2022-05-26T14:02:55.495Z"
   },
   {
    "duration": 403,
    "start_time": "2022-05-26T14:03:21.256Z"
   },
   {
    "duration": 200953,
    "start_time": "2022-05-26T14:03:22.607Z"
   },
   {
    "duration": 83,
    "start_time": "2022-05-26T14:22:46.690Z"
   },
   {
    "duration": 30,
    "start_time": "2022-05-26T14:23:36.251Z"
   },
   {
    "duration": 14,
    "start_time": "2022-05-26T14:25:12.373Z"
   },
   {
    "duration": 29,
    "start_time": "2022-05-26T14:25:18.642Z"
   },
   {
    "duration": 185381,
    "start_time": "2022-05-26T14:25:21.732Z"
   },
   {
    "duration": 360,
    "start_time": "2022-05-26T14:28:27.115Z"
   },
   {
    "duration": 24,
    "start_time": "2022-05-26T14:28:27.476Z"
   },
   {
    "duration": 7,
    "start_time": "2022-05-26T14:28:27.501Z"
   },
   {
    "duration": 53,
    "start_time": "2022-05-26T14:28:44.104Z"
   },
   {
    "duration": 57,
    "start_time": "2022-05-26T14:28:55.519Z"
   },
   {
    "duration": 68,
    "start_time": "2022-05-26T14:29:51.046Z"
   },
   {
    "duration": 28,
    "start_time": "2022-05-26T14:30:41.565Z"
   },
   {
    "duration": 26,
    "start_time": "2022-05-26T14:30:50.440Z"
   },
   {
    "duration": 483,
    "start_time": "2022-05-26T14:32:55.516Z"
   },
   {
    "duration": 23,
    "start_time": "2022-05-26T14:33:06.489Z"
   },
   {
    "duration": 454,
    "start_time": "2022-05-26T14:33:10.405Z"
   },
   {
    "duration": 10399,
    "start_time": "2022-05-26T14:33:16.202Z"
   },
   {
    "duration": 181005,
    "start_time": "2022-05-26T14:33:26.674Z"
   },
   {
    "duration": 21846,
    "start_time": "2022-05-26T14:42:47.937Z"
   },
   {
    "duration": 4,
    "start_time": "2022-05-26T14:43:14.274Z"
   },
   {
    "duration": 4,
    "start_time": "2022-05-26T14:43:14.549Z"
   },
   {
    "duration": 21960,
    "start_time": "2022-05-26T14:43:15.419Z"
   },
   {
    "duration": 7363,
    "start_time": "2022-05-28T08:34:47.872Z"
   },
   {
    "duration": 1624,
    "start_time": "2022-05-28T08:34:55.238Z"
   },
   {
    "duration": 1651,
    "start_time": "2022-05-28T08:34:56.864Z"
   },
   {
    "duration": 17,
    "start_time": "2022-05-28T08:34:58.517Z"
   },
   {
    "duration": 130,
    "start_time": "2022-05-28T08:34:58.535Z"
   },
   {
    "duration": 119,
    "start_time": "2022-05-28T08:34:58.667Z"
   },
   {
    "duration": 110,
    "start_time": "2022-05-28T08:34:58.788Z"
   },
   {
    "duration": 15,
    "start_time": "2022-05-28T08:34:58.900Z"
   },
   {
    "duration": 226,
    "start_time": "2022-05-28T08:34:58.917Z"
   },
   {
    "duration": 223,
    "start_time": "2022-05-28T08:34:59.146Z"
   },
   {
    "duration": 220,
    "start_time": "2022-05-28T08:34:59.371Z"
   },
   {
    "duration": 47,
    "start_time": "2022-05-28T08:34:59.593Z"
   },
   {
    "duration": 189,
    "start_time": "2022-05-28T08:34:59.641Z"
   },
   {
    "duration": 532,
    "start_time": "2022-05-28T08:34:59.832Z"
   },
   {
    "duration": 71,
    "start_time": "2022-05-28T08:35:00.366Z"
   },
   {
    "duration": 192,
    "start_time": "2022-05-28T08:35:00.439Z"
   },
   {
    "duration": 97,
    "start_time": "2022-05-28T08:35:00.633Z"
   },
   {
    "duration": 230,
    "start_time": "2022-05-28T08:35:00.732Z"
   },
   {
    "duration": 103,
    "start_time": "2022-05-28T08:35:00.963Z"
   },
   {
    "duration": 59,
    "start_time": "2022-05-28T08:35:01.068Z"
   },
   {
    "duration": 101,
    "start_time": "2022-05-28T08:35:01.129Z"
   },
   {
    "duration": 5,
    "start_time": "2022-05-28T08:35:01.232Z"
   },
   {
    "duration": 13,
    "start_time": "2022-05-28T08:35:01.239Z"
   },
   {
    "duration": 30,
    "start_time": "2022-05-28T08:35:01.253Z"
   },
   {
    "duration": 84,
    "start_time": "2022-05-28T08:35:01.284Z"
   },
   {
    "duration": 141,
    "start_time": "2022-05-28T08:35:01.370Z"
   },
   {
    "duration": 90,
    "start_time": "2022-05-28T08:35:01.513Z"
   },
   {
    "duration": 100,
    "start_time": "2022-05-28T08:35:01.607Z"
   },
   {
    "duration": 120,
    "start_time": "2022-05-28T08:35:01.709Z"
   },
   {
    "duration": 17,
    "start_time": "2022-05-28T08:35:01.831Z"
   },
   {
    "duration": 345,
    "start_time": "2022-05-28T08:35:01.849Z"
   },
   {
    "duration": 40,
    "start_time": "2022-05-28T08:35:02.196Z"
   },
   {
    "duration": 61,
    "start_time": "2022-05-28T08:35:02.238Z"
   },
   {
    "duration": 80,
    "start_time": "2022-05-28T08:35:02.300Z"
   },
   {
    "duration": 84,
    "start_time": "2022-05-28T08:35:02.382Z"
   },
   {
    "duration": 97,
    "start_time": "2022-05-28T08:35:02.468Z"
   },
   {
    "duration": 32019,
    "start_time": "2022-05-28T08:35:02.566Z"
   },
   {
    "duration": 535,
    "start_time": "2022-05-28T08:35:34.586Z"
   },
   {
    "duration": 13,
    "start_time": "2022-05-28T08:35:35.126Z"
   },
   {
    "duration": 1802,
    "start_time": "2022-05-28T08:35:35.140Z"
   },
   {
    "duration": 4486,
    "start_time": "2022-05-28T08:36:49.113Z"
   },
   {
    "duration": 1815,
    "start_time": "2022-05-28T08:36:53.602Z"
   },
   {
    "duration": 1133,
    "start_time": "2022-05-28T08:36:55.419Z"
   },
   {
    "duration": 16,
    "start_time": "2022-05-28T08:36:56.554Z"
   },
   {
    "duration": 117,
    "start_time": "2022-05-28T08:36:56.573Z"
   },
   {
    "duration": 120,
    "start_time": "2022-05-28T08:36:56.692Z"
   },
   {
    "duration": 93,
    "start_time": "2022-05-28T08:36:56.814Z"
   },
   {
    "duration": 21,
    "start_time": "2022-05-28T08:36:56.909Z"
   },
   {
    "duration": 178,
    "start_time": "2022-05-28T08:36:56.932Z"
   },
   {
    "duration": 198,
    "start_time": "2022-05-28T08:36:57.113Z"
   },
   {
    "duration": 181,
    "start_time": "2022-05-28T08:36:57.312Z"
   },
   {
    "duration": 17,
    "start_time": "2022-05-28T08:36:57.494Z"
   },
   {
    "duration": 119,
    "start_time": "2022-05-28T08:36:57.513Z"
   },
   {
    "duration": 335,
    "start_time": "2022-05-28T08:36:57.635Z"
   },
   {
    "duration": 42,
    "start_time": "2022-05-28T08:36:57.972Z"
   },
   {
    "duration": 149,
    "start_time": "2022-05-28T08:36:58.016Z"
   },
   {
    "duration": 49,
    "start_time": "2022-05-28T08:36:58.167Z"
   },
   {
    "duration": 129,
    "start_time": "2022-05-28T08:36:58.228Z"
   },
   {
    "duration": 69,
    "start_time": "2022-05-28T08:36:58.358Z"
   },
   {
    "duration": 13,
    "start_time": "2022-05-28T08:36:58.429Z"
   },
   {
    "duration": 67,
    "start_time": "2022-05-28T08:36:58.443Z"
   },
   {
    "duration": 5,
    "start_time": "2022-05-28T08:36:58.512Z"
   },
   {
    "duration": 16,
    "start_time": "2022-05-28T08:36:58.527Z"
   },
   {
    "duration": 22,
    "start_time": "2022-05-28T08:36:58.544Z"
   },
   {
    "duration": 11,
    "start_time": "2022-05-28T08:36:58.568Z"
   },
   {
    "duration": 126,
    "start_time": "2022-05-28T08:36:58.580Z"
   },
   {
    "duration": 86,
    "start_time": "2022-05-28T08:36:58.708Z"
   },
   {
    "duration": 63,
    "start_time": "2022-05-28T08:36:58.796Z"
   },
   {
    "duration": 111,
    "start_time": "2022-05-28T08:36:58.861Z"
   },
   {
    "duration": 17,
    "start_time": "2022-05-28T08:36:58.974Z"
   },
   {
    "duration": 297,
    "start_time": "2022-05-28T08:36:58.993Z"
   },
   {
    "duration": 46,
    "start_time": "2022-05-28T08:36:59.291Z"
   },
   {
    "duration": 13,
    "start_time": "2022-05-28T08:36:59.339Z"
   },
   {
    "duration": 81,
    "start_time": "2022-05-28T08:36:59.353Z"
   },
   {
    "duration": 75,
    "start_time": "2022-05-28T08:36:59.436Z"
   },
   {
    "duration": 95,
    "start_time": "2022-05-28T08:36:59.512Z"
   },
   {
    "duration": 32498,
    "start_time": "2022-05-28T08:36:59.609Z"
   },
   {
    "duration": 523,
    "start_time": "2022-05-28T08:37:32.109Z"
   },
   {
    "duration": 14,
    "start_time": "2022-05-28T08:37:32.633Z"
   },
   {
    "duration": 1832,
    "start_time": "2022-05-28T08:37:32.649Z"
   },
   {
    "duration": 855,
    "start_time": "2022-05-28T08:37:34.484Z"
   },
   {
    "duration": 978,
    "start_time": "2022-05-28T08:37:35.341Z"
   },
   {
    "duration": 84,
    "start_time": "2022-05-28T08:37:36.321Z"
   },
   {
    "duration": 10,
    "start_time": "2022-05-28T08:39:33.860Z"
   },
   {
    "duration": 80,
    "start_time": "2022-05-28T08:39:33.873Z"
   },
   {
    "duration": 29,
    "start_time": "2022-05-28T08:39:33.954Z"
   },
   {
    "duration": 9,
    "start_time": "2022-05-28T08:39:33.985Z"
   },
   {
    "duration": 0,
    "start_time": "2022-05-28T08:39:33.996Z"
   },
   {
    "duration": 0,
    "start_time": "2022-05-28T08:39:33.998Z"
   },
   {
    "duration": 0,
    "start_time": "2022-05-28T08:39:33.999Z"
   },
   {
    "duration": 0,
    "start_time": "2022-05-28T08:39:34.000Z"
   },
   {
    "duration": 0,
    "start_time": "2022-05-28T08:39:34.001Z"
   },
   {
    "duration": 0,
    "start_time": "2022-05-28T08:39:34.002Z"
   },
   {
    "duration": 0,
    "start_time": "2022-05-28T08:39:34.004Z"
   },
   {
    "duration": 0,
    "start_time": "2022-05-28T08:39:34.005Z"
   },
   {
    "duration": 0,
    "start_time": "2022-05-28T08:39:34.006Z"
   },
   {
    "duration": 0,
    "start_time": "2022-05-28T08:39:34.007Z"
   },
   {
    "duration": 0,
    "start_time": "2022-05-28T08:39:34.007Z"
   },
   {
    "duration": 0,
    "start_time": "2022-05-28T08:39:34.008Z"
   },
   {
    "duration": 0,
    "start_time": "2022-05-28T08:39:34.009Z"
   },
   {
    "duration": 0,
    "start_time": "2022-05-28T08:39:34.010Z"
   },
   {
    "duration": 0,
    "start_time": "2022-05-28T08:39:34.027Z"
   },
   {
    "duration": 0,
    "start_time": "2022-05-28T08:39:34.028Z"
   },
   {
    "duration": 0,
    "start_time": "2022-05-28T08:39:34.029Z"
   },
   {
    "duration": 0,
    "start_time": "2022-05-28T08:39:34.030Z"
   },
   {
    "duration": 0,
    "start_time": "2022-05-28T08:39:34.031Z"
   },
   {
    "duration": 0,
    "start_time": "2022-05-28T08:39:34.032Z"
   },
   {
    "duration": 0,
    "start_time": "2022-05-28T08:39:34.033Z"
   },
   {
    "duration": 0,
    "start_time": "2022-05-28T08:39:34.034Z"
   },
   {
    "duration": 0,
    "start_time": "2022-05-28T08:39:34.035Z"
   },
   {
    "duration": 0,
    "start_time": "2022-05-28T08:39:34.036Z"
   },
   {
    "duration": 0,
    "start_time": "2022-05-28T08:39:34.037Z"
   },
   {
    "duration": 0,
    "start_time": "2022-05-28T08:39:34.038Z"
   },
   {
    "duration": 0,
    "start_time": "2022-05-28T08:39:34.039Z"
   },
   {
    "duration": 0,
    "start_time": "2022-05-28T08:39:34.040Z"
   },
   {
    "duration": 10,
    "start_time": "2022-05-28T08:39:34.042Z"
   },
   {
    "duration": 10168,
    "start_time": "2022-05-28T10:57:26.076Z"
   },
   {
    "duration": 3040,
    "start_time": "2022-05-28T10:57:36.247Z"
   },
   {
    "duration": 6066,
    "start_time": "2022-05-28T10:57:39.289Z"
   },
   {
    "duration": 71,
    "start_time": "2022-05-28T10:57:45.357Z"
   },
   {
    "duration": 223,
    "start_time": "2022-05-28T10:57:45.431Z"
   },
   {
    "duration": 285,
    "start_time": "2022-05-28T10:57:45.656Z"
   },
   {
    "duration": 308,
    "start_time": "2022-05-28T10:57:45.943Z"
   },
   {
    "duration": 84,
    "start_time": "2022-05-28T10:57:46.253Z"
   },
   {
    "duration": 505,
    "start_time": "2022-05-28T10:57:46.339Z"
   },
   {
    "duration": 486,
    "start_time": "2022-05-28T10:57:46.847Z"
   },
   {
    "duration": 405,
    "start_time": "2022-05-28T10:57:47.334Z"
   },
   {
    "duration": 19,
    "start_time": "2022-05-28T10:57:47.741Z"
   },
   {
    "duration": 413,
    "start_time": "2022-05-28T10:57:47.827Z"
   },
   {
    "duration": 1294,
    "start_time": "2022-05-28T10:57:48.242Z"
   },
   {
    "duration": 111,
    "start_time": "2022-05-28T10:57:49.539Z"
   },
   {
    "duration": 475,
    "start_time": "2022-05-28T10:57:49.652Z"
   },
   {
    "duration": 131,
    "start_time": "2022-05-28T10:57:50.129Z"
   },
   {
    "duration": 304,
    "start_time": "2022-05-28T10:57:50.262Z"
   },
   {
    "duration": 172,
    "start_time": "2022-05-28T10:57:50.568Z"
   },
   {
    "duration": 13,
    "start_time": "2022-05-28T10:57:50.742Z"
   },
   {
    "duration": 178,
    "start_time": "2022-05-28T10:57:50.759Z"
   },
   {
    "duration": 6,
    "start_time": "2022-05-28T10:57:50.939Z"
   },
   {
    "duration": 15,
    "start_time": "2022-05-28T10:57:50.947Z"
   },
   {
    "duration": 72,
    "start_time": "2022-05-28T10:57:50.964Z"
   },
   {
    "duration": 6,
    "start_time": "2022-05-28T10:57:51.038Z"
   },
   {
    "duration": 224,
    "start_time": "2022-05-28T10:57:51.046Z"
   },
   {
    "duration": 192,
    "start_time": "2022-05-28T10:57:51.272Z"
   },
   {
    "duration": 163,
    "start_time": "2022-05-28T10:57:51.468Z"
   },
   {
    "duration": 215,
    "start_time": "2022-05-28T10:57:51.633Z"
   },
   {
    "duration": 17,
    "start_time": "2022-05-28T10:57:51.850Z"
   },
   {
    "duration": 777,
    "start_time": "2022-05-28T10:57:51.869Z"
   },
   {
    "duration": 93,
    "start_time": "2022-05-28T10:57:52.648Z"
   },
   {
    "duration": 12,
    "start_time": "2022-05-28T10:57:52.743Z"
   },
   {
    "duration": 186,
    "start_time": "2022-05-28T10:57:52.757Z"
   },
   {
    "duration": 183,
    "start_time": "2022-05-28T10:57:52.944Z"
   },
   {
    "duration": 202,
    "start_time": "2022-05-28T10:57:53.129Z"
   },
   {
    "duration": 218,
    "start_time": "2022-05-28T10:59:22.345Z"
   },
   {
    "duration": 12953,
    "start_time": "2022-05-28T10:59:31.177Z"
   },
   {
    "duration": 3423,
    "start_time": "2022-05-28T10:59:44.132Z"
   },
   {
    "duration": 2371,
    "start_time": "2022-05-28T10:59:47.557Z"
   },
   {
    "duration": 17,
    "start_time": "2022-05-28T10:59:49.930Z"
   },
   {
    "duration": 399,
    "start_time": "2022-05-28T10:59:49.949Z"
   },
   {
    "duration": 383,
    "start_time": "2022-05-28T10:59:50.350Z"
   },
   {
    "duration": 204,
    "start_time": "2022-05-28T10:59:50.735Z"
   },
   {
    "duration": 19,
    "start_time": "2022-05-28T10:59:50.941Z"
   },
   {
    "duration": 479,
    "start_time": "2022-05-28T10:59:50.963Z"
   },
   {
    "duration": 382,
    "start_time": "2022-05-28T10:59:51.445Z"
   },
   {
    "duration": 331,
    "start_time": "2022-05-28T10:59:51.829Z"
   },
   {
    "duration": 71,
    "start_time": "2022-05-28T10:59:52.162Z"
   },
   {
    "duration": 232,
    "start_time": "2022-05-28T10:59:52.234Z"
   },
   {
    "duration": 783,
    "start_time": "2022-05-28T10:59:52.467Z"
   },
   {
    "duration": 98,
    "start_time": "2022-05-28T10:59:53.252Z"
   },
   {
    "duration": 319,
    "start_time": "2022-05-28T10:59:53.351Z"
   },
   {
    "duration": 170,
    "start_time": "2022-05-28T10:59:53.672Z"
   },
   {
    "duration": 324,
    "start_time": "2022-05-28T10:59:53.845Z"
   },
   {
    "duration": 196,
    "start_time": "2022-05-28T10:59:54.171Z"
   },
   {
    "duration": 69,
    "start_time": "2022-05-28T10:59:54.369Z"
   },
   {
    "duration": 128,
    "start_time": "2022-05-28T10:59:54.440Z"
   },
   {
    "duration": 61,
    "start_time": "2022-05-28T10:59:54.570Z"
   },
   {
    "duration": 14,
    "start_time": "2022-05-28T10:59:54.633Z"
   },
   {
    "duration": 19,
    "start_time": "2022-05-28T10:59:54.650Z"
   },
   {
    "duration": 6,
    "start_time": "2022-05-28T10:59:54.728Z"
   },
   {
    "duration": 236,
    "start_time": "2022-05-28T10:59:54.736Z"
   },
   {
    "duration": 253,
    "start_time": "2022-05-28T10:59:54.974Z"
   },
   {
    "duration": 109,
    "start_time": "2022-05-28T10:59:55.231Z"
   },
   {
    "duration": 292,
    "start_time": "2022-05-28T10:59:55.341Z"
   },
   {
    "duration": 21,
    "start_time": "2022-05-28T10:59:55.635Z"
   },
   {
    "duration": 596,
    "start_time": "2022-05-28T10:59:55.657Z"
   },
   {
    "duration": 101,
    "start_time": "2022-05-28T10:59:56.255Z"
   },
   {
    "duration": 15,
    "start_time": "2022-05-28T10:59:56.358Z"
   },
   {
    "duration": 289,
    "start_time": "2022-05-28T10:59:56.440Z"
   },
   {
    "duration": 220,
    "start_time": "2022-05-28T10:59:56.731Z"
   },
   {
    "duration": 200,
    "start_time": "2022-05-28T10:59:56.953Z"
   },
   {
    "duration": 10611,
    "start_time": "2022-05-28T11:00:17.362Z"
   },
   {
    "duration": 3410,
    "start_time": "2022-05-28T11:00:27.976Z"
   },
   {
    "duration": 2258,
    "start_time": "2022-05-28T11:00:31.388Z"
   },
   {
    "duration": 20,
    "start_time": "2022-05-28T11:00:33.649Z"
   },
   {
    "duration": 372,
    "start_time": "2022-05-28T11:00:33.671Z"
   },
   {
    "duration": 224,
    "start_time": "2022-05-28T11:00:34.045Z"
   },
   {
    "duration": 215,
    "start_time": "2022-05-28T11:00:34.328Z"
   },
   {
    "duration": 18,
    "start_time": "2022-05-28T11:00:34.545Z"
   },
   {
    "duration": 391,
    "start_time": "2022-05-28T11:00:34.565Z"
   },
   {
    "duration": 384,
    "start_time": "2022-05-28T11:00:34.959Z"
   },
   {
    "duration": 324,
    "start_time": "2022-05-28T11:00:35.345Z"
   },
   {
    "duration": 16,
    "start_time": "2022-05-28T11:00:35.727Z"
   },
   {
    "duration": 224,
    "start_time": "2022-05-28T11:00:35.745Z"
   },
   {
    "duration": 801,
    "start_time": "2022-05-28T11:00:35.970Z"
   },
   {
    "duration": 112,
    "start_time": "2022-05-28T11:00:36.827Z"
   },
   {
    "duration": 305,
    "start_time": "2022-05-28T11:00:36.941Z"
   },
   {
    "duration": 119,
    "start_time": "2022-05-28T11:00:37.248Z"
   },
   {
    "duration": 294,
    "start_time": "2022-05-28T11:00:37.369Z"
   },
   {
    "duration": 171,
    "start_time": "2022-05-28T11:00:37.664Z"
   },
   {
    "duration": 14,
    "start_time": "2022-05-28T11:00:37.837Z"
   },
   {
    "duration": 183,
    "start_time": "2022-05-28T11:00:37.853Z"
   },
   {
    "duration": 6,
    "start_time": "2022-05-28T11:00:38.038Z"
   },
   {
    "duration": 14,
    "start_time": "2022-05-28T11:00:38.045Z"
   },
   {
    "duration": 75,
    "start_time": "2022-05-28T11:00:38.060Z"
   },
   {
    "duration": 6,
    "start_time": "2022-05-28T11:00:38.137Z"
   },
   {
    "duration": 309,
    "start_time": "2022-05-28T11:00:38.145Z"
   },
   {
    "duration": 211,
    "start_time": "2022-05-28T11:00:38.456Z"
   },
   {
    "duration": 104,
    "start_time": "2022-05-28T11:00:38.728Z"
   },
   {
    "duration": 229,
    "start_time": "2022-05-28T11:00:38.834Z"
   },
   {
    "duration": 75,
    "start_time": "2022-05-28T11:00:39.065Z"
   },
   {
    "duration": 623,
    "start_time": "2022-05-28T11:00:39.142Z"
   },
   {
    "duration": 94,
    "start_time": "2022-05-28T11:00:39.767Z"
   },
   {
    "duration": 72,
    "start_time": "2022-05-28T11:00:39.864Z"
   },
   {
    "duration": 199,
    "start_time": "2022-05-28T11:00:39.938Z"
   },
   {
    "duration": 194,
    "start_time": "2022-05-28T11:00:40.139Z"
   },
   {
    "duration": 196,
    "start_time": "2022-05-28T11:00:40.335Z"
   },
   {
    "duration": 22,
    "start_time": "2022-05-28T11:00:53.922Z"
   },
   {
    "duration": 3969,
    "start_time": "2022-05-28T11:00:54.266Z"
   },
   {
    "duration": 192,
    "start_time": "2022-05-28T11:01:05.463Z"
   },
   {
    "duration": 0,
    "start_time": "2022-05-28T11:01:05.656Z"
   },
   {
    "duration": 10649,
    "start_time": "2022-05-28T11:01:25.885Z"
   },
   {
    "duration": 3137,
    "start_time": "2022-05-28T11:01:36.537Z"
   },
   {
    "duration": 2279,
    "start_time": "2022-05-28T11:01:39.676Z"
   },
   {
    "duration": 18,
    "start_time": "2022-05-28T11:01:41.957Z"
   },
   {
    "duration": 273,
    "start_time": "2022-05-28T11:01:41.977Z"
   },
   {
    "duration": 219,
    "start_time": "2022-05-28T11:01:42.252Z"
   },
   {
    "duration": 201,
    "start_time": "2022-05-28T11:01:42.527Z"
   },
   {
    "duration": 15,
    "start_time": "2022-05-28T11:01:42.731Z"
   },
   {
    "duration": 383,
    "start_time": "2022-05-28T11:01:42.748Z"
   },
   {
    "duration": 393,
    "start_time": "2022-05-28T11:01:43.134Z"
   },
   {
    "duration": 339,
    "start_time": "2022-05-28T11:01:43.529Z"
   },
   {
    "duration": 72,
    "start_time": "2022-05-28T11:01:43.870Z"
   },
   {
    "duration": 293,
    "start_time": "2022-05-28T11:01:43.944Z"
   },
   {
    "duration": 719,
    "start_time": "2022-05-28T11:01:44.239Z"
   },
   {
    "duration": 104,
    "start_time": "2022-05-28T11:01:44.960Z"
   },
   {
    "duration": 388,
    "start_time": "2022-05-28T11:01:45.066Z"
   },
   {
    "duration": 114,
    "start_time": "2022-05-28T11:01:45.456Z"
   },
   {
    "duration": 283,
    "start_time": "2022-05-28T11:01:45.572Z"
   },
   {
    "duration": 172,
    "start_time": "2022-05-28T11:01:45.856Z"
   },
   {
    "duration": 15,
    "start_time": "2022-05-28T11:01:46.030Z"
   },
   {
    "duration": 213,
    "start_time": "2022-05-28T11:01:46.047Z"
   },
   {
    "duration": 6,
    "start_time": "2022-05-28T11:01:46.262Z"
   },
   {
    "duration": 78,
    "start_time": "2022-05-28T11:01:46.270Z"
   },
   {
    "duration": 79,
    "start_time": "2022-05-28T11:01:46.350Z"
   },
   {
    "duration": 7,
    "start_time": "2022-05-28T11:01:46.431Z"
   },
   {
    "duration": 294,
    "start_time": "2022-05-28T11:01:46.439Z"
   },
   {
    "duration": 205,
    "start_time": "2022-05-28T11:01:46.734Z"
   },
   {
    "duration": 114,
    "start_time": "2022-05-28T11:01:46.943Z"
   },
   {
    "duration": 286,
    "start_time": "2022-05-28T11:01:47.059Z"
   },
   {
    "duration": 18,
    "start_time": "2022-05-28T11:01:47.347Z"
   },
   {
    "duration": 672,
    "start_time": "2022-05-28T11:01:47.366Z"
   },
   {
    "duration": 97,
    "start_time": "2022-05-28T11:01:48.040Z"
   },
   {
    "duration": 12,
    "start_time": "2022-05-28T11:01:48.139Z"
   },
   {
    "duration": 181,
    "start_time": "2022-05-28T11:01:48.153Z"
   },
   {
    "duration": 133,
    "start_time": "2022-05-28T11:01:48.336Z"
   },
   {
    "duration": 263,
    "start_time": "2022-05-28T11:01:48.471Z"
   },
   {
    "duration": 5889,
    "start_time": "2022-05-28T11:18:48.633Z"
   },
   {
    "duration": 1921,
    "start_time": "2022-05-28T11:18:54.524Z"
   },
   {
    "duration": 1181,
    "start_time": "2022-05-28T11:18:56.448Z"
   },
   {
    "duration": 18,
    "start_time": "2022-05-28T11:18:57.631Z"
   },
   {
    "duration": 131,
    "start_time": "2022-05-28T11:18:57.650Z"
   },
   {
    "duration": 124,
    "start_time": "2022-05-28T11:18:57.783Z"
   },
   {
    "duration": 94,
    "start_time": "2022-05-28T11:18:57.909Z"
   },
   {
    "duration": 24,
    "start_time": "2022-05-28T11:18:58.005Z"
   },
   {
    "duration": 171,
    "start_time": "2022-05-28T11:18:58.031Z"
   },
   {
    "duration": 169,
    "start_time": "2022-05-28T11:18:58.204Z"
   },
   {
    "duration": 175,
    "start_time": "2022-05-28T11:18:58.375Z"
   },
   {
    "duration": 18,
    "start_time": "2022-05-28T11:18:58.552Z"
   },
   {
    "duration": 126,
    "start_time": "2022-05-28T11:18:58.572Z"
   },
   {
    "duration": 326,
    "start_time": "2022-05-28T11:18:58.701Z"
   },
   {
    "duration": 38,
    "start_time": "2022-05-28T11:18:59.029Z"
   },
   {
    "duration": 160,
    "start_time": "2022-05-28T11:18:59.068Z"
   },
   {
    "duration": 66,
    "start_time": "2022-05-28T11:18:59.231Z"
   },
   {
    "duration": 142,
    "start_time": "2022-05-28T11:18:59.300Z"
   },
   {
    "duration": 63,
    "start_time": "2022-05-28T11:18:59.444Z"
   },
   {
    "duration": 27,
    "start_time": "2022-05-28T11:18:59.508Z"
   },
   {
    "duration": 66,
    "start_time": "2022-05-28T11:18:59.536Z"
   },
   {
    "duration": 26,
    "start_time": "2022-05-28T11:18:59.604Z"
   },
   {
    "duration": 9,
    "start_time": "2022-05-28T11:18:59.632Z"
   },
   {
    "duration": 18,
    "start_time": "2022-05-28T11:18:59.643Z"
   },
   {
    "duration": 5,
    "start_time": "2022-05-28T11:18:59.663Z"
   },
   {
    "duration": 136,
    "start_time": "2022-05-28T11:18:59.670Z"
   },
   {
    "duration": 97,
    "start_time": "2022-05-28T11:18:59.808Z"
   },
   {
    "duration": 68,
    "start_time": "2022-05-28T11:18:59.909Z"
   },
   {
    "duration": 177,
    "start_time": "2022-05-28T11:18:59.979Z"
   },
   {
    "duration": 18,
    "start_time": "2022-05-28T11:19:00.159Z"
   },
   {
    "duration": 5817,
    "start_time": "2022-05-28T11:19:49.097Z"
   },
   {
    "duration": 1877,
    "start_time": "2022-05-28T11:19:54.916Z"
   },
   {
    "duration": 1147,
    "start_time": "2022-05-28T11:19:56.795Z"
   },
   {
    "duration": 17,
    "start_time": "2022-05-28T11:19:57.945Z"
   },
   {
    "duration": 110,
    "start_time": "2022-05-28T11:19:57.964Z"
   },
   {
    "duration": 129,
    "start_time": "2022-05-28T11:19:58.076Z"
   },
   {
    "duration": 103,
    "start_time": "2022-05-28T11:19:58.207Z"
   },
   {
    "duration": 27,
    "start_time": "2022-05-28T11:19:58.312Z"
   },
   {
    "duration": 173,
    "start_time": "2022-05-28T11:19:58.340Z"
   },
   {
    "duration": 175,
    "start_time": "2022-05-28T11:19:58.526Z"
   },
   {
    "duration": 176,
    "start_time": "2022-05-28T11:19:58.702Z"
   },
   {
    "duration": 17,
    "start_time": "2022-05-28T11:19:58.880Z"
   },
   {
    "duration": 134,
    "start_time": "2022-05-28T11:19:58.899Z"
   },
   {
    "duration": 342,
    "start_time": "2022-05-28T11:19:59.035Z"
   },
   {
    "duration": 48,
    "start_time": "2022-05-28T11:19:59.379Z"
   },
   {
    "duration": 142,
    "start_time": "2022-05-28T11:19:59.428Z"
   },
   {
    "duration": 85,
    "start_time": "2022-05-28T11:19:59.572Z"
   },
   {
    "duration": 141,
    "start_time": "2022-05-28T11:19:59.659Z"
   },
   {
    "duration": 76,
    "start_time": "2022-05-28T11:19:59.802Z"
   },
   {
    "duration": 14,
    "start_time": "2022-05-28T11:19:59.880Z"
   },
   {
    "duration": 87,
    "start_time": "2022-05-28T11:19:59.895Z"
   },
   {
    "duration": 5,
    "start_time": "2022-05-28T11:19:59.983Z"
   },
   {
    "duration": 11,
    "start_time": "2022-05-28T11:19:59.990Z"
   },
   {
    "duration": 39,
    "start_time": "2022-05-28T11:20:00.002Z"
   },
   {
    "duration": 8,
    "start_time": "2022-05-28T11:20:00.042Z"
   },
   {
    "duration": 140,
    "start_time": "2022-05-28T11:20:00.052Z"
   },
   {
    "duration": 96,
    "start_time": "2022-05-28T11:20:00.194Z"
   },
   {
    "duration": 70,
    "start_time": "2022-05-28T11:20:00.293Z"
   },
   {
    "duration": 127,
    "start_time": "2022-05-28T11:20:00.365Z"
   },
   {
    "duration": 17,
    "start_time": "2022-05-28T11:20:00.494Z"
   },
   {
    "duration": 59,
    "start_time": "2022-05-28T11:23:01.604Z"
   },
   {
    "duration": 9,
    "start_time": "2022-05-28T11:23:15.252Z"
   },
   {
    "duration": 6,
    "start_time": "2022-05-28T11:23:22.000Z"
   },
   {
    "duration": 5613,
    "start_time": "2022-05-28T11:23:27.743Z"
   },
   {
    "duration": 2006,
    "start_time": "2022-05-28T11:23:33.359Z"
   },
   {
    "duration": 1183,
    "start_time": "2022-05-28T11:23:35.367Z"
   },
   {
    "duration": 17,
    "start_time": "2022-05-28T11:23:36.552Z"
   },
   {
    "duration": 113,
    "start_time": "2022-05-28T11:23:36.571Z"
   },
   {
    "duration": 122,
    "start_time": "2022-05-28T11:23:36.685Z"
   },
   {
    "duration": 101,
    "start_time": "2022-05-28T11:23:36.809Z"
   },
   {
    "duration": 21,
    "start_time": "2022-05-28T11:23:36.912Z"
   },
   {
    "duration": 183,
    "start_time": "2022-05-28T11:23:36.935Z"
   },
   {
    "duration": 178,
    "start_time": "2022-05-28T11:23:37.119Z"
   },
   {
    "duration": 168,
    "start_time": "2022-05-28T11:23:37.299Z"
   },
   {
    "duration": 16,
    "start_time": "2022-05-28T11:23:37.469Z"
   },
   {
    "duration": 121,
    "start_time": "2022-05-28T11:23:37.487Z"
   },
   {
    "duration": 330,
    "start_time": "2022-05-28T11:23:37.610Z"
   },
   {
    "duration": 38,
    "start_time": "2022-05-28T11:23:37.942Z"
   },
   {
    "duration": 157,
    "start_time": "2022-05-28T11:23:37.982Z"
   },
   {
    "duration": 73,
    "start_time": "2022-05-28T11:23:38.141Z"
   },
   {
    "duration": 138,
    "start_time": "2022-05-28T11:23:38.227Z"
   },
   {
    "duration": 72,
    "start_time": "2022-05-28T11:23:38.366Z"
   },
   {
    "duration": 13,
    "start_time": "2022-05-28T11:23:38.440Z"
   },
   {
    "duration": 89,
    "start_time": "2022-05-28T11:23:38.454Z"
   },
   {
    "duration": 5,
    "start_time": "2022-05-28T11:23:38.545Z"
   },
   {
    "duration": 45,
    "start_time": "2022-05-28T11:23:38.552Z"
   },
   {
    "duration": 42,
    "start_time": "2022-05-28T11:23:38.599Z"
   },
   {
    "duration": 18,
    "start_time": "2022-05-28T11:23:38.643Z"
   },
   {
    "duration": 136,
    "start_time": "2022-05-28T11:23:38.663Z"
   },
   {
    "duration": 94,
    "start_time": "2022-05-28T11:23:38.801Z"
   },
   {
    "duration": 64,
    "start_time": "2022-05-28T11:23:38.897Z"
   },
   {
    "duration": 119,
    "start_time": "2022-05-28T11:23:38.962Z"
   },
   {
    "duration": 16,
    "start_time": "2022-05-28T11:23:39.083Z"
   },
   {
    "duration": 6386,
    "start_time": "2022-05-28T12:01:13.366Z"
   },
   {
    "duration": 1863,
    "start_time": "2022-05-28T12:01:19.754Z"
   },
   {
    "duration": 1356,
    "start_time": "2022-05-28T12:01:21.619Z"
   },
   {
    "duration": 17,
    "start_time": "2022-05-28T12:01:22.977Z"
   },
   {
    "duration": 157,
    "start_time": "2022-05-28T12:01:22.996Z"
   },
   {
    "duration": 220,
    "start_time": "2022-05-28T12:01:23.155Z"
   },
   {
    "duration": 125,
    "start_time": "2022-05-28T12:01:23.378Z"
   },
   {
    "duration": 27,
    "start_time": "2022-05-28T12:01:23.506Z"
   },
   {
    "duration": 192,
    "start_time": "2022-05-28T12:01:23.535Z"
   },
   {
    "duration": 202,
    "start_time": "2022-05-28T12:01:23.730Z"
   },
   {
    "duration": 185,
    "start_time": "2022-05-28T12:01:23.934Z"
   },
   {
    "duration": 19,
    "start_time": "2022-05-28T12:01:24.120Z"
   },
   {
    "duration": 126,
    "start_time": "2022-05-28T12:01:24.140Z"
   },
   {
    "duration": 391,
    "start_time": "2022-05-28T12:01:24.268Z"
   },
   {
    "duration": 45,
    "start_time": "2022-05-28T12:01:24.662Z"
   },
   {
    "duration": 172,
    "start_time": "2022-05-28T12:01:24.709Z"
   },
   {
    "duration": 89,
    "start_time": "2022-05-28T12:01:24.883Z"
   },
   {
    "duration": 139,
    "start_time": "2022-05-28T12:01:24.974Z"
   },
   {
    "duration": 86,
    "start_time": "2022-05-28T12:01:25.116Z"
   },
   {
    "duration": 24,
    "start_time": "2022-05-28T12:01:25.204Z"
   },
   {
    "duration": 105,
    "start_time": "2022-05-28T12:01:25.230Z"
   },
   {
    "duration": 7,
    "start_time": "2022-05-28T12:01:25.337Z"
   },
   {
    "duration": 33,
    "start_time": "2022-05-28T12:01:25.347Z"
   },
   {
    "duration": 20,
    "start_time": "2022-05-28T12:01:25.383Z"
   },
   {
    "duration": 12,
    "start_time": "2022-05-28T12:01:25.405Z"
   },
   {
    "duration": 159,
    "start_time": "2022-05-28T12:01:25.418Z"
   },
   {
    "duration": 97,
    "start_time": "2022-05-28T12:01:25.579Z"
   },
   {
    "duration": 81,
    "start_time": "2022-05-28T12:01:25.682Z"
   },
   {
    "duration": 125,
    "start_time": "2022-05-28T12:01:25.764Z"
   },
   {
    "duration": 17,
    "start_time": "2022-05-28T12:01:25.891Z"
   },
   {
    "duration": 7415,
    "start_time": "2022-05-29T09:13:41.008Z"
   },
   {
    "duration": 1532,
    "start_time": "2022-05-29T09:13:48.425Z"
   },
   {
    "duration": 883,
    "start_time": "2022-05-29T09:13:49.959Z"
   },
   {
    "duration": 20,
    "start_time": "2022-05-29T09:13:50.844Z"
   },
   {
    "duration": 120,
    "start_time": "2022-05-29T09:13:50.866Z"
   },
   {
    "duration": 107,
    "start_time": "2022-05-29T09:13:50.987Z"
   },
   {
    "duration": 101,
    "start_time": "2022-05-29T09:13:51.096Z"
   },
   {
    "duration": 15,
    "start_time": "2022-05-29T09:13:51.198Z"
   },
   {
    "duration": 174,
    "start_time": "2022-05-29T09:13:51.215Z"
   },
   {
    "duration": 164,
    "start_time": "2022-05-29T09:13:51.392Z"
   },
   {
    "duration": 166,
    "start_time": "2022-05-29T09:13:51.557Z"
   },
   {
    "duration": 15,
    "start_time": "2022-05-29T09:13:51.725Z"
   },
   {
    "duration": 137,
    "start_time": "2022-05-29T09:13:51.742Z"
   },
   {
    "duration": 344,
    "start_time": "2022-05-29T09:13:51.880Z"
   },
   {
    "duration": 41,
    "start_time": "2022-05-29T09:13:52.226Z"
   },
   {
    "duration": 146,
    "start_time": "2022-05-29T09:13:52.269Z"
   },
   {
    "duration": 83,
    "start_time": "2022-05-29T09:13:52.416Z"
   },
   {
    "duration": 218,
    "start_time": "2022-05-29T09:13:52.501Z"
   },
   {
    "duration": 69,
    "start_time": "2022-05-29T09:13:52.721Z"
   },
   {
    "duration": 13,
    "start_time": "2022-05-29T09:13:52.791Z"
   },
   {
    "duration": 85,
    "start_time": "2022-05-29T09:13:52.806Z"
   },
   {
    "duration": 5,
    "start_time": "2022-05-29T09:13:52.893Z"
   },
   {
    "duration": 13,
    "start_time": "2022-05-29T09:13:52.899Z"
   },
   {
    "duration": 22,
    "start_time": "2022-05-29T09:13:52.914Z"
   },
   {
    "duration": 14,
    "start_time": "2022-05-29T09:13:52.939Z"
   },
   {
    "duration": 124,
    "start_time": "2022-05-29T09:13:52.955Z"
   },
   {
    "duration": 101,
    "start_time": "2022-05-29T09:13:53.081Z"
   },
   {
    "duration": 71,
    "start_time": "2022-05-29T09:13:53.187Z"
   },
   {
    "duration": 116,
    "start_time": "2022-05-29T09:13:53.260Z"
   },
   {
    "duration": 17,
    "start_time": "2022-05-29T09:13:53.378Z"
   },
   {
    "duration": 302,
    "start_time": "2022-05-29T09:13:53.397Z"
   },
   {
    "duration": 36,
    "start_time": "2022-05-29T09:13:53.701Z"
   },
   {
    "duration": 22,
    "start_time": "2022-05-29T09:13:53.739Z"
   },
   {
    "duration": 80,
    "start_time": "2022-05-29T09:13:53.763Z"
   },
   {
    "duration": 63,
    "start_time": "2022-05-29T09:13:53.844Z"
   },
   {
    "duration": 92,
    "start_time": "2022-05-29T09:13:53.909Z"
   },
   {
    "duration": 34917,
    "start_time": "2022-05-29T09:13:54.003Z"
   },
   {
    "duration": 547,
    "start_time": "2022-05-29T09:14:28.922Z"
   },
   {
    "duration": 26,
    "start_time": "2022-05-29T09:14:29.471Z"
   },
   {
    "duration": 1836,
    "start_time": "2022-05-29T09:14:29.498Z"
   },
   {
    "duration": 835,
    "start_time": "2022-05-29T09:14:31.336Z"
   },
   {
    "duration": 998,
    "start_time": "2022-05-29T09:14:32.173Z"
   },
   {
    "duration": 68,
    "start_time": "2022-05-29T09:14:33.173Z"
   },
   {
    "duration": 531,
    "start_time": "2022-05-29T09:14:33.243Z"
   },
   {
    "duration": 82,
    "start_time": "2022-05-29T09:14:33.775Z"
   },
   {
    "duration": 4290,
    "start_time": "2022-05-29T09:24:12.519Z"
   },
   {
    "duration": 1714,
    "start_time": "2022-05-29T09:24:16.812Z"
   },
   {
    "duration": 1093,
    "start_time": "2022-05-29T09:24:18.527Z"
   },
   {
    "duration": 17,
    "start_time": "2022-05-29T09:24:19.622Z"
   },
   {
    "duration": 97,
    "start_time": "2022-05-29T09:24:19.640Z"
   },
   {
    "duration": 119,
    "start_time": "2022-05-29T09:24:19.738Z"
   },
   {
    "duration": 108,
    "start_time": "2022-05-29T09:24:19.858Z"
   },
   {
    "duration": 14,
    "start_time": "2022-05-29T09:24:19.968Z"
   },
   {
    "duration": 199,
    "start_time": "2022-05-29T09:24:19.983Z"
   },
   {
    "duration": 173,
    "start_time": "2022-05-29T09:24:20.185Z"
   },
   {
    "duration": 171,
    "start_time": "2022-05-29T09:24:20.359Z"
   },
   {
    "duration": 20,
    "start_time": "2022-05-29T09:24:20.532Z"
   },
   {
    "duration": 106,
    "start_time": "2022-05-29T09:24:20.554Z"
   },
   {
    "duration": 368,
    "start_time": "2022-05-29T09:24:20.661Z"
   },
   {
    "duration": 47,
    "start_time": "2022-05-29T09:24:21.031Z"
   },
   {
    "duration": 140,
    "start_time": "2022-05-29T09:24:21.080Z"
   },
   {
    "duration": 58,
    "start_time": "2022-05-29T09:24:21.221Z"
   },
   {
    "duration": 127,
    "start_time": "2022-05-29T09:24:21.281Z"
   },
   {
    "duration": 78,
    "start_time": "2022-05-29T09:24:21.409Z"
   },
   {
    "duration": 14,
    "start_time": "2022-05-29T09:24:21.488Z"
   },
   {
    "duration": 79,
    "start_time": "2022-05-29T09:24:21.503Z"
   },
   {
    "duration": 6,
    "start_time": "2022-05-29T09:24:21.584Z"
   },
   {
    "duration": 11,
    "start_time": "2022-05-29T09:24:21.591Z"
   },
   {
    "duration": 15,
    "start_time": "2022-05-29T09:24:21.603Z"
   },
   {
    "duration": 5,
    "start_time": "2022-05-29T09:24:21.620Z"
   },
   {
    "duration": 117,
    "start_time": "2022-05-29T09:24:21.652Z"
   },
   {
    "duration": 94,
    "start_time": "2022-05-29T09:24:21.770Z"
   },
   {
    "duration": 53,
    "start_time": "2022-05-29T09:24:21.867Z"
   },
   {
    "duration": 132,
    "start_time": "2022-05-29T09:24:21.921Z"
   },
   {
    "duration": 17,
    "start_time": "2022-05-29T09:24:22.055Z"
   },
   {
    "duration": 287,
    "start_time": "2022-05-29T09:24:22.074Z"
   },
   {
    "duration": 33,
    "start_time": "2022-05-29T09:24:22.363Z"
   },
   {
    "duration": 12,
    "start_time": "2022-05-29T09:24:22.397Z"
   },
   {
    "duration": 85,
    "start_time": "2022-05-29T09:24:22.410Z"
   },
   {
    "duration": 78,
    "start_time": "2022-05-29T09:24:22.497Z"
   },
   {
    "duration": 110,
    "start_time": "2022-05-29T09:24:22.577Z"
   },
   {
    "duration": 35647,
    "start_time": "2022-05-29T09:24:22.689Z"
   },
   {
    "duration": 530,
    "start_time": "2022-05-29T09:24:58.338Z"
   },
   {
    "duration": 20,
    "start_time": "2022-05-29T09:24:58.870Z"
   },
   {
    "duration": 1772,
    "start_time": "2022-05-29T09:24:58.892Z"
   },
   {
    "duration": 820,
    "start_time": "2022-05-29T09:25:00.666Z"
   },
   {
    "duration": 1017,
    "start_time": "2022-05-29T09:25:01.488Z"
   },
   {
    "duration": 106,
    "start_time": "2022-05-29T09:25:02.508Z"
   },
   {
    "duration": 539,
    "start_time": "2022-05-29T09:25:02.617Z"
   },
   {
    "duration": 80,
    "start_time": "2022-05-29T09:25:03.158Z"
   },
   {
    "duration": 91,
    "start_time": "2022-05-29T09:29:23.261Z"
   },
   {
    "duration": 115299,
    "start_time": "2022-05-29T09:29:23.355Z"
   },
   {
    "duration": 301702,
    "start_time": "2022-05-29T09:31:18.656Z"
   },
   {
    "duration": 1001,
    "start_time": "2022-05-29T09:36:20.359Z"
   },
   {
    "duration": 1308000,
    "start_time": "2022-05-29T09:36:21.362Z"
   },
   {
    "duration": 888986,
    "start_time": "2022-05-29T09:58:09.365Z"
   },
   {
    "duration": 12112,
    "start_time": "2022-05-29T10:12:58.353Z"
   }
  ],
  "colab": {
   "collapsed_sections": [],
   "name": "1d1fd3e2-6000-4ebf-817c-61710d58ea16.ipynb",
   "provenance": [],
   "toc_visible": true
  },
  "kernelspec": {
   "display_name": "Python 3.9.13 64-bit",
   "language": "python",
   "name": "python3"
  },
  "language_info": {
   "codemirror_mode": {
    "name": "ipython",
    "version": 3
   },
   "file_extension": ".py",
   "mimetype": "text/x-python",
   "name": "python",
   "nbconvert_exporter": "python",
   "pygments_lexer": "ipython3",
   "version": "3.9.13"
  },
  "toc": {
   "base_numbering": 1,
   "nav_menu": {},
   "number_sections": true,
   "sideBar": true,
   "skip_h1_title": true,
   "title_cell": "Table of Contents",
   "title_sidebar": "Contents",
   "toc_cell": false,
   "toc_position": {
    "height": "calc(100% - 180px)",
    "left": "10px",
    "top": "150px",
    "width": "267.391px"
   },
   "toc_section_display": true,
   "toc_window_display": true
  },
  "vscode": {
   "interpreter": {
    "hash": "aee8b7b246df8f9039afb4144a1f6fd8d2ca17a180786b69acc140d282b71a49"
   }
  }
 },
 "nbformat": 4,
 "nbformat_minor": 2
}
