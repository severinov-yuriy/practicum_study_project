{
 "cells": [
  {
   "cell_type": "markdown",
   "metadata": {},
   "source": [
    "# Исследование поведения клиентов оператора\n",
    "\n",
    "Заказчик — кредитный отдел банка - компания «Мегалайн» — федеральный оператор сотовой связи. Клиентам предлагают два тарифных плана: «Смарт» и «Ультра». Чтобы скорректировать рекламный бюджет, коммерческий департамент хочет понять, какой тариф приносит больше денег.\n",
    "\n",
    "Вам предстоит сделать предварительный анализ тарифов на небольшой выборке клиентов. В вашем распоряжении данные 500 пользователей «Мегалайна»: кто они, откуда, каким тарифом пользуются, сколько звонков и сообщений каждый отправил за 2018 год. Нужно проанализировать поведение клиентов и сделать вывод — какой тариф лучше.\n",
    "\n",
    "__Описание тарифов:__\n",
    "\n",
    "1. Тариф «Смарт»\n",
    "    - Ежемесячная плата: 550 рублей\n",
    "    - Включено 500 минут разговора, 50 сообщений и 15 Гб интернет-трафика\n",
    "    - Стоимость услуг сверх тарифного пакета: 1. минута разговора: 3 рубля («Мегалайн» всегда округляет вверх значения минут и мегабайтов. Если пользователь проговорил всего 1 секунду, в тарифе засчитывается целая минута); 2. сообщение: 3 рубля; 3. 1 Гб интернет-трафика: 200 рублей.\n",
    "    \n",
    "    \n",
    "2. Тариф «Ультра»\n",
    "    - Ежемесячная плата: 1950 рублей\n",
    "    - Включено 3000 минут разговора, 1000 сообщений и 30 Гб интернет-трафика\n",
    "    - Стоимость услуг сверх тарифного пакета: 1. минута разговора: 1 рубль; 2. сообщение: 1 рубль; 3. 1 Гб интернет-трафика: 150 рублей.\n",
    "    \n",
    "    \n",
    "__Примечание:__\n",
    "«Мегалайн» всегда округляет секунды до минут, а мегабайты — до гигабайт. Каждый звонок округляется отдельно: даже если он длился всего 1 секунду, будет засчитан как 1 минута.\n",
    "Для веб-трафика отдельные сессии не считаются. Вместо этого общая сумма за месяц округляется в бо́льшую сторону. Если абонент использует 1025 мегабайт в этом месяце, с него возьмут плату за 2 гигабайта.\n",
    "\n",
    "\n",
    "__Описание данных:__\n",
    "\n",
    "\n",
    "1. Таблица users (информация о пользователях):\n",
    "\n",
    "\n",
    "    - `user_id` — уникальный идентификатор пользователя\n",
    "    - `first_name` — имя пользователя\n",
    "    - `last_name` — фамилия пользователя\n",
    "    - `age` — возраст пользователя (годы)\n",
    "    - `reg_date` — дата подключения тарифа (день, месяц, год)\n",
    "    - `churn_date` — дата прекращения пользования тарифом (если значение пропущено, то тариф ещё действовал на момент выгрузки данных)\n",
    "    - `city` — город проживания пользователя\n",
    "    - `tarif` — название тарифного плана<br>\n",
    "<br>\n",
    "1. Таблица calls (информация о звонках):\n",
    "\n",
    "    - `id` — уникальный номер звонка\n",
    "    - `call_date` — дата звонка\n",
    "    - `duration` — длительность звонка в минутах\n",
    "    - `user_id` — идентификатор пользователя, сделавшего звонок<br>\n",
    "<br>\n",
    "2. Таблица messages (информация о сообщениях):\n",
    "\n",
    "    - `id` — уникальный номер звонка\n",
    "    - `message_date` — дата сообщения\n",
    "    - `user_id` — идентификатор пользователя, отправившего сообщение<br>\n",
    "<br>\n",
    "3. Таблица internet (информация об интернет-сессиях):\n",
    "\n",
    "    - `id` — уникальный номер сессии\n",
    "    - `mb_used` — объём потраченного за сессию интернет-трафика (в мегабайтах)\n",
    "    - `session_date` — дата интернет-сессии\n",
    "    - `user_id` — идентификатор пользователя<br>\n",
    "<br>\n",
    "4. Таблица tariffs (информация о тарифах):\n",
    "\n",
    "    - `tariff_name` — название тарифа\n",
    "    - `rub_monthly_fee` — ежемесячная абонентская плата в рублях\n",
    "    - `minutes_included` — количество минут разговора в месяц, включённых в абонентскую плату\n",
    "    - `messages_included` — количество сообщений в месяц, включённых в абонентскую плату\n",
    "    - `mb_per_month_included` — объём интернет-трафика, включённого в абонентскую плату (в мегабайтах)\n",
    "    - `rub_per_minute` — стоимость минуты разговора сверх тарифного пакета (например, если в тарифе 100 минут разговора в месяц, то со 101 минуты будет взиматься плата)\n",
    "    - `rub_per_message` — стоимость отправки сообщения сверх тарифного пакета\n",
    "    - `rub_per_gb` — стоимость дополнительного гигабайта интернет-трафика сверх тарифного пакета (1 гигабайт = 1024 мегабайта)"
   ]
  },
  {
   "cell_type": "markdown",
   "metadata": {},
   "source": [
    "## Оглавление:\n",
    "* [Подготовка окружения](#prepare)\n",
    "* [Изучение данных из файла](#open)\n",
    "* [Предобработка данных](#prepare_data)\n",
    "    * [Постановка задачи](#prepare_task)\n",
    "    * [Изменение типа данных](#change)\n",
    "    * [Исправление ошибок](#errors)\n",
    "    * [Расчёты](#calculations)\n",
    "    * [Вывод](#prepare_conclusion)\n",
    "* [Исследовательский анализ данных](#eda_part)\n",
    "    * [Постановка задачи](#eda_task)\n",
    "    * [Исследовательский анализ данных](#eda)\n",
    "    * [Вывод](#eda_conclusion)\n",
    "* [Проверка гипотез](#hipotesis)\n",
    "    * [Постановка задачи](#hipotesis_task)\n",
    "    * [Различие тарифов](#tariff)\n",
    "    * [Различие пользователей в зависимости от города](#town)\n",
    "    * [Вывод](#hipotesis_conclusion)\n",
    "* [Общий вывод](#conclusion)"
   ]
  },
  {
   "cell_type": "markdown",
   "metadata": {},
   "source": [
    "### Цель исследования – проверить гипотезы:\n",
    " 1. Cредняя выручка пользователей тарифов «Ультра» и «Смарт» различаются.\n",
    " 2. Cредняя выручка пользователи из Москвы отличается от выручки пользователей из других регионов.\n",
    " \n",
    "### Ход исследования:\n",
    " 1. Обзор данных:\n",
    " 2. Подготовка данных.\n",
    " 3. Исследовательский анализ.\n",
    " 4. Проверка гипотез."
   ]
  },
  {
   "cell_type": "markdown",
   "metadata": {},
   "source": [
    "### Подготовка окружения <a class=\"anchor\" id=\"prepare\"></a>\n",
    "Загрузим все библиотеки, требуемые для работы в ходе проекта в рамках одной ячейки."
   ]
  },
  {
   "cell_type": "code",
   "execution_count": 3,
   "metadata": {},
   "outputs": [],
   "source": [
    "import pandas as pd\n",
    "import numpy as np\n",
    "from scipy import stats as st\n",
    "import matplotlib.pyplot as plt\n",
    "import seaborn as sns"
   ]
  },
  {
   "cell_type": "markdown",
   "metadata": {},
   "source": [
    "---"
   ]
  },
  {
   "cell_type": "markdown",
   "metadata": {},
   "source": [
    "## 1. Открытие файла с данными и изучение информации о данных <a class=\"anchor\" id=\"open\"></a>"
   ]
  },
  {
   "cell_type": "markdown",
   "metadata": {},
   "source": [
    "Загрузим файлы с данными, предоставленные для исследования."
   ]
  },
  {
   "cell_type": "code",
   "execution_count": 4,
   "metadata": {},
   "outputs": [],
   "source": [
    "try:\n",
    "    calls = pd.read_csv('/datasets/calls.csv')\n",
    "    internet = pd.read_csv('/datasets/internet.csv', index_col=0)\n",
    "    messages = pd.read_csv('/datasets/messages.csv')\n",
    "    tariffs = pd.read_csv('/datasets/tariffs.csv')\n",
    "    users = pd.read_csv('/datasets/users.csv')\n",
    "except FileNotFoundError:\n",
    "    calls = pd.read_csv('-') # Прямая ссылка на датасет удалена в связи с правилами публикации проектов\n",
    "    internet = pd.read_csv('-') # Прямая ссылка на датасет удалена в связи с правилами публикации проектов\n",
    "    messages = pd.read_csv('-') # Прямая ссылка на датасет удалена в связи с правилами публикации проектов\n",
    "    tariffs = pd.read_csv('-') # Прямая ссылка на датасет удалена в связи с правилами публикации проектов\n",
    "    users = pd.read_csv('-') # Прямая ссылка на датасет удалена в связи с правилами публикации проектов"
   ]
  },
  {
   "cell_type": "markdown",
   "metadata": {},
   "source": [
    "Изучим информацию в файлах по очереди с их статистической и обзорной информацией."
   ]
  },
  {
   "cell_type": "code",
   "execution_count": 5,
   "metadata": {
    "scrolled": false
   },
   "outputs": [
    {
     "data": {
      "text/html": [
       "<div>\n",
       "<style scoped>\n",
       "    .dataframe tbody tr th:only-of-type {\n",
       "        vertical-align: middle;\n",
       "    }\n",
       "\n",
       "    .dataframe tbody tr th {\n",
       "        vertical-align: top;\n",
       "    }\n",
       "\n",
       "    .dataframe thead th {\n",
       "        text-align: right;\n",
       "    }\n",
       "</style>\n",
       "<table border=\"1\" class=\"dataframe\">\n",
       "  <thead>\n",
       "    <tr style=\"text-align: right;\">\n",
       "      <th></th>\n",
       "      <th>id</th>\n",
       "      <th>call_date</th>\n",
       "      <th>duration</th>\n",
       "      <th>user_id</th>\n",
       "    </tr>\n",
       "  </thead>\n",
       "  <tbody>\n",
       "    <tr>\n",
       "      <td>0</td>\n",
       "      <td>1000_0</td>\n",
       "      <td>2018-07-25</td>\n",
       "      <td>0.00</td>\n",
       "      <td>1000</td>\n",
       "    </tr>\n",
       "    <tr>\n",
       "      <td>1</td>\n",
       "      <td>1000_1</td>\n",
       "      <td>2018-08-17</td>\n",
       "      <td>0.00</td>\n",
       "      <td>1000</td>\n",
       "    </tr>\n",
       "    <tr>\n",
       "      <td>2</td>\n",
       "      <td>1000_2</td>\n",
       "      <td>2018-06-11</td>\n",
       "      <td>2.85</td>\n",
       "      <td>1000</td>\n",
       "    </tr>\n",
       "    <tr>\n",
       "      <td>3</td>\n",
       "      <td>1000_3</td>\n",
       "      <td>2018-09-21</td>\n",
       "      <td>13.80</td>\n",
       "      <td>1000</td>\n",
       "    </tr>\n",
       "    <tr>\n",
       "      <td>4</td>\n",
       "      <td>1000_4</td>\n",
       "      <td>2018-12-15</td>\n",
       "      <td>5.18</td>\n",
       "      <td>1000</td>\n",
       "    </tr>\n",
       "  </tbody>\n",
       "</table>\n",
       "</div>"
      ],
      "text/plain": [
       "       id   call_date  duration  user_id\n",
       "0  1000_0  2018-07-25      0.00     1000\n",
       "1  1000_1  2018-08-17      0.00     1000\n",
       "2  1000_2  2018-06-11      2.85     1000\n",
       "3  1000_3  2018-09-21     13.80     1000\n",
       "4  1000_4  2018-12-15      5.18     1000"
      ]
     },
     "metadata": {},
     "output_type": "display_data"
    },
    {
     "name": "stdout",
     "output_type": "stream",
     "text": [
      "<class 'pandas.core.frame.DataFrame'>\n",
      "RangeIndex: 202607 entries, 0 to 202606\n",
      "Data columns (total 4 columns):\n",
      "id           202607 non-null object\n",
      "call_date    202607 non-null object\n",
      "duration     202607 non-null float64\n",
      "user_id      202607 non-null int64\n",
      "dtypes: float64(1), int64(1), object(2)\n",
      "memory usage: 6.2+ MB\n"
     ]
    },
    {
     "data": {
      "text/html": [
       "<div>\n",
       "<style scoped>\n",
       "    .dataframe tbody tr th:only-of-type {\n",
       "        vertical-align: middle;\n",
       "    }\n",
       "\n",
       "    .dataframe tbody tr th {\n",
       "        vertical-align: top;\n",
       "    }\n",
       "\n",
       "    .dataframe thead th {\n",
       "        text-align: right;\n",
       "    }\n",
       "</style>\n",
       "<table border=\"1\" class=\"dataframe\">\n",
       "  <thead>\n",
       "    <tr style=\"text-align: right;\">\n",
       "      <th></th>\n",
       "      <th>duration</th>\n",
       "      <th>user_id</th>\n",
       "    </tr>\n",
       "  </thead>\n",
       "  <tbody>\n",
       "    <tr>\n",
       "      <td>count</td>\n",
       "      <td>202607.000000</td>\n",
       "      <td>202607.000000</td>\n",
       "    </tr>\n",
       "    <tr>\n",
       "      <td>mean</td>\n",
       "      <td>6.755887</td>\n",
       "      <td>1253.940619</td>\n",
       "    </tr>\n",
       "    <tr>\n",
       "      <td>std</td>\n",
       "      <td>5.843365</td>\n",
       "      <td>144.722751</td>\n",
       "    </tr>\n",
       "    <tr>\n",
       "      <td>min</td>\n",
       "      <td>0.000000</td>\n",
       "      <td>1000.000000</td>\n",
       "    </tr>\n",
       "    <tr>\n",
       "      <td>25%</td>\n",
       "      <td>1.300000</td>\n",
       "      <td>1126.000000</td>\n",
       "    </tr>\n",
       "    <tr>\n",
       "      <td>50%</td>\n",
       "      <td>6.000000</td>\n",
       "      <td>1260.000000</td>\n",
       "    </tr>\n",
       "    <tr>\n",
       "      <td>75%</td>\n",
       "      <td>10.700000</td>\n",
       "      <td>1379.000000</td>\n",
       "    </tr>\n",
       "    <tr>\n",
       "      <td>max</td>\n",
       "      <td>38.000000</td>\n",
       "      <td>1499.000000</td>\n",
       "    </tr>\n",
       "  </tbody>\n",
       "</table>\n",
       "</div>"
      ],
      "text/plain": [
       "            duration        user_id\n",
       "count  202607.000000  202607.000000\n",
       "mean        6.755887    1253.940619\n",
       "std         5.843365     144.722751\n",
       "min         0.000000    1000.000000\n",
       "25%         1.300000    1126.000000\n",
       "50%         6.000000    1260.000000\n",
       "75%        10.700000    1379.000000\n",
       "max        38.000000    1499.000000"
      ]
     },
     "execution_count": 5,
     "metadata": {},
     "output_type": "execute_result"
    }
   ],
   "source": [
    "display(calls.head())\n",
    "calls.info()\n",
    "calls.describe()"
   ]
  },
  {
   "cell_type": "markdown",
   "metadata": {},
   "source": [
    "Также отобразим статистическую и обзорную информацию о файлах."
   ]
  },
  {
   "cell_type": "code",
   "execution_count": 6,
   "metadata": {},
   "outputs": [
    {
     "data": {
      "text/html": [
       "<div>\n",
       "<style scoped>\n",
       "    .dataframe tbody tr th:only-of-type {\n",
       "        vertical-align: middle;\n",
       "    }\n",
       "\n",
       "    .dataframe tbody tr th {\n",
       "        vertical-align: top;\n",
       "    }\n",
       "\n",
       "    .dataframe thead th {\n",
       "        text-align: right;\n",
       "    }\n",
       "</style>\n",
       "<table border=\"1\" class=\"dataframe\">\n",
       "  <thead>\n",
       "    <tr style=\"text-align: right;\">\n",
       "      <th></th>\n",
       "      <th>id</th>\n",
       "      <th>mb_used</th>\n",
       "      <th>session_date</th>\n",
       "      <th>user_id</th>\n",
       "    </tr>\n",
       "  </thead>\n",
       "  <tbody>\n",
       "    <tr>\n",
       "      <td>0</td>\n",
       "      <td>1000_0</td>\n",
       "      <td>112.95</td>\n",
       "      <td>2018-11-25</td>\n",
       "      <td>1000</td>\n",
       "    </tr>\n",
       "    <tr>\n",
       "      <td>1</td>\n",
       "      <td>1000_1</td>\n",
       "      <td>1052.81</td>\n",
       "      <td>2018-09-07</td>\n",
       "      <td>1000</td>\n",
       "    </tr>\n",
       "    <tr>\n",
       "      <td>2</td>\n",
       "      <td>1000_2</td>\n",
       "      <td>1197.26</td>\n",
       "      <td>2018-06-25</td>\n",
       "      <td>1000</td>\n",
       "    </tr>\n",
       "    <tr>\n",
       "      <td>3</td>\n",
       "      <td>1000_3</td>\n",
       "      <td>550.27</td>\n",
       "      <td>2018-08-22</td>\n",
       "      <td>1000</td>\n",
       "    </tr>\n",
       "    <tr>\n",
       "      <td>4</td>\n",
       "      <td>1000_4</td>\n",
       "      <td>302.56</td>\n",
       "      <td>2018-09-24</td>\n",
       "      <td>1000</td>\n",
       "    </tr>\n",
       "  </tbody>\n",
       "</table>\n",
       "</div>"
      ],
      "text/plain": [
       "       id  mb_used session_date  user_id\n",
       "0  1000_0   112.95   2018-11-25     1000\n",
       "1  1000_1  1052.81   2018-09-07     1000\n",
       "2  1000_2  1197.26   2018-06-25     1000\n",
       "3  1000_3   550.27   2018-08-22     1000\n",
       "4  1000_4   302.56   2018-09-24     1000"
      ]
     },
     "metadata": {},
     "output_type": "display_data"
    },
    {
     "name": "stdout",
     "output_type": "stream",
     "text": [
      "<class 'pandas.core.frame.DataFrame'>\n",
      "Int64Index: 149396 entries, 0 to 149395\n",
      "Data columns (total 4 columns):\n",
      "id              149396 non-null object\n",
      "mb_used         149396 non-null float64\n",
      "session_date    149396 non-null object\n",
      "user_id         149396 non-null int64\n",
      "dtypes: float64(1), int64(1), object(2)\n",
      "memory usage: 5.7+ MB\n"
     ]
    },
    {
     "data": {
      "text/html": [
       "<div>\n",
       "<style scoped>\n",
       "    .dataframe tbody tr th:only-of-type {\n",
       "        vertical-align: middle;\n",
       "    }\n",
       "\n",
       "    .dataframe tbody tr th {\n",
       "        vertical-align: top;\n",
       "    }\n",
       "\n",
       "    .dataframe thead th {\n",
       "        text-align: right;\n",
       "    }\n",
       "</style>\n",
       "<table border=\"1\" class=\"dataframe\">\n",
       "  <thead>\n",
       "    <tr style=\"text-align: right;\">\n",
       "      <th></th>\n",
       "      <th>mb_used</th>\n",
       "      <th>user_id</th>\n",
       "    </tr>\n",
       "  </thead>\n",
       "  <tbody>\n",
       "    <tr>\n",
       "      <td>count</td>\n",
       "      <td>149396.000000</td>\n",
       "      <td>149396.000000</td>\n",
       "    </tr>\n",
       "    <tr>\n",
       "      <td>mean</td>\n",
       "      <td>370.192426</td>\n",
       "      <td>1252.099842</td>\n",
       "    </tr>\n",
       "    <tr>\n",
       "      <td>std</td>\n",
       "      <td>278.300951</td>\n",
       "      <td>144.050823</td>\n",
       "    </tr>\n",
       "    <tr>\n",
       "      <td>min</td>\n",
       "      <td>0.000000</td>\n",
       "      <td>1000.000000</td>\n",
       "    </tr>\n",
       "    <tr>\n",
       "      <td>25%</td>\n",
       "      <td>138.187500</td>\n",
       "      <td>1130.000000</td>\n",
       "    </tr>\n",
       "    <tr>\n",
       "      <td>50%</td>\n",
       "      <td>348.015000</td>\n",
       "      <td>1251.000000</td>\n",
       "    </tr>\n",
       "    <tr>\n",
       "      <td>75%</td>\n",
       "      <td>559.552500</td>\n",
       "      <td>1380.000000</td>\n",
       "    </tr>\n",
       "    <tr>\n",
       "      <td>max</td>\n",
       "      <td>1724.830000</td>\n",
       "      <td>1499.000000</td>\n",
       "    </tr>\n",
       "  </tbody>\n",
       "</table>\n",
       "</div>"
      ],
      "text/plain": [
       "             mb_used        user_id\n",
       "count  149396.000000  149396.000000\n",
       "mean      370.192426    1252.099842\n",
       "std       278.300951     144.050823\n",
       "min         0.000000    1000.000000\n",
       "25%       138.187500    1130.000000\n",
       "50%       348.015000    1251.000000\n",
       "75%       559.552500    1380.000000\n",
       "max      1724.830000    1499.000000"
      ]
     },
     "execution_count": 6,
     "metadata": {},
     "output_type": "execute_result"
    }
   ],
   "source": [
    "display(internet.head())\n",
    "internet.info()\n",
    "internet.describe()"
   ]
  },
  {
   "cell_type": "code",
   "execution_count": 7,
   "metadata": {},
   "outputs": [
    {
     "data": {
      "text/html": [
       "<div>\n",
       "<style scoped>\n",
       "    .dataframe tbody tr th:only-of-type {\n",
       "        vertical-align: middle;\n",
       "    }\n",
       "\n",
       "    .dataframe tbody tr th {\n",
       "        vertical-align: top;\n",
       "    }\n",
       "\n",
       "    .dataframe thead th {\n",
       "        text-align: right;\n",
       "    }\n",
       "</style>\n",
       "<table border=\"1\" class=\"dataframe\">\n",
       "  <thead>\n",
       "    <tr style=\"text-align: right;\">\n",
       "      <th></th>\n",
       "      <th>id</th>\n",
       "      <th>message_date</th>\n",
       "      <th>user_id</th>\n",
       "    </tr>\n",
       "  </thead>\n",
       "  <tbody>\n",
       "    <tr>\n",
       "      <td>0</td>\n",
       "      <td>1000_0</td>\n",
       "      <td>2018-06-27</td>\n",
       "      <td>1000</td>\n",
       "    </tr>\n",
       "    <tr>\n",
       "      <td>1</td>\n",
       "      <td>1000_1</td>\n",
       "      <td>2018-10-08</td>\n",
       "      <td>1000</td>\n",
       "    </tr>\n",
       "    <tr>\n",
       "      <td>2</td>\n",
       "      <td>1000_2</td>\n",
       "      <td>2018-08-04</td>\n",
       "      <td>1000</td>\n",
       "    </tr>\n",
       "    <tr>\n",
       "      <td>3</td>\n",
       "      <td>1000_3</td>\n",
       "      <td>2018-06-16</td>\n",
       "      <td>1000</td>\n",
       "    </tr>\n",
       "    <tr>\n",
       "      <td>4</td>\n",
       "      <td>1000_4</td>\n",
       "      <td>2018-12-05</td>\n",
       "      <td>1000</td>\n",
       "    </tr>\n",
       "  </tbody>\n",
       "</table>\n",
       "</div>"
      ],
      "text/plain": [
       "       id message_date  user_id\n",
       "0  1000_0   2018-06-27     1000\n",
       "1  1000_1   2018-10-08     1000\n",
       "2  1000_2   2018-08-04     1000\n",
       "3  1000_3   2018-06-16     1000\n",
       "4  1000_4   2018-12-05     1000"
      ]
     },
     "metadata": {},
     "output_type": "display_data"
    },
    {
     "name": "stdout",
     "output_type": "stream",
     "text": [
      "<class 'pandas.core.frame.DataFrame'>\n",
      "RangeIndex: 123036 entries, 0 to 123035\n",
      "Data columns (total 3 columns):\n",
      "id              123036 non-null object\n",
      "message_date    123036 non-null object\n",
      "user_id         123036 non-null int64\n",
      "dtypes: int64(1), object(2)\n",
      "memory usage: 2.8+ MB\n"
     ]
    }
   ],
   "source": [
    "display(messages.head())\n",
    "messages.info()"
   ]
  },
  {
   "cell_type": "code",
   "execution_count": 8,
   "metadata": {
    "scrolled": false
   },
   "outputs": [
    {
     "data": {
      "text/html": [
       "<div>\n",
       "<style scoped>\n",
       "    .dataframe tbody tr th:only-of-type {\n",
       "        vertical-align: middle;\n",
       "    }\n",
       "\n",
       "    .dataframe tbody tr th {\n",
       "        vertical-align: top;\n",
       "    }\n",
       "\n",
       "    .dataframe thead th {\n",
       "        text-align: right;\n",
       "    }\n",
       "</style>\n",
       "<table border=\"1\" class=\"dataframe\">\n",
       "  <thead>\n",
       "    <tr style=\"text-align: right;\">\n",
       "      <th></th>\n",
       "      <th>user_id</th>\n",
       "      <th>age</th>\n",
       "      <th>churn_date</th>\n",
       "      <th>city</th>\n",
       "      <th>first_name</th>\n",
       "      <th>last_name</th>\n",
       "      <th>reg_date</th>\n",
       "      <th>tariff</th>\n",
       "    </tr>\n",
       "  </thead>\n",
       "  <tbody>\n",
       "    <tr>\n",
       "      <td>0</td>\n",
       "      <td>1000</td>\n",
       "      <td>52</td>\n",
       "      <td>NaN</td>\n",
       "      <td>Краснодар</td>\n",
       "      <td>Рафаил</td>\n",
       "      <td>Верещагин</td>\n",
       "      <td>2018-05-25</td>\n",
       "      <td>ultra</td>\n",
       "    </tr>\n",
       "    <tr>\n",
       "      <td>1</td>\n",
       "      <td>1001</td>\n",
       "      <td>41</td>\n",
       "      <td>NaN</td>\n",
       "      <td>Москва</td>\n",
       "      <td>Иван</td>\n",
       "      <td>Ежов</td>\n",
       "      <td>2018-11-01</td>\n",
       "      <td>smart</td>\n",
       "    </tr>\n",
       "    <tr>\n",
       "      <td>2</td>\n",
       "      <td>1002</td>\n",
       "      <td>59</td>\n",
       "      <td>NaN</td>\n",
       "      <td>Стерлитамак</td>\n",
       "      <td>Евгений</td>\n",
       "      <td>Абрамович</td>\n",
       "      <td>2018-06-17</td>\n",
       "      <td>smart</td>\n",
       "    </tr>\n",
       "    <tr>\n",
       "      <td>3</td>\n",
       "      <td>1003</td>\n",
       "      <td>23</td>\n",
       "      <td>NaN</td>\n",
       "      <td>Москва</td>\n",
       "      <td>Белла</td>\n",
       "      <td>Белякова</td>\n",
       "      <td>2018-08-17</td>\n",
       "      <td>ultra</td>\n",
       "    </tr>\n",
       "    <tr>\n",
       "      <td>4</td>\n",
       "      <td>1004</td>\n",
       "      <td>68</td>\n",
       "      <td>NaN</td>\n",
       "      <td>Новокузнецк</td>\n",
       "      <td>Татьяна</td>\n",
       "      <td>Авдеенко</td>\n",
       "      <td>2018-05-14</td>\n",
       "      <td>ultra</td>\n",
       "    </tr>\n",
       "  </tbody>\n",
       "</table>\n",
       "</div>"
      ],
      "text/plain": [
       "   user_id  age churn_date         city first_name  last_name    reg_date  \\\n",
       "0     1000   52        NaN    Краснодар     Рафаил  Верещагин  2018-05-25   \n",
       "1     1001   41        NaN       Москва       Иван       Ежов  2018-11-01   \n",
       "2     1002   59        NaN  Стерлитамак    Евгений  Абрамович  2018-06-17   \n",
       "3     1003   23        NaN       Москва      Белла   Белякова  2018-08-17   \n",
       "4     1004   68        NaN  Новокузнецк    Татьяна   Авдеенко  2018-05-14   \n",
       "\n",
       "  tariff  \n",
       "0  ultra  \n",
       "1  smart  \n",
       "2  smart  \n",
       "3  ultra  \n",
       "4  ultra  "
      ]
     },
     "metadata": {},
     "output_type": "display_data"
    },
    {
     "name": "stdout",
     "output_type": "stream",
     "text": [
      "<class 'pandas.core.frame.DataFrame'>\n",
      "RangeIndex: 500 entries, 0 to 499\n",
      "Data columns (total 8 columns):\n",
      "user_id       500 non-null int64\n",
      "age           500 non-null int64\n",
      "churn_date    38 non-null object\n",
      "city          500 non-null object\n",
      "first_name    500 non-null object\n",
      "last_name     500 non-null object\n",
      "reg_date      500 non-null object\n",
      "tariff        500 non-null object\n",
      "dtypes: int64(2), object(6)\n",
      "memory usage: 31.4+ KB\n"
     ]
    },
    {
     "data": {
      "text/plain": [
       "tariff\n",
       "smart    351\n",
       "ultra    149\n",
       "Name: user_id, dtype: int64"
      ]
     },
     "execution_count": 8,
     "metadata": {},
     "output_type": "execute_result"
    }
   ],
   "source": [
    "display(users.head())\n",
    "users.info()\n",
    "users.describe()\n",
    "users.groupby(by='tariff').count()['user_id']"
   ]
  },
  {
   "cell_type": "code",
   "execution_count": 9,
   "metadata": {},
   "outputs": [
    {
     "data": {
      "text/html": [
       "<div>\n",
       "<style scoped>\n",
       "    .dataframe tbody tr th:only-of-type {\n",
       "        vertical-align: middle;\n",
       "    }\n",
       "\n",
       "    .dataframe tbody tr th {\n",
       "        vertical-align: top;\n",
       "    }\n",
       "\n",
       "    .dataframe thead th {\n",
       "        text-align: right;\n",
       "    }\n",
       "</style>\n",
       "<table border=\"1\" class=\"dataframe\">\n",
       "  <thead>\n",
       "    <tr style=\"text-align: right;\">\n",
       "      <th></th>\n",
       "      <th>messages_included</th>\n",
       "      <th>mb_per_month_included</th>\n",
       "      <th>minutes_included</th>\n",
       "      <th>rub_monthly_fee</th>\n",
       "      <th>rub_per_gb</th>\n",
       "      <th>rub_per_message</th>\n",
       "      <th>rub_per_minute</th>\n",
       "      <th>tariff</th>\n",
       "    </tr>\n",
       "  </thead>\n",
       "  <tbody>\n",
       "    <tr>\n",
       "      <td>0</td>\n",
       "      <td>50</td>\n",
       "      <td>15360</td>\n",
       "      <td>500</td>\n",
       "      <td>550</td>\n",
       "      <td>200</td>\n",
       "      <td>3</td>\n",
       "      <td>3</td>\n",
       "      <td>smart</td>\n",
       "    </tr>\n",
       "    <tr>\n",
       "      <td>1</td>\n",
       "      <td>1000</td>\n",
       "      <td>30720</td>\n",
       "      <td>3000</td>\n",
       "      <td>1950</td>\n",
       "      <td>150</td>\n",
       "      <td>1</td>\n",
       "      <td>1</td>\n",
       "      <td>ultra</td>\n",
       "    </tr>\n",
       "  </tbody>\n",
       "</table>\n",
       "</div>"
      ],
      "text/plain": [
       "   messages_included  mb_per_month_included  minutes_included  \\\n",
       "0                 50                  15360               500   \n",
       "1               1000                  30720              3000   \n",
       "\n",
       "   rub_monthly_fee  rub_per_gb  rub_per_message  rub_per_minute tariff  \n",
       "0              550         200                3               3  smart  \n",
       "1             1950         150                1               1  ultra  "
      ]
     },
     "metadata": {},
     "output_type": "display_data"
    },
    {
     "name": "stdout",
     "output_type": "stream",
     "text": [
      "<class 'pandas.core.frame.DataFrame'>\n",
      "RangeIndex: 2 entries, 0 to 1\n",
      "Data columns (total 8 columns):\n",
      "messages_included        2 non-null int64\n",
      "mb_per_month_included    2 non-null int64\n",
      "minutes_included         2 non-null int64\n",
      "rub_monthly_fee          2 non-null int64\n",
      "rub_per_gb               2 non-null int64\n",
      "rub_per_message          2 non-null int64\n",
      "rub_per_minute           2 non-null int64\n",
      "tariff                   2 non-null object\n",
      "dtypes: int64(7), object(1)\n",
      "memory usage: 256.0+ bytes\n"
     ]
    }
   ],
   "source": [
    "tariffs.rename(columns={'tariff_name': 'tariff'}, inplace=True)\n",
    "display(tariffs.head())\n",
    "tariffs.info()"
   ]
  },
  {
   "cell_type": "markdown",
   "metadata": {},
   "source": [
    "По результатам изучения первичной информации можно сделать следуующие наблюдения:\n",
    "\n",
    "1. В данных нет пропусков, за исключением пропусков даты прекращения договора, которые означают, что клиент не отказался от услуг оператора.\n",
    "\n",
    "2. В таблице звонков есть нулевые значения, означающие пропущенные вызовы. Также нулевые значения есть в таблице расхода интернет трафика - это может быть ошибкой. Нулевые значения могут быть как неудавшейся сессией, когда подключиться к интернету не удалось, либо ошибкой в данных.\n",
    "\n",
    "3. В таблице звонков минуты сохранены в вещественном виде, тогда как Мегалайн округляет их в большую сторону. Следует округлить и записать их в целочисленном виде.\n",
    "\n",
    "4. Значения дат хранятся в строковом виде, их необходимо перевести в тип datetime."
   ]
  },
  {
   "cell_type": "markdown",
   "metadata": {},
   "source": [
    "## 2. Подготовка данных <a class=\"anchor\" id=\"prepare_data\"></a>\n"
   ]
  },
  {
   "cell_type": "markdown",
   "metadata": {},
   "source": [
    "### Постановка задачи <a class=\"anchor\" id=\"prepare_task\"></a>"
   ]
  },
  {
   "cell_type": "markdown",
   "metadata": {},
   "source": [
    "В рамках подготовки данных необходимо провести следующую предобработку:\n",
    "- изменить тип хранения дат в таблицах на datetime;\n",
    "- округлить значения длительности звонка в большую сторону и привести к целочисленному виду;\n",
    "- провести следующие расчеты:\n",
    "    - количество сделанных звонков и израсходованных минут разговора по месяцам;\n",
    "    - количество отправленных сообщений по месяцам;\n",
    "    - объем израсходованного интернет-трафика по месяцам;\n",
    "    - помесячную выручку с каждого пользователя"
   ]
  },
  {
   "cell_type": "markdown",
   "metadata": {},
   "source": [
    "\n",
    "### Изменение типа данных <a class=\"anchor\" id=\"change\"></a>\n"
   ]
  },
  {
   "cell_type": "markdown",
   "metadata": {},
   "source": [
    " Изменим тип хранения дат в каждой из таблиц."
   ]
  },
  {
   "cell_type": "code",
   "execution_count": 10,
   "metadata": {},
   "outputs": [],
   "source": [
    "calls['call_date'] = pd.to_datetime(calls['call_date'], format='%Y-%m-%d')\n",
    "internet['session_date'] = pd.to_datetime(internet['session_date'], format='%Y-%m-%d')\n",
    "messages['message_date'] = pd.to_datetime(messages['message_date'], format='%Y-%m-%d')\n",
    "users['reg_date'] = pd.to_datetime(users['reg_date'], format='%Y-%m-%d')"
   ]
  },
  {
   "cell_type": "markdown",
   "metadata": {},
   "source": [
    "Тип хранения был изменен."
   ]
  },
  {
   "cell_type": "markdown",
   "metadata": {},
   "source": [
    "### Исправление ошибок <a class=\"anchor\" id=\"errors\"></a>\n"
   ]
  },
  {
   "cell_type": "markdown",
   "metadata": {},
   "source": [
    "Округлим записанные в вещественном виде значения длительности звонка в большую сторону и приведем к целочисленному виду."
   ]
  },
  {
   "cell_type": "code",
   "execution_count": 11,
   "metadata": {},
   "outputs": [],
   "source": [
    "calls['duration'] = np.ceil(calls['duration'])\n",
    "calls['duration'] = pd.to_numeric(calls['duration'], downcast='integer')"
   ]
  },
  {
   "cell_type": "markdown",
   "metadata": {},
   "source": [
    "Проверим округление."
   ]
  },
  {
   "cell_type": "code",
   "execution_count": 12,
   "metadata": {
    "scrolled": false
   },
   "outputs": [
    {
     "data": {
      "text/html": [
       "<div>\n",
       "<style scoped>\n",
       "    .dataframe tbody tr th:only-of-type {\n",
       "        vertical-align: middle;\n",
       "    }\n",
       "\n",
       "    .dataframe tbody tr th {\n",
       "        vertical-align: top;\n",
       "    }\n",
       "\n",
       "    .dataframe thead th {\n",
       "        text-align: right;\n",
       "    }\n",
       "</style>\n",
       "<table border=\"1\" class=\"dataframe\">\n",
       "  <thead>\n",
       "    <tr style=\"text-align: right;\">\n",
       "      <th></th>\n",
       "      <th>id</th>\n",
       "      <th>call_date</th>\n",
       "      <th>duration</th>\n",
       "      <th>user_id</th>\n",
       "    </tr>\n",
       "  </thead>\n",
       "  <tbody>\n",
       "    <tr>\n",
       "      <td>0</td>\n",
       "      <td>1000_0</td>\n",
       "      <td>2018-07-25</td>\n",
       "      <td>0</td>\n",
       "      <td>1000</td>\n",
       "    </tr>\n",
       "    <tr>\n",
       "      <td>1</td>\n",
       "      <td>1000_1</td>\n",
       "      <td>2018-08-17</td>\n",
       "      <td>0</td>\n",
       "      <td>1000</td>\n",
       "    </tr>\n",
       "    <tr>\n",
       "      <td>2</td>\n",
       "      <td>1000_2</td>\n",
       "      <td>2018-06-11</td>\n",
       "      <td>3</td>\n",
       "      <td>1000</td>\n",
       "    </tr>\n",
       "    <tr>\n",
       "      <td>3</td>\n",
       "      <td>1000_3</td>\n",
       "      <td>2018-09-21</td>\n",
       "      <td>14</td>\n",
       "      <td>1000</td>\n",
       "    </tr>\n",
       "    <tr>\n",
       "      <td>4</td>\n",
       "      <td>1000_4</td>\n",
       "      <td>2018-12-15</td>\n",
       "      <td>6</td>\n",
       "      <td>1000</td>\n",
       "    </tr>\n",
       "  </tbody>\n",
       "</table>\n",
       "</div>"
      ],
      "text/plain": [
       "       id  call_date  duration  user_id\n",
       "0  1000_0 2018-07-25         0     1000\n",
       "1  1000_1 2018-08-17         0     1000\n",
       "2  1000_2 2018-06-11         3     1000\n",
       "3  1000_3 2018-09-21        14     1000\n",
       "4  1000_4 2018-12-15         6     1000"
      ]
     },
     "execution_count": 12,
     "metadata": {},
     "output_type": "execute_result"
    }
   ],
   "source": [
    "calls.head()"
   ]
  },
  {
   "cell_type": "markdown",
   "metadata": {},
   "source": [
    "Теперь данные о длительности звонка хранятся в целочисленном виде, округленные в большую сторону."
   ]
  },
  {
   "cell_type": "markdown",
   "metadata": {},
   "source": [
    "### Расчёты <a class=\"anchor\" id=\"calculations\"></a>\n"
   ]
  },
  {
   "cell_type": "markdown",
   "metadata": {},
   "source": [
    "Проведем необходимые расчеты для пользователей.\n",
    "\n",
    "Посчитаем количесто сделанных звонков."
   ]
  },
  {
   "cell_type": "code",
   "execution_count": 13,
   "metadata": {},
   "outputs": [],
   "source": [
    "users = users.merge(calls.groupby(by='user_id').count()['id'], on='user_id', how='outer')\n",
    "users.rename(columns={'id':'number_of_calls'}, inplace=True)"
   ]
  },
  {
   "cell_type": "markdown",
   "metadata": {},
   "source": [
    "Посчитаем количество израсходованных минут по месяцам."
   ]
  },
  {
   "cell_type": "code",
   "execution_count": 14,
   "metadata": {},
   "outputs": [],
   "source": [
    "calls['month'] = calls['call_date'].dt.month\n",
    "pivot_month_calls = pd.pivot_table(calls, values='duration', index=['user_id', 'month'], aggfunc='sum')"
   ]
  },
  {
   "cell_type": "markdown",
   "metadata": {},
   "source": [
    "Количество отправленных сообщений по месяцам."
   ]
  },
  {
   "cell_type": "code",
   "execution_count": 15,
   "metadata": {},
   "outputs": [],
   "source": [
    "messages['month'] = messages['message_date'].dt.month\n",
    "pivot_month_messages = pd.pivot_table(messages, values='message_date', index=['user_id', 'month'], aggfunc='count')"
   ]
  },
  {
   "cell_type": "markdown",
   "metadata": {},
   "source": [
    "Количество израсходованного трафика по месяцам."
   ]
  },
  {
   "cell_type": "code",
   "execution_count": 16,
   "metadata": {},
   "outputs": [],
   "source": [
    "internet['month'] = internet['session_date'].dt.month\n",
    "pivot_month_internet = pd.pivot_table(internet, values='mb_used', index=['user_id', 'month'], aggfunc='sum')"
   ]
  },
  {
   "cell_type": "markdown",
   "metadata": {},
   "source": [
    "И соберем получившиеся таблицы в одну"
   ]
  },
  {
   "cell_type": "code",
   "execution_count": 17,
   "metadata": {},
   "outputs": [
    {
     "data": {
      "text/html": [
       "<div>\n",
       "<style scoped>\n",
       "    .dataframe tbody tr th:only-of-type {\n",
       "        vertical-align: middle;\n",
       "    }\n",
       "\n",
       "    .dataframe tbody tr th {\n",
       "        vertical-align: top;\n",
       "    }\n",
       "\n",
       "    .dataframe thead th {\n",
       "        text-align: right;\n",
       "    }\n",
       "</style>\n",
       "<table border=\"1\" class=\"dataframe\">\n",
       "  <thead>\n",
       "    <tr style=\"text-align: right;\">\n",
       "      <th></th>\n",
       "      <th>user_id</th>\n",
       "      <th>month</th>\n",
       "      <th>duration</th>\n",
       "      <th>message_date</th>\n",
       "      <th>mb_used</th>\n",
       "    </tr>\n",
       "  </thead>\n",
       "  <tbody>\n",
       "    <tr>\n",
       "      <td>0</td>\n",
       "      <td>1000</td>\n",
       "      <td>5</td>\n",
       "      <td>159.0</td>\n",
       "      <td>22.0</td>\n",
       "      <td>2253.49</td>\n",
       "    </tr>\n",
       "    <tr>\n",
       "      <td>1</td>\n",
       "      <td>1000</td>\n",
       "      <td>6</td>\n",
       "      <td>172.0</td>\n",
       "      <td>60.0</td>\n",
       "      <td>23233.77</td>\n",
       "    </tr>\n",
       "    <tr>\n",
       "      <td>2</td>\n",
       "      <td>1000</td>\n",
       "      <td>7</td>\n",
       "      <td>340.0</td>\n",
       "      <td>75.0</td>\n",
       "      <td>14003.64</td>\n",
       "    </tr>\n",
       "    <tr>\n",
       "      <td>3</td>\n",
       "      <td>1000</td>\n",
       "      <td>8</td>\n",
       "      <td>408.0</td>\n",
       "      <td>81.0</td>\n",
       "      <td>14055.93</td>\n",
       "    </tr>\n",
       "    <tr>\n",
       "      <td>4</td>\n",
       "      <td>1000</td>\n",
       "      <td>9</td>\n",
       "      <td>466.0</td>\n",
       "      <td>57.0</td>\n",
       "      <td>14568.91</td>\n",
       "    </tr>\n",
       "  </tbody>\n",
       "</table>\n",
       "</div>"
      ],
      "text/plain": [
       "   user_id  month  duration  message_date   mb_used\n",
       "0     1000      5     159.0          22.0   2253.49\n",
       "1     1000      6     172.0          60.0  23233.77\n",
       "2     1000      7     340.0          75.0  14003.64\n",
       "3     1000      8     408.0          81.0  14055.93\n",
       "4     1000      9     466.0          57.0  14568.91"
      ]
     },
     "execution_count": 17,
     "metadata": {},
     "output_type": "execute_result"
    }
   ],
   "source": [
    "pivot_month = (\n",
    "    pivot_month_calls.reset_index()\n",
    "    .merge(pivot_month_messages.reset_index(), how='outer')\n",
    "    .merge(pivot_month_internet.reset_index(), how='outer')\n",
    ")\n",
    "pivot_month.head()"
   ]
  },
  {
   "cell_type": "code",
   "execution_count": 18,
   "metadata": {},
   "outputs": [
    {
     "data": {
      "text/html": [
       "<div>\n",
       "<style scoped>\n",
       "    .dataframe tbody tr th:only-of-type {\n",
       "        vertical-align: middle;\n",
       "    }\n",
       "\n",
       "    .dataframe tbody tr th {\n",
       "        vertical-align: top;\n",
       "    }\n",
       "\n",
       "    .dataframe thead th {\n",
       "        text-align: right;\n",
       "    }\n",
       "</style>\n",
       "<table border=\"1\" class=\"dataframe\">\n",
       "  <thead>\n",
       "    <tr style=\"text-align: right;\">\n",
       "      <th></th>\n",
       "      <th>user_id</th>\n",
       "      <th>month</th>\n",
       "      <th>duration</th>\n",
       "      <th>message_date</th>\n",
       "      <th>mb_used</th>\n",
       "    </tr>\n",
       "  </thead>\n",
       "  <tbody>\n",
       "    <tr>\n",
       "      <td>0</td>\n",
       "      <td>1000</td>\n",
       "      <td>5</td>\n",
       "      <td>159.0</td>\n",
       "      <td>22.0</td>\n",
       "      <td>2253.49</td>\n",
       "    </tr>\n",
       "    <tr>\n",
       "      <td>1</td>\n",
       "      <td>1000</td>\n",
       "      <td>6</td>\n",
       "      <td>172.0</td>\n",
       "      <td>60.0</td>\n",
       "      <td>23233.77</td>\n",
       "    </tr>\n",
       "    <tr>\n",
       "      <td>2</td>\n",
       "      <td>1000</td>\n",
       "      <td>7</td>\n",
       "      <td>340.0</td>\n",
       "      <td>75.0</td>\n",
       "      <td>14003.64</td>\n",
       "    </tr>\n",
       "    <tr>\n",
       "      <td>3</td>\n",
       "      <td>1000</td>\n",
       "      <td>8</td>\n",
       "      <td>408.0</td>\n",
       "      <td>81.0</td>\n",
       "      <td>14055.93</td>\n",
       "    </tr>\n",
       "    <tr>\n",
       "      <td>4</td>\n",
       "      <td>1000</td>\n",
       "      <td>9</td>\n",
       "      <td>466.0</td>\n",
       "      <td>57.0</td>\n",
       "      <td>14568.91</td>\n",
       "    </tr>\n",
       "    <tr>\n",
       "      <td>...</td>\n",
       "      <td>...</td>\n",
       "      <td>...</td>\n",
       "      <td>...</td>\n",
       "      <td>...</td>\n",
       "      <td>...</td>\n",
       "    </tr>\n",
       "    <tr>\n",
       "      <td>3209</td>\n",
       "      <td>1489</td>\n",
       "      <td>9</td>\n",
       "      <td>NaN</td>\n",
       "      <td>32.0</td>\n",
       "      <td>17206.30</td>\n",
       "    </tr>\n",
       "    <tr>\n",
       "      <td>3210</td>\n",
       "      <td>1489</td>\n",
       "      <td>10</td>\n",
       "      <td>NaN</td>\n",
       "      <td>21.0</td>\n",
       "      <td>19559.44</td>\n",
       "    </tr>\n",
       "    <tr>\n",
       "      <td>3211</td>\n",
       "      <td>1489</td>\n",
       "      <td>11</td>\n",
       "      <td>NaN</td>\n",
       "      <td>20.0</td>\n",
       "      <td>17491.56</td>\n",
       "    </tr>\n",
       "    <tr>\n",
       "      <td>3212</td>\n",
       "      <td>1489</td>\n",
       "      <td>12</td>\n",
       "      <td>NaN</td>\n",
       "      <td>35.0</td>\n",
       "      <td>17322.51</td>\n",
       "    </tr>\n",
       "    <tr>\n",
       "      <td>3213</td>\n",
       "      <td>1476</td>\n",
       "      <td>4</td>\n",
       "      <td>NaN</td>\n",
       "      <td>NaN</td>\n",
       "      <td>530.78</td>\n",
       "    </tr>\n",
       "  </tbody>\n",
       "</table>\n",
       "<p>3214 rows × 5 columns</p>\n",
       "</div>"
      ],
      "text/plain": [
       "      user_id  month  duration  message_date   mb_used\n",
       "0        1000      5     159.0          22.0   2253.49\n",
       "1        1000      6     172.0          60.0  23233.77\n",
       "2        1000      7     340.0          75.0  14003.64\n",
       "3        1000      8     408.0          81.0  14055.93\n",
       "4        1000      9     466.0          57.0  14568.91\n",
       "...       ...    ...       ...           ...       ...\n",
       "3209     1489      9       NaN          32.0  17206.30\n",
       "3210     1489     10       NaN          21.0  19559.44\n",
       "3211     1489     11       NaN          20.0  17491.56\n",
       "3212     1489     12       NaN          35.0  17322.51\n",
       "3213     1476      4       NaN           NaN    530.78\n",
       "\n",
       "[3214 rows x 5 columns]"
      ]
     },
     "execution_count": 18,
     "metadata": {},
     "output_type": "execute_result"
    }
   ],
   "source": [
    "pivot_month"
   ]
  },
  {
   "cell_type": "markdown",
   "metadata": {},
   "source": [
    "Добавим в таблицу данные о пользователях."
   ]
  },
  {
   "cell_type": "code",
   "execution_count": 19,
   "metadata": {
    "scrolled": true
   },
   "outputs": [
    {
     "data": {
      "text/html": [
       "<div>\n",
       "<style scoped>\n",
       "    .dataframe tbody tr th:only-of-type {\n",
       "        vertical-align: middle;\n",
       "    }\n",
       "\n",
       "    .dataframe tbody tr th {\n",
       "        vertical-align: top;\n",
       "    }\n",
       "\n",
       "    .dataframe thead th {\n",
       "        text-align: right;\n",
       "    }\n",
       "</style>\n",
       "<table border=\"1\" class=\"dataframe\">\n",
       "  <thead>\n",
       "    <tr style=\"text-align: right;\">\n",
       "      <th></th>\n",
       "      <th>user_id</th>\n",
       "      <th>age</th>\n",
       "      <th>churn_date</th>\n",
       "      <th>city</th>\n",
       "      <th>first_name</th>\n",
       "      <th>last_name</th>\n",
       "      <th>reg_date</th>\n",
       "      <th>tariff</th>\n",
       "      <th>number_of_calls</th>\n",
       "      <th>month</th>\n",
       "      <th>duration</th>\n",
       "      <th>message_date</th>\n",
       "      <th>mb_used</th>\n",
       "      <th>messages_included</th>\n",
       "      <th>mb_per_month_included</th>\n",
       "      <th>minutes_included</th>\n",
       "      <th>rub_monthly_fee</th>\n",
       "      <th>rub_per_gb</th>\n",
       "      <th>rub_per_message</th>\n",
       "      <th>rub_per_minute</th>\n",
       "    </tr>\n",
       "  </thead>\n",
       "  <tbody>\n",
       "    <tr>\n",
       "      <td>0</td>\n",
       "      <td>1000</td>\n",
       "      <td>52</td>\n",
       "      <td>NaN</td>\n",
       "      <td>Краснодар</td>\n",
       "      <td>Рафаил</td>\n",
       "      <td>Верещагин</td>\n",
       "      <td>2018-05-25</td>\n",
       "      <td>ultra</td>\n",
       "      <td>368.0</td>\n",
       "      <td>5.0</td>\n",
       "      <td>159.0</td>\n",
       "      <td>22.0</td>\n",
       "      <td>2253.49</td>\n",
       "      <td>1000</td>\n",
       "      <td>30720</td>\n",
       "      <td>3000</td>\n",
       "      <td>1950</td>\n",
       "      <td>150</td>\n",
       "      <td>1</td>\n",
       "      <td>1</td>\n",
       "    </tr>\n",
       "    <tr>\n",
       "      <td>1</td>\n",
       "      <td>1000</td>\n",
       "      <td>52</td>\n",
       "      <td>NaN</td>\n",
       "      <td>Краснодар</td>\n",
       "      <td>Рафаил</td>\n",
       "      <td>Верещагин</td>\n",
       "      <td>2018-05-25</td>\n",
       "      <td>ultra</td>\n",
       "      <td>368.0</td>\n",
       "      <td>6.0</td>\n",
       "      <td>172.0</td>\n",
       "      <td>60.0</td>\n",
       "      <td>23233.77</td>\n",
       "      <td>1000</td>\n",
       "      <td>30720</td>\n",
       "      <td>3000</td>\n",
       "      <td>1950</td>\n",
       "      <td>150</td>\n",
       "      <td>1</td>\n",
       "      <td>1</td>\n",
       "    </tr>\n",
       "    <tr>\n",
       "      <td>2</td>\n",
       "      <td>1000</td>\n",
       "      <td>52</td>\n",
       "      <td>NaN</td>\n",
       "      <td>Краснодар</td>\n",
       "      <td>Рафаил</td>\n",
       "      <td>Верещагин</td>\n",
       "      <td>2018-05-25</td>\n",
       "      <td>ultra</td>\n",
       "      <td>368.0</td>\n",
       "      <td>7.0</td>\n",
       "      <td>340.0</td>\n",
       "      <td>75.0</td>\n",
       "      <td>14003.64</td>\n",
       "      <td>1000</td>\n",
       "      <td>30720</td>\n",
       "      <td>3000</td>\n",
       "      <td>1950</td>\n",
       "      <td>150</td>\n",
       "      <td>1</td>\n",
       "      <td>1</td>\n",
       "    </tr>\n",
       "    <tr>\n",
       "      <td>3</td>\n",
       "      <td>1000</td>\n",
       "      <td>52</td>\n",
       "      <td>NaN</td>\n",
       "      <td>Краснодар</td>\n",
       "      <td>Рафаил</td>\n",
       "      <td>Верещагин</td>\n",
       "      <td>2018-05-25</td>\n",
       "      <td>ultra</td>\n",
       "      <td>368.0</td>\n",
       "      <td>8.0</td>\n",
       "      <td>408.0</td>\n",
       "      <td>81.0</td>\n",
       "      <td>14055.93</td>\n",
       "      <td>1000</td>\n",
       "      <td>30720</td>\n",
       "      <td>3000</td>\n",
       "      <td>1950</td>\n",
       "      <td>150</td>\n",
       "      <td>1</td>\n",
       "      <td>1</td>\n",
       "    </tr>\n",
       "    <tr>\n",
       "      <td>4</td>\n",
       "      <td>1000</td>\n",
       "      <td>52</td>\n",
       "      <td>NaN</td>\n",
       "      <td>Краснодар</td>\n",
       "      <td>Рафаил</td>\n",
       "      <td>Верещагин</td>\n",
       "      <td>2018-05-25</td>\n",
       "      <td>ultra</td>\n",
       "      <td>368.0</td>\n",
       "      <td>9.0</td>\n",
       "      <td>466.0</td>\n",
       "      <td>57.0</td>\n",
       "      <td>14568.91</td>\n",
       "      <td>1000</td>\n",
       "      <td>30720</td>\n",
       "      <td>3000</td>\n",
       "      <td>1950</td>\n",
       "      <td>150</td>\n",
       "      <td>1</td>\n",
       "      <td>1</td>\n",
       "    </tr>\n",
       "  </tbody>\n",
       "</table>\n",
       "</div>"
      ],
      "text/plain": [
       "   user_id  age churn_date       city first_name  last_name   reg_date tariff  \\\n",
       "0     1000   52        NaN  Краснодар     Рафаил  Верещагин 2018-05-25  ultra   \n",
       "1     1000   52        NaN  Краснодар     Рафаил  Верещагин 2018-05-25  ultra   \n",
       "2     1000   52        NaN  Краснодар     Рафаил  Верещагин 2018-05-25  ultra   \n",
       "3     1000   52        NaN  Краснодар     Рафаил  Верещагин 2018-05-25  ultra   \n",
       "4     1000   52        NaN  Краснодар     Рафаил  Верещагин 2018-05-25  ultra   \n",
       "\n",
       "   number_of_calls  month  duration  message_date   mb_used  \\\n",
       "0            368.0    5.0     159.0          22.0   2253.49   \n",
       "1            368.0    6.0     172.0          60.0  23233.77   \n",
       "2            368.0    7.0     340.0          75.0  14003.64   \n",
       "3            368.0    8.0     408.0          81.0  14055.93   \n",
       "4            368.0    9.0     466.0          57.0  14568.91   \n",
       "\n",
       "   messages_included  mb_per_month_included  minutes_included  \\\n",
       "0               1000                  30720              3000   \n",
       "1               1000                  30720              3000   \n",
       "2               1000                  30720              3000   \n",
       "3               1000                  30720              3000   \n",
       "4               1000                  30720              3000   \n",
       "\n",
       "   rub_monthly_fee  rub_per_gb  rub_per_message  rub_per_minute  \n",
       "0             1950         150                1               1  \n",
       "1             1950         150                1               1  \n",
       "2             1950         150                1               1  \n",
       "3             1950         150                1               1  \n",
       "4             1950         150                1               1  "
      ]
     },
     "execution_count": 19,
     "metadata": {},
     "output_type": "execute_result"
    }
   ],
   "source": [
    "monthly_users_data = users.merge(pivot_month, how='outer').merge(tariffs, how='outer')\n",
    "monthly_users_data.head()"
   ]
  },
  {
   "cell_type": "markdown",
   "metadata": {},
   "source": [
    "Рассчитаем перерасход минут, трафика и смс сверх пакета."
   ]
  },
  {
   "cell_type": "code",
   "execution_count": 20,
   "metadata": {},
   "outputs": [],
   "source": [
    "monthly_users_data['messages_overlimit'] = monthly_users_data['message_date'] - monthly_users_data['messages_included']\n",
    "monthly_users_data.loc[monthly_users_data['messages_overlimit'] < 0, ['messages_overlimit']] = 0\n",
    "monthly_users_data['gb_overlimit'] = ((monthly_users_data['mb_used'] - monthly_users_data['mb_per_month_included']) / 1024).apply(np.ceil)\n",
    "monthly_users_data.loc[monthly_users_data['gb_overlimit'] < 0, ['gb_overlimit']] = 0\n",
    "monthly_users_data['calls_overlimit'] = (monthly_users_data['duration'] - monthly_users_data['minutes_included'])\n",
    "monthly_users_data.loc[monthly_users_data['calls_overlimit'] < 0, ['calls_overlimit']] = 0"
   ]
  },
  {
   "cell_type": "markdown",
   "metadata": {},
   "source": [
    "Проверим, все ли значения заполнены, что бы не упустить часть данных пользователей, которые не отправляли смс ии не делали звонков."
   ]
  },
  {
   "cell_type": "code",
   "execution_count": 21,
   "metadata": {
    "scrolled": false
   },
   "outputs": [
    {
     "name": "stdout",
     "output_type": "stream",
     "text": [
      "<class 'pandas.core.frame.DataFrame'>\n",
      "Int64Index: 3216 entries, 0 to 3215\n",
      "Data columns (total 23 columns):\n",
      "user_id                  3216 non-null int64\n",
      "age                      3216 non-null int64\n",
      "churn_date               189 non-null object\n",
      "city                     3216 non-null object\n",
      "first_name               3216 non-null object\n",
      "last_name                3216 non-null object\n",
      "reg_date                 3216 non-null datetime64[ns]\n",
      "tariff                   3216 non-null object\n",
      "number_of_calls          3176 non-null float64\n",
      "month                    3214 non-null float64\n",
      "duration                 3174 non-null float64\n",
      "message_date             2717 non-null float64\n",
      "mb_used                  3203 non-null float64\n",
      "messages_included        3216 non-null int64\n",
      "mb_per_month_included    3216 non-null int64\n",
      "minutes_included         3216 non-null int64\n",
      "rub_monthly_fee          3216 non-null int64\n",
      "rub_per_gb               3216 non-null int64\n",
      "rub_per_message          3216 non-null int64\n",
      "rub_per_minute           3216 non-null int64\n",
      "messages_overlimit       2717 non-null float64\n",
      "gb_overlimit             3203 non-null float64\n",
      "calls_overlimit          3174 non-null float64\n",
      "dtypes: datetime64[ns](1), float64(8), int64(9), object(5)\n",
      "memory usage: 603.0+ KB\n"
     ]
    }
   ],
   "source": [
    "monthly_users_data.info()"
   ]
  },
  {
   "cell_type": "markdown",
   "metadata": {},
   "source": [
    "Действительно, в столбцах `messages_overlimit`, `gb_overlimit` и `calls_overlimit` появились пустые значения, обусловленные тем, что часть пользователей не делали звонков или не отправляли сообщений. Заполним такие пустые значения нулями."
   ]
  },
  {
   "cell_type": "code",
   "execution_count": 22,
   "metadata": {},
   "outputs": [],
   "source": [
    "monthly_users_data['messages_overlimit'].fillna(0, inplace=True)\n",
    "monthly_users_data['gb_overlimit'].fillna(0, inplace=True)\n",
    "monthly_users_data['calls_overlimit'].fillna(0, inplace=True)"
   ]
  },
  {
   "cell_type": "markdown",
   "metadata": {},
   "source": [
    "Рассчитаем выручку с каждого пользователя в каждом месяце. Добавим к абонентской плате перерасход умноженный на стоимость перерасхода по тарифному плану. Сразу удалим лишние столбцы, не требующиеся для дальнейшего анализа."
   ]
  },
  {
   "cell_type": "code",
   "execution_count": 23,
   "metadata": {},
   "outputs": [],
   "source": [
    "monthly_users_data['monthly_profit'] = (monthly_users_data['rub_monthly_fee'] +\n",
    "                                        monthly_users_data['messages_overlimit'] * monthly_users_data['rub_per_message'] +\n",
    "                                        monthly_users_data['gb_overlimit'] * monthly_users_data['rub_per_gb'] +\n",
    "                                        monthly_users_data['calls_overlimit'] * monthly_users_data['rub_per_minute'])\n",
    "monthly_users_data.drop(['messages_included', 'mb_per_month_included', 'minutes_included',\n",
    "                         'rub_monthly_fee', 'rub_per_gb', 'rub_per_message', 'rub_per_minute',\n",
    "                         'messages_overlimit', 'gb_overlimit', 'calls_overlimit'], axis=1, inplace=True)\n",
    "\n"
   ]
  },
  {
   "cell_type": "markdown",
   "metadata": {},
   "source": [
    "Получившаяся таблица выглядит следующим образом."
   ]
  },
  {
   "cell_type": "code",
   "execution_count": 24,
   "metadata": {
    "scrolled": false
   },
   "outputs": [
    {
     "data": {
      "text/html": [
       "<div>\n",
       "<style scoped>\n",
       "    .dataframe tbody tr th:only-of-type {\n",
       "        vertical-align: middle;\n",
       "    }\n",
       "\n",
       "    .dataframe tbody tr th {\n",
       "        vertical-align: top;\n",
       "    }\n",
       "\n",
       "    .dataframe thead th {\n",
       "        text-align: right;\n",
       "    }\n",
       "</style>\n",
       "<table border=\"1\" class=\"dataframe\">\n",
       "  <thead>\n",
       "    <tr style=\"text-align: right;\">\n",
       "      <th></th>\n",
       "      <th>user_id</th>\n",
       "      <th>age</th>\n",
       "      <th>churn_date</th>\n",
       "      <th>city</th>\n",
       "      <th>first_name</th>\n",
       "      <th>last_name</th>\n",
       "      <th>reg_date</th>\n",
       "      <th>tariff</th>\n",
       "      <th>number_of_calls</th>\n",
       "      <th>month</th>\n",
       "      <th>duration</th>\n",
       "      <th>message_date</th>\n",
       "      <th>mb_used</th>\n",
       "      <th>monthly_profit</th>\n",
       "    </tr>\n",
       "  </thead>\n",
       "  <tbody>\n",
       "    <tr>\n",
       "      <td>0</td>\n",
       "      <td>1000</td>\n",
       "      <td>52</td>\n",
       "      <td>NaN</td>\n",
       "      <td>Краснодар</td>\n",
       "      <td>Рафаил</td>\n",
       "      <td>Верещагин</td>\n",
       "      <td>2018-05-25</td>\n",
       "      <td>ultra</td>\n",
       "      <td>368.0</td>\n",
       "      <td>5.0</td>\n",
       "      <td>159.0</td>\n",
       "      <td>22.0</td>\n",
       "      <td>2253.49</td>\n",
       "      <td>1950.0</td>\n",
       "    </tr>\n",
       "    <tr>\n",
       "      <td>1</td>\n",
       "      <td>1000</td>\n",
       "      <td>52</td>\n",
       "      <td>NaN</td>\n",
       "      <td>Краснодар</td>\n",
       "      <td>Рафаил</td>\n",
       "      <td>Верещагин</td>\n",
       "      <td>2018-05-25</td>\n",
       "      <td>ultra</td>\n",
       "      <td>368.0</td>\n",
       "      <td>6.0</td>\n",
       "      <td>172.0</td>\n",
       "      <td>60.0</td>\n",
       "      <td>23233.77</td>\n",
       "      <td>1950.0</td>\n",
       "    </tr>\n",
       "    <tr>\n",
       "      <td>2</td>\n",
       "      <td>1000</td>\n",
       "      <td>52</td>\n",
       "      <td>NaN</td>\n",
       "      <td>Краснодар</td>\n",
       "      <td>Рафаил</td>\n",
       "      <td>Верещагин</td>\n",
       "      <td>2018-05-25</td>\n",
       "      <td>ultra</td>\n",
       "      <td>368.0</td>\n",
       "      <td>7.0</td>\n",
       "      <td>340.0</td>\n",
       "      <td>75.0</td>\n",
       "      <td>14003.64</td>\n",
       "      <td>1950.0</td>\n",
       "    </tr>\n",
       "    <tr>\n",
       "      <td>3</td>\n",
       "      <td>1000</td>\n",
       "      <td>52</td>\n",
       "      <td>NaN</td>\n",
       "      <td>Краснодар</td>\n",
       "      <td>Рафаил</td>\n",
       "      <td>Верещагин</td>\n",
       "      <td>2018-05-25</td>\n",
       "      <td>ultra</td>\n",
       "      <td>368.0</td>\n",
       "      <td>8.0</td>\n",
       "      <td>408.0</td>\n",
       "      <td>81.0</td>\n",
       "      <td>14055.93</td>\n",
       "      <td>1950.0</td>\n",
       "    </tr>\n",
       "    <tr>\n",
       "      <td>4</td>\n",
       "      <td>1000</td>\n",
       "      <td>52</td>\n",
       "      <td>NaN</td>\n",
       "      <td>Краснодар</td>\n",
       "      <td>Рафаил</td>\n",
       "      <td>Верещагин</td>\n",
       "      <td>2018-05-25</td>\n",
       "      <td>ultra</td>\n",
       "      <td>368.0</td>\n",
       "      <td>9.0</td>\n",
       "      <td>466.0</td>\n",
       "      <td>57.0</td>\n",
       "      <td>14568.91</td>\n",
       "      <td>1950.0</td>\n",
       "    </tr>\n",
       "  </tbody>\n",
       "</table>\n",
       "</div>"
      ],
      "text/plain": [
       "   user_id  age churn_date       city first_name  last_name   reg_date tariff  \\\n",
       "0     1000   52        NaN  Краснодар     Рафаил  Верещагин 2018-05-25  ultra   \n",
       "1     1000   52        NaN  Краснодар     Рафаил  Верещагин 2018-05-25  ultra   \n",
       "2     1000   52        NaN  Краснодар     Рафаил  Верещагин 2018-05-25  ultra   \n",
       "3     1000   52        NaN  Краснодар     Рафаил  Верещагин 2018-05-25  ultra   \n",
       "4     1000   52        NaN  Краснодар     Рафаил  Верещагин 2018-05-25  ultra   \n",
       "\n",
       "   number_of_calls  month  duration  message_date   mb_used  monthly_profit  \n",
       "0            368.0    5.0     159.0          22.0   2253.49          1950.0  \n",
       "1            368.0    6.0     172.0          60.0  23233.77          1950.0  \n",
       "2            368.0    7.0     340.0          75.0  14003.64          1950.0  \n",
       "3            368.0    8.0     408.0          81.0  14055.93          1950.0  \n",
       "4            368.0    9.0     466.0          57.0  14568.91          1950.0  "
      ]
     },
     "execution_count": 24,
     "metadata": {},
     "output_type": "execute_result"
    }
   ],
   "source": [
    "monthly_users_data.head()"
   ]
  },
  {
   "cell_type": "markdown",
   "metadata": {},
   "source": [
    "### Вывод <a class=\"anchor\" id=\"prepare_conclusion\"></a>\n"
   ]
  },
  {
   "cell_type": "markdown",
   "metadata": {},
   "source": [
    "Таблица готова для анализа, необходимая предобработка проведена, а также сделаны нужные расчетыы."
   ]
  },
  {
   "cell_type": "markdown",
   "metadata": {},
   "source": [
    "## 3. Исследовательский анализ данных <a class=\"anchor\" id=\"eda_part\"></a>\n"
   ]
  },
  {
   "cell_type": "markdown",
   "metadata": {},
   "source": [
    "### Постановка задачи <a class=\"anchor\" id=\"eda_task\"></a>"
   ]
  },
  {
   "cell_type": "markdown",
   "metadata": {},
   "source": [
    "В рамках исследовательского анализа данных необходимо сформировать портреты клиентов по каждому из тарифов и выполнить следующее:\n",
    "\n",
    "- ответить, сколько минут разговора, сообщений, объем трафика требуется пользователям каждого из тарифов в месяц?\n",
    "- посчитать статистические параметры пользователей тарифов;\n",
    "- визуализировать и описать распределения."
   ]
  },
  {
   "cell_type": "markdown",
   "metadata": {},
   "source": [
    "### Исследовательский анализ данных <a class=\"anchor\" id=\"eda\"></a>\n"
   ]
  },
  {
   "cell_type": "markdown",
   "metadata": {},
   "source": [
    "Для начала построим гистограммы распределения использования интернета, сообщений и звонков. Для гистограммы, что быы исключить сезонность, возьмем среднемесячные значения, а не по месяцам отдельно."
   ]
  },
  {
   "cell_type": "code",
   "execution_count": 25,
   "metadata": {},
   "outputs": [],
   "source": [
    "average_users_data = (monthly_users_data.groupby(['user_id', 'tariff'])\n",
    "                      .mean().drop('month', axis=1)\n",
    "                      .reset_index(level=1))"
   ]
  },
  {
   "cell_type": "code",
   "execution_count": 26,
   "metadata": {},
   "outputs": [
    {
     "data": {
      "image/png": "[encoded data removed]",
      "text/plain": [
       "<Figure size 1080x720 with 6 Axes>"
      ]
     },
     "metadata": {
      "needs_background": "light"
     },
     "output_type": "display_data"
    }
   ],
   "source": [
    "average_users_data.hist(figsize=(15, 10), bins=30)\n",
    "plt.show()"
   ]
  },
  {
   "cell_type": "markdown",
   "metadata": {},
   "source": [
    "По гистограмме возраста можно заметить, что выборка абонентов, вероятнее всего была взята стратифицировано - возраст клиентов не соответствует нормальному распредлелению, а также нет тенденции снижения количества абонентов с увеличением возраста, хотя это было бы ожидаемо и закономерно не только из-за естественных причин, но и за счет распространения мобильных устройств среди населения - люди в возрасте реже пользуются мобильными устройствами и зачастую имеют только стационарный телефон.\n",
    "\n",
    "Гистограмма количества звонков и сообщений в среднем за месяц у абонентов очень похожи и распределены нормально, но сильно скошены вправо. В таком случае среднее значение окажется больше медианы, соотвественнно медиана для данных параметров более репрезентативный показатель.\n",
    "\n",
    "Гистограммы количества использованных минут и интернета также очень похожи, тоже распределены нормально, но уже скошенности. Соответственно для них, в отсутствие выбросов подходит использование средней величины.\n",
    "\n",
    "Гистограмма выручки не похожа на нормальное распределение, что ожидаемо. Часть абонентов обходятся включенным в тариф количеством траффика, минут и сообщений, это видно по двум пикам в районе 550 и 1950 рублей. Как мы знаем из обзора данных, 351 абонент пользуется тарифом Smart, а 149 - тарифом Ultra. Поэтому из графика можно сделать вывод, что тариф Ultra в значительно большей мере удовлетворяет требования большинства клиентов включенными в тариф пакетами. Пик около 1950 рублей существенно выше, чем около 550 рублей, следовательно абоненты тарифа Ultra чаще обходятся встроенными пакетами.\n",
    "\n",
    "Для того, что бы точно определить удовлетворенность потребностей клиентов встроенными пакетами, построим гистограммы отдельно для каждого тарифа."
   ]
  },
  {
   "cell_type": "code",
   "execution_count": 27,
   "metadata": {},
   "outputs": [
    {
     "data": {
      "image/png": "[encoded data removed]",
      "text/plain": [
       "<Figure size 1080x720 with 6 Axes>"
      ]
     },
     "metadata": {
      "needs_background": "light"
     },
     "output_type": "display_data"
    }
   ],
   "source": [
    "average_users_data[average_users_data['tariff'] == 'smart'].hist(figsize=(15, 10), bins=30)\n",
    "plt.show()"
   ]
  },
  {
   "cell_type": "markdown",
   "metadata": {},
   "source": [
    "Для тарифа Smart гистограммы очень похожи на общие по выборке, что ожидаемо, так как клиентов с этим тарифом более чем вдвое больше. Однако на гистограмме выручки с клиента заметно отсутствие такого большого пика в районе 1950 рублей, следовательно он обусловлен выручкой клиентов с тарифом Ultra.\n",
    "Скошенность гистограммы выручки очень плавная, большое количество клиентов вынуждены платить за перерасход сверх включенных пакетов.  \n",
    "\n",
    "В тариф включено 500 минут разговора и это чуть больше среднего значения на гистограмме, следовательно колличества включенных минут хватает чуть больше чем половине пользователей.\n",
    "\n",
    "Аналогичная ситуация с количеством использованного интернета. Однако тут включенные 15 гигобайт трафика меньше среднего значения, то есть чуть меньше половины пользователей укладывается во включеннный пакет интернета.\n",
    "\n",
    "Количество включенных смс - 50 в месяц - уже намного больше подходит пользователям, так как покрывает потребность большей части клиентов."
   ]
  },
  {
   "cell_type": "code",
   "execution_count": 28,
   "metadata": {},
   "outputs": [
    {
     "data": {
      "image/png": "[encoded data removed]",
      "text/plain": [
       "<Figure size 1080x720 with 6 Axes>"
      ]
     },
     "metadata": {
      "needs_background": "light"
     },
     "output_type": "display_data"
    }
   ],
   "source": [
    "average_users_data[average_users_data['tariff'] == 'ultra'].hist(figsize=(15, 10), bins=30)\n",
    "plt.show()"
   ]
  },
  {
   "cell_type": "markdown",
   "metadata": {},
   "source": [
    "Тариф Ultra, покрывает потребности ~ 70% клиентов - на графике выручки с клиента есть ощутимый пик почти в районе 1950 рублей - 90 из 149 клиентов не нуждаются в дополнительных минутах, сообщениях и гигабайтах.\n",
    "\n",
    "Это подтверждается графиком среднго количестваа израсходованных минут - максимальное значения не доходит до 1200, следовательно включение 3000 минут - избыточно, а ресурсы, рассчитанные на поддержание избыточной пропускной способности сети, можно было бы перераспределить на прочие услуги, к примеру интернета. Это позволило бы предоставлять лучший сервис, не увеличивая финансовую нагрузку на клиентов.\n",
    "\n",
    "Аналогичная ситуация со средним количеством сообщений. Предел графика - 200 сообщений в месяц при включенной 1000. Пакет избыточен, клиентам нет необходимости в таком большом количестве сообщений.\n",
    "\n",
    "Пакет интернета, однако не покрывает потребности всех пользователей. Около 15% пользователей тратят больше включенных 30 гигабайт трафика."
   ]
  },
  {
   "cell_type": "markdown",
   "metadata": {},
   "source": [
    "Для двух тарифов и всей выборки построим таблицы статистических показателей и соберем в одну."
   ]
  },
  {
   "cell_type": "code",
   "execution_count": 29,
   "metadata": {
    "scrolled": true
   },
   "outputs": [],
   "source": [
    "whole = average_users_data.describe(percentiles=(.1, .997)).loc[('mean', 'std', '50%', '99.7%'),].T\n",
    "whole['var'] = whole['std'] ** 2\n",
    "smart = average_users_data[average_users_data['tariff'] == 'smart'].describe(percentiles=(.1, .997)).loc[('mean', 'std', '50%', '99.7%'),].T\n",
    "smart['var'] = smart['std'] ** 2\n",
    "ultra = average_users_data[average_users_data['tariff'] == 'ultra'].describe(percentiles=(.1, .997)).loc[('mean', 'std', '50%', '99.7%'),].T\n",
    "ultra['var'] = ultra['std'] ** 2"
   ]
  },
  {
   "cell_type": "code",
   "execution_count": 32,
   "metadata": {},
   "outputs": [],
   "source": [
    "tariffs_comparison = whole.join(smart, rsuffix='_smart', lsuffix='_whole').join(ultra)\n",
    "to_rename = {'mean_whole': 'Среднее по выборке',\n",
    "             'std_whole': 'Стандартное отклонение по выборке',\n",
    "             '50%_whole': 'Медиана по выборке',\n",
    "             '99.7%_whole': '3 сигмы по выборке',\n",
    "             'var_whole': 'Дисперсия по выборке',\n",
    "             'mean_smart': 'Среднее по тарифу \"Смарт\"',\n",
    "             'std_smart': 'Стандартное отклонение по тарифу \"Смарт\"',\n",
    "             '50%_smart': 'Медиана по тарифу \"Смарт\"',\n",
    "             '99.7%_smart': '3 сигмы по тарифу \"Смарт\"',\n",
    "             'var_smart': 'Дисперсия по тарифу \"Смарт\"',\n",
    "             'mean': 'Среднее по тарифу \"Ультра\"',\n",
    "             'std': 'Стандартное отклонение по тарифу \"Ультра\"',\n",
    "             '50%': 'Медиана по тарифу \"Ультра\"',\n",
    "             '99.7%': '3 сигмы по тарифу \"Ультра\"',\n",
    "             'var': 'Дисперсия по тарифу \"Ультра\"'}\n",
    "tariffs_comparison = tariffs_comparison.rename(columns=to_rename).T.sort_index()"
   ]
  },
  {
   "cell_type": "markdown",
   "metadata": {},
   "source": [
    "Отобразим получившуюся таблицу на экране и сравним статистические показатели для различных выборок - полной, тарифа Smart и тарифа Ultra."
   ]
  },
  {
   "cell_type": "code",
   "execution_count": 34,
   "metadata": {},
   "outputs": [
    {
     "data": {
      "text/html": [
       "<div>\n",
       "<style scoped>\n",
       "    .dataframe tbody tr th:only-of-type {\n",
       "        vertical-align: middle;\n",
       "    }\n",
       "\n",
       "    .dataframe tbody tr th {\n",
       "        vertical-align: top;\n",
       "    }\n",
       "\n",
       "    .dataframe thead th {\n",
       "        text-align: right;\n",
       "    }\n",
       "</style>\n",
       "<table border=\"1\" class=\"dataframe\">\n",
       "  <thead>\n",
       "    <tr style=\"text-align: right;\">\n",
       "      <th></th>\n",
       "      <th>age</th>\n",
       "      <th>number_of_calls</th>\n",
       "      <th>duration</th>\n",
       "      <th>message_date</th>\n",
       "      <th>mb_used</th>\n",
       "      <th>monthly_profit</th>\n",
       "    </tr>\n",
       "  </thead>\n",
       "  <tbody>\n",
       "    <tr>\n",
       "      <td>3 сигмы по выборке</td>\n",
       "      <td>75.00</td>\n",
       "      <td>1629.56</td>\n",
       "      <td>1169.82</td>\n",
       "      <td>175.18</td>\n",
       "      <td>36868.54</td>\n",
       "      <td>3428.04</td>\n",
       "    </tr>\n",
       "    <tr>\n",
       "      <td>3 сигмы по тарифу \"Смарт\"</td>\n",
       "      <td>75.00</td>\n",
       "      <td>1008.00</td>\n",
       "      <td>723.17</td>\n",
       "      <td>116.19</td>\n",
       "      <td>25593.81</td>\n",
       "      <td>3603.71</td>\n",
       "    </tr>\n",
       "    <tr>\n",
       "      <td>3 сигмы по тарифу \"Ультра\"</td>\n",
       "      <td>75.00</td>\n",
       "      <td>1731.03</td>\n",
       "      <td>1175.80</td>\n",
       "      <td>186.10</td>\n",
       "      <td>38335.17</td>\n",
       "      <td>3225.00</td>\n",
       "    </tr>\n",
       "    <tr>\n",
       "      <td>Дисперсия по выборке</td>\n",
       "      <td>277.81</td>\n",
       "      <td>85149.21</td>\n",
       "      <td>38685.78</td>\n",
       "      <td>1132.79</td>\n",
       "      <td>31265558.67</td>\n",
       "      <td>406513.31</td>\n",
       "    </tr>\n",
       "    <tr>\n",
       "      <td>Дисперсия по тарифу \"Смарт\"</td>\n",
       "      <td>274.91</td>\n",
       "      <td>59512.41</td>\n",
       "      <td>20584.70</td>\n",
       "      <td>617.51</td>\n",
       "      <td>12796469.68</td>\n",
       "      <td>367944.30</td>\n",
       "    </tr>\n",
       "    <tr>\n",
       "      <td>Дисперсия по тарифу \"Ультра\"</td>\n",
       "      <td>286.42</td>\n",
       "      <td>136103.33</td>\n",
       "      <td>72005.48</td>\n",
       "      <td>1882.75</td>\n",
       "      <td>66762354.02</td>\n",
       "      <td>88644.59</td>\n",
       "    </tr>\n",
       "    <tr>\n",
       "      <td>Медиана по выборке</td>\n",
       "      <td>46.00</td>\n",
       "      <td>344.50</td>\n",
       "      <td>446.65</td>\n",
       "      <td>38.00</td>\n",
       "      <td>16712.43</td>\n",
       "      <td>1617.88</td>\n",
       "    </tr>\n",
       "    <tr>\n",
       "      <td>Медиана по тарифу \"Смарт\"</td>\n",
       "      <td>47.00</td>\n",
       "      <td>324.00</td>\n",
       "      <td>425.25</td>\n",
       "      <td>33.00</td>\n",
       "      <td>16267.38</td>\n",
       "      <td>1176.40</td>\n",
       "    </tr>\n",
       "    <tr>\n",
       "      <td>Медиана по тарифу \"Ультра\"</td>\n",
       "      <td>46.00</td>\n",
       "      <td>444.00</td>\n",
       "      <td>525.50</td>\n",
       "      <td>57.80</td>\n",
       "      <td>18829.49</td>\n",
       "      <td>1950.00</td>\n",
       "    </tr>\n",
       "    <tr>\n",
       "      <td>Среднее по выборке</td>\n",
       "      <td>46.59</td>\n",
       "      <td>411.80</td>\n",
       "      <td>457.42</td>\n",
       "      <td>45.43</td>\n",
       "      <td>17236.32</td>\n",
       "      <td>1549.67</td>\n",
       "    </tr>\n",
       "    <tr>\n",
       "      <td>Среднее по тарифу \"Смарт\"</td>\n",
       "      <td>46.46</td>\n",
       "      <td>373.40</td>\n",
       "      <td>420.84</td>\n",
       "      <td>37.58</td>\n",
       "      <td>16190.43</td>\n",
       "      <td>1322.19</td>\n",
       "    </tr>\n",
       "    <tr>\n",
       "      <td>Среднее по тарифу \"Ультра\"</td>\n",
       "      <td>46.90</td>\n",
       "      <td>505.54</td>\n",
       "      <td>546.69</td>\n",
       "      <td>64.56</td>\n",
       "      <td>19726.55</td>\n",
       "      <td>2085.55</td>\n",
       "    </tr>\n",
       "    <tr>\n",
       "      <td>Стандартное отклонение по выборке</td>\n",
       "      <td>16.67</td>\n",
       "      <td>291.80</td>\n",
       "      <td>196.69</td>\n",
       "      <td>33.66</td>\n",
       "      <td>5591.56</td>\n",
       "      <td>637.58</td>\n",
       "    </tr>\n",
       "    <tr>\n",
       "      <td>Стандартное отклонение по тарифу \"Смарт\"</td>\n",
       "      <td>16.58</td>\n",
       "      <td>243.95</td>\n",
       "      <td>143.47</td>\n",
       "      <td>24.85</td>\n",
       "      <td>3577.22</td>\n",
       "      <td>606.58</td>\n",
       "    </tr>\n",
       "    <tr>\n",
       "      <td>Стандартное отклонение по тарифу \"Ультра\"</td>\n",
       "      <td>16.92</td>\n",
       "      <td>368.92</td>\n",
       "      <td>268.34</td>\n",
       "      <td>43.39</td>\n",
       "      <td>8170.82</td>\n",
       "      <td>297.73</td>\n",
       "    </tr>\n",
       "  </tbody>\n",
       "</table>\n",
       "</div>"
      ],
      "text/plain": [
       "                                             age  number_of_calls  duration  \\\n",
       "3 сигмы по выборке                         75.00          1629.56   1169.82   \n",
       "3 сигмы по тарифу \"Смарт\"                  75.00          1008.00    723.17   \n",
       "3 сигмы по тарифу \"Ультра\"                 75.00          1731.03   1175.80   \n",
       "Дисперсия по выборке                      277.81         85149.21  38685.78   \n",
       "Дисперсия по тарифу \"Смарт\"               274.91         59512.41  20584.70   \n",
       "Дисперсия по тарифу \"Ультра\"              286.42        136103.33  72005.48   \n",
       "Медиана по выборке                         46.00           344.50    446.65   \n",
       "Медиана по тарифу \"Смарт\"                  47.00           324.00    425.25   \n",
       "Медиана по тарифу \"Ультра\"                 46.00           444.00    525.50   \n",
       "Среднее по выборке                         46.59           411.80    457.42   \n",
       "Среднее по тарифу \"Смарт\"                  46.46           373.40    420.84   \n",
       "Среднее по тарифу \"Ультра\"                 46.90           505.54    546.69   \n",
       "Стандартное отклонение по выборке          16.67           291.80    196.69   \n",
       "Стандартное отклонение по тарифу \"Смарт\"   16.58           243.95    143.47   \n",
       "Стандартное отклонение по тарифу \"Ультра\"  16.92           368.92    268.34   \n",
       "\n",
       "                                           message_date     mb_used  \\\n",
       "3 сигмы по выборке                               175.18    36868.54   \n",
       "3 сигмы по тарифу \"Смарт\"                        116.19    25593.81   \n",
       "3 сигмы по тарифу \"Ультра\"                       186.10    38335.17   \n",
       "Дисперсия по выборке                            1132.79 31265558.67   \n",
       "Дисперсия по тарифу \"Смарт\"                      617.51 12796469.68   \n",
       "Дисперсия по тарифу \"Ультра\"                    1882.75 66762354.02   \n",
       "Медиана по выборке                                38.00    16712.43   \n",
       "Медиана по тарифу \"Смарт\"                         33.00    16267.38   \n",
       "Медиана по тарифу \"Ультра\"                        57.80    18829.49   \n",
       "Среднее по выборке                                45.43    17236.32   \n",
       "Среднее по тарифу \"Смарт\"                         37.58    16190.43   \n",
       "Среднее по тарифу \"Ультра\"                        64.56    19726.55   \n",
       "Стандартное отклонение по выборке                 33.66     5591.56   \n",
       "Стандартное отклонение по тарифу \"Смарт\"          24.85     3577.22   \n",
       "Стандартное отклонение по тарифу \"Ультра\"         43.39     8170.82   \n",
       "\n",
       "                                           monthly_profit  \n",
       "3 сигмы по выборке                                3428.04  \n",
       "3 сигмы по тарифу \"Смарт\"                         3603.71  \n",
       "3 сигмы по тарифу \"Ультра\"                        3225.00  \n",
       "Дисперсия по выборке                            406513.31  \n",
       "Дисперсия по тарифу \"Смарт\"                     367944.30  \n",
       "Дисперсия по тарифу \"Ультра\"                     88644.59  \n",
       "Медиана по выборке                                1617.88  \n",
       "Медиана по тарифу \"Смарт\"                         1176.40  \n",
       "Медиана по тарифу \"Ультра\"                        1950.00  \n",
       "Среднее по выборке                                1549.67  \n",
       "Среднее по тарифу \"Смарт\"                         1322.19  \n",
       "Среднее по тарифу \"Ультра\"                        2085.55  \n",
       "Стандартное отклонение по выборке                  637.58  \n",
       "Стандартное отклонение по тарифу \"Смарт\"           606.58  \n",
       "Стандартное отклонение по тарифу \"Ультра\"          297.73  "
      ]
     },
     "execution_count": 34,
     "metadata": {},
     "output_type": "execute_result"
    }
   ],
   "source": [
    "pd.options.display.float_format = '{:.2f}'.format\n",
    "tariffs_comparison"
   ]
  },
  {
   "cell_type": "markdown",
   "metadata": {},
   "source": [
    "На основе таблицы можно сделать следующие выводы:\n",
    "\n",
    "\n",
    "1. Показатели для возраста практически не отличаются, следовательно нет значительных различий по этому параметру.\n",
    "\n",
    "\n",
    "2. По количеству звонков тариф \"Ультра\" сильно опережает тариф \"Смарт\", при этом среднее по общей выборке сильнее тяготеет к среднему по тарифу \"Ультра\", а медиана в меньшей степени. Также дисперсия и стандартное отклонение тарифа \"Ультра\" намного больше этих показателей для тарифа \"Смарт\" и общей выборки. Это свидетельствует о том, что распределение по тарифу \"Ультра\" имеет значительно больший разброс, чем по тарифу \"Смарт\" и тянет за собой параметрический показатель среднего. Следовательно выборка тарифа \"Смарт\" более гомогенна и приближена к нормальному распределению.\n",
    "\n",
    "    3 сигмы, то есть количество звонков, которое больше 99,7% выборки, также у тарифа \"Ультра\" намного больше тарифа \"Смарт\". Это закономерное следствие того, что этот тариф чаще выбирают клиенты, соввершающие больше зваонков, а тариф \"Смарт\" выбирают клиенты, как правило обходящиеся меньшим количеством звонков в месяц.\n",
    "    \n",
    "    Таким образом предположение, что медиана репрезентативнее среднего для портрета средннестатистического клиента для показателя количества звонков подтверждается.\n",
    "    \n",
    "    \n",
    "3. Длительность звонков напротив имеет намного меньший разброс, при большем среднем, стандартное отклонение примерно вдвое меньше стандартного отклонения. Распределение существенно ближе к нормальному, не скошенному, однако для тарифа \"Ультра\" оно все еще имеет больший разброс, чем для тарифа \"Смарт\".\n",
    "    \n",
    "    Как и с медианой для количества звонков, для их длительности подтверждается целесообразность предложения использовать среднее.\n",
    "\n",
    "\n",
    "4. Распределение для количества смс в месяц примерно аналогично распределению количества звонков. Имет большой разброс, для тарифа \"Ультра\" существенно выше, чем для тарифа \"Смарт\". Таким образом для портрета клиента будем использовать, также как и для количества звонков, медиану, для оценки типичного количества сообщений в месяц.\n",
    "\n",
    "\n",
    "5. Распределение использования интернета больше напоминает распределение длительности звонков. Разброс меньший и среднее близко к медиане. Для тарифа \"Ультра\" разброс больший, чем для тарифа \"Смарт\". Для портрета клиента будем использовать среднее значение показателя.\n",
    "\n",
    "\n",
    "6. Распределение выручки с клиента отличается противоположными показателями для тарифов \"Ультра\" и \"Смарт\". Разброс для тарифа \"Смарт\" выше, чем для тарифа \"Ультра\". Следовательно тариф \"Ультра\" в большей степени соответствует требованиям клиентов, чем тариф \"Смарт\", однако для среднестатистического клиента тарифа \"Смарт\" невыгодно переходить на тариф \"Ультра\", так как его затраты в месяц все еще ниже затрат клиенты тарифа \"Ультра\"."
   ]
  },
  {
   "cell_type": "markdown",
   "metadata": {},
   "source": [
    "Составим портрет среднестатистического клиента тарифа \"Ультра\" и клиента тарифа \"Смарт\" и оценим, насколько пакеты услуг тарифов отвечают этим средним характеристикам. От этого зависит уровень сервиса и удовлетворенность клиентов используемыми тарифами.\n",
    "\n",
    "1. Тариф «Смарт»:\n",
    "    - абоненту 46-47 лет;\n",
    "    - он совершает около 324 звонков в месяц;\n",
    "    - при этом он тратит около 421 минуты на разговоры в месяц, при включенных 500 минутах разговора;\n",
    "    - отправляет 33 из 50 включенных сообщений;\n",
    "    - тратит 16,2 Гб интернет-трафика из включенных 15 Гб;\n",
    "    - тратит около 1200 рублей в месяц на связь, из которых 550 - абонентская плата;\n",
    "    \n",
    "    Таким образом клиенты значительно переплачивают, так как около половины клиентов используют большее количество минут, сообщений и трафика, чем включенное количество.\n",
    "\n",
    "    \n",
    "2. Тариф «Ультра»:\n",
    "    - абоненту 46-47 лет;\n",
    "    - он совершает около 444 звонков в месяц;\n",
    "    - средняя суммарная длительность которых около 546 минут из 3000 минут разговора, включенных в тариф;\n",
    "    - отправляет 58 из 1000 включенных в тариф сообщений;\n",
    "    - тратит 19,8 Гб интернет-трафика из включенных 30 Гб;\n",
    "    \n",
    "    Клиент тарифа \"Ультра\" переплачивает также, так как платит за невостребованные остатки по пакетам, используя незначительное количество сообщений и небольшое количествов включенных минут и чуть больше половины от включенного пакета интернета."
   ]
  },
  {
   "cell_type": "markdown",
   "metadata": {},
   "source": [
    "Более оптимальными пакетами были бы:\n",
    "\n",
    "1. Тариф «Смарт»:\n",
    "    - 500 минута разговора;\n",
    "    - 50 сообщений;\n",
    "    - 17 Гб интернет-трафика;\n",
    "    - 550 рублей - абонентская плата;\n",
    "\n",
    "\n",
    "1. Тариф «Медиум»:\n",
    "    - 800 минут разговора;\n",
    "    - 120 сообщений;\n",
    "    - 26 Гб интернет-трафика;\n",
    "    - 1000 рублей в месяц;\n",
    "\n",
    "\n",
    "2. Тариф «Ультра»:\n",
    "    - 1200 минут разговора;\n",
    "    - 200 сообщений;\n",
    "    - 40 Гб интернет-трафика;\n",
    "    - 1950 рублей в месяц."
   ]
  },
  {
   "cell_type": "markdown",
   "metadata": {},
   "source": [
    "### Вывод <a class=\"anchor\" id=\"eda_conclusion\"></a>\n"
   ]
  },
  {
   "cell_type": "markdown",
   "metadata": {},
   "source": [
    "По результатам исследования данных можно сказать, что типичные абоненты тарифов \"Смарт\" и \"Ультра\" различаются по объему потребления, но абоненты обоих тарифов платят больше, чем необходимо. Абоненты тарифа \"Смарт\" переплачивают, используя трафик сверх пакета по большей стоимости, чем в пакете, а абоненты тарифа \"Ультра\" переплачивают, не используя весь включенный в их тариф объем минут, интернета и смс. Можно сказать, что абоненты обоих тарифов нуждаются в некотором промежуточном тарифе, который полностью бы покрывал их потребности и предлагал бы компромиссную цену."
   ]
  },
  {
   "cell_type": "markdown",
   "metadata": {},
   "source": [
    "## 4. Проверка гипотез <a class=\"anchor\" id=\"hipotesis\"></a>\n"
   ]
  },
  {
   "cell_type": "markdown",
   "metadata": {},
   "source": [
    "### Постановка задачи <a class=\"anchor\" id=\"hipotesis_task\"></a>\n"
   ]
  },
  {
   "cell_type": "markdown",
   "metadata": {},
   "source": [
    "Так как мы выяснили, что абоненты двух тарифов различаются, нам необходимо закрепить уверенность в этом с использованием статистического аппарата. Также нам необходимо выяснить, различаются ли выручки пользователей из Москвы и регионов.\n",
    "\n",
    "Сформируем по две гипотезы к каждой из задач:\n",
    "\n",
    "- различие абонентов по тарифам:\n",
    "    - H0 - средняя выручка пользователей тарифов \"Ультра\" и \"Смарт\" одинаковы\n",
    "    - H1 - средние выручки пользователей тарифов «Ультра» и «Смарт» различаются\n",
    "- различие абонентов по городам:\n",
    "    - H0 - средняя выручка пользователей из Москвы и регионов одинакова\n",
    "    - H1 - средняя выручка пользователей из Москвы отличается от выручки пользователей из других регионов\n",
    "\n",
    "\n",
    "Нулевые гипотезы сформулированы из предположения, что разницы между выборками нет.\n",
    "\n",
    "\n",
    "Альтернативные гипотезы сформулированы из предположения, что средние выручки пользователей двух тарифов различаются. Так как мы не заем точно, что выручка по одной и ли другой выборке будет однозначно больше, а главная цель исследования - выяснить, различаются ли выборки, целесообразно проверять именно с такими гипотезами.\n",
    "\n",
    "\n",
    "Обе гипотезы двусторонние. Пороговое значение параметра alpha зададим на общепринятом уровне - 0,05.\n",
    "\n",
    "\n",
    "Использовать для проверки гипотез будем p-value - показатель, который определяет вероятность того, что среднее значение одной выборки окажется в пределах нормального распределения второй выборки. Сравнивать его будем с заданным значением alpha. То есть если нулевая гипотеза верна, среднее значение одной выборки окажется в пределах примерно двух сигм от среднего значения второй выборки."
   ]
  },
  {
   "cell_type": "markdown",
   "metadata": {},
   "source": [
    "### Различие тарифов <a class=\"anchor\" id=\"tariff\"></a>\n"
   ]
  },
  {
   "cell_type": "markdown",
   "metadata": {},
   "source": [
    "Выполним проверку гипотезы с помощью инструментария модуля scipy."
   ]
  },
  {
   "cell_type": "code",
   "execution_count": 35,
   "metadata": {
    "scrolled": false
   },
   "outputs": [
    {
     "name": "stdout",
     "output_type": "stream",
     "text": [
      "p-value: 8.081909555489933e-161\n",
      "Отвергаем нулевую гипотезу. Средние значения абонентов тарифов \"Ультра\" и \"Смарт\" различаются.\n"
     ]
    }
   ],
   "source": [
    "alpha = .05\n",
    "\n",
    "result = st.ttest_ind(\n",
    "    monthly_users_data[monthly_users_data['tariff'] == 'ultra']['monthly_profit'],\n",
    "    monthly_users_data[monthly_users_data['tariff'] == 'smart']['monthly_profit']\n",
    ")\n",
    "\n",
    "print('p-value:', result.pvalue)\n",
    "\n",
    "if result.pvalue < alpha:\n",
    "    print('Отвергаем нулевую гипотезу. Средние значения абонентов тарифов \"Ультра\" и \"Смарт\" различаются.')\n",
    "else:\n",
    "    print('Принимаем нулевую гипотезу. Средние значения абонентов тарифов \"Ультра\" и \"Смарт\" одинаковы.')"
   ]
  },
  {
   "cell_type": "markdown",
   "metadata": {},
   "source": [
    "### Различие пользователей в зависимости от города <a class=\"anchor\" id=\"town\"></a>\n"
   ]
  },
  {
   "cell_type": "markdown",
   "metadata": {},
   "source": [
    "Проверим вторую гипотезу."
   ]
  },
  {
   "cell_type": "code",
   "execution_count": 36,
   "metadata": {},
   "outputs": [
    {
     "name": "stdout",
     "output_type": "stream",
     "text": [
      "p-value: 0.5400751614511182\n",
      "Принимаем нулевую гипотезу. Средние значения абонентов из Москвы и регионов одинаковы.\n"
     ]
    }
   ],
   "source": [
    "alpha = .05\n",
    "\n",
    "result = st.ttest_ind(\n",
    "    monthly_users_data[monthly_users_data['city'] == 'Москва']['monthly_profit'],\n",
    "    monthly_users_data[monthly_users_data['city'] != 'Москва']['monthly_profit']\n",
    ")\n",
    "\n",
    "print('p-value:', result.pvalue)\n",
    "\n",
    "if result.pvalue < alpha:\n",
    "    print('Отвергаем нулевую гипотезу. Средние значения абонентов тарифов \"Ультра\" и \"Смарт\" различаются.')\n",
    "else:\n",
    "    print('Принимаем нулевую гипотезу. Средние значения абонентов из Москвы и регионов одинаковы.')"
   ]
  },
  {
   "cell_type": "markdown",
   "metadata": {},
   "source": [
    "### Вывод <a class=\"anchor\" id=\"hipotesis_conclusion\"></a>\n"
   ]
  },
  {
   "cell_type": "markdown",
   "metadata": {},
   "source": [
    "По результатам проверки гипотез статистическими методами, различие в выручке пользователей из Москвы и регионов не выявлено. Вероятнее всего это обусловлено тем, что связь - базовая потребность в современном мире и меньше зависит от уровня благосостояния, чем потребление прочих благ. Кроме этого стоимость тарифов в Москве и регионах не различается.\n",
    "\n",
    "Однако выручка от пользователей тарифов \"Смарт\" и \"Ультра\" различаются, что также было выявлено на этапе исследовательского анализа данных. Вероятнее всего выручка от пользователей тарифа \"Ультра\" выше, чем от пользователей тарифа \"Смарт\"."
   ]
  },
  {
   "cell_type": "markdown",
   "metadata": {},
   "source": [
    "## 5. Общий вывод <a class=\"anchor\" id=\"conclusion\"></a>"
   ]
  },
  {
   "cell_type": "markdown",
   "metadata": {},
   "source": [
    "По результатам иссследования можно сделать следующие выводы:\n",
    "\n",
    "1. Использование интернета, минут и сообщений пользователями тарифов \"Смарт\" и \"Ультра\" различаются, как и выручка от пользователей. Выручка от пользователей тарифа \"Ультра\" выше, чем от тарифа \"Смарт\". Средний пользователь тарифа \"Ультра\" платит 1950 рублей в месяц, средний пользователь тарифа \"Смарт\" платит 1176 рублей.\n",
    "\n",
    "2. Однако удовлетворенность потребностей абонентов двух тарифов не идеальна. Многим пользователям тарифа \"Смарт\" не хватает встроенных пакетов, однако тариф \"Ультра\" для них слишком дорог. В итоге они вынуждены переплачивать за перерасход по большей стоимости, чем могли бы. Многим пользователям тарифа \"Ультра\" встроенных пакетов слишком много, за счет чего они переплачивают в стоимости тарифа. Целесообразно рассмотреть добавление третьего, усредненного тарифа, который привлечет часть неудовлетворенных пользователей из обоих тарифов. Это позволит повысить удовлетворенность клиентов услугами компании, что позволит привлечь новых за счет сарафанного радио и повысить лояльность текущих.\n",
    "\n",
    "3. Средняя выручка пользователей из Москвы и регионов не отличается, что говорит о готовности пользователей из регионов платить за услуги связи, независимо от дохода.\n",
    "\n",
    "\n",
    "Бизнесу следует сконцентрироваться на более прибыльном тарифе \"Ультра\" и соответсвующим образом скорректировать свою рекламную компанию. Также следует рассмотреть введение третьего тарифа - \"Медиум\", который привлечет абонентов тарифов \"Смарт\" и \"Ультра\" и позволит повысить уровень удовлетворенности клиентов."
   ]
  }
 ],
 "metadata": {
  "ExecuteTimeLog": [
   {
    "duration": 1592,
    "start_time": "2022-01-11T18:25:25.052Z"
   },
   {
    "duration": 70,
    "start_time": "2022-01-11T18:25:27.667Z"
   },
   {
    "duration": 16,
    "start_time": "2022-01-11T18:25:34.666Z"
   },
   {
    "duration": 77,
    "start_time": "2022-01-14T09:09:24.194Z"
   },
   {
    "duration": 266,
    "start_time": "2022-01-14T09:19:17.299Z"
   },
   {
    "duration": 205,
    "start_time": "2022-01-14T09:22:25.745Z"
   },
   {
    "duration": 1192,
    "start_time": "2022-01-14T09:22:43.810Z"
   },
   {
    "duration": 52,
    "start_time": "2022-01-14T09:22:45.004Z"
   },
   {
    "duration": 74,
    "start_time": "2022-01-14T09:22:45.058Z"
   },
   {
    "duration": 78,
    "start_time": "2022-01-14T09:22:45.134Z"
   },
   {
    "duration": 63,
    "start_time": "2022-01-14T09:22:45.214Z"
   },
   {
    "duration": 41,
    "start_time": "2022-01-14T09:22:45.280Z"
   },
   {
    "duration": 69,
    "start_time": "2022-01-14T09:22:45.324Z"
   },
   {
    "duration": 6,
    "start_time": "2022-01-14T09:22:45.396Z"
   },
   {
    "duration": 8,
    "start_time": "2022-01-14T09:22:45.404Z"
   },
   {
    "duration": 8,
    "start_time": "2022-01-14T09:22:45.414Z"
   },
   {
    "duration": 54,
    "start_time": "2022-01-14T09:22:45.423Z"
   },
   {
    "duration": 19,
    "start_time": "2022-01-14T09:22:45.479Z"
   },
   {
    "duration": 22,
    "start_time": "2022-01-14T09:22:45.500Z"
   },
   {
    "duration": 37,
    "start_time": "2022-01-14T09:22:45.524Z"
   },
   {
    "duration": 4,
    "start_time": "2022-01-14T09:22:45.563Z"
   },
   {
    "duration": 22,
    "start_time": "2022-01-14T09:22:45.569Z"
   },
   {
    "duration": 693,
    "start_time": "2022-01-14T09:22:45.593Z"
   },
   {
    "duration": 2,
    "start_time": "2022-01-14T09:22:46.288Z"
   },
   {
    "duration": 6,
    "start_time": "2022-01-14T09:22:46.292Z"
   },
   {
    "duration": 8737,
    "start_time": "2022-01-14T09:22:46.300Z"
   },
   {
    "duration": 46,
    "start_time": "2022-01-14T09:22:55.040Z"
   },
   {
    "duration": 4,
    "start_time": "2022-01-14T09:22:55.088Z"
   },
   {
    "duration": 318,
    "start_time": "2022-01-14T09:22:55.095Z"
   },
   {
    "duration": -527,
    "start_time": "2022-01-14T09:22:55.942Z"
   },
   {
    "duration": -538,
    "start_time": "2022-01-14T09:22:55.954Z"
   },
   {
    "duration": -550,
    "start_time": "2022-01-14T09:22:55.967Z"
   },
   {
    "duration": -557,
    "start_time": "2022-01-14T09:22:55.975Z"
   },
   {
    "duration": -564,
    "start_time": "2022-01-14T09:22:55.984Z"
   },
   {
    "duration": -569,
    "start_time": "2022-01-14T09:22:55.990Z"
   },
   {
    "duration": -574,
    "start_time": "2022-01-14T09:22:55.996Z"
   },
   {
    "duration": -582,
    "start_time": "2022-01-14T09:22:56.005Z"
   },
   {
    "duration": -602,
    "start_time": "2022-01-14T09:22:56.026Z"
   },
   {
    "duration": -617,
    "start_time": "2022-01-14T09:22:56.042Z"
   },
   {
    "duration": -624,
    "start_time": "2022-01-14T09:22:56.050Z"
   },
   {
    "duration": -630,
    "start_time": "2022-01-14T09:22:56.057Z"
   },
   {
    "duration": -634,
    "start_time": "2022-01-14T09:22:56.062Z"
   },
   {
    "duration": -639,
    "start_time": "2022-01-14T09:22:56.068Z"
   },
   {
    "duration": -644,
    "start_time": "2022-01-14T09:22:56.074Z"
   },
   {
    "duration": -649,
    "start_time": "2022-01-14T09:22:56.080Z"
   },
   {
    "duration": -653,
    "start_time": "2022-01-14T09:22:56.085Z"
   },
   {
    "duration": -657,
    "start_time": "2022-01-14T09:22:56.090Z"
   },
   {
    "duration": -660,
    "start_time": "2022-01-14T09:22:56.095Z"
   },
   {
    "duration": -669,
    "start_time": "2022-01-14T09:22:56.105Z"
   },
   {
    "duration": -675,
    "start_time": "2022-01-14T09:22:56.112Z"
   },
   {
    "duration": -686,
    "start_time": "2022-01-14T09:22:56.124Z"
   },
   {
    "duration": -692,
    "start_time": "2022-01-14T09:22:56.131Z"
   },
   {
    "duration": -700,
    "start_time": "2022-01-14T09:22:56.140Z"
   },
   {
    "duration": -706,
    "start_time": "2022-01-14T09:22:56.147Z"
   },
   {
    "duration": -766,
    "start_time": "2022-01-14T09:22:56.208Z"
   },
   {
    "duration": -772,
    "start_time": "2022-01-14T09:22:56.215Z"
   },
   {
    "duration": 5,
    "start_time": "2022-01-14T09:24:24.055Z"
   },
   {
    "duration": 32,
    "start_time": "2022-01-14T09:24:32.393Z"
   },
   {
    "duration": 4,
    "start_time": "2022-01-14T09:24:50.731Z"
   },
   {
    "duration": 10,
    "start_time": "2022-01-14T09:24:52.842Z"
   },
   {
    "duration": 461,
    "start_time": "2022-01-14T09:38:58.413Z"
   },
   {
    "duration": 222,
    "start_time": "2022-01-14T09:43:27.130Z"
   },
   {
    "duration": 1240,
    "start_time": "2022-01-14T09:47:59.663Z"
   },
   {
    "duration": 54,
    "start_time": "2022-01-14T09:48:00.906Z"
   },
   {
    "duration": 26,
    "start_time": "2022-01-14T09:48:00.963Z"
   },
   {
    "duration": 76,
    "start_time": "2022-01-14T09:48:00.992Z"
   },
   {
    "duration": 40,
    "start_time": "2022-01-14T09:48:01.071Z"
   },
   {
    "duration": 49,
    "start_time": "2022-01-14T09:48:01.113Z"
   },
   {
    "duration": 67,
    "start_time": "2022-01-14T09:48:01.164Z"
   },
   {
    "duration": 6,
    "start_time": "2022-01-14T09:48:01.235Z"
   },
   {
    "duration": 56,
    "start_time": "2022-01-14T09:48:01.243Z"
   },
   {
    "duration": 31,
    "start_time": "2022-01-14T09:48:01.301Z"
   },
   {
    "duration": 58,
    "start_time": "2022-01-14T09:48:01.334Z"
   },
   {
    "duration": 23,
    "start_time": "2022-01-14T09:48:01.394Z"
   },
   {
    "duration": 33,
    "start_time": "2022-01-14T09:48:01.419Z"
   },
   {
    "duration": 45,
    "start_time": "2022-01-14T09:48:01.454Z"
   },
   {
    "duration": 118,
    "start_time": "2022-01-14T09:48:01.501Z"
   },
   {
    "duration": 129,
    "start_time": "2022-01-14T09:48:01.621Z"
   },
   {
    "duration": 848,
    "start_time": "2022-01-14T09:48:01.753Z"
   },
   {
    "duration": 3,
    "start_time": "2022-01-14T09:48:02.604Z"
   },
   {
    "duration": 29,
    "start_time": "2022-01-14T09:48:02.610Z"
   },
   {
    "duration": 9405,
    "start_time": "2022-01-14T09:48:02.641Z"
   },
   {
    "duration": 43,
    "start_time": "2022-01-14T09:48:12.048Z"
   },
   {
    "duration": 3,
    "start_time": "2022-01-14T09:48:12.093Z"
   },
   {
    "duration": 8,
    "start_time": "2022-01-14T09:48:12.100Z"
   },
   {
    "duration": 10,
    "start_time": "2022-01-14T09:48:12.110Z"
   },
   {
    "duration": 39,
    "start_time": "2022-01-14T09:48:12.122Z"
   },
   {
    "duration": 19,
    "start_time": "2022-01-14T09:48:12.163Z"
   },
   {
    "duration": 7,
    "start_time": "2022-01-14T09:48:12.184Z"
   },
   {
    "duration": 13,
    "start_time": "2022-01-14T09:48:12.193Z"
   },
   {
    "duration": 138,
    "start_time": "2022-01-14T09:48:12.208Z"
   },
   {
    "duration": 5,
    "start_time": "2022-01-14T09:48:12.348Z"
   },
   {
    "duration": 9,
    "start_time": "2022-01-14T09:48:12.354Z"
   },
   {
    "duration": 16,
    "start_time": "2022-01-14T09:48:12.364Z"
   },
   {
    "duration": 11,
    "start_time": "2022-01-14T09:48:12.382Z"
   },
   {
    "duration": 88,
    "start_time": "2022-01-14T09:48:12.395Z"
   },
   {
    "duration": 43,
    "start_time": "2022-01-14T09:48:12.485Z"
   },
   {
    "duration": 34,
    "start_time": "2022-01-14T09:48:12.530Z"
   },
   {
    "duration": 20,
    "start_time": "2022-01-14T09:48:12.565Z"
   },
   {
    "duration": 17,
    "start_time": "2022-01-14T09:48:12.587Z"
   },
   {
    "duration": 3,
    "start_time": "2022-01-14T09:48:12.606Z"
   },
   {
    "duration": 13,
    "start_time": "2022-01-14T09:48:12.611Z"
   },
   {
    "duration": 35,
    "start_time": "2022-01-14T09:48:12.626Z"
   },
   {
    "duration": 10,
    "start_time": "2022-01-14T09:48:12.663Z"
   },
   {
    "duration": 7,
    "start_time": "2022-01-14T09:48:12.675Z"
   },
   {
    "duration": 398,
    "start_time": "2022-01-14T09:48:12.683Z"
   },
   {
    "duration": 40,
    "start_time": "2022-01-14T09:48:13.083Z"
   },
   {
    "duration": 434,
    "start_time": "2022-01-14T09:48:13.125Z"
   },
   {
    "duration": -67,
    "start_time": "2022-01-14T09:48:13.628Z"
   },
   {
    "duration": -70,
    "start_time": "2022-01-14T09:48:13.632Z"
   },
   {
    "duration": -72,
    "start_time": "2022-01-14T09:48:13.636Z"
   },
   {
    "duration": -77,
    "start_time": "2022-01-14T09:48:13.642Z"
   },
   {
    "duration": -82,
    "start_time": "2022-01-14T09:48:13.648Z"
   },
   {
    "duration": 1492,
    "start_time": "2022-02-11T22:01:19.312Z"
   },
   {
    "duration": 505,
    "start_time": "2022-02-11T22:01:20.807Z"
   },
   {
    "duration": 77,
    "start_time": "2022-02-11T22:01:21.315Z"
   },
   {
    "duration": 76,
    "start_time": "2022-02-11T22:01:21.395Z"
   },
   {
    "duration": 56,
    "start_time": "2022-02-11T22:01:21.474Z"
   },
   {
    "duration": 56,
    "start_time": "2022-02-11T22:01:21.533Z"
   },
   {
    "duration": 47,
    "start_time": "2022-02-11T22:01:21.592Z"
   },
   {
    "duration": 111,
    "start_time": "2022-02-11T22:01:21.643Z"
   },
   {
    "duration": 9,
    "start_time": "2022-02-11T22:01:21.757Z"
   },
   {
    "duration": 11,
    "start_time": "2022-02-11T22:01:21.769Z"
   },
   {
    "duration": 55,
    "start_time": "2022-02-11T22:01:21.782Z"
   },
   {
    "duration": 61,
    "start_time": "2022-02-11T22:01:21.839Z"
   },
   {
    "duration": 56,
    "start_time": "2022-02-11T22:01:21.902Z"
   },
   {
    "duration": 63,
    "start_time": "2022-02-11T22:01:21.960Z"
   },
   {
    "duration": 35,
    "start_time": "2022-02-11T22:01:22.025Z"
   },
   {
    "duration": 38,
    "start_time": "2022-02-11T22:01:22.062Z"
   },
   {
    "duration": 27,
    "start_time": "2022-02-11T22:01:22.123Z"
   },
   {
    "duration": 11,
    "start_time": "2022-02-11T22:01:22.153Z"
   },
   {
    "duration": 9,
    "start_time": "2022-02-11T22:01:22.167Z"
   },
   {
    "duration": 13,
    "start_time": "2022-02-11T22:01:22.178Z"
   },
   {
    "duration": 21,
    "start_time": "2022-02-11T22:01:22.224Z"
   },
   {
    "duration": 13,
    "start_time": "2022-02-11T22:01:22.247Z"
   },
   {
    "duration": 2088,
    "start_time": "2022-02-11T22:01:22.264Z"
   },
   {
    "duration": 2057,
    "start_time": "2022-02-11T22:01:24.355Z"
   },
   {
    "duration": 2029,
    "start_time": "2022-02-11T22:01:26.414Z"
   },
   {
    "duration": 105,
    "start_time": "2022-02-11T22:01:28.446Z"
   },
   {
    "duration": 13,
    "start_time": "2022-02-11T22:01:28.554Z"
   },
   {
    "duration": 14,
    "start_time": "2022-02-11T22:01:28.570Z"
   },
   {
    "duration": 45,
    "start_time": "2022-02-11T22:01:28.588Z"
   },
   {
    "duration": 15,
    "start_time": "2022-02-11T22:01:28.637Z"
   },
   {
    "duration": 20,
    "start_time": "2022-02-11T22:04:29.663Z"
   },
   {
    "duration": 27,
    "start_time": "2022-02-11T22:06:15.563Z"
   },
   {
    "duration": 349,
    "start_time": "2022-02-12T11:00:28.950Z"
   },
   {
    "duration": 365,
    "start_time": "2022-02-12T11:08:45.508Z"
   },
   {
    "duration": 1451,
    "start_time": "2022-02-12T11:08:51.385Z"
   },
   {
    "duration": 498,
    "start_time": "2022-02-12T11:08:52.839Z"
   },
   {
    "duration": 79,
    "start_time": "2022-02-12T11:08:53.341Z"
   },
   {
    "duration": 79,
    "start_time": "2022-02-12T11:08:53.424Z"
   },
   {
    "duration": 60,
    "start_time": "2022-02-12T11:08:53.507Z"
   },
   {
    "duration": 38,
    "start_time": "2022-02-12T11:08:53.570Z"
   },
   {
    "duration": 47,
    "start_time": "2022-02-12T11:08:53.610Z"
   },
   {
    "duration": 124,
    "start_time": "2022-02-12T11:08:53.662Z"
   },
   {
    "duration": 8,
    "start_time": "2022-02-12T11:08:53.790Z"
   },
   {
    "duration": 16,
    "start_time": "2022-02-12T11:08:53.801Z"
   },
   {
    "duration": 66,
    "start_time": "2022-02-12T11:08:53.819Z"
   },
   {
    "duration": 71,
    "start_time": "2022-02-12T11:08:53.888Z"
   },
   {
    "duration": 55,
    "start_time": "2022-02-12T11:08:53.962Z"
   },
   {
    "duration": 69,
    "start_time": "2022-02-12T11:08:54.020Z"
   },
   {
    "duration": 39,
    "start_time": "2022-02-12T11:08:54.092Z"
   },
   {
    "duration": 18,
    "start_time": "2022-02-12T11:08:54.149Z"
   },
   {
    "duration": 48,
    "start_time": "2022-02-12T11:08:54.169Z"
   },
   {
    "duration": 43,
    "start_time": "2022-02-12T11:08:54.219Z"
   },
   {
    "duration": 12,
    "start_time": "2022-02-12T11:08:54.264Z"
   },
   {
    "duration": 9,
    "start_time": "2022-02-12T11:08:54.279Z"
   },
   {
    "duration": 26,
    "start_time": "2022-02-12T11:08:54.290Z"
   },
   {
    "duration": 44,
    "start_time": "2022-02-12T11:08:54.319Z"
   },
   {
    "duration": 30,
    "start_time": "2022-02-12T11:08:54.369Z"
   },
   {
    "duration": 2073,
    "start_time": "2022-02-12T11:08:54.402Z"
   },
   {
    "duration": 2184,
    "start_time": "2022-02-12T11:08:56.478Z"
   },
   {
    "duration": 2294,
    "start_time": "2022-02-12T11:08:58.665Z"
   },
   {
    "duration": 111,
    "start_time": "2022-02-12T11:09:00.962Z"
   },
   {
    "duration": 16,
    "start_time": "2022-02-12T11:09:01.076Z"
   },
   {
    "duration": 547,
    "start_time": "2022-02-12T11:09:01.095Z"
   },
   {
    "duration": 35,
    "start_time": "2022-02-12T11:09:01.609Z"
   },
   {
    "duration": 33,
    "start_time": "2022-02-12T11:09:01.613Z"
   },
   {
    "duration": 32,
    "start_time": "2022-02-12T11:09:01.615Z"
   },
   {
    "duration": 15,
    "start_time": "2022-02-12T11:09:33.836Z"
   },
   {
    "duration": 120,
    "start_time": "2022-02-12T11:09:33.854Z"
   },
   {
    "duration": 16,
    "start_time": "2022-02-12T11:09:33.978Z"
   },
   {
    "duration": 14,
    "start_time": "2022-02-12T11:09:33.998Z"
   },
   {
    "duration": 43,
    "start_time": "2022-02-12T11:09:34.015Z"
   },
   {
    "duration": 50,
    "start_time": "2022-02-12T11:09:49.870Z"
   }
  ],
  "kernelspec": {
   "display_name": "Python 3.9.13 64-bit",
   "language": "python",
   "name": "python3"
  },
  "language_info": {
   "codemirror_mode": {
    "name": "ipython",
    "version": 3
   },
   "file_extension": ".py",
   "mimetype": "text/x-python",
   "name": "python",
   "nbconvert_exporter": "python",
   "pygments_lexer": "ipython3",
   "version": "3.9.13"
  },
  "toc": {
   "base_numbering": 1,
   "nav_menu": {},
   "number_sections": true,
   "sideBar": true,
   "skip_h1_title": true,
   "title_cell": "Table of Contents",
   "title_sidebar": "Contents",
   "toc_cell": false,
   "toc_position": {},
   "toc_section_display": true,
   "toc_window_display": false
  },
  "vscode": {
   "interpreter": {
    "hash": "aee8b7b246df8f9039afb4144a1f6fd8d2ca17a180786b69acc140d282b71a49"
   }
  }
 },
 "nbformat": 4,
 "nbformat_minor": 2
}
